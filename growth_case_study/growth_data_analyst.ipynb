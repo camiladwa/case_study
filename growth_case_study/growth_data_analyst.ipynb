{
  "cells": [
    {
      "cell_type": "markdown",
      "source": "## Data Understanding and cleaning",
      "metadata": {
        "is_collapsed": false,
        "formattedRanges": [],
        "cell_id": "5714afeff0f941b88d88edb6c12248ca",
        "deepnote_cell_type": "text-cell-h2"
      },
      "block_group": "3ff01660dc3644e4a2d24d2342d37dd8"
    },
    {
      "cell_type": "markdown",
      "source": "#### App Open \n______________________________________________________",
      "metadata": {
        "cell_id": "61562f63ffd64d94ae3b9677b1f81bca",
        "deepnote_cell_type": "markdown"
      },
      "block_group": "d9a648fbec7349dfbdbe5f6e351e289c"
    },
    {
      "cell_type": "markdown",
      "source": "| Column        | Data Type         | Description                               | Unique Key|\n| ----------- | ----------- | ----------- | ----------- |\n| timestamp     |TIMESTAMP          |Timestamp when the app was opened          |No|\n| device_skey   |STRING             |Unique identifier for the device           |No|\n| session_skey  |STRING             |Unique identifier for the session          |No|\n| user_skey     |STRING             |Unique identifier for the users            |No|\n| is_first_app_open |BOOLEAN        |Indicator of whether it's the first time app open for the user |No|\n| platform      |STRING             |Platform on which the app was opened (e.g., android, apple) |No|\n| country_code  |STRING             |Country from which the app was opened (e.g., us, de) |No|",
      "metadata": {
        "cell_id": "72c7f247bbd64ec59178738d23633aa5",
        "deepnote_cell_type": "markdown"
      },
      "block_group": "2c3ddcbdd7514c00a5bdf8fbf67c60f6"
    },
    {
      "cell_type": "code",
      "source": "apps_open = _deepnote_execute_sql('SELECT \\n    timestamp AS date_time\\n    , device_skey::VARCHAR AS device_skey\\n    , session_skey::VARCHAR AS session_skey\\n    , user_skey::VARCHAR AS user_skey\\n    , is_first_app_open::BOOLEAN AS is_first_app_open\\n    , platform::VARCHAR AS platform\\n    , country_code::VARCHAR AS country_code\\nFROM \\'ps_challanges/growth_case_study/Datasets/App Opens.csv\\'', 'SQL_DEEPNOTE_DATAFRAME_SQL', audit_sql_comment='', sql_cache_mode='cache_disabled')\napps_open",
      "metadata": {
        "source_hash": "5d509def",
        "is_code_hidden": true,
        "execution_start": 1704718084702,
        "execution_millis": 2147,
        "sql_integration_id": "deepnote-dataframe-sql",
        "deepnote_table_state": {
          "sortBy": [],
          "filters": [],
          "pageSize": 5,
          "pageIndex": 0
        },
        "deepnote_table_invalid": false,
        "deepnote_table_loading": false,
        "deepnote_variable_name": "apps_open",
        "deepnote_app_coordinates": {
          "h": 120,
          "w": 12,
          "x": 0,
          "y": 0
        },
        "deepnote_to_be_reexecuted": false,
        "deepnote_app_is_code_hidden": true,
        "deepnote_app_is_output_hidden": true,
        "cell_id": "6172dcd1011549bcb76f2c3e49ccb6e8",
        "deepnote_cell_type": "sql",
        "deepnote_sql_source": "SELECT \n    timestamp AS date_time\n    , device_skey::VARCHAR AS device_skey\n    , session_skey::VARCHAR AS session_skey\n    , user_skey::VARCHAR AS user_skey\n    , is_first_app_open::BOOLEAN AS is_first_app_open\n    , platform::VARCHAR AS platform\n    , country_code::VARCHAR AS country_code\nFROM 'ps_challanges/growth_case_study/Datasets/App Opens.csv'"
      },
      "outputs": [
        {
          "data": {
            "application/vnd.deepnote.sql-output-metadata+json": {
              "status": "success_no_cache",
              "size_in_bytes": 70500064
            }
          },
          "metadata": {},
          "output_type": "display_data"
        },
        {
          "output_type": "execute_result",
          "execution_count": 1,
          "data": {
            "application/vnd.deepnote.dataframe.v3+json": {
              "column_count": 7,
              "row_count": 196090,
              "columns": [
                {
                  "name": "date_time",
                  "dtype": "datetime64[ns]"
                },
                {
                  "name": "device_skey",
                  "dtype": "object"
                },
                {
                  "name": "session_skey",
                  "dtype": "object"
                },
                {
                  "name": "user_skey",
                  "dtype": "object"
                },
                {
                  "name": "is_first_app_open",
                  "dtype": "bool"
                },
                {
                  "name": "platform",
                  "dtype": "object"
                },
                {
                  "name": "country_code",
                  "dtype": "object"
                },
                {
                  "name": "_deepnote_index_column",
                  "dtype": "int64"
                }
              ],
              "rows": [
                {
                  "date_time": "2023-11-08 02:07:19.673000",
                  "device_skey": "7891415701568881512",
                  "session_skey": "2011583431778737851",
                  "user_skey": "-8717167265529084706",
                  "is_first_app_open": "False",
                  "platform": "android",
                  "country_code": "br",
                  "_deepnote_index_column": 0
                },
                {
                  "date_time": "2023-11-08 06:26:35.953000",
                  "device_skey": "2841158506866498595",
                  "session_skey": "-710585864896703953",
                  "user_skey": "3858142552250413010",
                  "is_first_app_open": "False",
                  "platform": "android",
                  "country_code": "vn",
                  "_deepnote_index_column": 1
                },
                {
                  "date_time": "2023-11-08 11:00:09.578000",
                  "device_skey": "8319180276841915965",
                  "session_skey": "8851130170214692120",
                  "user_skey": "-6901249382849255824",
                  "is_first_app_open": "False",
                  "platform": "apple",
                  "country_code": "vn",
                  "_deepnote_index_column": 2
                },
                {
                  "date_time": "2023-11-08 17:03:55.775000",
                  "device_skey": "-7044717482868540199",
                  "session_skey": "2562809385083234043",
                  "user_skey": "42",
                  "is_first_app_open": "False",
                  "platform": "apple",
                  "country_code": "vn",
                  "_deepnote_index_column": 3
                },
                {
                  "date_time": "2023-11-08 10:09:35.170000",
                  "device_skey": "8330275025360404105",
                  "session_skey": "6269721242185127990",
                  "user_skey": "-8100364697395241128",
                  "is_first_app_open": "False",
                  "platform": "android",
                  "country_code": "de",
                  "_deepnote_index_column": 4
                }
              ]
            },
            "text/plain": "                     date_time           device_skey          session_skey  \\\n0      2023-11-08 02:07:19.673   7891415701568881512   2011583431778737851   \n1      2023-11-08 06:26:35.953   2841158506866498595   -710585864896703953   \n2      2023-11-08 11:00:09.578   8319180276841915965   8851130170214692120   \n3      2023-11-08 17:03:55.775  -7044717482868540199   2562809385083234043   \n4      2023-11-08 10:09:35.170   8330275025360404105   6269721242185127990   \n...                        ...                   ...                   ...   \n196085 2023-11-15 11:47:15.631  -1985881793666309748   1078423291596019483   \n196086 2023-11-15 15:24:53.931   2134527128238454256  -3747564580958942091   \n196087 2023-11-15 15:31:40.914  -2987017123302243105  -6832478710689874856   \n196088 2023-11-15 20:41:23.133   1438462127647457196  -5384106018072454101   \n196089 2023-11-15 15:52:43.503  -8712802945833965858   8760275016236232166   \n\n                   user_skey  is_first_app_open platform country_code  \n0       -8717167265529084706              False  android           br  \n1        3858142552250413010              False  android           vn  \n2       -6901249382849255824              False    apple           vn  \n3                         42              False    apple           vn  \n4       -8100364697395241128              False  android           de  \n...                      ...                ...      ...          ...  \n196085   3098934470375878848              False  android           br  \n196086  -8099055897267782491              False    apple           br  \n196087  -8250782251817560378              False  android           vn  \n196088    -46678441358607097              False  android           br  \n196089   3858142552250413010              False  android           br  \n\n[196090 rows x 7 columns]",
            "text/html": "<div>\n<style scoped>\n    .dataframe tbody tr th:only-of-type {\n        vertical-align: middle;\n    }\n\n    .dataframe tbody tr th {\n        vertical-align: top;\n    }\n\n    .dataframe thead th {\n        text-align: right;\n    }\n</style>\n<table border=\"1\" class=\"dataframe\">\n  <thead>\n    <tr style=\"text-align: right;\">\n      <th></th>\n      <th>date_time</th>\n      <th>device_skey</th>\n      <th>session_skey</th>\n      <th>user_skey</th>\n      <th>is_first_app_open</th>\n      <th>platform</th>\n      <th>country_code</th>\n    </tr>\n  </thead>\n  <tbody>\n    <tr>\n      <th>0</th>\n      <td>2023-11-08 02:07:19.673</td>\n      <td>7891415701568881512</td>\n      <td>2011583431778737851</td>\n      <td>-8717167265529084706</td>\n      <td>False</td>\n      <td>android</td>\n      <td>br</td>\n    </tr>\n    <tr>\n      <th>1</th>\n      <td>2023-11-08 06:26:35.953</td>\n      <td>2841158506866498595</td>\n      <td>-710585864896703953</td>\n      <td>3858142552250413010</td>\n      <td>False</td>\n      <td>android</td>\n      <td>vn</td>\n    </tr>\n    <tr>\n      <th>2</th>\n      <td>2023-11-08 11:00:09.578</td>\n      <td>8319180276841915965</td>\n      <td>8851130170214692120</td>\n      <td>-6901249382849255824</td>\n      <td>False</td>\n      <td>apple</td>\n      <td>vn</td>\n    </tr>\n    <tr>\n      <th>3</th>\n      <td>2023-11-08 17:03:55.775</td>\n      <td>-7044717482868540199</td>\n      <td>2562809385083234043</td>\n      <td>42</td>\n      <td>False</td>\n      <td>apple</td>\n      <td>vn</td>\n    </tr>\n    <tr>\n      <th>4</th>\n      <td>2023-11-08 10:09:35.170</td>\n      <td>8330275025360404105</td>\n      <td>6269721242185127990</td>\n      <td>-8100364697395241128</td>\n      <td>False</td>\n      <td>android</td>\n      <td>de</td>\n    </tr>\n    <tr>\n      <th>...</th>\n      <td>...</td>\n      <td>...</td>\n      <td>...</td>\n      <td>...</td>\n      <td>...</td>\n      <td>...</td>\n      <td>...</td>\n    </tr>\n    <tr>\n      <th>196085</th>\n      <td>2023-11-15 11:47:15.631</td>\n      <td>-1985881793666309748</td>\n      <td>1078423291596019483</td>\n      <td>3098934470375878848</td>\n      <td>False</td>\n      <td>android</td>\n      <td>br</td>\n    </tr>\n    <tr>\n      <th>196086</th>\n      <td>2023-11-15 15:24:53.931</td>\n      <td>2134527128238454256</td>\n      <td>-3747564580958942091</td>\n      <td>-8099055897267782491</td>\n      <td>False</td>\n      <td>apple</td>\n      <td>br</td>\n    </tr>\n    <tr>\n      <th>196087</th>\n      <td>2023-11-15 15:31:40.914</td>\n      <td>-2987017123302243105</td>\n      <td>-6832478710689874856</td>\n      <td>-8250782251817560378</td>\n      <td>False</td>\n      <td>android</td>\n      <td>vn</td>\n    </tr>\n    <tr>\n      <th>196088</th>\n      <td>2023-11-15 20:41:23.133</td>\n      <td>1438462127647457196</td>\n      <td>-5384106018072454101</td>\n      <td>-46678441358607097</td>\n      <td>False</td>\n      <td>android</td>\n      <td>br</td>\n    </tr>\n    <tr>\n      <th>196089</th>\n      <td>2023-11-15 15:52:43.503</td>\n      <td>-8712802945833965858</td>\n      <td>8760275016236232166</td>\n      <td>3858142552250413010</td>\n      <td>False</td>\n      <td>android</td>\n      <td>br</td>\n    </tr>\n  </tbody>\n</table>\n<p>196090 rows × 7 columns</p>\n</div>"
          },
          "metadata": {}
        }
      ],
      "execution_count": 1,
      "block_group": "2c3ddcbdd7514c00a5bdf8fbf67c60f6"
    },
    {
      "cell_type": "markdown",
      "source": "#### Events\n______________________________________________________\n",
      "metadata": {
        "cell_id": "6830a44c1857434192e55951eba9d83d",
        "deepnote_cell_type": "markdown"
      },
      "block_group": "4a1fe3236b544c289c6cc42a5b143231"
    },
    {
      "cell_type": "markdown",
      "source": "| Column| Data Type| Description| Unique Key|\n| ----------- | ----------- | ----------- | ----------- |\nevent_name |STRING |Type of event occurred |No\ntimestamp |TIMESTAMP |Timestamp when the event occurred |No\nevent_skey |STRING |Unique identifier for the event |Yes\ndevice_skey |STRING |Unique identifier for the device |No\nuser_skey |STRING |Unique identifier for the user |No\nsession_skey |STRING |Unique identifier for the session |No\nplatform |STRING |Platform on which the event occurred (e.g., android, apple) |No\nsource |STRING |Source screen from which the event was triggered |No\ncountry_code |STRING |Country from which the app was opened (e.g., us, de) | No",
      "metadata": {
        "cell_id": "6aac95472b0245499b79b1f5004e5819",
        "deepnote_cell_type": "markdown"
      },
      "block_group": "48c17b3905774f0fb4c4206d7f39fc64"
    },
    {
      "cell_type": "code",
      "source": "events = _deepnote_execute_sql('SELECT \\n    event_name::STRING AS event_name\\n    , epoch_ms(timestamp) AS date_time\\n    , event_skey::STRING AS event_skey\\n    , device_skey::STRING AS device_skey\\n    , NULLIF(user_skey, \\'null\\')::STRING AS user_skey\\n    , NULLIF(session_skey, \\'null\\')::STRING AS session_skey\\n    , platform::STRING AS platform\\n    , source::STRING AS source\\n    , country_code::STRING AS country_code\\nFROM \\'ps_challanges/growth_case_study/Datasets/Events.csv\\'', 'SQL_DEEPNOTE_DATAFRAME_SQL', audit_sql_comment='', sql_cache_mode='cache_disabled')\nevents",
      "metadata": {
        "source_hash": "d223bd5d",
        "is_code_hidden": true,
        "execution_start": 1704718086844,
        "execution_millis": 5993,
        "sql_integration_id": "deepnote-dataframe-sql",
        "deepnote_table_state": {
          "sortBy": [],
          "filters": [],
          "pageSize": 5,
          "pageIndex": 0
        },
        "deepnote_table_loading": false,
        "deepnote_variable_name": "events",
        "deepnote_app_coordinates": {
          "h": 120,
          "w": 12,
          "x": 0,
          "y": 0
        },
        "deepnote_to_be_reexecuted": false,
        "deepnote_app_is_code_hidden": true,
        "deepnote_app_is_output_hidden": true,
        "cell_id": "3a6aa437b1924f10b73510fbc792cc7a",
        "deepnote_cell_type": "sql",
        "deepnote_sql_source": "SELECT \n    event_name::STRING AS event_name\n    , epoch_ms(timestamp) AS date_time\n    , event_skey::STRING AS event_skey\n    , device_skey::STRING AS device_skey\n    , NULLIF(user_skey, 'null')::STRING AS user_skey\n    , NULLIF(session_skey, 'null')::STRING AS session_skey\n    , platform::STRING AS platform\n    , source::STRING AS source\n    , country_code::STRING AS country_code\nFROM 'ps_challanges/growth_case_study/Datasets/Events.csv'"
      },
      "outputs": [
        {
          "data": {
            "application/vnd.deepnote.sql-output-metadata+json": {
              "status": "success_no_cache",
              "size_in_bytes": 427945700
            }
          },
          "metadata": {},
          "output_type": "display_data"
        },
        {
          "output_type": "execute_result",
          "execution_count": 2,
          "data": {
            "application/vnd.deepnote.dataframe.v3+json": {
              "column_count": 9,
              "row_count": 762103,
              "columns": [
                {
                  "name": "event_name",
                  "dtype": "object"
                },
                {
                  "name": "date_time",
                  "dtype": "datetime64[ns]"
                },
                {
                  "name": "event_skey",
                  "dtype": "object"
                },
                {
                  "name": "device_skey",
                  "dtype": "object"
                },
                {
                  "name": "user_skey",
                  "dtype": "object"
                },
                {
                  "name": "session_skey",
                  "dtype": "object"
                },
                {
                  "name": "platform",
                  "dtype": "object"
                },
                {
                  "name": "source",
                  "dtype": "object"
                },
                {
                  "name": "country_code",
                  "dtype": "object"
                },
                {
                  "name": "_deepnote_index_column",
                  "dtype": "int64"
                }
              ],
              "rows": [
                {
                  "event_name": "registration_open",
                  "date_time": "2023-11-11 03:32:05.905000",
                  "event_skey": "-927509160255567445",
                  "device_skey": "-724186991312688217",
                  "user_skey": "None",
                  "session_skey": "5342905048311674142",
                  "platform": "apple",
                  "source": "app_start",
                  "country_code": "vn",
                  "_deepnote_index_column": 0
                },
                {
                  "event_name": "registration_open",
                  "date_time": "2023-11-11 03:16:02.636000",
                  "event_skey": "6726005894254876970",
                  "device_skey": "167579040429311423",
                  "user_skey": "None",
                  "session_skey": "1033335939576521366",
                  "platform": "android",
                  "source": "app_start",
                  "country_code": "vn",
                  "_deepnote_index_column": 1
                },
                {
                  "event_name": "registration_open",
                  "date_time": "2023-11-10 15:18:40.465000",
                  "event_skey": "-2921948449119298022",
                  "device_skey": "-753449636207296314",
                  "user_skey": "None",
                  "session_skey": "7698330632377898188",
                  "platform": "apple",
                  "source": "app_start",
                  "country_code": "vn",
                  "_deepnote_index_column": 2
                },
                {
                  "event_name": "registration_open",
                  "date_time": "2023-11-10 15:46:26.774000",
                  "event_skey": "920368455108193822",
                  "device_skey": "6151555484025284746",
                  "user_skey": "None",
                  "session_skey": "1455590834684669000",
                  "platform": "android",
                  "source": "user_profile",
                  "country_code": "br",
                  "_deepnote_index_column": 3
                },
                {
                  "event_name": "registration_open",
                  "date_time": "2023-11-10 15:46:35.428000",
                  "event_skey": "4301569710999595535",
                  "device_skey": "6151555484025284746",
                  "user_skey": "None",
                  "session_skey": "1455590834684669000",
                  "platform": "android",
                  "source": "user_profile",
                  "country_code": "br",
                  "_deepnote_index_column": 4
                }
              ]
            },
            "text/plain": "               event_name               date_time            event_skey  \\\n0       registration_open 2023-11-11 03:32:05.905   -927509160255567445   \n1       registration_open 2023-11-11 03:16:02.636   6726005894254876970   \n2       registration_open 2023-11-10 15:18:40.465  -2921948449119298022   \n3       registration_open 2023-11-10 15:46:26.774    920368455108193822   \n4       registration_open 2023-11-10 15:46:35.428   4301569710999595535   \n...                   ...                     ...                   ...   \n762098      object_export 2023-11-06 03:19:28.217   8762455078106490544   \n762099      object_export 2023-11-06 03:19:33.857   1236197224848669172   \n762100      object_export 2023-11-06 00:40:15.840  -1128268909705829967   \n762101      object_export 2023-11-06 03:46:08.259  -5041445763328466000   \n762102      object_export 2023-11-06 05:24:32.892  -6986696981001780815   \n\n                 device_skey             user_skey          session_skey  \\\n0        -724186991312688217                  None   5342905048311674142   \n1         167579040429311423                  None   1033335939576521366   \n2        -753449636207296314                  None   7698330632377898188   \n3        6151555484025284746                  None   1455590834684669000   \n4        6151555484025284746                  None   1455590834684669000   \n...                      ...                   ...                   ...   \n762098   -218442561903040844  -7394739150698595004   4931081474184387585   \n762099  -8953068508614011099  -5616148740068329164   1939940093157332532   \n762100   7622198276030932501  -4476277103857062859   -914698409805777184   \n762101  -2972284481220770541   5642301744160861251  -2767914012090684930   \n762102   5063049973356317922  -1673568955619467978   -617241668950774295   \n\n       platform              source country_code  \n0         apple           app_start           vn  \n1       android           app_start           vn  \n2         apple           app_start           vn  \n3       android        user_profile           br  \n4       android        user_profile           br  \n...         ...                 ...          ...  \n762098    apple       editor_screen           vn  \n762099    apple  editor_add_objects           vn  \n762100    apple        share_screen           br  \n762101  android  editor_add_objects           eg  \n762102    apple     editor_beautify           vn  \n\n[762103 rows x 9 columns]",
            "text/html": "<div>\n<style scoped>\n    .dataframe tbody tr th:only-of-type {\n        vertical-align: middle;\n    }\n\n    .dataframe tbody tr th {\n        vertical-align: top;\n    }\n\n    .dataframe thead th {\n        text-align: right;\n    }\n</style>\n<table border=\"1\" class=\"dataframe\">\n  <thead>\n    <tr style=\"text-align: right;\">\n      <th></th>\n      <th>event_name</th>\n      <th>date_time</th>\n      <th>event_skey</th>\n      <th>device_skey</th>\n      <th>user_skey</th>\n      <th>session_skey</th>\n      <th>platform</th>\n      <th>source</th>\n      <th>country_code</th>\n    </tr>\n  </thead>\n  <tbody>\n    <tr>\n      <th>0</th>\n      <td>registration_open</td>\n      <td>2023-11-11 03:32:05.905</td>\n      <td>-927509160255567445</td>\n      <td>-724186991312688217</td>\n      <td>None</td>\n      <td>5342905048311674142</td>\n      <td>apple</td>\n      <td>app_start</td>\n      <td>vn</td>\n    </tr>\n    <tr>\n      <th>1</th>\n      <td>registration_open</td>\n      <td>2023-11-11 03:16:02.636</td>\n      <td>6726005894254876970</td>\n      <td>167579040429311423</td>\n      <td>None</td>\n      <td>1033335939576521366</td>\n      <td>android</td>\n      <td>app_start</td>\n      <td>vn</td>\n    </tr>\n    <tr>\n      <th>2</th>\n      <td>registration_open</td>\n      <td>2023-11-10 15:18:40.465</td>\n      <td>-2921948449119298022</td>\n      <td>-753449636207296314</td>\n      <td>None</td>\n      <td>7698330632377898188</td>\n      <td>apple</td>\n      <td>app_start</td>\n      <td>vn</td>\n    </tr>\n    <tr>\n      <th>3</th>\n      <td>registration_open</td>\n      <td>2023-11-10 15:46:26.774</td>\n      <td>920368455108193822</td>\n      <td>6151555484025284746</td>\n      <td>None</td>\n      <td>1455590834684669000</td>\n      <td>android</td>\n      <td>user_profile</td>\n      <td>br</td>\n    </tr>\n    <tr>\n      <th>4</th>\n      <td>registration_open</td>\n      <td>2023-11-10 15:46:35.428</td>\n      <td>4301569710999595535</td>\n      <td>6151555484025284746</td>\n      <td>None</td>\n      <td>1455590834684669000</td>\n      <td>android</td>\n      <td>user_profile</td>\n      <td>br</td>\n    </tr>\n    <tr>\n      <th>...</th>\n      <td>...</td>\n      <td>...</td>\n      <td>...</td>\n      <td>...</td>\n      <td>...</td>\n      <td>...</td>\n      <td>...</td>\n      <td>...</td>\n      <td>...</td>\n    </tr>\n    <tr>\n      <th>762098</th>\n      <td>object_export</td>\n      <td>2023-11-06 03:19:28.217</td>\n      <td>8762455078106490544</td>\n      <td>-218442561903040844</td>\n      <td>-7394739150698595004</td>\n      <td>4931081474184387585</td>\n      <td>apple</td>\n      <td>editor_screen</td>\n      <td>vn</td>\n    </tr>\n    <tr>\n      <th>762099</th>\n      <td>object_export</td>\n      <td>2023-11-06 03:19:33.857</td>\n      <td>1236197224848669172</td>\n      <td>-8953068508614011099</td>\n      <td>-5616148740068329164</td>\n      <td>1939940093157332532</td>\n      <td>apple</td>\n      <td>editor_add_objects</td>\n      <td>vn</td>\n    </tr>\n    <tr>\n      <th>762100</th>\n      <td>object_export</td>\n      <td>2023-11-06 00:40:15.840</td>\n      <td>-1128268909705829967</td>\n      <td>7622198276030932501</td>\n      <td>-4476277103857062859</td>\n      <td>-914698409805777184</td>\n      <td>apple</td>\n      <td>share_screen</td>\n      <td>br</td>\n    </tr>\n    <tr>\n      <th>762101</th>\n      <td>object_export</td>\n      <td>2023-11-06 03:46:08.259</td>\n      <td>-5041445763328466000</td>\n      <td>-2972284481220770541</td>\n      <td>5642301744160861251</td>\n      <td>-2767914012090684930</td>\n      <td>android</td>\n      <td>editor_add_objects</td>\n      <td>eg</td>\n    </tr>\n    <tr>\n      <th>762102</th>\n      <td>object_export</td>\n      <td>2023-11-06 05:24:32.892</td>\n      <td>-6986696981001780815</td>\n      <td>5063049973356317922</td>\n      <td>-1673568955619467978</td>\n      <td>-617241668950774295</td>\n      <td>apple</td>\n      <td>editor_beautify</td>\n      <td>vn</td>\n    </tr>\n  </tbody>\n</table>\n<p>762103 rows × 9 columns</p>\n</div>"
          },
          "metadata": {}
        }
      ],
      "execution_count": 2,
      "block_group": "48c17b3905774f0fb4c4206d7f39fc64"
    },
    {
      "cell_type": "markdown",
      "source": "#### Visitors\n______________________________________________________",
      "metadata": {
        "deepnote_app_coordinates": {
          "h": 120,
          "w": 12,
          "x": 0,
          "y": 0
        },
        "cell_id": "545e2db99db442ca9d46ba31aeed78dd",
        "deepnote_cell_type": "markdown"
      },
      "block_group": "d9eef6e27f634caab05965eafa6d0abe"
    },
    {
      "cell_type": "markdown",
      "source": "| Column| Data Type| Description| Unique Key|\n| ----------- | ----------- | ----------- | ----------- |\n|Date |STRING| Date of visit | yes\nStore Visitors. Source: search | BIGINT |Number of store visitors from the source search |No\nStore Visitors. Source: explore | BIGINT |Number of store visitors from the source explore |No\nStore Visitors. Source: referrals | BIGINT |Number of store visitors from the source referrals |No",
      "metadata": {
        "cell_id": "4531fb6f8ce347e5b5dfc157c45b5fed",
        "deepnote_cell_type": "markdown"
      },
      "block_group": "81d7a103f59d497d980d3a9bb70c8e11"
    },
    {
      "cell_type": "code",
      "source": "visitors = _deepnote_execute_sql('SELECT \\n    Date AS date_time\\n    , \"Store Visitors. Source: search\"::BIGINT AS store_visitors_source_search\\n    , \"Store Visitors. Source: explore\"::BIGINT AS store_visitors_source_explore\\n    , \"Store Visitors. Source: referrals\"::BIGINT AS store_visitors_source_referrals\\nFROM \\'ps_challanges/growth_case_study/Datasets/store_visitors.csv\\'', 'SQL_DEEPNOTE_DATAFRAME_SQL', audit_sql_comment='', sql_cache_mode='cache_disabled')\nvisitors",
      "metadata": {
        "source_hash": "b800fe29",
        "is_code_hidden": true,
        "execution_start": 1704718093006,
        "execution_millis": 263,
        "sql_integration_id": "deepnote-dataframe-sql",
        "deepnote_table_state": {
          "sortBy": [
            {
              "id": "date_time",
              "type": "asc"
            }
          ],
          "filters": [],
          "pageSize": 5,
          "pageIndex": 0
        },
        "deepnote_table_loading": false,
        "deepnote_variable_name": "visitors",
        "deepnote_app_coordinates": {
          "h": 120,
          "w": 12,
          "x": 0,
          "y": 0
        },
        "deepnote_to_be_reexecuted": false,
        "deepnote_app_is_code_hidden": true,
        "deepnote_app_is_output_hidden": true,
        "cell_id": "277011b7f77f4208a14378cdb069ce85",
        "deepnote_cell_type": "sql",
        "deepnote_sql_source": "SELECT \n    Date AS date_time\n    , \"Store Visitors. Source: search\"::BIGINT AS store_visitors_source_search\n    , \"Store Visitors. Source: explore\"::BIGINT AS store_visitors_source_explore\n    , \"Store Visitors. Source: referrals\"::BIGINT AS store_visitors_source_referrals\nFROM 'ps_challanges/growth_case_study/Datasets/store_visitors.csv'"
      },
      "outputs": [
        {
          "data": {
            "application/vnd.deepnote.sql-output-metadata+json": {
              "status": "success_no_cache",
              "size_in_bytes": 2048
            }
          },
          "metadata": {},
          "output_type": "display_data"
        },
        {
          "output_type": "execute_result",
          "execution_count": 3,
          "data": {
            "application/vnd.deepnote.dataframe.v3+json": {
              "column_count": 4,
              "row_count": 30,
              "columns": [
                {
                  "name": "date_time",
                  "dtype": "object",
                  "stats": {
                    "unique_count": 30,
                    "nan_count": 0,
                    "categories": [
                      {
                        "name": "2023-11-01",
                        "count": 1
                      },
                      {
                        "name": "2023-11-02",
                        "count": 1
                      },
                      {
                        "name": "28 others",
                        "count": 28
                      }
                    ]
                  }
                },
                {
                  "name": "store_visitors_source_search",
                  "dtype": "int64",
                  "stats": {
                    "unique_count": 13,
                    "nan_count": 0,
                    "min": "1",
                    "max": "852",
                    "histogram": [
                      {
                        "bin_start": 1,
                        "bin_end": 86.1,
                        "count": 26
                      },
                      {
                        "bin_start": 86.1,
                        "bin_end": 171.2,
                        "count": 0
                      },
                      {
                        "bin_start": 171.2,
                        "bin_end": 256.29999999999995,
                        "count": 0
                      },
                      {
                        "bin_start": 256.29999999999995,
                        "bin_end": 341.4,
                        "count": 1
                      },
                      {
                        "bin_start": 341.4,
                        "bin_end": 426.5,
                        "count": 0
                      },
                      {
                        "bin_start": 426.5,
                        "bin_end": 511.59999999999997,
                        "count": 1
                      },
                      {
                        "bin_start": 511.59999999999997,
                        "bin_end": 596.6999999999999,
                        "count": 0
                      },
                      {
                        "bin_start": 596.6999999999999,
                        "bin_end": 681.8,
                        "count": 0
                      },
                      {
                        "bin_start": 681.8,
                        "bin_end": 766.9,
                        "count": 0
                      },
                      {
                        "bin_start": 766.9,
                        "bin_end": 852,
                        "count": 2
                      }
                    ]
                  }
                },
                {
                  "name": "store_visitors_source_explore",
                  "dtype": "int64",
                  "stats": {
                    "unique_count": 18,
                    "nan_count": 0,
                    "min": "2",
                    "max": "663",
                    "histogram": [
                      {
                        "bin_start": 2,
                        "bin_end": 68.1,
                        "count": 29
                      },
                      {
                        "bin_start": 68.1,
                        "bin_end": 134.2,
                        "count": 0
                      },
                      {
                        "bin_start": 134.2,
                        "bin_end": 200.29999999999998,
                        "count": 0
                      },
                      {
                        "bin_start": 200.29999999999998,
                        "bin_end": 266.4,
                        "count": 0
                      },
                      {
                        "bin_start": 266.4,
                        "bin_end": 332.5,
                        "count": 0
                      },
                      {
                        "bin_start": 332.5,
                        "bin_end": 398.59999999999997,
                        "count": 0
                      },
                      {
                        "bin_start": 398.59999999999997,
                        "bin_end": 464.69999999999993,
                        "count": 0
                      },
                      {
                        "bin_start": 464.69999999999993,
                        "bin_end": 530.8,
                        "count": 0
                      },
                      {
                        "bin_start": 530.8,
                        "bin_end": 596.9,
                        "count": 0
                      },
                      {
                        "bin_start": 596.9,
                        "bin_end": 663,
                        "count": 1
                      }
                    ]
                  }
                },
                {
                  "name": "store_visitors_source_referrals",
                  "dtype": "int64",
                  "stats": {
                    "unique_count": 12,
                    "nan_count": 0,
                    "min": "2",
                    "max": "938",
                    "histogram": [
                      {
                        "bin_start": 2,
                        "bin_end": 95.6,
                        "count": 26
                      },
                      {
                        "bin_start": 95.6,
                        "bin_end": 189.2,
                        "count": 0
                      },
                      {
                        "bin_start": 189.2,
                        "bin_end": 282.79999999999995,
                        "count": 0
                      },
                      {
                        "bin_start": 282.79999999999995,
                        "bin_end": 376.4,
                        "count": 1
                      },
                      {
                        "bin_start": 376.4,
                        "bin_end": 470,
                        "count": 1
                      },
                      {
                        "bin_start": 470,
                        "bin_end": 563.5999999999999,
                        "count": 0
                      },
                      {
                        "bin_start": 563.5999999999999,
                        "bin_end": 657.1999999999999,
                        "count": 0
                      },
                      {
                        "bin_start": 657.1999999999999,
                        "bin_end": 750.8,
                        "count": 0
                      },
                      {
                        "bin_start": 750.8,
                        "bin_end": 844.4,
                        "count": 1
                      },
                      {
                        "bin_start": 844.4,
                        "bin_end": 938,
                        "count": 1
                      }
                    ]
                  }
                },
                {
                  "name": "_deepnote_index_column",
                  "dtype": "int64"
                }
              ],
              "rows": [
                {
                  "date_time": "2023-11-01",
                  "store_visitors_source_search": 6,
                  "store_visitors_source_explore": 6,
                  "store_visitors_source_referrals": 5,
                  "_deepnote_index_column": 0
                },
                {
                  "date_time": "2023-11-02",
                  "store_visitors_source_search": 7,
                  "store_visitors_source_explore": 8,
                  "store_visitors_source_referrals": 7,
                  "_deepnote_index_column": 1
                },
                {
                  "date_time": "2023-11-03",
                  "store_visitors_source_search": 3,
                  "store_visitors_source_explore": 3,
                  "store_visitors_source_referrals": 2,
                  "_deepnote_index_column": 2
                },
                {
                  "date_time": "2023-11-04",
                  "store_visitors_source_search": 286,
                  "store_visitors_source_explore": 3,
                  "store_visitors_source_referrals": 3,
                  "_deepnote_index_column": 3
                },
                {
                  "date_time": "2023-11-05",
                  "store_visitors_source_search": 7,
                  "store_visitors_source_explore": 9,
                  "store_visitors_source_referrals": 6,
                  "_deepnote_index_column": 4
                }
              ]
            },
            "text/plain": "     date_time  store_visitors_source_search  store_visitors_source_explore  \\\n0   2023-11-01                             6                              6   \n1   2023-11-02                             7                              8   \n2   2023-11-03                             3                              3   \n3   2023-11-04                           286                              3   \n4   2023-11-05                             7                              9   \n5   2023-11-06                             2                              4   \n6   2023-11-07                             4                              7   \n7   2023-11-08                             1                              3   \n8   2023-11-09                             6                             12   \n9   2023-11-10                             8                             15   \n10  2023-11-11                             4                             13   \n11  2023-11-12                             3                             11   \n12  2023-11-13                             4                             16   \n13  2023-11-14                             6                             26   \n14  2023-11-15                             2                              8   \n15  2023-11-16                             4                             22   \n16  2023-11-17                             3                             10   \n17  2023-11-18                             5                              9   \n18  2023-11-19                             3                              4   \n19  2023-11-20                             3                              5   \n20  2023-11-21                             6                             12   \n21  2023-11-22                           852                             18   \n22  2023-11-23                             3                            663   \n23  2023-11-24                           467                              8   \n24  2023-11-25                             3                              5   \n25  2023-11-26                             6                             12   \n26  2023-11-27                           803                              2   \n27  2023-11-28                             6                             13   \n28  2023-11-29                             3                              6   \n29  2023-11-30                            23                              6   \n\n    store_visitors_source_referrals  \n0                                 5  \n1                                 7  \n2                                 2  \n3                                 3  \n4                                 6  \n5                                 2  \n6                                 4  \n7                                 2  \n8                                 6  \n9                                 7  \n10                                4  \n11                              311  \n12                               54  \n13                                9  \n14                                3  \n15                                7  \n16                                4  \n17                                6  \n18                                3  \n19                                4  \n20                                7  \n21                              938  \n22                                4  \n23                                6  \n24                              379  \n25                                7  \n26                              835  \n27                                5  \n28                                3  \n29                                2  ",
            "text/html": "<div>\n<style scoped>\n    .dataframe tbody tr th:only-of-type {\n        vertical-align: middle;\n    }\n\n    .dataframe tbody tr th {\n        vertical-align: top;\n    }\n\n    .dataframe thead th {\n        text-align: right;\n    }\n</style>\n<table border=\"1\" class=\"dataframe\">\n  <thead>\n    <tr style=\"text-align: right;\">\n      <th></th>\n      <th>date_time</th>\n      <th>store_visitors_source_search</th>\n      <th>store_visitors_source_explore</th>\n      <th>store_visitors_source_referrals</th>\n    </tr>\n  </thead>\n  <tbody>\n    <tr>\n      <th>0</th>\n      <td>2023-11-01</td>\n      <td>6</td>\n      <td>6</td>\n      <td>5</td>\n    </tr>\n    <tr>\n      <th>1</th>\n      <td>2023-11-02</td>\n      <td>7</td>\n      <td>8</td>\n      <td>7</td>\n    </tr>\n    <tr>\n      <th>2</th>\n      <td>2023-11-03</td>\n      <td>3</td>\n      <td>3</td>\n      <td>2</td>\n    </tr>\n    <tr>\n      <th>3</th>\n      <td>2023-11-04</td>\n      <td>286</td>\n      <td>3</td>\n      <td>3</td>\n    </tr>\n    <tr>\n      <th>4</th>\n      <td>2023-11-05</td>\n      <td>7</td>\n      <td>9</td>\n      <td>6</td>\n    </tr>\n    <tr>\n      <th>5</th>\n      <td>2023-11-06</td>\n      <td>2</td>\n      <td>4</td>\n      <td>2</td>\n    </tr>\n    <tr>\n      <th>6</th>\n      <td>2023-11-07</td>\n      <td>4</td>\n      <td>7</td>\n      <td>4</td>\n    </tr>\n    <tr>\n      <th>7</th>\n      <td>2023-11-08</td>\n      <td>1</td>\n      <td>3</td>\n      <td>2</td>\n    </tr>\n    <tr>\n      <th>8</th>\n      <td>2023-11-09</td>\n      <td>6</td>\n      <td>12</td>\n      <td>6</td>\n    </tr>\n    <tr>\n      <th>9</th>\n      <td>2023-11-10</td>\n      <td>8</td>\n      <td>15</td>\n      <td>7</td>\n    </tr>\n    <tr>\n      <th>10</th>\n      <td>2023-11-11</td>\n      <td>4</td>\n      <td>13</td>\n      <td>4</td>\n    </tr>\n    <tr>\n      <th>11</th>\n      <td>2023-11-12</td>\n      <td>3</td>\n      <td>11</td>\n      <td>311</td>\n    </tr>\n    <tr>\n      <th>12</th>\n      <td>2023-11-13</td>\n      <td>4</td>\n      <td>16</td>\n      <td>54</td>\n    </tr>\n    <tr>\n      <th>13</th>\n      <td>2023-11-14</td>\n      <td>6</td>\n      <td>26</td>\n      <td>9</td>\n    </tr>\n    <tr>\n      <th>14</th>\n      <td>2023-11-15</td>\n      <td>2</td>\n      <td>8</td>\n      <td>3</td>\n    </tr>\n    <tr>\n      <th>15</th>\n      <td>2023-11-16</td>\n      <td>4</td>\n      <td>22</td>\n      <td>7</td>\n    </tr>\n    <tr>\n      <th>16</th>\n      <td>2023-11-17</td>\n      <td>3</td>\n      <td>10</td>\n      <td>4</td>\n    </tr>\n    <tr>\n      <th>17</th>\n      <td>2023-11-18</td>\n      <td>5</td>\n      <td>9</td>\n      <td>6</td>\n    </tr>\n    <tr>\n      <th>18</th>\n      <td>2023-11-19</td>\n      <td>3</td>\n      <td>4</td>\n      <td>3</td>\n    </tr>\n    <tr>\n      <th>19</th>\n      <td>2023-11-20</td>\n      <td>3</td>\n      <td>5</td>\n      <td>4</td>\n    </tr>\n    <tr>\n      <th>20</th>\n      <td>2023-11-21</td>\n      <td>6</td>\n      <td>12</td>\n      <td>7</td>\n    </tr>\n    <tr>\n      <th>21</th>\n      <td>2023-11-22</td>\n      <td>852</td>\n      <td>18</td>\n      <td>938</td>\n    </tr>\n    <tr>\n      <th>22</th>\n      <td>2023-11-23</td>\n      <td>3</td>\n      <td>663</td>\n      <td>4</td>\n    </tr>\n    <tr>\n      <th>23</th>\n      <td>2023-11-24</td>\n      <td>467</td>\n      <td>8</td>\n      <td>6</td>\n    </tr>\n    <tr>\n      <th>24</th>\n      <td>2023-11-25</td>\n      <td>3</td>\n      <td>5</td>\n      <td>379</td>\n    </tr>\n    <tr>\n      <th>25</th>\n      <td>2023-11-26</td>\n      <td>6</td>\n      <td>12</td>\n      <td>7</td>\n    </tr>\n    <tr>\n      <th>26</th>\n      <td>2023-11-27</td>\n      <td>803</td>\n      <td>2</td>\n      <td>835</td>\n    </tr>\n    <tr>\n      <th>27</th>\n      <td>2023-11-28</td>\n      <td>6</td>\n      <td>13</td>\n      <td>5</td>\n    </tr>\n    <tr>\n      <th>28</th>\n      <td>2023-11-29</td>\n      <td>3</td>\n      <td>6</td>\n      <td>3</td>\n    </tr>\n    <tr>\n      <th>29</th>\n      <td>2023-11-30</td>\n      <td>23</td>\n      <td>6</td>\n      <td>2</td>\n    </tr>\n  </tbody>\n</table>\n</div>"
          },
          "metadata": {}
        }
      ],
      "execution_count": 3,
      "block_group": "81d7a103f59d497d980d3a9bb70c8e11"
    },
    {
      "cell_type": "markdown",
      "source": "## Part 1 - SQL",
      "metadata": {
        "formattedRanges": [],
        "cell_id": "e08087a114ed499096526d0526cdf19a",
        "deepnote_cell_type": "text-cell-h2"
      },
      "block_group": "d6367bb00e2340f094a33ecc7ebdb59f"
    },
    {
      "cell_type": "markdown",
      "source": "### First session funnel",
      "metadata": {
        "is_collapsed": false,
        "formattedRanges": [],
        "deepnote_app_coordinates": {
          "h": 120,
          "w": 12,
          "x": 0,
          "y": 0
        },
        "cell_id": "d3e91c2e0d3e4d349404c00b26c92c2f",
        "deepnote_cell_type": "text-cell-h3"
      },
      "block_group": "5cbfea2ab19a49eead831ab58bef2497"
    },
    {
      "cell_type": "markdown",
      "source": "> 1- Write an SQL query to derive the first session funnel per platform from the provided dataset using all available events. The first funnel step is the user’s first app open.",
      "metadata": {
        "formattedRanges": [],
        "cell_id": "9adef387e239481fa31fab91e50c2619",
        "deepnote_cell_type": "text-cell-callout"
      },
      "block_group": "bd4ee5ce946548b1bb967ba3469d04d4"
    },
    {
      "cell_type": "code",
      "source": "new_users = _deepnote_execute_sql('WITH base AS (\\nSELECT  DISTINCT\\nsession_skey\\n, user_skey\\n, platform\\nFROM events\\nWHERE session_skey IN (SELECT DISTINCT session_skey FROM apps_open WHERE is_first_app_open = TRUE)\\nAND user_skey IS NOT NULL\\n)\\n\\n, all_events AS (\\n    SELECT DISTINCT \\n    base.session_skey\\n    , base.user_skey\\n    , base.platform\\n    , e.date_time::timestamp AS date_time\\n    , e.event_name\\n    , e.source\\n    FROM base\\n    INNER JOIN events e USING(session_skey)\\n\\n    UNION ALL\\n\\n    SELECT DISTINCT \\n    base.session_skey\\n    , base.user_skey\\n    , base.platform\\n    , a.date_time::timestamp AS date_time\\n    , \\'first_app_open\\' AS event_name\\n    , \\'new\\' AS source\\n    FROM base\\n    INNER JOIN apps_open a USING(session_skey)\\n)\\n\\n\\n, minmax AS (\\nSELECT \\n    *\\n    , LAG(event_name) OVER (PARTITION BY session_skey ORDER BY date_time) AS prev_event\\n    , MIN(date_time) OVER (PARTITION BY session_skey) AS first_touch\\n    , MAX(date_time) OVER (PARTITION BY session_skey) AS last_touch\\nFROM all_events\\nORDER BY user_skey, date_time desc\\n)\\n\\n--- Order the events by time\\nSELECT DISTINCT \\n    *\\n    , RANK() OVER (PARTITION BY session_skey ORDER BY date_time) AS step_num\\n    , RIGHT(100+step_num, 2) AS funnel_step\\nFROM minmax\\nWHERE prev_event != event_name\\nORDER BY session_skey, date_time asc\\n', 'SQL_DEEPNOTE_DATAFRAME_SQL', audit_sql_comment='', sql_cache_mode='cache_disabled')\nnew_users",
      "metadata": {
        "source_hash": "aa6cca47",
        "is_code_hidden": true,
        "execution_start": 1704718093268,
        "execution_millis": 198,
        "is_output_hidden": true,
        "sql_integration_id": "deepnote-dataframe-sql",
        "deepnote_table_state": {
          "sortBy": [
            {
              "id": "date_time",
              "type": "asc"
            }
          ],
          "filters": [],
          "pageSize": 5,
          "pageIndex": 0
        },
        "deepnote_table_loading": false,
        "deepnote_variable_name": "new_users",
        "deepnote_app_coordinates": {
          "h": 120,
          "w": 12,
          "x": 0,
          "y": 0
        },
        "deepnote_to_be_reexecuted": false,
        "deepnote_app_is_code_hidden": true,
        "deepnote_app_is_output_hidden": true,
        "cell_id": "715193bb7f2440699bad13e8524161d7",
        "deepnote_cell_type": "sql",
        "deepnote_sql_source": "WITH base AS (\nSELECT  DISTINCT\nsession_skey\n, user_skey\n, platform\nFROM events\nWHERE session_skey IN (SELECT DISTINCT session_skey FROM apps_open WHERE is_first_app_open = TRUE)\nAND user_skey IS NOT NULL\n)\n\n, all_events AS (\n    SELECT DISTINCT \n    base.session_skey\n    , base.user_skey\n    , base.platform\n    , e.date_time::timestamp AS date_time\n    , e.event_name\n    , e.source\n    FROM base\n    INNER JOIN events e USING(session_skey)\n\n    UNION ALL\n\n    SELECT DISTINCT \n    base.session_skey\n    , base.user_skey\n    , base.platform\n    , a.date_time::timestamp AS date_time\n    , 'first_app_open' AS event_name\n    , 'new' AS source\n    FROM base\n    INNER JOIN apps_open a USING(session_skey)\n)\n\n\n, minmax AS (\nSELECT \n    *\n    , LAG(event_name) OVER (PARTITION BY session_skey ORDER BY date_time) AS prev_event\n    , MIN(date_time) OVER (PARTITION BY session_skey) AS first_touch\n    , MAX(date_time) OVER (PARTITION BY session_skey) AS last_touch\nFROM all_events\nORDER BY user_skey, date_time desc\n)\n\n--- Order the events by time\nSELECT DISTINCT \n    *\n    , RANK() OVER (PARTITION BY session_skey ORDER BY date_time) AS step_num\n    , RIGHT(100+step_num, 2) AS funnel_step\nFROM minmax\nWHERE prev_event != event_name\nORDER BY session_skey, date_time asc\n"
      },
      "outputs": [
        {
          "data": {
            "application/vnd.deepnote.sql-output-metadata+json": {
              "status": "success_no_cache",
              "size_in_bytes": 53573
            }
          },
          "metadata": {},
          "output_type": "display_data"
        },
        {
          "output_type": "execute_result",
          "execution_count": 4,
          "data": {
            "application/vnd.deepnote.dataframe.v3+json": {
              "column_count": 11,
              "row_count": 102,
              "columns": [
                {
                  "name": "session_skey",
                  "dtype": "object",
                  "stats": {
                    "unique_count": 12,
                    "nan_count": 0,
                    "categories": [
                      {
                        "name": "7468627526231255268",
                        "count": 14
                      },
                      {
                        "name": "4298732677109570882",
                        "count": 13
                      },
                      {
                        "name": "10 others",
                        "count": 75
                      }
                    ]
                  }
                },
                {
                  "name": "user_skey",
                  "dtype": "object",
                  "stats": {
                    "unique_count": 12,
                    "nan_count": 0,
                    "categories": [
                      {
                        "name": "-8445396229210858429",
                        "count": 14
                      },
                      {
                        "name": "6268745333355619436",
                        "count": 13
                      },
                      {
                        "name": "10 others",
                        "count": 75
                      }
                    ]
                  }
                },
                {
                  "name": "platform",
                  "dtype": "object",
                  "stats": {
                    "unique_count": 2,
                    "nan_count": 0,
                    "categories": [
                      {
                        "name": "android",
                        "count": 78
                      },
                      {
                        "name": "apple",
                        "count": 24
                      }
                    ]
                  }
                },
                {
                  "name": "date_time",
                  "dtype": "datetime64[ns]",
                  "stats": {
                    "unique_count": 102,
                    "nan_count": 0,
                    "min": "2023-11-08 12:06:29.158000",
                    "max": "2023-11-19 00:44:56.587000",
                    "histogram": [
                      {
                        "bin_start": 1699445189158000000,
                        "bin_end": 1699536139900900000,
                        "count": 15
                      },
                      {
                        "bin_start": 1699536139900900000,
                        "bin_end": 1699627090643800000,
                        "count": 6
                      },
                      {
                        "bin_start": 1699627090643800000,
                        "bin_end": 1699718041386700000,
                        "count": 0
                      },
                      {
                        "bin_start": 1699718041386700000,
                        "bin_end": 1699808992129600000,
                        "count": 14
                      },
                      {
                        "bin_start": 1699808992129600000,
                        "bin_end": 1699899942872500200,
                        "count": 0
                      },
                      {
                        "bin_start": 1699899942872500200,
                        "bin_end": 1699990893615400200,
                        "count": 6
                      },
                      {
                        "bin_start": 1699990893615400200,
                        "bin_end": 1700081844358300200,
                        "count": 13
                      },
                      {
                        "bin_start": 1700081844358300200,
                        "bin_end": 1700172795101200100,
                        "count": 23
                      },
                      {
                        "bin_start": 1700172795101200100,
                        "bin_end": 1700263745844100000,
                        "count": 10
                      },
                      {
                        "bin_start": 1700263745844100000,
                        "bin_end": 1700354696587000000,
                        "count": 15
                      }
                    ]
                  }
                },
                {
                  "name": "event_name",
                  "dtype": "object",
                  "stats": {
                    "unique_count": 6,
                    "nan_count": 0,
                    "categories": [
                      {
                        "name": "subscription_offer_open",
                        "count": 37
                      },
                      {
                        "name": "editor_open",
                        "count": 16
                      },
                      {
                        "name": "4 others",
                        "count": 49
                      }
                    ]
                  }
                },
                {
                  "name": "source",
                  "dtype": "object",
                  "stats": {
                    "unique_count": 23,
                    "nan_count": 0,
                    "categories": [
                      {
                        "name": "null",
                        "count": 14
                      },
                      {
                        "name": "app_start",
                        "count": 12
                      },
                      {
                        "name": "21 others",
                        "count": 76
                      }
                    ]
                  }
                },
                {
                  "name": "prev_event",
                  "dtype": "object",
                  "stats": {
                    "unique_count": 7,
                    "nan_count": 0,
                    "categories": [
                      {
                        "name": "subscription_offer_open",
                        "count": 32
                      },
                      {
                        "name": "editor_open",
                        "count": 13
                      },
                      {
                        "name": "5 others",
                        "count": 57
                      }
                    ]
                  }
                },
                {
                  "name": "first_touch",
                  "dtype": "datetime64[ns]",
                  "stats": {
                    "unique_count": 12,
                    "nan_count": 0,
                    "min": "2023-11-08 12:06:27.654000",
                    "max": "2023-11-19 00:42:15.870000",
                    "histogram": [
                      {
                        "bin_start": 1699445187654000000,
                        "bin_end": 1699536122475600100,
                        "count": 15
                      },
                      {
                        "bin_start": 1699536122475600100,
                        "bin_end": 1699627057297200000,
                        "count": 6
                      },
                      {
                        "bin_start": 1699627057297200000,
                        "bin_end": 1699717992118800100,
                        "count": 0
                      },
                      {
                        "bin_start": 1699717992118800100,
                        "bin_end": 1699808926940400000,
                        "count": 14
                      },
                      {
                        "bin_start": 1699808926940400000,
                        "bin_end": 1699899861762000100,
                        "count": 0
                      },
                      {
                        "bin_start": 1699899861762000100,
                        "bin_end": 1699990796583600000,
                        "count": 6
                      },
                      {
                        "bin_start": 1699990796583600000,
                        "bin_end": 1700081731405200100,
                        "count": 13
                      },
                      {
                        "bin_start": 1700081731405200100,
                        "bin_end": 1700172666226800000,
                        "count": 23
                      },
                      {
                        "bin_start": 1700172666226800000,
                        "bin_end": 1700263601048400100,
                        "count": 10
                      },
                      {
                        "bin_start": 1700263601048400100,
                        "bin_end": 1700354535870000000,
                        "count": 15
                      }
                    ]
                  }
                },
                {
                  "name": "last_touch",
                  "dtype": "datetime64[ns]",
                  "stats": {
                    "unique_count": 12,
                    "nan_count": 0,
                    "min": "2023-11-08 12:14:16.578000",
                    "max": "2023-11-19 00:44:56.587000",
                    "histogram": [
                      {
                        "bin_start": 1699445656578000000,
                        "bin_end": 1699536560578900000,
                        "count": 15
                      },
                      {
                        "bin_start": 1699536560578900000,
                        "bin_end": 1699627464579799800,
                        "count": 6
                      },
                      {
                        "bin_start": 1699627464579799800,
                        "bin_end": 1699718368580700000,
                        "count": 0
                      },
                      {
                        "bin_start": 1699718368580700000,
                        "bin_end": 1699809272581600000,
                        "count": 14
                      },
                      {
                        "bin_start": 1699809272581600000,
                        "bin_end": 1699900176582499800,
                        "count": 0
                      },
                      {
                        "bin_start": 1699900176582499800,
                        "bin_end": 1699991080583400000,
                        "count": 6
                      },
                      {
                        "bin_start": 1699991080583400000,
                        "bin_end": 1700081984584300000,
                        "count": 13
                      },
                      {
                        "bin_start": 1700081984584300000,
                        "bin_end": 1700172888585200000,
                        "count": 23
                      },
                      {
                        "bin_start": 1700172888585200000,
                        "bin_end": 1700263792586100000,
                        "count": 10
                      },
                      {
                        "bin_start": 1700263792586100000,
                        "bin_end": 1700354696587000000,
                        "count": 15
                      }
                    ]
                  }
                },
                {
                  "name": "step_num",
                  "dtype": "int64",
                  "stats": {
                    "unique_count": 14,
                    "nan_count": 0,
                    "min": "1",
                    "max": "14",
                    "histogram": [
                      {
                        "bin_start": 1,
                        "bin_end": 2.3,
                        "count": 24
                      },
                      {
                        "bin_start": 2.3,
                        "bin_end": 3.6,
                        "count": 12
                      },
                      {
                        "bin_start": 3.6,
                        "bin_end": 4.9,
                        "count": 12
                      },
                      {
                        "bin_start": 4.9,
                        "bin_end": 6.2,
                        "count": 22
                      },
                      {
                        "bin_start": 6.2,
                        "bin_end": 7.5,
                        "count": 8
                      },
                      {
                        "bin_start": 7.5,
                        "bin_end": 8.8,
                        "count": 7
                      },
                      {
                        "bin_start": 8.8,
                        "bin_end": 10.1,
                        "count": 9
                      },
                      {
                        "bin_start": 10.1,
                        "bin_end": 11.4,
                        "count": 3
                      },
                      {
                        "bin_start": 11.4,
                        "bin_end": 12.700000000000001,
                        "count": 2
                      },
                      {
                        "bin_start": 12.700000000000001,
                        "bin_end": 14,
                        "count": 3
                      }
                    ]
                  }
                },
                {
                  "name": "funnel_step",
                  "dtype": "object",
                  "stats": {
                    "unique_count": 14,
                    "nan_count": 0,
                    "categories": [
                      {
                        "name": "01",
                        "count": 12
                      },
                      {
                        "name": "02",
                        "count": 12
                      },
                      {
                        "name": "12 others",
                        "count": 78
                      }
                    ]
                  }
                },
                {
                  "name": "_deepnote_index_column",
                  "dtype": "int64"
                }
              ],
              "rows": [
                {
                  "session_skey": "-2480472430485064204",
                  "user_skey": "-6118101602439635222",
                  "platform": "android",
                  "date_time": "2023-11-08 12:06:29.158000",
                  "event_name": "registration_open",
                  "source": "app_start",
                  "prev_event": "first_app_open",
                  "first_touch": "2023-11-08 12:06:27.654000",
                  "last_touch": "2023-11-08 12:14:16.578000",
                  "step_num": 1,
                  "funnel_step": "01",
                  "_deepnote_index_column": 0
                },
                {
                  "session_skey": "-2480472430485064204",
                  "user_skey": "-6118101602439635222",
                  "platform": "android",
                  "date_time": "2023-11-08 12:06:51.152000",
                  "event_name": "registration_done",
                  "source": "null",
                  "prev_event": "registration_open",
                  "first_touch": "2023-11-08 12:06:27.654000",
                  "last_touch": "2023-11-08 12:14:16.578000",
                  "step_num": 2,
                  "funnel_step": "02",
                  "_deepnote_index_column": 1
                },
                {
                  "session_skey": "-2480472430485064204",
                  "user_skey": "-6118101602439635222",
                  "platform": "android",
                  "date_time": "2023-11-08 12:06:52.171000",
                  "event_name": "subscription_offer_open",
                  "source": "registration",
                  "prev_event": "registration_done",
                  "first_touch": "2023-11-08 12:06:27.654000",
                  "last_touch": "2023-11-08 12:14:16.578000",
                  "step_num": 3,
                  "funnel_step": "03",
                  "_deepnote_index_column": 2
                },
                {
                  "session_skey": "-2480472430485064204",
                  "user_skey": "-6118101602439635222",
                  "platform": "android",
                  "date_time": "2023-11-08 12:06:57.641000",
                  "event_name": "create_flow_open",
                  "source": "autostart",
                  "prev_event": "subscription_offer_open",
                  "first_touch": "2023-11-08 12:06:27.654000",
                  "last_touch": "2023-11-08 12:14:16.578000",
                  "step_num": 4,
                  "funnel_step": "04",
                  "_deepnote_index_column": 3
                },
                {
                  "session_skey": "-2480472430485064204",
                  "user_skey": "-6118101602439635222",
                  "platform": "android",
                  "date_time": "2023-11-08 12:07:01.793000",
                  "event_name": "subscription_offer_open",
                  "source": "photo_choose",
                  "prev_event": "create_flow_open",
                  "first_touch": "2023-11-08 12:06:27.654000",
                  "last_touch": "2023-11-08 12:14:16.578000",
                  "step_num": 5,
                  "funnel_step": "05",
                  "_deepnote_index_column": 4
                }
              ]
            },
            "text/plain": "             session_skey             user_skey platform  \\\n0    -2480472430485064204  -6118101602439635222  android   \n1    -2480472430485064204  -6118101602439635222  android   \n2    -2480472430485064204  -6118101602439635222  android   \n3    -2480472430485064204  -6118101602439635222  android   \n4    -2480472430485064204  -6118101602439635222  android   \n..                    ...                   ...      ...   \n97    7468627526231255268  -8445396229210858429  android   \n98    7468627526231255268  -8445396229210858429  android   \n99    7468627526231255268  -8445396229210858429  android   \n100   7468627526231255268  -8445396229210858429  android   \n101   7468627526231255268  -8445396229210858429  android   \n\n                  date_time               event_name                source  \\\n0   2023-11-08 12:06:29.158        registration_open             app_start   \n1   2023-11-08 12:06:51.152        registration_done                  null   \n2   2023-11-08 12:06:52.171  subscription_offer_open          registration   \n3   2023-11-08 12:06:57.641         create_flow_open             autostart   \n4   2023-11-08 12:07:01.793  subscription_offer_open          photo_choose   \n..                      ...                      ...                   ...   \n97  2023-11-11 17:49:11.575  subscription_offer_open       editor_complete   \n98  2023-11-11 17:49:17.472            object_export         editor_screen   \n99  2023-11-11 17:49:22.594  subscription_offer_open  editor_export_screen   \n100 2023-11-11 17:49:30.416            object_export         editor_screen   \n101 2023-11-11 17:49:33.435  subscription_offer_open  editor_export_screen   \n\n                  prev_event             first_touch              last_touch  \\\n0             first_app_open 2023-11-08 12:06:27.654 2023-11-08 12:14:16.578   \n1          registration_open 2023-11-08 12:06:27.654 2023-11-08 12:14:16.578   \n2          registration_done 2023-11-08 12:06:27.654 2023-11-08 12:14:16.578   \n3    subscription_offer_open 2023-11-08 12:06:27.654 2023-11-08 12:14:16.578   \n4           create_flow_open 2023-11-08 12:06:27.654 2023-11-08 12:14:16.578   \n..                       ...                     ...                     ...   \n97             object_export 2023-11-11 17:32:31.748 2023-11-11 17:49:33.435   \n98   subscription_offer_open 2023-11-11 17:32:31.748 2023-11-11 17:49:33.435   \n99             object_export 2023-11-11 17:32:31.748 2023-11-11 17:49:33.435   \n100  subscription_offer_open 2023-11-11 17:32:31.748 2023-11-11 17:49:33.435   \n101            object_export 2023-11-11 17:32:31.748 2023-11-11 17:49:33.435   \n\n     step_num funnel_step  \n0           1          01  \n1           2          02  \n2           3          03  \n3           4          04  \n4           5          05  \n..        ...         ...  \n97         10          10  \n98         11          11  \n99         12          12  \n100        13          13  \n101        14          14  \n\n[102 rows x 11 columns]",
            "text/html": "<div>\n<style scoped>\n    .dataframe tbody tr th:only-of-type {\n        vertical-align: middle;\n    }\n\n    .dataframe tbody tr th {\n        vertical-align: top;\n    }\n\n    .dataframe thead th {\n        text-align: right;\n    }\n</style>\n<table border=\"1\" class=\"dataframe\">\n  <thead>\n    <tr style=\"text-align: right;\">\n      <th></th>\n      <th>session_skey</th>\n      <th>user_skey</th>\n      <th>platform</th>\n      <th>date_time</th>\n      <th>event_name</th>\n      <th>source</th>\n      <th>prev_event</th>\n      <th>first_touch</th>\n      <th>last_touch</th>\n      <th>step_num</th>\n      <th>funnel_step</th>\n    </tr>\n  </thead>\n  <tbody>\n    <tr>\n      <th>0</th>\n      <td>-2480472430485064204</td>\n      <td>-6118101602439635222</td>\n      <td>android</td>\n      <td>2023-11-08 12:06:29.158</td>\n      <td>registration_open</td>\n      <td>app_start</td>\n      <td>first_app_open</td>\n      <td>2023-11-08 12:06:27.654</td>\n      <td>2023-11-08 12:14:16.578</td>\n      <td>1</td>\n      <td>01</td>\n    </tr>\n    <tr>\n      <th>1</th>\n      <td>-2480472430485064204</td>\n      <td>-6118101602439635222</td>\n      <td>android</td>\n      <td>2023-11-08 12:06:51.152</td>\n      <td>registration_done</td>\n      <td>null</td>\n      <td>registration_open</td>\n      <td>2023-11-08 12:06:27.654</td>\n      <td>2023-11-08 12:14:16.578</td>\n      <td>2</td>\n      <td>02</td>\n    </tr>\n    <tr>\n      <th>2</th>\n      <td>-2480472430485064204</td>\n      <td>-6118101602439635222</td>\n      <td>android</td>\n      <td>2023-11-08 12:06:52.171</td>\n      <td>subscription_offer_open</td>\n      <td>registration</td>\n      <td>registration_done</td>\n      <td>2023-11-08 12:06:27.654</td>\n      <td>2023-11-08 12:14:16.578</td>\n      <td>3</td>\n      <td>03</td>\n    </tr>\n    <tr>\n      <th>3</th>\n      <td>-2480472430485064204</td>\n      <td>-6118101602439635222</td>\n      <td>android</td>\n      <td>2023-11-08 12:06:57.641</td>\n      <td>create_flow_open</td>\n      <td>autostart</td>\n      <td>subscription_offer_open</td>\n      <td>2023-11-08 12:06:27.654</td>\n      <td>2023-11-08 12:14:16.578</td>\n      <td>4</td>\n      <td>04</td>\n    </tr>\n    <tr>\n      <th>4</th>\n      <td>-2480472430485064204</td>\n      <td>-6118101602439635222</td>\n      <td>android</td>\n      <td>2023-11-08 12:07:01.793</td>\n      <td>subscription_offer_open</td>\n      <td>photo_choose</td>\n      <td>create_flow_open</td>\n      <td>2023-11-08 12:06:27.654</td>\n      <td>2023-11-08 12:14:16.578</td>\n      <td>5</td>\n      <td>05</td>\n    </tr>\n    <tr>\n      <th>...</th>\n      <td>...</td>\n      <td>...</td>\n      <td>...</td>\n      <td>...</td>\n      <td>...</td>\n      <td>...</td>\n      <td>...</td>\n      <td>...</td>\n      <td>...</td>\n      <td>...</td>\n      <td>...</td>\n    </tr>\n    <tr>\n      <th>97</th>\n      <td>7468627526231255268</td>\n      <td>-8445396229210858429</td>\n      <td>android</td>\n      <td>2023-11-11 17:49:11.575</td>\n      <td>subscription_offer_open</td>\n      <td>editor_complete</td>\n      <td>object_export</td>\n      <td>2023-11-11 17:32:31.748</td>\n      <td>2023-11-11 17:49:33.435</td>\n      <td>10</td>\n      <td>10</td>\n    </tr>\n    <tr>\n      <th>98</th>\n      <td>7468627526231255268</td>\n      <td>-8445396229210858429</td>\n      <td>android</td>\n      <td>2023-11-11 17:49:17.472</td>\n      <td>object_export</td>\n      <td>editor_screen</td>\n      <td>subscription_offer_open</td>\n      <td>2023-11-11 17:32:31.748</td>\n      <td>2023-11-11 17:49:33.435</td>\n      <td>11</td>\n      <td>11</td>\n    </tr>\n    <tr>\n      <th>99</th>\n      <td>7468627526231255268</td>\n      <td>-8445396229210858429</td>\n      <td>android</td>\n      <td>2023-11-11 17:49:22.594</td>\n      <td>subscription_offer_open</td>\n      <td>editor_export_screen</td>\n      <td>object_export</td>\n      <td>2023-11-11 17:32:31.748</td>\n      <td>2023-11-11 17:49:33.435</td>\n      <td>12</td>\n      <td>12</td>\n    </tr>\n    <tr>\n      <th>100</th>\n      <td>7468627526231255268</td>\n      <td>-8445396229210858429</td>\n      <td>android</td>\n      <td>2023-11-11 17:49:30.416</td>\n      <td>object_export</td>\n      <td>editor_screen</td>\n      <td>subscription_offer_open</td>\n      <td>2023-11-11 17:32:31.748</td>\n      <td>2023-11-11 17:49:33.435</td>\n      <td>13</td>\n      <td>13</td>\n    </tr>\n    <tr>\n      <th>101</th>\n      <td>7468627526231255268</td>\n      <td>-8445396229210858429</td>\n      <td>android</td>\n      <td>2023-11-11 17:49:33.435</td>\n      <td>subscription_offer_open</td>\n      <td>editor_export_screen</td>\n      <td>object_export</td>\n      <td>2023-11-11 17:32:31.748</td>\n      <td>2023-11-11 17:49:33.435</td>\n      <td>14</td>\n      <td>14</td>\n    </tr>\n  </tbody>\n</table>\n<p>102 rows × 11 columns</p>\n</div>"
          },
          "metadata": {}
        }
      ],
      "execution_count": 4,
      "block_group": "6a7cd4342d074702bf67937695fe74aa"
    },
    {
      "cell_type": "code",
      "source": "general_path = _deepnote_execute_sql('WITH path AS (\\n    SELECT \\n    event_name\\n    , platform\\n    , funnel_step\\n    , COUNT(DISTINCT user_skey) AS user_skey\\n\\n    FROM new_users\\n    GROUP BY 1,2,3\\n)\\n\\n, cnt as (\\nPIVOT path ON platform\\nUSING SUM(user_skey)\\nGROUP BY funnel_step, event_name\\n)\\n\\nSELECT DISTINCT \\n    funnel_step\\n    , event_name\\n    , IFNULL(android, 0) AS android_users\\n    , IFNULL(apple, 0) AS apple_users\\n    , android_users + apple_users AS total\\n    , CONCAT((android_users/ MAX(android_users) OVER () * 100)::INT, \\'%\\') AS android_conversion\\n    , CONCAT((apple_users/ MAX(apple_users) OVER () * 100)::INT, \\'%\\') AS apple_conversion\\n\\nFROM cnt ', 'SQL_DEEPNOTE_DATAFRAME_SQL', audit_sql_comment='', sql_cache_mode='cache_disabled')\ngeneral_path",
      "metadata": {
        "source_hash": "6c3922c6",
        "is_code_hidden": true,
        "execution_start": 1704718093469,
        "execution_millis": 47,
        "sql_integration_id": "deepnote-dataframe-sql",
        "deepnote_table_state": {
          "sortBy": [],
          "filters": [],
          "pageSize": 10,
          "pageIndex": 0
        },
        "deepnote_table_loading": false,
        "deepnote_variable_name": "general_path",
        "deepnote_app_coordinates": {
          "h": 120,
          "w": 12,
          "x": 0,
          "y": 0
        },
        "deepnote_to_be_reexecuted": false,
        "deepnote_app_is_code_hidden": true,
        "deepnote_app_is_output_hidden": false,
        "cell_id": "8dbadf519c084906881056faa72547d3",
        "deepnote_cell_type": "sql",
        "deepnote_sql_source": "WITH path AS (\n    SELECT \n    event_name\n    , platform\n    , funnel_step\n    , COUNT(DISTINCT user_skey) AS user_skey\n\n    FROM new_users\n    GROUP BY 1,2,3\n)\n\n, cnt as (\nPIVOT path ON platform\nUSING SUM(user_skey)\nGROUP BY funnel_step, event_name\n)\n\nSELECT DISTINCT \n    funnel_step\n    , event_name\n    , IFNULL(android, 0) AS android_users\n    , IFNULL(apple, 0) AS apple_users\n    , android_users + apple_users AS total\n    , CONCAT((android_users/ MAX(android_users) OVER () * 100)::INT, '%') AS android_conversion\n    , CONCAT((apple_users/ MAX(apple_users) OVER () * 100)::INT, '%') AS apple_conversion\n\nFROM cnt "
      },
      "outputs": [
        {
          "data": {
            "application/vnd.deepnote.sql-output-metadata+json": {
              "status": "success_no_cache",
              "size_in_bytes": 7050
            }
          },
          "metadata": {},
          "output_type": "display_data"
        },
        {
          "output_type": "execute_result",
          "execution_count": 5,
          "data": {
            "application/vnd.deepnote.dataframe.v3+json": {
              "column_count": 7,
              "row_count": 25,
              "columns": [
                {
                  "name": "funnel_step",
                  "dtype": "object",
                  "stats": {
                    "unique_count": 14,
                    "nan_count": 0,
                    "categories": [
                      {
                        "name": "08",
                        "count": 3
                      },
                      {
                        "name": "09",
                        "count": 3
                      },
                      {
                        "name": "12 others",
                        "count": 19
                      }
                    ]
                  }
                },
                {
                  "name": "event_name",
                  "dtype": "object",
                  "stats": {
                    "unique_count": 6,
                    "nan_count": 0,
                    "categories": [
                      {
                        "name": "subscription_offer_open",
                        "count": 10
                      },
                      {
                        "name": "object_export",
                        "count": 7
                      },
                      {
                        "name": "4 others",
                        "count": 8
                      }
                    ]
                  }
                },
                {
                  "name": "android_users",
                  "dtype": "int64",
                  "stats": {
                    "unique_count": 8,
                    "nan_count": 0,
                    "min": "0",
                    "max": "9",
                    "histogram": [
                      {
                        "bin_start": 0,
                        "bin_end": 0.9,
                        "count": 1
                      },
                      {
                        "bin_start": 0.9,
                        "bin_end": 1.8,
                        "count": 12
                      },
                      {
                        "bin_start": 1.8,
                        "bin_end": 2.7,
                        "count": 4
                      },
                      {
                        "bin_start": 2.7,
                        "bin_end": 3.6,
                        "count": 1
                      },
                      {
                        "bin_start": 3.6,
                        "bin_end": 4.5,
                        "count": 1
                      },
                      {
                        "bin_start": 4.5,
                        "bin_end": 5.4,
                        "count": 0
                      },
                      {
                        "bin_start": 5.4,
                        "bin_end": 6.3,
                        "count": 0
                      },
                      {
                        "bin_start": 6.3,
                        "bin_end": 7.2,
                        "count": 1
                      },
                      {
                        "bin_start": 7.2,
                        "bin_end": 8.1,
                        "count": 1
                      },
                      {
                        "bin_start": 8.1,
                        "bin_end": 9,
                        "count": 4
                      }
                    ]
                  }
                },
                {
                  "name": "apple_users",
                  "dtype": "int64",
                  "stats": {
                    "unique_count": 3,
                    "nan_count": 0,
                    "min": "0",
                    "max": "3",
                    "histogram": [
                      {
                        "bin_start": 0,
                        "bin_end": 0.3,
                        "count": 13
                      },
                      {
                        "bin_start": 0.3,
                        "bin_end": 0.6,
                        "count": 0
                      },
                      {
                        "bin_start": 0.6,
                        "bin_end": 0.8999999999999999,
                        "count": 0
                      },
                      {
                        "bin_start": 0.8999999999999999,
                        "bin_end": 1.2,
                        "count": 6
                      },
                      {
                        "bin_start": 1.2,
                        "bin_end": 1.5,
                        "count": 0
                      },
                      {
                        "bin_start": 1.5,
                        "bin_end": 1.7999999999999998,
                        "count": 0
                      },
                      {
                        "bin_start": 1.7999999999999998,
                        "bin_end": 2.1,
                        "count": 0
                      },
                      {
                        "bin_start": 2.1,
                        "bin_end": 2.4,
                        "count": 0
                      },
                      {
                        "bin_start": 2.4,
                        "bin_end": 2.6999999999999997,
                        "count": 0
                      },
                      {
                        "bin_start": 2.6999999999999997,
                        "bin_end": 3,
                        "count": 6
                      }
                    ]
                  }
                },
                {
                  "name": "total",
                  "dtype": "int64",
                  "stats": {
                    "unique_count": 7,
                    "nan_count": 0,
                    "min": "1",
                    "max": "12",
                    "histogram": [
                      {
                        "bin_start": 1,
                        "bin_end": 2.1,
                        "count": 15
                      },
                      {
                        "bin_start": 2.1,
                        "bin_end": 3.2,
                        "count": 3
                      },
                      {
                        "bin_start": 3.2,
                        "bin_end": 4.300000000000001,
                        "count": 0
                      },
                      {
                        "bin_start": 4.300000000000001,
                        "bin_end": 5.4,
                        "count": 1
                      },
                      {
                        "bin_start": 5.4,
                        "bin_end": 6.5,
                        "count": 0
                      },
                      {
                        "bin_start": 6.5,
                        "bin_end": 7.6000000000000005,
                        "count": 0
                      },
                      {
                        "bin_start": 7.6000000000000005,
                        "bin_end": 8.700000000000001,
                        "count": 0
                      },
                      {
                        "bin_start": 8.700000000000001,
                        "bin_end": 9.8,
                        "count": 0
                      },
                      {
                        "bin_start": 9.8,
                        "bin_end": 10.9,
                        "count": 1
                      },
                      {
                        "bin_start": 10.9,
                        "bin_end": 12,
                        "count": 5
                      }
                    ]
                  }
                },
                {
                  "name": "android_conversion",
                  "dtype": "object",
                  "stats": {
                    "unique_count": 8,
                    "nan_count": 0,
                    "categories": [
                      {
                        "name": "11%",
                        "count": 12
                      },
                      {
                        "name": "100%",
                        "count": 4
                      },
                      {
                        "name": "6 others",
                        "count": 9
                      }
                    ]
                  }
                },
                {
                  "name": "apple_conversion",
                  "dtype": "object",
                  "stats": {
                    "unique_count": 3,
                    "nan_count": 0,
                    "categories": [
                      {
                        "name": "0%",
                        "count": 13
                      },
                      {
                        "name": "100%",
                        "count": 6
                      },
                      {
                        "name": "33%",
                        "count": 6
                      }
                    ]
                  }
                },
                {
                  "name": "_deepnote_index_column",
                  "dtype": "int64"
                }
              ],
              "rows": [
                {
                  "funnel_step": "01",
                  "event_name": "registration_open",
                  "android_users": 9,
                  "apple_users": 3,
                  "total": 12,
                  "android_conversion": "100%",
                  "apple_conversion": "100%",
                  "_deepnote_index_column": 0
                },
                {
                  "funnel_step": "02",
                  "event_name": "registration_done",
                  "android_users": 9,
                  "apple_users": 3,
                  "total": 12,
                  "android_conversion": "100%",
                  "apple_conversion": "100%",
                  "_deepnote_index_column": 1
                },
                {
                  "funnel_step": "03",
                  "event_name": "subscription_offer_open",
                  "android_users": 9,
                  "apple_users": 3,
                  "total": 12,
                  "android_conversion": "100%",
                  "apple_conversion": "100%",
                  "_deepnote_index_column": 2
                },
                {
                  "funnel_step": "04",
                  "event_name": "create_flow_open",
                  "android_users": 9,
                  "apple_users": 3,
                  "total": 12,
                  "android_conversion": "100%",
                  "apple_conversion": "100%",
                  "_deepnote_index_column": 3
                },
                {
                  "funnel_step": "05",
                  "event_name": "subscription_offer_open",
                  "android_users": 8,
                  "apple_users": 3,
                  "total": 11,
                  "android_conversion": "89%",
                  "apple_conversion": "100%",
                  "_deepnote_index_column": 4
                },
                {
                  "funnel_step": "06",
                  "event_name": "editor_open",
                  "android_users": 7,
                  "apple_users": 3,
                  "total": 10,
                  "android_conversion": "78%",
                  "apple_conversion": "100%",
                  "_deepnote_index_column": 5
                },
                {
                  "funnel_step": "07",
                  "event_name": "object_export",
                  "android_users": 4,
                  "apple_users": 1,
                  "total": 5,
                  "android_conversion": "44%",
                  "apple_conversion": "33%",
                  "_deepnote_index_column": 6
                },
                {
                  "funnel_step": "08",
                  "event_name": "editor_open",
                  "android_users": 2,
                  "apple_users": 1,
                  "total": 3,
                  "android_conversion": "22%",
                  "apple_conversion": "33%",
                  "_deepnote_index_column": 7
                },
                {
                  "funnel_step": "09",
                  "event_name": "object_export",
                  "android_users": 2,
                  "apple_users": 0,
                  "total": 2,
                  "android_conversion": "22%",
                  "apple_conversion": "0%",
                  "_deepnote_index_column": 8
                },
                {
                  "funnel_step": "09",
                  "event_name": "subscription_offer_open",
                  "android_users": 1,
                  "apple_users": 1,
                  "total": 2,
                  "android_conversion": "11%",
                  "apple_conversion": "33%",
                  "_deepnote_index_column": 9
                }
              ]
            },
            "text/plain": "   funnel_step               event_name  android_users  apple_users  total  \\\n0           01        registration_open              9            3     12   \n1           02        registration_done              9            3     12   \n2           03  subscription_offer_open              9            3     12   \n3           04         create_flow_open              9            3     12   \n4           05  subscription_offer_open              8            3     11   \n5           06              editor_open              7            3     10   \n6           07            object_export              4            1      5   \n7           08              editor_open              2            1      3   \n8           09            object_export              2            0      2   \n9           09  subscription_offer_open              1            1      2   \n10          10            object_export              1            1      2   \n11          07  subscription_offer_open              2            1      3   \n12          08            object_export              0            1      1   \n13          06            object_export              1            0      1   \n14          08  subscription_offer_open              3            0      3   \n15          10              editor_open              1            0      1   \n16          11  subscription_offer_open              2            0      2   \n17          12              editor_open              1            0      1   \n18          13  subscription_offer_open              1            0      1   \n19          09              editor_open              1            0      1   \n20          10  subscription_offer_open              1            0      1   \n21          11            object_export              1            0      1   \n22          12  subscription_offer_open              1            0      1   \n23          13            object_export              1            0      1   \n24          14  subscription_offer_open              1            0      1   \n\n   android_conversion apple_conversion  \n0                100%             100%  \n1                100%             100%  \n2                100%             100%  \n3                100%             100%  \n4                 89%             100%  \n5                 78%             100%  \n6                 44%              33%  \n7                 22%              33%  \n8                 22%               0%  \n9                 11%              33%  \n10                11%              33%  \n11                22%              33%  \n12                 0%              33%  \n13                11%               0%  \n14                33%               0%  \n15                11%               0%  \n16                22%               0%  \n17                11%               0%  \n18                11%               0%  \n19                11%               0%  \n20                11%               0%  \n21                11%               0%  \n22                11%               0%  \n23                11%               0%  \n24                11%               0%  ",
            "text/html": "<div>\n<style scoped>\n    .dataframe tbody tr th:only-of-type {\n        vertical-align: middle;\n    }\n\n    .dataframe tbody tr th {\n        vertical-align: top;\n    }\n\n    .dataframe thead th {\n        text-align: right;\n    }\n</style>\n<table border=\"1\" class=\"dataframe\">\n  <thead>\n    <tr style=\"text-align: right;\">\n      <th></th>\n      <th>funnel_step</th>\n      <th>event_name</th>\n      <th>android_users</th>\n      <th>apple_users</th>\n      <th>total</th>\n      <th>android_conversion</th>\n      <th>apple_conversion</th>\n    </tr>\n  </thead>\n  <tbody>\n    <tr>\n      <th>0</th>\n      <td>01</td>\n      <td>registration_open</td>\n      <td>9</td>\n      <td>3</td>\n      <td>12</td>\n      <td>100%</td>\n      <td>100%</td>\n    </tr>\n    <tr>\n      <th>1</th>\n      <td>02</td>\n      <td>registration_done</td>\n      <td>9</td>\n      <td>3</td>\n      <td>12</td>\n      <td>100%</td>\n      <td>100%</td>\n    </tr>\n    <tr>\n      <th>2</th>\n      <td>03</td>\n      <td>subscription_offer_open</td>\n      <td>9</td>\n      <td>3</td>\n      <td>12</td>\n      <td>100%</td>\n      <td>100%</td>\n    </tr>\n    <tr>\n      <th>3</th>\n      <td>04</td>\n      <td>create_flow_open</td>\n      <td>9</td>\n      <td>3</td>\n      <td>12</td>\n      <td>100%</td>\n      <td>100%</td>\n    </tr>\n    <tr>\n      <th>4</th>\n      <td>05</td>\n      <td>subscription_offer_open</td>\n      <td>8</td>\n      <td>3</td>\n      <td>11</td>\n      <td>89%</td>\n      <td>100%</td>\n    </tr>\n    <tr>\n      <th>5</th>\n      <td>06</td>\n      <td>editor_open</td>\n      <td>7</td>\n      <td>3</td>\n      <td>10</td>\n      <td>78%</td>\n      <td>100%</td>\n    </tr>\n    <tr>\n      <th>6</th>\n      <td>07</td>\n      <td>object_export</td>\n      <td>4</td>\n      <td>1</td>\n      <td>5</td>\n      <td>44%</td>\n      <td>33%</td>\n    </tr>\n    <tr>\n      <th>7</th>\n      <td>08</td>\n      <td>editor_open</td>\n      <td>2</td>\n      <td>1</td>\n      <td>3</td>\n      <td>22%</td>\n      <td>33%</td>\n    </tr>\n    <tr>\n      <th>8</th>\n      <td>09</td>\n      <td>object_export</td>\n      <td>2</td>\n      <td>0</td>\n      <td>2</td>\n      <td>22%</td>\n      <td>0%</td>\n    </tr>\n    <tr>\n      <th>9</th>\n      <td>09</td>\n      <td>subscription_offer_open</td>\n      <td>1</td>\n      <td>1</td>\n      <td>2</td>\n      <td>11%</td>\n      <td>33%</td>\n    </tr>\n    <tr>\n      <th>10</th>\n      <td>10</td>\n      <td>object_export</td>\n      <td>1</td>\n      <td>1</td>\n      <td>2</td>\n      <td>11%</td>\n      <td>33%</td>\n    </tr>\n    <tr>\n      <th>11</th>\n      <td>07</td>\n      <td>subscription_offer_open</td>\n      <td>2</td>\n      <td>1</td>\n      <td>3</td>\n      <td>22%</td>\n      <td>33%</td>\n    </tr>\n    <tr>\n      <th>12</th>\n      <td>08</td>\n      <td>object_export</td>\n      <td>0</td>\n      <td>1</td>\n      <td>1</td>\n      <td>0%</td>\n      <td>33%</td>\n    </tr>\n    <tr>\n      <th>13</th>\n      <td>06</td>\n      <td>object_export</td>\n      <td>1</td>\n      <td>0</td>\n      <td>1</td>\n      <td>11%</td>\n      <td>0%</td>\n    </tr>\n    <tr>\n      <th>14</th>\n      <td>08</td>\n      <td>subscription_offer_open</td>\n      <td>3</td>\n      <td>0</td>\n      <td>3</td>\n      <td>33%</td>\n      <td>0%</td>\n    </tr>\n    <tr>\n      <th>15</th>\n      <td>10</td>\n      <td>editor_open</td>\n      <td>1</td>\n      <td>0</td>\n      <td>1</td>\n      <td>11%</td>\n      <td>0%</td>\n    </tr>\n    <tr>\n      <th>16</th>\n      <td>11</td>\n      <td>subscription_offer_open</td>\n      <td>2</td>\n      <td>0</td>\n      <td>2</td>\n      <td>22%</td>\n      <td>0%</td>\n    </tr>\n    <tr>\n      <th>17</th>\n      <td>12</td>\n      <td>editor_open</td>\n      <td>1</td>\n      <td>0</td>\n      <td>1</td>\n      <td>11%</td>\n      <td>0%</td>\n    </tr>\n    <tr>\n      <th>18</th>\n      <td>13</td>\n      <td>subscription_offer_open</td>\n      <td>1</td>\n      <td>0</td>\n      <td>1</td>\n      <td>11%</td>\n      <td>0%</td>\n    </tr>\n    <tr>\n      <th>19</th>\n      <td>09</td>\n      <td>editor_open</td>\n      <td>1</td>\n      <td>0</td>\n      <td>1</td>\n      <td>11%</td>\n      <td>0%</td>\n    </tr>\n    <tr>\n      <th>20</th>\n      <td>10</td>\n      <td>subscription_offer_open</td>\n      <td>1</td>\n      <td>0</td>\n      <td>1</td>\n      <td>11%</td>\n      <td>0%</td>\n    </tr>\n    <tr>\n      <th>21</th>\n      <td>11</td>\n      <td>object_export</td>\n      <td>1</td>\n      <td>0</td>\n      <td>1</td>\n      <td>11%</td>\n      <td>0%</td>\n    </tr>\n    <tr>\n      <th>22</th>\n      <td>12</td>\n      <td>subscription_offer_open</td>\n      <td>1</td>\n      <td>0</td>\n      <td>1</td>\n      <td>11%</td>\n      <td>0%</td>\n    </tr>\n    <tr>\n      <th>23</th>\n      <td>13</td>\n      <td>object_export</td>\n      <td>1</td>\n      <td>0</td>\n      <td>1</td>\n      <td>11%</td>\n      <td>0%</td>\n    </tr>\n    <tr>\n      <th>24</th>\n      <td>14</td>\n      <td>subscription_offer_open</td>\n      <td>1</td>\n      <td>0</td>\n      <td>1</td>\n      <td>11%</td>\n      <td>0%</td>\n    </tr>\n  </tbody>\n</table>\n</div>"
          },
          "metadata": {}
        }
      ],
      "execution_count": 5,
      "block_group": "711aa87e27ac456bb2517cb6373347db"
    },
    {
      "cell_type": "code",
      "source": "DeepnoteChart(general_path, \"\"\"{\"layer\":[{\"layer\":[{\"mark\":{\"clip\":true,\"type\":\"bar\",\"tooltip\":true},\"encoding\":{\"x\":{\"axis\":{\"grid\":false},\"sort\":null,\"type\":\"nominal\",\"field\":\"funnel_step\",\"scale\":{\"type\":\"linear\"},\"stack\":\"zero\"},\"y\":{\"axis\":{\"grid\":false,\"title\":null},\"sort\":null,\"type\":\"quantitative\",\"field\":\"total\",\"scale\":{\"type\":\"linear\"},\"stack\":\"zero\",\"format\":{\"type\":\"default\",\"decimals\":null},\"aggregate\":\"sum\",\"formatType\":\"numberFormatFromNumberType\"},\"color\":{\"sort\":null,\"type\":\"nominal\",\"field\":\"event_name\",\"scale\":{\"scheme\":\"tableau10\"}}}},{\"mark\":{\"dx\":0,\"dy\":-1,\"fill\":\"black\",\"type\":\"text\",\"align\":\"center\",\"baseline\":\"bottom\"},\"encoding\":{\"x\":{\"axis\":{\"grid\":false},\"sort\":null,\"type\":\"nominal\",\"field\":\"funnel_step\",\"scale\":{\"type\":\"linear\"},\"stack\":\"zero\"},\"y\":{\"axis\":{\"grid\":false,\"title\":null},\"sort\":null,\"type\":\"quantitative\",\"field\":\"total\",\"scale\":{\"type\":\"linear\"},\"stack\":\"zero\",\"format\":{\"type\":\"default\",\"decimals\":null},\"aggregate\":\"sum\",\"formatType\":\"numberFormatFromNumberType\"},\"text\":{\"sort\":null,\"type\":\"quantitative\",\"field\":\"total\",\"aggregate\":\"sum\"},\"color\":{\"sort\":null,\"type\":\"nominal\",\"field\":\"event_name\",\"scale\":{\"scheme\":\"tableau10\"}}}}]}],\"title\":\"\",\"config\":{\"legend\":{\"orient\":\"bottom\"}},\"$schema\":\"https://vega.github.io/schema/vega-lite/v5.json\",\"encoding\":{}}\"\"\")",
      "metadata": {
        "source_hash": "7b6f4e7d",
        "output_cleared": false,
        "execution_start": 1704718333197,
        "execution_millis": 24,
        "deepnote_chart_height": 441,
        "deepnote_variable_name": "general_path",
        "deepnote_app_coordinates": {
          "h": 120,
          "w": 12,
          "x": 0,
          "y": 0
        },
        "deepnote_config_collapsed": true,
        "deepnote_to_be_reexecuted": false,
        "deepnote_visualization_spec": {
          "layer": [
            {
              "layer": [
                {
                  "mark": {
                    "clip": true,
                    "type": "bar",
                    "tooltip": true
                  },
                  "encoding": {
                    "x": {
                      "axis": {
                        "grid": false
                      },
                      "sort": null,
                      "type": "nominal",
                      "field": "funnel_step",
                      "scale": {
                        "type": "linear"
                      },
                      "stack": "zero"
                    },
                    "y": {
                      "axis": {
                        "grid": false,
                        "title": null
                      },
                      "sort": null,
                      "type": "quantitative",
                      "field": "total",
                      "scale": {
                        "type": "linear"
                      },
                      "stack": "zero",
                      "format": {
                        "type": "default",
                        "decimals": null
                      },
                      "aggregate": "sum",
                      "formatType": "numberFormatFromNumberType"
                    },
                    "color": {
                      "sort": null,
                      "type": "nominal",
                      "field": "event_name",
                      "scale": {
                        "scheme": "tableau10"
                      }
                    }
                  }
                },
                {
                  "mark": {
                    "dx": 0,
                    "dy": -1,
                    "fill": "black",
                    "type": "text",
                    "align": "center",
                    "baseline": "bottom"
                  },
                  "encoding": {
                    "x": {
                      "axis": {
                        "grid": false
                      },
                      "sort": null,
                      "type": "nominal",
                      "field": "funnel_step",
                      "scale": {
                        "type": "linear"
                      },
                      "stack": "zero"
                    },
                    "y": {
                      "axis": {
                        "grid": false,
                        "title": null
                      },
                      "sort": null,
                      "type": "quantitative",
                      "field": "total",
                      "scale": {
                        "type": "linear"
                      },
                      "stack": "zero",
                      "format": {
                        "type": "default",
                        "decimals": null
                      },
                      "aggregate": "sum",
                      "formatType": "numberFormatFromNumberType"
                    },
                    "text": {
                      "sort": null,
                      "type": "quantitative",
                      "field": "total",
                      "aggregate": "sum"
                    },
                    "color": {
                      "sort": null,
                      "type": "nominal",
                      "field": "event_name",
                      "scale": {
                        "scheme": "tableau10"
                      }
                    }
                  }
                }
              ]
            }
          ],
          "title": "",
          "config": {
            "legend": {
              "orient": "bottom"
            }
          },
          "$schema": "https://vega.github.io/schema/vega-lite/v5.json",
          "encoding": {}
        },
        "cell_id": "953cbc33814b41a8aaf6beeb77d8b4c8",
        "deepnote_cell_type": "visualization"
      },
      "outputs": [
        {
          "output_type": "execute_result",
          "execution_count": 22,
          "data": {
            "application/vnd.vegalite.v5+json": {
              "$schema": "https://vega.github.io/schema/vega-lite/v5.json",
              "encoding": {},
              "layer": [
                {
                  "layer": [
                    {
                      "mark": {
                        "type": "bar",
                        "tooltip": true,
                        "clip": true
                      },
                      "encoding": {
                        "x": {
                          "field": "funnel_step",
                          "type": "nominal",
                          "sort": null,
                          "axis": {
                            "grid": false
                          },
                          "stack": "zero",
                          "scale": {
                            "type": "linear"
                          }
                        },
                        "y": {
                          "field": "total",
                          "type": "quantitative",
                          "aggregate": "sum",
                          "sort": null,
                          "axis": {
                            "title": null,
                            "grid": false
                          },
                          "stack": "zero",
                          "scale": {
                            "type": "linear"
                          },
                          "formatType": "numberFormatFromNumberType",
                          "format": {
                            "type": "default",
                            "decimals": null
                          }
                        },
                        "color": {
                          "field": "event_name",
                          "type": "nominal",
                          "sort": null,
                          "scale": {
                            "scheme": "tableau10"
                          }
                        }
                      }
                    },
                    {
                      "mark": {
                        "type": "text",
                        "align": "center",
                        "baseline": "bottom",
                        "fill": "black",
                        "dx": 0,
                        "dy": -1
                      },
                      "encoding": {
                        "x": {
                          "field": "funnel_step",
                          "type": "nominal",
                          "sort": null,
                          "axis": {
                            "grid": false
                          },
                          "stack": "zero",
                          "scale": {
                            "type": "linear"
                          }
                        },
                        "y": {
                          "field": "total",
                          "type": "quantitative",
                          "aggregate": "sum",
                          "sort": null,
                          "axis": {
                            "title": null,
                            "grid": false
                          },
                          "stack": "zero",
                          "scale": {
                            "type": "linear"
                          },
                          "formatType": "numberFormatFromNumberType",
                          "format": {
                            "type": "default",
                            "decimals": null
                          }
                        },
                        "color": {
                          "field": "event_name",
                          "type": "nominal",
                          "sort": null,
                          "scale": {
                            "scheme": "tableau10"
                          }
                        },
                        "text": {
                          "field": "total",
                          "type": "quantitative",
                          "aggregate": "sum",
                          "sort": null
                        }
                      }
                    }
                  ]
                }
              ],
              "title": "",
              "config": {
                "legend": {
                  "orient": "bottom"
                }
              },
              "data": {
                "values": [
                  {
                    "funnel_step": "01",
                    "event_name": "registration_open",
                    "android_users": 9,
                    "apple_users": 3,
                    "total": 12,
                    "android_conversion": "100%",
                    "apple_conversion": "100%"
                  },
                  {
                    "funnel_step": "02",
                    "event_name": "registration_done",
                    "android_users": 9,
                    "apple_users": 3,
                    "total": 12,
                    "android_conversion": "100%",
                    "apple_conversion": "100%"
                  },
                  {
                    "funnel_step": "03",
                    "event_name": "subscription_offer_open",
                    "android_users": 9,
                    "apple_users": 3,
                    "total": 12,
                    "android_conversion": "100%",
                    "apple_conversion": "100%"
                  },
                  {
                    "funnel_step": "04",
                    "event_name": "create_flow_open",
                    "android_users": 9,
                    "apple_users": 3,
                    "total": 12,
                    "android_conversion": "100%",
                    "apple_conversion": "100%"
                  },
                  {
                    "funnel_step": "05",
                    "event_name": "subscription_offer_open",
                    "android_users": 8,
                    "apple_users": 3,
                    "total": 11,
                    "android_conversion": "89%",
                    "apple_conversion": "100%"
                  },
                  {
                    "funnel_step": "06",
                    "event_name": "editor_open",
                    "android_users": 7,
                    "apple_users": 3,
                    "total": 10,
                    "android_conversion": "78%",
                    "apple_conversion": "100%"
                  },
                  {
                    "funnel_step": "07",
                    "event_name": "object_export",
                    "android_users": 4,
                    "apple_users": 1,
                    "total": 5,
                    "android_conversion": "44%",
                    "apple_conversion": "33%"
                  },
                  {
                    "funnel_step": "08",
                    "event_name": "editor_open",
                    "android_users": 2,
                    "apple_users": 1,
                    "total": 3,
                    "android_conversion": "22%",
                    "apple_conversion": "33%"
                  },
                  {
                    "funnel_step": "09",
                    "event_name": "object_export",
                    "android_users": 2,
                    "apple_users": 0,
                    "total": 2,
                    "android_conversion": "22%",
                    "apple_conversion": "0%"
                  },
                  {
                    "funnel_step": "09",
                    "event_name": "subscription_offer_open",
                    "android_users": 1,
                    "apple_users": 1,
                    "total": 2,
                    "android_conversion": "11%",
                    "apple_conversion": "33%"
                  },
                  {
                    "funnel_step": "10",
                    "event_name": "object_export",
                    "android_users": 1,
                    "apple_users": 1,
                    "total": 2,
                    "android_conversion": "11%",
                    "apple_conversion": "33%"
                  },
                  {
                    "funnel_step": "07",
                    "event_name": "subscription_offer_open",
                    "android_users": 2,
                    "apple_users": 1,
                    "total": 3,
                    "android_conversion": "22%",
                    "apple_conversion": "33%"
                  },
                  {
                    "funnel_step": "08",
                    "event_name": "object_export",
                    "android_users": 0,
                    "apple_users": 1,
                    "total": 1,
                    "android_conversion": "0%",
                    "apple_conversion": "33%"
                  },
                  {
                    "funnel_step": "06",
                    "event_name": "object_export",
                    "android_users": 1,
                    "apple_users": 0,
                    "total": 1,
                    "android_conversion": "11%",
                    "apple_conversion": "0%"
                  },
                  {
                    "funnel_step": "08",
                    "event_name": "subscription_offer_open",
                    "android_users": 3,
                    "apple_users": 0,
                    "total": 3,
                    "android_conversion": "33%",
                    "apple_conversion": "0%"
                  },
                  {
                    "funnel_step": "10",
                    "event_name": "editor_open",
                    "android_users": 1,
                    "apple_users": 0,
                    "total": 1,
                    "android_conversion": "11%",
                    "apple_conversion": "0%"
                  },
                  {
                    "funnel_step": "11",
                    "event_name": "subscription_offer_open",
                    "android_users": 2,
                    "apple_users": 0,
                    "total": 2,
                    "android_conversion": "22%",
                    "apple_conversion": "0%"
                  },
                  {
                    "funnel_step": "12",
                    "event_name": "editor_open",
                    "android_users": 1,
                    "apple_users": 0,
                    "total": 1,
                    "android_conversion": "11%",
                    "apple_conversion": "0%"
                  },
                  {
                    "funnel_step": "13",
                    "event_name": "subscription_offer_open",
                    "android_users": 1,
                    "apple_users": 0,
                    "total": 1,
                    "android_conversion": "11%",
                    "apple_conversion": "0%"
                  },
                  {
                    "funnel_step": "09",
                    "event_name": "editor_open",
                    "android_users": 1,
                    "apple_users": 0,
                    "total": 1,
                    "android_conversion": "11%",
                    "apple_conversion": "0%"
                  },
                  {
                    "funnel_step": "10",
                    "event_name": "subscription_offer_open",
                    "android_users": 1,
                    "apple_users": 0,
                    "total": 1,
                    "android_conversion": "11%",
                    "apple_conversion": "0%"
                  },
                  {
                    "funnel_step": "11",
                    "event_name": "object_export",
                    "android_users": 1,
                    "apple_users": 0,
                    "total": 1,
                    "android_conversion": "11%",
                    "apple_conversion": "0%"
                  },
                  {
                    "funnel_step": "12",
                    "event_name": "subscription_offer_open",
                    "android_users": 1,
                    "apple_users": 0,
                    "total": 1,
                    "android_conversion": "11%",
                    "apple_conversion": "0%"
                  },
                  {
                    "funnel_step": "13",
                    "event_name": "object_export",
                    "android_users": 1,
                    "apple_users": 0,
                    "total": 1,
                    "android_conversion": "11%",
                    "apple_conversion": "0%"
                  },
                  {
                    "funnel_step": "14",
                    "event_name": "subscription_offer_open",
                    "android_users": 1,
                    "apple_users": 0,
                    "total": 1,
                    "android_conversion": "11%",
                    "apple_conversion": "0%"
                  }
                ]
              }
            },
            "text/plain": "<__main__.DeepnoteChart at 0x7f5f1ad90dc0>"
          },
          "metadata": {}
        }
      ],
      "execution_count": 22,
      "block_group": "711aa87e27ac456bb2517cb6373347db"
    },
    {
      "cell_type": "code",
      "source": "DeepnoteChart(general_path, \"\"\"{\"layer\":[{\"layer\":[{\"mark\":{\"clip\":true,\"type\":\"bar\",\"tooltip\":true},\"encoding\":{\"x\":{\"axis\":{\"title\":\"Funnel step\"},\"sort\":null,\"type\":\"nominal\",\"field\":\"funnel_step\",\"scale\":{\"type\":\"linear\"},\"stack\":\"zero\"},\"y\":{\"axis\":{\"title\":\"Total users\"},\"sort\":null,\"type\":\"quantitative\",\"field\":\"total\",\"scale\":{\"type\":\"linear\"},\"stack\":\"zero\",\"format\":{\"type\":\"default\",\"decimals\":null},\"aggregate\":\"sum\",\"formatType\":\"numberFormatFromNumberType\"},\"color\":{\"sort\":null,\"type\":\"nominal\",\"field\":\"event_name\",\"scale\":{\"scheme\":\"tableau10\"}}}},{\"mark\":{\"dx\":0,\"dy\":-1,\"fill\":\"black\",\"type\":\"text\",\"align\":\"center\",\"baseline\":\"bottom\"},\"encoding\":{\"x\":{\"axis\":{\"title\":\"Funnel step\"},\"sort\":null,\"type\":\"nominal\",\"field\":\"funnel_step\",\"scale\":{\"type\":\"linear\"},\"stack\":\"zero\"},\"y\":{\"axis\":{\"title\":\"Total users\"},\"sort\":null,\"type\":\"quantitative\",\"field\":\"total\",\"scale\":{\"type\":\"linear\"},\"stack\":\"zero\",\"format\":{\"type\":\"default\",\"decimals\":null},\"aggregate\":\"sum\",\"formatType\":\"numberFormatFromNumberType\"},\"text\":{\"sort\":null,\"type\":\"quantitative\",\"field\":\"total\",\"aggregate\":\"sum\"},\"color\":{\"sort\":null,\"type\":\"nominal\",\"field\":\"event_name\",\"scale\":{\"scheme\":\"tableau10\"}}}}]}],\"title\":\"\",\"config\":{\"legend\":{\"orient\":\"top\"}},\"$schema\":\"https://vega.github.io/schema/vega-lite/v5.json\",\"encoding\":{}}\"\"\")",
      "metadata": {
        "source_hash": "831783e5",
        "execution_start": 1704718045449,
        "execution_millis": 17,
        "deepnote_chart_height": 439,
        "deepnote_variable_name": "general_path",
        "deepnote_app_coordinates": {
          "h": 120,
          "w": 12,
          "x": 0,
          "y": 0
        },
        "deepnote_config_collapsed": true,
        "deepnote_to_be_reexecuted": true,
        "deepnote_visualization_spec": {
          "layer": [
            {
              "layer": [
                {
                  "mark": {
                    "clip": true,
                    "type": "bar",
                    "tooltip": true
                  },
                  "encoding": {
                    "x": {
                      "axis": {
                        "title": "Funnel step"
                      },
                      "sort": null,
                      "type": "nominal",
                      "field": "funnel_step",
                      "scale": {
                        "type": "linear"
                      },
                      "stack": "zero"
                    },
                    "y": {
                      "axis": {
                        "title": "Total users"
                      },
                      "sort": null,
                      "type": "quantitative",
                      "field": "total",
                      "scale": {
                        "type": "linear"
                      },
                      "stack": "zero",
                      "format": {
                        "type": "default",
                        "decimals": null
                      },
                      "aggregate": "sum",
                      "formatType": "numberFormatFromNumberType"
                    },
                    "color": {
                      "sort": null,
                      "type": "nominal",
                      "field": "event_name",
                      "scale": {
                        "scheme": "tableau10"
                      }
                    }
                  }
                },
                {
                  "mark": {
                    "dx": 0,
                    "dy": -1,
                    "fill": "black",
                    "type": "text",
                    "align": "center",
                    "baseline": "bottom"
                  },
                  "encoding": {
                    "x": {
                      "axis": {
                        "title": "Funnel step"
                      },
                      "sort": null,
                      "type": "nominal",
                      "field": "funnel_step",
                      "scale": {
                        "type": "linear"
                      },
                      "stack": "zero"
                    },
                    "y": {
                      "axis": {
                        "title": "Total users"
                      },
                      "sort": null,
                      "type": "quantitative",
                      "field": "total",
                      "scale": {
                        "type": "linear"
                      },
                      "stack": "zero",
                      "format": {
                        "type": "default",
                        "decimals": null
                      },
                      "aggregate": "sum",
                      "formatType": "numberFormatFromNumberType"
                    },
                    "text": {
                      "sort": null,
                      "type": "quantitative",
                      "field": "total",
                      "aggregate": "sum"
                    },
                    "color": {
                      "sort": null,
                      "type": "nominal",
                      "field": "event_name",
                      "scale": {
                        "scheme": "tableau10"
                      }
                    }
                  }
                }
              ]
            }
          ],
          "title": "",
          "config": {
            "legend": {
              "orient": "top"
            }
          },
          "$schema": "https://vega.github.io/schema/vega-lite/v5.json",
          "encoding": {}
        },
        "cell_id": "43e6976a974540488571453ec53f6428",
        "deepnote_cell_type": "visualization"
      },
      "outputs": [
        {
          "output_type": "execute_result",
          "execution_count": 36,
          "data": {
            "application/vnd.vegalite.v5+json": {
              "$schema": "https://vega.github.io/schema/vega-lite/v5.json",
              "encoding": {},
              "layer": [
                {
                  "layer": [
                    {
                      "mark": {
                        "type": "bar",
                        "tooltip": true,
                        "clip": true
                      },
                      "encoding": {
                        "x": {
                          "field": "funnel_step",
                          "type": "nominal",
                          "sort": null,
                          "axis": {
                            "title": "Funnel step"
                          },
                          "stack": "zero",
                          "scale": {
                            "type": "linear"
                          }
                        },
                        "y": {
                          "field": "total",
                          "type": "quantitative",
                          "aggregate": "sum",
                          "sort": null,
                          "axis": {
                            "title": "Total users"
                          },
                          "stack": "zero",
                          "scale": {
                            "type": "linear"
                          },
                          "formatType": "numberFormatFromNumberType",
                          "format": {
                            "type": "default",
                            "decimals": null
                          }
                        },
                        "color": {
                          "field": "event_name",
                          "type": "nominal",
                          "sort": null,
                          "scale": {
                            "scheme": "tableau10"
                          }
                        }
                      }
                    },
                    {
                      "mark": {
                        "type": "text",
                        "align": "center",
                        "baseline": "bottom",
                        "fill": "black",
                        "dx": 0,
                        "dy": -1
                      },
                      "encoding": {
                        "x": {
                          "field": "funnel_step",
                          "type": "nominal",
                          "sort": null,
                          "axis": {
                            "title": "Funnel step"
                          },
                          "stack": "zero",
                          "scale": {
                            "type": "linear"
                          }
                        },
                        "y": {
                          "field": "total",
                          "type": "quantitative",
                          "aggregate": "sum",
                          "sort": null,
                          "axis": {
                            "title": "Total users"
                          },
                          "stack": "zero",
                          "scale": {
                            "type": "linear"
                          },
                          "formatType": "numberFormatFromNumberType",
                          "format": {
                            "type": "default",
                            "decimals": null
                          }
                        },
                        "color": {
                          "field": "event_name",
                          "type": "nominal",
                          "sort": null,
                          "scale": {
                            "scheme": "tableau10"
                          }
                        },
                        "text": {
                          "field": "total",
                          "type": "quantitative",
                          "aggregate": "sum",
                          "sort": null
                        }
                      }
                    }
                  ]
                }
              ],
              "title": "",
              "config": {
                "legend": {
                  "orient": "top"
                }
              },
              "data": {
                "values": [
                  {
                    "funnel_step": "01",
                    "event_name": "registration_open",
                    "android_users": 9,
                    "apple_users": 3,
                    "total": 12,
                    "android_conversion": "100%",
                    "apple_conversion": "100%"
                  },
                  {
                    "funnel_step": "02",
                    "event_name": "registration_done",
                    "android_users": 9,
                    "apple_users": 3,
                    "total": 12,
                    "android_conversion": "100%",
                    "apple_conversion": "100%"
                  },
                  {
                    "funnel_step": "03",
                    "event_name": "subscription_offer_open",
                    "android_users": 9,
                    "apple_users": 3,
                    "total": 12,
                    "android_conversion": "100%",
                    "apple_conversion": "100%"
                  },
                  {
                    "funnel_step": "04",
                    "event_name": "create_flow_open",
                    "android_users": 9,
                    "apple_users": 3,
                    "total": 12,
                    "android_conversion": "100%",
                    "apple_conversion": "100%"
                  },
                  {
                    "funnel_step": "05",
                    "event_name": "subscription_offer_open",
                    "android_users": 8,
                    "apple_users": 3,
                    "total": 11,
                    "android_conversion": "89%",
                    "apple_conversion": "100%"
                  },
                  {
                    "funnel_step": "06",
                    "event_name": "editor_open",
                    "android_users": 7,
                    "apple_users": 3,
                    "total": 10,
                    "android_conversion": "78%",
                    "apple_conversion": "100%"
                  },
                  {
                    "funnel_step": "07",
                    "event_name": "object_export",
                    "android_users": 4,
                    "apple_users": 1,
                    "total": 5,
                    "android_conversion": "44%",
                    "apple_conversion": "33%"
                  },
                  {
                    "funnel_step": "08",
                    "event_name": "editor_open",
                    "android_users": 2,
                    "apple_users": 1,
                    "total": 3,
                    "android_conversion": "22%",
                    "apple_conversion": "33%"
                  },
                  {
                    "funnel_step": "09",
                    "event_name": "object_export",
                    "android_users": 2,
                    "apple_users": 0,
                    "total": 2,
                    "android_conversion": "22%",
                    "apple_conversion": "0%"
                  },
                  {
                    "funnel_step": "09",
                    "event_name": "subscription_offer_open",
                    "android_users": 1,
                    "apple_users": 1,
                    "total": 2,
                    "android_conversion": "11%",
                    "apple_conversion": "33%"
                  },
                  {
                    "funnel_step": "10",
                    "event_name": "object_export",
                    "android_users": 1,
                    "apple_users": 1,
                    "total": 2,
                    "android_conversion": "11%",
                    "apple_conversion": "33%"
                  },
                  {
                    "funnel_step": "07",
                    "event_name": "subscription_offer_open",
                    "android_users": 2,
                    "apple_users": 1,
                    "total": 3,
                    "android_conversion": "22%",
                    "apple_conversion": "33%"
                  },
                  {
                    "funnel_step": "08",
                    "event_name": "object_export",
                    "android_users": 0,
                    "apple_users": 1,
                    "total": 1,
                    "android_conversion": "0%",
                    "apple_conversion": "33%"
                  },
                  {
                    "funnel_step": "06",
                    "event_name": "object_export",
                    "android_users": 1,
                    "apple_users": 0,
                    "total": 1,
                    "android_conversion": "11%",
                    "apple_conversion": "0%"
                  },
                  {
                    "funnel_step": "08",
                    "event_name": "subscription_offer_open",
                    "android_users": 3,
                    "apple_users": 0,
                    "total": 3,
                    "android_conversion": "33%",
                    "apple_conversion": "0%"
                  },
                  {
                    "funnel_step": "10",
                    "event_name": "editor_open",
                    "android_users": 1,
                    "apple_users": 0,
                    "total": 1,
                    "android_conversion": "11%",
                    "apple_conversion": "0%"
                  },
                  {
                    "funnel_step": "11",
                    "event_name": "subscription_offer_open",
                    "android_users": 2,
                    "apple_users": 0,
                    "total": 2,
                    "android_conversion": "22%",
                    "apple_conversion": "0%"
                  },
                  {
                    "funnel_step": "12",
                    "event_name": "editor_open",
                    "android_users": 1,
                    "apple_users": 0,
                    "total": 1,
                    "android_conversion": "11%",
                    "apple_conversion": "0%"
                  },
                  {
                    "funnel_step": "13",
                    "event_name": "subscription_offer_open",
                    "android_users": 1,
                    "apple_users": 0,
                    "total": 1,
                    "android_conversion": "11%",
                    "apple_conversion": "0%"
                  },
                  {
                    "funnel_step": "09",
                    "event_name": "editor_open",
                    "android_users": 1,
                    "apple_users": 0,
                    "total": 1,
                    "android_conversion": "11%",
                    "apple_conversion": "0%"
                  },
                  {
                    "funnel_step": "10",
                    "event_name": "subscription_offer_open",
                    "android_users": 1,
                    "apple_users": 0,
                    "total": 1,
                    "android_conversion": "11%",
                    "apple_conversion": "0%"
                  },
                  {
                    "funnel_step": "11",
                    "event_name": "object_export",
                    "android_users": 1,
                    "apple_users": 0,
                    "total": 1,
                    "android_conversion": "11%",
                    "apple_conversion": "0%"
                  },
                  {
                    "funnel_step": "12",
                    "event_name": "subscription_offer_open",
                    "android_users": 1,
                    "apple_users": 0,
                    "total": 1,
                    "android_conversion": "11%",
                    "apple_conversion": "0%"
                  },
                  {
                    "funnel_step": "13",
                    "event_name": "object_export",
                    "android_users": 1,
                    "apple_users": 0,
                    "total": 1,
                    "android_conversion": "11%",
                    "apple_conversion": "0%"
                  },
                  {
                    "funnel_step": "14",
                    "event_name": "subscription_offer_open",
                    "android_users": 1,
                    "apple_users": 0,
                    "total": 1,
                    "android_conversion": "11%",
                    "apple_conversion": "0%"
                  }
                ]
              }
            },
            "text/plain": "<__main__.DeepnoteChart at 0x7f44339ec760>"
          },
          "metadata": {}
        }
      ],
      "execution_count": null,
      "block_group": "03193dd439cc4ce69ae1f41c2d2dcb49"
    },
    {
      "cell_type": "markdown",
      "source": "_For this analysis, the event user_key was used since it provides a more well distributed analysis, as opposed to the apps user_key that counts for example, an user that has just signed up with more than 3k distinct sessions. This might indicate that the apps_open table considers a larger range of criteria to define the user key, while the events table is more specific._\n\n#### Insights:\nThere are basically two distinct paths completed by users on different platforms (Apple and Android):\n<br>\n> ```1) registration_done -> subscription_offer_open -> create_flow_open -> subscription_offer_open   ```\n> ```2) registration_done -> create_flow_open -> object_export                                        ```\n\n-> The repeated subscription_offer_open in the step 4 suggests users are being presented with the subscription offer, navigating away to a creation flow, and then being presented with the subscription offer again.\n\n-> A total of 10 unique Android user sessions are represented, indicating a higher volume of Android users engaging with the app in this dataset or at least a higher volume of Android users completing the registration.\n\n-> Only 3 new Apple user sessions have interacted with the app, which could suggest either less engagement.\n\n#### Potential Funnel Issues:\n\n-> The repeated subscription_offer_open event could indicate a design in the user experience where users are either not subscribing at the first offer and are being re-presented with the offer or they are navigating back to it.\n\n-> The presence of object_export for a single Android session suggests a user reached a stage of exporting an object, which might be a desirable end action in the app flow, indicative of user retention and engagement. \n\n#### Actionable Insights:\n\n-> For Android, the drop from 8 users to 1 user between the second subscription_offer_open and create_flow_open suggests a significant drop-off point which could be investigated to understand why users are not proceeding.\n\n-> For Apple, since only one path is shown and only three users, it's hard to draw a conclusion without additional data. It’s possible that Apple users have a more streamlined experience, or the data is not capturing the full range of user behavior.\n\n-> Given the commonality of the \"subscription_offer_open\" step, it would be beneficial to understand why users return to it, and if necessary, improve this step in the user journey by enhancing the user interface and clarity of offers, or potentially introduce more attractive subscription plans.\n\n- A/B tests could be employed to optimize user paths or identified drop-off points and improve the overall user journey and application conversion.\n\n- Further analysis might involve correlating these paths with user outcomes (like churn or long-term engagement) and breaking this analysis down further based on other user properties like country, language, device type, etc.\n",
      "metadata": {
        "deepnote_app_coordinates": {
          "h": 120,
          "w": 12,
          "x": 0,
          "y": 0
        },
        "cell_id": "10873672b9344ecea323384b1d12e5c2",
        "deepnote_cell_type": "markdown"
      },
      "block_group": "7ddf7cce65f149988db5a408518e6658"
    },
    {
      "cell_type": "markdown",
      "source": "### WAU",
      "metadata": {
        "formattedRanges": [],
        "deepnote_app_coordinates": {
          "h": 120,
          "w": 12,
          "x": 0,
          "y": 0
        },
        "cell_id": "58c6183857554227af60c8aa3effa24f",
        "deepnote_cell_type": "text-cell-h3"
      },
      "block_group": "4185537c1dce4e8f8752dfc7a22380e8"
    },
    {
      "cell_type": "markdown",
      "source": "> 2. Calculate the WAU Growth Accounting (New, Retained, Resurrected, Churn users) from November 13th to November 19th",
      "metadata": {
        "formattedRanges": [],
        "deepnote_app_coordinates": {
          "h": 2,
          "w": 8,
          "x": 0,
          "y": 0
        },
        "cell_id": "97ef983502a3400f87e1d6d9fdd7adfa",
        "deepnote_cell_type": "text-cell-callout"
      },
      "block_group": "d3dfe5b0f3ed471c8710f0e0998fede1"
    },
    {
      "cell_type": "code",
      "source": "base_users = _deepnote_execute_sql('-- Get the weekly status of each user based on first_app_open and if there was an event in the same week.active\\n-- For this,the values will be encoded as follow: 5 - active, 4 - inactive, 7 - new, 5 - existing\\n\\nWITH base AS (\\n    SELECT DISTINCT\\n        CASE WHEN events.user_skey = \\'null\\' THEN apps_open.user_skey ELSE events.user_skey END AS user_key\\n        , DATE_TRUNC(\\'week\\', events.date_time) AS week\\n        , events.platform\\n        , MAX(is_first_app_open) AS is_new\\n    FROM events  \\n    LEFT JOIN apps_open USING(session_skey) \\n    GROUP BY 1, 2, 3\\n)\\n, wau AS (\\n    SELECT \\n        week\\n        , CONCAT(\\'Total Week \\', RANK() OVER(ORDER BY week), \\': \\') AS label\\n        , COUNT(DISTINCT user_key) AS users\\n    FROM base\\n    GROUP BY 1\\n)\\n\\n, pivoted AS (\\n    PIVOT base ON week GROUP BY user_key, is_new\\n)\\n\\n, label AS (\\nSELECT user_key\\n    , CASE WHEN is_new = TRUE and \"2023-11-06\" = 1 THEN \\'new\\'\\n           WHEN (is_new = FALSE OR is_new IS NULL) and \"2023-11-06\" = 1 THEN \\'existing\\' \\n           ELSE NULL\\n        END AS \\'week_1\\'\\n    , CASE WHEN is_new = TRUE and \"2023-11-06\" = 0 THEN \\'new\\'\\n           WHEN (is_new = FALSE OR is_new IS NULL) and \"2023-11-13\" = 1 THEN \\'existing\\' \\n           ELSE NULL\\n        END AS \\'week_2\\'\\n    , CONCAT(week_1, \\' - \\', week_2) AS status\\nFROM pivoted\\n)\\n\\n, final AS (SELECT\\n     CASE  WHEN status = \\'existing - \\' THEN \\'Churn:\\'\\n            WHEN status = \\' - existing\\' THEN \\'Ressurrect:\\'\\n            WHEN status = \\'new - \\'     THEN \\'New week 1:\\'\\n            WHEN status = \\' - new\\'     THEN \\'New week 2:\\'            \\n            WHEN status = \\'existing - existing\\' THEN \\'Retained :\\'\\n        END AS label\\n    , COUNT(*) AS users\\nFROM label\\nWHERE status != \\' - \\'\\nGROUP BY 1\\n)\\n\\nSELECT *\\nFROM final\\nUNION ALL \\nSELECT label, users \\nFROM wau', 'SQL_DEEPNOTE_DATAFRAME_SQL', audit_sql_comment='', sql_cache_mode='cache_disabled')\nbase_users",
      "metadata": {
        "source_hash": "b74a1e75",
        "is_code_hidden": true,
        "execution_start": 1704714953500,
        "execution_millis": 373,
        "sql_integration_id": "deepnote-dataframe-sql",
        "deepnote_table_state": {
          "sortBy": [
            {
              "id": "week_1",
              "type": "desc"
            }
          ],
          "filters": [],
          "pageSize": 10,
          "pageIndex": 0
        },
        "deepnote_table_loading": false,
        "deepnote_variable_name": "base_users",
        "deepnote_app_coordinates": {
          "h": 120,
          "w": 12,
          "x": 0,
          "y": 0
        },
        "deepnote_to_be_reexecuted": true,
        "deepnote_app_is_code_hidden": true,
        "cell_id": "3b85928dd81f4313a5c3dbb15026ee3e",
        "deepnote_cell_type": "sql",
        "deepnote_sql_source": "-- Get the weekly status of each user based on first_app_open and if there was an event in the same week.active\n-- For this,the values will be encoded as follow: 5 - active, 4 - inactive, 7 - new, 5 - existing\n\nWITH base AS (\n    SELECT DISTINCT\n        CASE WHEN events.user_skey = 'null' THEN apps_open.user_skey ELSE events.user_skey END AS user_key\n        , DATE_TRUNC('week', events.date_time) AS week\n        , events.platform\n        , MAX(is_first_app_open) AS is_new\n    FROM events  \n    LEFT JOIN apps_open USING(session_skey) \n    GROUP BY 1, 2, 3\n)\n, wau AS (\n    SELECT \n        week\n        , CONCAT('Total Week ', RANK() OVER(ORDER BY week), ': ') AS label\n        , COUNT(DISTINCT user_key) AS users\n    FROM base\n    GROUP BY 1\n)\n\n, pivoted AS (\n    PIVOT base ON week GROUP BY user_key, is_new\n)\n\n, label AS (\nSELECT user_key\n    , CASE WHEN is_new = TRUE and \"2023-11-06\" = 1 THEN 'new'\n           WHEN (is_new = FALSE OR is_new IS NULL) and \"2023-11-06\" = 1 THEN 'existing' \n           ELSE NULL\n        END AS 'week_1'\n    , CASE WHEN is_new = TRUE and \"2023-11-06\" = 0 THEN 'new'\n           WHEN (is_new = FALSE OR is_new IS NULL) and \"2023-11-13\" = 1 THEN 'existing' \n           ELSE NULL\n        END AS 'week_2'\n    , CONCAT(week_1, ' - ', week_2) AS status\nFROM pivoted\n)\n\n, final AS (SELECT\n     CASE  WHEN status = 'existing - ' THEN 'Churn:'\n            WHEN status = ' - existing' THEN 'Ressurrect:'\n            WHEN status = 'new - '     THEN 'New week 1:'\n            WHEN status = ' - new'     THEN 'New week 2:'            \n            WHEN status = 'existing - existing' THEN 'Retained :'\n        END AS label\n    , COUNT(*) AS users\nFROM label\nWHERE status != ' - '\nGROUP BY 1\n)\n\nSELECT *\nFROM final\nUNION ALL \nSELECT label, users \nFROM wau"
      },
      "outputs": [
        {
          "data": {
            "application/vnd.deepnote.sql-output-metadata+json": {
              "status": "success_no_cache",
              "size_in_bytes": 660
            }
          },
          "metadata": {},
          "output_type": "display_data"
        },
        {
          "output_type": "execute_result",
          "execution_count": 9,
          "data": {
            "application/vnd.deepnote.dataframe.v3+json": {
              "column_count": 2,
              "row_count": 7,
              "columns": [
                {
                  "name": "label",
                  "dtype": "object",
                  "stats": {
                    "unique_count": 7,
                    "nan_count": 0,
                    "categories": [
                      {
                        "name": "Churn:",
                        "count": 1
                      },
                      {
                        "name": "Ressurrect:",
                        "count": 1
                      },
                      {
                        "name": "5 others",
                        "count": 5
                      }
                    ]
                  }
                },
                {
                  "name": "users",
                  "dtype": "int64",
                  "stats": {
                    "unique_count": 7,
                    "nan_count": 0,
                    "min": "4",
                    "max": "60324",
                    "histogram": [
                      {
                        "bin_start": 4,
                        "bin_end": 6036,
                        "count": 3
                      },
                      {
                        "bin_start": 6036,
                        "bin_end": 12068,
                        "count": 0
                      },
                      {
                        "bin_start": 12068,
                        "bin_end": 18100,
                        "count": 0
                      },
                      {
                        "bin_start": 18100,
                        "bin_end": 24132,
                        "count": 0
                      },
                      {
                        "bin_start": 24132,
                        "bin_end": 30164,
                        "count": 0
                      },
                      {
                        "bin_start": 30164,
                        "bin_end": 36196,
                        "count": 0
                      },
                      {
                        "bin_start": 36196,
                        "bin_end": 42228,
                        "count": 0
                      },
                      {
                        "bin_start": 42228,
                        "bin_end": 48260,
                        "count": 0
                      },
                      {
                        "bin_start": 48260,
                        "bin_end": 54292,
                        "count": 0
                      },
                      {
                        "bin_start": 54292,
                        "bin_end": 60324,
                        "count": 4
                      }
                    ]
                  }
                },
                {
                  "name": "_deepnote_index_column",
                  "dtype": "int64"
                }
              ],
              "rows": [
                {
                  "label": "Churn:",
                  "users": 57320,
                  "_deepnote_index_column": 0
                },
                {
                  "label": "Ressurrect:",
                  "users": 58849,
                  "_deepnote_index_column": 1
                },
                {
                  "label": "Retained :",
                  "users": 1464,
                  "_deepnote_index_column": 2
                },
                {
                  "label": "New week 2:",
                  "users": 8,
                  "_deepnote_index_column": 3
                },
                {
                  "label": "New week 1:",
                  "users": 4,
                  "_deepnote_index_column": 4
                },
                {
                  "label": "Total Week 1: ",
                  "users": 58790,
                  "_deepnote_index_column": 5
                },
                {
                  "label": "Total Week 2: ",
                  "users": 60324,
                  "_deepnote_index_column": 6
                }
              ]
            },
            "text/plain": "            label  users\n0          Churn:  57320\n1     Ressurrect:  58849\n2      Retained :   1464\n3     New week 2:      8\n4     New week 1:      4\n5  Total Week 1:   58790\n6  Total Week 2:   60324",
            "text/html": "<div>\n<style scoped>\n    .dataframe tbody tr th:only-of-type {\n        vertical-align: middle;\n    }\n\n    .dataframe tbody tr th {\n        vertical-align: top;\n    }\n\n    .dataframe thead th {\n        text-align: right;\n    }\n</style>\n<table border=\"1\" class=\"dataframe\">\n  <thead>\n    <tr style=\"text-align: right;\">\n      <th></th>\n      <th>label</th>\n      <th>users</th>\n    </tr>\n  </thead>\n  <tbody>\n    <tr>\n      <th>0</th>\n      <td>Churn:</td>\n      <td>57320</td>\n    </tr>\n    <tr>\n      <th>1</th>\n      <td>Ressurrect:</td>\n      <td>58849</td>\n    </tr>\n    <tr>\n      <th>2</th>\n      <td>Retained :</td>\n      <td>1464</td>\n    </tr>\n    <tr>\n      <th>3</th>\n      <td>New week 2:</td>\n      <td>8</td>\n    </tr>\n    <tr>\n      <th>4</th>\n      <td>New week 1:</td>\n      <td>4</td>\n    </tr>\n    <tr>\n      <th>5</th>\n      <td>Total Week 1:</td>\n      <td>58790</td>\n    </tr>\n    <tr>\n      <th>6</th>\n      <td>Total Week 2:</td>\n      <td>60324</td>\n    </tr>\n  </tbody>\n</table>\n</div>"
          },
          "metadata": {}
        }
      ],
      "execution_count": null,
      "block_group": "692668aa90be4c8ea8b0e9e78f825760"
    },
    {
      "cell_type": "markdown",
      "source": "**Weekly Active Users (WAU) Growth Accounting** is a framework used to analyze the dynamics of a product's user base over time. It breaks down the changes in the active user count into several categories:\n\n> **New Users:** There were 4 new users in the first week and 8 new users in the second week.\n> **Retained Users:** 1,464 users were active in both weeks.\n> **Resurrected Users:** 58,849 users were not active in the week of 2023-11-06 but returned in the week of 2023-11-13.\n> **Churned Users:** 57,321 users were active in the week of 2023-11-06 but did not return in the week of 2023-11-13.\n> **Global Growth:** The number of WAUs on 2023-11-06 was 58,790 and on 2023-11-13 it was 60,324, representing a growth of 2.6%.\n\n\nBased on the calculations:\n\n-> The net growth of WAUs from the first week to the second week is 1,533 users.\n-> The churn rate, which is the proportion of users from the first week who did not return in the second week, is approximately 97.50%.\n-> The retention rate, which is the proportion of users from the first week who were still active in the second week, is approximately 2.49%.\n-> The acquisition rate of new users in the first week was approximately 0.01%.\n-> The acquisition rate of new users in the second week was approximately 0.01%.\n\nThese rates provide a mixed picture. The very high churn and resurrection rates suggest either a highly volatile user base or potentially an error in the data. Typically, churn and resurrection rates are much smaller percentages. The retention rate is also very low, indicating that very few users continue to use the product from week to week.\n\nIt would be advisable to review the data sample size and quality, especially the numbers related to resurrected and churned users, as they significantly affect the interpretation of user engagement and product health. ​",
      "metadata": {
        "source_hash": "effbef51",
        "execution_start": 1703247945801,
        "execution_millis": 13,
        "deepnote_app_coordinates": {
          "h": 120,
          "w": 12,
          "x": 0,
          "y": 0
        },
        "deepnote_to_be_reexecuted": false,
        "cell_id": "e3ecfdc41cc5427e8af54600c4490747",
        "deepnote_cell_type": "markdown"
      },
      "block_group": "74b4ae7c08b64d96863111260c17caf6"
    },
    {
      "cell_type": "markdown",
      "source": "### Retention rate",
      "metadata": {
        "formattedRanges": [],
        "deepnote_app_coordinates": {
          "h": 120,
          "w": 12,
          "x": 0,
          "y": 0
        },
        "cell_id": "2921af7016884706acbc45d7e348662e",
        "deepnote_cell_type": "text-cell-h3"
      },
      "block_group": "52085c89f4084e39ac9df3f6cbf5adc6"
    },
    {
      "cell_type": "markdown",
      "source": "> 3. Write a SQL query to calculate the user’s daily retention rate for 7 days. Calculate both Sticky and Cohorted Retention",
      "metadata": {
        "formattedRanges": [],
        "deepnote_app_coordinates": {
          "h": 2,
          "w": 8,
          "x": 0,
          "y": 0
        },
        "cell_id": "f7053cc876444665bedccbd2e2f8705f",
        "deepnote_cell_type": "text-cell-callout"
      },
      "block_group": "43c9354cff2d4157a90ca2447098486d"
    },
    {
      "cell_type": "code",
      "source": "cohort = _deepnote_execute_sql('WITH base AS(\\n    SELECT DISTINCT \\n    e.date_time::date AS date_time\\n    , f.user_skey\\n    , e.session_skey\\n    , f.first_touch::date AS first_touch\\n    , f.last_touch\\n    , DATEDIFF(\\'day\\', f.first_touch, e.date_time) AS cohort_date\\n    FROM new_users AS f\\n    LEFT JOIN events AS e USING(user_skey)\\n)\\n-- SELECT * from base\\nPIVOT base ON cohort_date \\nUSING COUNT(user_skey)\\nGROUP BY first_touch', 'SQL_DEEPNOTE_DATAFRAME_SQL', audit_sql_comment='', sql_cache_mode='cache_disabled')\ncohort",
      "metadata": {
        "source_hash": "ec8b3f67",
        "is_code_hidden": true,
        "execution_start": 1704714953914,
        "execution_millis": 55,
        "sql_integration_id": "deepnote-dataframe-sql",
        "deepnote_table_state": {
          "sortBy": [
            {
              "id": "first_touch",
              "type": "asc"
            }
          ],
          "filters": [],
          "pageSize": 25,
          "pageIndex": 0
        },
        "deepnote_table_loading": false,
        "deepnote_variable_name": "cohort",
        "deepnote_app_coordinates": {
          "h": 120,
          "w": 12,
          "x": 0,
          "y": 0
        },
        "deepnote_to_be_reexecuted": true,
        "deepnote_app_is_code_hidden": true,
        "cell_id": "3a1a3fe24a63466698e48b3df5c13453",
        "deepnote_cell_type": "sql",
        "deepnote_sql_source": "WITH base AS(\n    SELECT DISTINCT \n    e.date_time::date AS date_time\n    , f.user_skey\n    , e.session_skey\n    , f.first_touch::date AS first_touch\n    , f.last_touch\n    , DATEDIFF('day', f.first_touch, e.date_time) AS cohort_date\n    FROM new_users AS f\n    LEFT JOIN events AS e USING(user_skey)\n)\n-- SELECT * from base\nPIVOT base ON cohort_date \nUSING COUNT(user_skey)\nGROUP BY first_touch"
      },
      "outputs": [
        {
          "data": {
            "application/vnd.deepnote.sql-output-metadata+json": {
              "status": "success_no_cache",
              "size_in_bytes": 512
            }
          },
          "metadata": {},
          "output_type": "display_data"
        },
        {
          "output_type": "execute_result",
          "execution_count": 10,
          "data": {
            "application/vnd.deepnote.dataframe.v3+json": {
              "column_count": 2,
              "row_count": 8,
              "columns": [
                {
                  "name": "first_touch",
                  "dtype": "object",
                  "stats": {
                    "unique_count": 8,
                    "nan_count": 0,
                    "categories": [
                      {
                        "name": "2023-11-08",
                        "count": 1
                      },
                      {
                        "name": "2023-11-09",
                        "count": 1
                      },
                      {
                        "name": "6 others",
                        "count": 6
                      }
                    ]
                  }
                },
                {
                  "name": "0",
                  "dtype": "int64",
                  "stats": {
                    "unique_count": 3,
                    "nan_count": 0,
                    "min": "1",
                    "max": "3",
                    "histogram": [
                      {
                        "bin_start": 1,
                        "bin_end": 1.2,
                        "count": 5
                      },
                      {
                        "bin_start": 1.2,
                        "bin_end": 1.4,
                        "count": 0
                      },
                      {
                        "bin_start": 1.4,
                        "bin_end": 1.6,
                        "count": 0
                      },
                      {
                        "bin_start": 1.6,
                        "bin_end": 1.8,
                        "count": 0
                      },
                      {
                        "bin_start": 1.8,
                        "bin_end": 2,
                        "count": 0
                      },
                      {
                        "bin_start": 2,
                        "bin_end": 2.2,
                        "count": 2
                      },
                      {
                        "bin_start": 2.2,
                        "bin_end": 2.4000000000000004,
                        "count": 0
                      },
                      {
                        "bin_start": 2.4000000000000004,
                        "bin_end": 2.6,
                        "count": 0
                      },
                      {
                        "bin_start": 2.6,
                        "bin_end": 2.8,
                        "count": 0
                      },
                      {
                        "bin_start": 2.8,
                        "bin_end": 3,
                        "count": 1
                      }
                    ]
                  }
                },
                {
                  "name": "_deepnote_index_column",
                  "dtype": "int64"
                }
              ],
              "rows": [
                {
                  "0": 1,
                  "first_touch": "2023-11-08",
                  "_deepnote_index_column": 0
                },
                {
                  "0": 2,
                  "first_touch": "2023-11-09",
                  "_deepnote_index_column": 2
                },
                {
                  "0": 1,
                  "first_touch": "2023-11-11",
                  "_deepnote_index_column": 3
                },
                {
                  "0": 2,
                  "first_touch": "2023-11-14",
                  "_deepnote_index_column": 4
                },
                {
                  "0": 3,
                  "first_touch": "2023-11-16",
                  "_deepnote_index_column": 6
                },
                {
                  "0": 1,
                  "first_touch": "2023-11-17",
                  "_deepnote_index_column": 5
                },
                {
                  "0": 1,
                  "first_touch": "2023-11-18",
                  "_deepnote_index_column": 1
                },
                {
                  "0": 1,
                  "first_touch": "2023-11-19",
                  "_deepnote_index_column": 7
                }
              ]
            },
            "text/plain": "  first_touch  0\n0  2023-11-08  1\n1  2023-11-18  1\n2  2023-11-09  2\n3  2023-11-11  1\n4  2023-11-14  2\n5  2023-11-17  1\n6  2023-11-16  3\n7  2023-11-19  1",
            "text/html": "<div>\n<style scoped>\n    .dataframe tbody tr th:only-of-type {\n        vertical-align: middle;\n    }\n\n    .dataframe tbody tr th {\n        vertical-align: top;\n    }\n\n    .dataframe thead th {\n        text-align: right;\n    }\n</style>\n<table border=\"1\" class=\"dataframe\">\n  <thead>\n    <tr style=\"text-align: right;\">\n      <th></th>\n      <th>first_touch</th>\n      <th>0</th>\n    </tr>\n  </thead>\n  <tbody>\n    <tr>\n      <th>0</th>\n      <td>2023-11-08</td>\n      <td>1</td>\n    </tr>\n    <tr>\n      <th>1</th>\n      <td>2023-11-18</td>\n      <td>1</td>\n    </tr>\n    <tr>\n      <th>2</th>\n      <td>2023-11-09</td>\n      <td>2</td>\n    </tr>\n    <tr>\n      <th>3</th>\n      <td>2023-11-11</td>\n      <td>1</td>\n    </tr>\n    <tr>\n      <th>4</th>\n      <td>2023-11-14</td>\n      <td>2</td>\n    </tr>\n    <tr>\n      <th>5</th>\n      <td>2023-11-17</td>\n      <td>1</td>\n    </tr>\n    <tr>\n      <th>6</th>\n      <td>2023-11-16</td>\n      <td>3</td>\n    </tr>\n    <tr>\n      <th>7</th>\n      <td>2023-11-19</td>\n      <td>1</td>\n    </tr>\n  </tbody>\n</table>\n</div>"
          },
          "metadata": {}
        }
      ],
      "execution_count": null,
      "block_group": "8e98c3a35ea147d0b712590f68863028"
    },
    {
      "cell_type": "markdown",
      "source": "#### Cohorted Retention Insights\n\nCohorted retention usually displays user retention in the form of a matrix, where each row represents a group of users (cohort) who started using the product during a particular time frame, and each column represents the time (in the unit of day, weeks, months, etc.) since they started.\n\nThe provided cohort table, however, is not conforming to the norms of typical cohort analysis as it only showcases a small range that is not enough to capture the lifecicle of a meaningful sample of interaction with the application. \n",
      "metadata": {
        "deepnote_app_coordinates": {
          "h": 120,
          "w": 12,
          "x": 0,
          "y": 0
        },
        "cell_id": "88360d2358e649fdba0dfb05ccaa49a9",
        "deepnote_cell_type": "markdown"
      },
      "block_group": "588a32de3e1d4c7cbefc2a7c50392063"
    },
    {
      "cell_type": "code",
      "source": "stickiness = _deepnote_execute_sql('WITH daily_users AS (\\n    SELECT \\n        DATE_TRUNC(\\'day\\', date_time) AS day,\\n        COUNT(DISTINCT user_skey) AS dau\\n    FROM events\\n    GROUP BY 1\\n)\\n\\n, weekly_users AS (\\n    SELECT\\n        DATE_TRUNC(\\'week\\', date_time) AS week,\\n        COUNT(DISTINCT user_skey) AS wau\\n    FROM events\\n    GROUP BY 1\\n)\\n\\nSELECT\\n    week\\n    , wau\\n    , avg(dau)::int AS avg_dau\\n    , (AVG(dau) / wau *100)::DECIMAL(10,5) || \\' %\\'AS sticky_retention\\nFROM daily_users\\nJOIN weekly_users ON DATE_TRUNC(\\'week\\', day) = week\\nGROUP BY 1,2', 'SQL_DEEPNOTE_DATAFRAME_SQL', audit_sql_comment='', sql_cache_mode='cache_disabled')\nstickiness",
      "metadata": {
        "source_hash": "8b606f92",
        "is_code_hidden": true,
        "execution_start": 1704714953953,
        "execution_millis": 147,
        "sql_integration_id": "deepnote-dataframe-sql",
        "deepnote_variable_name": "stickiness",
        "deepnote_app_coordinates": {
          "h": 120,
          "w": 12,
          "x": 0,
          "y": 0
        },
        "deepnote_to_be_reexecuted": true,
        "deepnote_app_is_code_hidden": true,
        "cell_id": "4071a43a15fd4beb9f0a8c259bd10d5d",
        "deepnote_cell_type": "sql",
        "deepnote_sql_source": "WITH daily_users AS (\n    SELECT \n        DATE_TRUNC('day', date_time) AS day,\n        COUNT(DISTINCT user_skey) AS dau\n    FROM events\n    GROUP BY 1\n)\n\n, weekly_users AS (\n    SELECT\n        DATE_TRUNC('week', date_time) AS week,\n        COUNT(DISTINCT user_skey) AS wau\n    FROM events\n    GROUP BY 1\n)\n\nSELECT\n    week\n    , wau\n    , avg(dau)::int AS avg_dau\n    , (AVG(dau) / wau *100)::DECIMAL(10,5) || ' %'AS sticky_retention\nFROM daily_users\nJOIN weekly_users ON DATE_TRUNC('week', day) = week\nGROUP BY 1,2"
      },
      "outputs": [
        {
          "data": {
            "application/vnd.deepnote.sql-output-metadata+json": {
              "status": "success_no_cache",
              "size_in_bytes": 374
            }
          },
          "metadata": {},
          "output_type": "display_data"
        },
        {
          "output_type": "execute_result",
          "execution_count": 11,
          "data": {
            "application/vnd.deepnote.dataframe.v3+json": {
              "column_count": 4,
              "row_count": 2,
              "columns": [
                {
                  "name": "week",
                  "dtype": "object",
                  "stats": {
                    "unique_count": 2,
                    "nan_count": 0,
                    "categories": [
                      {
                        "name": "2023-11-06",
                        "count": 1
                      },
                      {
                        "name": "2023-11-13",
                        "count": 1
                      }
                    ]
                  }
                },
                {
                  "name": "wau",
                  "dtype": "int64",
                  "stats": {
                    "unique_count": 2,
                    "nan_count": 0,
                    "min": "58790",
                    "max": "60324",
                    "histogram": [
                      {
                        "bin_start": 58790,
                        "bin_end": 58943.4,
                        "count": 1
                      },
                      {
                        "bin_start": 58943.4,
                        "bin_end": 59096.8,
                        "count": 0
                      },
                      {
                        "bin_start": 59096.8,
                        "bin_end": 59250.2,
                        "count": 0
                      },
                      {
                        "bin_start": 59250.2,
                        "bin_end": 59403.6,
                        "count": 0
                      },
                      {
                        "bin_start": 59403.6,
                        "bin_end": 59557,
                        "count": 0
                      },
                      {
                        "bin_start": 59557,
                        "bin_end": 59710.4,
                        "count": 0
                      },
                      {
                        "bin_start": 59710.4,
                        "bin_end": 59863.8,
                        "count": 0
                      },
                      {
                        "bin_start": 59863.8,
                        "bin_end": 60017.2,
                        "count": 0
                      },
                      {
                        "bin_start": 60017.2,
                        "bin_end": 60170.6,
                        "count": 0
                      },
                      {
                        "bin_start": 60170.6,
                        "bin_end": 60324,
                        "count": 1
                      }
                    ]
                  }
                },
                {
                  "name": "avg_dau",
                  "dtype": "int64",
                  "stats": {
                    "unique_count": 2,
                    "nan_count": 0,
                    "min": "8533",
                    "max": "8756",
                    "histogram": [
                      {
                        "bin_start": 8533,
                        "bin_end": 8555.3,
                        "count": 1
                      },
                      {
                        "bin_start": 8555.3,
                        "bin_end": 8577.6,
                        "count": 0
                      },
                      {
                        "bin_start": 8577.6,
                        "bin_end": 8599.9,
                        "count": 0
                      },
                      {
                        "bin_start": 8599.9,
                        "bin_end": 8622.2,
                        "count": 0
                      },
                      {
                        "bin_start": 8622.2,
                        "bin_end": 8644.5,
                        "count": 0
                      },
                      {
                        "bin_start": 8644.5,
                        "bin_end": 8666.8,
                        "count": 0
                      },
                      {
                        "bin_start": 8666.8,
                        "bin_end": 8689.1,
                        "count": 0
                      },
                      {
                        "bin_start": 8689.1,
                        "bin_end": 8711.4,
                        "count": 0
                      },
                      {
                        "bin_start": 8711.4,
                        "bin_end": 8733.7,
                        "count": 0
                      },
                      {
                        "bin_start": 8733.7,
                        "bin_end": 8756,
                        "count": 1
                      }
                    ]
                  }
                },
                {
                  "name": "sticky_retention",
                  "dtype": "object",
                  "stats": {
                    "unique_count": 2,
                    "nan_count": 0,
                    "categories": [
                      {
                        "name": "14.51437 %",
                        "count": 1
                      },
                      {
                        "name": "14.51543 %",
                        "count": 1
                      }
                    ]
                  }
                },
                {
                  "name": "_deepnote_index_column",
                  "dtype": "int64"
                }
              ],
              "rows": [
                {
                  "week": "2023-11-06",
                  "wau": 58790,
                  "avg_dau": 8533,
                  "sticky_retention": "14.51437 %",
                  "_deepnote_index_column": 0
                },
                {
                  "week": "2023-11-13",
                  "wau": 60324,
                  "avg_dau": 8756,
                  "sticky_retention": "14.51543 %",
                  "_deepnote_index_column": 1
                }
              ]
            },
            "text/plain": "         week    wau  avg_dau sticky_retention\n0  2023-11-06  58790     8533       14.51437 %\n1  2023-11-13  60324     8756       14.51543 %",
            "text/html": "<div>\n<style scoped>\n    .dataframe tbody tr th:only-of-type {\n        vertical-align: middle;\n    }\n\n    .dataframe tbody tr th {\n        vertical-align: top;\n    }\n\n    .dataframe thead th {\n        text-align: right;\n    }\n</style>\n<table border=\"1\" class=\"dataframe\">\n  <thead>\n    <tr style=\"text-align: right;\">\n      <th></th>\n      <th>week</th>\n      <th>wau</th>\n      <th>avg_dau</th>\n      <th>sticky_retention</th>\n    </tr>\n  </thead>\n  <tbody>\n    <tr>\n      <th>0</th>\n      <td>2023-11-06</td>\n      <td>58790</td>\n      <td>8533</td>\n      <td>14.51437 %</td>\n    </tr>\n    <tr>\n      <th>1</th>\n      <td>2023-11-13</td>\n      <td>60324</td>\n      <td>8756</td>\n      <td>14.51543 %</td>\n    </tr>\n  </tbody>\n</table>\n</div>"
          },
          "metadata": {}
        }
      ],
      "execution_count": null,
      "block_group": "6362ff792bcb4d4696f1ea5db27ed18b"
    },
    {
      "cell_type": "markdown",
      "source": "#### Insights for Sticky Retention\n\nThe sticky retention rate was around 14.52%, which shows a moderate level of engagement over a weekly period.\n\n#### Actionable Items for Sticky Retention\n\n1. **Increase Engagement**: Work on features or services that can increase weekly engagement, such as weekly challenges, notifications, or updates that give users a reason to return.\n\n2. **Community Building**: Encourage community interaction which can lead to a more engaged and sticky user base.\n\n3. **Product Fit**: Assess whether the product is meeting the ongoing needs of users. Products with high sticky retention typically fit well into the users' routines or provide ongoing value.\n\nIf the data is found to be inaccurate, the first step should be to correct the data collection and reporting processes before drawing further conclusions or undertaking significant strategic changes.",
      "metadata": {
        "deepnote_app_coordinates": {
          "h": 120,
          "w": 12,
          "x": 0,
          "y": 0
        },
        "cell_id": "a58ce4ad1f804db2827850cbcf0014e4",
        "deepnote_cell_type": "markdown"
      },
      "block_group": "4ee03b1aea144665ad07263504d64d91"
    },
    {
      "cell_type": "markdown",
      "source": "## Part 2 - User Activity Analysis",
      "metadata": {
        "formattedRanges": [],
        "deepnote_app_coordinates": {
          "h": 120,
          "w": 12,
          "x": 0,
          "y": 0
        },
        "cell_id": "ccf2dee7615f48c5ae71d6b0c10dbb13",
        "deepnote_cell_type": "text-cell-h2"
      },
      "block_group": "a4d4d5ad29524e239a5c289ed59cb7db"
    },
    {
      "cell_type": "markdown",
      "source": "> Please perform an analysis using the dataset provided. The goal is to find insights and suggest action(s) to stakeholders through your findings. Use Python, R, or a similar programming language to generate an analysis that could be shared/reviewed by other analysts.",
      "metadata": {
        "formattedRanges": [],
        "deepnote_app_coordinates": {
          "h": 2,
          "w": 8,
          "x": 0,
          "y": 0
        },
        "cell_id": "bae9ea1ceac64050b33e1e5d291cf611",
        "deepnote_cell_type": "text-cell-callout"
      },
      "block_group": "458e5846aed1430fa02c85e438a91bb2"
    },
    {
      "cell_type": "markdown",
      "source": "#### Analysis focus:\n\n**1. Daily unique users:** Help us understand the daily user engagement, trends and behaviors in the app.\n\n**2. User tendencies over platforms:** Evaluate the proportion of users on different platforms (Apple vs Android).\n> - This analysis can offer a better understanding of user preferences and could guide developers in optimizing the  app experience for particular platforms.\n> - It can help guide the development team to tailor their work to the preference of majority users.\n> - Distinguishing and understanding user preferences across different platforms can help guide the development team > tailor their work to the preference of majority users.\n\n**3. Day of the week influence:** Identifying fluctuations of user engagement throughout the week can assist in timely and targeted marketing campaigns.\n\n**4. Time spent on the app:** Evaluate the time spent on the app across different platforms and provide insights on how to improve the user experience.\n\n#### Insights:\n\n- Promotions or campaigns can be timed to periods of low user engagement to boost usage during these times.\n- If the majority of users prefer one platform over another, consider focusing on enhancing the user experience on that platform.\n- Use engagement patterns to inform future feature developments, updates, and bug fixes.",
      "metadata": {
        "deepnote_app_coordinates": {
          "h": 120,
          "w": 12,
          "x": 0,
          "y": 0
        },
        "cell_id": "80788d43111347c0babbf5049adfb924",
        "deepnote_cell_type": "markdown"
      },
      "block_group": "22a35a01a3384df59bd7da9c1f93cca5"
    },
    {
      "cell_type": "markdown",
      "source": "### Daily unique users",
      "metadata": {
        "formattedRanges": [],
        "deepnote_app_coordinates": {
          "h": 120,
          "w": 12,
          "x": 0,
          "y": 0
        },
        "cell_id": "621b993a034c4a0db84cc0c091a4a68c",
        "deepnote_cell_type": "text-cell-h3"
      },
      "block_group": "7cf6a72e29f541f2a96085465e828367"
    },
    {
      "cell_type": "code",
      "source": "import pandas as pd\n\napps_open_df = apps_open\napps_open_df['date_time'] = pd.to_datetime(apps_open_df['date_time'])\napps_open_df['date_time'] = apps_open_df['date_time'].dt.date\n\nunique_users_per_day = (apps_open_df.groupby([\"date_time\", \"platform\"])[\"user_skey\"].nunique().unstack(level=-1).reset_index())\nunique_users_per_day['android_proportion'] = unique_users_per_day['android'] / (unique_users_per_day['apple'] + unique_users_per_day['android']) * 100\nunique_users_per_day['apple_proportion'] = 100 - unique_users_per_day['android_proportion'] ",
      "metadata": {
        "source_hash": "467c986c",
        "is_code_hidden": true,
        "execution_start": 1704714954083,
        "execution_millis": 91,
        "deepnote_app_coordinates": {
          "h": 120,
          "w": 12,
          "x": 0,
          "y": 0
        },
        "deepnote_to_be_reexecuted": true,
        "deepnote_app_is_code_hidden": true,
        "cell_id": "760b76d43e96473eab2bca6981b80067",
        "deepnote_cell_type": "code"
      },
      "outputs": [],
      "execution_count": null,
      "block_group": "1a9fc59375a94d87b6fe6357384bba25"
    },
    {
      "cell_type": "code",
      "source": "avg_unique = pd.DataFrame(unique_users_per_day[['android_proportion', 'apple_proportion']].agg(['mean', 'median']).round(2))\navg_unique.columns = ['android_proportion', 'apple_proportion']\nprint(avg_unique)",
      "metadata": {
        "source_hash": "3f80996",
        "is_code_hidden": true,
        "execution_start": 1704714954214,
        "execution_millis": 23,
        "deepnote_app_coordinates": {
          "h": 120,
          "w": 12,
          "x": 0,
          "y": 0
        },
        "deepnote_to_be_reexecuted": true,
        "deepnote_app_is_code_hidden": true,
        "cell_id": "706fbe7773474ea281ce84e506e5fd3c",
        "deepnote_cell_type": "code"
      },
      "outputs": [
        {
          "name": "stdout",
          "text": "        android_proportion  apple_proportion\nmean                 56.38             43.62\nmedian               56.42             43.58\n",
          "output_type": "stream"
        }
      ],
      "execution_count": null,
      "block_group": "62f8b56608c14794b0fac32fc63c3dbb"
    },
    {
      "cell_type": "code",
      "source": "import plotly.subplots as sp\nimport plotly.express as px\n\nfig = sp.make_subplots(rows=1, cols=1, vertical_spacing=0.05)\n\nfig1 = px.line(unique_users_per_day, x='date_time', y=['android', 'apple'])\nfig.add_trace(fig1['data'][0], row=1, col=1)\nfig.add_trace(fig1['data'][1], row=1, col=1)\n\nfig.update_layout(height=350, width=900, showlegend=False, title_text=\"Number of Daily Active Users by Platform\")\nfig.show()",
      "metadata": {
        "source_hash": "e59faef7",
        "is_code_hidden": true,
        "execution_start": 1704714954215,
        "execution_millis": 212,
        "deepnote_app_coordinates": {
          "h": 120,
          "w": 12,
          "x": 0,
          "y": 0
        },
        "deepnote_to_be_reexecuted": true,
        "deepnote_app_is_code_hidden": true,
        "cell_id": "ed9634120a684f609411f00072458a03",
        "deepnote_cell_type": "code"
      },
      "outputs": [
        {
          "data": {
            "text/html": "<html>\n<head><meta charset=\"utf-8\" /></head>\n<body>\n    <div>            <script src=\"https://cdnjs.cloudflare.com/ajax/libs/mathjax/2.7.5/MathJax.js?config=TeX-AMS-MML_SVG\"></script><script type=\"text/javascript\">if (window.MathJax && window.MathJax.Hub && window.MathJax.Hub.Config) {window.MathJax.Hub.Config({SVG: {font: \"STIX-Web\"}});}</script>                <script type=\"text/javascript\">window.PlotlyConfig = {MathJaxConfig: 'local'};</script>\n        <script src=\"https://cdn.plot.ly/plotly-2.14.0.min.js\"></script>                <div id=\"57bd0b59-09ab-4d89-a1be-afbae4a5e5cc\" class=\"plotly-graph-div\" style=\"height:350px; width:900px;\"></div>            <script type=\"text/javascript\">                                    window.PLOTLYENV=window.PLOTLYENV || {};                                    if (document.getElementById(\"57bd0b59-09ab-4d89-a1be-afbae4a5e5cc\")) {                    Plotly.newPlot(                        \"57bd0b59-09ab-4d89-a1be-afbae4a5e5cc\",                        [{\"hovertemplate\":\"variable=android<br>date_time=%{x}<br>value=%{y}<extra></extra>\",\"legendgroup\":\"android\",\"line\":{\"color\":\"#636efa\",\"dash\":\"solid\"},\"marker\":{\"symbol\":\"circle\"},\"mode\":\"lines\",\"name\":\"android\",\"orientation\":\"v\",\"showlegend\":true,\"x\":[\"2023-11-06\",\"2023-11-07\",\"2023-11-08\",\"2023-11-09\",\"2023-11-10\",\"2023-11-11\",\"2023-11-12\",\"2023-11-13\",\"2023-11-14\",\"2023-11-15\",\"2023-11-16\",\"2023-11-17\",\"2023-11-18\",\"2023-11-19\"],\"xaxis\":\"x\",\"y\":[5192,5320,5385,5541,5545,5856,6018,5499,5243,5435,5655,5886,5997,6195],\"yaxis\":\"y\",\"type\":\"scatter\"},{\"hovertemplate\":\"variable=apple<br>date_time=%{x}<br>value=%{y}<extra></extra>\",\"legendgroup\":\"apple\",\"line\":{\"color\":\"#EF553B\",\"dash\":\"solid\"},\"marker\":{\"symbol\":\"circle\"},\"mode\":\"lines\",\"name\":\"apple\",\"orientation\":\"v\",\"showlegend\":true,\"x\":[\"2023-11-06\",\"2023-11-07\",\"2023-11-08\",\"2023-11-09\",\"2023-11-10\",\"2023-11-11\",\"2023-11-12\",\"2023-11-13\",\"2023-11-14\",\"2023-11-15\",\"2023-11-16\",\"2023-11-17\",\"2023-11-18\",\"2023-11-19\"],\"xaxis\":\"x\",\"y\":[4189,4183,4234,4113,4374,4586,4619,4425,4009,4209,4300,4535,4474,4658],\"yaxis\":\"y\",\"type\":\"scatter\"}],                        {\"template\":{\"data\":{\"histogram2dcontour\":[{\"type\":\"histogram2dcontour\",\"colorbar\":{\"outlinewidth\":0,\"ticks\":\"\"},\"colorscale\":[[0.0,\"#0d0887\"],[0.1111111111111111,\"#46039f\"],[0.2222222222222222,\"#7201a8\"],[0.3333333333333333,\"#9c179e\"],[0.4444444444444444,\"#bd3786\"],[0.5555555555555556,\"#d8576b\"],[0.6666666666666666,\"#ed7953\"],[0.7777777777777778,\"#fb9f3a\"],[0.8888888888888888,\"#fdca26\"],[1.0,\"#f0f921\"]]}],\"choropleth\":[{\"type\":\"choropleth\",\"colorbar\":{\"outlinewidth\":0,\"ticks\":\"\"}}],\"histogram2d\":[{\"type\":\"histogram2d\",\"colorbar\":{\"outlinewidth\":0,\"ticks\":\"\"},\"colorscale\":[[0.0,\"#0d0887\"],[0.1111111111111111,\"#46039f\"],[0.2222222222222222,\"#7201a8\"],[0.3333333333333333,\"#9c179e\"],[0.4444444444444444,\"#bd3786\"],[0.5555555555555556,\"#d8576b\"],[0.6666666666666666,\"#ed7953\"],[0.7777777777777778,\"#fb9f3a\"],[0.8888888888888888,\"#fdca26\"],[1.0,\"#f0f921\"]]}],\"heatmap\":[{\"type\":\"heatmap\",\"colorbar\":{\"outlinewidth\":0,\"ticks\":\"\"},\"colorscale\":[[0.0,\"#0d0887\"],[0.1111111111111111,\"#46039f\"],[0.2222222222222222,\"#7201a8\"],[0.3333333333333333,\"#9c179e\"],[0.4444444444444444,\"#bd3786\"],[0.5555555555555556,\"#d8576b\"],[0.6666666666666666,\"#ed7953\"],[0.7777777777777778,\"#fb9f3a\"],[0.8888888888888888,\"#fdca26\"],[1.0,\"#f0f921\"]]}],\"heatmapgl\":[{\"type\":\"heatmapgl\",\"colorbar\":{\"outlinewidth\":0,\"ticks\":\"\"},\"colorscale\":[[0.0,\"#0d0887\"],[0.1111111111111111,\"#46039f\"],[0.2222222222222222,\"#7201a8\"],[0.3333333333333333,\"#9c179e\"],[0.4444444444444444,\"#bd3786\"],[0.5555555555555556,\"#d8576b\"],[0.6666666666666666,\"#ed7953\"],[0.7777777777777778,\"#fb9f3a\"],[0.8888888888888888,\"#fdca26\"],[1.0,\"#f0f921\"]]}],\"contourcarpet\":[{\"type\":\"contourcarpet\",\"colorbar\":{\"outlinewidth\":0,\"ticks\":\"\"}}],\"contour\":[{\"type\":\"contour\",\"colorbar\":{\"outlinewidth\":0,\"ticks\":\"\"},\"colorscale\":[[0.0,\"#0d0887\"],[0.1111111111111111,\"#46039f\"],[0.2222222222222222,\"#7201a8\"],[0.3333333333333333,\"#9c179e\"],[0.4444444444444444,\"#bd3786\"],[0.5555555555555556,\"#d8576b\"],[0.6666666666666666,\"#ed7953\"],[0.7777777777777778,\"#fb9f3a\"],[0.8888888888888888,\"#fdca26\"],[1.0,\"#f0f921\"]]}],\"surface\":[{\"type\":\"surface\",\"colorbar\":{\"outlinewidth\":0,\"ticks\":\"\"},\"colorscale\":[[0.0,\"#0d0887\"],[0.1111111111111111,\"#46039f\"],[0.2222222222222222,\"#7201a8\"],[0.3333333333333333,\"#9c179e\"],[0.4444444444444444,\"#bd3786\"],[0.5555555555555556,\"#d8576b\"],[0.6666666666666666,\"#ed7953\"],[0.7777777777777778,\"#fb9f3a\"],[0.8888888888888888,\"#fdca26\"],[1.0,\"#f0f921\"]]}],\"mesh3d\":[{\"type\":\"mesh3d\",\"colorbar\":{\"outlinewidth\":0,\"ticks\":\"\"}}],\"scatter\":[{\"fillpattern\":{\"fillmode\":\"overlay\",\"size\":10,\"solidity\":0.2},\"type\":\"scatter\"}],\"parcoords\":[{\"type\":\"parcoords\",\"line\":{\"colorbar\":{\"outlinewidth\":0,\"ticks\":\"\"}}}],\"scatterpolargl\":[{\"type\":\"scatterpolargl\",\"marker\":{\"colorbar\":{\"outlinewidth\":0,\"ticks\":\"\"}}}],\"bar\":[{\"error_x\":{\"color\":\"#2a3f5f\"},\"error_y\":{\"color\":\"#2a3f5f\"},\"marker\":{\"line\":{\"color\":\"#E5ECF6\",\"width\":0.5},\"pattern\":{\"fillmode\":\"overlay\",\"size\":10,\"solidity\":0.2}},\"type\":\"bar\"}],\"scattergeo\":[{\"type\":\"scattergeo\",\"marker\":{\"colorbar\":{\"outlinewidth\":0,\"ticks\":\"\"}}}],\"scatterpolar\":[{\"type\":\"scatterpolar\",\"marker\":{\"colorbar\":{\"outlinewidth\":0,\"ticks\":\"\"}}}],\"histogram\":[{\"marker\":{\"pattern\":{\"fillmode\":\"overlay\",\"size\":10,\"solidity\":0.2}},\"type\":\"histogram\"}],\"scattergl\":[{\"type\":\"scattergl\",\"marker\":{\"colorbar\":{\"outlinewidth\":0,\"ticks\":\"\"}}}],\"scatter3d\":[{\"type\":\"scatter3d\",\"line\":{\"colorbar\":{\"outlinewidth\":0,\"ticks\":\"\"}},\"marker\":{\"colorbar\":{\"outlinewidth\":0,\"ticks\":\"\"}}}],\"scattermapbox\":[{\"type\":\"scattermapbox\",\"marker\":{\"colorbar\":{\"outlinewidth\":0,\"ticks\":\"\"}}}],\"scatterternary\":[{\"type\":\"scatterternary\",\"marker\":{\"colorbar\":{\"outlinewidth\":0,\"ticks\":\"\"}}}],\"scattercarpet\":[{\"type\":\"scattercarpet\",\"marker\":{\"colorbar\":{\"outlinewidth\":0,\"ticks\":\"\"}}}],\"carpet\":[{\"aaxis\":{\"endlinecolor\":\"#2a3f5f\",\"gridcolor\":\"white\",\"linecolor\":\"white\",\"minorgridcolor\":\"white\",\"startlinecolor\":\"#2a3f5f\"},\"baxis\":{\"endlinecolor\":\"#2a3f5f\",\"gridcolor\":\"white\",\"linecolor\":\"white\",\"minorgridcolor\":\"white\",\"startlinecolor\":\"#2a3f5f\"},\"type\":\"carpet\"}],\"table\":[{\"cells\":{\"fill\":{\"color\":\"#EBF0F8\"},\"line\":{\"color\":\"white\"}},\"header\":{\"fill\":{\"color\":\"#C8D4E3\"},\"line\":{\"color\":\"white\"}},\"type\":\"table\"}],\"barpolar\":[{\"marker\":{\"line\":{\"color\":\"#E5ECF6\",\"width\":0.5},\"pattern\":{\"fillmode\":\"overlay\",\"size\":10,\"solidity\":0.2}},\"type\":\"barpolar\"}],\"pie\":[{\"automargin\":true,\"type\":\"pie\"}]},\"layout\":{\"autotypenumbers\":\"strict\",\"colorway\":[\"#636efa\",\"#EF553B\",\"#00cc96\",\"#ab63fa\",\"#FFA15A\",\"#19d3f3\",\"#FF6692\",\"#B6E880\",\"#FF97FF\",\"#FECB52\"],\"font\":{\"color\":\"#2a3f5f\"},\"hovermode\":\"closest\",\"hoverlabel\":{\"align\":\"left\"},\"paper_bgcolor\":\"white\",\"plot_bgcolor\":\"#E5ECF6\",\"polar\":{\"bgcolor\":\"#E5ECF6\",\"angularaxis\":{\"gridcolor\":\"white\",\"linecolor\":\"white\",\"ticks\":\"\"},\"radialaxis\":{\"gridcolor\":\"white\",\"linecolor\":\"white\",\"ticks\":\"\"}},\"ternary\":{\"bgcolor\":\"#E5ECF6\",\"aaxis\":{\"gridcolor\":\"white\",\"linecolor\":\"white\",\"ticks\":\"\"},\"baxis\":{\"gridcolor\":\"white\",\"linecolor\":\"white\",\"ticks\":\"\"},\"caxis\":{\"gridcolor\":\"white\",\"linecolor\":\"white\",\"ticks\":\"\"}},\"coloraxis\":{\"colorbar\":{\"outlinewidth\":0,\"ticks\":\"\"}},\"colorscale\":{\"sequential\":[[0.0,\"#0d0887\"],[0.1111111111111111,\"#46039f\"],[0.2222222222222222,\"#7201a8\"],[0.3333333333333333,\"#9c179e\"],[0.4444444444444444,\"#bd3786\"],[0.5555555555555556,\"#d8576b\"],[0.6666666666666666,\"#ed7953\"],[0.7777777777777778,\"#fb9f3a\"],[0.8888888888888888,\"#fdca26\"],[1.0,\"#f0f921\"]],\"sequentialminus\":[[0.0,\"#0d0887\"],[0.1111111111111111,\"#46039f\"],[0.2222222222222222,\"#7201a8\"],[0.3333333333333333,\"#9c179e\"],[0.4444444444444444,\"#bd3786\"],[0.5555555555555556,\"#d8576b\"],[0.6666666666666666,\"#ed7953\"],[0.7777777777777778,\"#fb9f3a\"],[0.8888888888888888,\"#fdca26\"],[1.0,\"#f0f921\"]],\"diverging\":[[0,\"#8e0152\"],[0.1,\"#c51b7d\"],[0.2,\"#de77ae\"],[0.3,\"#f1b6da\"],[0.4,\"#fde0ef\"],[0.5,\"#f7f7f7\"],[0.6,\"#e6f5d0\"],[0.7,\"#b8e186\"],[0.8,\"#7fbc41\"],[0.9,\"#4d9221\"],[1,\"#276419\"]]},\"xaxis\":{\"gridcolor\":\"white\",\"linecolor\":\"white\",\"ticks\":\"\",\"title\":{\"standoff\":15},\"zerolinecolor\":\"white\",\"automargin\":true,\"zerolinewidth\":2},\"yaxis\":{\"gridcolor\":\"white\",\"linecolor\":\"white\",\"ticks\":\"\",\"title\":{\"standoff\":15},\"zerolinecolor\":\"white\",\"automargin\":true,\"zerolinewidth\":2},\"scene\":{\"xaxis\":{\"backgroundcolor\":\"#E5ECF6\",\"gridcolor\":\"white\",\"linecolor\":\"white\",\"showbackground\":true,\"ticks\":\"\",\"zerolinecolor\":\"white\",\"gridwidth\":2},\"yaxis\":{\"backgroundcolor\":\"#E5ECF6\",\"gridcolor\":\"white\",\"linecolor\":\"white\",\"showbackground\":true,\"ticks\":\"\",\"zerolinecolor\":\"white\",\"gridwidth\":2},\"zaxis\":{\"backgroundcolor\":\"#E5ECF6\",\"gridcolor\":\"white\",\"linecolor\":\"white\",\"showbackground\":true,\"ticks\":\"\",\"zerolinecolor\":\"white\",\"gridwidth\":2}},\"shapedefaults\":{\"line\":{\"color\":\"#2a3f5f\"}},\"annotationdefaults\":{\"arrowcolor\":\"#2a3f5f\",\"arrowhead\":0,\"arrowwidth\":1},\"geo\":{\"bgcolor\":\"white\",\"landcolor\":\"#E5ECF6\",\"subunitcolor\":\"white\",\"showland\":true,\"showlakes\":true,\"lakecolor\":\"white\"},\"title\":{\"x\":0.05},\"mapbox\":{\"style\":\"light\"}}},\"xaxis\":{\"anchor\":\"y\",\"domain\":[0.0,1.0]},\"yaxis\":{\"anchor\":\"x\",\"domain\":[0.0,1.0]},\"title\":{\"text\":\"Number of Daily Active Users by Platform\"},\"height\":350,\"width\":900,\"showlegend\":false},                        {\"responsive\": true}                    ).then(function(){\n                            \nvar gd = document.getElementById('57bd0b59-09ab-4d89-a1be-afbae4a5e5cc');\nvar x = new MutationObserver(function (mutations, observer) {{\n        var display = window.getComputedStyle(gd).display;\n        if (!display || display === 'none') {{\n            console.log([gd, 'removed!']);\n            Plotly.purge(gd);\n            observer.disconnect();\n        }}\n}});\n\n// Listen for the removal of the full notebook cells\nvar notebookContainer = gd.closest('#notebook-container');\nif (notebookContainer) {{\n    x.observe(notebookContainer, {childList: true});\n}}\n\n// Listen for the clearing of the current output cell\nvar outputEl = gd.closest('.output');\nif (outputEl) {{\n    x.observe(outputEl, {childList: true});\n}}\n\n                        })                };                            </script>        </div>\n</body>\n</html>"
          },
          "metadata": {},
          "output_type": "display_data"
        }
      ],
      "execution_count": null,
      "block_group": "4dc77f69a3c1413ca21a28afc174f01d"
    },
    {
      "cell_type": "code",
      "source": "days_order = ['Mon', 'Tue', 'Wed', 'Thu', 'Fri', 'Sat', 'Sun']\n\ndate_week = unique_users_per_day['date_time'].apply(lambda x: pd.Series([x.strftime('%d/%m'), x.strftime('%a'), x.isocalendar()[1]]))\nuser_sums = unique_users_per_day['apple'] + unique_users_per_day['android']\n\nweekly_mov = pd.concat([date_week, user_sums], axis=1)\nweekly_mov.columns = ['date', 'weekday', 'week_number', 'total']\npivot_table = weekly_mov.pivot(index='weekday', columns='week_number', values='total')\npivot_table = pivot_table.reindex(days_order)\npivot_table.plot(title='Week comparision (Seasonality)', grid=False)",
      "metadata": {
        "source_hash": "6f7efda0",
        "is_code_hidden": true,
        "execution_start": 1704714954457,
        "execution_millis": 268,
        "deepnote_app_coordinates": {
          "h": 120,
          "w": 12,
          "x": 0,
          "y": 0
        },
        "deepnote_to_be_reexecuted": true,
        "deepnote_app_is_code_hidden": true,
        "cell_id": "608876211fb9454c922e37caf4584d14",
        "deepnote_cell_type": "code"
      },
      "outputs": [
        {
          "output_type": "execute_result",
          "execution_count": 15,
          "data": {
            "text/plain": "<AxesSubplot: title={'center': 'Week comparision (Seasonality)'}, xlabel='weekday'>"
          },
          "metadata": {}
        },
        {
          "data": {
            "text/plain": "<Figure size 640x480 with 1 Axes>",
            "image/png": "[encoded data removed]"
          },
          "metadata": {
            "image/png": {
              "width": 569,
              "height": 455
            }
          },
          "output_type": "display_data"
        }
      ],
      "execution_count": null,
      "block_group": "2cf15f9a22034e829329a826e9cab543"
    },
    {
      "cell_type": "code",
      "source": "unique_users_per_day.describe()[['android', 'apple']].round(2)",
      "metadata": {
        "source_hash": "8949b821",
        "is_code_hidden": false,
        "execution_start": 1704714954852,
        "execution_millis": 17,
        "deepnote_to_be_reexecuted": true,
        "deepnote_app_is_code_hidden": true,
        "cell_id": "19536068c98b43a98e94266a15ec0c0e",
        "deepnote_cell_type": "code"
      },
      "outputs": [
        {
          "output_type": "execute_result",
          "execution_count": 16,
          "data": {
            "application/vnd.deepnote.dataframe.v3+json": {
              "column_count": 2,
              "row_count": 8,
              "columns": [
                {
                  "name": "android",
                  "dtype": "float64",
                  "stats": {
                    "unique_count": 8,
                    "nan_count": 0,
                    "min": "14.0",
                    "max": "6195.0",
                    "histogram": [
                      {
                        "bin_start": 14,
                        "bin_end": 632.1,
                        "count": 2
                      },
                      {
                        "bin_start": 632.1,
                        "bin_end": 1250.2,
                        "count": 0
                      },
                      {
                        "bin_start": 1250.2,
                        "bin_end": 1868.3000000000002,
                        "count": 0
                      },
                      {
                        "bin_start": 1868.3000000000002,
                        "bin_end": 2486.4,
                        "count": 0
                      },
                      {
                        "bin_start": 2486.4,
                        "bin_end": 3104.5,
                        "count": 0
                      },
                      {
                        "bin_start": 3104.5,
                        "bin_end": 3722.6000000000004,
                        "count": 0
                      },
                      {
                        "bin_start": 3722.6000000000004,
                        "bin_end": 4340.7,
                        "count": 0
                      },
                      {
                        "bin_start": 4340.7,
                        "bin_end": 4958.8,
                        "count": 0
                      },
                      {
                        "bin_start": 4958.8,
                        "bin_end": 5576.900000000001,
                        "count": 3
                      },
                      {
                        "bin_start": 5576.900000000001,
                        "bin_end": 6195,
                        "count": 3
                      }
                    ]
                  }
                },
                {
                  "name": "apple",
                  "dtype": "float64",
                  "stats": {
                    "unique_count": 8,
                    "nan_count": 0,
                    "min": "14.0",
                    "max": "4658.0",
                    "histogram": [
                      {
                        "bin_start": 14,
                        "bin_end": 478.4,
                        "count": 2
                      },
                      {
                        "bin_start": 478.4,
                        "bin_end": 942.8,
                        "count": 0
                      },
                      {
                        "bin_start": 942.8,
                        "bin_end": 1407.1999999999998,
                        "count": 0
                      },
                      {
                        "bin_start": 1407.1999999999998,
                        "bin_end": 1871.6,
                        "count": 0
                      },
                      {
                        "bin_start": 1871.6,
                        "bin_end": 2336,
                        "count": 0
                      },
                      {
                        "bin_start": 2336,
                        "bin_end": 2800.3999999999996,
                        "count": 0
                      },
                      {
                        "bin_start": 2800.3999999999996,
                        "bin_end": 3264.7999999999997,
                        "count": 0
                      },
                      {
                        "bin_start": 3264.7999999999997,
                        "bin_end": 3729.2,
                        "count": 0
                      },
                      {
                        "bin_start": 3729.2,
                        "bin_end": 4193.599999999999,
                        "count": 1
                      },
                      {
                        "bin_start": 4193.599999999999,
                        "bin_end": 4658,
                        "count": 5
                      }
                    ]
                  }
                },
                {
                  "name": "_deepnote_index_column",
                  "dtype": "object"
                }
              ],
              "rows": [
                {
                  "android": 14,
                  "apple": 14,
                  "_deepnote_index_column": "count"
                },
                {
                  "android": 5626.21,
                  "apple": 4350.57,
                  "_deepnote_index_column": "mean"
                },
                {
                  "android": 314.96,
                  "apple": 203.96,
                  "_deepnote_index_column": "std"
                },
                {
                  "android": 5192,
                  "apple": 4009,
                  "_deepnote_index_column": "min"
                },
                {
                  "android": 5397.5,
                  "apple": 4194,
                  "_deepnote_index_column": "25%"
                },
                {
                  "android": 5543,
                  "apple": 4337,
                  "_deepnote_index_column": "50%"
                },
                {
                  "android": 5878.5,
                  "apple": 4519.75,
                  "_deepnote_index_column": "75%"
                },
                {
                  "android": 6195,
                  "apple": 4658,
                  "_deepnote_index_column": "max"
                }
              ]
            },
            "text/plain": "platform  android    apple\ncount       14.00    14.00\nmean      5626.21  4350.57\nstd        314.96   203.96\nmin       5192.00  4009.00\n25%       5397.50  4194.00\n50%       5543.00  4337.00\n75%       5878.50  4519.75\nmax       6195.00  4658.00",
            "text/html": "<div>\n<style scoped>\n    .dataframe tbody tr th:only-of-type {\n        vertical-align: middle;\n    }\n\n    .dataframe tbody tr th {\n        vertical-align: top;\n    }\n\n    .dataframe thead th {\n        text-align: right;\n    }\n</style>\n<table border=\"1\" class=\"dataframe\">\n  <thead>\n    <tr style=\"text-align: right;\">\n      <th>platform</th>\n      <th>android</th>\n      <th>apple</th>\n    </tr>\n  </thead>\n  <tbody>\n    <tr>\n      <th>count</th>\n      <td>14.00</td>\n      <td>14.00</td>\n    </tr>\n    <tr>\n      <th>mean</th>\n      <td>5626.21</td>\n      <td>4350.57</td>\n    </tr>\n    <tr>\n      <th>std</th>\n      <td>314.96</td>\n      <td>203.96</td>\n    </tr>\n    <tr>\n      <th>min</th>\n      <td>5192.00</td>\n      <td>4009.00</td>\n    </tr>\n    <tr>\n      <th>25%</th>\n      <td>5397.50</td>\n      <td>4194.00</td>\n    </tr>\n    <tr>\n      <th>50%</th>\n      <td>5543.00</td>\n      <td>4337.00</td>\n    </tr>\n    <tr>\n      <th>75%</th>\n      <td>5878.50</td>\n      <td>4519.75</td>\n    </tr>\n    <tr>\n      <th>max</th>\n      <td>6195.00</td>\n      <td>4658.00</td>\n    </tr>\n  </tbody>\n</table>\n</div>"
          },
          "metadata": {}
        }
      ],
      "execution_count": null,
      "block_group": "2cf15f9a22034e829329a826e9cab543"
    },
    {
      "cell_type": "markdown",
      "source": "#### Observations\n\n- The standard deviation (a measure of the variability of a set of values) is higher for Android (314.96) compared to Apple (203.96). A higher standard deviation means that the number of daily unique users varies more from day to day on Android than on Apple. \n\n- The minimum and maximum number of daily unique users are also both higher on Android compared to Apple. \n\n- The proportion of users on Android and Apple platforms remain relatively consistent over time, with Android consistently having a higher proportion of users (around 56%) compared to Apple (around 44%).\n\n- There does not seem to be any significant fluctuations or upward/downward trends in the proportions over the time period observed.\n\n- The consistency in the proportion of users across different platforms suggests that user behavior and preferences remain stable over time. \n\n- The higher proportion of Android users indicates that the app is more popular among Android users. This could be due to various reasons such as user experience, app performance, and availability of features.",
      "metadata": {
        "deepnote_app_coordinates": {
          "h": 120,
          "w": 12,
          "x": 0,
          "y": 0
        },
        "cell_id": "1f7be011a3004409836a7361d21e5938",
        "deepnote_cell_type": "markdown"
      },
      "block_group": "915b6d61414745baaad86a5786370c0c"
    },
    {
      "cell_type": "markdown",
      "source": "#### Suggestions:\n\n- While the current user base is more Android-heavy, it is also crucial to not overlook the Apple user base. Dedicating resources on both platforms could improve user experience and potentially draw in more users.\n\n- Given the stable proportion of Android and Apple users, the development team could focus on improving the app’s features and performance on both platforms rather than prioritizing one over another.\n\n- Running promotional campaigns or introducing new features could potentially shift the proportion and increase user base on both platforms. It would be helpful to monitor changes in the proportion, especially after making significant updates to the app.",
      "metadata": {
        "deepnote_app_coordinates": {
          "h": 120,
          "w": 12,
          "x": 0,
          "y": 0
        },
        "cell_id": "965225e70abd4d658ae0083942bd5bfa",
        "deepnote_cell_type": "markdown"
      },
      "block_group": "7531b66845d04316808876c238fc18aa"
    },
    {
      "cell_type": "markdown",
      "source": "#### In-app time spent\n\n1. **Distribution and Outliers**: High session lengths with a low amount of events could represent users who leave the app open without interacting with it, while low session lengths might indicate issues that cause users to leave the > app early. \n    > A feature could be introduced to confirm if the user is still active, or the app could automatically close or pause after a certain period of inactivity to save resources. \n    > If session lengths are consistently low for either platform, this suggests an issue that affects user experience. More in-depth user behavior analytics or user feedback could help identify any problem areas or bugs that need to be addressed.\n\n2. **Compare Platforms**: If there are significant differences, this could highlight platform-specific issues or usage patterns.\n\n3. **Trends Over Time**: Evaluate if there are any trends or changes in session length over time. This can provide insights into the impact of updates or changes to the app. \n\n4. **Correlation with Other Factors**: Analyze if session length correlates with other factors like particular events or sources of visitors.\n\n#### Actionable suggestions:\n=====================\n1. **Investigate High Session Lengths**: If there are users who have high session lengths with minimal events, the app could introduce a feature to confirm if the user is still active or to automatically pause/close after a certain period of inactivity. This could save server resources and offer a better user experience.\n\n2. **Investigate Low Session Lengths**: If there are users who consistently have low session lengths, this could indicate a problem with the user experience. User feedback or further analysis could help identify any potential issues or bugs that need to be addressed.\n\n3. **Observe Changes Over Time**: If there are noticeable changes in session length over time following updates or changes to the app, this could inform the impact and success of these changes. For example, if session length increases following a new feature launch, this could suggest the feature was well-received.\n\n4. **Correlate outliers with user source**: If session length is consistently high or low for a specific user source, this could indicate an issue with user acquisition or retention.\n\n4. **Correlation with Other Factors**: If session length correlates with specific events or visitor sources, this can inform user acquisition strategy. For example, if users coming from a certain source tend to have longer sessions, it might be worth investing more in that acquisition channel.",
      "metadata": {
        "deepnote_app_coordinates": {
          "h": 120,
          "w": 12,
          "x": 0,
          "y": 0
        },
        "cell_id": "15fb435159f2411d8663b7a4fa10be54",
        "deepnote_cell_type": "markdown"
      },
      "block_group": "9bf7e02ef1004dc7b846d46494793c82"
    },
    {
      "cell_type": "code",
      "source": "session_lengths = events.groupby(['session_skey','user_skey', 'platform'])['date_time'].agg(['min', 'max']).reset_index() \nsession_lengths['length_minutes'] = (session_lengths['max'] - session_lengths['min']).dt.total_seconds()/60 \nprint(\"In-app time spent: \") \nprint(session_lengths.groupby('platform')['length_minutes'].describe().round(3))",
      "metadata": {
        "source_hash": "ca4a6e94",
        "execution_start": 1704714955220,
        "execution_millis": 585,
        "deepnote_table_state": {
          "sortBy": [
            {
              "id": "session_skey",
              "type": "asc"
            }
          ],
          "filters": [],
          "pageSize": 10,
          "pageIndex": 0
        },
        "deepnote_table_loading": false,
        "deepnote_app_coordinates": {
          "h": 120,
          "w": 12,
          "x": 0,
          "y": 0
        },
        "deepnote_to_be_reexecuted": true,
        "deepnote_app_is_code_hidden": true,
        "cell_id": "05a1fe71a0a74f3f99c632bc1a980421",
        "deepnote_cell_type": "code"
      },
      "outputs": [
        {
          "name": "stdout",
          "text": "In-app time spent: \n            count   mean    std  min    25%    50%    75%       max\nplatform                                                           \nandroid   65820.0  3.589  6.547  0.0  0.194  1.316  4.172   162.161\napple     55733.0  3.430  9.270  0.0  0.219  1.267  3.853  1403.762\n",
          "output_type": "stream"
        }
      ],
      "execution_count": null,
      "block_group": "180607bbdd2c429d9dfdaec539984383"
    },
    {
      "cell_type": "code",
      "source": "# Import necessary library\nimport matplotlib.pyplot as plt\nimport seaborn as sns\n\n# Set plot style\nsns.set(style=\"whitegrid\")\n\n# Create subplots\nfig, axes = plt.subplots(1, 2, figsize=(18, 6))\n\n# Boxplot for Android\nsns.boxplot(ax=axes[0], y=\"length_minutes\", data=session_lengths[session_lengths[\"platform\"] == \"android\"]).set_title('Android Session Lengths')\n\n# Boxplot for Apple\nsns.boxplot(ax=axes[1], y=\"length_minutes\", data=session_lengths[session_lengths[\"platform\"] == \"apple\"]).set_title('Apple Session Lengths')\n\n# Show the plot\nplt.show()",
      "metadata": {
        "source_hash": "be354f9c",
        "execution_start": 1704714955800,
        "execution_millis": 538,
        "deepnote_to_be_reexecuted": true,
        "deepnote_app_is_code_hidden": true,
        "cell_id": "e19c45fa7a5549109d037b4eda9c45ce",
        "deepnote_cell_type": "code"
      },
      "outputs": [
        {
          "data": {
            "text/plain": "<Figure size 1800x600 with 2 Axes>",
            "image/png": "[encoded data removed]"
          },
          "metadata": {
            "image/png": {
              "width": 1481,
              "height": 504
            }
          },
          "output_type": "display_data"
        }
      ],
      "execution_count": null,
      "block_group": "c217727c3d0941eda0cc13f428f2128c"
    },
    {
      "cell_type": "markdown",
      "source": "\n1. The majority of sessions for both Android and Apple users are quite short, with most sessions being under 20 minutes. However, there are a significant number of outliers stretching as long as approximately 2900 minutes or about 48 hours.\n\n2. This suggests that majority of users engage with the app for short periods, but there are also users who keep the app open for extended periods, possibly even leaving it open in the background unintentionally.\n\nTo evaluate more granular session length patterns and any potential change across different times, we should also investigate session length variation over time.",
      "metadata": {
        "formattedRanges": [],
        "cell_id": "6a561fcb31b34c3fac1fe52303191511",
        "deepnote_cell_type": "text-cell-p"
      },
      "block_group": "ab3b4269459141819dc90351540fe5fb"
    },
    {
      "cell_type": "code",
      "source": "# Resampling the session lengths data by day and calculating mean session length for each platform\nsession_lengths['min'] = pd.to_datetime(session_lengths['min'])\nsession_lengths.set_index('min', inplace=True)\n\n# Resampling and mean calculation\nsession_length_by_day_android = session_lengths[session_lengths['platform']=='android'].resample('D').mean()\nsession_length_by_day_apple = session_lengths[session_lengths['platform']=='apple'].resample('D').mean()\n\n# Resetting index\nsession_length_by_day_android.reset_index(inplace=True)\nsession_length_by_day_apple.reset_index(inplace=True)\n\n# Rename column from 'min' to 'date'\nsession_length_by_day_android.rename(columns={'min': 'date'}, inplace=True)  \nsession_length_by_day_apple.rename(columns={'min': 'date'}, inplace=True)  \n\n# Plotting\nfig, ax = plt.subplots(figsize=(16, 6))\n# Android\nax.plot(session_length_by_day_android['date'], session_length_by_day_android['length_minutes'],\n        marker='o', linestyle='-', label='android')\n# Apple\nax.plot(session_length_by_day_apple['date'], session_length_by_day_apple['length_minutes'],\n        marker='o', linestyle='-', label='apple')\n\nax.set(xlabel=\"Date\", ylabel=\"Average Session Length (minutes)\", title=\"Daily Avg Session Length by Platform\")\nax.legend()\n\nplt.show()",
      "metadata": {
        "source_hash": "98b17d02",
        "execution_start": 1704714956340,
        "execution_millis": 329,
        "deepnote_to_be_reexecuted": true,
        "deepnote_app_is_code_hidden": true,
        "cell_id": "13c794046cb542a19949f156fe68a013",
        "deepnote_cell_type": "code"
      },
      "outputs": [
        {
          "data": {
            "text/plain": "<Figure size 1600x600 with 1 Axes>",
            "image/png": "[encoded data removed]"
          },
          "metadata": {
            "image/png": {
              "width": 1321,
              "height": 556
            }
          },
          "output_type": "display_data"
        }
      ],
      "execution_count": null,
      "block_group": "fe260e2eddf44fcd84072757f23edf39"
    },
    {
      "cell_type": "markdown",
      "source": "",
      "metadata": {
        "formattedRanges": [],
        "cell_id": "05ff7b3ae85d414193f15776b5b307af",
        "deepnote_cell_type": "text-cell-p"
      },
      "block_group": "09211be3fbeb4496a7c4f7efb05f3d8f"
    },
    {
      "cell_type": "markdown",
      "source": "<a style='text-decoration:none;line-height:16px;display:flex;color:#5B5B62;padding:10px;justify-content:end;' href='https://deepnote.com?utm_source=created-in-deepnote-cell&projectId=ea0dd5ec-7a99-4815-85b5-15ffe4204711' target=\"_blank\">\n<img alt='Created in deepnote.com' style='display:inline;max-height:16px;margin:0px;margin-right:7.5px;' src='data:image/svg+xml;base64,PD94bWwgdmVyc2lvbj0iMS4wIiBlbmNvZGluZz0iVVRGLTgiPz4KPHN2ZyB3aWR0aD0iODBweCIgaGVpZ2h0PSI4MHB4IiB2aWV3Qm94PSIwIDAgODAgODAiIHZlcnNpb249IjEuMSIgeG1sbnM9Imh0dHA6Ly93d3cudzMub3JnLzIwMDAvc3ZnIiB4bWxuczp4bGluaz0iaHR0cDovL3d3dy53My5vcmcvMTk5OS94bGluayI+CiAgICA8IS0tIEdlbmVyYXRvcjogU2tldGNoIDU0LjEgKDc2NDkwKSAtIGh0dHBzOi8vc2tldGNoYXBwLmNvbSAtLT4KICAgIDx0aXRsZT5Hcm91cCAzPC90aXRsZT4KICAgIDxkZXNjPkNyZWF0ZWQgd2l0aCBTa2V0Y2guPC9kZXNjPgogICAgPGcgaWQ9IkxhbmRpbmciIHN0cm9rZT0ibm9uZSIgc3Ryb2tlLXdpZHRoPSIxIiBmaWxsPSJub25lIiBmaWxsLXJ1bGU9ImV2ZW5vZGQiPgogICAgICAgIDxnIGlkPSJBcnRib2FyZCIgdHJhbnNmb3JtPSJ0cmFuc2xhdGUoLTEyMzUuMDAwMDAwLCAtNzkuMDAwMDAwKSI+CiAgICAgICAgICAgIDxnIGlkPSJHcm91cC0zIiB0cmFuc2Zvcm09InRyYW5zbGF0ZSgxMjM1LjAwMDAwMCwgNzkuMDAwMDAwKSI+CiAgICAgICAgICAgICAgICA8cG9seWdvbiBpZD0iUGF0aC0yMCIgZmlsbD0iIzAyNjVCNCIgcG9pbnRzPSIyLjM3NjIzNzYyIDgwIDM4LjA0NzY2NjcgODAgNTcuODIxNzgyMiA3My44MDU3NTkyIDU3LjgyMTc4MjIgMzIuNzU5MjczOSAzOS4xNDAyMjc4IDMxLjY4MzE2ODMiPjwvcG9seWdvbj4KICAgICAgICAgICAgICAgIDxwYXRoIGQ9Ik0zNS4wMDc3MTgsODAgQzQyLjkwNjIwMDcsNzYuNDU0OTM1OCA0Ny41NjQ5MTY3LDcxLjU0MjI2NzEgNDguOTgzODY2LDY1LjI2MTk5MzkgQzUxLjExMjI4OTksNTUuODQxNTg0MiA0MS42NzcxNzk1LDQ5LjIxMjIyODQgMjUuNjIzOTg0Niw0OS4yMTIyMjg0IEMyNS40ODQ5Mjg5LDQ5LjEyNjg0NDggMjkuODI2MTI5Niw0My4yODM4MjQ4IDM4LjY0NzU4NjksMzEuNjgzMTY4MyBMNzIuODcxMjg3MSwzMi41NTQ0MjUgTDY1LjI4MDk3Myw2Ny42NzYzNDIxIEw1MS4xMTIyODk5LDc3LjM3NjE0NCBMMzUuMDA3NzE4LDgwIFoiIGlkPSJQYXRoLTIyIiBmaWxsPSIjMDAyODY4Ij48L3BhdGg+CiAgICAgICAgICAgICAgICA8cGF0aCBkPSJNMCwzNy43MzA0NDA1IEwyNy4xMTQ1MzcsMC4yNTcxMTE0MzYgQzYyLjM3MTUxMjMsLTEuOTkwNzE3MDEgODAsMTAuNTAwMzkyNyA4MCwzNy43MzA0NDA1IEM4MCw2NC45NjA0ODgyIDY0Ljc3NjUwMzgsNzkuMDUwMzQxNCAzNC4zMjk1MTEzLDgwIEM0Ny4wNTUzNDg5LDc3LjU2NzA4MDggNTMuNDE4MjY3Nyw3MC4zMTM2MTAzIDUzLjQxODI2NzcsNTguMjM5NTg4NSBDNTMuNDE4MjY3Nyw0MC4xMjg1NTU3IDM2LjMwMzk1NDQsMzcuNzMwNDQwNSAyNS4yMjc0MTcsMzcuNzMwNDQwNSBDMTcuODQzMDU4NiwzNy43MzA0NDA1IDkuNDMzOTE5NjYsMzcuNzMwNDQwNSAwLDM3LjczMDQ0MDUgWiIgaWQ9IlBhdGgtMTkiIGZpbGw9IiMzNzkzRUYiPjwvcGF0aD4KICAgICAgICAgICAgPC9nPgogICAgICAgIDwvZz4KICAgIDwvZz4KPC9zdmc+' > </img>\nCreated in <span style='font-weight:600;margin-left:4px;'>Deepnote</span></a>",
      "metadata": {
        "created_in_deepnote_cell": true,
        "deepnote_cell_type": "markdown"
      }
    }
  ],
  "nbformat": 4,
  "nbformat_minor": 0,
  "metadata": {
    "deepnote_app_clear_outputs": false,
    "deepnote_app_layout": "powerful-article",
    "deepnote_app_table_of_contents_enabled": false,
    "deepnote_app_hide_all_code_blocks_enabled": true,
    "deepnote_app_width": "full-width",
    "deepnote_app_run_on_input_enabled": false,
    "deepnote_notebook_id": "5053d828fe6b46cd8f359d477260fc01",
    "deepnote_execution_queue": []
  }
}