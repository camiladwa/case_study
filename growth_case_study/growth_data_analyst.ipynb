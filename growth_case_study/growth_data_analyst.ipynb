{
  "cells": [
    {
      "cell_type": "markdown",
      "source": "## Data Understanding and cleaning",
      "metadata": {
        "is_collapsed": false,
        "formattedRanges": [],
        "deepnote_app_coordinates": {
          "h": 120,
          "w": 12,
          "x": 0,
          "y": 0
        },
        "cell_id": "5714afeff0f941b88d88edb6c12248ca",
        "deepnote_cell_type": "text-cell-h2"
      },
      "block_group": "3ff01660dc3644e4a2d24d2342d37dd8"
    },
    {
      "cell_type": "markdown",
      "source": "#### App Open \n______________________________________________________",
      "metadata": {
        "deepnote_app_coordinates": {
          "h": 120,
          "w": 12,
          "x": 0,
          "y": 0
        },
        "cell_id": "61562f63ffd64d94ae3b9677b1f81bca",
        "deepnote_cell_type": "markdown"
      },
      "block_group": "d9a648fbec7349dfbdbe5f6e351e289c"
    },
    {
      "cell_type": "markdown",
      "source": "| Column        | Data Type         | Description                               | Unique Key|\n| ----------- | ----------- | ----------- | ----------- |\n| timestamp     |TIMESTAMP          |Timestamp when the app was opened          |No|\n| device_skey   |STRING             |Unique identifier for the device           |No|\n| session_skey  |STRING             |Unique identifier for the session          |No|\n| user_skey     |STRING             |Unique identifier for the users            |No|\n| is_first_app_open |BOOLEAN        |Indicator of whether it's the first time app open for the user |No|\n| platform      |STRING             |Platform on which the app was opened (e.g., android, apple) |No|\n| country_code  |STRING             |Country from which the app was opened (e.g., us, de) |No|",
      "metadata": {
        "deepnote_app_coordinates": {
          "h": 120,
          "w": 12,
          "x": 0,
          "y": 0
        },
        "cell_id": "72c7f247bbd64ec59178738d23633aa5",
        "deepnote_cell_type": "markdown"
      },
      "block_group": "2c3ddcbdd7514c00a5bdf8fbf67c60f6"
    },
    {
      "cell_type": "code",
      "source": "apps_open = _deepnote_execute_sql('SELECT \\n    timestamp AS date_time\\n    , device_skey::VARCHAR AS device_skey\\n    , session_skey::VARCHAR AS session_skey\\n    , user_skey::VARCHAR AS user_skey\\n    , is_first_app_open::BOOLEAN AS is_first_app_open\\n    , platform::VARCHAR AS platform\\n    , country_code::VARCHAR AS country_code\\nFROM \\'ps_challanges/growth_case_study/Datasets/App Opens.csv\\'', 'SQL_DEEPNOTE_DATAFRAME_SQL', audit_sql_comment='', sql_cache_mode='cache_disabled')\napps_open",
      "metadata": {
        "source_hash": "5d509def",
        "is_code_hidden": false,
        "execution_start": 1704639267603,
        "execution_millis": 3079,
        "sql_integration_id": "deepnote-dataframe-sql",
        "deepnote_table_state": {
          "sortBy": [],
          "filters": [],
          "pageSize": 5,
          "pageIndex": 0
        },
        "deepnote_table_invalid": false,
        "deepnote_table_loading": false,
        "deepnote_variable_name": "apps_open",
        "deepnote_app_coordinates": {
          "h": 120,
          "w": 12,
          "x": 0,
          "y": 0
        },
        "deepnote_to_be_reexecuted": false,
        "deepnote_app_is_code_hidden": true,
        "cell_id": "6172dcd1011549bcb76f2c3e49ccb6e8",
        "deepnote_cell_type": "sql",
        "deepnote_sql_source": "SELECT \n    timestamp AS date_time\n    , device_skey::VARCHAR AS device_skey\n    , session_skey::VARCHAR AS session_skey\n    , user_skey::VARCHAR AS user_skey\n    , is_first_app_open::BOOLEAN AS is_first_app_open\n    , platform::VARCHAR AS platform\n    , country_code::VARCHAR AS country_code\nFROM 'ps_challanges/growth_case_study/Datasets/App Opens.csv'"
      },
      "outputs": [
        {
          "data": {
            "application/vnd.deepnote.sql-output-metadata+json": {
              "status": "success_no_cache",
              "size_in_bytes": 70500064
            }
          },
          "metadata": {},
          "output_type": "display_data"
        },
        {
          "output_type": "execute_result",
          "execution_count": 1,
          "data": {
            "application/vnd.deepnote.dataframe.v3+json": {
              "column_count": 7,
              "row_count": 196090,
              "columns": [
                {
                  "name": "date_time",
                  "dtype": "datetime64[ns]"
                },
                {
                  "name": "device_skey",
                  "dtype": "object"
                },
                {
                  "name": "session_skey",
                  "dtype": "object"
                },
                {
                  "name": "user_skey",
                  "dtype": "object"
                },
                {
                  "name": "is_first_app_open",
                  "dtype": "bool"
                },
                {
                  "name": "platform",
                  "dtype": "object"
                },
                {
                  "name": "country_code",
                  "dtype": "object"
                },
                {
                  "name": "_deepnote_index_column",
                  "dtype": "int64"
                }
              ],
              "rows": [
                {
                  "date_time": "2023-11-08 02:07:19.673000",
                  "device_skey": "7891415701568881512",
                  "session_skey": "2011583431778737851",
                  "user_skey": "-8717167265529084706",
                  "is_first_app_open": "False",
                  "platform": "android",
                  "country_code": "br",
                  "_deepnote_index_column": 0
                },
                {
                  "date_time": "2023-11-08 06:26:35.953000",
                  "device_skey": "2841158506866498595",
                  "session_skey": "-710585864896703953",
                  "user_skey": "3858142552250413010",
                  "is_first_app_open": "False",
                  "platform": "android",
                  "country_code": "vn",
                  "_deepnote_index_column": 1
                },
                {
                  "date_time": "2023-11-08 11:00:09.578000",
                  "device_skey": "8319180276841915965",
                  "session_skey": "8851130170214692120",
                  "user_skey": "-6901249382849255824",
                  "is_first_app_open": "False",
                  "platform": "apple",
                  "country_code": "vn",
                  "_deepnote_index_column": 2
                },
                {
                  "date_time": "2023-11-08 17:03:55.775000",
                  "device_skey": "-7044717482868540199",
                  "session_skey": "2562809385083234043",
                  "user_skey": "42",
                  "is_first_app_open": "False",
                  "platform": "apple",
                  "country_code": "vn",
                  "_deepnote_index_column": 3
                },
                {
                  "date_time": "2023-11-08 10:09:35.170000",
                  "device_skey": "8330275025360404105",
                  "session_skey": "6269721242185127990",
                  "user_skey": "-8100364697395241128",
                  "is_first_app_open": "False",
                  "platform": "android",
                  "country_code": "de",
                  "_deepnote_index_column": 4
                }
              ]
            },
            "text/plain": "                     date_time           device_skey          session_skey  \\\n0      2023-11-08 02:07:19.673   7891415701568881512   2011583431778737851   \n1      2023-11-08 06:26:35.953   2841158506866498595   -710585864896703953   \n2      2023-11-08 11:00:09.578   8319180276841915965   8851130170214692120   \n3      2023-11-08 17:03:55.775  -7044717482868540199   2562809385083234043   \n4      2023-11-08 10:09:35.170   8330275025360404105   6269721242185127990   \n...                        ...                   ...                   ...   \n196085 2023-11-15 11:47:15.631  -1985881793666309748   1078423291596019483   \n196086 2023-11-15 15:24:53.931   2134527128238454256  -3747564580958942091   \n196087 2023-11-15 15:31:40.914  -2987017123302243105  -6832478710689874856   \n196088 2023-11-15 20:41:23.133   1438462127647457196  -5384106018072454101   \n196089 2023-11-15 15:52:43.503  -8712802945833965858   8760275016236232166   \n\n                   user_skey  is_first_app_open platform country_code  \n0       -8717167265529084706              False  android           br  \n1        3858142552250413010              False  android           vn  \n2       -6901249382849255824              False    apple           vn  \n3                         42              False    apple           vn  \n4       -8100364697395241128              False  android           de  \n...                      ...                ...      ...          ...  \n196085   3098934470375878848              False  android           br  \n196086  -8099055897267782491              False    apple           br  \n196087  -8250782251817560378              False  android           vn  \n196088    -46678441358607097              False  android           br  \n196089   3858142552250413010              False  android           br  \n\n[196090 rows x 7 columns]",
            "text/html": "<div>\n<style scoped>\n    .dataframe tbody tr th:only-of-type {\n        vertical-align: middle;\n    }\n\n    .dataframe tbody tr th {\n        vertical-align: top;\n    }\n\n    .dataframe thead th {\n        text-align: right;\n    }\n</style>\n<table border=\"1\" class=\"dataframe\">\n  <thead>\n    <tr style=\"text-align: right;\">\n      <th></th>\n      <th>date_time</th>\n      <th>device_skey</th>\n      <th>session_skey</th>\n      <th>user_skey</th>\n      <th>is_first_app_open</th>\n      <th>platform</th>\n      <th>country_code</th>\n    </tr>\n  </thead>\n  <tbody>\n    <tr>\n      <th>0</th>\n      <td>2023-11-08 02:07:19.673</td>\n      <td>7891415701568881512</td>\n      <td>2011583431778737851</td>\n      <td>-8717167265529084706</td>\n      <td>False</td>\n      <td>android</td>\n      <td>br</td>\n    </tr>\n    <tr>\n      <th>1</th>\n      <td>2023-11-08 06:26:35.953</td>\n      <td>2841158506866498595</td>\n      <td>-710585864896703953</td>\n      <td>3858142552250413010</td>\n      <td>False</td>\n      <td>android</td>\n      <td>vn</td>\n    </tr>\n    <tr>\n      <th>2</th>\n      <td>2023-11-08 11:00:09.578</td>\n      <td>8319180276841915965</td>\n      <td>8851130170214692120</td>\n      <td>-6901249382849255824</td>\n      <td>False</td>\n      <td>apple</td>\n      <td>vn</td>\n    </tr>\n    <tr>\n      <th>3</th>\n      <td>2023-11-08 17:03:55.775</td>\n      <td>-7044717482868540199</td>\n      <td>2562809385083234043</td>\n      <td>42</td>\n      <td>False</td>\n      <td>apple</td>\n      <td>vn</td>\n    </tr>\n    <tr>\n      <th>4</th>\n      <td>2023-11-08 10:09:35.170</td>\n      <td>8330275025360404105</td>\n      <td>6269721242185127990</td>\n      <td>-8100364697395241128</td>\n      <td>False</td>\n      <td>android</td>\n      <td>de</td>\n    </tr>\n    <tr>\n      <th>...</th>\n      <td>...</td>\n      <td>...</td>\n      <td>...</td>\n      <td>...</td>\n      <td>...</td>\n      <td>...</td>\n      <td>...</td>\n    </tr>\n    <tr>\n      <th>196085</th>\n      <td>2023-11-15 11:47:15.631</td>\n      <td>-1985881793666309748</td>\n      <td>1078423291596019483</td>\n      <td>3098934470375878848</td>\n      <td>False</td>\n      <td>android</td>\n      <td>br</td>\n    </tr>\n    <tr>\n      <th>196086</th>\n      <td>2023-11-15 15:24:53.931</td>\n      <td>2134527128238454256</td>\n      <td>-3747564580958942091</td>\n      <td>-8099055897267782491</td>\n      <td>False</td>\n      <td>apple</td>\n      <td>br</td>\n    </tr>\n    <tr>\n      <th>196087</th>\n      <td>2023-11-15 15:31:40.914</td>\n      <td>-2987017123302243105</td>\n      <td>-6832478710689874856</td>\n      <td>-8250782251817560378</td>\n      <td>False</td>\n      <td>android</td>\n      <td>vn</td>\n    </tr>\n    <tr>\n      <th>196088</th>\n      <td>2023-11-15 20:41:23.133</td>\n      <td>1438462127647457196</td>\n      <td>-5384106018072454101</td>\n      <td>-46678441358607097</td>\n      <td>False</td>\n      <td>android</td>\n      <td>br</td>\n    </tr>\n    <tr>\n      <th>196089</th>\n      <td>2023-11-15 15:52:43.503</td>\n      <td>-8712802945833965858</td>\n      <td>8760275016236232166</td>\n      <td>3858142552250413010</td>\n      <td>False</td>\n      <td>android</td>\n      <td>br</td>\n    </tr>\n  </tbody>\n</table>\n<p>196090 rows × 7 columns</p>\n</div>"
          },
          "metadata": {}
        }
      ],
      "execution_count": 1,
      "block_group": "2c3ddcbdd7514c00a5bdf8fbf67c60f6"
    },
    {
      "cell_type": "markdown",
      "source": "#### Events\n______________________________________________________\n",
      "metadata": {
        "deepnote_app_coordinates": {
          "h": 120,
          "w": 12,
          "x": 0,
          "y": 0
        },
        "cell_id": "6830a44c1857434192e55951eba9d83d",
        "deepnote_cell_type": "markdown"
      },
      "block_group": "4a1fe3236b544c289c6cc42a5b143231"
    },
    {
      "cell_type": "markdown",
      "source": "| Column| Data Type| Description| Unique Key|\n| ----------- | ----------- | ----------- | ----------- |\nevent_name |STRING |Type of event occurred |No\ntimestamp |TIMESTAMP |Timestamp when the event occurred |No\nevent_skey |STRING |Unique identifier for the event |Yes\ndevice_skey |STRING |Unique identifier for the device |No\nuser_skey |STRING |Unique identifier for the user |No\nsession_skey |STRING |Unique identifier for the session |No\nplatform |STRING |Platform on which the event occurred (e.g., android, apple) |No\nsource |STRING |Source screen from which the event was triggered |No\ncountry_code |STRING |Country from which the app was opened (e.g., us, de) | No",
      "metadata": {
        "deepnote_app_coordinates": {
          "h": 120,
          "w": 12,
          "x": 0,
          "y": 0
        },
        "cell_id": "6aac95472b0245499b79b1f5004e5819",
        "deepnote_cell_type": "markdown"
      },
      "block_group": "48c17b3905774f0fb4c4206d7f39fc64"
    },
    {
      "cell_type": "code",
      "source": "events = _deepnote_execute_sql('SELECT \\n    event_name::STRING AS event_name\\n    , epoch_ms(timestamp) AS date_time\\n    , event_skey::STRING AS event_skey\\n    , device_skey::STRING AS device_skey\\n    , user_skey::STRING AS user_skey\\n    , NULLIF(session_skey, \\'null\\')::STRING AS session_skey\\n    , platform::STRING AS platform\\n    , source::STRING AS source\\n    , country_code::STRING AS country_code\\nFROM \\'ps_challanges/growth_case_study/Datasets/Events.csv\\'', 'SQL_DEEPNOTE_DATAFRAME_SQL', audit_sql_comment='', sql_cache_mode='cache_disabled')\nevents",
      "metadata": {
        "source_hash": "d6531183",
        "is_code_hidden": false,
        "execution_start": 1704639270694,
        "execution_millis": 6604,
        "sql_integration_id": "deepnote-dataframe-sql",
        "deepnote_table_state": {
          "sortBy": [],
          "filters": [],
          "pageSize": 5,
          "pageIndex": 0
        },
        "deepnote_table_loading": false,
        "deepnote_variable_name": "events",
        "deepnote_app_coordinates": {
          "h": 120,
          "w": 12,
          "x": 0,
          "y": 0
        },
        "deepnote_to_be_reexecuted": false,
        "deepnote_app_is_code_hidden": false,
        "cell_id": "3a6aa437b1924f10b73510fbc792cc7a",
        "deepnote_cell_type": "sql",
        "deepnote_sql_source": "SELECT \n    event_name::STRING AS event_name\n    , epoch_ms(timestamp) AS date_time\n    , event_skey::STRING AS event_skey\n    , device_skey::STRING AS device_skey\n    , user_skey::STRING AS user_skey\n    , NULLIF(session_skey, 'null')::STRING AS session_skey\n    , platform::STRING AS platform\n    , source::STRING AS source\n    , country_code::STRING AS country_code\nFROM 'ps_challanges/growth_case_study/Datasets/Events.csv'"
      },
      "outputs": [
        {
          "data": {
            "application/vnd.deepnote.sql-output-metadata+json": {
              "status": "success_no_cache",
              "size_in_bytes": 434967819
            }
          },
          "metadata": {},
          "output_type": "display_data"
        },
        {
          "output_type": "execute_result",
          "execution_count": 2,
          "data": {
            "application/vnd.deepnote.dataframe.v3+json": {
              "column_count": 9,
              "row_count": 762103,
              "columns": [
                {
                  "name": "event_name",
                  "dtype": "object"
                },
                {
                  "name": "date_time",
                  "dtype": "datetime64[ns]"
                },
                {
                  "name": "event_skey",
                  "dtype": "object"
                },
                {
                  "name": "device_skey",
                  "dtype": "object"
                },
                {
                  "name": "user_skey",
                  "dtype": "object"
                },
                {
                  "name": "session_skey",
                  "dtype": "object"
                },
                {
                  "name": "platform",
                  "dtype": "object"
                },
                {
                  "name": "source",
                  "dtype": "object"
                },
                {
                  "name": "country_code",
                  "dtype": "object"
                },
                {
                  "name": "_deepnote_index_column",
                  "dtype": "int64"
                }
              ],
              "rows": [
                {
                  "event_name": "registration_open",
                  "date_time": "2023-11-11 03:32:05.905000",
                  "event_skey": "-927509160255567445",
                  "device_skey": "-724186991312688217",
                  "user_skey": "null",
                  "session_skey": "5342905048311674142",
                  "platform": "apple",
                  "source": "app_start",
                  "country_code": "vn",
                  "_deepnote_index_column": 0
                },
                {
                  "event_name": "registration_open",
                  "date_time": "2023-11-11 03:16:02.636000",
                  "event_skey": "6726005894254876970",
                  "device_skey": "167579040429311423",
                  "user_skey": "null",
                  "session_skey": "1033335939576521366",
                  "platform": "android",
                  "source": "app_start",
                  "country_code": "vn",
                  "_deepnote_index_column": 1
                },
                {
                  "event_name": "registration_open",
                  "date_time": "2023-11-10 15:18:40.465000",
                  "event_skey": "-2921948449119298022",
                  "device_skey": "-753449636207296314",
                  "user_skey": "null",
                  "session_skey": "7698330632377898188",
                  "platform": "apple",
                  "source": "app_start",
                  "country_code": "vn",
                  "_deepnote_index_column": 2
                },
                {
                  "event_name": "registration_open",
                  "date_time": "2023-11-10 15:46:26.774000",
                  "event_skey": "920368455108193822",
                  "device_skey": "6151555484025284746",
                  "user_skey": "null",
                  "session_skey": "1455590834684669000",
                  "platform": "android",
                  "source": "user_profile",
                  "country_code": "br",
                  "_deepnote_index_column": 3
                },
                {
                  "event_name": "registration_open",
                  "date_time": "2023-11-10 15:46:35.428000",
                  "event_skey": "4301569710999595535",
                  "device_skey": "6151555484025284746",
                  "user_skey": "null",
                  "session_skey": "1455590834684669000",
                  "platform": "android",
                  "source": "user_profile",
                  "country_code": "br",
                  "_deepnote_index_column": 4
                }
              ]
            },
            "text/plain": "               event_name               date_time            event_skey  \\\n0       registration_open 2023-11-11 03:32:05.905   -927509160255567445   \n1       registration_open 2023-11-11 03:16:02.636   6726005894254876970   \n2       registration_open 2023-11-10 15:18:40.465  -2921948449119298022   \n3       registration_open 2023-11-10 15:46:26.774    920368455108193822   \n4       registration_open 2023-11-10 15:46:35.428   4301569710999595535   \n...                   ...                     ...                   ...   \n762098      object_export 2023-11-06 03:19:28.217   8762455078106490544   \n762099      object_export 2023-11-06 03:19:33.857   1236197224848669172   \n762100      object_export 2023-11-06 00:40:15.840  -1128268909705829967   \n762101      object_export 2023-11-06 03:46:08.259  -5041445763328466000   \n762102      object_export 2023-11-06 05:24:32.892  -6986696981001780815   \n\n                 device_skey             user_skey          session_skey  \\\n0        -724186991312688217                  null   5342905048311674142   \n1         167579040429311423                  null   1033335939576521366   \n2        -753449636207296314                  null   7698330632377898188   \n3        6151555484025284746                  null   1455590834684669000   \n4        6151555484025284746                  null   1455590834684669000   \n...                      ...                   ...                   ...   \n762098   -218442561903040844  -7394739150698595004   4931081474184387585   \n762099  -8953068508614011099  -5616148740068329164   1939940093157332532   \n762100   7622198276030932501  -4476277103857062859   -914698409805777184   \n762101  -2972284481220770541   5642301744160861251  -2767914012090684930   \n762102   5063049973356317922  -1673568955619467978   -617241668950774295   \n\n       platform              source country_code  \n0         apple           app_start           vn  \n1       android           app_start           vn  \n2         apple           app_start           vn  \n3       android        user_profile           br  \n4       android        user_profile           br  \n...         ...                 ...          ...  \n762098    apple       editor_screen           vn  \n762099    apple  editor_add_objects           vn  \n762100    apple        share_screen           br  \n762101  android  editor_add_objects           eg  \n762102    apple     editor_beautify           vn  \n\n[762103 rows x 9 columns]",
            "text/html": "<div>\n<style scoped>\n    .dataframe tbody tr th:only-of-type {\n        vertical-align: middle;\n    }\n\n    .dataframe tbody tr th {\n        vertical-align: top;\n    }\n\n    .dataframe thead th {\n        text-align: right;\n    }\n</style>\n<table border=\"1\" class=\"dataframe\">\n  <thead>\n    <tr style=\"text-align: right;\">\n      <th></th>\n      <th>event_name</th>\n      <th>date_time</th>\n      <th>event_skey</th>\n      <th>device_skey</th>\n      <th>user_skey</th>\n      <th>session_skey</th>\n      <th>platform</th>\n      <th>source</th>\n      <th>country_code</th>\n    </tr>\n  </thead>\n  <tbody>\n    <tr>\n      <th>0</th>\n      <td>registration_open</td>\n      <td>2023-11-11 03:32:05.905</td>\n      <td>-927509160255567445</td>\n      <td>-724186991312688217</td>\n      <td>null</td>\n      <td>5342905048311674142</td>\n      <td>apple</td>\n      <td>app_start</td>\n      <td>vn</td>\n    </tr>\n    <tr>\n      <th>1</th>\n      <td>registration_open</td>\n      <td>2023-11-11 03:16:02.636</td>\n      <td>6726005894254876970</td>\n      <td>167579040429311423</td>\n      <td>null</td>\n      <td>1033335939576521366</td>\n      <td>android</td>\n      <td>app_start</td>\n      <td>vn</td>\n    </tr>\n    <tr>\n      <th>2</th>\n      <td>registration_open</td>\n      <td>2023-11-10 15:18:40.465</td>\n      <td>-2921948449119298022</td>\n      <td>-753449636207296314</td>\n      <td>null</td>\n      <td>7698330632377898188</td>\n      <td>apple</td>\n      <td>app_start</td>\n      <td>vn</td>\n    </tr>\n    <tr>\n      <th>3</th>\n      <td>registration_open</td>\n      <td>2023-11-10 15:46:26.774</td>\n      <td>920368455108193822</td>\n      <td>6151555484025284746</td>\n      <td>null</td>\n      <td>1455590834684669000</td>\n      <td>android</td>\n      <td>user_profile</td>\n      <td>br</td>\n    </tr>\n    <tr>\n      <th>4</th>\n      <td>registration_open</td>\n      <td>2023-11-10 15:46:35.428</td>\n      <td>4301569710999595535</td>\n      <td>6151555484025284746</td>\n      <td>null</td>\n      <td>1455590834684669000</td>\n      <td>android</td>\n      <td>user_profile</td>\n      <td>br</td>\n    </tr>\n    <tr>\n      <th>...</th>\n      <td>...</td>\n      <td>...</td>\n      <td>...</td>\n      <td>...</td>\n      <td>...</td>\n      <td>...</td>\n      <td>...</td>\n      <td>...</td>\n      <td>...</td>\n    </tr>\n    <tr>\n      <th>762098</th>\n      <td>object_export</td>\n      <td>2023-11-06 03:19:28.217</td>\n      <td>8762455078106490544</td>\n      <td>-218442561903040844</td>\n      <td>-7394739150698595004</td>\n      <td>4931081474184387585</td>\n      <td>apple</td>\n      <td>editor_screen</td>\n      <td>vn</td>\n    </tr>\n    <tr>\n      <th>762099</th>\n      <td>object_export</td>\n      <td>2023-11-06 03:19:33.857</td>\n      <td>1236197224848669172</td>\n      <td>-8953068508614011099</td>\n      <td>-5616148740068329164</td>\n      <td>1939940093157332532</td>\n      <td>apple</td>\n      <td>editor_add_objects</td>\n      <td>vn</td>\n    </tr>\n    <tr>\n      <th>762100</th>\n      <td>object_export</td>\n      <td>2023-11-06 00:40:15.840</td>\n      <td>-1128268909705829967</td>\n      <td>7622198276030932501</td>\n      <td>-4476277103857062859</td>\n      <td>-914698409805777184</td>\n      <td>apple</td>\n      <td>share_screen</td>\n      <td>br</td>\n    </tr>\n    <tr>\n      <th>762101</th>\n      <td>object_export</td>\n      <td>2023-11-06 03:46:08.259</td>\n      <td>-5041445763328466000</td>\n      <td>-2972284481220770541</td>\n      <td>5642301744160861251</td>\n      <td>-2767914012090684930</td>\n      <td>android</td>\n      <td>editor_add_objects</td>\n      <td>eg</td>\n    </tr>\n    <tr>\n      <th>762102</th>\n      <td>object_export</td>\n      <td>2023-11-06 05:24:32.892</td>\n      <td>-6986696981001780815</td>\n      <td>5063049973356317922</td>\n      <td>-1673568955619467978</td>\n      <td>-617241668950774295</td>\n      <td>apple</td>\n      <td>editor_beautify</td>\n      <td>vn</td>\n    </tr>\n  </tbody>\n</table>\n<p>762103 rows × 9 columns</p>\n</div>"
          },
          "metadata": {}
        }
      ],
      "execution_count": 2,
      "block_group": "48c17b3905774f0fb4c4206d7f39fc64"
    },
    {
      "cell_type": "markdown",
      "source": "#### Visitors\n______________________________________________________",
      "metadata": {
        "deepnote_app_coordinates": {
          "h": 120,
          "w": 12,
          "x": 0,
          "y": 0
        },
        "cell_id": "545e2db99db442ca9d46ba31aeed78dd",
        "deepnote_cell_type": "markdown"
      },
      "block_group": "d9eef6e27f634caab05965eafa6d0abe"
    },
    {
      "cell_type": "markdown",
      "source": "| Column| Data Type| Description| Unique Key|\n| ----------- | ----------- | ----------- | ----------- |\n|Date |STRING| Date of visit | yes\nStore Visitors. Source: search | BIGINT |Number of store visitors from the source search |No\nStore Visitors. Source: explore | BIGINT |Number of store visitors from the source explore |No\nStore Visitors. Source: referrals | BIGINT |Number of store visitors from the source referrals |No",
      "metadata": {
        "deepnote_app_coordinates": {
          "h": 120,
          "w": 12,
          "x": 0,
          "y": 0
        },
        "cell_id": "4531fb6f8ce347e5b5dfc157c45b5fed",
        "deepnote_cell_type": "markdown"
      },
      "block_group": "81d7a103f59d497d980d3a9bb70c8e11"
    },
    {
      "cell_type": "code",
      "source": "visitors = _deepnote_execute_sql('SELECT \\n    Date AS date_time\\n    , \"Store Visitors. Source: search\"::BIGINT AS store_visitors_source_search\\n    , \"Store Visitors. Source: explore\"::BIGINT AS store_visitors_source_explore\\n    , \"Store Visitors. Source: referrals\"::BIGINT AS store_visitors_source_referrals\\nFROM \\'ps_challanges/growth_case_study/Datasets/store_visitors.csv\\'', 'SQL_DEEPNOTE_DATAFRAME_SQL', audit_sql_comment='', sql_cache_mode='cache_disabled')\nvisitors",
      "metadata": {
        "source_hash": "b800fe29",
        "is_code_hidden": true,
        "execution_start": 1704639277446,
        "execution_millis": 352,
        "sql_integration_id": "deepnote-dataframe-sql",
        "deepnote_table_state": {
          "sortBy": [
            {
              "id": "date_time",
              "type": "asc"
            }
          ],
          "filters": [],
          "pageSize": 5,
          "pageIndex": 0
        },
        "deepnote_table_loading": false,
        "deepnote_variable_name": "visitors",
        "deepnote_app_coordinates": {
          "h": 120,
          "w": 12,
          "x": 0,
          "y": 0
        },
        "deepnote_to_be_reexecuted": false,
        "deepnote_app_is_code_hidden": false,
        "cell_id": "277011b7f77f4208a14378cdb069ce85",
        "deepnote_cell_type": "sql",
        "deepnote_sql_source": "SELECT \n    Date AS date_time\n    , \"Store Visitors. Source: search\"::BIGINT AS store_visitors_source_search\n    , \"Store Visitors. Source: explore\"::BIGINT AS store_visitors_source_explore\n    , \"Store Visitors. Source: referrals\"::BIGINT AS store_visitors_source_referrals\nFROM 'ps_challanges/growth_case_study/Datasets/store_visitors.csv'"
      },
      "outputs": [
        {
          "data": {
            "application/vnd.deepnote.sql-output-metadata+json": {
              "status": "success_no_cache",
              "size_in_bytes": 2048
            }
          },
          "metadata": {},
          "output_type": "display_data"
        },
        {
          "output_type": "execute_result",
          "execution_count": 3,
          "data": {
            "application/vnd.deepnote.dataframe.v3+json": {
              "column_count": 4,
              "row_count": 30,
              "columns": [
                {
                  "name": "date_time",
                  "dtype": "object",
                  "stats": {
                    "unique_count": 30,
                    "nan_count": 0,
                    "categories": [
                      {
                        "name": "2023-11-01",
                        "count": 1
                      },
                      {
                        "name": "2023-11-02",
                        "count": 1
                      },
                      {
                        "name": "28 others",
                        "count": 28
                      }
                    ]
                  }
                },
                {
                  "name": "store_visitors_source_search",
                  "dtype": "int64",
                  "stats": {
                    "unique_count": 13,
                    "nan_count": 0,
                    "min": "1",
                    "max": "852",
                    "histogram": [
                      {
                        "bin_start": 1,
                        "bin_end": 86.1,
                        "count": 26
                      },
                      {
                        "bin_start": 86.1,
                        "bin_end": 171.2,
                        "count": 0
                      },
                      {
                        "bin_start": 171.2,
                        "bin_end": 256.29999999999995,
                        "count": 0
                      },
                      {
                        "bin_start": 256.29999999999995,
                        "bin_end": 341.4,
                        "count": 1
                      },
                      {
                        "bin_start": 341.4,
                        "bin_end": 426.5,
                        "count": 0
                      },
                      {
                        "bin_start": 426.5,
                        "bin_end": 511.59999999999997,
                        "count": 1
                      },
                      {
                        "bin_start": 511.59999999999997,
                        "bin_end": 596.6999999999999,
                        "count": 0
                      },
                      {
                        "bin_start": 596.6999999999999,
                        "bin_end": 681.8,
                        "count": 0
                      },
                      {
                        "bin_start": 681.8,
                        "bin_end": 766.9,
                        "count": 0
                      },
                      {
                        "bin_start": 766.9,
                        "bin_end": 852,
                        "count": 2
                      }
                    ]
                  }
                },
                {
                  "name": "store_visitors_source_explore",
                  "dtype": "int64",
                  "stats": {
                    "unique_count": 18,
                    "nan_count": 0,
                    "min": "2",
                    "max": "663",
                    "histogram": [
                      {
                        "bin_start": 2,
                        "bin_end": 68.1,
                        "count": 29
                      },
                      {
                        "bin_start": 68.1,
                        "bin_end": 134.2,
                        "count": 0
                      },
                      {
                        "bin_start": 134.2,
                        "bin_end": 200.29999999999998,
                        "count": 0
                      },
                      {
                        "bin_start": 200.29999999999998,
                        "bin_end": 266.4,
                        "count": 0
                      },
                      {
                        "bin_start": 266.4,
                        "bin_end": 332.5,
                        "count": 0
                      },
                      {
                        "bin_start": 332.5,
                        "bin_end": 398.59999999999997,
                        "count": 0
                      },
                      {
                        "bin_start": 398.59999999999997,
                        "bin_end": 464.69999999999993,
                        "count": 0
                      },
                      {
                        "bin_start": 464.69999999999993,
                        "bin_end": 530.8,
                        "count": 0
                      },
                      {
                        "bin_start": 530.8,
                        "bin_end": 596.9,
                        "count": 0
                      },
                      {
                        "bin_start": 596.9,
                        "bin_end": 663,
                        "count": 1
                      }
                    ]
                  }
                },
                {
                  "name": "store_visitors_source_referrals",
                  "dtype": "int64",
                  "stats": {
                    "unique_count": 12,
                    "nan_count": 0,
                    "min": "2",
                    "max": "938",
                    "histogram": [
                      {
                        "bin_start": 2,
                        "bin_end": 95.6,
                        "count": 26
                      },
                      {
                        "bin_start": 95.6,
                        "bin_end": 189.2,
                        "count": 0
                      },
                      {
                        "bin_start": 189.2,
                        "bin_end": 282.79999999999995,
                        "count": 0
                      },
                      {
                        "bin_start": 282.79999999999995,
                        "bin_end": 376.4,
                        "count": 1
                      },
                      {
                        "bin_start": 376.4,
                        "bin_end": 470,
                        "count": 1
                      },
                      {
                        "bin_start": 470,
                        "bin_end": 563.5999999999999,
                        "count": 0
                      },
                      {
                        "bin_start": 563.5999999999999,
                        "bin_end": 657.1999999999999,
                        "count": 0
                      },
                      {
                        "bin_start": 657.1999999999999,
                        "bin_end": 750.8,
                        "count": 0
                      },
                      {
                        "bin_start": 750.8,
                        "bin_end": 844.4,
                        "count": 1
                      },
                      {
                        "bin_start": 844.4,
                        "bin_end": 938,
                        "count": 1
                      }
                    ]
                  }
                },
                {
                  "name": "_deepnote_index_column",
                  "dtype": "int64"
                }
              ],
              "rows": [
                {
                  "date_time": "2023-11-01",
                  "store_visitors_source_search": 6,
                  "store_visitors_source_explore": 6,
                  "store_visitors_source_referrals": 5,
                  "_deepnote_index_column": 0
                },
                {
                  "date_time": "2023-11-02",
                  "store_visitors_source_search": 7,
                  "store_visitors_source_explore": 8,
                  "store_visitors_source_referrals": 7,
                  "_deepnote_index_column": 1
                },
                {
                  "date_time": "2023-11-03",
                  "store_visitors_source_search": 3,
                  "store_visitors_source_explore": 3,
                  "store_visitors_source_referrals": 2,
                  "_deepnote_index_column": 2
                },
                {
                  "date_time": "2023-11-04",
                  "store_visitors_source_search": 286,
                  "store_visitors_source_explore": 3,
                  "store_visitors_source_referrals": 3,
                  "_deepnote_index_column": 3
                },
                {
                  "date_time": "2023-11-05",
                  "store_visitors_source_search": 7,
                  "store_visitors_source_explore": 9,
                  "store_visitors_source_referrals": 6,
                  "_deepnote_index_column": 4
                }
              ]
            },
            "text/plain": "     date_time  store_visitors_source_search  store_visitors_source_explore  \\\n0   2023-11-01                             6                              6   \n1   2023-11-02                             7                              8   \n2   2023-11-03                             3                              3   \n3   2023-11-04                           286                              3   \n4   2023-11-05                             7                              9   \n5   2023-11-06                             2                              4   \n6   2023-11-07                             4                              7   \n7   2023-11-08                             1                              3   \n8   2023-11-09                             6                             12   \n9   2023-11-10                             8                             15   \n10  2023-11-11                             4                             13   \n11  2023-11-12                             3                             11   \n12  2023-11-13                             4                             16   \n13  2023-11-14                             6                             26   \n14  2023-11-15                             2                              8   \n15  2023-11-16                             4                             22   \n16  2023-11-17                             3                             10   \n17  2023-11-18                             5                              9   \n18  2023-11-19                             3                              4   \n19  2023-11-20                             3                              5   \n20  2023-11-21                             6                             12   \n21  2023-11-22                           852                             18   \n22  2023-11-23                             3                            663   \n23  2023-11-24                           467                              8   \n24  2023-11-25                             3                              5   \n25  2023-11-26                             6                             12   \n26  2023-11-27                           803                              2   \n27  2023-11-28                             6                             13   \n28  2023-11-29                             3                              6   \n29  2023-11-30                            23                              6   \n\n    store_visitors_source_referrals  \n0                                 5  \n1                                 7  \n2                                 2  \n3                                 3  \n4                                 6  \n5                                 2  \n6                                 4  \n7                                 2  \n8                                 6  \n9                                 7  \n10                                4  \n11                              311  \n12                               54  \n13                                9  \n14                                3  \n15                                7  \n16                                4  \n17                                6  \n18                                3  \n19                                4  \n20                                7  \n21                              938  \n22                                4  \n23                                6  \n24                              379  \n25                                7  \n26                              835  \n27                                5  \n28                                3  \n29                                2  ",
            "text/html": "<div>\n<style scoped>\n    .dataframe tbody tr th:only-of-type {\n        vertical-align: middle;\n    }\n\n    .dataframe tbody tr th {\n        vertical-align: top;\n    }\n\n    .dataframe thead th {\n        text-align: right;\n    }\n</style>\n<table border=\"1\" class=\"dataframe\">\n  <thead>\n    <tr style=\"text-align: right;\">\n      <th></th>\n      <th>date_time</th>\n      <th>store_visitors_source_search</th>\n      <th>store_visitors_source_explore</th>\n      <th>store_visitors_source_referrals</th>\n    </tr>\n  </thead>\n  <tbody>\n    <tr>\n      <th>0</th>\n      <td>2023-11-01</td>\n      <td>6</td>\n      <td>6</td>\n      <td>5</td>\n    </tr>\n    <tr>\n      <th>1</th>\n      <td>2023-11-02</td>\n      <td>7</td>\n      <td>8</td>\n      <td>7</td>\n    </tr>\n    <tr>\n      <th>2</th>\n      <td>2023-11-03</td>\n      <td>3</td>\n      <td>3</td>\n      <td>2</td>\n    </tr>\n    <tr>\n      <th>3</th>\n      <td>2023-11-04</td>\n      <td>286</td>\n      <td>3</td>\n      <td>3</td>\n    </tr>\n    <tr>\n      <th>4</th>\n      <td>2023-11-05</td>\n      <td>7</td>\n      <td>9</td>\n      <td>6</td>\n    </tr>\n    <tr>\n      <th>5</th>\n      <td>2023-11-06</td>\n      <td>2</td>\n      <td>4</td>\n      <td>2</td>\n    </tr>\n    <tr>\n      <th>6</th>\n      <td>2023-11-07</td>\n      <td>4</td>\n      <td>7</td>\n      <td>4</td>\n    </tr>\n    <tr>\n      <th>7</th>\n      <td>2023-11-08</td>\n      <td>1</td>\n      <td>3</td>\n      <td>2</td>\n    </tr>\n    <tr>\n      <th>8</th>\n      <td>2023-11-09</td>\n      <td>6</td>\n      <td>12</td>\n      <td>6</td>\n    </tr>\n    <tr>\n      <th>9</th>\n      <td>2023-11-10</td>\n      <td>8</td>\n      <td>15</td>\n      <td>7</td>\n    </tr>\n    <tr>\n      <th>10</th>\n      <td>2023-11-11</td>\n      <td>4</td>\n      <td>13</td>\n      <td>4</td>\n    </tr>\n    <tr>\n      <th>11</th>\n      <td>2023-11-12</td>\n      <td>3</td>\n      <td>11</td>\n      <td>311</td>\n    </tr>\n    <tr>\n      <th>12</th>\n      <td>2023-11-13</td>\n      <td>4</td>\n      <td>16</td>\n      <td>54</td>\n    </tr>\n    <tr>\n      <th>13</th>\n      <td>2023-11-14</td>\n      <td>6</td>\n      <td>26</td>\n      <td>9</td>\n    </tr>\n    <tr>\n      <th>14</th>\n      <td>2023-11-15</td>\n      <td>2</td>\n      <td>8</td>\n      <td>3</td>\n    </tr>\n    <tr>\n      <th>15</th>\n      <td>2023-11-16</td>\n      <td>4</td>\n      <td>22</td>\n      <td>7</td>\n    </tr>\n    <tr>\n      <th>16</th>\n      <td>2023-11-17</td>\n      <td>3</td>\n      <td>10</td>\n      <td>4</td>\n    </tr>\n    <tr>\n      <th>17</th>\n      <td>2023-11-18</td>\n      <td>5</td>\n      <td>9</td>\n      <td>6</td>\n    </tr>\n    <tr>\n      <th>18</th>\n      <td>2023-11-19</td>\n      <td>3</td>\n      <td>4</td>\n      <td>3</td>\n    </tr>\n    <tr>\n      <th>19</th>\n      <td>2023-11-20</td>\n      <td>3</td>\n      <td>5</td>\n      <td>4</td>\n    </tr>\n    <tr>\n      <th>20</th>\n      <td>2023-11-21</td>\n      <td>6</td>\n      <td>12</td>\n      <td>7</td>\n    </tr>\n    <tr>\n      <th>21</th>\n      <td>2023-11-22</td>\n      <td>852</td>\n      <td>18</td>\n      <td>938</td>\n    </tr>\n    <tr>\n      <th>22</th>\n      <td>2023-11-23</td>\n      <td>3</td>\n      <td>663</td>\n      <td>4</td>\n    </tr>\n    <tr>\n      <th>23</th>\n      <td>2023-11-24</td>\n      <td>467</td>\n      <td>8</td>\n      <td>6</td>\n    </tr>\n    <tr>\n      <th>24</th>\n      <td>2023-11-25</td>\n      <td>3</td>\n      <td>5</td>\n      <td>379</td>\n    </tr>\n    <tr>\n      <th>25</th>\n      <td>2023-11-26</td>\n      <td>6</td>\n      <td>12</td>\n      <td>7</td>\n    </tr>\n    <tr>\n      <th>26</th>\n      <td>2023-11-27</td>\n      <td>803</td>\n      <td>2</td>\n      <td>835</td>\n    </tr>\n    <tr>\n      <th>27</th>\n      <td>2023-11-28</td>\n      <td>6</td>\n      <td>13</td>\n      <td>5</td>\n    </tr>\n    <tr>\n      <th>28</th>\n      <td>2023-11-29</td>\n      <td>3</td>\n      <td>6</td>\n      <td>3</td>\n    </tr>\n    <tr>\n      <th>29</th>\n      <td>2023-11-30</td>\n      <td>23</td>\n      <td>6</td>\n      <td>2</td>\n    </tr>\n  </tbody>\n</table>\n</div>"
          },
          "metadata": {}
        }
      ],
      "execution_count": 3,
      "block_group": "81d7a103f59d497d980d3a9bb70c8e11"
    },
    {
      "cell_type": "markdown",
      "source": "## Part 1 - SQL",
      "metadata": {
        "formattedRanges": [],
        "deepnote_app_coordinates": {
          "h": 120,
          "w": 12,
          "x": 0,
          "y": 0
        },
        "cell_id": "e08087a114ed499096526d0526cdf19a",
        "deepnote_cell_type": "text-cell-h2"
      },
      "block_group": "d6367bb00e2340f094a33ecc7ebdb59f"
    },
    {
      "cell_type": "markdown",
      "source": "### First session funnel",
      "metadata": {
        "is_collapsed": false,
        "formattedRanges": [],
        "deepnote_app_coordinates": {
          "h": 120,
          "w": 12,
          "x": 0,
          "y": 0
        },
        "cell_id": "d3e91c2e0d3e4d349404c00b26c92c2f",
        "deepnote_cell_type": "text-cell-h3"
      },
      "block_group": "5cbfea2ab19a49eead831ab58bef2497"
    },
    {
      "cell_type": "markdown",
      "source": "> 1- Write an SQL query to derive the first session funnel per platform from the provided dataset using all available events. The first funnel step is the user’s first app open.",
      "metadata": {
        "formattedRanges": [],
        "deepnote_app_coordinates": {
          "h": 2,
          "w": 8,
          "x": 0,
          "y": 0
        },
        "cell_id": "9adef387e239481fa31fab91e50c2619",
        "deepnote_cell_type": "text-cell-callout"
      },
      "block_group": "bd4ee5ce946548b1bb967ba3469d04d4"
    },
    {
      "cell_type": "code",
      "source": "first_touch = _deepnote_execute_sql('SELECT DISTINCT \\n    session_skey\\n    , e.user_skey AS envents_user_skey\\n    , a.user_skey as apps_user_skey\\n    , min(least(e.date_time, a.date_time)) AS first_touch\\n    , max(e.date_time) AS last_touch\\nFROM events e\\nLEFT JOIN apps_open a USING(session_skey, device_skey)\\nWHERE session_skey IN (SELECT DISTINCT session_skey FROM apps_open WHERE is_first_app_open = TRUE)\\nGROUP BY 1,2,3', 'SQL_DEEPNOTE_DATAFRAME_SQL', audit_sql_comment='', sql_cache_mode='cache_disabled')\nfirst_touch",
      "metadata": {
        "source_hash": "8174942a",
        "execution_start": 1704639277792,
        "execution_millis": 191,
        "sql_integration_id": "deepnote-dataframe-sql",
        "deepnote_variable_name": "first_touch",
        "deepnote_app_coordinates": {
          "h": 120,
          "w": 12,
          "x": 0,
          "y": 0
        },
        "deepnote_to_be_reexecuted": true,
        "cell_id": "715193bb7f2440699bad13e8524161d7",
        "deepnote_cell_type": "sql",
        "deepnote_sql_source": "SELECT DISTINCT \n    session_skey\n    , e.user_skey AS envents_user_skey\n    , a.user_skey as apps_user_skey\n    , min(least(e.date_time, a.date_time)) AS first_touch\n    , max(e.date_time) AS last_touch\nFROM events e\nLEFT JOIN apps_open a USING(session_skey, device_skey)\nWHERE session_skey IN (SELECT DISTINCT session_skey FROM apps_open WHERE is_first_app_open = TRUE)\nGROUP BY 1,2,3"
      },
      "outputs": [
        {
          "data": {
            "application/vnd.deepnote.sql-output-metadata+json": {
              "status": "success_no_cache",
              "size_in_bytes": 7995
            }
          },
          "metadata": {},
          "output_type": "display_data"
        },
        {
          "output_type": "execute_result",
          "execution_count": 4,
          "data": {
            "application/vnd.deepnote.dataframe.v3+json": {
              "column_count": 5,
              "row_count": 34,
              "columns": [
                {
                  "name": "session_skey",
                  "dtype": "object",
                  "stats": {
                    "unique_count": 22,
                    "nan_count": 0,
                    "categories": [
                      {
                        "name": "2055386836168777100",
                        "count": 2
                      },
                      {
                        "name": "-2480472430485064204",
                        "count": 2
                      },
                      {
                        "name": "20 others",
                        "count": 30
                      }
                    ]
                  }
                },
                {
                  "name": "envents_user_skey",
                  "dtype": "object",
                  "stats": {
                    "unique_count": 13,
                    "nan_count": 0,
                    "categories": [
                      {
                        "name": "null",
                        "count": 22
                      },
                      {
                        "name": "-2897907040094092186",
                        "count": 1
                      },
                      {
                        "name": "11 others",
                        "count": 11
                      }
                    ]
                  }
                },
                {
                  "name": "apps_user_skey",
                  "dtype": "object",
                  "stats": {
                    "unique_count": 2,
                    "nan_count": 0,
                    "categories": [
                      {
                        "name": "3858142552250413010",
                        "count": 27
                      },
                      {
                        "name": "42",
                        "count": 7
                      }
                    ]
                  }
                },
                {
                  "name": "first_touch",
                  "dtype": "datetime64[ns]",
                  "stats": {
                    "unique_count": 34,
                    "nan_count": 0,
                    "min": "2023-11-07 19:55:25.511000",
                    "max": "2023-11-19 02:13:39.328000",
                    "histogram": [
                      {
                        "bin_start": 1699386925511000000,
                        "bin_end": 1699484234892700200,
                        "count": 3
                      },
                      {
                        "bin_start": 1699484234892700200,
                        "bin_end": 1699581544274400000,
                        "count": 4
                      },
                      {
                        "bin_start": 1699581544274400000,
                        "bin_end": 1699678853656100000,
                        "count": 1
                      },
                      {
                        "bin_start": 1699678853656100000,
                        "bin_end": 1699776163037800000,
                        "count": 3
                      },
                      {
                        "bin_start": 1699776163037800000,
                        "bin_end": 1699873472419500000,
                        "count": 2
                      },
                      {
                        "bin_start": 1699873472419500000,
                        "bin_end": 1699970781801200000,
                        "count": 3
                      },
                      {
                        "bin_start": 1699970781801200000,
                        "bin_end": 1700068091182900000,
                        "count": 3
                      },
                      {
                        "bin_start": 1700068091182900000,
                        "bin_end": 1700165400564600000,
                        "count": 7
                      },
                      {
                        "bin_start": 1700165400564600000,
                        "bin_end": 1700262709946300000,
                        "count": 2
                      },
                      {
                        "bin_start": 1700262709946300000,
                        "bin_end": 1700360019328000000,
                        "count": 6
                      }
                    ]
                  }
                },
                {
                  "name": "last_touch",
                  "dtype": "datetime64[ns]",
                  "stats": {
                    "unique_count": 34,
                    "nan_count": 0,
                    "min": "2023-11-07 19:55:25.511000",
                    "max": "2023-11-19 02:16:08.942000",
                    "histogram": [
                      {
                        "bin_start": 1699386925511000000,
                        "bin_end": 1699484249854100000,
                        "count": 3
                      },
                      {
                        "bin_start": 1699484249854100000,
                        "bin_end": 1699581574197200100,
                        "count": 4
                      },
                      {
                        "bin_start": 1699581574197200100,
                        "bin_end": 1699678898540300000,
                        "count": 1
                      },
                      {
                        "bin_start": 1699678898540300000,
                        "bin_end": 1699776222883400200,
                        "count": 3
                      },
                      {
                        "bin_start": 1699776222883400200,
                        "bin_end": 1699873547226500000,
                        "count": 2
                      },
                      {
                        "bin_start": 1699873547226500000,
                        "bin_end": 1699970871569600000,
                        "count": 3
                      },
                      {
                        "bin_start": 1699970871569600000,
                        "bin_end": 1700068195912700200,
                        "count": 3
                      },
                      {
                        "bin_start": 1700068195912700200,
                        "bin_end": 1700165520255800000,
                        "count": 7
                      },
                      {
                        "bin_start": 1700165520255800000,
                        "bin_end": 1700262844598900200,
                        "count": 2
                      },
                      {
                        "bin_start": 1700262844598900200,
                        "bin_end": 1700360168942000000,
                        "count": 6
                      }
                    ]
                  }
                },
                {
                  "name": "_deepnote_index_column",
                  "dtype": "int64"
                }
              ],
              "rows": [
                {
                  "session_skey": "9205873541042928650",
                  "envents_user_skey": "null",
                  "apps_user_skey": "3858142552250413010",
                  "first_touch": "2023-11-13 19:52:30.733000",
                  "last_touch": "2023-11-13 19:57:11.320000",
                  "_deepnote_index_column": 0
                },
                {
                  "session_skey": "2055386836168777100",
                  "envents_user_skey": "-2897907040094092186",
                  "apps_user_skey": "3858142552250413010",
                  "first_touch": "2023-11-09 10:25:02.278000",
                  "last_touch": "2023-11-09 10:25:27.913000",
                  "_deepnote_index_column": 1
                },
                {
                  "session_skey": "-2480472430485064204",
                  "envents_user_skey": "-6118101602439635222",
                  "apps_user_skey": "3858142552250413010",
                  "first_touch": "2023-11-08 12:06:51.152000",
                  "last_touch": "2023-11-08 12:14:16.578000",
                  "_deepnote_index_column": 2
                },
                {
                  "session_skey": "-9128869749279873647",
                  "envents_user_skey": "null",
                  "apps_user_skey": "3858142552250413010",
                  "first_touch": "2023-11-11 22:13:30.827000",
                  "last_touch": "2023-11-11 22:13:39.400000",
                  "_deepnote_index_column": 3
                },
                {
                  "session_skey": "-8985546320724315653",
                  "envents_user_skey": "null",
                  "apps_user_skey": "42",
                  "first_touch": "2023-11-09 20:05:39.285000",
                  "last_touch": "2023-11-09 20:05:39.285000",
                  "_deepnote_index_column": 4
                },
                {
                  "session_skey": "-3651402281451982741",
                  "envents_user_skey": "null",
                  "apps_user_skey": "42",
                  "first_touch": "2023-11-16 11:55:29.354000",
                  "last_touch": "2023-11-16 11:58:48.270000",
                  "_deepnote_index_column": 5
                },
                {
                  "session_skey": "-8985546320724315653",
                  "envents_user_skey": "8408528593309556093",
                  "apps_user_skey": "42",
                  "first_touch": "2023-11-09 20:05:52.296000",
                  "last_touch": "2023-11-09 20:06:12.952000",
                  "_deepnote_index_column": 6
                },
                {
                  "session_skey": "2055386836168777100",
                  "envents_user_skey": "null",
                  "apps_user_skey": "3858142552250413010",
                  "first_touch": "2023-11-09 10:24:54.345000",
                  "last_touch": "2023-11-09 10:24:54.345000",
                  "_deepnote_index_column": 7
                },
                {
                  "session_skey": "7194850015839944837",
                  "envents_user_skey": "null",
                  "apps_user_skey": "3858142552250413010",
                  "first_touch": "2023-11-16 08:06:46.654000",
                  "last_touch": "2023-11-16 08:06:46.654000",
                  "_deepnote_index_column": 8
                },
                {
                  "session_skey": "4298732677109570882",
                  "envents_user_skey": "null",
                  "apps_user_skey": "3858142552250413010",
                  "first_touch": "2023-11-14 21:29:04.897000",
                  "last_touch": "2023-11-14 21:29:04.897000",
                  "_deepnote_index_column": 9
                }
              ]
            },
            "text/plain": "            session_skey     envents_user_skey       apps_user_skey  \\\n0    9205873541042928650                  null  3858142552250413010   \n1    2055386836168777100  -2897907040094092186  3858142552250413010   \n2   -2480472430485064204  -6118101602439635222  3858142552250413010   \n3   -9128869749279873647                  null  3858142552250413010   \n4   -8985546320724315653                  null                   42   \n5   -3651402281451982741                  null                   42   \n6   -8985546320724315653   8408528593309556093                   42   \n7    2055386836168777100                  null  3858142552250413010   \n8    7194850015839944837                  null  3858142552250413010   \n9    4298732677109570882                  null  3858142552250413010   \n10   7194850015839944837  -5189411650316205815  3858142552250413010   \n11  -2480472430485064204                  null  3858142552250413010   \n12  -3079221807674519187  -2713295205217553023  3858142552250413010   \n13  -1727762606399717981                  null  3858142552250413010   \n14   4298732677109570882   6268745333355619436  3858142552250413010   \n15   7468627526231255268  -8445396229210858429  3858142552250413010   \n16  -9188934321597426889   6983341809626319206  3858142552250413010   \n17  -8030537858061278717                  null  3858142552250413010   \n18  -4799508535734337270                  null  3858142552250413010   \n19  -4048093833530654220  -2172619128184986769                   42   \n20   -461139525728066178   4802021166652154168                   42   \n21    -20975911208761262                  null  3858142552250413010   \n22   4411232151010503306                  null  3858142552250413010   \n23    178196420748826229   7406556951456558494  3858142552250413010   \n24  -2574764662618648697   6571423273715387020  3858142552250413010   \n25   5992270131364857835                  null  3858142552250413010   \n26   5483910070337477267                  null  3858142552250413010   \n27   -461139525728066178                  null                   42   \n28  -2574764662618648697                  null  3858142552250413010   \n29  -4048093833530654220                  null                   42   \n30   7468627526231255268                  null  3858142552250413010   \n31  -9188934321597426889                  null  3858142552250413010   \n32    178196420748826229                  null  3858142552250413010   \n33  -3079221807674519187                  null  3858142552250413010   \n\n               first_touch              last_touch  \n0  2023-11-13 19:52:30.733 2023-11-13 19:57:11.320  \n1  2023-11-09 10:25:02.278 2023-11-09 10:25:27.913  \n2  2023-11-08 12:06:51.152 2023-11-08 12:14:16.578  \n3  2023-11-11 22:13:30.827 2023-11-11 22:13:39.400  \n4  2023-11-09 20:05:39.285 2023-11-09 20:05:39.285  \n5  2023-11-16 11:55:29.354 2023-11-16 11:58:48.270  \n6  2023-11-09 20:05:52.296 2023-11-09 20:06:12.952  \n7  2023-11-09 10:24:54.345 2023-11-09 10:24:54.345  \n8  2023-11-16 08:06:46.654 2023-11-16 08:06:46.654  \n9  2023-11-14 21:29:04.897 2023-11-14 21:29:04.897  \n10 2023-11-16 08:07:00.279 2023-11-16 08:09:41.121  \n11 2023-11-08 12:06:29.158 2023-11-08 12:06:29.158  \n12 2023-11-14 12:39:11.543 2023-11-14 12:41:30.649  \n13 2023-11-07 19:55:25.511 2023-11-07 19:55:25.511  \n14 2023-11-14 21:29:12.354 2023-11-14 21:47:04.735  \n15 2023-11-11 17:32:52.894 2023-11-11 17:49:33.435  \n16 2023-11-18 00:50:13.715 2023-11-18 00:55:14.563  \n17 2023-11-12 12:16:52.430 2023-11-12 12:20:52.695  \n18 2023-11-11 01:46:27.395 2023-11-11 01:57:06.808  \n19 2023-11-17 04:12:56.581 2023-11-17 04:17:04.409  \n20 2023-11-16 10:12:10.853 2023-11-16 10:13:05.237  \n21 2023-11-19 02:13:39.328 2023-11-19 02:16:08.942  \n22 2023-11-15 05:12:10.484 2023-11-15 05:19:40.494  \n23 2023-11-19 00:42:39.158 2023-11-19 00:44:56.587  \n24 2023-11-16 07:31:50.805 2023-11-16 07:31:58.312  \n25 2023-11-18 06:56:20.042 2023-11-18 07:01:39.170  \n26 2023-11-12 13:53:16.381 2023-11-12 14:04:11.267  \n27 2023-11-16 10:11:54.554 2023-11-16 10:11:54.554  \n28 2023-11-16 07:31:18.473 2023-11-16 07:31:18.473  \n29 2023-11-17 04:12:38.013 2023-11-17 04:12:38.013  \n30 2023-11-11 17:32:32.566 2023-11-11 17:32:47.706  \n31 2023-11-18 00:49:51.509 2023-11-18 00:49:51.509  \n32 2023-11-19 00:42:16.897 2023-11-19 00:42:16.897  \n33 2023-11-14 12:38:52.858 2023-11-14 12:38:52.858  ",
            "text/html": "<div>\n<style scoped>\n    .dataframe tbody tr th:only-of-type {\n        vertical-align: middle;\n    }\n\n    .dataframe tbody tr th {\n        vertical-align: top;\n    }\n\n    .dataframe thead th {\n        text-align: right;\n    }\n</style>\n<table border=\"1\" class=\"dataframe\">\n  <thead>\n    <tr style=\"text-align: right;\">\n      <th></th>\n      <th>session_skey</th>\n      <th>envents_user_skey</th>\n      <th>apps_user_skey</th>\n      <th>first_touch</th>\n      <th>last_touch</th>\n    </tr>\n  </thead>\n  <tbody>\n    <tr>\n      <th>0</th>\n      <td>9205873541042928650</td>\n      <td>null</td>\n      <td>3858142552250413010</td>\n      <td>2023-11-13 19:52:30.733</td>\n      <td>2023-11-13 19:57:11.320</td>\n    </tr>\n    <tr>\n      <th>1</th>\n      <td>2055386836168777100</td>\n      <td>-2897907040094092186</td>\n      <td>3858142552250413010</td>\n      <td>2023-11-09 10:25:02.278</td>\n      <td>2023-11-09 10:25:27.913</td>\n    </tr>\n    <tr>\n      <th>2</th>\n      <td>-2480472430485064204</td>\n      <td>-6118101602439635222</td>\n      <td>3858142552250413010</td>\n      <td>2023-11-08 12:06:51.152</td>\n      <td>2023-11-08 12:14:16.578</td>\n    </tr>\n    <tr>\n      <th>3</th>\n      <td>-9128869749279873647</td>\n      <td>null</td>\n      <td>3858142552250413010</td>\n      <td>2023-11-11 22:13:30.827</td>\n      <td>2023-11-11 22:13:39.400</td>\n    </tr>\n    <tr>\n      <th>4</th>\n      <td>-8985546320724315653</td>\n      <td>null</td>\n      <td>42</td>\n      <td>2023-11-09 20:05:39.285</td>\n      <td>2023-11-09 20:05:39.285</td>\n    </tr>\n    <tr>\n      <th>5</th>\n      <td>-3651402281451982741</td>\n      <td>null</td>\n      <td>42</td>\n      <td>2023-11-16 11:55:29.354</td>\n      <td>2023-11-16 11:58:48.270</td>\n    </tr>\n    <tr>\n      <th>6</th>\n      <td>-8985546320724315653</td>\n      <td>8408528593309556093</td>\n      <td>42</td>\n      <td>2023-11-09 20:05:52.296</td>\n      <td>2023-11-09 20:06:12.952</td>\n    </tr>\n    <tr>\n      <th>7</th>\n      <td>2055386836168777100</td>\n      <td>null</td>\n      <td>3858142552250413010</td>\n      <td>2023-11-09 10:24:54.345</td>\n      <td>2023-11-09 10:24:54.345</td>\n    </tr>\n    <tr>\n      <th>8</th>\n      <td>7194850015839944837</td>\n      <td>null</td>\n      <td>3858142552250413010</td>\n      <td>2023-11-16 08:06:46.654</td>\n      <td>2023-11-16 08:06:46.654</td>\n    </tr>\n    <tr>\n      <th>9</th>\n      <td>4298732677109570882</td>\n      <td>null</td>\n      <td>3858142552250413010</td>\n      <td>2023-11-14 21:29:04.897</td>\n      <td>2023-11-14 21:29:04.897</td>\n    </tr>\n    <tr>\n      <th>10</th>\n      <td>7194850015839944837</td>\n      <td>-5189411650316205815</td>\n      <td>3858142552250413010</td>\n      <td>2023-11-16 08:07:00.279</td>\n      <td>2023-11-16 08:09:41.121</td>\n    </tr>\n    <tr>\n      <th>11</th>\n      <td>-2480472430485064204</td>\n      <td>null</td>\n      <td>3858142552250413010</td>\n      <td>2023-11-08 12:06:29.158</td>\n      <td>2023-11-08 12:06:29.158</td>\n    </tr>\n    <tr>\n      <th>12</th>\n      <td>-3079221807674519187</td>\n      <td>-2713295205217553023</td>\n      <td>3858142552250413010</td>\n      <td>2023-11-14 12:39:11.543</td>\n      <td>2023-11-14 12:41:30.649</td>\n    </tr>\n    <tr>\n      <th>13</th>\n      <td>-1727762606399717981</td>\n      <td>null</td>\n      <td>3858142552250413010</td>\n      <td>2023-11-07 19:55:25.511</td>\n      <td>2023-11-07 19:55:25.511</td>\n    </tr>\n    <tr>\n      <th>14</th>\n      <td>4298732677109570882</td>\n      <td>6268745333355619436</td>\n      <td>3858142552250413010</td>\n      <td>2023-11-14 21:29:12.354</td>\n      <td>2023-11-14 21:47:04.735</td>\n    </tr>\n    <tr>\n      <th>15</th>\n      <td>7468627526231255268</td>\n      <td>-8445396229210858429</td>\n      <td>3858142552250413010</td>\n      <td>2023-11-11 17:32:52.894</td>\n      <td>2023-11-11 17:49:33.435</td>\n    </tr>\n    <tr>\n      <th>16</th>\n      <td>-9188934321597426889</td>\n      <td>6983341809626319206</td>\n      <td>3858142552250413010</td>\n      <td>2023-11-18 00:50:13.715</td>\n      <td>2023-11-18 00:55:14.563</td>\n    </tr>\n    <tr>\n      <th>17</th>\n      <td>-8030537858061278717</td>\n      <td>null</td>\n      <td>3858142552250413010</td>\n      <td>2023-11-12 12:16:52.430</td>\n      <td>2023-11-12 12:20:52.695</td>\n    </tr>\n    <tr>\n      <th>18</th>\n      <td>-4799508535734337270</td>\n      <td>null</td>\n      <td>3858142552250413010</td>\n      <td>2023-11-11 01:46:27.395</td>\n      <td>2023-11-11 01:57:06.808</td>\n    </tr>\n    <tr>\n      <th>19</th>\n      <td>-4048093833530654220</td>\n      <td>-2172619128184986769</td>\n      <td>42</td>\n      <td>2023-11-17 04:12:56.581</td>\n      <td>2023-11-17 04:17:04.409</td>\n    </tr>\n    <tr>\n      <th>20</th>\n      <td>-461139525728066178</td>\n      <td>4802021166652154168</td>\n      <td>42</td>\n      <td>2023-11-16 10:12:10.853</td>\n      <td>2023-11-16 10:13:05.237</td>\n    </tr>\n    <tr>\n      <th>21</th>\n      <td>-20975911208761262</td>\n      <td>null</td>\n      <td>3858142552250413010</td>\n      <td>2023-11-19 02:13:39.328</td>\n      <td>2023-11-19 02:16:08.942</td>\n    </tr>\n    <tr>\n      <th>22</th>\n      <td>4411232151010503306</td>\n      <td>null</td>\n      <td>3858142552250413010</td>\n      <td>2023-11-15 05:12:10.484</td>\n      <td>2023-11-15 05:19:40.494</td>\n    </tr>\n    <tr>\n      <th>23</th>\n      <td>178196420748826229</td>\n      <td>7406556951456558494</td>\n      <td>3858142552250413010</td>\n      <td>2023-11-19 00:42:39.158</td>\n      <td>2023-11-19 00:44:56.587</td>\n    </tr>\n    <tr>\n      <th>24</th>\n      <td>-2574764662618648697</td>\n      <td>6571423273715387020</td>\n      <td>3858142552250413010</td>\n      <td>2023-11-16 07:31:50.805</td>\n      <td>2023-11-16 07:31:58.312</td>\n    </tr>\n    <tr>\n      <th>25</th>\n      <td>5992270131364857835</td>\n      <td>null</td>\n      <td>3858142552250413010</td>\n      <td>2023-11-18 06:56:20.042</td>\n      <td>2023-11-18 07:01:39.170</td>\n    </tr>\n    <tr>\n      <th>26</th>\n      <td>5483910070337477267</td>\n      <td>null</td>\n      <td>3858142552250413010</td>\n      <td>2023-11-12 13:53:16.381</td>\n      <td>2023-11-12 14:04:11.267</td>\n    </tr>\n    <tr>\n      <th>27</th>\n      <td>-461139525728066178</td>\n      <td>null</td>\n      <td>42</td>\n      <td>2023-11-16 10:11:54.554</td>\n      <td>2023-11-16 10:11:54.554</td>\n    </tr>\n    <tr>\n      <th>28</th>\n      <td>-2574764662618648697</td>\n      <td>null</td>\n      <td>3858142552250413010</td>\n      <td>2023-11-16 07:31:18.473</td>\n      <td>2023-11-16 07:31:18.473</td>\n    </tr>\n    <tr>\n      <th>29</th>\n      <td>-4048093833530654220</td>\n      <td>null</td>\n      <td>42</td>\n      <td>2023-11-17 04:12:38.013</td>\n      <td>2023-11-17 04:12:38.013</td>\n    </tr>\n    <tr>\n      <th>30</th>\n      <td>7468627526231255268</td>\n      <td>null</td>\n      <td>3858142552250413010</td>\n      <td>2023-11-11 17:32:32.566</td>\n      <td>2023-11-11 17:32:47.706</td>\n    </tr>\n    <tr>\n      <th>31</th>\n      <td>-9188934321597426889</td>\n      <td>null</td>\n      <td>3858142552250413010</td>\n      <td>2023-11-18 00:49:51.509</td>\n      <td>2023-11-18 00:49:51.509</td>\n    </tr>\n    <tr>\n      <th>32</th>\n      <td>178196420748826229</td>\n      <td>null</td>\n      <td>3858142552250413010</td>\n      <td>2023-11-19 00:42:16.897</td>\n      <td>2023-11-19 00:42:16.897</td>\n    </tr>\n    <tr>\n      <th>33</th>\n      <td>-3079221807674519187</td>\n      <td>null</td>\n      <td>3858142552250413010</td>\n      <td>2023-11-14 12:38:52.858</td>\n      <td>2023-11-14 12:38:52.858</td>\n    </tr>\n  </tbody>\n</table>\n</div>"
          },
          "metadata": {}
        }
      ],
      "execution_count": 4,
      "block_group": "6a7cd4342d074702bf67937695fe74aa"
    },
    {
      "cell_type": "code",
      "source": "general_path = _deepnote_execute_sql('-- WITH new_user AS (\\n    SELECT DISTINCT *\\n    FROM first_touch AS f\\n    LEFT JOIN events AS e ON f.envents_user_skey = e.user_skey\\n\\n--          events.user_skey        \\n--         , apps_open.user_skey AS apps_skey\\n--         , events.platform\\n--         , events.session_skey\\n--         , events.event_name\\n--         , events.source\\n--         , events.date_time\\n--         , LAG(event_name) OVER (PARTITION BY events.session_skey ORDER BY events.date_time) AS prev_event\\n--         , FIRST(apps_open.date_time) OVER (PARTITION BY session_skey ORDER BY apps_open.date_time DESC) AS first_touch\\n--         , FIRST(events.session_skey) OVER (PARTITION BY events.user_skey ORDER BY events.date_time DESC) AS first_session\\n--     FROM apps_open LEFT JOIN events USING(session_skey) \\n--     WHERE session_skey IN (SELECT DISTINCT session_skey FROM apps_open WHERE is_first_app_open = TRUE)\\n-- )\\n\\n-- --- Order the events names by date\\n--     SELECT DISTINCT \\n--          user_skey\\n--         , session_skey\\n--         , first_touch AS first_touch\\n--         , event_name\\n--         , platform\\n--         , RANK() OVER (PARTITION BY session_skey ORDER BY date_time) AS step_num\\n--         , RIGHT(100+step_num, 2) AS funnel_step\\n--     FROM new_user \\n--     WHERE \\n    -- prev_event != event_name\\n-- ', 'SQL_DEEPNOTE_DATAFRAME_SQL', audit_sql_comment='', sql_cache_mode='cache_disabled')\ngeneral_path",
      "metadata": {
        "source_hash": "88cd5c9e",
        "is_code_hidden": false,
        "execution_start": 1704639277990,
        "execution_millis": 39171,
        "is_output_hidden": false,
        "sql_integration_id": "deepnote-dataframe-sql",
        "deepnote_table_state": {
          "sortBy": [],
          "filters": [],
          "pageSize": 5,
          "pageIndex": 0
        },
        "deepnote_table_loading": false,
        "deepnote_variable_name": "general_path",
        "deepnote_app_coordinates": {
          "h": 120,
          "w": 12,
          "x": 0,
          "y": 0
        },
        "deepnote_to_be_reexecuted": false,
        "deepnote_app_is_code_hidden": true,
        "deepnote_app_is_output_hidden": true,
        "cell_id": "afac2470af744a419131c20f21021d86",
        "deepnote_cell_type": "sql",
        "deepnote_sql_source": "-- WITH new_user AS (\n    SELECT DISTINCT *\n    FROM first_touch AS f\n    LEFT JOIN events AS e ON f.envents_user_skey = e.user_skey\n\n--          events.user_skey        \n--         , apps_open.user_skey AS apps_skey\n--         , events.platform\n--         , events.session_skey\n--         , events.event_name\n--         , events.source\n--         , events.date_time\n--         , LAG(event_name) OVER (PARTITION BY events.session_skey ORDER BY events.date_time) AS prev_event\n--         , FIRST(apps_open.date_time) OVER (PARTITION BY session_skey ORDER BY apps_open.date_time DESC) AS first_touch\n--         , FIRST(events.session_skey) OVER (PARTITION BY events.user_skey ORDER BY events.date_time DESC) AS first_session\n--     FROM apps_open LEFT JOIN events USING(session_skey) \n--     WHERE session_skey IN (SELECT DISTINCT session_skey FROM apps_open WHERE is_first_app_open = TRUE)\n-- )\n\n-- --- Order the events names by date\n--     SELECT DISTINCT \n--          user_skey\n--         , session_skey\n--         , first_touch AS first_touch\n--         , event_name\n--         , platform\n--         , RANK() OVER (PARTITION BY session_skey ORDER BY date_time) AS step_num\n--         , RIGHT(100+step_num, 2) AS funnel_step\n--     FROM new_user \n--     WHERE \n    -- prev_event != event_name\n-- "
      },
      "outputs": [
        {
          "data": {
            "application/vnd.deepnote.sql-output-metadata+json": {
              "status": "success_no_cache",
              "size_in_bytes": 3133851872
            }
          },
          "metadata": {},
          "output_type": "display_data"
        },
        {
          "output_type": "execute_result",
          "execution_count": 5,
          "data": {
            "application/vnd.deepnote.dataframe.v3+json": {
              "column_count": 14,
              "row_count": 3985205,
              "columns": [
                {
                  "name": "session_skey",
                  "dtype": "object"
                },
                {
                  "name": "envents_user_skey",
                  "dtype": "object"
                },
                {
                  "name": "apps_user_skey",
                  "dtype": "object"
                },
                {
                  "name": "first_touch",
                  "dtype": "datetime64[ns]"
                },
                {
                  "name": "last_touch",
                  "dtype": "datetime64[ns]"
                },
                {
                  "name": "event_name",
                  "dtype": "object"
                },
                {
                  "name": "date_time",
                  "dtype": "datetime64[ns]"
                },
                {
                  "name": "event_skey",
                  "dtype": "object"
                },
                {
                  "name": "device_skey",
                  "dtype": "object"
                },
                {
                  "name": "user_skey",
                  "dtype": "object"
                },
                {
                  "name": "session_skey.1",
                  "dtype": "object"
                },
                {
                  "name": "platform",
                  "dtype": "object"
                },
                {
                  "name": "source",
                  "dtype": "object"
                },
                {
                  "name": "country_code",
                  "dtype": "object"
                },
                {
                  "name": "_deepnote_index_column",
                  "dtype": "int64"
                }
              ],
              "rows": [
                {
                  "session_skey": "-3079221807674519187",
                  "envents_user_skey": "null",
                  "apps_user_skey": "3858142552250413010",
                  "first_touch": "2023-11-14 12:38:52.858000",
                  "last_touch": "2023-11-14 12:38:52.858000",
                  "event_name": "create_flow_open",
                  "date_time": "2023-11-11 17:01:47.322000",
                  "event_skey": "-3934434192252146399",
                  "device_skey": "9038641221963857613",
                  "user_skey": "null",
                  "session_skey.1": "217413440516355875",
                  "platform": "android",
                  "source": "my_network",
                  "country_code": "eg",
                  "_deepnote_index_column": 0
                },
                {
                  "session_skey": "-3079221807674519187",
                  "envents_user_skey": "null",
                  "apps_user_skey": "3858142552250413010",
                  "first_touch": "2023-11-14 12:38:52.858000",
                  "last_touch": "2023-11-14 12:38:52.858000",
                  "event_name": "create_flow_open",
                  "date_time": "2023-11-18 23:53:25.405000",
                  "event_skey": "171515577666524970",
                  "device_skey": "5336013700330123854",
                  "user_skey": "null",
                  "session_skey.1": "-5257829471796429665",
                  "platform": "android",
                  "source": "my_network",
                  "country_code": "eg",
                  "_deepnote_index_column": 1
                },
                {
                  "session_skey": "-3079221807674519187",
                  "envents_user_skey": "null",
                  "apps_user_skey": "3858142552250413010",
                  "first_touch": "2023-11-14 12:38:52.858000",
                  "last_touch": "2023-11-14 12:38:52.858000",
                  "event_name": "create_flow_open",
                  "date_time": "2023-11-14 19:29:43.930000",
                  "event_skey": "6456966375822247157",
                  "device_skey": "2829052229102139011",
                  "user_skey": "null",
                  "session_skey.1": "1834569571087102184",
                  "platform": "android",
                  "source": "my_network",
                  "country_code": "br",
                  "_deepnote_index_column": 2
                },
                {
                  "session_skey": "-3079221807674519187",
                  "envents_user_skey": "null",
                  "apps_user_skey": "3858142552250413010",
                  "first_touch": "2023-11-14 12:38:52.858000",
                  "last_touch": "2023-11-14 12:38:52.858000",
                  "event_name": "create_flow_open",
                  "date_time": "2023-11-14 18:31:56.414000",
                  "event_skey": "5429593760704542315",
                  "device_skey": "2555463789674616510",
                  "user_skey": "null",
                  "session_skey.1": "-2177859759331618595",
                  "platform": "android",
                  "source": "my_network",
                  "country_code": "br",
                  "_deepnote_index_column": 3
                },
                {
                  "session_skey": "-3079221807674519187",
                  "envents_user_skey": "null",
                  "apps_user_skey": "3858142552250413010",
                  "first_touch": "2023-11-14 12:38:52.858000",
                  "last_touch": "2023-11-14 12:38:52.858000",
                  "event_name": "create_flow_open",
                  "date_time": "2023-11-18 22:33:47.816000",
                  "event_skey": "83059688240197597",
                  "device_skey": "-4015659924499420549",
                  "user_skey": "null",
                  "session_skey.1": "-5417537726659545359",
                  "platform": "android",
                  "source": "my_network",
                  "country_code": "eg",
                  "_deepnote_index_column": 4
                }
              ]
            },
            "text/plain": "                 session_skey envents_user_skey       apps_user_skey  \\\n0        -3079221807674519187              null  3858142552250413010   \n1        -3079221807674519187              null  3858142552250413010   \n2        -3079221807674519187              null  3858142552250413010   \n3        -3079221807674519187              null  3858142552250413010   \n4        -3079221807674519187              null  3858142552250413010   \n...                       ...               ...                  ...   \n3985200   9205873541042928650              null  3858142552250413010   \n3985201  -3651402281451982741              null                   42   \n3985202   7194850015839944837              null  3858142552250413010   \n3985203   7194850015839944837              null  3858142552250413010   \n3985204   2055386836168777100              null  3858142552250413010   \n\n                    first_touch              last_touch        event_name  \\\n0       2023-11-14 12:38:52.858 2023-11-14 12:38:52.858  create_flow_open   \n1       2023-11-14 12:38:52.858 2023-11-14 12:38:52.858  create_flow_open   \n2       2023-11-14 12:38:52.858 2023-11-14 12:38:52.858  create_flow_open   \n3       2023-11-14 12:38:52.858 2023-11-14 12:38:52.858  create_flow_open   \n4       2023-11-14 12:38:52.858 2023-11-14 12:38:52.858  create_flow_open   \n...                         ...                     ...               ...   \n3985200 2023-11-13 19:52:30.733 2023-11-13 19:57:11.320     object_export   \n3985201 2023-11-16 11:55:29.354 2023-11-16 11:58:48.270     object_export   \n3985202 2023-11-16 08:06:46.654 2023-11-16 08:06:46.654       editor_open   \n3985203 2023-11-16 08:06:46.654 2023-11-16 08:06:46.654     object_export   \n3985204 2023-11-09 10:24:54.345 2023-11-09 10:24:54.345     object_export   \n\n                      date_time            event_skey           device_skey  \\\n0       2023-11-11 17:01:47.322  -3934434192252146399   9038641221963857613   \n1       2023-11-18 23:53:25.405    171515577666524970   5336013700330123854   \n2       2023-11-14 19:29:43.930   6456966375822247157   2829052229102139011   \n3       2023-11-14 18:31:56.414   5429593760704542315   2555463789674616510   \n4       2023-11-18 22:33:47.816     83059688240197597  -4015659924499420549   \n...                         ...                   ...                   ...   \n3985200 2023-11-19 08:16:23.880  -6372765087412166924  -4905251280517778779   \n3985201 2023-11-16 04:03:04.780  -4362288032557375204   7521012594949378367   \n3985202 2023-11-06 05:13:11.339    445484755422029978  -2838976662181217565   \n3985203 2023-11-19 09:54:38.230  -5861302860546529505  -7512267060324054481   \n3985204 2023-11-16 02:41:11.523   1981234946154974601    -83119149943745473   \n\n        user_skey        session_skey.1 platform           source country_code  \n0            null    217413440516355875  android       my_network           eg  \n1            null  -5257829471796429665  android       my_network           eg  \n2            null   1834569571087102184  android       my_network           br  \n3            null  -2177859759331618595  android       my_network           br  \n4            null  -5417537726659545359  android       my_network           eg  \n...           ...                   ...      ...              ...          ...  \n3985200      null  -8514904270397390173  android    export_screen           eg  \n3985201      null  -5519542488446576614  android    editor_screen           vn  \n3985202      null   8442002373534581029  android            photo           br  \n3985203      null     78826475652123442  android  editor_beautify           eg  \n3985204      null  -2437886503450714897  android    export_screen           br  \n\n[3985205 rows x 14 columns]",
            "text/html": "<div>\n<style scoped>\n    .dataframe tbody tr th:only-of-type {\n        vertical-align: middle;\n    }\n\n    .dataframe tbody tr th {\n        vertical-align: top;\n    }\n\n    .dataframe thead th {\n        text-align: right;\n    }\n</style>\n<table border=\"1\" class=\"dataframe\">\n  <thead>\n    <tr style=\"text-align: right;\">\n      <th></th>\n      <th>session_skey</th>\n      <th>envents_user_skey</th>\n      <th>apps_user_skey</th>\n      <th>first_touch</th>\n      <th>last_touch</th>\n      <th>event_name</th>\n      <th>date_time</th>\n      <th>event_skey</th>\n      <th>device_skey</th>\n      <th>user_skey</th>\n      <th>session_skey.1</th>\n      <th>platform</th>\n      <th>source</th>\n      <th>country_code</th>\n    </tr>\n  </thead>\n  <tbody>\n    <tr>\n      <th>0</th>\n      <td>-3079221807674519187</td>\n      <td>null</td>\n      <td>3858142552250413010</td>\n      <td>2023-11-14 12:38:52.858</td>\n      <td>2023-11-14 12:38:52.858</td>\n      <td>create_flow_open</td>\n      <td>2023-11-11 17:01:47.322</td>\n      <td>-3934434192252146399</td>\n      <td>9038641221963857613</td>\n      <td>null</td>\n      <td>217413440516355875</td>\n      <td>android</td>\n      <td>my_network</td>\n      <td>eg</td>\n    </tr>\n    <tr>\n      <th>1</th>\n      <td>-3079221807674519187</td>\n      <td>null</td>\n      <td>3858142552250413010</td>\n      <td>2023-11-14 12:38:52.858</td>\n      <td>2023-11-14 12:38:52.858</td>\n      <td>create_flow_open</td>\n      <td>2023-11-18 23:53:25.405</td>\n      <td>171515577666524970</td>\n      <td>5336013700330123854</td>\n      <td>null</td>\n      <td>-5257829471796429665</td>\n      <td>android</td>\n      <td>my_network</td>\n      <td>eg</td>\n    </tr>\n    <tr>\n      <th>2</th>\n      <td>-3079221807674519187</td>\n      <td>null</td>\n      <td>3858142552250413010</td>\n      <td>2023-11-14 12:38:52.858</td>\n      <td>2023-11-14 12:38:52.858</td>\n      <td>create_flow_open</td>\n      <td>2023-11-14 19:29:43.930</td>\n      <td>6456966375822247157</td>\n      <td>2829052229102139011</td>\n      <td>null</td>\n      <td>1834569571087102184</td>\n      <td>android</td>\n      <td>my_network</td>\n      <td>br</td>\n    </tr>\n    <tr>\n      <th>3</th>\n      <td>-3079221807674519187</td>\n      <td>null</td>\n      <td>3858142552250413010</td>\n      <td>2023-11-14 12:38:52.858</td>\n      <td>2023-11-14 12:38:52.858</td>\n      <td>create_flow_open</td>\n      <td>2023-11-14 18:31:56.414</td>\n      <td>5429593760704542315</td>\n      <td>2555463789674616510</td>\n      <td>null</td>\n      <td>-2177859759331618595</td>\n      <td>android</td>\n      <td>my_network</td>\n      <td>br</td>\n    </tr>\n    <tr>\n      <th>4</th>\n      <td>-3079221807674519187</td>\n      <td>null</td>\n      <td>3858142552250413010</td>\n      <td>2023-11-14 12:38:52.858</td>\n      <td>2023-11-14 12:38:52.858</td>\n      <td>create_flow_open</td>\n      <td>2023-11-18 22:33:47.816</td>\n      <td>83059688240197597</td>\n      <td>-4015659924499420549</td>\n      <td>null</td>\n      <td>-5417537726659545359</td>\n      <td>android</td>\n      <td>my_network</td>\n      <td>eg</td>\n    </tr>\n    <tr>\n      <th>...</th>\n      <td>...</td>\n      <td>...</td>\n      <td>...</td>\n      <td>...</td>\n      <td>...</td>\n      <td>...</td>\n      <td>...</td>\n      <td>...</td>\n      <td>...</td>\n      <td>...</td>\n      <td>...</td>\n      <td>...</td>\n      <td>...</td>\n      <td>...</td>\n    </tr>\n    <tr>\n      <th>3985200</th>\n      <td>9205873541042928650</td>\n      <td>null</td>\n      <td>3858142552250413010</td>\n      <td>2023-11-13 19:52:30.733</td>\n      <td>2023-11-13 19:57:11.320</td>\n      <td>object_export</td>\n      <td>2023-11-19 08:16:23.880</td>\n      <td>-6372765087412166924</td>\n      <td>-4905251280517778779</td>\n      <td>null</td>\n      <td>-8514904270397390173</td>\n      <td>android</td>\n      <td>export_screen</td>\n      <td>eg</td>\n    </tr>\n    <tr>\n      <th>3985201</th>\n      <td>-3651402281451982741</td>\n      <td>null</td>\n      <td>42</td>\n      <td>2023-11-16 11:55:29.354</td>\n      <td>2023-11-16 11:58:48.270</td>\n      <td>object_export</td>\n      <td>2023-11-16 04:03:04.780</td>\n      <td>-4362288032557375204</td>\n      <td>7521012594949378367</td>\n      <td>null</td>\n      <td>-5519542488446576614</td>\n      <td>android</td>\n      <td>editor_screen</td>\n      <td>vn</td>\n    </tr>\n    <tr>\n      <th>3985202</th>\n      <td>7194850015839944837</td>\n      <td>null</td>\n      <td>3858142552250413010</td>\n      <td>2023-11-16 08:06:46.654</td>\n      <td>2023-11-16 08:06:46.654</td>\n      <td>editor_open</td>\n      <td>2023-11-06 05:13:11.339</td>\n      <td>445484755422029978</td>\n      <td>-2838976662181217565</td>\n      <td>null</td>\n      <td>8442002373534581029</td>\n      <td>android</td>\n      <td>photo</td>\n      <td>br</td>\n    </tr>\n    <tr>\n      <th>3985203</th>\n      <td>7194850015839944837</td>\n      <td>null</td>\n      <td>3858142552250413010</td>\n      <td>2023-11-16 08:06:46.654</td>\n      <td>2023-11-16 08:06:46.654</td>\n      <td>object_export</td>\n      <td>2023-11-19 09:54:38.230</td>\n      <td>-5861302860546529505</td>\n      <td>-7512267060324054481</td>\n      <td>null</td>\n      <td>78826475652123442</td>\n      <td>android</td>\n      <td>editor_beautify</td>\n      <td>eg</td>\n    </tr>\n    <tr>\n      <th>3985204</th>\n      <td>2055386836168777100</td>\n      <td>null</td>\n      <td>3858142552250413010</td>\n      <td>2023-11-09 10:24:54.345</td>\n      <td>2023-11-09 10:24:54.345</td>\n      <td>object_export</td>\n      <td>2023-11-16 02:41:11.523</td>\n      <td>1981234946154974601</td>\n      <td>-83119149943745473</td>\n      <td>null</td>\n      <td>-2437886503450714897</td>\n      <td>android</td>\n      <td>export_screen</td>\n      <td>br</td>\n    </tr>\n  </tbody>\n</table>\n<p>3985205 rows × 14 columns</p>\n</div>"
          },
          "metadata": {}
        }
      ],
      "execution_count": 5,
      "block_group": "b6509c5620b845f89347774f4c07a037"
    },
    {
      "cell_type": "code",
      "source": "conversion = _deepnote_execute_sql('WITH steps AS ( \\n    SELECT \\n      funnel_step\\n    , platform\\n    , COUNT(distinct user_skey) as users_count\\nFROM general_path\\nGROUP BY 1,2)\\n\\n, pivoted AS (\\nPIVOT steps ON platform \\nUSING SUM(users_count)\\nGROUP BY funnel_step\\n)\\n\\nSELECT \\n    funnel_step\\n    , android as android_count\\n    , CONCAT((android/ MAX(android) OVER () * 100)::INT, \\'%\\') AS android_conversion\\n    , COALESCE(apple, 0) AS apple_count\\n    , CONCAT((apple_count/ MAX(apple) OVER () * 100)::INT, \\'%\\') AS apple_conversion\\nFROM pivoted\\nGROUP BY funnel_step, android, apple', 'SQL_DEEPNOTE_DATAFRAME_SQL', audit_sql_comment='', sql_cache_mode='cache_disabled')\nconversion",
      "metadata": {
        "source_hash": "ab2e7ab7",
        "is_code_hidden": false,
        "execution_start": 1704639317207,
        "execution_millis": 2212,
        "sql_integration_id": "deepnote-dataframe-sql",
        "deepnote_variable_name": "conversion",
        "deepnote_app_coordinates": {
          "h": 120,
          "w": 12,
          "x": 0,
          "y": 0
        },
        "deepnote_to_be_reexecuted": false,
        "deepnote_app_is_code_hidden": true,
        "cell_id": "c629f403df3045bf8463bab913bdf78c",
        "deepnote_cell_type": "sql",
        "deepnote_sql_source": "WITH steps AS ( \n    SELECT \n      funnel_step\n    , platform\n    , COUNT(distinct user_skey) as users_count\nFROM general_path\nGROUP BY 1,2)\n\n, pivoted AS (\nPIVOT steps ON platform \nUSING SUM(users_count)\nGROUP BY funnel_step\n)\n\nSELECT \n    funnel_step\n    , android as android_count\n    , CONCAT((android/ MAX(android) OVER () * 100)::INT, '%') AS android_conversion\n    , COALESCE(apple, 0) AS apple_count\n    , CONCAT((apple_count/ MAX(apple) OVER () * 100)::INT, '%') AS apple_conversion\nFROM pivoted\nGROUP BY funnel_step, android, apple"
      },
      "outputs": [
        {
          "output_type": "error",
          "ename": "ProgrammingError",
          "evalue": "(duckdb.InvalidInputException) Invalid Input Error: Attempting to execute an unsuccessful or closed pending query result\nError: Binder Error: Referenced column \"funnel_step\" not found in FROM clause!\nCandidate bindings: \"general_path.user_skey\"\n[SQL: WITH steps AS ( \n    SELECT \n      funnel_step\n    , platform\n    , COUNT(distinct user_skey) as users_count\nFROM general_path\nGROUP BY 1,2)\n\n, pivoted AS (\nPIVOT steps ON platform \nUSING SUM(users_count)\nGROUP BY funnel_step\n)\n\nSELECT \n    funnel_step\n    , android as android_count\n    , CONCAT((android/ MAX(android) OVER () * 100)::INT, '%') AS android_conversion\n    , COALESCE(apple, 0) AS apple_count\n    , CONCAT((apple_count/ MAX(apple) OVER () * 100)::INT, '%') AS apple_conversion\nFROM pivoted\nGROUP BY funnel_step, android, apple]\n(Background on this error at: https://sqlalche.me/e/14/f405)",
          "traceback": [
            "\u001b[0;31m---------------------------------------------------------------------------\u001b[0m",
            "\u001b[0;31mInvalidInputException\u001b[0m                     Traceback (most recent call last)",
            "File \u001b[0;32m/shared-libs/python3.9/py/lib/python3.9/site-packages/sqlalchemy/engine/base.py:1900\u001b[0m, in \u001b[0;36mConnection._execute_context\u001b[0;34m(self, dialect, constructor, statement, parameters, execution_options, *args, **kw)\u001b[0m\n\u001b[1;32m   1899\u001b[0m     \u001b[38;5;28;01mif\u001b[39;00m \u001b[38;5;129;01mnot\u001b[39;00m evt_handled:\n\u001b[0;32m-> 1900\u001b[0m         \u001b[38;5;28;43mself\u001b[39;49m\u001b[38;5;241;43m.\u001b[39;49m\u001b[43mdialect\u001b[49m\u001b[38;5;241;43m.\u001b[39;49m\u001b[43mdo_execute\u001b[49m\u001b[43m(\u001b[49m\n\u001b[1;32m   1901\u001b[0m \u001b[43m            \u001b[49m\u001b[43mcursor\u001b[49m\u001b[43m,\u001b[49m\u001b[43m \u001b[49m\u001b[43mstatement\u001b[49m\u001b[43m,\u001b[49m\u001b[43m \u001b[49m\u001b[43mparameters\u001b[49m\u001b[43m,\u001b[49m\u001b[43m \u001b[49m\u001b[43mcontext\u001b[49m\n\u001b[1;32m   1902\u001b[0m \u001b[43m        \u001b[49m\u001b[43m)\u001b[49m\n\u001b[1;32m   1904\u001b[0m \u001b[38;5;28;01mif\u001b[39;00m \u001b[38;5;28mself\u001b[39m\u001b[38;5;241m.\u001b[39m_has_events \u001b[38;5;129;01mor\u001b[39;00m \u001b[38;5;28mself\u001b[39m\u001b[38;5;241m.\u001b[39mengine\u001b[38;5;241m.\u001b[39m_has_events:\n",
            "File \u001b[0;32m/shared-libs/python3.9/py/lib/python3.9/site-packages/sqlalchemy/engine/default.py:736\u001b[0m, in \u001b[0;36mDefaultDialect.do_execute\u001b[0;34m(self, cursor, statement, parameters, context)\u001b[0m\n\u001b[1;32m    735\u001b[0m \u001b[38;5;28;01mdef\u001b[39;00m \u001b[38;5;21mdo_execute\u001b[39m(\u001b[38;5;28mself\u001b[39m, cursor, statement, parameters, context\u001b[38;5;241m=\u001b[39m\u001b[38;5;28;01mNone\u001b[39;00m):\n\u001b[0;32m--> 736\u001b[0m     \u001b[43mcursor\u001b[49m\u001b[38;5;241;43m.\u001b[39;49m\u001b[43mexecute\u001b[49m\u001b[43m(\u001b[49m\u001b[43mstatement\u001b[49m\u001b[43m,\u001b[49m\u001b[43m \u001b[49m\u001b[43mparameters\u001b[49m\u001b[43m)\u001b[49m\n",
            "File \u001b[0;32m/shared-libs/python3.9/py/lib/python3.9/site-packages/duckdb_engine/__init__.py:142\u001b[0m, in \u001b[0;36mConnectionWrapper.execute\u001b[0;34m(self, statement, parameters, context)\u001b[0m\n\u001b[1;32m    141\u001b[0m     \u001b[38;5;28;01melse\u001b[39;00m:\n\u001b[0;32m--> 142\u001b[0m         \u001b[38;5;28;43mself\u001b[39;49m\u001b[38;5;241;43m.\u001b[39;49m\u001b[43m__c\u001b[49m\u001b[38;5;241;43m.\u001b[39;49m\u001b[43mexecute\u001b[49m\u001b[43m(\u001b[49m\u001b[43mstatement\u001b[49m\u001b[43m,\u001b[49m\u001b[43m \u001b[49m\u001b[43mparameters\u001b[49m\u001b[43m)\u001b[49m\n\u001b[1;32m    143\u001b[0m \u001b[38;5;28;01mexcept\u001b[39;00m \u001b[38;5;167;01mRuntimeError\u001b[39;00m \u001b[38;5;28;01mas\u001b[39;00m e:\n",
            "\u001b[0;31mInvalidInputException\u001b[0m: Invalid Input Error: Attempting to execute an unsuccessful or closed pending query result\nError: Binder Error: Referenced column \"funnel_step\" not found in FROM clause!\nCandidate bindings: \"general_path.user_skey\"",
            "\nThe above exception was the direct cause of the following exception:\n",
            "\u001b[0;31mProgrammingError\u001b[0m                          Traceback (most recent call last)",
            "Cell \u001b[0;32mIn [6], line 1\u001b[0m\n\u001b[0;32m----> 1\u001b[0m conversion \u001b[38;5;241m=\u001b[39m \u001b[43m_deepnote_execute_sql\u001b[49m\u001b[43m(\u001b[49m\u001b[38;5;124;43m'\u001b[39;49m\u001b[38;5;124;43mWITH steps AS ( \u001b[39;49m\u001b[38;5;130;43;01m\\n\u001b[39;49;00m\u001b[38;5;124;43m    SELECT \u001b[39;49m\u001b[38;5;130;43;01m\\n\u001b[39;49;00m\u001b[38;5;124;43m      funnel_step\u001b[39;49m\u001b[38;5;130;43;01m\\n\u001b[39;49;00m\u001b[38;5;124;43m    , platform\u001b[39;49m\u001b[38;5;130;43;01m\\n\u001b[39;49;00m\u001b[38;5;124;43m    , COUNT(distinct user_skey) as users_count\u001b[39;49m\u001b[38;5;130;43;01m\\n\u001b[39;49;00m\u001b[38;5;124;43mFROM general_path\u001b[39;49m\u001b[38;5;130;43;01m\\n\u001b[39;49;00m\u001b[38;5;124;43mGROUP BY 1,2)\u001b[39;49m\u001b[38;5;130;43;01m\\n\u001b[39;49;00m\u001b[38;5;130;43;01m\\n\u001b[39;49;00m\u001b[38;5;124;43m, pivoted AS (\u001b[39;49m\u001b[38;5;130;43;01m\\n\u001b[39;49;00m\u001b[38;5;124;43mPIVOT steps ON platform \u001b[39;49m\u001b[38;5;130;43;01m\\n\u001b[39;49;00m\u001b[38;5;124;43mUSING SUM(users_count)\u001b[39;49m\u001b[38;5;130;43;01m\\n\u001b[39;49;00m\u001b[38;5;124;43mGROUP BY funnel_step\u001b[39;49m\u001b[38;5;130;43;01m\\n\u001b[39;49;00m\u001b[38;5;124;43m)\u001b[39;49m\u001b[38;5;130;43;01m\\n\u001b[39;49;00m\u001b[38;5;130;43;01m\\n\u001b[39;49;00m\u001b[38;5;124;43mSELECT \u001b[39;49m\u001b[38;5;130;43;01m\\n\u001b[39;49;00m\u001b[38;5;124;43m    funnel_step\u001b[39;49m\u001b[38;5;130;43;01m\\n\u001b[39;49;00m\u001b[38;5;124;43m    , android as android_count\u001b[39;49m\u001b[38;5;130;43;01m\\n\u001b[39;49;00m\u001b[38;5;124;43m    , CONCAT((android/ MAX(android) OVER () * 100)::INT, \u001b[39;49m\u001b[38;5;130;43;01m\\'\u001b[39;49;00m\u001b[38;5;124;43m%\u001b[39;49m\u001b[38;5;130;43;01m\\'\u001b[39;49;00m\u001b[38;5;124;43m) AS android_conversion\u001b[39;49m\u001b[38;5;130;43;01m\\n\u001b[39;49;00m\u001b[38;5;124;43m    , COALESCE(apple, 0) AS apple_count\u001b[39;49m\u001b[38;5;130;43;01m\\n\u001b[39;49;00m\u001b[38;5;124;43m    , CONCAT((apple_count/ MAX(apple) OVER () * 100)::INT, \u001b[39;49m\u001b[38;5;130;43;01m\\'\u001b[39;49;00m\u001b[38;5;124;43m%\u001b[39;49m\u001b[38;5;130;43;01m\\'\u001b[39;49;00m\u001b[38;5;124;43m) AS apple_conversion\u001b[39;49m\u001b[38;5;130;43;01m\\n\u001b[39;49;00m\u001b[38;5;124;43mFROM pivoted\u001b[39;49m\u001b[38;5;130;43;01m\\n\u001b[39;49;00m\u001b[38;5;124;43mGROUP BY funnel_step, android, apple\u001b[39;49m\u001b[38;5;124;43m'\u001b[39;49m\u001b[43m,\u001b[49m\u001b[43m \u001b[49m\u001b[38;5;124;43m'\u001b[39;49m\u001b[38;5;124;43mSQL_DEEPNOTE_DATAFRAME_SQL\u001b[39;49m\u001b[38;5;124;43m'\u001b[39;49m\u001b[43m,\u001b[49m\u001b[43m \u001b[49m\u001b[43maudit_sql_comment\u001b[49m\u001b[38;5;241;43m=\u001b[39;49m\u001b[38;5;124;43m'\u001b[39;49m\u001b[38;5;124;43m'\u001b[39;49m\u001b[43m,\u001b[49m\u001b[43m \u001b[49m\u001b[43msql_cache_mode\u001b[49m\u001b[38;5;241;43m=\u001b[39;49m\u001b[38;5;124;43m'\u001b[39;49m\u001b[38;5;124;43mcache_disabled\u001b[39;49m\u001b[38;5;124;43m'\u001b[39;49m\u001b[43m)\u001b[49m\n\u001b[1;32m      2\u001b[0m conversion\n",
            "File \u001b[0;32m/compute-helpers/code/sql_utils.py:101\u001b[0m, in \u001b[0;36m_deepnote_execute_sql\u001b[0;34m(template, sql_alchemy_json_env_var, audit_sql_comment, sql_cache_mode)\u001b[0m\n\u001b[1;32m     96\u001b[0m \u001b[38;5;28;01mif\u001b[39;00m \u001b[38;5;129;01mnot\u001b[39;00m sql_alchemy_json:\n\u001b[1;32m     97\u001b[0m     \u001b[38;5;28;01mraise\u001b[39;00m ExecuteSqlError(\n\u001b[1;32m     98\u001b[0m         \u001b[38;5;124m\"\u001b[39m\u001b[38;5;124mThis SQL cell is not linked with a connected integration\u001b[39m\u001b[38;5;124m\"\u001b[39m\n\u001b[1;32m     99\u001b[0m     )\n\u001b[0;32m--> 101\u001b[0m \u001b[38;5;28;01mreturn\u001b[39;00m \u001b[43m_deepnote_execute_sql_with_connection_json\u001b[49m\u001b[43m(\u001b[49m\n\u001b[1;32m    102\u001b[0m \u001b[43m    \u001b[49m\u001b[43mtemplate\u001b[49m\u001b[43m,\u001b[49m\n\u001b[1;32m    103\u001b[0m \u001b[43m    \u001b[49m\u001b[43msql_alchemy_json\u001b[49m\u001b[43m,\u001b[49m\n\u001b[1;32m    104\u001b[0m \u001b[43m    \u001b[49m\u001b[43maudit_sql_comment\u001b[49m\u001b[38;5;241;43m=\u001b[39;49m\u001b[43maudit_sql_comment\u001b[49m\u001b[43m,\u001b[49m\n\u001b[1;32m    105\u001b[0m \u001b[43m    \u001b[49m\u001b[43msql_cache_mode\u001b[49m\u001b[38;5;241;43m=\u001b[39;49m\u001b[43msql_cache_mode\u001b[49m\u001b[43m,\u001b[49m\n\u001b[1;32m    106\u001b[0m \u001b[43m\u001b[49m\u001b[43m)\u001b[49m\n",
            "File \u001b[0;32m/compute-helpers/code/sql_utils.py:61\u001b[0m, in \u001b[0;36m_deepnote_execute_sql_with_connection_json\u001b[0;34m(template, sql_alchemy_json, audit_sql_comment, sql_cache_mode)\u001b[0m\n\u001b[1;32m     58\u001b[0m \u001b[38;5;28;01mif\u001b[39;00m \u001b[38;5;129;01mnot\u001b[39;00m query\u001b[38;5;241m.\u001b[39mstrip():\n\u001b[1;32m     59\u001b[0m     \u001b[38;5;28;01mreturn\u001b[39;00m\n\u001b[0;32m---> 61\u001b[0m \u001b[38;5;28;01mreturn\u001b[39;00m \u001b[43mexecute_sql_with_caching\u001b[49m\u001b[43m(\u001b[49m\n\u001b[1;32m     62\u001b[0m \u001b[43m    \u001b[49m\u001b[43mquery\u001b[49m\u001b[43m,\u001b[49m\n\u001b[1;32m     63\u001b[0m \u001b[43m    \u001b[49m\u001b[43mbind_params\u001b[49m\u001b[43m,\u001b[49m\n\u001b[1;32m     64\u001b[0m \u001b[43m    \u001b[49m\u001b[43maudit_sql_comment\u001b[49m\u001b[43m,\u001b[49m\n\u001b[1;32m     65\u001b[0m \u001b[43m    \u001b[49m\u001b[43msql_alchemy_dict\u001b[49m\u001b[43m,\u001b[49m\n\u001b[1;32m     66\u001b[0m \u001b[43m    \u001b[49m\u001b[43mrequires_duckdb\u001b[49m\u001b[43m,\u001b[49m\n\u001b[1;32m     67\u001b[0m \u001b[43m    \u001b[49m\u001b[43msql_cache_mode\u001b[49m\u001b[43m,\u001b[49m\n\u001b[1;32m     68\u001b[0m \u001b[43m\u001b[49m\u001b[43m)\u001b[49m\n",
            "File \u001b[0;32m/compute-helpers/code/sql_utils_helpers.py:81\u001b[0m, in \u001b[0;36mexecute_sql_with_caching\u001b[0;34m(query, bind_params, audit_sql_comment, sql_alchemy_dict, requires_duckdb, sql_cache_mode)\u001b[0m\n\u001b[1;32m     77\u001b[0m \u001b[38;5;66;03m# The comment must be appended AFTER the query statement because of Snowflake.\u001b[39;00m\n\u001b[1;32m     78\u001b[0m \u001b[38;5;66;03m# Comments at the beginning of a query are, for some reason, ignored in Snowflake Activity UI\u001b[39;00m\n\u001b[1;32m     79\u001b[0m query_with_audit_comment \u001b[38;5;241m=\u001b[39m query \u001b[38;5;241m+\u001b[39m audit_sql_comment\n\u001b[0;32m---> 81\u001b[0m \u001b[38;5;28;01mreturn\u001b[39;00m \u001b[43mquery_data_source\u001b[49m\u001b[43m(\u001b[49m\n\u001b[1;32m     82\u001b[0m \u001b[43m    \u001b[49m\u001b[43mquery_with_audit_comment\u001b[49m\u001b[43m,\u001b[49m\n\u001b[1;32m     83\u001b[0m \u001b[43m    \u001b[49m\u001b[43mbind_params\u001b[49m\u001b[43m,\u001b[49m\n\u001b[1;32m     84\u001b[0m \u001b[43m    \u001b[49m\u001b[43msql_alchemy_dict\u001b[49m\u001b[43m,\u001b[49m\n\u001b[1;32m     85\u001b[0m \u001b[43m    \u001b[49m\u001b[43mrequires_duckdb\u001b[49m\u001b[43m,\u001b[49m\n\u001b[1;32m     86\u001b[0m \u001b[43m    \u001b[49m\u001b[43mcache_upload_url\u001b[49m\u001b[43m,\u001b[49m\n\u001b[1;32m     87\u001b[0m \u001b[43m\u001b[49m\u001b[43m)\u001b[49m\n",
            "File \u001b[0;32m/compute-helpers/code/sql_utils_helpers.py:107\u001b[0m, in \u001b[0;36mquery_data_source\u001b[0;34m(query, bind_params, sql_alchemy_dict, requires_duckdb, cache_upload_url)\u001b[0m\n\u001b[1;32m    104\u001b[0m engine \u001b[38;5;241m=\u001b[39m create_engine(url, \u001b[38;5;241m*\u001b[39m\u001b[38;5;241m*\u001b[39msql_alchemy_dict[\u001b[38;5;124m\"\u001b[39m\u001b[38;5;124mparams\u001b[39m\u001b[38;5;124m\"\u001b[39m], pool_pre_ping\u001b[38;5;241m=\u001b[39m\u001b[38;5;28;01mTrue\u001b[39;00m)\n\u001b[1;32m    106\u001b[0m \u001b[38;5;28;01mtry\u001b[39;00m:\n\u001b[0;32m--> 107\u001b[0m     dataframe \u001b[38;5;241m=\u001b[39m \u001b[43mexecute_sql_on_engine\u001b[49m\u001b[43m(\u001b[49m\n\u001b[1;32m    108\u001b[0m \u001b[43m        \u001b[49m\u001b[43mengine\u001b[49m\u001b[43m,\u001b[49m\u001b[43m \u001b[49m\u001b[43mquery\u001b[49m\u001b[43m,\u001b[49m\u001b[43m \u001b[49m\u001b[43mbind_params\u001b[49m\u001b[43m,\u001b[49m\u001b[43m \u001b[49m\u001b[43mrequires_duckdb\u001b[49m\n\u001b[1;32m    109\u001b[0m \u001b[43m    \u001b[49m\u001b[43m)\u001b[49m\n\u001b[1;32m    111\u001b[0m     \u001b[38;5;28;01mif\u001b[39;00m dataframe \u001b[38;5;129;01mis\u001b[39;00m \u001b[38;5;28;01mNone\u001b[39;00m:\n\u001b[1;32m    112\u001b[0m         \u001b[38;5;28;01mreturn\u001b[39;00m \u001b[38;5;28;01mNone\u001b[39;00m\n",
            "File \u001b[0;32m/compute-helpers/code/sql_utils_helpers.py:153\u001b[0m, in \u001b[0;36mexecute_sql_on_engine\u001b[0;34m(engine, query, bind_params, requires_duckdb)\u001b[0m\n\u001b[1;32m    150\u001b[0m coerce_float \u001b[38;5;241m=\u001b[39m \u001b[38;5;129;01mnot\u001b[39;00m os\u001b[38;5;241m.\u001b[39menviron\u001b[38;5;241m.\u001b[39mget(\u001b[38;5;124m\"\u001b[39m\u001b[38;5;124mDEEPNOTE_DO_NOT_COERCE_FLOAT\u001b[39m\u001b[38;5;124m\"\u001b[39m, \u001b[38;5;28;01mFalse\u001b[39;00m)\n\u001b[1;32m    152\u001b[0m \u001b[38;5;28;01mtry\u001b[39;00m:\n\u001b[0;32m--> 153\u001b[0m     \u001b[38;5;28;01mreturn\u001b[39;00m \u001b[43mpd\u001b[49m\u001b[38;5;241;43m.\u001b[39;49m\u001b[43mio\u001b[49m\u001b[38;5;241;43m.\u001b[39;49m\u001b[43msql\u001b[49m\u001b[38;5;241;43m.\u001b[39;49m\u001b[43mread_sql_query\u001b[49m\u001b[43m(\u001b[49m\n\u001b[1;32m    154\u001b[0m \u001b[43m        \u001b[49m\u001b[43mquery_unescaped\u001b[49m\u001b[43m,\u001b[49m\n\u001b[1;32m    155\u001b[0m \u001b[43m        \u001b[49m\u001b[43mcon\u001b[49m\u001b[38;5;241;43m=\u001b[39;49m\u001b[43mconnection\u001b[49m\u001b[43m,\u001b[49m\n\u001b[1;32m    156\u001b[0m \u001b[43m        \u001b[49m\u001b[43mparams\u001b[49m\u001b[38;5;241;43m=\u001b[39;49m\u001b[43mbind_params\u001b[49m\u001b[43m,\u001b[49m\n\u001b[1;32m    157\u001b[0m \u001b[43m        \u001b[49m\u001b[43mcoerce_float\u001b[49m\u001b[38;5;241;43m=\u001b[39;49m\u001b[43mcoerce_float\u001b[49m\u001b[43m,\u001b[49m\n\u001b[1;32m    158\u001b[0m \u001b[43m    \u001b[49m\u001b[43m)\u001b[49m\n\u001b[1;32m    159\u001b[0m \u001b[38;5;28;01mexcept\u001b[39;00m ResourceClosedError:\n\u001b[1;32m    160\u001b[0m     \u001b[38;5;66;03m# this happens if the query is e.g. UPDATE and pandas tries to create a dataframe from its result\u001b[39;00m\n\u001b[1;32m    161\u001b[0m     \u001b[38;5;28;01mreturn\u001b[39;00m \u001b[38;5;28;01mNone\u001b[39;00m\n",
            "File \u001b[0;32m/shared-libs/python3.9/py/lib/python3.9/site-packages/pandas/io/sql.py:388\u001b[0m, in \u001b[0;36mread_sql_query\u001b[0;34m(sql, con, index_col, coerce_float, params, parse_dates, chunksize)\u001b[0m\n\u001b[1;32m    335\u001b[0m \u001b[38;5;124;03m\"\"\"\u001b[39;00m\n\u001b[1;32m    336\u001b[0m \u001b[38;5;124;03mRead SQL query into a DataFrame.\u001b[39;00m\n\u001b[1;32m    337\u001b[0m \n\u001b[0;32m   (...)\u001b[0m\n\u001b[1;32m    385\u001b[0m \u001b[38;5;124;03mparameter will be converted to UTC.\u001b[39;00m\n\u001b[1;32m    386\u001b[0m \u001b[38;5;124;03m\"\"\"\u001b[39;00m\n\u001b[1;32m    387\u001b[0m pandas_sql \u001b[38;5;241m=\u001b[39m pandasSQL_builder(con)\n\u001b[0;32m--> 388\u001b[0m \u001b[38;5;28;01mreturn\u001b[39;00m \u001b[43mpandas_sql\u001b[49m\u001b[38;5;241;43m.\u001b[39;49m\u001b[43mread_query\u001b[49m\u001b[43m(\u001b[49m\n\u001b[1;32m    389\u001b[0m \u001b[43m    \u001b[49m\u001b[43msql\u001b[49m\u001b[43m,\u001b[49m\n\u001b[1;32m    390\u001b[0m \u001b[43m    \u001b[49m\u001b[43mindex_col\u001b[49m\u001b[38;5;241;43m=\u001b[39;49m\u001b[43mindex_col\u001b[49m\u001b[43m,\u001b[49m\n\u001b[1;32m    391\u001b[0m \u001b[43m    \u001b[49m\u001b[43mparams\u001b[49m\u001b[38;5;241;43m=\u001b[39;49m\u001b[43mparams\u001b[49m\u001b[43m,\u001b[49m\n\u001b[1;32m    392\u001b[0m \u001b[43m    \u001b[49m\u001b[43mcoerce_float\u001b[49m\u001b[38;5;241;43m=\u001b[39;49m\u001b[43mcoerce_float\u001b[49m\u001b[43m,\u001b[49m\n\u001b[1;32m    393\u001b[0m \u001b[43m    \u001b[49m\u001b[43mparse_dates\u001b[49m\u001b[38;5;241;43m=\u001b[39;49m\u001b[43mparse_dates\u001b[49m\u001b[43m,\u001b[49m\n\u001b[1;32m    394\u001b[0m \u001b[43m    \u001b[49m\u001b[43mchunksize\u001b[49m\u001b[38;5;241;43m=\u001b[39;49m\u001b[43mchunksize\u001b[49m\u001b[43m,\u001b[49m\n\u001b[1;32m    395\u001b[0m \u001b[43m\u001b[49m\u001b[43m)\u001b[49m\n",
            "File \u001b[0;32m/shared-libs/python3.9/py/lib/python3.9/site-packages/pandas/io/sql.py:1308\u001b[0m, in \u001b[0;36mSQLDatabase.read_query\u001b[0;34m(self, sql, index_col, coerce_float, parse_dates, params, chunksize)\u001b[0m\n\u001b[1;32m   1265\u001b[0m \u001b[38;5;124;03m\"\"\"\u001b[39;00m\n\u001b[1;32m   1266\u001b[0m \u001b[38;5;124;03mRead SQL query into a DataFrame.\u001b[39;00m\n\u001b[1;32m   1267\u001b[0m \n\u001b[0;32m   (...)\u001b[0m\n\u001b[1;32m   1304\u001b[0m \n\u001b[1;32m   1305\u001b[0m \u001b[38;5;124;03m\"\"\"\u001b[39;00m\n\u001b[1;32m   1306\u001b[0m args \u001b[38;5;241m=\u001b[39m _convert_params(sql, params)\n\u001b[0;32m-> 1308\u001b[0m result \u001b[38;5;241m=\u001b[39m \u001b[38;5;28;43mself\u001b[39;49m\u001b[38;5;241;43m.\u001b[39;49m\u001b[43mexecute\u001b[49m\u001b[43m(\u001b[49m\u001b[38;5;241;43m*\u001b[39;49m\u001b[43margs\u001b[49m\u001b[43m)\u001b[49m\n\u001b[1;32m   1309\u001b[0m columns \u001b[38;5;241m=\u001b[39m result\u001b[38;5;241m.\u001b[39mkeys()\n\u001b[1;32m   1311\u001b[0m \u001b[38;5;28;01mif\u001b[39;00m chunksize \u001b[38;5;129;01mis\u001b[39;00m \u001b[38;5;129;01mnot\u001b[39;00m \u001b[38;5;28;01mNone\u001b[39;00m:\n",
            "File \u001b[0;32m/shared-libs/python3.9/py/lib/python3.9/site-packages/pandas/io/sql.py:1176\u001b[0m, in \u001b[0;36mSQLDatabase.execute\u001b[0;34m(self, *args, **kwargs)\u001b[0m\n\u001b[1;32m   1174\u001b[0m \u001b[38;5;28;01mdef\u001b[39;00m \u001b[38;5;21mexecute\u001b[39m(\u001b[38;5;28mself\u001b[39m, \u001b[38;5;241m*\u001b[39margs, \u001b[38;5;241m*\u001b[39m\u001b[38;5;241m*\u001b[39mkwargs):\n\u001b[1;32m   1175\u001b[0m     \u001b[38;5;124;03m\"\"\"Simple passthrough to SQLAlchemy connectable\"\"\"\u001b[39;00m\n\u001b[0;32m-> 1176\u001b[0m     \u001b[38;5;28;01mreturn\u001b[39;00m \u001b[38;5;28;43mself\u001b[39;49m\u001b[38;5;241;43m.\u001b[39;49m\u001b[43mconnectable\u001b[49m\u001b[38;5;241;43m.\u001b[39;49m\u001b[43mexecution_options\u001b[49m\u001b[43m(\u001b[49m\u001b[43m)\u001b[49m\u001b[38;5;241;43m.\u001b[39;49m\u001b[43mexecute\u001b[49m\u001b[43m(\u001b[49m\u001b[38;5;241;43m*\u001b[39;49m\u001b[43margs\u001b[49m\u001b[43m,\u001b[49m\u001b[43m \u001b[49m\u001b[38;5;241;43m*\u001b[39;49m\u001b[38;5;241;43m*\u001b[39;49m\u001b[43mkwargs\u001b[49m\u001b[43m)\u001b[49m\n",
            "File \u001b[0;32m/shared-libs/python3.9/py/lib/python3.9/site-packages/sqlalchemy/engine/base.py:1365\u001b[0m, in \u001b[0;36mConnection.execute\u001b[0;34m(self, statement, *multiparams, **params)\u001b[0m\n\u001b[1;32m   1356\u001b[0m \u001b[38;5;28;01mif\u001b[39;00m \u001b[38;5;28misinstance\u001b[39m(statement, util\u001b[38;5;241m.\u001b[39mstring_types):\n\u001b[1;32m   1357\u001b[0m     util\u001b[38;5;241m.\u001b[39mwarn_deprecated_20(\n\u001b[1;32m   1358\u001b[0m         \u001b[38;5;124m\"\u001b[39m\u001b[38;5;124mPassing a string to Connection.execute() is \u001b[39m\u001b[38;5;124m\"\u001b[39m\n\u001b[1;32m   1359\u001b[0m         \u001b[38;5;124m\"\u001b[39m\u001b[38;5;124mdeprecated and will be removed in version 2.0.  Use the \u001b[39m\u001b[38;5;124m\"\u001b[39m\n\u001b[0;32m   (...)\u001b[0m\n\u001b[1;32m   1362\u001b[0m         \u001b[38;5;124m\"\u001b[39m\u001b[38;5;124mdriver-level SQL string.\u001b[39m\u001b[38;5;124m\"\u001b[39m\n\u001b[1;32m   1363\u001b[0m     )\n\u001b[0;32m-> 1365\u001b[0m     \u001b[38;5;28;01mreturn\u001b[39;00m \u001b[38;5;28;43mself\u001b[39;49m\u001b[38;5;241;43m.\u001b[39;49m\u001b[43m_exec_driver_sql\u001b[49m\u001b[43m(\u001b[49m\n\u001b[1;32m   1366\u001b[0m \u001b[43m        \u001b[49m\u001b[43mstatement\u001b[49m\u001b[43m,\u001b[49m\n\u001b[1;32m   1367\u001b[0m \u001b[43m        \u001b[49m\u001b[43mmultiparams\u001b[49m\u001b[43m,\u001b[49m\n\u001b[1;32m   1368\u001b[0m \u001b[43m        \u001b[49m\u001b[43mparams\u001b[49m\u001b[43m,\u001b[49m\n\u001b[1;32m   1369\u001b[0m \u001b[43m        \u001b[49m\u001b[43m_EMPTY_EXECUTION_OPTS\u001b[49m\u001b[43m,\u001b[49m\n\u001b[1;32m   1370\u001b[0m \u001b[43m        \u001b[49m\u001b[43mfuture\u001b[49m\u001b[38;5;241;43m=\u001b[39;49m\u001b[38;5;28;43;01mFalse\u001b[39;49;00m\u001b[43m,\u001b[49m\n\u001b[1;32m   1371\u001b[0m \u001b[43m    \u001b[49m\u001b[43m)\u001b[49m\n\u001b[1;32m   1373\u001b[0m \u001b[38;5;28;01mtry\u001b[39;00m:\n\u001b[1;32m   1374\u001b[0m     meth \u001b[38;5;241m=\u001b[39m statement\u001b[38;5;241m.\u001b[39m_execute_on_connection\n",
            "File \u001b[0;32m/shared-libs/python3.9/py/lib/python3.9/site-packages/sqlalchemy/engine/base.py:1669\u001b[0m, in \u001b[0;36mConnection._exec_driver_sql\u001b[0;34m(self, statement, multiparams, params, execution_options, future)\u001b[0m\n\u001b[1;32m   1659\u001b[0m         (\n\u001b[1;32m   1660\u001b[0m             statement,\n\u001b[1;32m   1661\u001b[0m             distilled_params,\n\u001b[0;32m   (...)\u001b[0m\n\u001b[1;32m   1665\u001b[0m             statement, distilled_parameters, execution_options\n\u001b[1;32m   1666\u001b[0m         )\n\u001b[1;32m   1668\u001b[0m dialect \u001b[38;5;241m=\u001b[39m \u001b[38;5;28mself\u001b[39m\u001b[38;5;241m.\u001b[39mdialect\n\u001b[0;32m-> 1669\u001b[0m ret \u001b[38;5;241m=\u001b[39m \u001b[38;5;28;43mself\u001b[39;49m\u001b[38;5;241;43m.\u001b[39;49m\u001b[43m_execute_context\u001b[49m\u001b[43m(\u001b[49m\n\u001b[1;32m   1670\u001b[0m \u001b[43m    \u001b[49m\u001b[43mdialect\u001b[49m\u001b[43m,\u001b[49m\n\u001b[1;32m   1671\u001b[0m \u001b[43m    \u001b[49m\u001b[43mdialect\u001b[49m\u001b[38;5;241;43m.\u001b[39;49m\u001b[43mexecution_ctx_cls\u001b[49m\u001b[38;5;241;43m.\u001b[39;49m\u001b[43m_init_statement\u001b[49m\u001b[43m,\u001b[49m\n\u001b[1;32m   1672\u001b[0m \u001b[43m    \u001b[49m\u001b[43mstatement\u001b[49m\u001b[43m,\u001b[49m\n\u001b[1;32m   1673\u001b[0m \u001b[43m    \u001b[49m\u001b[43mdistilled_parameters\u001b[49m\u001b[43m,\u001b[49m\n\u001b[1;32m   1674\u001b[0m \u001b[43m    \u001b[49m\u001b[43mexecution_options\u001b[49m\u001b[43m,\u001b[49m\n\u001b[1;32m   1675\u001b[0m \u001b[43m    \u001b[49m\u001b[43mstatement\u001b[49m\u001b[43m,\u001b[49m\n\u001b[1;32m   1676\u001b[0m \u001b[43m    \u001b[49m\u001b[43mdistilled_parameters\u001b[49m\u001b[43m,\u001b[49m\n\u001b[1;32m   1677\u001b[0m \u001b[43m\u001b[49m\u001b[43m)\u001b[49m\n\u001b[1;32m   1679\u001b[0m \u001b[38;5;28;01mif\u001b[39;00m \u001b[38;5;129;01mnot\u001b[39;00m future:\n\u001b[1;32m   1680\u001b[0m     \u001b[38;5;28;01mif\u001b[39;00m \u001b[38;5;28mself\u001b[39m\u001b[38;5;241m.\u001b[39m_has_events \u001b[38;5;129;01mor\u001b[39;00m \u001b[38;5;28mself\u001b[39m\u001b[38;5;241m.\u001b[39mengine\u001b[38;5;241m.\u001b[39m_has_events:\n",
            "File \u001b[0;32m/shared-libs/python3.9/py/lib/python3.9/site-packages/sqlalchemy/engine/base.py:1943\u001b[0m, in \u001b[0;36mConnection._execute_context\u001b[0;34m(self, dialect, constructor, statement, parameters, execution_options, *args, **kw)\u001b[0m\n\u001b[1;32m   1940\u001b[0m             branched\u001b[38;5;241m.\u001b[39mclose()\n\u001b[1;32m   1942\u001b[0m \u001b[38;5;28;01mexcept\u001b[39;00m \u001b[38;5;167;01mBaseException\u001b[39;00m \u001b[38;5;28;01mas\u001b[39;00m e:\n\u001b[0;32m-> 1943\u001b[0m     \u001b[38;5;28;43mself\u001b[39;49m\u001b[38;5;241;43m.\u001b[39;49m\u001b[43m_handle_dbapi_exception\u001b[49m\u001b[43m(\u001b[49m\n\u001b[1;32m   1944\u001b[0m \u001b[43m        \u001b[49m\u001b[43me\u001b[49m\u001b[43m,\u001b[49m\u001b[43m \u001b[49m\u001b[43mstatement\u001b[49m\u001b[43m,\u001b[49m\u001b[43m \u001b[49m\u001b[43mparameters\u001b[49m\u001b[43m,\u001b[49m\u001b[43m \u001b[49m\u001b[43mcursor\u001b[49m\u001b[43m,\u001b[49m\u001b[43m \u001b[49m\u001b[43mcontext\u001b[49m\n\u001b[1;32m   1945\u001b[0m \u001b[43m    \u001b[49m\u001b[43m)\u001b[49m\n\u001b[1;32m   1947\u001b[0m \u001b[38;5;28;01mreturn\u001b[39;00m result\n",
            "File \u001b[0;32m/shared-libs/python3.9/py/lib/python3.9/site-packages/sqlalchemy/engine/base.py:2124\u001b[0m, in \u001b[0;36mConnection._handle_dbapi_exception\u001b[0;34m(self, e, statement, parameters, cursor, context)\u001b[0m\n\u001b[1;32m   2122\u001b[0m     util\u001b[38;5;241m.\u001b[39mraise_(newraise, with_traceback\u001b[38;5;241m=\u001b[39mexc_info[\u001b[38;5;241m2\u001b[39m], from_\u001b[38;5;241m=\u001b[39me)\n\u001b[1;32m   2123\u001b[0m \u001b[38;5;28;01melif\u001b[39;00m should_wrap:\n\u001b[0;32m-> 2124\u001b[0m     \u001b[43mutil\u001b[49m\u001b[38;5;241;43m.\u001b[39;49m\u001b[43mraise_\u001b[49m\u001b[43m(\u001b[49m\n\u001b[1;32m   2125\u001b[0m \u001b[43m        \u001b[49m\u001b[43msqlalchemy_exception\u001b[49m\u001b[43m,\u001b[49m\u001b[43m \u001b[49m\u001b[43mwith_traceback\u001b[49m\u001b[38;5;241;43m=\u001b[39;49m\u001b[43mexc_info\u001b[49m\u001b[43m[\u001b[49m\u001b[38;5;241;43m2\u001b[39;49m\u001b[43m]\u001b[49m\u001b[43m,\u001b[49m\u001b[43m \u001b[49m\u001b[43mfrom_\u001b[49m\u001b[38;5;241;43m=\u001b[39;49m\u001b[43me\u001b[49m\n\u001b[1;32m   2126\u001b[0m \u001b[43m    \u001b[49m\u001b[43m)\u001b[49m\n\u001b[1;32m   2127\u001b[0m \u001b[38;5;28;01melse\u001b[39;00m:\n\u001b[1;32m   2128\u001b[0m     util\u001b[38;5;241m.\u001b[39mraise_(exc_info[\u001b[38;5;241m1\u001b[39m], with_traceback\u001b[38;5;241m=\u001b[39mexc_info[\u001b[38;5;241m2\u001b[39m])\n",
            "File \u001b[0;32m/shared-libs/python3.9/py/lib/python3.9/site-packages/sqlalchemy/util/compat.py:208\u001b[0m, in \u001b[0;36mraise_\u001b[0;34m(***failed resolving arguments***)\u001b[0m\n\u001b[1;32m    205\u001b[0m     exception\u001b[38;5;241m.\u001b[39m__cause__ \u001b[38;5;241m=\u001b[39m replace_context\n\u001b[1;32m    207\u001b[0m \u001b[38;5;28;01mtry\u001b[39;00m:\n\u001b[0;32m--> 208\u001b[0m     \u001b[38;5;28;01mraise\u001b[39;00m exception\n\u001b[1;32m    209\u001b[0m \u001b[38;5;28;01mfinally\u001b[39;00m:\n\u001b[1;32m    210\u001b[0m     \u001b[38;5;66;03m# credit to\u001b[39;00m\n\u001b[1;32m    211\u001b[0m     \u001b[38;5;66;03m# https://cosmicpercolator.com/2016/01/13/exception-leaks-in-python-2-and-3/\u001b[39;00m\n\u001b[1;32m    212\u001b[0m     \u001b[38;5;66;03m# as the __traceback__ object creates a cycle\u001b[39;00m\n\u001b[1;32m    213\u001b[0m     \u001b[38;5;28;01mdel\u001b[39;00m exception, replace_context, from_, with_traceback\n",
            "File \u001b[0;32m/shared-libs/python3.9/py/lib/python3.9/site-packages/sqlalchemy/engine/base.py:1900\u001b[0m, in \u001b[0;36mConnection._execute_context\u001b[0;34m(self, dialect, constructor, statement, parameters, execution_options, *args, **kw)\u001b[0m\n\u001b[1;32m   1898\u001b[0m                 \u001b[38;5;28;01mbreak\u001b[39;00m\n\u001b[1;32m   1899\u001b[0m     \u001b[38;5;28;01mif\u001b[39;00m \u001b[38;5;129;01mnot\u001b[39;00m evt_handled:\n\u001b[0;32m-> 1900\u001b[0m         \u001b[38;5;28;43mself\u001b[39;49m\u001b[38;5;241;43m.\u001b[39;49m\u001b[43mdialect\u001b[49m\u001b[38;5;241;43m.\u001b[39;49m\u001b[43mdo_execute\u001b[49m\u001b[43m(\u001b[49m\n\u001b[1;32m   1901\u001b[0m \u001b[43m            \u001b[49m\u001b[43mcursor\u001b[49m\u001b[43m,\u001b[49m\u001b[43m \u001b[49m\u001b[43mstatement\u001b[49m\u001b[43m,\u001b[49m\u001b[43m \u001b[49m\u001b[43mparameters\u001b[49m\u001b[43m,\u001b[49m\u001b[43m \u001b[49m\u001b[43mcontext\u001b[49m\n\u001b[1;32m   1902\u001b[0m \u001b[43m        \u001b[49m\u001b[43m)\u001b[49m\n\u001b[1;32m   1904\u001b[0m \u001b[38;5;28;01mif\u001b[39;00m \u001b[38;5;28mself\u001b[39m\u001b[38;5;241m.\u001b[39m_has_events \u001b[38;5;129;01mor\u001b[39;00m \u001b[38;5;28mself\u001b[39m\u001b[38;5;241m.\u001b[39mengine\u001b[38;5;241m.\u001b[39m_has_events:\n\u001b[1;32m   1905\u001b[0m     \u001b[38;5;28mself\u001b[39m\u001b[38;5;241m.\u001b[39mdispatch\u001b[38;5;241m.\u001b[39mafter_cursor_execute(\n\u001b[1;32m   1906\u001b[0m         \u001b[38;5;28mself\u001b[39m,\n\u001b[1;32m   1907\u001b[0m         cursor,\n\u001b[0;32m   (...)\u001b[0m\n\u001b[1;32m   1911\u001b[0m         context\u001b[38;5;241m.\u001b[39mexecutemany,\n\u001b[1;32m   1912\u001b[0m     )\n",
            "File \u001b[0;32m/shared-libs/python3.9/py/lib/python3.9/site-packages/sqlalchemy/engine/default.py:736\u001b[0m, in \u001b[0;36mDefaultDialect.do_execute\u001b[0;34m(self, cursor, statement, parameters, context)\u001b[0m\n\u001b[1;32m    735\u001b[0m \u001b[38;5;28;01mdef\u001b[39;00m \u001b[38;5;21mdo_execute\u001b[39m(\u001b[38;5;28mself\u001b[39m, cursor, statement, parameters, context\u001b[38;5;241m=\u001b[39m\u001b[38;5;28;01mNone\u001b[39;00m):\n\u001b[0;32m--> 736\u001b[0m     \u001b[43mcursor\u001b[49m\u001b[38;5;241;43m.\u001b[39;49m\u001b[43mexecute\u001b[49m\u001b[43m(\u001b[49m\u001b[43mstatement\u001b[49m\u001b[43m,\u001b[49m\u001b[43m \u001b[49m\u001b[43mparameters\u001b[49m\u001b[43m)\u001b[49m\n",
            "File \u001b[0;32m/shared-libs/python3.9/py/lib/python3.9/site-packages/duckdb_engine/__init__.py:142\u001b[0m, in \u001b[0;36mConnectionWrapper.execute\u001b[0;34m(self, statement, parameters, context)\u001b[0m\n\u001b[1;32m    140\u001b[0m         \u001b[38;5;28mself\u001b[39m\u001b[38;5;241m.\u001b[39m__c\u001b[38;5;241m.\u001b[39mexecute(statement)\n\u001b[1;32m    141\u001b[0m     \u001b[38;5;28;01melse\u001b[39;00m:\n\u001b[0;32m--> 142\u001b[0m         \u001b[38;5;28;43mself\u001b[39;49m\u001b[38;5;241;43m.\u001b[39;49m\u001b[43m__c\u001b[49m\u001b[38;5;241;43m.\u001b[39;49m\u001b[43mexecute\u001b[49m\u001b[43m(\u001b[49m\u001b[43mstatement\u001b[49m\u001b[43m,\u001b[49m\u001b[43m \u001b[49m\u001b[43mparameters\u001b[49m\u001b[43m)\u001b[49m\n\u001b[1;32m    143\u001b[0m \u001b[38;5;28;01mexcept\u001b[39;00m \u001b[38;5;167;01mRuntimeError\u001b[39;00m \u001b[38;5;28;01mas\u001b[39;00m e:\n\u001b[1;32m    144\u001b[0m     \u001b[38;5;28;01mif\u001b[39;00m e\u001b[38;5;241m.\u001b[39margs[\u001b[38;5;241m0\u001b[39m]\u001b[38;5;241m.\u001b[39mstartswith(\u001b[38;5;124m\"\u001b[39m\u001b[38;5;124mNot implemented Error\u001b[39m\u001b[38;5;124m\"\u001b[39m):\n",
            "\u001b[0;31mProgrammingError\u001b[0m: (duckdb.InvalidInputException) Invalid Input Error: Attempting to execute an unsuccessful or closed pending query result\nError: Binder Error: Referenced column \"funnel_step\" not found in FROM clause!\nCandidate bindings: \"general_path.user_skey\"\n[SQL: WITH steps AS ( \n    SELECT \n      funnel_step\n    , platform\n    , COUNT(distinct user_skey) as users_count\nFROM general_path\nGROUP BY 1,2)\n\n, pivoted AS (\nPIVOT steps ON platform \nUSING SUM(users_count)\nGROUP BY funnel_step\n)\n\nSELECT \n    funnel_step\n    , android as android_count\n    , CONCAT((android/ MAX(android) OVER () * 100)::INT, '%') AS android_conversion\n    , COALESCE(apple, 0) AS apple_count\n    , CONCAT((apple_count/ MAX(apple) OVER () * 100)::INT, '%') AS apple_conversion\nFROM pivoted\nGROUP BY funnel_step, android, apple]\n(Background on this error at: https://sqlalche.me/e/14/f405)"
          ]
        }
      ],
      "execution_count": 6,
      "block_group": "124791b833a9454ca5cc0fe565f0aa4f"
    },
    {
      "cell_type": "code",
      "source": "df_10 = _deepnote_execute_sql('WITH path AS (\\n    SELECT user_skey, event_name, platform, funnel_step\\n    FROM general_path\\n)\\n\\n, pivoted AS (\\nPIVOT path on CONCAT(\\'step_\\',funnel_step)\\nUSING MAX(event_name)\\nGROUP BY user_skey, platform\\n)\\n\\nSELECT DISTINCT\\n    platform\\n    , COUNT(DISTINCT user_skey) AS users\\n    , COALESCE(step_01, \\' \\')  step_01\\n    , COALESCE(step_02, \\' \\')  step_02\\n    , COALESCE(step_03, \\' \\')  step_03\\n    , COALESCE(step_04, \\' \\')  step_04\\n    , COALESCE(step_05, \\' \\')  step_05\\nFROM pivoted\\nGROUP BY 1,3,4,5,6,7\\nORDER BY 3,4 desc,5 desc,6 desc,7 desc', 'SQL_DEEPNOTE_DATAFRAME_SQL', audit_sql_comment='', sql_cache_mode='cache_disabled')\ndf_10",
      "metadata": {
        "source_hash": "92945c2",
        "is_code_hidden": true,
        "execution_start": 1704470826488,
        "execution_millis": 40,
        "sql_integration_id": "deepnote-dataframe-sql",
        "deepnote_table_state": {
          "sortBy": [],
          "filters": [],
          "pageSize": 10,
          "pageIndex": 0
        },
        "deepnote_table_loading": false,
        "deepnote_variable_name": "df_10",
        "deepnote_app_coordinates": {
          "h": 120,
          "w": 12,
          "x": 0,
          "y": 0
        },
        "deepnote_to_be_reexecuted": true,
        "deepnote_app_is_code_hidden": true,
        "cell_id": "8dbadf519c084906881056faa72547d3",
        "deepnote_cell_type": "sql",
        "deepnote_sql_source": "WITH path AS (\n    SELECT user_skey, event_name, platform, funnel_step\n    FROM general_path\n)\n\n, pivoted AS (\nPIVOT path on CONCAT('step_',funnel_step)\nUSING MAX(event_name)\nGROUP BY user_skey, platform\n)\n\nSELECT DISTINCT\n    platform\n    , COUNT(DISTINCT user_skey) AS users\n    , COALESCE(step_01, ' ')  step_01\n    , COALESCE(step_02, ' ')  step_02\n    , COALESCE(step_03, ' ')  step_03\n    , COALESCE(step_04, ' ')  step_04\n    , COALESCE(step_05, ' ')  step_05\nFROM pivoted\nGROUP BY 1,3,4,5,6,7\nORDER BY 3,4 desc,5 desc,6 desc,7 desc"
      },
      "outputs": [
        {
          "data": {
            "application/vnd.deepnote.sql-output-metadata+json": {
              "status": "success_no_cache",
              "size_in_bytes": 2289
            }
          },
          "metadata": {},
          "output_type": "display_data"
        },
        {
          "output_type": "execute_result",
          "execution_count": 7,
          "data": {
            "application/vnd.deepnote.dataframe.v3+json": {
              "column_count": 7,
              "row_count": 5,
              "columns": [
                {
                  "name": "platform",
                  "dtype": "object",
                  "stats": {
                    "unique_count": 2,
                    "nan_count": 0,
                    "categories": [
                      {
                        "name": "android",
                        "count": 4
                      },
                      {
                        "name": "apple",
                        "count": 1
                      }
                    ]
                  }
                },
                {
                  "name": "users",
                  "dtype": "int64",
                  "stats": {
                    "unique_count": 3,
                    "nan_count": 0,
                    "min": "1",
                    "max": "7",
                    "histogram": [
                      {
                        "bin_start": 1,
                        "bin_end": 1.6,
                        "count": 3
                      },
                      {
                        "bin_start": 1.6,
                        "bin_end": 2.2,
                        "count": 0
                      },
                      {
                        "bin_start": 2.2,
                        "bin_end": 2.8,
                        "count": 0
                      },
                      {
                        "bin_start": 2.8,
                        "bin_end": 3.4,
                        "count": 1
                      },
                      {
                        "bin_start": 3.4,
                        "bin_end": 4,
                        "count": 0
                      },
                      {
                        "bin_start": 4,
                        "bin_end": 4.6,
                        "count": 0
                      },
                      {
                        "bin_start": 4.6,
                        "bin_end": 5.2,
                        "count": 0
                      },
                      {
                        "bin_start": 5.2,
                        "bin_end": 5.8,
                        "count": 0
                      },
                      {
                        "bin_start": 5.8,
                        "bin_end": 6.3999999999999995,
                        "count": 0
                      },
                      {
                        "bin_start": 6.3999999999999995,
                        "bin_end": 7,
                        "count": 1
                      }
                    ]
                  }
                },
                {
                  "name": "step_01",
                  "dtype": "object",
                  "stats": {
                    "unique_count": 1,
                    "nan_count": 0,
                    "categories": [
                      {
                        "name": "registration_done",
                        "count": 5
                      }
                    ]
                  }
                },
                {
                  "name": "step_02",
                  "dtype": "object",
                  "stats": {
                    "unique_count": 2,
                    "nan_count": 0,
                    "categories": [
                      {
                        "name": "subscription_offer_open",
                        "count": 4
                      },
                      {
                        "name": "create_flow_open",
                        "count": 1
                      }
                    ]
                  }
                },
                {
                  "name": "step_03",
                  "dtype": "object",
                  "stats": {
                    "unique_count": 2,
                    "nan_count": 0,
                    "categories": [
                      {
                        "name": "create_flow_open",
                        "count": 4
                      },
                      {
                        "name": "object_export",
                        "count": 1
                      }
                    ]
                  }
                },
                {
                  "name": "step_04",
                  "dtype": "object",
                  "stats": {
                    "unique_count": 2,
                    "nan_count": 0,
                    "categories": [
                      {
                        "name": "subscription_offer_open",
                        "count": 3
                      },
                      {
                        "name": " ",
                        "count": 2
                      }
                    ]
                  }
                },
                {
                  "name": "step_05",
                  "dtype": "object",
                  "stats": {
                    "unique_count": 3,
                    "nan_count": 0,
                    "categories": [
                      {
                        "name": "editor_open",
                        "count": 2
                      },
                      {
                        "name": " ",
                        "count": 2
                      },
                      {
                        "name": "object_export",
                        "count": 1
                      }
                    ]
                  }
                },
                {
                  "name": "_deepnote_index_column",
                  "dtype": "int64"
                }
              ],
              "rows": [
                {
                  "platform": "android",
                  "users": 1,
                  "step_01": "registration_done",
                  "step_02": "subscription_offer_open",
                  "step_03": "create_flow_open",
                  "step_04": "subscription_offer_open",
                  "step_05": "object_export",
                  "_deepnote_index_column": 0
                },
                {
                  "platform": "apple",
                  "users": 3,
                  "step_01": "registration_done",
                  "step_02": "subscription_offer_open",
                  "step_03": "create_flow_open",
                  "step_04": "subscription_offer_open",
                  "step_05": "editor_open",
                  "_deepnote_index_column": 1
                },
                {
                  "platform": "android",
                  "users": 7,
                  "step_01": "registration_done",
                  "step_02": "subscription_offer_open",
                  "step_03": "create_flow_open",
                  "step_04": "subscription_offer_open",
                  "step_05": "editor_open",
                  "_deepnote_index_column": 2
                },
                {
                  "platform": "android",
                  "users": 1,
                  "step_01": "registration_done",
                  "step_02": "subscription_offer_open",
                  "step_03": "create_flow_open",
                  "step_04": " ",
                  "step_05": " ",
                  "_deepnote_index_column": 3
                },
                {
                  "platform": "android",
                  "users": 1,
                  "step_01": "registration_done",
                  "step_02": "create_flow_open",
                  "step_03": "object_export",
                  "step_04": " ",
                  "step_05": " ",
                  "_deepnote_index_column": 4
                }
              ]
            },
            "text/plain": "  platform  users            step_01                  step_02  \\\n0  android      1  registration_done  subscription_offer_open   \n1    apple      3  registration_done  subscription_offer_open   \n2  android      7  registration_done  subscription_offer_open   \n3  android      1  registration_done  subscription_offer_open   \n4  android      1  registration_done         create_flow_open   \n\n            step_03                  step_04        step_05  \n0  create_flow_open  subscription_offer_open  object_export  \n1  create_flow_open  subscription_offer_open    editor_open  \n2  create_flow_open  subscription_offer_open    editor_open  \n3  create_flow_open                                          \n4     object_export                                          ",
            "text/html": "<div>\n<style scoped>\n    .dataframe tbody tr th:only-of-type {\n        vertical-align: middle;\n    }\n\n    .dataframe tbody tr th {\n        vertical-align: top;\n    }\n\n    .dataframe thead th {\n        text-align: right;\n    }\n</style>\n<table border=\"1\" class=\"dataframe\">\n  <thead>\n    <tr style=\"text-align: right;\">\n      <th></th>\n      <th>platform</th>\n      <th>users</th>\n      <th>step_01</th>\n      <th>step_02</th>\n      <th>step_03</th>\n      <th>step_04</th>\n      <th>step_05</th>\n    </tr>\n  </thead>\n  <tbody>\n    <tr>\n      <th>0</th>\n      <td>android</td>\n      <td>1</td>\n      <td>registration_done</td>\n      <td>subscription_offer_open</td>\n      <td>create_flow_open</td>\n      <td>subscription_offer_open</td>\n      <td>object_export</td>\n    </tr>\n    <tr>\n      <th>1</th>\n      <td>apple</td>\n      <td>3</td>\n      <td>registration_done</td>\n      <td>subscription_offer_open</td>\n      <td>create_flow_open</td>\n      <td>subscription_offer_open</td>\n      <td>editor_open</td>\n    </tr>\n    <tr>\n      <th>2</th>\n      <td>android</td>\n      <td>7</td>\n      <td>registration_done</td>\n      <td>subscription_offer_open</td>\n      <td>create_flow_open</td>\n      <td>subscription_offer_open</td>\n      <td>editor_open</td>\n    </tr>\n    <tr>\n      <th>3</th>\n      <td>android</td>\n      <td>1</td>\n      <td>registration_done</td>\n      <td>subscription_offer_open</td>\n      <td>create_flow_open</td>\n      <td></td>\n      <td></td>\n    </tr>\n    <tr>\n      <th>4</th>\n      <td>android</td>\n      <td>1</td>\n      <td>registration_done</td>\n      <td>create_flow_open</td>\n      <td>object_export</td>\n      <td></td>\n      <td></td>\n    </tr>\n  </tbody>\n</table>\n</div>"
          },
          "metadata": {}
        }
      ],
      "execution_count": null,
      "block_group": "02b7883e925b437289076111c00bd542"
    },
    {
      "cell_type": "markdown",
      "source": "_For this analysis, the event user_key was used since it provides a more well distributed analysis, as opposed to the apps user_key that counts for example, an user that has just signed up with more than 3k distinct sessions. This might indicate that the apps_open table considers a larger range of criteria to define the user key, while the events table is more specific._\n\n#### Insights:\nThere are basically two distinct paths completed by users on different platforms (Apple and Android):\n<br>\n> ```1) registration_done -> subscription_offer_open -> create_flow_open -> subscription_offer_open   ```\n> ```2) registration_done -> create_flow_open -> object_export                                        ```\n\n-> The repeated subscription_offer_open in the step 4 suggests users are being presented with the subscription offer, navigating away to a creation flow, and then being presented with the subscription offer again.\n\n-> A total of 10 unique Android user sessions are represented, indicating a higher volume of Android users engaging with the app in this dataset or at least a higher volume of Android users completing the registration.\n\n-> Only 3 new Apple user sessions have interacted with the app, which could suggest either less engagement.\n\n#### Potential Funnel Issues:\n\n-> The repeated subscription_offer_open event could indicate a design in the user experience where users are either not subscribing at the first offer and are being re-presented with the offer or they are navigating back to it.\n\n-> The presence of object_export for a single Android session suggests a user reached a stage of exporting an object, which might be a desirable end action in the app flow, indicative of user retention and engagement. \n\n#### Actionable Insights:\n\n-> For Android, the drop from 8 users to 1 user between the second subscription_offer_open and create_flow_open suggests a significant drop-off point which could be investigated to understand why users are not proceeding.\n\n-> For Apple, since only one path is shown and only three users, it's hard to draw a conclusion without additional data. It’s possible that Apple users have a more streamlined experience, or the data is not capturing the full range of user behavior.\n\n-> Given the commonality of the \"subscription_offer_open\" step, it would be beneficial to understand why users return to it, and if necessary, improve this step in the user journey by enhancing the user interface and clarity of offers, or potentially introduce more attractive subscription plans.\n\n- A/B tests could be employed to optimize user paths or identified drop-off points and improve the overall user journey and application conversion.\n\n- Further analysis might involve correlating these paths with user outcomes (like churn or long-term engagement) and breaking this analysis down further based on other user properties like country, language, device type, etc.\n",
      "metadata": {
        "deepnote_app_coordinates": {
          "h": 120,
          "w": 12,
          "x": 0,
          "y": 0
        },
        "cell_id": "10873672b9344ecea323384b1d12e5c2",
        "deepnote_cell_type": "markdown"
      },
      "block_group": "7ddf7cce65f149988db5a408518e6658"
    },
    {
      "cell_type": "markdown",
      "source": "### WAU",
      "metadata": {
        "formattedRanges": [],
        "deepnote_app_coordinates": {
          "h": 120,
          "w": 12,
          "x": 0,
          "y": 0
        },
        "cell_id": "58c6183857554227af60c8aa3effa24f",
        "deepnote_cell_type": "text-cell-h3"
      },
      "block_group": "4185537c1dce4e8f8752dfc7a22380e8"
    },
    {
      "cell_type": "markdown",
      "source": "> 2. Calculate the WAU Growth Accounting (New, Retained, Resurrected, Churn users) from November 13th to November 19th",
      "metadata": {
        "formattedRanges": [],
        "deepnote_app_coordinates": {
          "h": 2,
          "w": 8,
          "x": 0,
          "y": 0
        },
        "cell_id": "97ef983502a3400f87e1d6d9fdd7adfa",
        "deepnote_cell_type": "text-cell-callout"
      },
      "block_group": "d3dfe5b0f3ed471c8710f0e0998fede1"
    },
    {
      "cell_type": "code",
      "source": "base_users = _deepnote_execute_sql('-- Get the weekly status of each user based on first_app_open and if there was an event in the same week.active\\n-- For this,the values will be encoded as follow: 5 - active, 4 - inactive, 7 - new, 5 - existing\\n\\nWITH base AS (\\n    SELECT DISTINCT\\n        CASE WHEN events.user_skey = \\'null\\' THEN apps_open.user_skey ELSE events.user_skey END AS user_key\\n        , DATE_TRUNC(\\'week\\', events.date_time) AS week\\n        , events.platform\\n        , MAX(is_first_app_open) AS is_new\\n    FROM events  \\n    LEFT JOIN apps_open USING(session_skey) \\n    GROUP BY 1, 2, 3\\n)\\n, wau AS (\\n    SELECT \\n        week\\n        , CONCAT(\\'Total Week \\', RANK() OVER(ORDER BY week), \\': \\') AS label\\n        , COUNT(DISTINCT user_key) AS users\\n    FROM base\\n    GROUP BY 1\\n)\\n\\n, pivoted AS (\\n    PIVOT base ON week GROUP BY user_key, is_new\\n)\\n\\n, label AS (\\nSELECT user_key\\n    , CASE WHEN is_new = TRUE and \"2023-11-06\" = 1 THEN \\'new\\'\\n           WHEN (is_new = FALSE OR is_new IS NULL) and \"2023-11-06\" = 1 THEN \\'existing\\' \\n           ELSE NULL\\n        END AS \\'week_1\\'\\n    , CASE WHEN is_new = TRUE and \"2023-11-06\" = 0 THEN \\'new\\'\\n           WHEN (is_new = FALSE OR is_new IS NULL) and \"2023-11-13\" = 1 THEN \\'existing\\' \\n           ELSE NULL\\n        END AS \\'week_2\\'\\n    , CONCAT(week_1, \\' - \\', week_2) AS status\\nFROM pivoted\\n)\\n\\n, final AS (SELECT\\n     CASE  WHEN status = \\'existing - \\' THEN \\'Churn:\\'\\n            WHEN status = \\' - existing\\' THEN \\'Ressurrect:\\'\\n            WHEN status = \\'new - \\'     THEN \\'New week 1:\\'\\n            WHEN status = \\' - new\\'     THEN \\'New week 2:\\'            \\n            WHEN status = \\'existing - existing\\' THEN \\'Retained :\\'\\n        END AS label\\n    , COUNT(*) AS users\\nFROM label\\nWHERE status != \\' - \\'\\nGROUP BY 1\\n)\\n\\nSELECT *\\nFROM final\\nUNION ALL \\nSELECT label, users \\nFROM wau', 'SQL_DEEPNOTE_DATAFRAME_SQL', audit_sql_comment='', sql_cache_mode='cache_disabled')\nbase_users",
      "metadata": {
        "source_hash": "b74a1e75",
        "is_code_hidden": false,
        "execution_start": 1704470826576,
        "execution_millis": 332,
        "sql_integration_id": "deepnote-dataframe-sql",
        "deepnote_table_state": {
          "sortBy": [
            {
              "id": "week_1",
              "type": "desc"
            }
          ],
          "filters": [],
          "pageSize": 10,
          "pageIndex": 0
        },
        "deepnote_table_loading": false,
        "deepnote_variable_name": "base_users",
        "deepnote_app_coordinates": {
          "h": 120,
          "w": 12,
          "x": 0,
          "y": 0
        },
        "deepnote_to_be_reexecuted": true,
        "deepnote_app_is_code_hidden": false,
        "cell_id": "3b85928dd81f4313a5c3dbb15026ee3e",
        "deepnote_cell_type": "sql",
        "deepnote_sql_source": "-- Get the weekly status of each user based on first_app_open and if there was an event in the same week.active\n-- For this,the values will be encoded as follow: 5 - active, 4 - inactive, 7 - new, 5 - existing\n\nWITH base AS (\n    SELECT DISTINCT\n        CASE WHEN events.user_skey = 'null' THEN apps_open.user_skey ELSE events.user_skey END AS user_key\n        , DATE_TRUNC('week', events.date_time) AS week\n        , events.platform\n        , MAX(is_first_app_open) AS is_new\n    FROM events  \n    LEFT JOIN apps_open USING(session_skey) \n    GROUP BY 1, 2, 3\n)\n, wau AS (\n    SELECT \n        week\n        , CONCAT('Total Week ', RANK() OVER(ORDER BY week), ': ') AS label\n        , COUNT(DISTINCT user_key) AS users\n    FROM base\n    GROUP BY 1\n)\n\n, pivoted AS (\n    PIVOT base ON week GROUP BY user_key, is_new\n)\n\n, label AS (\nSELECT user_key\n    , CASE WHEN is_new = TRUE and \"2023-11-06\" = 1 THEN 'new'\n           WHEN (is_new = FALSE OR is_new IS NULL) and \"2023-11-06\" = 1 THEN 'existing' \n           ELSE NULL\n        END AS 'week_1'\n    , CASE WHEN is_new = TRUE and \"2023-11-06\" = 0 THEN 'new'\n           WHEN (is_new = FALSE OR is_new IS NULL) and \"2023-11-13\" = 1 THEN 'existing' \n           ELSE NULL\n        END AS 'week_2'\n    , CONCAT(week_1, ' - ', week_2) AS status\nFROM pivoted\n)\n\n, final AS (SELECT\n     CASE  WHEN status = 'existing - ' THEN 'Churn:'\n            WHEN status = ' - existing' THEN 'Ressurrect:'\n            WHEN status = 'new - '     THEN 'New week 1:'\n            WHEN status = ' - new'     THEN 'New week 2:'            \n            WHEN status = 'existing - existing' THEN 'Retained :'\n        END AS label\n    , COUNT(*) AS users\nFROM label\nWHERE status != ' - '\nGROUP BY 1\n)\n\nSELECT *\nFROM final\nUNION ALL \nSELECT label, users \nFROM wau"
      },
      "outputs": [
        {
          "data": {
            "application/vnd.deepnote.sql-output-metadata+json": {
              "status": "success_no_cache",
              "size_in_bytes": 660
            }
          },
          "metadata": {},
          "output_type": "display_data"
        },
        {
          "output_type": "execute_result",
          "execution_count": 8,
          "data": {
            "application/vnd.deepnote.dataframe.v3+json": {
              "column_count": 2,
              "row_count": 7,
              "columns": [
                {
                  "name": "label",
                  "dtype": "object",
                  "stats": {
                    "unique_count": 7,
                    "nan_count": 0,
                    "categories": [
                      {
                        "name": "Retained :",
                        "count": 1
                      },
                      {
                        "name": "Ressurrect:",
                        "count": 1
                      },
                      {
                        "name": "5 others",
                        "count": 5
                      }
                    ]
                  }
                },
                {
                  "name": "users",
                  "dtype": "int64",
                  "stats": {
                    "unique_count": 7,
                    "nan_count": 0,
                    "min": "6",
                    "max": "60326",
                    "histogram": [
                      {
                        "bin_start": 6,
                        "bin_end": 6038,
                        "count": 3
                      },
                      {
                        "bin_start": 6038,
                        "bin_end": 12070,
                        "count": 0
                      },
                      {
                        "bin_start": 12070,
                        "bin_end": 18102,
                        "count": 0
                      },
                      {
                        "bin_start": 18102,
                        "bin_end": 24134,
                        "count": 0
                      },
                      {
                        "bin_start": 24134,
                        "bin_end": 30166,
                        "count": 0
                      },
                      {
                        "bin_start": 30166,
                        "bin_end": 36198,
                        "count": 0
                      },
                      {
                        "bin_start": 36198,
                        "bin_end": 42230,
                        "count": 0
                      },
                      {
                        "bin_start": 42230,
                        "bin_end": 48262,
                        "count": 0
                      },
                      {
                        "bin_start": 48262,
                        "bin_end": 54294,
                        "count": 0
                      },
                      {
                        "bin_start": 54294,
                        "bin_end": 60326,
                        "count": 4
                      }
                    ]
                  }
                },
                {
                  "name": "_deepnote_index_column",
                  "dtype": "int64"
                }
              ],
              "rows": [
                {
                  "label": "Retained :",
                  "users": 1465,
                  "_deepnote_index_column": 0
                },
                {
                  "label": "Ressurrect:",
                  "users": 58849,
                  "_deepnote_index_column": 1
                },
                {
                  "label": "Churn:",
                  "users": 57321,
                  "_deepnote_index_column": 2
                },
                {
                  "label": "New week 2:",
                  "users": 8,
                  "_deepnote_index_column": 3
                },
                {
                  "label": "New week 1:",
                  "users": 6,
                  "_deepnote_index_column": 4
                },
                {
                  "label": "Total Week 1: ",
                  "users": 58793,
                  "_deepnote_index_column": 5
                },
                {
                  "label": "Total Week 2: ",
                  "users": 60326,
                  "_deepnote_index_column": 6
                }
              ]
            },
            "text/plain": "            label  users\n0      Retained :   1465\n1     Ressurrect:  58849\n2          Churn:  57321\n3     New week 2:      8\n4     New week 1:      6\n5  Total Week 1:   58793\n6  Total Week 2:   60326",
            "text/html": "<div>\n<style scoped>\n    .dataframe tbody tr th:only-of-type {\n        vertical-align: middle;\n    }\n\n    .dataframe tbody tr th {\n        vertical-align: top;\n    }\n\n    .dataframe thead th {\n        text-align: right;\n    }\n</style>\n<table border=\"1\" class=\"dataframe\">\n  <thead>\n    <tr style=\"text-align: right;\">\n      <th></th>\n      <th>label</th>\n      <th>users</th>\n    </tr>\n  </thead>\n  <tbody>\n    <tr>\n      <th>0</th>\n      <td>Retained :</td>\n      <td>1465</td>\n    </tr>\n    <tr>\n      <th>1</th>\n      <td>Ressurrect:</td>\n      <td>58849</td>\n    </tr>\n    <tr>\n      <th>2</th>\n      <td>Churn:</td>\n      <td>57321</td>\n    </tr>\n    <tr>\n      <th>3</th>\n      <td>New week 2:</td>\n      <td>8</td>\n    </tr>\n    <tr>\n      <th>4</th>\n      <td>New week 1:</td>\n      <td>6</td>\n    </tr>\n    <tr>\n      <th>5</th>\n      <td>Total Week 1:</td>\n      <td>58793</td>\n    </tr>\n    <tr>\n      <th>6</th>\n      <td>Total Week 2:</td>\n      <td>60326</td>\n    </tr>\n  </tbody>\n</table>\n</div>"
          },
          "metadata": {}
        }
      ],
      "execution_count": null,
      "block_group": "692668aa90be4c8ea8b0e9e78f825760"
    },
    {
      "cell_type": "markdown",
      "source": "**Weekly Active Users (WAU) Growth Accounting** is a framework used to analyze the dynamics of a product's user base over time. It breaks down the changes in the active user count into several categories:\n\n> **New Users:** There were 4 new users in the first week and 8 new users in the second week.\n> **Retained Users:** 1,464 users were active in both weeks.\n> **Resurrected Users:** 58,849 users were not active in the week of 2023-11-06 but returned in the week of 2023-11-13.\n> **Churned Users:** 57,321 users were active in the week of 2023-11-06 but did not return in the week of 2023-11-13.\n> **Global Growth:** The number of WAUs on 2023-11-06 was 58,790 and on 2023-11-13 it was 60,324, representing a growth of 2.6%.\n\n\nBased on the calculations:\n\n-> The net growth of WAUs from the first week to the second week is 1,533 users.\n-> The churn rate, which is the proportion of users from the first week who did not return in the second week, is approximately 97.50%.\n-> The retention rate, which is the proportion of users from the first week who were still active in the second week, is approximately 2.49%.\n-> The acquisition rate of new users in the first week was approximately 0.01%.\n-> The acquisition rate of new users in the second week was approximately 0.01%.\n\nThese rates provide a mixed picture. The very high churn and resurrection rates suggest either a highly volatile user base or potentially an error in the data. Typically, churn and resurrection rates are much smaller percentages. The retention rate is also very low, indicating that very few users continue to use the product from week to week.\n\nIt would be advisable to review the data sample size and quality, especially the numbers related to resurrected and churned users, as they significantly affect the interpretation of user engagement and product health. ​",
      "metadata": {
        "source_hash": "effbef51",
        "execution_start": 1703247945801,
        "execution_millis": 13,
        "deepnote_app_coordinates": {
          "h": 120,
          "w": 12,
          "x": 0,
          "y": 0
        },
        "deepnote_to_be_reexecuted": false,
        "cell_id": "e3ecfdc41cc5427e8af54600c4490747",
        "deepnote_cell_type": "markdown"
      },
      "block_group": "74b4ae7c08b64d96863111260c17caf6"
    },
    {
      "cell_type": "markdown",
      "source": "### Retention rate",
      "metadata": {
        "formattedRanges": [],
        "deepnote_app_coordinates": {
          "h": 120,
          "w": 12,
          "x": 0,
          "y": 0
        },
        "cell_id": "2921af7016884706acbc45d7e348662e",
        "deepnote_cell_type": "text-cell-h3"
      },
      "block_group": "52085c89f4084e39ac9df3f6cbf5adc6"
    },
    {
      "cell_type": "markdown",
      "source": "> 3. Write a SQL query to calculate the user’s daily retention rate for 7 days. Calculate both Sticky and Cohorted Retention",
      "metadata": {
        "formattedRanges": [],
        "deepnote_app_coordinates": {
          "h": 2,
          "w": 8,
          "x": 0,
          "y": 0
        },
        "cell_id": "f7053cc876444665bedccbd2e2f8705f",
        "deepnote_cell_type": "text-cell-callout"
      },
      "block_group": "43c9354cff2d4157a90ca2447098486d"
    },
    {
      "cell_type": "code",
      "source": "cohort = _deepnote_execute_sql('WITH base AS(\\n    SELECT DISTINCT \\n    e.date_time::date AS date_time\\n    , f.user_skey\\n    , e.session_skey\\n    , f.first_touch::date AS first_touch\\n    , f.session_end::date AS session_end\\n    , DATEDIFF(\\'day\\', f.first_touch, f.session_end) AS cohort_date\\n    , f.session_length\\n    FROM first_session as f\\n    LEFT JOIN events e USING(user_skey)\\n)\\n\\nPIVOT base ON cohort_date \\nUSING COUNT(user_skey)\\nGROUP BY first_touch', 'SQL_DEEPNOTE_DATAFRAME_SQL', audit_sql_comment='', sql_cache_mode='cache_disabled')\ncohort",
      "metadata": {
        "source_hash": "78f0571c",
        "is_code_hidden": true,
        "execution_start": 1704470826906,
        "execution_millis": 672,
        "sql_integration_id": "deepnote-dataframe-sql",
        "deepnote_table_state": {
          "sortBy": [
            {
              "id": "first_touch",
              "type": "asc"
            }
          ],
          "filters": [],
          "pageSize": 10,
          "pageIndex": 0
        },
        "deepnote_table_loading": false,
        "deepnote_variable_name": "cohort",
        "deepnote_app_coordinates": {
          "h": 120,
          "w": 12,
          "x": 0,
          "y": 0
        },
        "deepnote_to_be_reexecuted": true,
        "deepnote_app_is_code_hidden": true,
        "cell_id": "3a1a3fe24a63466698e48b3df5c13453",
        "deepnote_cell_type": "sql",
        "deepnote_sql_source": "WITH base AS(\n    SELECT DISTINCT \n    e.date_time::date AS date_time\n    , f.user_skey\n    , e.session_skey\n    , f.first_touch::date AS first_touch\n    , f.session_end::date AS session_end\n    , DATEDIFF('day', f.first_touch, f.session_end) AS cohort_date\n    , f.session_length\n    FROM first_session as f\n    LEFT JOIN events e USING(user_skey)\n)\n\nPIVOT base ON cohort_date \nUSING COUNT(user_skey)\nGROUP BY first_touch"
      },
      "outputs": [
        {
          "data": {
            "application/vnd.deepnote.sql-output-metadata+json": {
              "status": "success_no_cache",
              "size_in_bytes": 704
            }
          },
          "metadata": {},
          "output_type": "display_data"
        },
        {
          "output_type": "execute_result",
          "execution_count": 9,
          "data": {
            "application/vnd.deepnote.dataframe.v3+json": {
              "column_count": 2,
              "row_count": 12,
              "columns": [
                {
                  "name": "first_touch",
                  "dtype": "object",
                  "stats": {
                    "unique_count": 12,
                    "nan_count": 0,
                    "categories": [
                      {
                        "name": "2023-11-07",
                        "count": 1
                      },
                      {
                        "name": "2023-11-08",
                        "count": 1
                      },
                      {
                        "name": "10 others",
                        "count": 10
                      }
                    ]
                  }
                },
                {
                  "name": "0",
                  "dtype": "int64",
                  "stats": {
                    "unique_count": 8,
                    "nan_count": 0,
                    "min": "46798",
                    "max": "140397",
                    "histogram": [
                      {
                        "bin_start": 46798,
                        "bin_end": 56157.9,
                        "count": 6
                      },
                      {
                        "bin_start": 56157.9,
                        "bin_end": 65517.8,
                        "count": 0
                      },
                      {
                        "bin_start": 65517.8,
                        "bin_end": 74877.7,
                        "count": 0
                      },
                      {
                        "bin_start": 74877.7,
                        "bin_end": 84237.6,
                        "count": 0
                      },
                      {
                        "bin_start": 84237.6,
                        "bin_end": 93597.5,
                        "count": 3
                      },
                      {
                        "bin_start": 93597.5,
                        "bin_end": 102957.4,
                        "count": 1
                      },
                      {
                        "bin_start": 102957.4,
                        "bin_end": 112317.29999999999,
                        "count": 0
                      },
                      {
                        "bin_start": 112317.29999999999,
                        "bin_end": 121677.2,
                        "count": 0
                      },
                      {
                        "bin_start": 121677.2,
                        "bin_end": 131037.09999999999,
                        "count": 0
                      },
                      {
                        "bin_start": 131037.09999999999,
                        "bin_end": 140397,
                        "count": 2
                      }
                    ]
                  }
                },
                {
                  "name": "_deepnote_index_column",
                  "dtype": "int64"
                }
              ],
              "rows": [
                {
                  "0": 46798,
                  "first_touch": "2023-11-07",
                  "_deepnote_index_column": 9
                },
                {
                  "0": 46799,
                  "first_touch": "2023-11-08",
                  "_deepnote_index_column": 10
                },
                {
                  "0": 46800,
                  "first_touch": "2023-11-09",
                  "_deepnote_index_column": 6
                },
                {
                  "0": 140395,
                  "first_touch": "2023-11-11",
                  "_deepnote_index_column": 0
                },
                {
                  "0": 93596,
                  "first_touch": "2023-11-12",
                  "_deepnote_index_column": 4
                },
                {
                  "0": 46798,
                  "first_touch": "2023-11-13",
                  "_deepnote_index_column": 3
                },
                {
                  "0": 93598,
                  "first_touch": "2023-11-14",
                  "_deepnote_index_column": 8
                },
                {
                  "0": 46798,
                  "first_touch": "2023-11-15",
                  "_deepnote_index_column": 1
                },
                {
                  "0": 140397,
                  "first_touch": "2023-11-16",
                  "_deepnote_index_column": 7
                },
                {
                  "0": 46799,
                  "first_touch": "2023-11-17",
                  "_deepnote_index_column": 11
                }
              ]
            },
            "text/plain": "   first_touch       0\n0   2023-11-11  140395\n1   2023-11-15   46798\n2   2023-11-18   93597\n3   2023-11-13   46798\n4   2023-11-12   93596\n5   2023-11-19   93597\n6   2023-11-09   46800\n7   2023-11-16  140397\n8   2023-11-14   93598\n9   2023-11-07   46798\n10  2023-11-08   46799\n11  2023-11-17   46799",
            "text/html": "<div>\n<style scoped>\n    .dataframe tbody tr th:only-of-type {\n        vertical-align: middle;\n    }\n\n    .dataframe tbody tr th {\n        vertical-align: top;\n    }\n\n    .dataframe thead th {\n        text-align: right;\n    }\n</style>\n<table border=\"1\" class=\"dataframe\">\n  <thead>\n    <tr style=\"text-align: right;\">\n      <th></th>\n      <th>first_touch</th>\n      <th>0</th>\n    </tr>\n  </thead>\n  <tbody>\n    <tr>\n      <th>0</th>\n      <td>2023-11-11</td>\n      <td>140395</td>\n    </tr>\n    <tr>\n      <th>1</th>\n      <td>2023-11-15</td>\n      <td>46798</td>\n    </tr>\n    <tr>\n      <th>2</th>\n      <td>2023-11-18</td>\n      <td>93597</td>\n    </tr>\n    <tr>\n      <th>3</th>\n      <td>2023-11-13</td>\n      <td>46798</td>\n    </tr>\n    <tr>\n      <th>4</th>\n      <td>2023-11-12</td>\n      <td>93596</td>\n    </tr>\n    <tr>\n      <th>5</th>\n      <td>2023-11-19</td>\n      <td>93597</td>\n    </tr>\n    <tr>\n      <th>6</th>\n      <td>2023-11-09</td>\n      <td>46800</td>\n    </tr>\n    <tr>\n      <th>7</th>\n      <td>2023-11-16</td>\n      <td>140397</td>\n    </tr>\n    <tr>\n      <th>8</th>\n      <td>2023-11-14</td>\n      <td>93598</td>\n    </tr>\n    <tr>\n      <th>9</th>\n      <td>2023-11-07</td>\n      <td>46798</td>\n    </tr>\n    <tr>\n      <th>10</th>\n      <td>2023-11-08</td>\n      <td>46799</td>\n    </tr>\n    <tr>\n      <th>11</th>\n      <td>2023-11-17</td>\n      <td>46799</td>\n    </tr>\n  </tbody>\n</table>\n</div>"
          },
          "metadata": {}
        }
      ],
      "execution_count": null,
      "block_group": "8e98c3a35ea147d0b712590f68863028"
    },
    {
      "cell_type": "markdown",
      "source": "> Please rewrite the cohort retention insights based on the new cohort table",
      "metadata": {
        "cell_id": "31416f4405b04b258113b2f1ff1412c0",
        "deepnote_cell_type": "text-cell-callout"
      },
      "block_group": "2fe2b23c0efe4b8aaf368b03be7a204c"
    },
    {
      "cell_type": "markdown",
      "source": "\n\nWithout this subsequent data, unfortunately, it's not possible to derive any meaningful insights on user retention.",
      "metadata": {
        "formattedRanges": [],
        "cell_id": "3bf70388f238494db37b5665931cbf36",
        "deepnote_cell_type": "text-cell-p"
      },
      "block_group": "421184680acf43d6b6cc8abd9d30b644"
    },
    {
      "cell_type": "markdown",
      "source": "#### Cohorted Retention Insights\n\nCohorted retention usually displays user retention in the form of a matrix, where each row represents a group of users (cohort) who started using the product during a particular time frame, and each column represents the time (in the unit of day, weeks, months, etc.) since they started.\n\nThe provided cohort table, however, is not conforming to the norms of typical cohort analysis as it only showcases a small range that is not enough to capture the lifecicle of a meaningful sample of interaction with the application. \n\n#### Insights for Sticky Retention\n\nSince the sticky retention is not shown in the new screenshot, I'll assume it relates to the earlier data. The sticky retention rate was around 14.52%, which shows a moderate level of engagement over a weekly period.\n\n#### Actionable Items for Sticky Retention\n\n1. **Increase Engagement**: Work on features or services that can increase weekly engagement, such as weekly challenges, notifications, or updates that give users a reason to return.\n\n2. **Community Building**: Encourage community interaction which can lead to a more engaged and sticky user base.\n\n3. **Product Fit**: Assess whether the product is meeting the ongoing needs of users. Products with high sticky retention typically fit well into the users' routines or provide ongoing value.\n\nIf the data is found to be inaccurate, the first step should be to correct the data collection and reporting processes before drawing further conclusions or undertaking significant strategic changes.",
      "metadata": {
        "deepnote_app_coordinates": {
          "h": 120,
          "w": 12,
          "x": 0,
          "y": 0
        },
        "cell_id": "a58ce4ad1f804db2827850cbcf0014e4",
        "deepnote_cell_type": "markdown"
      },
      "block_group": "4ee03b1aea144665ad07263504d64d91"
    },
    {
      "cell_type": "code",
      "source": "stickiness = _deepnote_execute_sql('WITH daily_users AS (\\n    SELECT \\n        DATE_TRUNC(\\'day\\', date_time) AS day,\\n        COUNT(DISTINCT user_skey) AS dau\\n    FROM events\\n    GROUP BY 1\\n),\\n\\nweekly_users AS (\\n    SELECT\\n        DATE_TRUNC(\\'week\\', date_time) AS week,\\n        COUNT(DISTINCT user_skey) AS wau\\n    FROM events\\n    GROUP BY 1\\n)\\n\\nSELECT\\n    week,\\n    (AVG(dau) / wau *100)::DECIMAL(10,5) || \\' %\\'AS sticky_retention\\nFROM daily_users\\nJOIN weekly_users ON DATE_TRUNC(\\'week\\', day) = week\\nGROUP BY week, wau', 'SQL_DEEPNOTE_DATAFRAME_SQL', audit_sql_comment='', sql_cache_mode='cache_disabled')\nstickiness",
      "metadata": {
        "source_hash": "80a77cda",
        "execution_start": 1704470827585,
        "execution_millis": 102,
        "sql_integration_id": "deepnote-dataframe-sql",
        "deepnote_variable_name": "stickiness",
        "deepnote_app_coordinates": {
          "h": 120,
          "w": 12,
          "x": 0,
          "y": 0
        },
        "deepnote_to_be_reexecuted": true,
        "deepnote_app_is_code_hidden": false,
        "cell_id": "4071a43a15fd4beb9f0a8c259bd10d5d",
        "deepnote_cell_type": "sql",
        "deepnote_sql_source": "WITH daily_users AS (\n    SELECT \n        DATE_TRUNC('day', date_time) AS day,\n        COUNT(DISTINCT user_skey) AS dau\n    FROM events\n    GROUP BY 1\n),\n\nweekly_users AS (\n    SELECT\n        DATE_TRUNC('week', date_time) AS week,\n        COUNT(DISTINCT user_skey) AS wau\n    FROM events\n    GROUP BY 1\n)\n\nSELECT\n    week,\n    (AVG(dau) / wau *100)::DECIMAL(10,5) || ' %'AS sticky_retention\nFROM daily_users\nJOIN weekly_users ON DATE_TRUNC('week', day) = week\nGROUP BY week, wau"
      },
      "outputs": [
        {
          "data": {
            "application/vnd.deepnote.sql-output-metadata+json": {
              "status": "success_no_cache",
              "size_in_bytes": 342
            }
          },
          "metadata": {},
          "output_type": "display_data"
        },
        {
          "output_type": "execute_result",
          "execution_count": 10,
          "data": {
            "application/vnd.deepnote.dataframe.v3+json": {
              "column_count": 2,
              "row_count": 2,
              "columns": [
                {
                  "name": "week",
                  "dtype": "object",
                  "stats": {
                    "unique_count": 2,
                    "nan_count": 0,
                    "categories": [
                      {
                        "name": "2023-11-06",
                        "count": 1
                      },
                      {
                        "name": "2023-11-13",
                        "count": 1
                      }
                    ]
                  }
                },
                {
                  "name": "sticky_retention",
                  "dtype": "object",
                  "stats": {
                    "unique_count": 2,
                    "nan_count": 0,
                    "categories": [
                      {
                        "name": "14.51583 %",
                        "count": 1
                      },
                      {
                        "name": "14.51684 %",
                        "count": 1
                      }
                    ]
                  }
                },
                {
                  "name": "_deepnote_index_column",
                  "dtype": "int64"
                }
              ],
              "rows": [
                {
                  "week": "2023-11-06",
                  "sticky_retention": "14.51583 %",
                  "_deepnote_index_column": 0
                },
                {
                  "week": "2023-11-13",
                  "sticky_retention": "14.51684 %",
                  "_deepnote_index_column": 1
                }
              ]
            },
            "text/plain": "         week sticky_retention\n0  2023-11-06       14.51583 %\n1  2023-11-13       14.51684 %",
            "text/html": "<div>\n<style scoped>\n    .dataframe tbody tr th:only-of-type {\n        vertical-align: middle;\n    }\n\n    .dataframe tbody tr th {\n        vertical-align: top;\n    }\n\n    .dataframe thead th {\n        text-align: right;\n    }\n</style>\n<table border=\"1\" class=\"dataframe\">\n  <thead>\n    <tr style=\"text-align: right;\">\n      <th></th>\n      <th>week</th>\n      <th>sticky_retention</th>\n    </tr>\n  </thead>\n  <tbody>\n    <tr>\n      <th>0</th>\n      <td>2023-11-06</td>\n      <td>14.51583 %</td>\n    </tr>\n    <tr>\n      <th>1</th>\n      <td>2023-11-13</td>\n      <td>14.51684 %</td>\n    </tr>\n  </tbody>\n</table>\n</div>"
          },
          "metadata": {}
        }
      ],
      "execution_count": null,
      "block_group": "d74070e3c37949b591d8e14c2f6a5130"
    },
    {
      "cell_type": "markdown",
      "source": "## Part 2 - User Activity Analysis",
      "metadata": {
        "formattedRanges": [],
        "deepnote_app_coordinates": {
          "h": 120,
          "w": 12,
          "x": 0,
          "y": 0
        },
        "cell_id": "ccf2dee7615f48c5ae71d6b0c10dbb13",
        "deepnote_cell_type": "text-cell-h2"
      },
      "block_group": "a4d4d5ad29524e239a5c289ed59cb7db"
    },
    {
      "cell_type": "markdown",
      "source": "> Please perform an analysis using the dataset provided. The goal is to find insights and suggest action(s) to stakeholders through your findings. Use Python, R, or a similar programming language to generate an analysis that could be shared/reviewed by other analysts.",
      "metadata": {
        "formattedRanges": [],
        "deepnote_app_coordinates": {
          "h": 2,
          "w": 8,
          "x": 0,
          "y": 0
        },
        "cell_id": "bae9ea1ceac64050b33e1e5d291cf611",
        "deepnote_cell_type": "text-cell-callout"
      },
      "block_group": "458e5846aed1430fa02c85e438a91bb2"
    },
    {
      "cell_type": "markdown",
      "source": "#### Analysis focus:\n\n**1. Daily unique users:** Help us understand the daily user engagement, trends and behaviors in the app.\n\n**2. User tendencies over platforms:** Evaluate the proportion of users on different platforms (Apple vs Android).\n> - This analysis can offer a better understanding of user preferences and could guide developers in optimizing the  app experience for particular platforms.\n> - It can help guide the development team to tailor their work to the preference of majority users.\n> - Distinguishing and understanding user preferences across different platforms can help guide the development team > tailor their work to the preference of majority users.\n\n**3. Day of the week influence:** Identifying fluctuations of user engagement throughout the week can assist in timely and targeted marketing campaigns.\n\n**4. Time spent on the app:** Evaluate the time spent on the app across different platforms and provide insights on how to improve the user experience.\n\n#### Insights:\n\n- Promotions or campaigns can be timed to periods of low user engagement to boost usage during these times.\n- If the majority of users prefer one platform over another, consider focusing on enhancing the user experience on that platform.\n- Use engagement patterns to inform future feature developments, updates, and bug fixes.",
      "metadata": {
        "deepnote_app_coordinates": {
          "h": 120,
          "w": 12,
          "x": 0,
          "y": 0
        },
        "cell_id": "80788d43111347c0babbf5049adfb924",
        "deepnote_cell_type": "markdown"
      },
      "block_group": "22a35a01a3384df59bd7da9c1f93cca5"
    },
    {
      "cell_type": "markdown",
      "source": "### Daily unique users",
      "metadata": {
        "formattedRanges": [],
        "deepnote_app_coordinates": {
          "h": 120,
          "w": 12,
          "x": 0,
          "y": 0
        },
        "cell_id": "621b993a034c4a0db84cc0c091a4a68c",
        "deepnote_cell_type": "text-cell-h3"
      },
      "block_group": "7cf6a72e29f541f2a96085465e828367"
    },
    {
      "cell_type": "code",
      "source": "import pandas as pd\n\napps_open_df = apps_open\napps_open_df['date_time'] = pd.to_datetime(apps_open_df['date_time'])\napps_open_df['date_time'] = apps_open_df['date_time'].dt.date\n\nunique_users_per_day = (apps_open_df.groupby([\"date_time\", \"platform\"])[\"user_skey\"].nunique().unstack(level=-1).reset_index())\nunique_users_per_day['android_proportion'] = unique_users_per_day['android'] / (unique_users_per_day['apple'] + unique_users_per_day['android']) * 100\nunique_users_per_day['apple_proportion'] = 100 - unique_users_per_day['android_proportion'] ",
      "metadata": {
        "source_hash": "467c986c",
        "is_code_hidden": false,
        "execution_start": 1704470827702,
        "execution_millis": 113,
        "deepnote_app_coordinates": {
          "h": 120,
          "w": 12,
          "x": 0,
          "y": 0
        },
        "deepnote_to_be_reexecuted": true,
        "deepnote_app_is_code_hidden": true,
        "cell_id": "760b76d43e96473eab2bca6981b80067",
        "deepnote_cell_type": "code"
      },
      "outputs": [],
      "execution_count": null,
      "block_group": "1a9fc59375a94d87b6fe6357384bba25"
    },
    {
      "cell_type": "code",
      "source": "import plotly.subplots as sp\nimport plotly.express as px\n\nfig = sp.make_subplots(rows=1, cols=2, subplot_titles=(\"Number of Daily Active Users by Platform\", \"Proportion of users per day per platform\"), vertical_spacing=0.05)\n\nfig1 = px.line(unique_users_per_day, x='date_time', y=['android', 'apple'])\nfig.add_trace(fig1['data'][0], row=1, col=1)\nfig.add_trace(fig1['data'][1], row=1, col=1)\n\nfig2 = px.area(unique_users_per_day, x='date_time', y=['android_proportion', 'apple_proportion'], title='Proportion of users per day per platform')\nfig.add_trace(fig2['data'][0], row=1, col=2)\nfig.add_trace(fig2['data'][1], row=1, col=2)\n\nfig.update_layout(height=350, width=900, showlegend=False)\nfig.show()",
      "metadata": {
        "source_hash": "41cd2e7f",
        "is_code_hidden": true,
        "execution_start": 1704470827851,
        "execution_millis": 260,
        "deepnote_app_coordinates": {
          "h": 120,
          "w": 12,
          "x": 0,
          "y": 0
        },
        "deepnote_to_be_reexecuted": true,
        "deepnote_app_is_code_hidden": true,
        "cell_id": "ed9634120a684f609411f00072458a03",
        "deepnote_cell_type": "code"
      },
      "outputs": [
        {
          "data": {
            "text/html": "<html>\n<head><meta charset=\"utf-8\" /></head>\n<body>\n    <div>            <script src=\"https://cdnjs.cloudflare.com/ajax/libs/mathjax/2.7.5/MathJax.js?config=TeX-AMS-MML_SVG\"></script><script type=\"text/javascript\">if (window.MathJax && window.MathJax.Hub && window.MathJax.Hub.Config) {window.MathJax.Hub.Config({SVG: {font: \"STIX-Web\"}});}</script>                <script type=\"text/javascript\">window.PlotlyConfig = {MathJaxConfig: 'local'};</script>\n        <script src=\"https://cdn.plot.ly/plotly-2.14.0.min.js\"></script>                <div id=\"3f668d75-de2e-4d7d-9879-42a764399c7f\" class=\"plotly-graph-div\" style=\"height:350px; width:900px;\"></div>            <script type=\"text/javascript\">                                    window.PLOTLYENV=window.PLOTLYENV || {};                                    if (document.getElementById(\"3f668d75-de2e-4d7d-9879-42a764399c7f\")) {                    Plotly.newPlot(                        \"3f668d75-de2e-4d7d-9879-42a764399c7f\",                        [{\"hovertemplate\":\"variable=android<br>date_time=%{x}<br>value=%{y}<extra></extra>\",\"legendgroup\":\"android\",\"line\":{\"color\":\"#636efa\",\"dash\":\"solid\"},\"marker\":{\"symbol\":\"circle\"},\"mode\":\"lines\",\"name\":\"android\",\"orientation\":\"v\",\"showlegend\":true,\"x\":[\"2023-11-06\",\"2023-11-07\",\"2023-11-08\",\"2023-11-09\",\"2023-11-10\",\"2023-11-11\",\"2023-11-12\",\"2023-11-13\",\"2023-11-14\",\"2023-11-15\",\"2023-11-16\",\"2023-11-17\",\"2023-11-18\",\"2023-11-19\"],\"xaxis\":\"x\",\"y\":[5192,5320,5385,5541,5545,5856,6018,5499,5243,5435,5655,5886,5997,6195],\"yaxis\":\"y\",\"type\":\"scatter\"},{\"hovertemplate\":\"variable=apple<br>date_time=%{x}<br>value=%{y}<extra></extra>\",\"legendgroup\":\"apple\",\"line\":{\"color\":\"#EF553B\",\"dash\":\"solid\"},\"marker\":{\"symbol\":\"circle\"},\"mode\":\"lines\",\"name\":\"apple\",\"orientation\":\"v\",\"showlegend\":true,\"x\":[\"2023-11-06\",\"2023-11-07\",\"2023-11-08\",\"2023-11-09\",\"2023-11-10\",\"2023-11-11\",\"2023-11-12\",\"2023-11-13\",\"2023-11-14\",\"2023-11-15\",\"2023-11-16\",\"2023-11-17\",\"2023-11-18\",\"2023-11-19\"],\"xaxis\":\"x\",\"y\":[4189,4183,4234,4113,4374,4586,4619,4425,4009,4209,4300,4535,4474,4658],\"yaxis\":\"y\",\"type\":\"scatter\"},{\"fillpattern\":{\"shape\":\"\"},\"hovertemplate\":\"variable=android_proportion<br>date_time=%{x}<br>value=%{y}<extra></extra>\",\"legendgroup\":\"android_proportion\",\"line\":{\"color\":\"#636efa\"},\"marker\":{\"symbol\":\"circle\"},\"mode\":\"lines\",\"name\":\"android_proportion\",\"orientation\":\"v\",\"showlegend\":true,\"stackgroup\":\"1\",\"x\":[\"2023-11-06\",\"2023-11-07\",\"2023-11-08\",\"2023-11-09\",\"2023-11-10\",\"2023-11-11\",\"2023-11-12\",\"2023-11-13\",\"2023-11-14\",\"2023-11-15\",\"2023-11-16\",\"2023-11-17\",\"2023-11-18\",\"2023-11-19\"],\"xaxis\":\"x2\",\"y\":[55.34591194968554,55.98232137219825,55.98295041064559,57.395898073337484,55.90281278354673,56.08121049607355,56.5761022844787,55.411124546553815,56.66882836143537,56.356283699709664,56.805625313912614,56.48210344496689,57.27246681310285,57.080991430940756],\"yaxis\":\"y2\",\"type\":\"scatter\"},{\"fillpattern\":{\"shape\":\"\"},\"hovertemplate\":\"variable=apple_proportion<br>date_time=%{x}<br>value=%{y}<extra></extra>\",\"legendgroup\":\"apple_proportion\",\"line\":{\"color\":\"#EF553B\"},\"marker\":{\"symbol\":\"circle\"},\"mode\":\"lines\",\"name\":\"apple_proportion\",\"orientation\":\"v\",\"showlegend\":true,\"stackgroup\":\"1\",\"x\":[\"2023-11-06\",\"2023-11-07\",\"2023-11-08\",\"2023-11-09\",\"2023-11-10\",\"2023-11-11\",\"2023-11-12\",\"2023-11-13\",\"2023-11-14\",\"2023-11-15\",\"2023-11-16\",\"2023-11-17\",\"2023-11-18\",\"2023-11-19\"],\"xaxis\":\"x2\",\"y\":[44.65408805031446,44.01767862780175,44.01704958935441,42.604101926662516,44.09718721645327,43.91878950392645,43.4238977155213,44.588875453446185,43.33117163856463,43.643716300290336,43.194374686087386,43.51789655503311,42.72753318689715,42.919008569059244],\"yaxis\":\"y2\",\"type\":\"scatter\"}],                        {\"template\":{\"data\":{\"histogram2dcontour\":[{\"type\":\"histogram2dcontour\",\"colorbar\":{\"outlinewidth\":0,\"ticks\":\"\"},\"colorscale\":[[0.0,\"#0d0887\"],[0.1111111111111111,\"#46039f\"],[0.2222222222222222,\"#7201a8\"],[0.3333333333333333,\"#9c179e\"],[0.4444444444444444,\"#bd3786\"],[0.5555555555555556,\"#d8576b\"],[0.6666666666666666,\"#ed7953\"],[0.7777777777777778,\"#fb9f3a\"],[0.8888888888888888,\"#fdca26\"],[1.0,\"#f0f921\"]]}],\"choropleth\":[{\"type\":\"choropleth\",\"colorbar\":{\"outlinewidth\":0,\"ticks\":\"\"}}],\"histogram2d\":[{\"type\":\"histogram2d\",\"colorbar\":{\"outlinewidth\":0,\"ticks\":\"\"},\"colorscale\":[[0.0,\"#0d0887\"],[0.1111111111111111,\"#46039f\"],[0.2222222222222222,\"#7201a8\"],[0.3333333333333333,\"#9c179e\"],[0.4444444444444444,\"#bd3786\"],[0.5555555555555556,\"#d8576b\"],[0.6666666666666666,\"#ed7953\"],[0.7777777777777778,\"#fb9f3a\"],[0.8888888888888888,\"#fdca26\"],[1.0,\"#f0f921\"]]}],\"heatmap\":[{\"type\":\"heatmap\",\"colorbar\":{\"outlinewidth\":0,\"ticks\":\"\"},\"colorscale\":[[0.0,\"#0d0887\"],[0.1111111111111111,\"#46039f\"],[0.2222222222222222,\"#7201a8\"],[0.3333333333333333,\"#9c179e\"],[0.4444444444444444,\"#bd3786\"],[0.5555555555555556,\"#d8576b\"],[0.6666666666666666,\"#ed7953\"],[0.7777777777777778,\"#fb9f3a\"],[0.8888888888888888,\"#fdca26\"],[1.0,\"#f0f921\"]]}],\"heatmapgl\":[{\"type\":\"heatmapgl\",\"colorbar\":{\"outlinewidth\":0,\"ticks\":\"\"},\"colorscale\":[[0.0,\"#0d0887\"],[0.1111111111111111,\"#46039f\"],[0.2222222222222222,\"#7201a8\"],[0.3333333333333333,\"#9c179e\"],[0.4444444444444444,\"#bd3786\"],[0.5555555555555556,\"#d8576b\"],[0.6666666666666666,\"#ed7953\"],[0.7777777777777778,\"#fb9f3a\"],[0.8888888888888888,\"#fdca26\"],[1.0,\"#f0f921\"]]}],\"contourcarpet\":[{\"type\":\"contourcarpet\",\"colorbar\":{\"outlinewidth\":0,\"ticks\":\"\"}}],\"contour\":[{\"type\":\"contour\",\"colorbar\":{\"outlinewidth\":0,\"ticks\":\"\"},\"colorscale\":[[0.0,\"#0d0887\"],[0.1111111111111111,\"#46039f\"],[0.2222222222222222,\"#7201a8\"],[0.3333333333333333,\"#9c179e\"],[0.4444444444444444,\"#bd3786\"],[0.5555555555555556,\"#d8576b\"],[0.6666666666666666,\"#ed7953\"],[0.7777777777777778,\"#fb9f3a\"],[0.8888888888888888,\"#fdca26\"],[1.0,\"#f0f921\"]]}],\"surface\":[{\"type\":\"surface\",\"colorbar\":{\"outlinewidth\":0,\"ticks\":\"\"},\"colorscale\":[[0.0,\"#0d0887\"],[0.1111111111111111,\"#46039f\"],[0.2222222222222222,\"#7201a8\"],[0.3333333333333333,\"#9c179e\"],[0.4444444444444444,\"#bd3786\"],[0.5555555555555556,\"#d8576b\"],[0.6666666666666666,\"#ed7953\"],[0.7777777777777778,\"#fb9f3a\"],[0.8888888888888888,\"#fdca26\"],[1.0,\"#f0f921\"]]}],\"mesh3d\":[{\"type\":\"mesh3d\",\"colorbar\":{\"outlinewidth\":0,\"ticks\":\"\"}}],\"scatter\":[{\"fillpattern\":{\"fillmode\":\"overlay\",\"size\":10,\"solidity\":0.2},\"type\":\"scatter\"}],\"parcoords\":[{\"type\":\"parcoords\",\"line\":{\"colorbar\":{\"outlinewidth\":0,\"ticks\":\"\"}}}],\"scatterpolargl\":[{\"type\":\"scatterpolargl\",\"marker\":{\"colorbar\":{\"outlinewidth\":0,\"ticks\":\"\"}}}],\"bar\":[{\"error_x\":{\"color\":\"#2a3f5f\"},\"error_y\":{\"color\":\"#2a3f5f\"},\"marker\":{\"line\":{\"color\":\"#E5ECF6\",\"width\":0.5},\"pattern\":{\"fillmode\":\"overlay\",\"size\":10,\"solidity\":0.2}},\"type\":\"bar\"}],\"scattergeo\":[{\"type\":\"scattergeo\",\"marker\":{\"colorbar\":{\"outlinewidth\":0,\"ticks\":\"\"}}}],\"scatterpolar\":[{\"type\":\"scatterpolar\",\"marker\":{\"colorbar\":{\"outlinewidth\":0,\"ticks\":\"\"}}}],\"histogram\":[{\"marker\":{\"pattern\":{\"fillmode\":\"overlay\",\"size\":10,\"solidity\":0.2}},\"type\":\"histogram\"}],\"scattergl\":[{\"type\":\"scattergl\",\"marker\":{\"colorbar\":{\"outlinewidth\":0,\"ticks\":\"\"}}}],\"scatter3d\":[{\"type\":\"scatter3d\",\"line\":{\"colorbar\":{\"outlinewidth\":0,\"ticks\":\"\"}},\"marker\":{\"colorbar\":{\"outlinewidth\":0,\"ticks\":\"\"}}}],\"scattermapbox\":[{\"type\":\"scattermapbox\",\"marker\":{\"colorbar\":{\"outlinewidth\":0,\"ticks\":\"\"}}}],\"scatterternary\":[{\"type\":\"scatterternary\",\"marker\":{\"colorbar\":{\"outlinewidth\":0,\"ticks\":\"\"}}}],\"scattercarpet\":[{\"type\":\"scattercarpet\",\"marker\":{\"colorbar\":{\"outlinewidth\":0,\"ticks\":\"\"}}}],\"carpet\":[{\"aaxis\":{\"endlinecolor\":\"#2a3f5f\",\"gridcolor\":\"white\",\"linecolor\":\"white\",\"minorgridcolor\":\"white\",\"startlinecolor\":\"#2a3f5f\"},\"baxis\":{\"endlinecolor\":\"#2a3f5f\",\"gridcolor\":\"white\",\"linecolor\":\"white\",\"minorgridcolor\":\"white\",\"startlinecolor\":\"#2a3f5f\"},\"type\":\"carpet\"}],\"table\":[{\"cells\":{\"fill\":{\"color\":\"#EBF0F8\"},\"line\":{\"color\":\"white\"}},\"header\":{\"fill\":{\"color\":\"#C8D4E3\"},\"line\":{\"color\":\"white\"}},\"type\":\"table\"}],\"barpolar\":[{\"marker\":{\"line\":{\"color\":\"#E5ECF6\",\"width\":0.5},\"pattern\":{\"fillmode\":\"overlay\",\"size\":10,\"solidity\":0.2}},\"type\":\"barpolar\"}],\"pie\":[{\"automargin\":true,\"type\":\"pie\"}]},\"layout\":{\"autotypenumbers\":\"strict\",\"colorway\":[\"#636efa\",\"#EF553B\",\"#00cc96\",\"#ab63fa\",\"#FFA15A\",\"#19d3f3\",\"#FF6692\",\"#B6E880\",\"#FF97FF\",\"#FECB52\"],\"font\":{\"color\":\"#2a3f5f\"},\"hovermode\":\"closest\",\"hoverlabel\":{\"align\":\"left\"},\"paper_bgcolor\":\"white\",\"plot_bgcolor\":\"#E5ECF6\",\"polar\":{\"bgcolor\":\"#E5ECF6\",\"angularaxis\":{\"gridcolor\":\"white\",\"linecolor\":\"white\",\"ticks\":\"\"},\"radialaxis\":{\"gridcolor\":\"white\",\"linecolor\":\"white\",\"ticks\":\"\"}},\"ternary\":{\"bgcolor\":\"#E5ECF6\",\"aaxis\":{\"gridcolor\":\"white\",\"linecolor\":\"white\",\"ticks\":\"\"},\"baxis\":{\"gridcolor\":\"white\",\"linecolor\":\"white\",\"ticks\":\"\"},\"caxis\":{\"gridcolor\":\"white\",\"linecolor\":\"white\",\"ticks\":\"\"}},\"coloraxis\":{\"colorbar\":{\"outlinewidth\":0,\"ticks\":\"\"}},\"colorscale\":{\"sequential\":[[0.0,\"#0d0887\"],[0.1111111111111111,\"#46039f\"],[0.2222222222222222,\"#7201a8\"],[0.3333333333333333,\"#9c179e\"],[0.4444444444444444,\"#bd3786\"],[0.5555555555555556,\"#d8576b\"],[0.6666666666666666,\"#ed7953\"],[0.7777777777777778,\"#fb9f3a\"],[0.8888888888888888,\"#fdca26\"],[1.0,\"#f0f921\"]],\"sequentialminus\":[[0.0,\"#0d0887\"],[0.1111111111111111,\"#46039f\"],[0.2222222222222222,\"#7201a8\"],[0.3333333333333333,\"#9c179e\"],[0.4444444444444444,\"#bd3786\"],[0.5555555555555556,\"#d8576b\"],[0.6666666666666666,\"#ed7953\"],[0.7777777777777778,\"#fb9f3a\"],[0.8888888888888888,\"#fdca26\"],[1.0,\"#f0f921\"]],\"diverging\":[[0,\"#8e0152\"],[0.1,\"#c51b7d\"],[0.2,\"#de77ae\"],[0.3,\"#f1b6da\"],[0.4,\"#fde0ef\"],[0.5,\"#f7f7f7\"],[0.6,\"#e6f5d0\"],[0.7,\"#b8e186\"],[0.8,\"#7fbc41\"],[0.9,\"#4d9221\"],[1,\"#276419\"]]},\"xaxis\":{\"gridcolor\":\"white\",\"linecolor\":\"white\",\"ticks\":\"\",\"title\":{\"standoff\":15},\"zerolinecolor\":\"white\",\"automargin\":true,\"zerolinewidth\":2},\"yaxis\":{\"gridcolor\":\"white\",\"linecolor\":\"white\",\"ticks\":\"\",\"title\":{\"standoff\":15},\"zerolinecolor\":\"white\",\"automargin\":true,\"zerolinewidth\":2},\"scene\":{\"xaxis\":{\"backgroundcolor\":\"#E5ECF6\",\"gridcolor\":\"white\",\"linecolor\":\"white\",\"showbackground\":true,\"ticks\":\"\",\"zerolinecolor\":\"white\",\"gridwidth\":2},\"yaxis\":{\"backgroundcolor\":\"#E5ECF6\",\"gridcolor\":\"white\",\"linecolor\":\"white\",\"showbackground\":true,\"ticks\":\"\",\"zerolinecolor\":\"white\",\"gridwidth\":2},\"zaxis\":{\"backgroundcolor\":\"#E5ECF6\",\"gridcolor\":\"white\",\"linecolor\":\"white\",\"showbackground\":true,\"ticks\":\"\",\"zerolinecolor\":\"white\",\"gridwidth\":2}},\"shapedefaults\":{\"line\":{\"color\":\"#2a3f5f\"}},\"annotationdefaults\":{\"arrowcolor\":\"#2a3f5f\",\"arrowhead\":0,\"arrowwidth\":1},\"geo\":{\"bgcolor\":\"white\",\"landcolor\":\"#E5ECF6\",\"subunitcolor\":\"white\",\"showland\":true,\"showlakes\":true,\"lakecolor\":\"white\"},\"title\":{\"x\":0.05},\"mapbox\":{\"style\":\"light\"}}},\"xaxis\":{\"anchor\":\"y\",\"domain\":[0.0,0.45]},\"yaxis\":{\"anchor\":\"x\",\"domain\":[0.0,1.0]},\"xaxis2\":{\"anchor\":\"y2\",\"domain\":[0.55,1.0]},\"yaxis2\":{\"anchor\":\"x2\",\"domain\":[0.0,1.0]},\"annotations\":[{\"font\":{\"size\":16},\"showarrow\":false,\"text\":\"Number of Daily Active Users by Platform\",\"x\":0.225,\"xanchor\":\"center\",\"xref\":\"paper\",\"y\":1.0,\"yanchor\":\"bottom\",\"yref\":\"paper\"},{\"font\":{\"size\":16},\"showarrow\":false,\"text\":\"Proportion of users per day per platform\",\"x\":0.775,\"xanchor\":\"center\",\"xref\":\"paper\",\"y\":1.0,\"yanchor\":\"bottom\",\"yref\":\"paper\"}],\"height\":350,\"width\":900,\"showlegend\":false},                        {\"responsive\": true}                    ).then(function(){\n                            \nvar gd = document.getElementById('3f668d75-de2e-4d7d-9879-42a764399c7f');\nvar x = new MutationObserver(function (mutations, observer) {{\n        var display = window.getComputedStyle(gd).display;\n        if (!display || display === 'none') {{\n            console.log([gd, 'removed!']);\n            Plotly.purge(gd);\n            observer.disconnect();\n        }}\n}});\n\n// Listen for the removal of the full notebook cells\nvar notebookContainer = gd.closest('#notebook-container');\nif (notebookContainer) {{\n    x.observe(notebookContainer, {childList: true});\n}}\n\n// Listen for the clearing of the current output cell\nvar outputEl = gd.closest('.output');\nif (outputEl) {{\n    x.observe(outputEl, {childList: true});\n}}\n\n                        })                };                            </script>        </div>\n</body>\n</html>"
          },
          "metadata": {},
          "output_type": "display_data"
        }
      ],
      "execution_count": null,
      "block_group": "4dc77f69a3c1413ca21a28afc174f01d"
    },
    {
      "cell_type": "code",
      "source": "days_order = ['Mon', 'Tue', 'Wed', 'Thu', 'Fri', 'Sat', 'Sun']\n\ndate_week = unique_users_per_day['date_time'].apply(lambda x: pd.Series([x.strftime('%d/%m'), x.strftime('%a'), x.isocalendar().week]))\nuser_sums = unique_users_per_day['apple'] + unique_users_per_day['android']\n\nweekly_mov = pd.concat([date_week, user_sums], axis=1)\nweekly_mov.columns = ['date', 'weekday', 'week_number', 'total']\npivot_table = weekly_mov.pivot(index='weekday', columns='week_number', values='total')\npivot_table = pivot_table.reindex(days_order)\npivot_table.plot()",
      "metadata": {
        "source_hash": "f73d570d",
        "is_code_hidden": true,
        "execution_start": 1704470828159,
        "execution_millis": 250,
        "deepnote_app_coordinates": {
          "h": 120,
          "w": 12,
          "x": 0,
          "y": 0
        },
        "deepnote_to_be_reexecuted": true,
        "deepnote_app_is_code_hidden": true,
        "cell_id": "608876211fb9454c922e37caf4584d14",
        "deepnote_cell_type": "code"
      },
      "outputs": [
        {
          "output_type": "execute_result",
          "execution_count": 13,
          "data": {
            "text/plain": "<AxesSubplot: xlabel='weekday'>"
          },
          "metadata": {}
        },
        {
          "data": {
            "text/plain": "<Figure size 640x480 with 1 Axes>",
            "image/png": "[encoded data removed]"
          },
          "metadata": {
            "image/png": {
              "width": 569,
              "height": 432
            }
          },
          "output_type": "display_data"
        }
      ],
      "execution_count": null,
      "block_group": "2cf15f9a22034e829329a826e9cab543"
    },
    {
      "cell_type": "code",
      "source": "unique_users_per_day.describe()[['android', 'apple']].round(2)",
      "metadata": {
        "source_hash": "8949b821",
        "is_code_hidden": false,
        "execution_start": 1704470828522,
        "execution_millis": 30,
        "deepnote_to_be_reexecuted": true,
        "deepnote_app_is_code_hidden": true,
        "cell_id": "19536068c98b43a98e94266a15ec0c0e",
        "deepnote_cell_type": "code"
      },
      "outputs": [
        {
          "output_type": "execute_result",
          "execution_count": 14,
          "data": {
            "application/vnd.deepnote.dataframe.v3+json": {
              "column_count": 2,
              "row_count": 8,
              "columns": [
                {
                  "name": "android",
                  "dtype": "float64",
                  "stats": {
                    "unique_count": 8,
                    "nan_count": 0,
                    "min": "14.0",
                    "max": "6195.0",
                    "histogram": [
                      {
                        "bin_start": 14,
                        "bin_end": 632.1,
                        "count": 2
                      },
                      {
                        "bin_start": 632.1,
                        "bin_end": 1250.2,
                        "count": 0
                      },
                      {
                        "bin_start": 1250.2,
                        "bin_end": 1868.3000000000002,
                        "count": 0
                      },
                      {
                        "bin_start": 1868.3000000000002,
                        "bin_end": 2486.4,
                        "count": 0
                      },
                      {
                        "bin_start": 2486.4,
                        "bin_end": 3104.5,
                        "count": 0
                      },
                      {
                        "bin_start": 3104.5,
                        "bin_end": 3722.6000000000004,
                        "count": 0
                      },
                      {
                        "bin_start": 3722.6000000000004,
                        "bin_end": 4340.7,
                        "count": 0
                      },
                      {
                        "bin_start": 4340.7,
                        "bin_end": 4958.8,
                        "count": 0
                      },
                      {
                        "bin_start": 4958.8,
                        "bin_end": 5576.900000000001,
                        "count": 3
                      },
                      {
                        "bin_start": 5576.900000000001,
                        "bin_end": 6195,
                        "count": 3
                      }
                    ]
                  }
                },
                {
                  "name": "apple",
                  "dtype": "float64",
                  "stats": {
                    "unique_count": 8,
                    "nan_count": 0,
                    "min": "14.0",
                    "max": "4658.0",
                    "histogram": [
                      {
                        "bin_start": 14,
                        "bin_end": 478.4,
                        "count": 2
                      },
                      {
                        "bin_start": 478.4,
                        "bin_end": 942.8,
                        "count": 0
                      },
                      {
                        "bin_start": 942.8,
                        "bin_end": 1407.1999999999998,
                        "count": 0
                      },
                      {
                        "bin_start": 1407.1999999999998,
                        "bin_end": 1871.6,
                        "count": 0
                      },
                      {
                        "bin_start": 1871.6,
                        "bin_end": 2336,
                        "count": 0
                      },
                      {
                        "bin_start": 2336,
                        "bin_end": 2800.3999999999996,
                        "count": 0
                      },
                      {
                        "bin_start": 2800.3999999999996,
                        "bin_end": 3264.7999999999997,
                        "count": 0
                      },
                      {
                        "bin_start": 3264.7999999999997,
                        "bin_end": 3729.2,
                        "count": 0
                      },
                      {
                        "bin_start": 3729.2,
                        "bin_end": 4193.599999999999,
                        "count": 1
                      },
                      {
                        "bin_start": 4193.599999999999,
                        "bin_end": 4658,
                        "count": 5
                      }
                    ]
                  }
                },
                {
                  "name": "_deepnote_index_column",
                  "dtype": "object"
                }
              ],
              "rows": [
                {
                  "android": 14,
                  "apple": 14,
                  "_deepnote_index_column": "count"
                },
                {
                  "android": 5626.21,
                  "apple": 4350.57,
                  "_deepnote_index_column": "mean"
                },
                {
                  "android": 314.96,
                  "apple": 203.96,
                  "_deepnote_index_column": "std"
                },
                {
                  "android": 5192,
                  "apple": 4009,
                  "_deepnote_index_column": "min"
                },
                {
                  "android": 5397.5,
                  "apple": 4194,
                  "_deepnote_index_column": "25%"
                },
                {
                  "android": 5543,
                  "apple": 4337,
                  "_deepnote_index_column": "50%"
                },
                {
                  "android": 5878.5,
                  "apple": 4519.75,
                  "_deepnote_index_column": "75%"
                },
                {
                  "android": 6195,
                  "apple": 4658,
                  "_deepnote_index_column": "max"
                }
              ]
            },
            "text/plain": "platform  android    apple\ncount       14.00    14.00\nmean      5626.21  4350.57\nstd        314.96   203.96\nmin       5192.00  4009.00\n25%       5397.50  4194.00\n50%       5543.00  4337.00\n75%       5878.50  4519.75\nmax       6195.00  4658.00",
            "text/html": "<div>\n<style scoped>\n    .dataframe tbody tr th:only-of-type {\n        vertical-align: middle;\n    }\n\n    .dataframe tbody tr th {\n        vertical-align: top;\n    }\n\n    .dataframe thead th {\n        text-align: right;\n    }\n</style>\n<table border=\"1\" class=\"dataframe\">\n  <thead>\n    <tr style=\"text-align: right;\">\n      <th>platform</th>\n      <th>android</th>\n      <th>apple</th>\n    </tr>\n  </thead>\n  <tbody>\n    <tr>\n      <th>count</th>\n      <td>14.00</td>\n      <td>14.00</td>\n    </tr>\n    <tr>\n      <th>mean</th>\n      <td>5626.21</td>\n      <td>4350.57</td>\n    </tr>\n    <tr>\n      <th>std</th>\n      <td>314.96</td>\n      <td>203.96</td>\n    </tr>\n    <tr>\n      <th>min</th>\n      <td>5192.00</td>\n      <td>4009.00</td>\n    </tr>\n    <tr>\n      <th>25%</th>\n      <td>5397.50</td>\n      <td>4194.00</td>\n    </tr>\n    <tr>\n      <th>50%</th>\n      <td>5543.00</td>\n      <td>4337.00</td>\n    </tr>\n    <tr>\n      <th>75%</th>\n      <td>5878.50</td>\n      <td>4519.75</td>\n    </tr>\n    <tr>\n      <th>max</th>\n      <td>6195.00</td>\n      <td>4658.00</td>\n    </tr>\n  </tbody>\n</table>\n</div>"
          },
          "metadata": {}
        }
      ],
      "execution_count": null,
      "block_group": "2cf15f9a22034e829329a826e9cab543"
    },
    {
      "cell_type": "markdown",
      "source": "#### Observations\n\n- The standard deviation (a measure of the variability of a set of values) is higher for Android (314.96) compared to Apple (203.96). A higher standard deviation means that the number of daily unique users varies more from day to day on Android than on Apple. \n\n- The minimum and maximum number of daily unique users are also both higher on Android compared to Apple. \n\n- The proportion of users on Android and Apple platforms remain relatively consistent over time, with Android consistently having a higher proportion of users (around 56%) compared to Apple (around 44%).\n\n- There does not seem to be any significant fluctuations or upward/downward trends in the proportions over the time period observed.\n\n- The consistency in the proportion of users across different platforms suggests that user behavior and preferences remain stable over time. \n\n- The higher proportion of Android users indicates that the app is more popular among Android users. This could be due to various reasons such as user experience, app performance, and availability of features.\n\n#### Suggestions:\n\n- While the current user base is more Android-heavy, it is also crucial to not overlook the Apple user base. Dedicating resources on both platforms could improve user experience and potentially draw in more users.\n\n- Given the stable proportion of Android and Apple users, the development team could focus on improving the app’s features and performance on both platforms rather than prioritizing one over another.\n\n- Running promotional campaigns or introducing new features could potentially shift the proportion and increase user base on both platforms. It would be helpful to monitor changes in the proportion, especially after making significant updates to the app.",
      "metadata": {
        "cell_id": "2c4dfbdc610c4b0baf1077280e26730c",
        "deepnote_cell_type": "text-cell-p"
      },
      "block_group": "496b7af243e84bb39eca7535d3b6248e"
    },
    {
      "cell_type": "markdown",
      "source": "#### Observations\n\n- The standard deviation (a measure of the variability of a set of values) is higher for Android (314.96) compared to Apple (203.96). A higher standard deviation means that the number of daily unique users varies more from day to day on Android than on Apple. \n\n- The minimum and maximum number of daily unique users are also both higher on Android compared to Apple. \n\n- The proportion of users on Android and Apple platforms remain relatively consistent over time, with Android consistently having a higher proportion of users (around 56%) compared to Apple (around 44%).\n\n- There does not seem to be any significant fluctuations or upward/downward trends in the proportions over the time period observed.\n\n- The consistency in the proportion of users across different platforms suggests that user behavior and preferences remain stable over time. \n\n- The higher proportion of Android users indicates that the app is more popular among Android users. This could be due to various reasons such as user experience, app performance, and availability of features.",
      "metadata": {
        "deepnote_app_coordinates": {
          "h": 120,
          "w": 12,
          "x": 0,
          "y": 0
        },
        "cell_id": "1f7be011a3004409836a7361d21e5938",
        "deepnote_cell_type": "markdown"
      },
      "block_group": "915b6d61414745baaad86a5786370c0c"
    },
    {
      "cell_type": "markdown",
      "source": "#### Suggestions:\n\n- While the current user base is more Android-heavy, it is also crucial to not overlook the Apple user base. Dedicating resources on both platforms could improve user experience and potentially draw in more users.\n\n- Given the stable proportion of Android and Apple users, the development team could focus on improving the app’s features and performance on both platforms rather than prioritizing one over another.\n\n- Running promotional campaigns or introducing new features could potentially shift the proportion and increase user base on both platforms. It would be helpful to monitor changes in the proportion, especially after making significant updates to the app.",
      "metadata": {
        "deepnote_app_coordinates": {
          "h": 120,
          "w": 12,
          "x": 0,
          "y": 0
        },
        "cell_id": "965225e70abd4d658ae0083942bd5bfa",
        "deepnote_cell_type": "markdown"
      },
      "block_group": "7531b66845d04316808876c238fc18aa"
    },
    {
      "cell_type": "markdown",
      "source": "#### In-app time spent\n\n1. **Distribution and Outliers**: High session lengths with a low amount of events could represent users who leave the app open without interacting with it, while low session lengths might indicate issues that cause users to leave the > app early. \n    > A feature could be introduced to confirm if the user is still active, or the app could automatically close or pause after a certain period of inactivity to save resources. \n    > If session lengths are consistently low for either platform, this suggests an issue that affects user experience. More in-depth user behavior analytics or user feedback could help identify any problem areas or bugs that need to be addressed.\n\n2. **Compare Platforms**: If there are significant differences, this could highlight platform-specific issues or usage patterns.\n\n3. **Trends Over Time**: Evaluate if there are any trends or changes in session length over time. This can provide insights into the impact of updates or changes to the app. \n\n4. **Correlation with Other Factors**: Analyze if session length correlates with other factors like particular events or sources of visitors.\n\n#### Actionable suggestions:\n=====================\n1. **Investigate High Session Lengths**: If there are users who have high session lengths with minimal events, the app could introduce a feature to confirm if the user is still active or to automatically pause/close after a certain period of inactivity. This could save server resources and offer a better user experience.\n\n2. **Investigate Low Session Lengths**: If there are users who consistently have low session lengths, this could indicate a problem with the user experience. User feedback or further analysis could help identify any potential issues or bugs that need to be addressed.\n\n3. **Observe Changes Over Time**: If there are noticeable changes in session length over time following updates or changes to the app, this could inform the impact and success of these changes. For example, if session length increases following a new feature launch, this could suggest the feature was well-received.\n\n4. **Correlate outliers with user source**: If session length is consistently high or low for a specific user source, this could indicate an issue with user acquisition or retention.\n\n4. **Correlation with Other Factors**: If session length correlates with specific events or visitor sources, this can inform user acquisition strategy. For example, if users coming from a certain source tend to have longer sessions, it might be worth investing more in that acquisition channel.",
      "metadata": {
        "deepnote_app_coordinates": {
          "h": 120,
          "w": 12,
          "x": 0,
          "y": 0
        },
        "cell_id": "15fb435159f2411d8663b7a4fa10be54",
        "deepnote_cell_type": "markdown"
      },
      "block_group": "9bf7e02ef1004dc7b846d46494793c82"
    },
    {
      "cell_type": "code",
      "source": "session_lengths = events.groupby(['session_skey','user_skey', 'platform'])['date_time'].agg(['min', 'max']).reset_index() \nsession_lengths['length_minutes'] = (session_lengths['max'] - session_lengths['min']).dt.total_seconds()/60 \nprint(\"In-app time spent: \") \nprint(session_lengths.groupby('platform')['length_minutes'].describe().round(3))",
      "metadata": {
        "source_hash": "ca4a6e94",
        "execution_start": 1704470828866,
        "execution_millis": 690,
        "deepnote_table_state": {
          "sortBy": [
            {
              "id": "session_skey",
              "type": "asc"
            }
          ],
          "filters": [],
          "pageSize": 10,
          "pageIndex": 0
        },
        "deepnote_table_loading": false,
        "deepnote_app_coordinates": {
          "h": 120,
          "w": 12,
          "x": 0,
          "y": 0
        },
        "deepnote_to_be_reexecuted": true,
        "deepnote_app_is_code_hidden": false,
        "cell_id": "05a1fe71a0a74f3f99c632bc1a980421",
        "deepnote_cell_type": "code"
      },
      "outputs": [
        {
          "name": "stdout",
          "text": "In-app time spent: \n             count   mean    std  min    25%    50%    75%       max\nplatform                                                            \nandroid   104783.0  3.399  6.526  0.0  0.112  1.092  3.884   168.152\napple      63442.0  3.281  8.979  0.0  0.134  1.102  3.621  1403.762\n",
          "output_type": "stream"
        }
      ],
      "execution_count": null,
      "block_group": "180607bbdd2c429d9dfdaec539984383"
    },
    {
      "cell_type": "code",
      "source": "# Import necessary library\nimport matplotlib.pyplot as plt\nimport seaborn as sns\n\n# Set plot style\nsns.set(style=\"whitegrid\")\n\n# Create subplots\nfig, axes = plt.subplots(1, 2, figsize=(18, 6))\n\n# Boxplot for Android\nsns.boxplot(ax=axes[0], y=\"length_minutes\", data=session_lengths[session_lengths[\"platform\"] == \"android\"]).set_title('Android Session Lengths')\n\n# Boxplot for Apple\nsns.boxplot(ax=axes[1], y=\"length_minutes\", data=session_lengths[session_lengths[\"platform\"] == \"apple\"]).set_title('Apple Session Lengths')\n\n# Show the plot\nplt.show()",
      "metadata": {
        "source_hash": "be354f9c",
        "execution_start": 1704470829544,
        "execution_millis": 574,
        "deepnote_to_be_reexecuted": true,
        "cell_id": "e19c45fa7a5549109d037b4eda9c45ce",
        "deepnote_cell_type": "code"
      },
      "outputs": [
        {
          "data": {
            "text/plain": "<Figure size 1800x600 with 2 Axes>",
            "image/png": "[encoded data removed]"
          },
          "metadata": {
            "image/png": {
              "width": 1480,
              "height": 504
            }
          },
          "output_type": "display_data"
        }
      ],
      "execution_count": null,
      "block_group": "c217727c3d0941eda0cc13f428f2128c"
    },
    {
      "cell_type": "markdown",
      "source": "\n1. The majority of sessions for both Android and Apple users are quite short, with most sessions being under 20 minutes. However, there are a significant number of outliers stretching as long as approximately 2900 minutes or about 48 hours.\n\n2. This suggests that majority of users engage with the app for short periods, but there are also users who keep the app open for extended periods, possibly even leaving it open in the background unintentionally.\n\nTo evaluate more granular session length patterns and any potential change across different times, we should also investigate session length variation over time.",
      "metadata": {
        "formattedRanges": [],
        "cell_id": "6a561fcb31b34c3fac1fe52303191511",
        "deepnote_cell_type": "text-cell-p"
      },
      "block_group": "ab3b4269459141819dc90351540fe5fb"
    },
    {
      "cell_type": "code",
      "source": "# Resampling the session lengths data by day and calculating mean session length for each platform\nsession_lengths['min'] = pd.to_datetime(session_lengths['min'])\nsession_lengths.set_index('min', inplace=True)\n\n# Resampling and mean calculation\nsession_length_by_day_android = session_lengths[session_lengths['platform']=='android'].resample('D').mean()\nsession_length_by_day_apple = session_lengths[session_lengths['platform']=='apple'].resample('D').mean()\n\n# Resetting index\nsession_length_by_day_android.reset_index(inplace=True)\nsession_length_by_day_apple.reset_index(inplace=True)\n\n# Rename column from 'min' to 'date'\nsession_length_by_day_android.rename(columns={'min': 'date'}, inplace=True)  \nsession_length_by_day_apple.rename(columns={'min': 'date'}, inplace=True)  \n\n# Plotting\nfig, ax = plt.subplots(figsize=(16, 6))\n# Android\nax.plot(session_length_by_day_android['date'], session_length_by_day_android['length_minutes'],\n        marker='o', linestyle='-', label='android')\n# Apple\nax.plot(session_length_by_day_apple['date'], session_length_by_day_apple['length_minutes'],\n        marker='o', linestyle='-', label='apple')\n\nax.set(xlabel=\"Date\", ylabel=\"Average Session Length (minutes)\", title=\"Daily Avg Session Length by Platform\")\nax.legend()\n\nplt.show()",
      "metadata": {
        "source_hash": "98b17d02",
        "execution_start": 1704470830122,
        "execution_millis": 342,
        "deepnote_to_be_reexecuted": true,
        "cell_id": "13c794046cb542a19949f156fe68a013",
        "deepnote_cell_type": "code"
      },
      "outputs": [
        {
          "data": {
            "text/plain": "<Figure size 1600x600 with 1 Axes>",
            "image/png": "[encoded data removed]"
          },
          "metadata": {
            "image/png": {
              "width": 1321,
              "height": 556
            }
          },
          "output_type": "display_data"
        }
      ],
      "execution_count": null,
      "block_group": "fe260e2eddf44fcd84072757f23edf39"
    },
    {
      "cell_type": "markdown",
      "source": "",
      "metadata": {
        "formattedRanges": [],
        "cell_id": "05ff7b3ae85d414193f15776b5b307af",
        "deepnote_cell_type": "text-cell-p"
      },
      "block_group": "09211be3fbeb4496a7c4f7efb05f3d8f"
    },
    {
      "cell_type": "markdown",
      "source": "<a style='text-decoration:none;line-height:16px;display:flex;color:#5B5B62;padding:10px;justify-content:end;' href='https://deepnote.com?utm_source=created-in-deepnote-cell&projectId=ea0dd5ec-7a99-4815-85b5-15ffe4204711' target=\"_blank\">\n<img alt='Created in deepnote.com' style='display:inline;max-height:16px;margin:0px;margin-right:7.5px;' src='data:image/svg+xml;base64,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' > </img>\nCreated in <span style='font-weight:600;margin-left:4px;'>Deepnote</span></a>",
      "metadata": {
        "created_in_deepnote_cell": true,
        "deepnote_cell_type": "markdown"
      }
    }
  ],
  "nbformat": 4,
  "nbformat_minor": 0,
  "metadata": {
    "deepnote_app_clear_outputs": false,
    "deepnote_app_layout": "powerful-article",
    "deepnote_app_table_of_contents_enabled": true,
    "deepnote_app_hide_all_code_blocks_enabled": false,
    "deepnote_app_width": "full-width",
    "deepnote_app_run_on_input_enabled": false,
    "deepnote_notebook_id": "5053d828fe6b46cd8f359d477260fc01",
    "deepnote_execution_queue": []
  }
}