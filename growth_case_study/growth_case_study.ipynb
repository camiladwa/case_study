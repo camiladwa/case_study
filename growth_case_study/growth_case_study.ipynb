{
  "cells": [
    {
      "cell_type": "markdown",
      "source": "# Case Study: Growth",
      "metadata": {
        "is_collapsed": false,
        "formattedRanges": [],
        "deepnote_app_coordinates": {
          "h": 120,
          "w": 12,
          "x": 0,
          "y": 0
        },
        "cell_id": "247604e452ea4ea99c009c973897051c",
        "deepnote_cell_type": "text-cell-h1"
      },
      "block_group": "ca886021ab7f41de83a291e5c4e2ece9"
    },
    {
      "cell_type": "markdown",
      "source": "## Introduction",
      "metadata": {
        "formattedRanges": [],
        "deepnote_app_coordinates": {
          "h": 120,
          "w": 12,
          "x": 0,
          "y": 0
        },
        "cell_id": "0b5801a4d3bc450d83cac90aca275d08",
        "deepnote_cell_type": "text-cell-h2"
      },
      "block_group": "5006d9ef58664dec9d20978150e64c23"
    },
    {
      "cell_type": "markdown",
      "source": "Company A is a popular photo editing product with millions of active users. The Growth Unit is responsible for expanding the user base, increasing user engagement, and retaining users. \nThey are interested in understanding **user behavior and engagement** with its product. Below, a dataset containing user activity data was provided. Your task is to analyze this data and provide **actionable insights** and recommendations to **improve user growth and engagement**. \nIn this task, you will be working with datasets that contain event logs and app open data for a specified period.",
      "metadata": {
        "deepnote_app_coordinates": {
          "h": 120,
          "w": 12,
          "x": 0,
          "y": 0
        },
        "cell_id": "104ffbcb64874518b3fd25e638d0e6e5",
        "deepnote_cell_type": "markdown"
      },
      "block_group": "c9d23aecc1d3419ba210c37ac496e057"
    },
    {
      "cell_type": "markdown",
      "source": "#### Part 1\n1- Write a SQL query to derive the first session funnel per platform from the provided dataset using all available events. The first funnel step is the user’s first app open.\n2- Calculate the WAU Growth Accounting (New, Retained, Resurrected, Churn users) from November 13th to November 19th\n3- Write a SQL query to calculate the user’s daily retention rate for a 7-day period. Calculate both Sticky and Cohorted Retention",
      "metadata": {
        "deepnote_app_coordinates": {
          "h": 120,
          "w": 12,
          "x": 0,
          "y": 0
        },
        "cell_id": "5eacfd3210ae4e279f5dcc7595e2b3d3",
        "deepnote_cell_type": "markdown"
      },
      "block_group": "15a2658be6494c7eaefbd3e888bcd982"
    },
    {
      "cell_type": "markdown",
      "source": "#### Part 2 \n1- Please perform an analysis using the dataset provided. The goal is to find insights and suggest action(s) to stakeholders through your findings. Use Python, R, or a similar programming language to generate an analysis that could be shared/reviewed by other analysts.\n\nExpected output: A memo in a form of Google doc that describes the finding and outlines action items. Additional attachments (spreadsheets, Jupyter notebooks, etc.) only if it is necessary",
      "metadata": {
        "deepnote_app_coordinates": {
          "h": 120,
          "w": 12,
          "x": 0,
          "y": 0
        },
        "cell_id": "3ddba298e4a24c1398460ec012505e1a",
        "deepnote_cell_type": "markdown"
      },
      "block_group": "dc6c5478b4cf480790057bf9a6c51ab8"
    },
    {
      "cell_type": "markdown",
      "source": "## Data Understanding and cleaning",
      "metadata": {
        "is_collapsed": false,
        "formattedRanges": [],
        "deepnote_app_coordinates": {
          "h": 120,
          "w": 12,
          "x": 0,
          "y": 0
        },
        "cell_id": "c6b45fbec97842dc8d7936a147f320f0",
        "deepnote_cell_type": "text-cell-h2"
      },
      "block_group": "3ff01660dc3644e4a2d24d2342d37dd8"
    },
    {
      "cell_type": "markdown",
      "source": "#### App Open \n______________________________________________________",
      "metadata": {
        "deepnote_app_coordinates": {
          "h": 120,
          "w": 12,
          "x": 0,
          "y": 0
        },
        "cell_id": "c418c9a9667d4d56a00631eca5e7542b",
        "deepnote_cell_type": "markdown"
      },
      "block_group": "d9a648fbec7349dfbdbe5f6e351e289c"
    },
    {
      "cell_type": "markdown",
      "source": "| Column        | Data Type         | Description                               | Unique Key|\n| ----------- | ----------- | ----------- | ----------- |\n| timestamp     |TIMESTAMP          |Timestamp when the app was opened          |No|\n| device_skey   |STRING             |Unique identifier for the device           |No|\n| session_skey  |STRING             |Unique identifier for the session          |No|\n| user_skey     |STRING             |Unique identifier for the users            |No|\n| is_first_app_open |BOOLEAN        |Indicator of whether it's the first time app open for the user |No|\n| platform      |STRING             |Platform on which the app was opened (e.g., android, apple) |No|\n| country_code  |STRING             |Country from which the app was opened (e.g., us, de) |No|",
      "metadata": {
        "deepnote_app_coordinates": {
          "h": 120,
          "w": 12,
          "x": 0,
          "y": 0
        },
        "cell_id": "e2a2788446c24af29ebb08f246fbf886",
        "deepnote_cell_type": "markdown"
      },
      "block_group": "2c3ddcbdd7514c00a5bdf8fbf67c60f6"
    },
    {
      "cell_type": "code",
      "source": "apps_open = _deepnote_execute_sql('SELECT \\n    timestamp AS date_time\\n    , device_skey::VARCHAR AS device_skey\\n    , session_skey::VARCHAR AS session_skey\\n    , user_skey::VARCHAR AS user_skey\\n    , is_first_app_open::BOOLEAN AS is_first_app_open\\n    , platform::VARCHAR AS platform\\n    , country_code::VARCHAR AS country_code\\nFROM \\'ps_challanges/growth_case_study/Datasets/App Opens.csv\\'', 'SQL_DEEPNOTE_DATAFRAME_SQL', audit_sql_comment='', sql_cache_mode='cache_disabled')\napps_open",
      "metadata": {
        "source_hash": "5d509def",
        "execution_start": 1704204404859,
        "execution_millis": 1937,
        "sql_integration_id": "deepnote-dataframe-sql",
        "deepnote_table_state": {
          "sortBy": [
            {
              "id": "user_skey",
              "type": "desc"
            }
          ],
          "filters": [
            {
              "id": "is_first_app_open",
              "type": "contains",
              "value": "True"
            }
          ],
          "pageSize": 5,
          "pageIndex": 0
        },
        "deepnote_table_loading": false,
        "deepnote_variable_name": "apps_open",
        "deepnote_app_coordinates": {
          "h": 120,
          "w": 12,
          "x": 0,
          "y": 0
        },
        "deepnote_to_be_reexecuted": false,
        "cell_id": "89f1d443548b40c29cc37a27a5015663",
        "deepnote_cell_type": "sql",
        "deepnote_sql_source": "SELECT \n    timestamp AS date_time\n    , device_skey::VARCHAR AS device_skey\n    , session_skey::VARCHAR AS session_skey\n    , user_skey::VARCHAR AS user_skey\n    , is_first_app_open::BOOLEAN AS is_first_app_open\n    , platform::VARCHAR AS platform\n    , country_code::VARCHAR AS country_code\nFROM 'ps_challanges/growth_case_study/Datasets/App Opens.csv'"
      },
      "outputs": [
        {
          "data": {
            "application/vnd.deepnote.sql-output-metadata+json": {
              "status": "success_no_cache",
              "size_in_bytes": 70500064
            }
          },
          "metadata": {},
          "output_type": "display_data"
        },
        {
          "output_type": "execute_result",
          "execution_count": 1,
          "data": {
            "application/vnd.deepnote.dataframe.v3+json": {
              "column_count": 7,
              "row_count": 4425,
              "columns": [
                {
                  "name": "date_time",
                  "dtype": "datetime64[ns]",
                  "stats": {
                    "unique_count": 4425,
                    "nan_count": 0,
                    "min": "2023-11-06 00:11:18.918000",
                    "max": "2023-11-19 23:55:19.408000",
                    "histogram": [
                      {
                        "bin_start": 1699229478918000000,
                        "bin_end": 1699350342967000000,
                        "count": 375
                      },
                      {
                        "bin_start": 1699350342967000000,
                        "bin_end": 1699471207016000000,
                        "count": 453
                      },
                      {
                        "bin_start": 1699471207016000000,
                        "bin_end": 1699592071065000200,
                        "count": 422
                      },
                      {
                        "bin_start": 1699592071065000200,
                        "bin_end": 1699712935114000100,
                        "count": 398
                      },
                      {
                        "bin_start": 1699712935114000100,
                        "bin_end": 1699833799163000000,
                        "count": 543
                      },
                      {
                        "bin_start": 1699833799163000000,
                        "bin_end": 1699954663212000000,
                        "count": 411
                      },
                      {
                        "bin_start": 1699954663212000000,
                        "bin_end": 1700075527261000000,
                        "count": 473
                      },
                      {
                        "bin_start": 1700075527261000000,
                        "bin_end": 1700196391310000000,
                        "count": 462
                      },
                      {
                        "bin_start": 1700196391310000000,
                        "bin_end": 1700317255359000000,
                        "count": 429
                      },
                      {
                        "bin_start": 1700317255359000000,
                        "bin_end": 1700438119408000000,
                        "count": 459
                      }
                    ]
                  }
                },
                {
                  "name": "device_skey",
                  "dtype": "object",
                  "stats": {
                    "unique_count": 4425,
                    "nan_count": 0,
                    "categories": [
                      {
                        "name": "-219419108119703061",
                        "count": 1
                      },
                      {
                        "name": "1843211631766259474",
                        "count": 1
                      },
                      {
                        "name": "4423 others",
                        "count": 4423
                      }
                    ]
                  }
                },
                {
                  "name": "session_skey",
                  "dtype": "object",
                  "stats": {
                    "unique_count": 4425,
                    "nan_count": 0,
                    "categories": [
                      {
                        "name": "7259017436503423448",
                        "count": 1
                      },
                      {
                        "name": "-2102292311773812227",
                        "count": 1
                      },
                      {
                        "name": "4423 others",
                        "count": 4423
                      }
                    ]
                  }
                },
                {
                  "name": "user_skey",
                  "dtype": "object",
                  "stats": {
                    "unique_count": 3,
                    "nan_count": 0,
                    "categories": [
                      {
                        "name": "3858142552250413010",
                        "count": 3043
                      },
                      {
                        "name": "42",
                        "count": 1381
                      },
                      {
                        "name": "4205643653257450861",
                        "count": 1
                      }
                    ]
                  }
                },
                {
                  "name": "is_first_app_open",
                  "dtype": "bool",
                  "stats": {
                    "unique_count": 1,
                    "nan_count": 0,
                    "categories": [
                      {
                        "name": "True",
                        "count": 4425
                      }
                    ]
                  }
                },
                {
                  "name": "platform",
                  "dtype": "object",
                  "stats": {
                    "unique_count": 2,
                    "nan_count": 0,
                    "categories": [
                      {
                        "name": "android",
                        "count": 3049
                      },
                      {
                        "name": "apple",
                        "count": 1376
                      }
                    ]
                  }
                },
                {
                  "name": "country_code",
                  "dtype": "object",
                  "stats": {
                    "unique_count": 4,
                    "nan_count": 0,
                    "categories": [
                      {
                        "name": "br",
                        "count": 1879
                      },
                      {
                        "name": "vn",
                        "count": 1279
                      },
                      {
                        "name": "2 others",
                        "count": 1267
                      }
                    ]
                  }
                },
                {
                  "name": "_deepnote_index_column",
                  "dtype": "int64"
                }
              ],
              "rows": [
                {
                  "date_time": "2023-11-17 16:56:53.194000",
                  "device_skey": "-219419108119703061",
                  "session_skey": "7259017436503423448",
                  "user_skey": "4205643653257450861",
                  "is_first_app_open": "True",
                  "platform": "android",
                  "country_code": "eg",
                  "_deepnote_index_column": 96861
                },
                {
                  "date_time": "2023-11-11 01:33:18.569000",
                  "device_skey": "1843211631766259474",
                  "session_skey": "-2102292311773812227",
                  "user_skey": "42",
                  "is_first_app_open": "True",
                  "platform": "apple",
                  "country_code": "br",
                  "_deepnote_index_column": 94380
                },
                {
                  "date_time": "2023-11-19 15:00:44.065000",
                  "device_skey": "861173742315430651",
                  "session_skey": "3174565898363853267",
                  "user_skey": "42",
                  "is_first_app_open": "True",
                  "platform": "apple",
                  "country_code": "vn",
                  "_deepnote_index_column": 57174
                },
                {
                  "date_time": "2023-11-19 21:52:07.556000",
                  "device_skey": "-7565847461398925984",
                  "session_skey": "-1934288095834701951",
                  "user_skey": "42",
                  "is_first_app_open": "True",
                  "platform": "apple",
                  "country_code": "br",
                  "_deepnote_index_column": 149441
                },
                {
                  "date_time": "2023-11-14 11:44:52.934000",
                  "device_skey": "7002620687999509625",
                  "session_skey": "-5719122110127951447",
                  "user_skey": "42",
                  "is_first_app_open": "True",
                  "platform": "apple",
                  "country_code": "eg",
                  "_deepnote_index_column": 60933
                }
              ]
            },
            "text/plain": "                     date_time           device_skey          session_skey  \\\n0      2023-11-08 02:07:19.673   7891415701568881512   2011583431778737851   \n1      2023-11-08 06:26:35.953   2841158506866498595   -710585864896703953   \n2      2023-11-08 11:00:09.578   8319180276841915965   8851130170214692120   \n3      2023-11-08 17:03:55.775  -7044717482868540199   2562809385083234043   \n4      2023-11-08 10:09:35.170   8330275025360404105   6269721242185127990   \n...                        ...                   ...                   ...   \n196085 2023-11-15 11:47:15.631  -1985881793666309748   1078423291596019483   \n196086 2023-11-15 15:24:53.931   2134527128238454256  -3747564580958942091   \n196087 2023-11-15 15:31:40.914  -2987017123302243105  -6832478710689874856   \n196088 2023-11-15 20:41:23.133   1438462127647457196  -5384106018072454101   \n196089 2023-11-15 15:52:43.503  -8712802945833965858   8760275016236232166   \n\n                   user_skey  is_first_app_open platform country_code  \n0       -8717167265529084706              False  android           br  \n1        3858142552250413010              False  android           vn  \n2       -6901249382849255824              False    apple           vn  \n3                         42              False    apple           vn  \n4       -8100364697395241128              False  android           de  \n...                      ...                ...      ...          ...  \n196085   3098934470375878848              False  android           br  \n196086  -8099055897267782491              False    apple           br  \n196087  -8250782251817560378              False  android           vn  \n196088    -46678441358607097              False  android           br  \n196089   3858142552250413010              False  android           br  \n\n[196090 rows x 7 columns]",
            "text/html": "<div>\n<style scoped>\n    .dataframe tbody tr th:only-of-type {\n        vertical-align: middle;\n    }\n\n    .dataframe tbody tr th {\n        vertical-align: top;\n    }\n\n    .dataframe thead th {\n        text-align: right;\n    }\n</style>\n<table border=\"1\" class=\"dataframe\">\n  <thead>\n    <tr style=\"text-align: right;\">\n      <th></th>\n      <th>date_time</th>\n      <th>device_skey</th>\n      <th>session_skey</th>\n      <th>user_skey</th>\n      <th>is_first_app_open</th>\n      <th>platform</th>\n      <th>country_code</th>\n    </tr>\n  </thead>\n  <tbody>\n    <tr>\n      <th>0</th>\n      <td>2023-11-08 02:07:19.673</td>\n      <td>7891415701568881512</td>\n      <td>2011583431778737851</td>\n      <td>-8717167265529084706</td>\n      <td>False</td>\n      <td>android</td>\n      <td>br</td>\n    </tr>\n    <tr>\n      <th>1</th>\n      <td>2023-11-08 06:26:35.953</td>\n      <td>2841158506866498595</td>\n      <td>-710585864896703953</td>\n      <td>3858142552250413010</td>\n      <td>False</td>\n      <td>android</td>\n      <td>vn</td>\n    </tr>\n    <tr>\n      <th>2</th>\n      <td>2023-11-08 11:00:09.578</td>\n      <td>8319180276841915965</td>\n      <td>8851130170214692120</td>\n      <td>-6901249382849255824</td>\n      <td>False</td>\n      <td>apple</td>\n      <td>vn</td>\n    </tr>\n    <tr>\n      <th>3</th>\n      <td>2023-11-08 17:03:55.775</td>\n      <td>-7044717482868540199</td>\n      <td>2562809385083234043</td>\n      <td>42</td>\n      <td>False</td>\n      <td>apple</td>\n      <td>vn</td>\n    </tr>\n    <tr>\n      <th>4</th>\n      <td>2023-11-08 10:09:35.170</td>\n      <td>8330275025360404105</td>\n      <td>6269721242185127990</td>\n      <td>-8100364697395241128</td>\n      <td>False</td>\n      <td>android</td>\n      <td>de</td>\n    </tr>\n    <tr>\n      <th>...</th>\n      <td>...</td>\n      <td>...</td>\n      <td>...</td>\n      <td>...</td>\n      <td>...</td>\n      <td>...</td>\n      <td>...</td>\n    </tr>\n    <tr>\n      <th>196085</th>\n      <td>2023-11-15 11:47:15.631</td>\n      <td>-1985881793666309748</td>\n      <td>1078423291596019483</td>\n      <td>3098934470375878848</td>\n      <td>False</td>\n      <td>android</td>\n      <td>br</td>\n    </tr>\n    <tr>\n      <th>196086</th>\n      <td>2023-11-15 15:24:53.931</td>\n      <td>2134527128238454256</td>\n      <td>-3747564580958942091</td>\n      <td>-8099055897267782491</td>\n      <td>False</td>\n      <td>apple</td>\n      <td>br</td>\n    </tr>\n    <tr>\n      <th>196087</th>\n      <td>2023-11-15 15:31:40.914</td>\n      <td>-2987017123302243105</td>\n      <td>-6832478710689874856</td>\n      <td>-8250782251817560378</td>\n      <td>False</td>\n      <td>android</td>\n      <td>vn</td>\n    </tr>\n    <tr>\n      <th>196088</th>\n      <td>2023-11-15 20:41:23.133</td>\n      <td>1438462127647457196</td>\n      <td>-5384106018072454101</td>\n      <td>-46678441358607097</td>\n      <td>False</td>\n      <td>android</td>\n      <td>br</td>\n    </tr>\n    <tr>\n      <th>196089</th>\n      <td>2023-11-15 15:52:43.503</td>\n      <td>-8712802945833965858</td>\n      <td>8760275016236232166</td>\n      <td>3858142552250413010</td>\n      <td>False</td>\n      <td>android</td>\n      <td>br</td>\n    </tr>\n  </tbody>\n</table>\n<p>196090 rows × 7 columns</p>\n</div>"
          },
          "metadata": {}
        }
      ],
      "execution_count": 1,
      "block_group": "2c3ddcbdd7514c00a5bdf8fbf67c60f6"
    },
    {
      "cell_type": "markdown",
      "source": "#### Events\n______________________________________________________\n",
      "metadata": {
        "deepnote_app_coordinates": {
          "h": 120,
          "w": 12,
          "x": 0,
          "y": 0
        },
        "cell_id": "29ec2e43299049268821006685bfc7a9",
        "deepnote_cell_type": "markdown"
      },
      "block_group": "4a1fe3236b544c289c6cc42a5b143231"
    },
    {
      "cell_type": "markdown",
      "source": "| Column| Data Type| Description| Unique Key|\n| ----------- | ----------- | ----------- | ----------- |\nevent_name |STRING |Type of event occurred |No\ntimestamp |TIMESTAMP |Timestamp when the event occurred |No\nevent_skey |STRING |Unique identifier for the event |Yes\ndevice_skey |STRING |Unique identifier for the device |No\nuser_skey |STRING |Unique identifier for the user |No\nsession_skey |STRING |Unique identifier for the session |No\nplatform |STRING |Platform on which the event occurred (e.g., android, apple) |No\nsource |STRING |Source screen from which the event was triggered |No\ncountry_code |STRING |Country from which the app was opened (e.g., us, de) | No",
      "metadata": {
        "deepnote_app_coordinates": {
          "h": 120,
          "w": 12,
          "x": 0,
          "y": 0
        },
        "cell_id": "bcae6db2f3264712862cb42b8afe195f",
        "deepnote_cell_type": "markdown"
      },
      "block_group": "48c17b3905774f0fb4c4206d7f39fc64"
    },
    {
      "cell_type": "code",
      "source": "events = _deepnote_execute_sql('SELECT \\n    event_name::STRING AS event_name\\n    , epoch_ms(timestamp) AS date_time\\n    , event_skey::STRING AS event_skey\\n    , device_skey::STRING AS device_skey\\n    , user_skey::STRING AS user_skey\\n    , session_skey::STRING AS session_skey\\n    , platform::STRING AS platform\\n    , source::STRING AS source\\n    , country_code::STRING AS country_code\\nFROM \\'ps_challanges/growth_case_study/Datasets/Events.csv\\'', 'SQL_DEEPNOTE_DATAFRAME_SQL', audit_sql_comment='', sql_cache_mode='cache_disabled')\nevents",
      "metadata": {
        "source_hash": "ab4fb0ab",
        "is_code_hidden": false,
        "execution_start": 1704204406801,
        "execution_millis": 6149,
        "sql_integration_id": "deepnote-dataframe-sql",
        "deepnote_table_state": {
          "sortBy": [],
          "filters": [],
          "pageSize": 5,
          "pageIndex": 0
        },
        "deepnote_table_loading": false,
        "deepnote_variable_name": "events",
        "deepnote_app_coordinates": {
          "h": 120,
          "w": 12,
          "x": 0,
          "y": 0
        },
        "deepnote_to_be_reexecuted": false,
        "deepnote_app_is_code_hidden": false,
        "cell_id": "f3bc4511775c46c1b2c321200298a415",
        "deepnote_cell_type": "sql",
        "deepnote_sql_source": "SELECT \n    event_name::STRING AS event_name\n    , epoch_ms(timestamp) AS date_time\n    , event_skey::STRING AS event_skey\n    , device_skey::STRING AS device_skey\n    , user_skey::STRING AS user_skey\n    , session_skey::STRING AS session_skey\n    , platform::STRING AS platform\n    , source::STRING AS source\n    , country_code::STRING AS country_code\nFROM 'ps_challanges/growth_case_study/Datasets/Events.csv'"
      },
      "outputs": [
        {
          "data": {
            "application/vnd.deepnote.sql-output-metadata+json": {
              "status": "success_no_cache",
              "size_in_bytes": 435190744
            }
          },
          "metadata": {},
          "output_type": "display_data"
        },
        {
          "output_type": "execute_result",
          "execution_count": 2,
          "data": {
            "application/vnd.deepnote.dataframe.v3+json": {
              "column_count": 9,
              "row_count": 762103,
              "columns": [
                {
                  "name": "event_name",
                  "dtype": "object"
                },
                {
                  "name": "date_time",
                  "dtype": "datetime64[ns]"
                },
                {
                  "name": "event_skey",
                  "dtype": "object"
                },
                {
                  "name": "device_skey",
                  "dtype": "object"
                },
                {
                  "name": "user_skey",
                  "dtype": "object"
                },
                {
                  "name": "session_skey",
                  "dtype": "object"
                },
                {
                  "name": "platform",
                  "dtype": "object"
                },
                {
                  "name": "source",
                  "dtype": "object"
                },
                {
                  "name": "country_code",
                  "dtype": "object"
                },
                {
                  "name": "_deepnote_index_column",
                  "dtype": "int64"
                }
              ],
              "rows": [
                {
                  "event_name": "registration_open",
                  "date_time": "2023-11-11 03:32:05.905000",
                  "event_skey": "-927509160255567445",
                  "device_skey": "-724186991312688217",
                  "user_skey": "null",
                  "session_skey": "5342905048311674142",
                  "platform": "apple",
                  "source": "app_start",
                  "country_code": "vn",
                  "_deepnote_index_column": 0
                },
                {
                  "event_name": "registration_open",
                  "date_time": "2023-11-11 03:16:02.636000",
                  "event_skey": "6726005894254876970",
                  "device_skey": "167579040429311423",
                  "user_skey": "null",
                  "session_skey": "1033335939576521366",
                  "platform": "android",
                  "source": "app_start",
                  "country_code": "vn",
                  "_deepnote_index_column": 1
                },
                {
                  "event_name": "registration_open",
                  "date_time": "2023-11-10 15:18:40.465000",
                  "event_skey": "-2921948449119298022",
                  "device_skey": "-753449636207296314",
                  "user_skey": "null",
                  "session_skey": "7698330632377898188",
                  "platform": "apple",
                  "source": "app_start",
                  "country_code": "vn",
                  "_deepnote_index_column": 2
                },
                {
                  "event_name": "registration_open",
                  "date_time": "2023-11-10 15:46:26.774000",
                  "event_skey": "920368455108193822",
                  "device_skey": "6151555484025284746",
                  "user_skey": "null",
                  "session_skey": "1455590834684669000",
                  "platform": "android",
                  "source": "user_profile",
                  "country_code": "br",
                  "_deepnote_index_column": 3
                },
                {
                  "event_name": "registration_open",
                  "date_time": "2023-11-10 15:46:35.428000",
                  "event_skey": "4301569710999595535",
                  "device_skey": "6151555484025284746",
                  "user_skey": "null",
                  "session_skey": "1455590834684669000",
                  "platform": "android",
                  "source": "user_profile",
                  "country_code": "br",
                  "_deepnote_index_column": 4
                }
              ]
            },
            "text/plain": "               event_name               date_time            event_skey  \\\n0       registration_open 2023-11-11 03:32:05.905   -927509160255567445   \n1       registration_open 2023-11-11 03:16:02.636   6726005894254876970   \n2       registration_open 2023-11-10 15:18:40.465  -2921948449119298022   \n3       registration_open 2023-11-10 15:46:26.774    920368455108193822   \n4       registration_open 2023-11-10 15:46:35.428   4301569710999595535   \n...                   ...                     ...                   ...   \n762098      object_export 2023-11-06 03:19:28.217   8762455078106490544   \n762099      object_export 2023-11-06 03:19:33.857   1236197224848669172   \n762100      object_export 2023-11-06 00:40:15.840  -1128268909705829967   \n762101      object_export 2023-11-06 03:46:08.259  -5041445763328466000   \n762102      object_export 2023-11-06 05:24:32.892  -6986696981001780815   \n\n                 device_skey             user_skey          session_skey  \\\n0        -724186991312688217                  null   5342905048311674142   \n1         167579040429311423                  null   1033335939576521366   \n2        -753449636207296314                  null   7698330632377898188   \n3        6151555484025284746                  null   1455590834684669000   \n4        6151555484025284746                  null   1455590834684669000   \n...                      ...                   ...                   ...   \n762098   -218442561903040844  -7394739150698595004   4931081474184387585   \n762099  -8953068508614011099  -5616148740068329164   1939940093157332532   \n762100   7622198276030932501  -4476277103857062859   -914698409805777184   \n762101  -2972284481220770541   5642301744160861251  -2767914012090684930   \n762102   5063049973356317922  -1673568955619467978   -617241668950774295   \n\n       platform              source country_code  \n0         apple           app_start           vn  \n1       android           app_start           vn  \n2         apple           app_start           vn  \n3       android        user_profile           br  \n4       android        user_profile           br  \n...         ...                 ...          ...  \n762098    apple       editor_screen           vn  \n762099    apple  editor_add_objects           vn  \n762100    apple        share_screen           br  \n762101  android  editor_add_objects           eg  \n762102    apple     editor_beautify           vn  \n\n[762103 rows x 9 columns]",
            "text/html": "<div>\n<style scoped>\n    .dataframe tbody tr th:only-of-type {\n        vertical-align: middle;\n    }\n\n    .dataframe tbody tr th {\n        vertical-align: top;\n    }\n\n    .dataframe thead th {\n        text-align: right;\n    }\n</style>\n<table border=\"1\" class=\"dataframe\">\n  <thead>\n    <tr style=\"text-align: right;\">\n      <th></th>\n      <th>event_name</th>\n      <th>date_time</th>\n      <th>event_skey</th>\n      <th>device_skey</th>\n      <th>user_skey</th>\n      <th>session_skey</th>\n      <th>platform</th>\n      <th>source</th>\n      <th>country_code</th>\n    </tr>\n  </thead>\n  <tbody>\n    <tr>\n      <th>0</th>\n      <td>registration_open</td>\n      <td>2023-11-11 03:32:05.905</td>\n      <td>-927509160255567445</td>\n      <td>-724186991312688217</td>\n      <td>null</td>\n      <td>5342905048311674142</td>\n      <td>apple</td>\n      <td>app_start</td>\n      <td>vn</td>\n    </tr>\n    <tr>\n      <th>1</th>\n      <td>registration_open</td>\n      <td>2023-11-11 03:16:02.636</td>\n      <td>6726005894254876970</td>\n      <td>167579040429311423</td>\n      <td>null</td>\n      <td>1033335939576521366</td>\n      <td>android</td>\n      <td>app_start</td>\n      <td>vn</td>\n    </tr>\n    <tr>\n      <th>2</th>\n      <td>registration_open</td>\n      <td>2023-11-10 15:18:40.465</td>\n      <td>-2921948449119298022</td>\n      <td>-753449636207296314</td>\n      <td>null</td>\n      <td>7698330632377898188</td>\n      <td>apple</td>\n      <td>app_start</td>\n      <td>vn</td>\n    </tr>\n    <tr>\n      <th>3</th>\n      <td>registration_open</td>\n      <td>2023-11-10 15:46:26.774</td>\n      <td>920368455108193822</td>\n      <td>6151555484025284746</td>\n      <td>null</td>\n      <td>1455590834684669000</td>\n      <td>android</td>\n      <td>user_profile</td>\n      <td>br</td>\n    </tr>\n    <tr>\n      <th>4</th>\n      <td>registration_open</td>\n      <td>2023-11-10 15:46:35.428</td>\n      <td>4301569710999595535</td>\n      <td>6151555484025284746</td>\n      <td>null</td>\n      <td>1455590834684669000</td>\n      <td>android</td>\n      <td>user_profile</td>\n      <td>br</td>\n    </tr>\n    <tr>\n      <th>...</th>\n      <td>...</td>\n      <td>...</td>\n      <td>...</td>\n      <td>...</td>\n      <td>...</td>\n      <td>...</td>\n      <td>...</td>\n      <td>...</td>\n      <td>...</td>\n    </tr>\n    <tr>\n      <th>762098</th>\n      <td>object_export</td>\n      <td>2023-11-06 03:19:28.217</td>\n      <td>8762455078106490544</td>\n      <td>-218442561903040844</td>\n      <td>-7394739150698595004</td>\n      <td>4931081474184387585</td>\n      <td>apple</td>\n      <td>editor_screen</td>\n      <td>vn</td>\n    </tr>\n    <tr>\n      <th>762099</th>\n      <td>object_export</td>\n      <td>2023-11-06 03:19:33.857</td>\n      <td>1236197224848669172</td>\n      <td>-8953068508614011099</td>\n      <td>-5616148740068329164</td>\n      <td>1939940093157332532</td>\n      <td>apple</td>\n      <td>editor_add_objects</td>\n      <td>vn</td>\n    </tr>\n    <tr>\n      <th>762100</th>\n      <td>object_export</td>\n      <td>2023-11-06 00:40:15.840</td>\n      <td>-1128268909705829967</td>\n      <td>7622198276030932501</td>\n      <td>-4476277103857062859</td>\n      <td>-914698409805777184</td>\n      <td>apple</td>\n      <td>share_screen</td>\n      <td>br</td>\n    </tr>\n    <tr>\n      <th>762101</th>\n      <td>object_export</td>\n      <td>2023-11-06 03:46:08.259</td>\n      <td>-5041445763328466000</td>\n      <td>-2972284481220770541</td>\n      <td>5642301744160861251</td>\n      <td>-2767914012090684930</td>\n      <td>android</td>\n      <td>editor_add_objects</td>\n      <td>eg</td>\n    </tr>\n    <tr>\n      <th>762102</th>\n      <td>object_export</td>\n      <td>2023-11-06 05:24:32.892</td>\n      <td>-6986696981001780815</td>\n      <td>5063049973356317922</td>\n      <td>-1673568955619467978</td>\n      <td>-617241668950774295</td>\n      <td>apple</td>\n      <td>editor_beautify</td>\n      <td>vn</td>\n    </tr>\n  </tbody>\n</table>\n<p>762103 rows × 9 columns</p>\n</div>"
          },
          "metadata": {}
        }
      ],
      "execution_count": 2,
      "block_group": "48c17b3905774f0fb4c4206d7f39fc64"
    },
    {
      "cell_type": "markdown",
      "source": "#### Visitors\n______________________________________________________",
      "metadata": {
        "deepnote_app_coordinates": {
          "h": 120,
          "w": 12,
          "x": 0,
          "y": 0
        },
        "cell_id": "43a12231368b45b19a44b5ffc56765a9",
        "deepnote_cell_type": "markdown"
      },
      "block_group": "d9eef6e27f634caab05965eafa6d0abe"
    },
    {
      "cell_type": "markdown",
      "source": "| Column| Data Type| Description| Unique Key|\n| ----------- | ----------- | ----------- | ----------- |\n|Date |STRING| Date of visit | yes\nStore Visitors. Source: search | BIGINT |Number of store visitors from the source search |No\nStore Visitors. Source: explore | BIGINT |Number of store visitors from the source explore |No\nStore Visitors. Source: referrals | BIGINT |Number of store visitors from the source referrals |No",
      "metadata": {
        "deepnote_app_coordinates": {
          "h": 120,
          "w": 12,
          "x": 0,
          "y": 0
        },
        "cell_id": "da2fa9618a4f47049ee270a2f23ecd1e",
        "deepnote_cell_type": "markdown"
      },
      "block_group": "81d7a103f59d497d980d3a9bb70c8e11"
    },
    {
      "cell_type": "code",
      "source": "visitors = _deepnote_execute_sql('SELECT \\n    Date::TIMESTAMP_S AS date_time\\n    , \"Store Visitors. Source: search\"::BIGINT AS store_visitors_source_search\\n    , \"Store Visitors. Source: explore\"::BIGINT AS store_visitors_source_explore\\n    , \"Store Visitors. Source: referrals\"::BIGINT AS store_visitors_source_referrals\\nFROM \\'ps_challanges/growth_case_study/Datasets/store_visitors.csv\\'', 'SQL_DEEPNOTE_DATAFRAME_SQL', audit_sql_comment='', sql_cache_mode='cache_disabled')\nvisitors",
      "metadata": {
        "source_hash": "9f386c26",
        "is_code_hidden": false,
        "execution_start": 1704204413094,
        "execution_millis": 331,
        "sql_integration_id": "deepnote-dataframe-sql",
        "deepnote_table_state": {
          "sortBy": [
            {
              "id": "date_time",
              "type": "asc"
            }
          ],
          "filters": [],
          "pageSize": 5,
          "pageIndex": 0
        },
        "deepnote_table_loading": false,
        "deepnote_variable_name": "visitors",
        "deepnote_app_coordinates": {
          "h": 120,
          "w": 12,
          "x": 0,
          "y": 0
        },
        "deepnote_to_be_reexecuted": false,
        "deepnote_app_is_code_hidden": false,
        "cell_id": "8237eea72cbf4d088dbca5f139e5ab9d",
        "deepnote_cell_type": "sql",
        "deepnote_sql_source": "SELECT \n    Date::TIMESTAMP_S AS date_time\n    , \"Store Visitors. Source: search\"::BIGINT AS store_visitors_source_search\n    , \"Store Visitors. Source: explore\"::BIGINT AS store_visitors_source_explore\n    , \"Store Visitors. Source: referrals\"::BIGINT AS store_visitors_source_referrals\nFROM 'ps_challanges/growth_case_study/Datasets/store_visitors.csv'"
      },
      "outputs": [
        {
          "data": {
            "application/vnd.deepnote.sql-output-metadata+json": {
              "status": "success_no_cache",
              "size_in_bytes": 1088
            }
          },
          "metadata": {},
          "output_type": "display_data"
        },
        {
          "output_type": "execute_result",
          "execution_count": 3,
          "data": {
            "application/vnd.deepnote.dataframe.v3+json": {
              "column_count": 4,
              "row_count": 30,
              "columns": [
                {
                  "name": "date_time",
                  "dtype": "datetime64[ns]",
                  "stats": {
                    "unique_count": 30,
                    "nan_count": 0,
                    "min": "2023-11-01 00:00:00",
                    "max": "2023-11-30 00:00:00",
                    "histogram": [
                      {
                        "bin_start": 1698796800000000000,
                        "bin_end": 1699047360000000000,
                        "count": 3
                      },
                      {
                        "bin_start": 1699047360000000000,
                        "bin_end": 1699297920000000000,
                        "count": 3
                      },
                      {
                        "bin_start": 1699297920000000000,
                        "bin_end": 1699548480000000000,
                        "count": 3
                      },
                      {
                        "bin_start": 1699548480000000000,
                        "bin_end": 1699799040000000000,
                        "count": 3
                      },
                      {
                        "bin_start": 1699799040000000000,
                        "bin_end": 1700049600000000000,
                        "count": 3
                      },
                      {
                        "bin_start": 1700049600000000000,
                        "bin_end": 1700300160000000000,
                        "count": 3
                      },
                      {
                        "bin_start": 1700300160000000000,
                        "bin_end": 1700550720000000000,
                        "count": 3
                      },
                      {
                        "bin_start": 1700550720000000000,
                        "bin_end": 1700801280000000000,
                        "count": 3
                      },
                      {
                        "bin_start": 1700801280000000000,
                        "bin_end": 1701051840000000000,
                        "count": 3
                      },
                      {
                        "bin_start": 1701051840000000000,
                        "bin_end": 1701302400000000000,
                        "count": 3
                      }
                    ]
                  }
                },
                {
                  "name": "store_visitors_source_search",
                  "dtype": "int64",
                  "stats": {
                    "unique_count": 13,
                    "nan_count": 0,
                    "min": "1",
                    "max": "852",
                    "histogram": [
                      {
                        "bin_start": 1,
                        "bin_end": 86.1,
                        "count": 26
                      },
                      {
                        "bin_start": 86.1,
                        "bin_end": 171.2,
                        "count": 0
                      },
                      {
                        "bin_start": 171.2,
                        "bin_end": 256.29999999999995,
                        "count": 0
                      },
                      {
                        "bin_start": 256.29999999999995,
                        "bin_end": 341.4,
                        "count": 1
                      },
                      {
                        "bin_start": 341.4,
                        "bin_end": 426.5,
                        "count": 0
                      },
                      {
                        "bin_start": 426.5,
                        "bin_end": 511.59999999999997,
                        "count": 1
                      },
                      {
                        "bin_start": 511.59999999999997,
                        "bin_end": 596.6999999999999,
                        "count": 0
                      },
                      {
                        "bin_start": 596.6999999999999,
                        "bin_end": 681.8,
                        "count": 0
                      },
                      {
                        "bin_start": 681.8,
                        "bin_end": 766.9,
                        "count": 0
                      },
                      {
                        "bin_start": 766.9,
                        "bin_end": 852,
                        "count": 2
                      }
                    ]
                  }
                },
                {
                  "name": "store_visitors_source_explore",
                  "dtype": "int64",
                  "stats": {
                    "unique_count": 18,
                    "nan_count": 0,
                    "min": "2",
                    "max": "663",
                    "histogram": [
                      {
                        "bin_start": 2,
                        "bin_end": 68.1,
                        "count": 29
                      },
                      {
                        "bin_start": 68.1,
                        "bin_end": 134.2,
                        "count": 0
                      },
                      {
                        "bin_start": 134.2,
                        "bin_end": 200.29999999999998,
                        "count": 0
                      },
                      {
                        "bin_start": 200.29999999999998,
                        "bin_end": 266.4,
                        "count": 0
                      },
                      {
                        "bin_start": 266.4,
                        "bin_end": 332.5,
                        "count": 0
                      },
                      {
                        "bin_start": 332.5,
                        "bin_end": 398.59999999999997,
                        "count": 0
                      },
                      {
                        "bin_start": 398.59999999999997,
                        "bin_end": 464.69999999999993,
                        "count": 0
                      },
                      {
                        "bin_start": 464.69999999999993,
                        "bin_end": 530.8,
                        "count": 0
                      },
                      {
                        "bin_start": 530.8,
                        "bin_end": 596.9,
                        "count": 0
                      },
                      {
                        "bin_start": 596.9,
                        "bin_end": 663,
                        "count": 1
                      }
                    ]
                  }
                },
                {
                  "name": "store_visitors_source_referrals",
                  "dtype": "int64",
                  "stats": {
                    "unique_count": 12,
                    "nan_count": 0,
                    "min": "2",
                    "max": "938",
                    "histogram": [
                      {
                        "bin_start": 2,
                        "bin_end": 95.6,
                        "count": 26
                      },
                      {
                        "bin_start": 95.6,
                        "bin_end": 189.2,
                        "count": 0
                      },
                      {
                        "bin_start": 189.2,
                        "bin_end": 282.79999999999995,
                        "count": 0
                      },
                      {
                        "bin_start": 282.79999999999995,
                        "bin_end": 376.4,
                        "count": 1
                      },
                      {
                        "bin_start": 376.4,
                        "bin_end": 470,
                        "count": 1
                      },
                      {
                        "bin_start": 470,
                        "bin_end": 563.5999999999999,
                        "count": 0
                      },
                      {
                        "bin_start": 563.5999999999999,
                        "bin_end": 657.1999999999999,
                        "count": 0
                      },
                      {
                        "bin_start": 657.1999999999999,
                        "bin_end": 750.8,
                        "count": 0
                      },
                      {
                        "bin_start": 750.8,
                        "bin_end": 844.4,
                        "count": 1
                      },
                      {
                        "bin_start": 844.4,
                        "bin_end": 938,
                        "count": 1
                      }
                    ]
                  }
                },
                {
                  "name": "_deepnote_index_column",
                  "dtype": "int64"
                }
              ],
              "rows": [
                {
                  "date_time": "2023-11-01 00:00:00",
                  "store_visitors_source_search": 6,
                  "store_visitors_source_explore": 6,
                  "store_visitors_source_referrals": 5,
                  "_deepnote_index_column": 0
                },
                {
                  "date_time": "2023-11-02 00:00:00",
                  "store_visitors_source_search": 7,
                  "store_visitors_source_explore": 8,
                  "store_visitors_source_referrals": 7,
                  "_deepnote_index_column": 1
                },
                {
                  "date_time": "2023-11-03 00:00:00",
                  "store_visitors_source_search": 3,
                  "store_visitors_source_explore": 3,
                  "store_visitors_source_referrals": 2,
                  "_deepnote_index_column": 2
                },
                {
                  "date_time": "2023-11-04 00:00:00",
                  "store_visitors_source_search": 286,
                  "store_visitors_source_explore": 3,
                  "store_visitors_source_referrals": 3,
                  "_deepnote_index_column": 3
                },
                {
                  "date_time": "2023-11-05 00:00:00",
                  "store_visitors_source_search": 7,
                  "store_visitors_source_explore": 9,
                  "store_visitors_source_referrals": 6,
                  "_deepnote_index_column": 4
                }
              ]
            },
            "text/plain": "    date_time  store_visitors_source_search  store_visitors_source_explore  \\\n0  2023-11-01                             6                              6   \n1  2023-11-02                             7                              8   \n2  2023-11-03                             3                              3   \n3  2023-11-04                           286                              3   \n4  2023-11-05                             7                              9   \n5  2023-11-06                             2                              4   \n6  2023-11-07                             4                              7   \n7  2023-11-08                             1                              3   \n8  2023-11-09                             6                             12   \n9  2023-11-10                             8                             15   \n10 2023-11-11                             4                             13   \n11 2023-11-12                             3                             11   \n12 2023-11-13                             4                             16   \n13 2023-11-14                             6                             26   \n14 2023-11-15                             2                              8   \n15 2023-11-16                             4                             22   \n16 2023-11-17                             3                             10   \n17 2023-11-18                             5                              9   \n18 2023-11-19                             3                              4   \n19 2023-11-20                             3                              5   \n20 2023-11-21                             6                             12   \n21 2023-11-22                           852                             18   \n22 2023-11-23                             3                            663   \n23 2023-11-24                           467                              8   \n24 2023-11-25                             3                              5   \n25 2023-11-26                             6                             12   \n26 2023-11-27                           803                              2   \n27 2023-11-28                             6                             13   \n28 2023-11-29                             3                              6   \n29 2023-11-30                            23                              6   \n\n    store_visitors_source_referrals  \n0                                 5  \n1                                 7  \n2                                 2  \n3                                 3  \n4                                 6  \n5                                 2  \n6                                 4  \n7                                 2  \n8                                 6  \n9                                 7  \n10                                4  \n11                              311  \n12                               54  \n13                                9  \n14                                3  \n15                                7  \n16                                4  \n17                                6  \n18                                3  \n19                                4  \n20                                7  \n21                              938  \n22                                4  \n23                                6  \n24                              379  \n25                                7  \n26                              835  \n27                                5  \n28                                3  \n29                                2  ",
            "text/html": "<div>\n<style scoped>\n    .dataframe tbody tr th:only-of-type {\n        vertical-align: middle;\n    }\n\n    .dataframe tbody tr th {\n        vertical-align: top;\n    }\n\n    .dataframe thead th {\n        text-align: right;\n    }\n</style>\n<table border=\"1\" class=\"dataframe\">\n  <thead>\n    <tr style=\"text-align: right;\">\n      <th></th>\n      <th>date_time</th>\n      <th>store_visitors_source_search</th>\n      <th>store_visitors_source_explore</th>\n      <th>store_visitors_source_referrals</th>\n    </tr>\n  </thead>\n  <tbody>\n    <tr>\n      <th>0</th>\n      <td>2023-11-01</td>\n      <td>6</td>\n      <td>6</td>\n      <td>5</td>\n    </tr>\n    <tr>\n      <th>1</th>\n      <td>2023-11-02</td>\n      <td>7</td>\n      <td>8</td>\n      <td>7</td>\n    </tr>\n    <tr>\n      <th>2</th>\n      <td>2023-11-03</td>\n      <td>3</td>\n      <td>3</td>\n      <td>2</td>\n    </tr>\n    <tr>\n      <th>3</th>\n      <td>2023-11-04</td>\n      <td>286</td>\n      <td>3</td>\n      <td>3</td>\n    </tr>\n    <tr>\n      <th>4</th>\n      <td>2023-11-05</td>\n      <td>7</td>\n      <td>9</td>\n      <td>6</td>\n    </tr>\n    <tr>\n      <th>5</th>\n      <td>2023-11-06</td>\n      <td>2</td>\n      <td>4</td>\n      <td>2</td>\n    </tr>\n    <tr>\n      <th>6</th>\n      <td>2023-11-07</td>\n      <td>4</td>\n      <td>7</td>\n      <td>4</td>\n    </tr>\n    <tr>\n      <th>7</th>\n      <td>2023-11-08</td>\n      <td>1</td>\n      <td>3</td>\n      <td>2</td>\n    </tr>\n    <tr>\n      <th>8</th>\n      <td>2023-11-09</td>\n      <td>6</td>\n      <td>12</td>\n      <td>6</td>\n    </tr>\n    <tr>\n      <th>9</th>\n      <td>2023-11-10</td>\n      <td>8</td>\n      <td>15</td>\n      <td>7</td>\n    </tr>\n    <tr>\n      <th>10</th>\n      <td>2023-11-11</td>\n      <td>4</td>\n      <td>13</td>\n      <td>4</td>\n    </tr>\n    <tr>\n      <th>11</th>\n      <td>2023-11-12</td>\n      <td>3</td>\n      <td>11</td>\n      <td>311</td>\n    </tr>\n    <tr>\n      <th>12</th>\n      <td>2023-11-13</td>\n      <td>4</td>\n      <td>16</td>\n      <td>54</td>\n    </tr>\n    <tr>\n      <th>13</th>\n      <td>2023-11-14</td>\n      <td>6</td>\n      <td>26</td>\n      <td>9</td>\n    </tr>\n    <tr>\n      <th>14</th>\n      <td>2023-11-15</td>\n      <td>2</td>\n      <td>8</td>\n      <td>3</td>\n    </tr>\n    <tr>\n      <th>15</th>\n      <td>2023-11-16</td>\n      <td>4</td>\n      <td>22</td>\n      <td>7</td>\n    </tr>\n    <tr>\n      <th>16</th>\n      <td>2023-11-17</td>\n      <td>3</td>\n      <td>10</td>\n      <td>4</td>\n    </tr>\n    <tr>\n      <th>17</th>\n      <td>2023-11-18</td>\n      <td>5</td>\n      <td>9</td>\n      <td>6</td>\n    </tr>\n    <tr>\n      <th>18</th>\n      <td>2023-11-19</td>\n      <td>3</td>\n      <td>4</td>\n      <td>3</td>\n    </tr>\n    <tr>\n      <th>19</th>\n      <td>2023-11-20</td>\n      <td>3</td>\n      <td>5</td>\n      <td>4</td>\n    </tr>\n    <tr>\n      <th>20</th>\n      <td>2023-11-21</td>\n      <td>6</td>\n      <td>12</td>\n      <td>7</td>\n    </tr>\n    <tr>\n      <th>21</th>\n      <td>2023-11-22</td>\n      <td>852</td>\n      <td>18</td>\n      <td>938</td>\n    </tr>\n    <tr>\n      <th>22</th>\n      <td>2023-11-23</td>\n      <td>3</td>\n      <td>663</td>\n      <td>4</td>\n    </tr>\n    <tr>\n      <th>23</th>\n      <td>2023-11-24</td>\n      <td>467</td>\n      <td>8</td>\n      <td>6</td>\n    </tr>\n    <tr>\n      <th>24</th>\n      <td>2023-11-25</td>\n      <td>3</td>\n      <td>5</td>\n      <td>379</td>\n    </tr>\n    <tr>\n      <th>25</th>\n      <td>2023-11-26</td>\n      <td>6</td>\n      <td>12</td>\n      <td>7</td>\n    </tr>\n    <tr>\n      <th>26</th>\n      <td>2023-11-27</td>\n      <td>803</td>\n      <td>2</td>\n      <td>835</td>\n    </tr>\n    <tr>\n      <th>27</th>\n      <td>2023-11-28</td>\n      <td>6</td>\n      <td>13</td>\n      <td>5</td>\n    </tr>\n    <tr>\n      <th>28</th>\n      <td>2023-11-29</td>\n      <td>3</td>\n      <td>6</td>\n      <td>3</td>\n    </tr>\n    <tr>\n      <th>29</th>\n      <td>2023-11-30</td>\n      <td>23</td>\n      <td>6</td>\n      <td>2</td>\n    </tr>\n  </tbody>\n</table>\n</div>"
          },
          "metadata": {}
        }
      ],
      "execution_count": 3,
      "block_group": "81d7a103f59d497d980d3a9bb70c8e11"
    },
    {
      "cell_type": "code",
      "source": "import pandas as pd\nimport plotly.graph_objects as go",
      "metadata": {
        "source_hash": "11d115a9",
        "execution_start": 1704204413470,
        "execution_millis": 8,
        "deepnote_app_coordinates": {
          "h": 120,
          "w": 12,
          "x": 0,
          "y": 0
        },
        "deepnote_to_be_reexecuted": false,
        "cell_id": "410ad9463d014705b0fc2cb971688ddc",
        "deepnote_cell_type": "code"
      },
      "outputs": [],
      "execution_count": 4,
      "block_group": "db73ccf2ad97413589ca98583413df48"
    },
    {
      "cell_type": "markdown",
      "source": "## Part 1 - SQL",
      "metadata": {
        "formattedRanges": [],
        "deepnote_app_coordinates": {
          "h": 120,
          "w": 12,
          "x": 0,
          "y": 0
        },
        "cell_id": "2122383b41594fe18910b9ac1c0ff143",
        "deepnote_cell_type": "text-cell-h2"
      },
      "block_group": "d6367bb00e2340f094a33ecc7ebdb59f"
    },
    {
      "cell_type": "markdown",
      "source": "> 1- Write an SQL query to derive the first session funnel per platform from the provided dataset using all available events. The first funnel step is the user’s first app open.",
      "metadata": {
        "formattedRanges": [],
        "deepnote_app_coordinates": {
          "h": 2,
          "w": 8,
          "x": 0,
          "y": 0
        },
        "cell_id": "8652ad7eaaa8431c8f12e481d0ef1780",
        "deepnote_cell_type": "text-cell-callout"
      },
      "block_group": "bd4ee5ce946548b1bb967ba3469d04d4"
    },
    {
      "cell_type": "code",
      "source": "clean = _deepnote_execute_sql('--- Get the events for the specified sessions\\nWITH events_session AS (\\n    SELECT\\n        -- session_skey\\n        -- , first_session.first_touch\\n         events.date_time\\n        , apps_open.platform\\n        , apps_open.user_skey\\n        , events.event_name\\n        , FIRST(apps_open.date_time) OVER (PARTITION BY apps_open.user_skey, apps_open.platform ORDER BY apps_open.date_time DESC) AS first_touch\\n        , FIRST(events.session_skey) OVER (PARTITION BY apps_open.user_skey, apps_open.platform ORDER BY events.date_time DESC) AS session_skey\\n        , LAG(events.event_name) OVER (PARTITION BY events.session_skey ORDER BY events.date_time) AS prev_event\\n    FROM apps_open\\n    LEFT JOIN events ON apps_open.session_skey = events.session_skey \\n    AND date_trunc(\\'week\\', apps_open.date_time) = date_trunc(\\'week\\', events.date_time)\\n    AND apps_open.device_skey = events.device_skey\\n)\\n\\n--- Exclude events that occur before the first app open or repeated in a small time interval\\n, ranked AS (\\n    SELECT     \\n        session_skey\\n        , date_time\\n        , prev_event\\n        , user_skey\\n        , platform\\n        , event_name\\n        , RANK() OVER (PARTITION BY session_skey, user_skey ORDER BY date_time) AS funnel_step\\n    FROM events_session\\n    WHERE (prev_event != event_name OR prev_event IS NULL) \\n    AND date_time >= first_touch\\n)\\n\\n--- Label the funnel steps\\n, labeled AS (\\n    SELECT \\n        session_skey AS user_session\\n        , date_time\\n        , platform\\n        , event_name\\n        , funnel_step\\n    FROM ranked\\n    WHERE funnel_step < 6\\n)\\n\\nSELECT * FROM labeled', 'SQL_DEEPNOTE_DATAFRAME_SQL', audit_sql_comment='', sql_cache_mode='cache_disabled')\nclean",
      "metadata": {
        "source_hash": "89f4577b",
        "is_code_hidden": true,
        "execution_start": 1704204413471,
        "execution_millis": 806,
        "is_output_hidden": true,
        "sql_integration_id": "deepnote-dataframe-sql",
        "deepnote_table_state": {
          "sortBy": [],
          "filters": [],
          "pageSize": 5,
          "pageIndex": 0
        },
        "deepnote_table_loading": false,
        "deepnote_variable_name": "clean",
        "deepnote_app_coordinates": {
          "h": 120,
          "w": 12,
          "x": 0,
          "y": 0
        },
        "deepnote_to_be_reexecuted": false,
        "deepnote_app_is_code_hidden": true,
        "deepnote_app_is_output_hidden": true,
        "cell_id": "86f7e46d849a402c8f82bf40318d0a42",
        "deepnote_cell_type": "sql",
        "deepnote_sql_source": "--- Get the events for the specified sessions\nWITH events_session AS (\n    SELECT\n        -- session_skey\n        -- , first_session.first_touch\n         events.date_time\n        , apps_open.platform\n        , apps_open.user_skey\n        , events.event_name\n        , FIRST(apps_open.date_time) OVER (PARTITION BY apps_open.user_skey, apps_open.platform ORDER BY apps_open.date_time DESC) AS first_touch\n        , FIRST(events.session_skey) OVER (PARTITION BY apps_open.user_skey, apps_open.platform ORDER BY events.date_time DESC) AS session_skey\n        , LAG(events.event_name) OVER (PARTITION BY events.session_skey ORDER BY events.date_time) AS prev_event\n    FROM apps_open\n    LEFT JOIN events ON apps_open.session_skey = events.session_skey \n    AND date_trunc('week', apps_open.date_time) = date_trunc('week', events.date_time)\n    AND apps_open.device_skey = events.device_skey\n)\n\n--- Exclude events that occur before the first app open or repeated in a small time interval\n, ranked AS (\n    SELECT     \n        session_skey\n        , date_time\n        , prev_event\n        , user_skey\n        , platform\n        , event_name\n        , RANK() OVER (PARTITION BY session_skey, user_skey ORDER BY date_time) AS funnel_step\n    FROM events_session\n    WHERE (prev_event != event_name OR prev_event IS NULL) \n    AND date_time >= first_touch\n)\n\n--- Label the funnel steps\n, labeled AS (\n    SELECT \n        session_skey AS user_session\n        , date_time\n        , platform\n        , event_name\n        , funnel_step\n    FROM ranked\n    WHERE funnel_step < 6\n)\n\nSELECT * FROM labeled"
      },
      "outputs": [
        {
          "data": {
            "application/vnd.deepnote.sql-output-metadata+json": {
              "status": "success_no_cache",
              "size_in_bytes": 386236
            }
          },
          "metadata": {},
          "output_type": "display_data"
        },
        {
          "output_type": "execute_result",
          "execution_count": 5,
          "data": {
            "application/vnd.deepnote.dataframe.v3+json": {
              "column_count": 5,
              "row_count": 1701,
              "columns": [
                {
                  "name": "user_session",
                  "dtype": "object",
                  "stats": {
                    "unique_count": 556,
                    "nan_count": 0,
                    "categories": [
                      {
                        "name": "-3665096084789243476",
                        "count": 5
                      },
                      {
                        "name": "-3666067915296314441",
                        "count": 5
                      },
                      {
                        "name": "554 others",
                        "count": 1691
                      }
                    ]
                  }
                },
                {
                  "name": "date_time",
                  "dtype": "datetime64[ns]",
                  "stats": {
                    "unique_count": 1701,
                    "nan_count": 0,
                    "min": "2023-11-06 01:24:07.236000",
                    "max": "2023-11-19 23:59:34.060000",
                    "histogram": [
                      {
                        "bin_start": 1699233847236000000,
                        "bin_end": 1699354299918400000,
                        "count": 141
                      },
                      {
                        "bin_start": 1699354299918400000,
                        "bin_end": 1699474752600800000,
                        "count": 139
                      },
                      {
                        "bin_start": 1699474752600800000,
                        "bin_end": 1699595205283200000,
                        "count": 167
                      },
                      {
                        "bin_start": 1699595205283200000,
                        "bin_end": 1699715657965600000,
                        "count": 187
                      },
                      {
                        "bin_start": 1699715657965600000,
                        "bin_end": 1699836110648000000,
                        "count": 229
                      },
                      {
                        "bin_start": 1699836110648000000,
                        "bin_end": 1699956563330400000,
                        "count": 145
                      },
                      {
                        "bin_start": 1699956563330400000,
                        "bin_end": 1700077016012800000,
                        "count": 131
                      },
                      {
                        "bin_start": 1700077016012800000,
                        "bin_end": 1700197468695200000,
                        "count": 142
                      },
                      {
                        "bin_start": 1700197468695200000,
                        "bin_end": 1700317921377600000,
                        "count": 190
                      },
                      {
                        "bin_start": 1700317921377600000,
                        "bin_end": 1700438374060000000,
                        "count": 230
                      }
                    ]
                  }
                },
                {
                  "name": "platform",
                  "dtype": "object",
                  "stats": {
                    "unique_count": 2,
                    "nan_count": 0,
                    "categories": [
                      {
                        "name": "apple",
                        "count": 866
                      },
                      {
                        "name": "android",
                        "count": 835
                      }
                    ]
                  }
                },
                {
                  "name": "event_name",
                  "dtype": "object",
                  "stats": {
                    "unique_count": 7,
                    "nan_count": 0,
                    "categories": [
                      {
                        "name": "editor_open",
                        "count": 576
                      },
                      {
                        "name": "create_flow_open",
                        "count": 468
                      },
                      {
                        "name": "5 others",
                        "count": 657
                      }
                    ]
                  }
                },
                {
                  "name": "funnel_step",
                  "dtype": "int64",
                  "stats": {
                    "unique_count": 5,
                    "nan_count": 0,
                    "min": "1",
                    "max": "5",
                    "histogram": [
                      {
                        "bin_start": 1,
                        "bin_end": 1.4,
                        "count": 556
                      },
                      {
                        "bin_start": 1.4,
                        "bin_end": 1.8,
                        "count": 0
                      },
                      {
                        "bin_start": 1.8,
                        "bin_end": 2.2,
                        "count": 464
                      },
                      {
                        "bin_start": 2.2,
                        "bin_end": 2.6,
                        "count": 0
                      },
                      {
                        "bin_start": 2.6,
                        "bin_end": 3,
                        "count": 0
                      },
                      {
                        "bin_start": 3,
                        "bin_end": 3.4000000000000004,
                        "count": 344
                      },
                      {
                        "bin_start": 3.4000000000000004,
                        "bin_end": 3.8000000000000003,
                        "count": 0
                      },
                      {
                        "bin_start": 3.8000000000000003,
                        "bin_end": 4.2,
                        "count": 222
                      },
                      {
                        "bin_start": 4.2,
                        "bin_end": 4.6,
                        "count": 0
                      },
                      {
                        "bin_start": 4.6,
                        "bin_end": 5,
                        "count": 115
                      }
                    ]
                  }
                },
                {
                  "name": "_deepnote_index_column",
                  "dtype": "int64"
                }
              ],
              "rows": [
                {
                  "user_session": "-1162701704687308763",
                  "date_time": "2023-11-08 04:41:59.097000",
                  "platform": "android",
                  "event_name": "object_export",
                  "funnel_step": 1,
                  "_deepnote_index_column": 0
                },
                {
                  "user_session": "-1162701704687308763",
                  "date_time": "2023-11-08 04:42:10.125000",
                  "platform": "android",
                  "event_name": "editor_open",
                  "funnel_step": 2,
                  "_deepnote_index_column": 1
                },
                {
                  "user_session": "-3665096084789243476",
                  "date_time": "2023-11-15 00:23:05.718000",
                  "platform": "apple",
                  "event_name": "create_flow_open",
                  "funnel_step": 1,
                  "_deepnote_index_column": 2
                },
                {
                  "user_session": "-3665096084789243476",
                  "date_time": "2023-11-15 00:23:06.020000",
                  "platform": "apple",
                  "event_name": "editor_open",
                  "funnel_step": 2,
                  "_deepnote_index_column": 3
                },
                {
                  "user_session": "-3665096084789243476",
                  "date_time": "2023-11-15 00:28:19.642000",
                  "platform": "apple",
                  "event_name": "subscription_offer_open",
                  "funnel_step": 3,
                  "_deepnote_index_column": 4
                }
              ]
            },
            "text/plain": "              user_session               date_time platform  \\\n0     -1162701704687308763 2023-11-08 04:41:59.097  android   \n1     -1162701704687308763 2023-11-08 04:42:10.125  android   \n2     -3665096084789243476 2023-11-15 00:23:05.718    apple   \n3     -3665096084789243476 2023-11-15 00:23:06.020    apple   \n4     -3665096084789243476 2023-11-15 00:28:19.642    apple   \n...                    ...                     ...      ...   \n1696   8550641113823742791 2023-11-18 01:40:34.765  android   \n1697   8550641113823742791 2023-11-18 01:40:37.975  android   \n1698   8550641113823742791 2023-11-18 01:40:41.972  android   \n1699   8550641113823742791 2023-11-18 01:40:47.259  android   \n1700   8880685474964720124 2023-11-16 23:59:09.519  android   \n\n                   event_name  funnel_step  \n0               object_export            1  \n1                 editor_open            2  \n2            create_flow_open            1  \n3                 editor_open            2  \n4     subscription_offer_open            3  \n...                       ...          ...  \n1696         create_flow_open            1  \n1697  subscription_offer_open            2  \n1698              editor_open            3  \n1699  subscription_offer_open            4  \n1700            object_export            1  \n\n[1701 rows x 5 columns]",
            "text/html": "<div>\n<style scoped>\n    .dataframe tbody tr th:only-of-type {\n        vertical-align: middle;\n    }\n\n    .dataframe tbody tr th {\n        vertical-align: top;\n    }\n\n    .dataframe thead th {\n        text-align: right;\n    }\n</style>\n<table border=\"1\" class=\"dataframe\">\n  <thead>\n    <tr style=\"text-align: right;\">\n      <th></th>\n      <th>user_session</th>\n      <th>date_time</th>\n      <th>platform</th>\n      <th>event_name</th>\n      <th>funnel_step</th>\n    </tr>\n  </thead>\n  <tbody>\n    <tr>\n      <th>0</th>\n      <td>-1162701704687308763</td>\n      <td>2023-11-08 04:41:59.097</td>\n      <td>android</td>\n      <td>object_export</td>\n      <td>1</td>\n    </tr>\n    <tr>\n      <th>1</th>\n      <td>-1162701704687308763</td>\n      <td>2023-11-08 04:42:10.125</td>\n      <td>android</td>\n      <td>editor_open</td>\n      <td>2</td>\n    </tr>\n    <tr>\n      <th>2</th>\n      <td>-3665096084789243476</td>\n      <td>2023-11-15 00:23:05.718</td>\n      <td>apple</td>\n      <td>create_flow_open</td>\n      <td>1</td>\n    </tr>\n    <tr>\n      <th>3</th>\n      <td>-3665096084789243476</td>\n      <td>2023-11-15 00:23:06.020</td>\n      <td>apple</td>\n      <td>editor_open</td>\n      <td>2</td>\n    </tr>\n    <tr>\n      <th>4</th>\n      <td>-3665096084789243476</td>\n      <td>2023-11-15 00:28:19.642</td>\n      <td>apple</td>\n      <td>subscription_offer_open</td>\n      <td>3</td>\n    </tr>\n    <tr>\n      <th>...</th>\n      <td>...</td>\n      <td>...</td>\n      <td>...</td>\n      <td>...</td>\n      <td>...</td>\n    </tr>\n    <tr>\n      <th>1696</th>\n      <td>8550641113823742791</td>\n      <td>2023-11-18 01:40:34.765</td>\n      <td>android</td>\n      <td>create_flow_open</td>\n      <td>1</td>\n    </tr>\n    <tr>\n      <th>1697</th>\n      <td>8550641113823742791</td>\n      <td>2023-11-18 01:40:37.975</td>\n      <td>android</td>\n      <td>subscription_offer_open</td>\n      <td>2</td>\n    </tr>\n    <tr>\n      <th>1698</th>\n      <td>8550641113823742791</td>\n      <td>2023-11-18 01:40:41.972</td>\n      <td>android</td>\n      <td>editor_open</td>\n      <td>3</td>\n    </tr>\n    <tr>\n      <th>1699</th>\n      <td>8550641113823742791</td>\n      <td>2023-11-18 01:40:47.259</td>\n      <td>android</td>\n      <td>subscription_offer_open</td>\n      <td>4</td>\n    </tr>\n    <tr>\n      <th>1700</th>\n      <td>8880685474964720124</td>\n      <td>2023-11-16 23:59:09.519</td>\n      <td>android</td>\n      <td>object_export</td>\n      <td>1</td>\n    </tr>\n  </tbody>\n</table>\n<p>1701 rows × 5 columns</p>\n</div>"
          },
          "metadata": {}
        }
      ],
      "execution_count": 5,
      "block_group": "a313cfde07704b22ba7ee60c29ee0660"
    },
    {
      "cell_type": "markdown",
      "source": "### Most Common Paths",
      "metadata": {
        "formattedRanges": [],
        "deepnote_app_coordinates": {
          "h": 120,
          "w": 12,
          "x": 0,
          "y": 0
        },
        "cell_id": "f315f14fa7fd41339de773d29d1bcda3",
        "deepnote_cell_type": "text-cell-h3"
      },
      "block_group": "6915db6686bf43ab83d837ea11fd0132"
    },
    {
      "cell_type": "code",
      "source": "general_path = _deepnote_execute_sql('WITH pivoted AS ( \\n    PIVOT clean\\n    ON CONCAT(\\'step_\\', funnel_step)\\n    USING FIRST(event_name)\\n    GROUP BY user_session, platform\\n)\\n\\n, apple AS (\\n    SELECT \\n         CONCAT(step_1, \\' -> \\', step_2, \\' -> \\', step_3) AS path\\n        , COUNT(user_session) AS apple_users\\n        , SUM(apple_users) OVER () AS apple_total_users\\n    FROM pivoted\\n    WHERE platform = \\'apple\\'\\n    GROUP BY 1, platform\\n    ORDER BY apple_users DESC\\n)\\n\\n, android AS (\\n    SELECT \\n         CONCAT(step_1, \\' -> \\', step_2, \\' -> \\', step_3) AS path\\n        , COUNT(user_session) AS android_users\\n        , SUM(android_users) OVER () AS android_total_users\\n    FROM pivoted\\n    WHERE platform = \\'android\\'\\n    GROUP BY 1\\n    ORDER BY android_users DESC\\n)\\n\\nSELECT\\n    path\\n    , apple_users\\n    , android_users\\n\\n    , (apple_users/apple_total_users * 100)::DECIMAL(10, 2) AS percentage_apple\\n    , (android_users/android_total_users * 100)::DECIMAL(10, 2) AS percentage_android\\n\\n    , apple_users + android_users AS total_users\\nFROM apple \\nLEFT JOIN android USING (path)\\nORDER BY total_users DESC\\nLIMIT 5', 'SQL_DEEPNOTE_DATAFRAME_SQL', audit_sql_comment='', sql_cache_mode='cache_disabled')\ngeneral_path",
      "metadata": {
        "source_hash": "96ff416f",
        "is_code_hidden": true,
        "execution_start": 1704204414283,
        "execution_millis": 65,
        "sql_integration_id": "deepnote-dataframe-sql",
        "deepnote_table_state": {
          "sortBy": [
            {
              "id": "total_users",
              "type": "desc"
            }
          ],
          "filters": [],
          "pageSize": 50,
          "pageIndex": 0
        },
        "deepnote_table_loading": false,
        "deepnote_variable_name": "general_path",
        "deepnote_app_coordinates": {
          "h": 120,
          "w": 12,
          "x": 0,
          "y": 0
        },
        "deepnote_to_be_reexecuted": false,
        "deepnote_app_is_code_hidden": true,
        "cell_id": "461172248f7f465cad9c3a533748db9d",
        "deepnote_cell_type": "sql",
        "deepnote_sql_source": "WITH pivoted AS ( \n    PIVOT clean\n    ON CONCAT('step_', funnel_step)\n    USING FIRST(event_name)\n    GROUP BY user_session, platform\n)\n\n, apple AS (\n    SELECT \n         CONCAT(step_1, ' -> ', step_2, ' -> ', step_3) AS path\n        , COUNT(user_session) AS apple_users\n        , SUM(apple_users) OVER () AS apple_total_users\n    FROM pivoted\n    WHERE platform = 'apple'\n    GROUP BY 1, platform\n    ORDER BY apple_users DESC\n)\n\n, android AS (\n    SELECT \n         CONCAT(step_1, ' -> ', step_2, ' -> ', step_3) AS path\n        , COUNT(user_session) AS android_users\n        , SUM(android_users) OVER () AS android_total_users\n    FROM pivoted\n    WHERE platform = 'android'\n    GROUP BY 1\n    ORDER BY android_users DESC\n)\n\nSELECT\n    path\n    , apple_users\n    , android_users\n\n    , (apple_users/apple_total_users * 100)::DECIMAL(10, 2) AS percentage_apple\n    , (android_users/android_total_users * 100)::DECIMAL(10, 2) AS percentage_android\n\n    , apple_users + android_users AS total_users\nFROM apple \nLEFT JOIN android USING (path)\nORDER BY total_users DESC\nLIMIT 5"
      },
      "outputs": [
        {
          "data": {
            "application/vnd.deepnote.sql-output-metadata+json": {
              "status": "success_no_cache",
              "size_in_bytes": 810
            }
          },
          "metadata": {},
          "output_type": "display_data"
        },
        {
          "output_type": "execute_result",
          "execution_count": 6,
          "data": {
            "application/vnd.deepnote.dataframe.v3+json": {
              "column_count": 6,
              "row_count": 5,
              "columns": [
                {
                  "name": "path",
                  "dtype": "object",
                  "stats": {
                    "unique_count": 5,
                    "nan_count": 0,
                    "categories": [
                      {
                        "name": "create_flow_open -> subscription_offer_open -> editor_open",
                        "count": 1
                      },
                      {
                        "name": "create_flow_open -> editor_open -> object_export",
                        "count": 1
                      },
                      {
                        "name": "3 others",
                        "count": 3
                      }
                    ]
                  }
                },
                {
                  "name": "apple_users",
                  "dtype": "int64",
                  "stats": {
                    "unique_count": 5,
                    "nan_count": 0,
                    "min": "19",
                    "max": "77",
                    "histogram": [
                      {
                        "bin_start": 19,
                        "bin_end": 24.8,
                        "count": 2
                      },
                      {
                        "bin_start": 24.8,
                        "bin_end": 30.6,
                        "count": 1
                      },
                      {
                        "bin_start": 30.6,
                        "bin_end": 36.4,
                        "count": 0
                      },
                      {
                        "bin_start": 36.4,
                        "bin_end": 42.2,
                        "count": 1
                      },
                      {
                        "bin_start": 42.2,
                        "bin_end": 48,
                        "count": 0
                      },
                      {
                        "bin_start": 48,
                        "bin_end": 53.8,
                        "count": 0
                      },
                      {
                        "bin_start": 53.8,
                        "bin_end": 59.6,
                        "count": 0
                      },
                      {
                        "bin_start": 59.6,
                        "bin_end": 65.4,
                        "count": 0
                      },
                      {
                        "bin_start": 65.4,
                        "bin_end": 71.19999999999999,
                        "count": 0
                      },
                      {
                        "bin_start": 71.19999999999999,
                        "bin_end": 77,
                        "count": 1
                      }
                    ]
                  }
                },
                {
                  "name": "android_users",
                  "dtype": "int64",
                  "stats": {
                    "unique_count": 5,
                    "nan_count": 0,
                    "min": "23",
                    "max": "76",
                    "histogram": [
                      {
                        "bin_start": 23,
                        "bin_end": 28.3,
                        "count": 2
                      },
                      {
                        "bin_start": 28.3,
                        "bin_end": 33.6,
                        "count": 1
                      },
                      {
                        "bin_start": 33.6,
                        "bin_end": 38.9,
                        "count": 0
                      },
                      {
                        "bin_start": 38.9,
                        "bin_end": 44.2,
                        "count": 0
                      },
                      {
                        "bin_start": 44.2,
                        "bin_end": 49.5,
                        "count": 0
                      },
                      {
                        "bin_start": 49.5,
                        "bin_end": 54.8,
                        "count": 0
                      },
                      {
                        "bin_start": 54.8,
                        "bin_end": 60.1,
                        "count": 1
                      },
                      {
                        "bin_start": 60.1,
                        "bin_end": 65.4,
                        "count": 0
                      },
                      {
                        "bin_start": 65.4,
                        "bin_end": 70.69999999999999,
                        "count": 0
                      },
                      {
                        "bin_start": 70.69999999999999,
                        "bin_end": 76,
                        "count": 1
                      }
                    ]
                  }
                },
                {
                  "name": "percentage_apple",
                  "dtype": "float64",
                  "stats": {
                    "unique_count": 5,
                    "nan_count": 0,
                    "min": "7.22",
                    "max": "29.28",
                    "histogram": [
                      {
                        "bin_start": 7.22,
                        "bin_end": 9.426,
                        "count": 2
                      },
                      {
                        "bin_start": 9.426,
                        "bin_end": 11.632000000000001,
                        "count": 1
                      },
                      {
                        "bin_start": 11.632000000000001,
                        "bin_end": 13.838000000000001,
                        "count": 0
                      },
                      {
                        "bin_start": 13.838000000000001,
                        "bin_end": 16.044,
                        "count": 1
                      },
                      {
                        "bin_start": 16.044,
                        "bin_end": 18.25,
                        "count": 0
                      },
                      {
                        "bin_start": 18.25,
                        "bin_end": 20.456000000000003,
                        "count": 0
                      },
                      {
                        "bin_start": 20.456000000000003,
                        "bin_end": 22.662000000000003,
                        "count": 0
                      },
                      {
                        "bin_start": 22.662000000000003,
                        "bin_end": 24.868000000000002,
                        "count": 0
                      },
                      {
                        "bin_start": 24.868000000000002,
                        "bin_end": 27.074,
                        "count": 0
                      },
                      {
                        "bin_start": 27.074,
                        "bin_end": 29.28,
                        "count": 1
                      }
                    ]
                  }
                },
                {
                  "name": "percentage_android",
                  "dtype": "float64",
                  "stats": {
                    "unique_count": 5,
                    "nan_count": 0,
                    "min": "7.85",
                    "max": "25.94",
                    "histogram": [
                      {
                        "bin_start": 7.85,
                        "bin_end": 9.659,
                        "count": 2
                      },
                      {
                        "bin_start": 9.659,
                        "bin_end": 11.468,
                        "count": 1
                      },
                      {
                        "bin_start": 11.468,
                        "bin_end": 13.277000000000001,
                        "count": 0
                      },
                      {
                        "bin_start": 13.277000000000001,
                        "bin_end": 15.086000000000002,
                        "count": 0
                      },
                      {
                        "bin_start": 15.086000000000002,
                        "bin_end": 16.895000000000003,
                        "count": 0
                      },
                      {
                        "bin_start": 16.895000000000003,
                        "bin_end": 18.704,
                        "count": 0
                      },
                      {
                        "bin_start": 18.704,
                        "bin_end": 20.513,
                        "count": 1
                      },
                      {
                        "bin_start": 20.513,
                        "bin_end": 22.322000000000003,
                        "count": 0
                      },
                      {
                        "bin_start": 22.322000000000003,
                        "bin_end": 24.131,
                        "count": 0
                      },
                      {
                        "bin_start": 24.131,
                        "bin_end": 25.94,
                        "count": 1
                      }
                    ]
                  }
                },
                {
                  "name": "total_users",
                  "dtype": "int64",
                  "stats": {
                    "unique_count": 5,
                    "nan_count": 0,
                    "min": "42",
                    "max": "135",
                    "histogram": [
                      {
                        "bin_start": 42,
                        "bin_end": 51.3,
                        "count": 2
                      },
                      {
                        "bin_start": 51.3,
                        "bin_end": 60.6,
                        "count": 1
                      },
                      {
                        "bin_start": 60.6,
                        "bin_end": 69.9,
                        "count": 0
                      },
                      {
                        "bin_start": 69.9,
                        "bin_end": 79.2,
                        "count": 0
                      },
                      {
                        "bin_start": 79.2,
                        "bin_end": 88.5,
                        "count": 0
                      },
                      {
                        "bin_start": 88.5,
                        "bin_end": 97.80000000000001,
                        "count": 0
                      },
                      {
                        "bin_start": 97.80000000000001,
                        "bin_end": 107.10000000000001,
                        "count": 0
                      },
                      {
                        "bin_start": 107.10000000000001,
                        "bin_end": 116.4,
                        "count": 1
                      },
                      {
                        "bin_start": 116.4,
                        "bin_end": 125.7,
                        "count": 0
                      },
                      {
                        "bin_start": 125.7,
                        "bin_end": 135,
                        "count": 1
                      }
                    ]
                  }
                },
                {
                  "name": "_deepnote_index_column",
                  "dtype": "int64"
                }
              ],
              "rows": [
                {
                  "path": "create_flow_open -> subscription_offer_open -> editor_open",
                  "apple_users": 77,
                  "android_users": 58,
                  "percentage_apple": 29.28,
                  "percentage_android": 19.8,
                  "total_users": 135,
                  "_deepnote_index_column": 0
                },
                {
                  "path": "create_flow_open -> editor_open -> object_export",
                  "apple_users": 40,
                  "android_users": 76,
                  "percentage_apple": 15.21,
                  "percentage_android": 25.94,
                  "total_users": 116,
                  "_deepnote_index_column": 1
                },
                {
                  "path": "create_flow_open ->  -> ",
                  "apple_users": 26,
                  "android_users": 26,
                  "percentage_apple": 9.89,
                  "percentage_android": 8.87,
                  "total_users": 52,
                  "_deepnote_index_column": 2
                },
                {
                  "path": "create_flow_open -> editor_open -> ",
                  "apple_users": 20,
                  "android_users": 31,
                  "percentage_apple": 7.6,
                  "percentage_android": 10.58,
                  "total_users": 51,
                  "_deepnote_index_column": 3
                },
                {
                  "path": "editor_open -> object_export -> ",
                  "apple_users": 19,
                  "android_users": 23,
                  "percentage_apple": 7.22,
                  "percentage_android": 7.85,
                  "total_users": 42,
                  "_deepnote_index_column": 4
                }
              ]
            },
            "text/plain": "                                                path  apple_users  \\\n0  create_flow_open -> subscription_offer_open ->...           77   \n1   create_flow_open -> editor_open -> object_export           40   \n2                           create_flow_open ->  ->            26   \n3                create_flow_open -> editor_open ->            20   \n4                   editor_open -> object_export ->            19   \n\n   android_users  percentage_apple  percentage_android  total_users  \n0             58             29.28               19.80          135  \n1             76             15.21               25.94          116  \n2             26              9.89                8.87           52  \n3             31              7.60               10.58           51  \n4             23              7.22                7.85           42  ",
            "text/html": "<div>\n<style scoped>\n    .dataframe tbody tr th:only-of-type {\n        vertical-align: middle;\n    }\n\n    .dataframe tbody tr th {\n        vertical-align: top;\n    }\n\n    .dataframe thead th {\n        text-align: right;\n    }\n</style>\n<table border=\"1\" class=\"dataframe\">\n  <thead>\n    <tr style=\"text-align: right;\">\n      <th></th>\n      <th>path</th>\n      <th>apple_users</th>\n      <th>android_users</th>\n      <th>percentage_apple</th>\n      <th>percentage_android</th>\n      <th>total_users</th>\n    </tr>\n  </thead>\n  <tbody>\n    <tr>\n      <th>0</th>\n      <td>create_flow_open -&gt; subscription_offer_open -&gt;...</td>\n      <td>77</td>\n      <td>58</td>\n      <td>29.28</td>\n      <td>19.80</td>\n      <td>135</td>\n    </tr>\n    <tr>\n      <th>1</th>\n      <td>create_flow_open -&gt; editor_open -&gt; object_export</td>\n      <td>40</td>\n      <td>76</td>\n      <td>15.21</td>\n      <td>25.94</td>\n      <td>116</td>\n    </tr>\n    <tr>\n      <th>2</th>\n      <td>create_flow_open -&gt;  -&gt;</td>\n      <td>26</td>\n      <td>26</td>\n      <td>9.89</td>\n      <td>8.87</td>\n      <td>52</td>\n    </tr>\n    <tr>\n      <th>3</th>\n      <td>create_flow_open -&gt; editor_open -&gt;</td>\n      <td>20</td>\n      <td>31</td>\n      <td>7.60</td>\n      <td>10.58</td>\n      <td>51</td>\n    </tr>\n    <tr>\n      <th>4</th>\n      <td>editor_open -&gt; object_export -&gt;</td>\n      <td>19</td>\n      <td>23</td>\n      <td>7.22</td>\n      <td>7.85</td>\n      <td>42</td>\n    </tr>\n  </tbody>\n</table>\n</div>"
          },
          "metadata": {}
        }
      ],
      "execution_count": 6,
      "block_group": "b6509c5620b845f89347774f4c07a037"
    },
    {
      "cell_type": "markdown",
      "source": "Apple events:",
      "metadata": {
        "formattedRanges": [
          {
            "type": "marks",
            "marks": {
              "bold": true
            },
            "toCodePoint": 13,
            "fromCodePoint": 0
          }
        ],
        "deepnote_app_coordinates": {
          "h": 2,
          "w": 8,
          "x": 0,
          "y": 0
        },
        "cell_id": "eabd9b3a50a5430985f5c263c8f7b96c",
        "deepnote_cell_type": "text-cell-p"
      },
      "block_group": "57acb0648e184c9cb3855da49c093c20"
    },
    {
      "cell_type": "code",
      "source": "apple = _deepnote_execute_sql('SELECT DISTINCT event_name\\n    , SUM(CASE WHEN funnel_step = 1 THEN 1 ELSE 0 END) AS step_1\\n    , SUM(CASE WHEN funnel_step = 2 THEN 1 ELSE 0 END) AS step_2\\n    , SUM(CASE WHEN funnel_step = 3 THEN 1 ELSE 0 END) AS step_3 \\n    , SUM(CASE WHEN funnel_step = 4 THEN 1 ELSE 0 END) AS step_4 \\n    , SUM(CASE WHEN funnel_step = 5 THEN 1 ELSE 0 END) AS step_5\\nFROM clean\\nWHERE platform = \\'apple\\'\\nGROUP BY 1\\nHAVING step_1 > 2\\nORDER BY step_1 DESC', 'SQL_DEEPNOTE_DATAFRAME_SQL', audit_sql_comment='', sql_cache_mode='cache_disabled')\napple",
      "metadata": {
        "source_hash": "6a1772a7",
        "is_code_hidden": true,
        "execution_start": 1704204414384,
        "execution_millis": 10,
        "sql_integration_id": "deepnote-dataframe-sql",
        "deepnote_table_state": {
          "sortBy": [
            {
              "id": "platform",
              "type": "asc"
            }
          ],
          "filters": [],
          "pageSize": 10,
          "pageIndex": 0
        },
        "deepnote_table_loading": false,
        "deepnote_variable_name": "apple",
        "deepnote_app_coordinates": {
          "h": 120,
          "w": 12,
          "x": 0,
          "y": 0
        },
        "deepnote_to_be_reexecuted": false,
        "deepnote_app_is_code_hidden": true,
        "cell_id": "9bdb6d1225b44b5898733969335eedd8",
        "deepnote_cell_type": "sql",
        "deepnote_sql_source": "SELECT DISTINCT event_name\n    , SUM(CASE WHEN funnel_step = 1 THEN 1 ELSE 0 END) AS step_1\n    , SUM(CASE WHEN funnel_step = 2 THEN 1 ELSE 0 END) AS step_2\n    , SUM(CASE WHEN funnel_step = 3 THEN 1 ELSE 0 END) AS step_3 \n    , SUM(CASE WHEN funnel_step = 4 THEN 1 ELSE 0 END) AS step_4 \n    , SUM(CASE WHEN funnel_step = 5 THEN 1 ELSE 0 END) AS step_5\nFROM clean\nWHERE platform = 'apple'\nGROUP BY 1\nHAVING step_1 > 2\nORDER BY step_1 DESC"
      },
      "outputs": [
        {
          "data": {
            "application/vnd.deepnote.sql-output-metadata+json": {
              "status": "success_no_cache",
              "size_in_bytes": 579
            }
          },
          "metadata": {},
          "output_type": "display_data"
        },
        {
          "output_type": "execute_result",
          "execution_count": 7,
          "data": {
            "application/vnd.deepnote.dataframe.v3+json": {
              "column_count": 6,
              "row_count": 4,
              "columns": [
                {
                  "name": "event_name",
                  "dtype": "object",
                  "stats": {
                    "unique_count": 4,
                    "nan_count": 0,
                    "categories": [
                      {
                        "name": "create_flow_open",
                        "count": 1
                      },
                      {
                        "name": "editor_open",
                        "count": 1
                      },
                      {
                        "name": "2 others",
                        "count": 2
                      }
                    ]
                  }
                },
                {
                  "name": "step_1",
                  "dtype": "int64",
                  "stats": {
                    "unique_count": 4,
                    "nan_count": 0,
                    "min": "3",
                    "max": "195",
                    "histogram": [
                      {
                        "bin_start": 3,
                        "bin_end": 22.2,
                        "count": 2
                      },
                      {
                        "bin_start": 22.2,
                        "bin_end": 41.4,
                        "count": 0
                      },
                      {
                        "bin_start": 41.4,
                        "bin_end": 60.599999999999994,
                        "count": 1
                      },
                      {
                        "bin_start": 60.599999999999994,
                        "bin_end": 79.8,
                        "count": 0
                      },
                      {
                        "bin_start": 79.8,
                        "bin_end": 99,
                        "count": 0
                      },
                      {
                        "bin_start": 99,
                        "bin_end": 118.19999999999999,
                        "count": 0
                      },
                      {
                        "bin_start": 118.19999999999999,
                        "bin_end": 137.4,
                        "count": 0
                      },
                      {
                        "bin_start": 137.4,
                        "bin_end": 156.6,
                        "count": 0
                      },
                      {
                        "bin_start": 156.6,
                        "bin_end": 175.79999999999998,
                        "count": 0
                      },
                      {
                        "bin_start": 175.79999999999998,
                        "bin_end": 195,
                        "count": 1
                      }
                    ]
                  }
                },
                {
                  "name": "step_2",
                  "dtype": "int64",
                  "stats": {
                    "unique_count": 4,
                    "nan_count": 0,
                    "min": "25",
                    "max": "83",
                    "histogram": [
                      {
                        "bin_start": 25,
                        "bin_end": 30.8,
                        "count": 1
                      },
                      {
                        "bin_start": 30.8,
                        "bin_end": 36.6,
                        "count": 0
                      },
                      {
                        "bin_start": 36.6,
                        "bin_end": 42.4,
                        "count": 1
                      },
                      {
                        "bin_start": 42.4,
                        "bin_end": 48.2,
                        "count": 0
                      },
                      {
                        "bin_start": 48.2,
                        "bin_end": 54,
                        "count": 0
                      },
                      {
                        "bin_start": 54,
                        "bin_end": 59.8,
                        "count": 0
                      },
                      {
                        "bin_start": 59.8,
                        "bin_end": 65.6,
                        "count": 0
                      },
                      {
                        "bin_start": 65.6,
                        "bin_end": 71.4,
                        "count": 0
                      },
                      {
                        "bin_start": 71.4,
                        "bin_end": 77.19999999999999,
                        "count": 0
                      },
                      {
                        "bin_start": 77.19999999999999,
                        "bin_end": 83,
                        "count": 2
                      }
                    ]
                  }
                },
                {
                  "name": "step_3",
                  "dtype": "int64",
                  "stats": {
                    "unique_count": 4,
                    "nan_count": 0,
                    "min": "5",
                    "max": "98",
                    "histogram": [
                      {
                        "bin_start": 5,
                        "bin_end": 14.3,
                        "count": 1
                      },
                      {
                        "bin_start": 14.3,
                        "bin_end": 23.6,
                        "count": 0
                      },
                      {
                        "bin_start": 23.6,
                        "bin_end": 32.900000000000006,
                        "count": 1
                      },
                      {
                        "bin_start": 32.900000000000006,
                        "bin_end": 42.2,
                        "count": 1
                      },
                      {
                        "bin_start": 42.2,
                        "bin_end": 51.5,
                        "count": 0
                      },
                      {
                        "bin_start": 51.5,
                        "bin_end": 60.800000000000004,
                        "count": 0
                      },
                      {
                        "bin_start": 60.800000000000004,
                        "bin_end": 70.10000000000001,
                        "count": 0
                      },
                      {
                        "bin_start": 70.10000000000001,
                        "bin_end": 79.4,
                        "count": 0
                      },
                      {
                        "bin_start": 79.4,
                        "bin_end": 88.7,
                        "count": 0
                      },
                      {
                        "bin_start": 88.7,
                        "bin_end": 98,
                        "count": 1
                      }
                    ]
                  }
                },
                {
                  "name": "step_4",
                  "dtype": "int64",
                  "stats": {
                    "unique_count": 4,
                    "nan_count": 0,
                    "min": "4",
                    "max": "80",
                    "histogram": [
                      {
                        "bin_start": 4,
                        "bin_end": 11.6,
                        "count": 1
                      },
                      {
                        "bin_start": 11.6,
                        "bin_end": 19.2,
                        "count": 1
                      },
                      {
                        "bin_start": 19.2,
                        "bin_end": 26.799999999999997,
                        "count": 0
                      },
                      {
                        "bin_start": 26.799999999999997,
                        "bin_end": 34.4,
                        "count": 1
                      },
                      {
                        "bin_start": 34.4,
                        "bin_end": 42,
                        "count": 0
                      },
                      {
                        "bin_start": 42,
                        "bin_end": 49.599999999999994,
                        "count": 0
                      },
                      {
                        "bin_start": 49.599999999999994,
                        "bin_end": 57.199999999999996,
                        "count": 0
                      },
                      {
                        "bin_start": 57.199999999999996,
                        "bin_end": 64.8,
                        "count": 0
                      },
                      {
                        "bin_start": 64.8,
                        "bin_end": 72.39999999999999,
                        "count": 0
                      },
                      {
                        "bin_start": 72.39999999999999,
                        "bin_end": 80,
                        "count": 1
                      }
                    ]
                  }
                },
                {
                  "name": "step_5",
                  "dtype": "int64",
                  "stats": {
                    "unique_count": 3,
                    "nan_count": 0,
                    "min": "8",
                    "max": "25",
                    "histogram": [
                      {
                        "bin_start": 8,
                        "bin_end": 9.7,
                        "count": 2
                      },
                      {
                        "bin_start": 9.7,
                        "bin_end": 11.4,
                        "count": 0
                      },
                      {
                        "bin_start": 11.4,
                        "bin_end": 13.1,
                        "count": 0
                      },
                      {
                        "bin_start": 13.1,
                        "bin_end": 14.8,
                        "count": 0
                      },
                      {
                        "bin_start": 14.8,
                        "bin_end": 16.5,
                        "count": 0
                      },
                      {
                        "bin_start": 16.5,
                        "bin_end": 18.2,
                        "count": 0
                      },
                      {
                        "bin_start": 18.2,
                        "bin_end": 19.9,
                        "count": 0
                      },
                      {
                        "bin_start": 19.9,
                        "bin_end": 21.6,
                        "count": 0
                      },
                      {
                        "bin_start": 21.6,
                        "bin_end": 23.299999999999997,
                        "count": 1
                      },
                      {
                        "bin_start": 23.299999999999997,
                        "bin_end": 25,
                        "count": 1
                      }
                    ]
                  }
                },
                {
                  "name": "_deepnote_index_column",
                  "dtype": "int64"
                }
              ],
              "rows": [
                {
                  "event_name": "create_flow_open",
                  "step_1": 195,
                  "step_2": 25,
                  "step_3": 5,
                  "step_4": 4,
                  "step_5": 8,
                  "_deepnote_index_column": 0
                },
                {
                  "event_name": "editor_open",
                  "step_1": 60,
                  "step_2": 82,
                  "step_3": 98,
                  "step_4": 32,
                  "step_5": 25,
                  "_deepnote_index_column": 1
                },
                {
                  "event_name": "object_export",
                  "step_1": 5,
                  "step_2": 38,
                  "step_3": 42,
                  "step_4": 80,
                  "step_5": 23,
                  "_deepnote_index_column": 2
                },
                {
                  "event_name": "subscription_offer_open",
                  "step_1": 3,
                  "step_2": 83,
                  "step_3": 32,
                  "step_4": 18,
                  "step_5": 8,
                  "_deepnote_index_column": 3
                }
              ]
            },
            "text/plain": "                event_name  step_1  step_2  step_3  step_4  step_5\n0         create_flow_open     195      25       5       4       8\n1              editor_open      60      82      98      32      25\n2            object_export       5      38      42      80      23\n3  subscription_offer_open       3      83      32      18       8",
            "text/html": "<div>\n<style scoped>\n    .dataframe tbody tr th:only-of-type {\n        vertical-align: middle;\n    }\n\n    .dataframe tbody tr th {\n        vertical-align: top;\n    }\n\n    .dataframe thead th {\n        text-align: right;\n    }\n</style>\n<table border=\"1\" class=\"dataframe\">\n  <thead>\n    <tr style=\"text-align: right;\">\n      <th></th>\n      <th>event_name</th>\n      <th>step_1</th>\n      <th>step_2</th>\n      <th>step_3</th>\n      <th>step_4</th>\n      <th>step_5</th>\n    </tr>\n  </thead>\n  <tbody>\n    <tr>\n      <th>0</th>\n      <td>create_flow_open</td>\n      <td>195</td>\n      <td>25</td>\n      <td>5</td>\n      <td>4</td>\n      <td>8</td>\n    </tr>\n    <tr>\n      <th>1</th>\n      <td>editor_open</td>\n      <td>60</td>\n      <td>82</td>\n      <td>98</td>\n      <td>32</td>\n      <td>25</td>\n    </tr>\n    <tr>\n      <th>2</th>\n      <td>object_export</td>\n      <td>5</td>\n      <td>38</td>\n      <td>42</td>\n      <td>80</td>\n      <td>23</td>\n    </tr>\n    <tr>\n      <th>3</th>\n      <td>subscription_offer_open</td>\n      <td>3</td>\n      <td>83</td>\n      <td>32</td>\n      <td>18</td>\n      <td>8</td>\n    </tr>\n  </tbody>\n</table>\n</div>"
          },
          "metadata": {}
        }
      ],
      "execution_count": 7,
      "block_group": "6384dbba7c32408e8855100f23f69989"
    },
    {
      "cell_type": "markdown",
      "source": "Android events:",
      "metadata": {
        "formattedRanges": [
          {
            "type": "marks",
            "marks": {
              "bold": true
            },
            "toCodePoint": 15,
            "fromCodePoint": 0
          }
        ],
        "deepnote_app_coordinates": {
          "h": 2,
          "w": 8,
          "x": 0,
          "y": 0
        },
        "cell_id": "4b3d6e31ee5a4b50b92ff97dd6e535e2",
        "deepnote_cell_type": "text-cell-p"
      },
      "block_group": "eb90dbc8e4304cd68f664da1c9fa9dfb"
    },
    {
      "cell_type": "code",
      "source": "android = _deepnote_execute_sql('SELECT DISTINCT event_name\\n    , SUM(CASE WHEN funnel_step = 1 THEN 1 ELSE 0 END) AS step_1\\n    , SUM(CASE WHEN funnel_step = 2 THEN 1 ELSE 0 END) AS step_2\\n    , SUM(CASE WHEN funnel_step = 3 THEN 1 ELSE 0 END) AS step_3 \\n    , SUM(CASE WHEN funnel_step = 4 THEN 1 ELSE 0 END) AS step_4 \\n    , SUM(CASE WHEN funnel_step = 5 THEN 1 ELSE 0 END) AS step_5\\nFROM clean\\nWHERE platform = \\'android\\'\\nGROUP BY 1\\nHAVING step_1 > 2\\nORDER BY step_1 DESC', 'SQL_DEEPNOTE_DATAFRAME_SQL', audit_sql_comment='', sql_cache_mode='cache_disabled')\nandroid",
      "metadata": {
        "source_hash": "607b05a1",
        "is_code_hidden": true,
        "execution_start": 1704204414422,
        "execution_millis": 9,
        "sql_integration_id": "deepnote-dataframe-sql",
        "deepnote_variable_name": "android",
        "deepnote_app_coordinates": {
          "h": 120,
          "w": 12,
          "x": 0,
          "y": 0
        },
        "deepnote_to_be_reexecuted": false,
        "deepnote_app_is_code_hidden": true,
        "cell_id": "5c0667adfa22445b976e216fac109860",
        "deepnote_cell_type": "sql",
        "deepnote_sql_source": "SELECT DISTINCT event_name\n    , SUM(CASE WHEN funnel_step = 1 THEN 1 ELSE 0 END) AS step_1\n    , SUM(CASE WHEN funnel_step = 2 THEN 1 ELSE 0 END) AS step_2\n    , SUM(CASE WHEN funnel_step = 3 THEN 1 ELSE 0 END) AS step_3 \n    , SUM(CASE WHEN funnel_step = 4 THEN 1 ELSE 0 END) AS step_4 \n    , SUM(CASE WHEN funnel_step = 5 THEN 1 ELSE 0 END) AS step_5\nFROM clean\nWHERE platform = 'android'\nGROUP BY 1\nHAVING step_1 > 2\nORDER BY step_1 DESC"
      },
      "outputs": [
        {
          "data": {
            "application/vnd.deepnote.sql-output-metadata+json": {
              "status": "success_no_cache",
              "size_in_bytes": 579
            }
          },
          "metadata": {},
          "output_type": "display_data"
        },
        {
          "output_type": "execute_result",
          "execution_count": 8,
          "data": {
            "application/vnd.deepnote.dataframe.v3+json": {
              "column_count": 6,
              "row_count": 4,
              "columns": [
                {
                  "name": "event_name",
                  "dtype": "object",
                  "stats": {
                    "unique_count": 4,
                    "nan_count": 0,
                    "categories": [
                      {
                        "name": "create_flow_open",
                        "count": 1
                      },
                      {
                        "name": "editor_open",
                        "count": 1
                      },
                      {
                        "name": "2 others",
                        "count": 2
                      }
                    ]
                  }
                },
                {
                  "name": "step_1",
                  "dtype": "int64",
                  "stats": {
                    "unique_count": 4,
                    "nan_count": 0,
                    "min": "12",
                    "max": "215",
                    "histogram": [
                      {
                        "bin_start": 12,
                        "bin_end": 32.3,
                        "count": 2
                      },
                      {
                        "bin_start": 32.3,
                        "bin_end": 52.6,
                        "count": 1
                      },
                      {
                        "bin_start": 52.6,
                        "bin_end": 72.9,
                        "count": 0
                      },
                      {
                        "bin_start": 72.9,
                        "bin_end": 93.2,
                        "count": 0
                      },
                      {
                        "bin_start": 93.2,
                        "bin_end": 113.5,
                        "count": 0
                      },
                      {
                        "bin_start": 113.5,
                        "bin_end": 133.8,
                        "count": 0
                      },
                      {
                        "bin_start": 133.8,
                        "bin_end": 154.1,
                        "count": 0
                      },
                      {
                        "bin_start": 154.1,
                        "bin_end": 174.4,
                        "count": 0
                      },
                      {
                        "bin_start": 174.4,
                        "bin_end": 194.70000000000002,
                        "count": 0
                      },
                      {
                        "bin_start": 194.70000000000002,
                        "bin_end": 215,
                        "count": 1
                      }
                    ]
                  }
                },
                {
                  "name": "step_2",
                  "dtype": "int64",
                  "stats": {
                    "unique_count": 4,
                    "nan_count": 0,
                    "min": "4",
                    "max": "116",
                    "histogram": [
                      {
                        "bin_start": 4,
                        "bin_end": 15.2,
                        "count": 1
                      },
                      {
                        "bin_start": 15.2,
                        "bin_end": 26.4,
                        "count": 0
                      },
                      {
                        "bin_start": 26.4,
                        "bin_end": 37.599999999999994,
                        "count": 0
                      },
                      {
                        "bin_start": 37.599999999999994,
                        "bin_end": 48.8,
                        "count": 0
                      },
                      {
                        "bin_start": 48.8,
                        "bin_end": 60,
                        "count": 1
                      },
                      {
                        "bin_start": 60,
                        "bin_end": 71.19999999999999,
                        "count": 1
                      },
                      {
                        "bin_start": 71.19999999999999,
                        "bin_end": 82.39999999999999,
                        "count": 0
                      },
                      {
                        "bin_start": 82.39999999999999,
                        "bin_end": 93.6,
                        "count": 0
                      },
                      {
                        "bin_start": 93.6,
                        "bin_end": 104.8,
                        "count": 0
                      },
                      {
                        "bin_start": 104.8,
                        "bin_end": 116,
                        "count": 1
                      }
                    ]
                  }
                },
                {
                  "name": "step_3",
                  "dtype": "int64",
                  "stats": {
                    "unique_count": 4,
                    "nan_count": 0,
                    "min": "4",
                    "max": "83",
                    "histogram": [
                      {
                        "bin_start": 4,
                        "bin_end": 11.9,
                        "count": 2
                      },
                      {
                        "bin_start": 11.9,
                        "bin_end": 19.8,
                        "count": 0
                      },
                      {
                        "bin_start": 19.8,
                        "bin_end": 27.700000000000003,
                        "count": 0
                      },
                      {
                        "bin_start": 27.700000000000003,
                        "bin_end": 35.6,
                        "count": 0
                      },
                      {
                        "bin_start": 35.6,
                        "bin_end": 43.5,
                        "count": 0
                      },
                      {
                        "bin_start": 43.5,
                        "bin_end": 51.400000000000006,
                        "count": 0
                      },
                      {
                        "bin_start": 51.400000000000006,
                        "bin_end": 59.300000000000004,
                        "count": 0
                      },
                      {
                        "bin_start": 59.300000000000004,
                        "bin_end": 67.2,
                        "count": 0
                      },
                      {
                        "bin_start": 67.2,
                        "bin_end": 75.10000000000001,
                        "count": 1
                      },
                      {
                        "bin_start": 75.10000000000001,
                        "bin_end": 83,
                        "count": 1
                      }
                    ]
                  }
                },
                {
                  "name": "step_4",
                  "dtype": "int64",
                  "stats": {
                    "unique_count": 4,
                    "nan_count": 0,
                    "min": "5",
                    "max": "44",
                    "histogram": [
                      {
                        "bin_start": 5,
                        "bin_end": 8.9,
                        "count": 2
                      },
                      {
                        "bin_start": 8.9,
                        "bin_end": 12.8,
                        "count": 0
                      },
                      {
                        "bin_start": 12.8,
                        "bin_end": 16.7,
                        "count": 0
                      },
                      {
                        "bin_start": 16.7,
                        "bin_end": 20.6,
                        "count": 0
                      },
                      {
                        "bin_start": 20.6,
                        "bin_end": 24.5,
                        "count": 0
                      },
                      {
                        "bin_start": 24.5,
                        "bin_end": 28.4,
                        "count": 0
                      },
                      {
                        "bin_start": 28.4,
                        "bin_end": 32.3,
                        "count": 1
                      },
                      {
                        "bin_start": 32.3,
                        "bin_end": 36.2,
                        "count": 0
                      },
                      {
                        "bin_start": 36.2,
                        "bin_end": 40.1,
                        "count": 0
                      },
                      {
                        "bin_start": 40.1,
                        "bin_end": 44,
                        "count": 1
                      }
                    ]
                  }
                },
                {
                  "name": "step_5",
                  "dtype": "int64",
                  "stats": {
                    "unique_count": 4,
                    "nan_count": 0,
                    "min": "2",
                    "max": "29",
                    "histogram": [
                      {
                        "bin_start": 2,
                        "bin_end": 4.7,
                        "count": 2
                      },
                      {
                        "bin_start": 4.7,
                        "bin_end": 7.4,
                        "count": 0
                      },
                      {
                        "bin_start": 7.4,
                        "bin_end": 10.100000000000001,
                        "count": 0
                      },
                      {
                        "bin_start": 10.100000000000001,
                        "bin_end": 12.8,
                        "count": 0
                      },
                      {
                        "bin_start": 12.8,
                        "bin_end": 15.5,
                        "count": 0
                      },
                      {
                        "bin_start": 15.5,
                        "bin_end": 18.200000000000003,
                        "count": 1
                      },
                      {
                        "bin_start": 18.200000000000003,
                        "bin_end": 20.900000000000002,
                        "count": 0
                      },
                      {
                        "bin_start": 20.900000000000002,
                        "bin_end": 23.6,
                        "count": 0
                      },
                      {
                        "bin_start": 23.6,
                        "bin_end": 26.3,
                        "count": 0
                      },
                      {
                        "bin_start": 26.3,
                        "bin_end": 29,
                        "count": 1
                      }
                    ]
                  }
                },
                {
                  "name": "_deepnote_index_column",
                  "dtype": "int64"
                }
              ],
              "rows": [
                {
                  "event_name": "create_flow_open",
                  "step_1": 215,
                  "step_2": 4,
                  "step_3": 4,
                  "step_4": 5,
                  "step_5": 3,
                  "_deepnote_index_column": 0
                },
                {
                  "event_name": "editor_open",
                  "step_1": 45,
                  "step_2": 116,
                  "step_3": 69,
                  "step_4": 32,
                  "step_5": 17,
                  "_deepnote_index_column": 1
                },
                {
                  "event_name": "subscription_offer_open",
                  "step_1": 19,
                  "step_2": 65,
                  "step_3": 11,
                  "step_4": 7,
                  "step_5": 2,
                  "_deepnote_index_column": 2
                },
                {
                  "event_name": "object_export",
                  "step_1": 12,
                  "step_2": 49,
                  "step_3": 83,
                  "step_4": 44,
                  "step_5": 29,
                  "_deepnote_index_column": 3
                }
              ]
            },
            "text/plain": "                event_name  step_1  step_2  step_3  step_4  step_5\n0         create_flow_open     215       4       4       5       3\n1              editor_open      45     116      69      32      17\n2  subscription_offer_open      19      65      11       7       2\n3            object_export      12      49      83      44      29",
            "text/html": "<div>\n<style scoped>\n    .dataframe tbody tr th:only-of-type {\n        vertical-align: middle;\n    }\n\n    .dataframe tbody tr th {\n        vertical-align: top;\n    }\n\n    .dataframe thead th {\n        text-align: right;\n    }\n</style>\n<table border=\"1\" class=\"dataframe\">\n  <thead>\n    <tr style=\"text-align: right;\">\n      <th></th>\n      <th>event_name</th>\n      <th>step_1</th>\n      <th>step_2</th>\n      <th>step_3</th>\n      <th>step_4</th>\n      <th>step_5</th>\n    </tr>\n  </thead>\n  <tbody>\n    <tr>\n      <th>0</th>\n      <td>create_flow_open</td>\n      <td>215</td>\n      <td>4</td>\n      <td>4</td>\n      <td>5</td>\n      <td>3</td>\n    </tr>\n    <tr>\n      <th>1</th>\n      <td>editor_open</td>\n      <td>45</td>\n      <td>116</td>\n      <td>69</td>\n      <td>32</td>\n      <td>17</td>\n    </tr>\n    <tr>\n      <th>2</th>\n      <td>subscription_offer_open</td>\n      <td>19</td>\n      <td>65</td>\n      <td>11</td>\n      <td>7</td>\n      <td>2</td>\n    </tr>\n    <tr>\n      <th>3</th>\n      <td>object_export</td>\n      <td>12</td>\n      <td>49</td>\n      <td>83</td>\n      <td>44</td>\n      <td>29</td>\n    </tr>\n  </tbody>\n</table>\n</div>"
          },
          "metadata": {}
        }
      ],
      "execution_count": 8,
      "block_group": "328ec18fdf994535bd6846c121c61316"
    },
    {
      "cell_type": "markdown",
      "source": "> 2. Calculate the WAU Growth Accounting (New, Retained, Resurrected, Churn users) from November 13th to November 19th",
      "metadata": {
        "formattedRanges": [],
        "deepnote_app_coordinates": {
          "h": 2,
          "w": 8,
          "x": 0,
          "y": 0
        },
        "cell_id": "002e5245b71041d9a40e49b1dcf41cc4",
        "deepnote_cell_type": "text-cell-callout"
      },
      "block_group": "d3dfe5b0f3ed471c8710f0e0998fede1"
    },
    {
      "cell_type": "markdown",
      "source": "**New Users:** \nDefinition used: Users who had their first open app during the current week.\n-> First week: 2\n-> Second week: 1\n\n**Weakly Active Users Growth:**\nDefinition used: Number of Users with app_open event on week 1, divided by the number of users with app_open event on week 2:\n-> 1,9699% Growth\n\nDefinition used: Number of Users with app_open + another distinct event on week 1, divided by the number of users with app_open + another distinct event on week 2:\n-> 1.9975% Growth\n\n**Retained Users:** \nDefinition used: Users who used the application in the current week and the week before. \n-> Second week: 1.971\n_If we consider all the non-new users that used the application in the first week as retained (not ideal): 68070_\n\n**Resurrected Users:** \nDefinition used: Users who used the app in the current week, but not the previous week, and at some point before the previous week. \n-> 67.441\n\n**Churned Users:** \nDefinition used: Users who used the app in the previous week, but not the current week. \n-> 66.101",
      "metadata": {
        "source_hash": "effbef51",
        "execution_start": 1703247945801,
        "execution_millis": 13,
        "deepnote_app_coordinates": {
          "h": 120,
          "w": 12,
          "x": 0,
          "y": 0
        },
        "deepnote_to_be_reexecuted": false,
        "cell_id": "9738d8fb8592468cb9a71cebaafb596b",
        "deepnote_cell_type": "markdown"
      },
      "block_group": "74b4ae7c08b64d96863111260c17caf6"
    },
    {
      "cell_type": "code",
      "source": "growth_percentage = _deepnote_execute_sql('WITH totals AS (\\n    SELECT \\n        date_trunc(\\'week\\', apps_open.date_time) AS week\\n        , COUNT(DISTINCT apps_open.user_skey) AS users_total\\n        , COUNT(DISTINCT CASE WHEN events.user_skey IS NULL THEN apps_open.user_skey END) AS users_active\\n    FROM apps_open\\n    LEFT JOIN events ON apps_open.session_skey = events.session_skey\\n    GROUP BY 1\\n)\\n\\n, growth AS (\\n    SELECT\\n    -- week\\n     (users_total/LAG(users_total) OVER (ORDER BY week) -1) * 100 AS growth_total\\n    , (users_active/LAG(users_active) OVER (ORDER BY week) -1) * 100 AS growth_active\\n    FROM totals\\n)\\n\\nSELECT * FROM growth\\nWHERE growth_total IS NOT NULL', 'SQL_DEEPNOTE_DATAFRAME_SQL', audit_sql_comment='', sql_cache_mode='cache_disabled')\ngrowth_percentage",
      "metadata": {
        "source_hash": "f288bce7",
        "is_code_hidden": true,
        "execution_start": 1704204414474,
        "execution_millis": 67,
        "is_output_hidden": false,
        "sql_integration_id": "deepnote-dataframe-sql",
        "deepnote_variable_name": "growth_percentage",
        "deepnote_app_coordinates": {
          "h": 120,
          "w": 12,
          "x": 0,
          "y": 0
        },
        "deepnote_to_be_reexecuted": false,
        "deepnote_app_is_code_hidden": true,
        "deepnote_app_is_output_hidden": true,
        "cell_id": "875109b24be04568a006bb64a4a094c3",
        "deepnote_cell_type": "sql",
        "deepnote_sql_source": "WITH totals AS (\n    SELECT \n        date_trunc('week', apps_open.date_time) AS week\n        , COUNT(DISTINCT apps_open.user_skey) AS users_total\n        , COUNT(DISTINCT CASE WHEN events.user_skey IS NULL THEN apps_open.user_skey END) AS users_active\n    FROM apps_open\n    LEFT JOIN events ON apps_open.session_skey = events.session_skey\n    GROUP BY 1\n)\n\n, growth AS (\n    SELECT\n    -- week\n     (users_total/LAG(users_total) OVER (ORDER BY week) -1) * 100 AS growth_total\n    , (users_active/LAG(users_active) OVER (ORDER BY week) -1) * 100 AS growth_active\n    FROM totals\n)\n\nSELECT * FROM growth\nWHERE growth_total IS NOT NULL"
      },
      "outputs": [
        {
          "data": {
            "application/vnd.deepnote.sql-output-metadata+json": {
              "status": "success_no_cache",
              "size_in_bytes": 144
            }
          },
          "metadata": {},
          "output_type": "display_data"
        },
        {
          "output_type": "execute_result",
          "execution_count": 9,
          "data": {
            "application/vnd.deepnote.dataframe.v3+json": {
              "column_count": 2,
              "row_count": 1,
              "columns": [
                {
                  "name": "growth_total",
                  "dtype": "float64",
                  "stats": {
                    "unique_count": 1,
                    "nan_count": 0,
                    "min": "1.969972969796685",
                    "max": "1.969972969796685",
                    "histogram": [
                      {
                        "bin_start": 1.469972969796685,
                        "bin_end": 1.569972969796685,
                        "count": 0
                      },
                      {
                        "bin_start": 1.569972969796685,
                        "bin_end": 1.669972969796685,
                        "count": 0
                      },
                      {
                        "bin_start": 1.669972969796685,
                        "bin_end": 1.769972969796685,
                        "count": 0
                      },
                      {
                        "bin_start": 1.769972969796685,
                        "bin_end": 1.869972969796685,
                        "count": 0
                      },
                      {
                        "bin_start": 1.869972969796685,
                        "bin_end": 1.969972969796685,
                        "count": 0
                      },
                      {
                        "bin_start": 1.969972969796685,
                        "bin_end": 2.069972969796685,
                        "count": 1
                      },
                      {
                        "bin_start": 2.069972969796685,
                        "bin_end": 2.169972969796685,
                        "count": 0
                      },
                      {
                        "bin_start": 2.169972969796685,
                        "bin_end": 2.269972969796685,
                        "count": 0
                      },
                      {
                        "bin_start": 2.269972969796685,
                        "bin_end": 2.369972969796685,
                        "count": 0
                      },
                      {
                        "bin_start": 2.369972969796685,
                        "bin_end": 2.469972969796685,
                        "count": 0
                      }
                    ]
                  }
                },
                {
                  "name": "growth_active",
                  "dtype": "float64",
                  "stats": {
                    "unique_count": 1,
                    "nan_count": 0,
                    "min": "1.9975215390062528",
                    "max": "1.9975215390062528",
                    "histogram": [
                      {
                        "bin_start": 1.4975215390062528,
                        "bin_end": 1.597521539006253,
                        "count": 0
                      },
                      {
                        "bin_start": 1.597521539006253,
                        "bin_end": 1.6975215390062528,
                        "count": 0
                      },
                      {
                        "bin_start": 1.6975215390062528,
                        "bin_end": 1.7975215390062529,
                        "count": 0
                      },
                      {
                        "bin_start": 1.7975215390062529,
                        "bin_end": 1.8975215390062528,
                        "count": 0
                      },
                      {
                        "bin_start": 1.8975215390062528,
                        "bin_end": 1.9975215390062528,
                        "count": 0
                      },
                      {
                        "bin_start": 1.9975215390062528,
                        "bin_end": 2.097521539006253,
                        "count": 1
                      },
                      {
                        "bin_start": 2.097521539006253,
                        "bin_end": 2.197521539006253,
                        "count": 0
                      },
                      {
                        "bin_start": 2.197521539006253,
                        "bin_end": 2.2975215390062527,
                        "count": 0
                      },
                      {
                        "bin_start": 2.2975215390062527,
                        "bin_end": 2.3975215390062528,
                        "count": 0
                      },
                      {
                        "bin_start": 2.3975215390062528,
                        "bin_end": 2.497521539006253,
                        "count": 0
                      }
                    ]
                  }
                },
                {
                  "name": "_deepnote_index_column",
                  "dtype": "int64"
                }
              ],
              "rows": [
                {
                  "growth_total": 1.969972969796685,
                  "growth_active": 1.9975215390062528,
                  "_deepnote_index_column": 0
                }
              ]
            },
            "text/plain": "   growth_total  growth_active\n0      1.969973       1.997522",
            "text/html": "<div>\n<style scoped>\n    .dataframe tbody tr th:only-of-type {\n        vertical-align: middle;\n    }\n\n    .dataframe tbody tr th {\n        vertical-align: top;\n    }\n\n    .dataframe thead th {\n        text-align: right;\n    }\n</style>\n<table border=\"1\" class=\"dataframe\">\n  <thead>\n    <tr style=\"text-align: right;\">\n      <th></th>\n      <th>growth_total</th>\n      <th>growth_active</th>\n    </tr>\n  </thead>\n  <tbody>\n    <tr>\n      <th>0</th>\n      <td>1.969973</td>\n      <td>1.997522</td>\n    </tr>\n  </tbody>\n</table>\n</div>"
          },
          "metadata": {}
        }
      ],
      "execution_count": 9,
      "block_group": "698fbac29f3a47bfb9a5af21f679a906"
    },
    {
      "cell_type": "code",
      "source": "base_users = _deepnote_execute_sql('-- Get the weekly status of each user based on first_app_open and if there was an event in the same week.active\\n-- For this,the values will be encoded as follow: 4 - active, 5 - inactive, 7 - new, 5 - existing\\n\\nWITH encode AS (\\n    SELECT DISTINCT\\n        apps_open.user_skey AS apps_user_key\\n        , COALESCE(date_trunc(\\'week\\', apps_open.date_time), date_trunc(\\'week\\', events.date_time)) AS week \\n        , MAX(CASE WHEN events.user_skey IS NOT NULL THEN 5\\n                   WHEN (events.user_skey IS NULL OR events.session_skey IS NULL) THEN 4\\n                   ELSE 1 END) AS is_active\\n        , MAX(CASE WHEN is_first_app_open = True THEN 7\\n                   WHEN is_first_app_open = False THEN 5 \\n                   ELSE 1 END) AS is_new\\n        , COALESCE(is_active + is_new, 0) AS total\\n    FROM apps_open\\n        LEFT JOIN events ON apps_open.session_skey = events.session_skey \\n        AND date_trunc(\\'week\\', apps_open.date_time) = date_trunc(\\'week\\', events.date_time)\\n        AND apps_open.device_skey = events.device_skey\\n    GROUP BY 1, 2\\n)\\n\\n, pivoted AS (\\n    PIVOT encode ON week USING MAX(total) GROUP BY apps_user_key\\n)\\n\\n, decode AS (\\nSELECT apps_user_key\\n    , CASE WHEN \"2023-11-06\" IN (11, 12) THEN \\'new\\'\\n           WHEN \"2023-11-06\" = 9 THEN \\'existing_active\\'\\n           WHEN \"2023-11-06\" IN (9, 10) THEN \\'existing\\'\\n           END AS week_1\\n    , CASE WHEN \"2023-11-13\" IN (11, 12) THEN \\'new\\'\\n           WHEN \"2023-11-13\" = 9 THEN \\'existing_active\\'\\n           WHEN \"2023-11-13\" IN (9, 10) THEN \\'existing\\'\\n           END AS week_2\\nFROM pivoted\\n-- GROUP BY  1,2\\n)\\n, unique_status AS (\\n SELECT *, \\n  CASE WHEN  week_1 = \\'new\\'                    THEN \\'New week 1:\\'\\n        WHEN week_1 IS NULL AND week_2 = \\'new\\' THEN \\'New week 2:\\'\\n        WHEN week_1 IS NOT NULL\\n         AND week_2 IS NULL                    THEN \\'Churned:\\'\\n        WHEN week_1 IS NULL\\n         AND week_2 IS NOT NULL                THEN \\'Ressurrected:\\'\\n        WHEN week_1 IS NOT NULL \\n         AND week_2 IS NOT NULL                THEN \\'Retained:\\'\\n    END AS status\\nFROM decode\\n)\\n\\nSELECT \\n    status\\n    , COUNT(DISTINCT apps_user_key) AS users\\nFROM unique_status\\nGROUP BY 1', 'SQL_DEEPNOTE_DATAFRAME_SQL', audit_sql_comment='', sql_cache_mode='cache_disabled')\nbase_users",
      "metadata": {
        "source_hash": "3f1d1df8",
        "is_code_hidden": true,
        "execution_start": 1704204414546,
        "execution_millis": 297,
        "sql_integration_id": "deepnote-dataframe-sql",
        "deepnote_table_state": {
          "sortBy": [],
          "filters": [],
          "pageSize": 5,
          "pageIndex": 0
        },
        "deepnote_table_loading": false,
        "deepnote_variable_name": "base_users",
        "deepnote_app_coordinates": {
          "h": 120,
          "w": 12,
          "x": 0,
          "y": 0
        },
        "deepnote_to_be_reexecuted": false,
        "deepnote_app_is_code_hidden": false,
        "cell_id": "4d35e8faefd64df3bf7a20c67210e6f9",
        "deepnote_cell_type": "sql",
        "deepnote_sql_source": "-- Get the weekly status of each user based on first_app_open and if there was an event in the same week.active\n-- For this,the values will be encoded as follow: 4 - active, 5 - inactive, 7 - new, 5 - existing\n\nWITH encode AS (\n    SELECT DISTINCT\n        apps_open.user_skey AS apps_user_key\n        , COALESCE(date_trunc('week', apps_open.date_time), date_trunc('week', events.date_time)) AS week \n        , MAX(CASE WHEN events.user_skey IS NOT NULL THEN 5\n                   WHEN (events.user_skey IS NULL OR events.session_skey IS NULL) THEN 4\n                   ELSE 1 END) AS is_active\n        , MAX(CASE WHEN is_first_app_open = True THEN 7\n                   WHEN is_first_app_open = False THEN 5 \n                   ELSE 1 END) AS is_new\n        , COALESCE(is_active + is_new, 0) AS total\n    FROM apps_open\n        LEFT JOIN events ON apps_open.session_skey = events.session_skey \n        AND date_trunc('week', apps_open.date_time) = date_trunc('week', events.date_time)\n        AND apps_open.device_skey = events.device_skey\n    GROUP BY 1, 2\n)\n\n, pivoted AS (\n    PIVOT encode ON week USING MAX(total) GROUP BY apps_user_key\n)\n\n, decode AS (\nSELECT apps_user_key\n    , CASE WHEN \"2023-11-06\" IN (11, 12) THEN 'new'\n           WHEN \"2023-11-06\" = 9 THEN 'existing_active'\n           WHEN \"2023-11-06\" IN (9, 10) THEN 'existing'\n           END AS week_1\n    , CASE WHEN \"2023-11-13\" IN (11, 12) THEN 'new'\n           WHEN \"2023-11-13\" = 9 THEN 'existing_active'\n           WHEN \"2023-11-13\" IN (9, 10) THEN 'existing'\n           END AS week_2\nFROM pivoted\n-- GROUP BY  1,2\n)\n, unique_status AS (\n SELECT *, \n  CASE WHEN  week_1 = 'new'                    THEN 'New week 1:'\n        WHEN week_1 IS NULL AND week_2 = 'new' THEN 'New week 2:'\n        WHEN week_1 IS NOT NULL\n         AND week_2 IS NULL                    THEN 'Churned:'\n        WHEN week_1 IS NULL\n         AND week_2 IS NOT NULL                THEN 'Ressurrected:'\n        WHEN week_1 IS NOT NULL \n         AND week_2 IS NOT NULL                THEN 'Retained:'\n    END AS status\nFROM decode\n)\n\nSELECT \n    status\n    , COUNT(DISTINCT apps_user_key) AS users\nFROM unique_status\nGROUP BY 1"
      },
      "outputs": [
        {
          "data": {
            "application/vnd.deepnote.sql-output-metadata+json": {
              "status": "success_no_cache",
              "size_in_bytes": 505
            }
          },
          "metadata": {},
          "output_type": "display_data"
        },
        {
          "output_type": "execute_result",
          "execution_count": 10,
          "data": {
            "application/vnd.deepnote.dataframe.v3+json": {
              "column_count": 2,
              "row_count": 5,
              "columns": [
                {
                  "name": "status",
                  "dtype": "object",
                  "stats": {
                    "unique_count": 5,
                    "nan_count": 0,
                    "categories": [
                      {
                        "name": "Churned:",
                        "count": 1
                      },
                      {
                        "name": "Ressurrected:",
                        "count": 1
                      },
                      {
                        "name": "3 others",
                        "count": 3
                      }
                    ]
                  }
                },
                {
                  "name": "users",
                  "dtype": "int64",
                  "stats": {
                    "unique_count": 5,
                    "nan_count": 0,
                    "min": "1",
                    "max": "67441",
                    "histogram": [
                      {
                        "bin_start": 1,
                        "bin_end": 6745,
                        "count": 3
                      },
                      {
                        "bin_start": 6745,
                        "bin_end": 13489,
                        "count": 0
                      },
                      {
                        "bin_start": 13489,
                        "bin_end": 20233,
                        "count": 0
                      },
                      {
                        "bin_start": 20233,
                        "bin_end": 26977,
                        "count": 0
                      },
                      {
                        "bin_start": 26977,
                        "bin_end": 33721,
                        "count": 0
                      },
                      {
                        "bin_start": 33721,
                        "bin_end": 40465,
                        "count": 0
                      },
                      {
                        "bin_start": 40465,
                        "bin_end": 47209,
                        "count": 0
                      },
                      {
                        "bin_start": 47209,
                        "bin_end": 53953,
                        "count": 0
                      },
                      {
                        "bin_start": 53953,
                        "bin_end": 60697,
                        "count": 0
                      },
                      {
                        "bin_start": 60697,
                        "bin_end": 67441,
                        "count": 2
                      }
                    ]
                  }
                },
                {
                  "name": "_deepnote_index_column",
                  "dtype": "int64"
                }
              ],
              "rows": [
                {
                  "status": "Churned:",
                  "users": 66101,
                  "_deepnote_index_column": 0
                },
                {
                  "status": "Ressurrected:",
                  "users": 67441,
                  "_deepnote_index_column": 1
                },
                {
                  "status": "Retained:",
                  "users": 1969,
                  "_deepnote_index_column": 2
                },
                {
                  "status": "New week 2:",
                  "users": 1,
                  "_deepnote_index_column": 3
                },
                {
                  "status": "New week 1:",
                  "users": 2,
                  "_deepnote_index_column": 4
                }
              ]
            },
            "text/plain": "          status  users\n0       Churned:  66101\n1  Ressurrected:  67441\n2      Retained:   1969\n3    New week 2:      1\n4    New week 1:      2",
            "text/html": "<div>\n<style scoped>\n    .dataframe tbody tr th:only-of-type {\n        vertical-align: middle;\n    }\n\n    .dataframe tbody tr th {\n        vertical-align: top;\n    }\n\n    .dataframe thead th {\n        text-align: right;\n    }\n</style>\n<table border=\"1\" class=\"dataframe\">\n  <thead>\n    <tr style=\"text-align: right;\">\n      <th></th>\n      <th>status</th>\n      <th>users</th>\n    </tr>\n  </thead>\n  <tbody>\n    <tr>\n      <th>0</th>\n      <td>Churned:</td>\n      <td>66101</td>\n    </tr>\n    <tr>\n      <th>1</th>\n      <td>Ressurrected:</td>\n      <td>67441</td>\n    </tr>\n    <tr>\n      <th>2</th>\n      <td>Retained:</td>\n      <td>1969</td>\n    </tr>\n    <tr>\n      <th>3</th>\n      <td>New week 2:</td>\n      <td>1</td>\n    </tr>\n    <tr>\n      <th>4</th>\n      <td>New week 1:</td>\n      <td>2</td>\n    </tr>\n  </tbody>\n</table>\n</div>"
          },
          "metadata": {}
        }
      ],
      "execution_count": 10,
      "block_group": "a379eef75c2d482cbdf4dbd7feeec80c"
    },
    {
      "cell_type": "markdown",
      "source": "> 3. Write a SQL query to calculate the user’s daily retention rate for 7 days. Calculate both Sticky and Cohorted Retention",
      "metadata": {
        "formattedRanges": [],
        "deepnote_app_coordinates": {
          "h": 2,
          "w": 8,
          "x": 0,
          "y": 0
        },
        "cell_id": "c1cf56162af84aed9353af0f527985a1",
        "deepnote_cell_type": "text-cell-callout"
      },
      "block_group": "43c9354cff2d4157a90ca2447098486d"
    },
    {
      "cell_type": "markdown",
      "source": "Retention rate is a measure of how many users return to the app after their first visit. \n- Cohorted Retention: This looks at users who started using the application on a specific date, then checks to see if they're still using the app after a certain number of days.\n- Sticky Retention: This is a measure of how often the user is engaged with the app (usually on a daily or monthly basis). It's calculated by dividing the Daily Active Users (DAU) by the Monthly/Week Active Users (M/WAU).",
      "metadata": {
        "formattedRanges": [],
        "deepnote_app_coordinates": {
          "h": 2,
          "w": 8,
          "x": 0,
          "y": 0
        },
        "cell_id": "67cb0d665999480d97e1287e72fd642c",
        "deepnote_cell_type": "text-cell-p"
      },
      "block_group": "9f9b5e40700c4137bb8c45a0ee203e83"
    },
    {
      "cell_type": "code",
      "source": "cohort = _deepnote_execute_sql('WITH cohorts AS (\\n    SELECT\\n        apps_open.user_skey,\\n        DATE_TRUNC(\\'day\\', MIN(apps_open.date_time)) AS start_date\\n    FROM apps_open\\n    WHERE date_time > \\'2023-11-07\\'\\n    GROUP BY 1\\n)\\n\\n, cohort AS (\\n    SELECT\\n        start_date\\n        , \\'day\\' AS beginning\\n        , date_diff(\\'day\\', start_date, DATE_TRUNC(\\'day\\', date_time)) AS cohort_date\\n        , COUNT(DISTINCT user_skey) AS total_users\\n    FROM apps_open\\n    JOIN cohorts USING (user_skey)\\n    GROUP BY 1,2,3\\n)\\n\\n,pivoted AS (\\nPIVOT (SELECT * FROM cohort WHERE cohort_date <= 7) \\n    ON beginning,cohort_date USING SUM(total_users)\\n)\\n\\nSELECT \\n    start_date\\n        , day_1\\n        , (day_2/day_1 * 100)::DECIMAL(10,2) || \\'%\\' AS rate_day_2\\n        , (day_3/day_1 * 100)::DECIMAL(10,2) || \\'%\\' AS rate_day_3\\n        , (day_4/day_1 * 100)::DECIMAL(10,2) || \\'%\\' AS rate_day_4\\n        , (day_5/day_1 * 100)::DECIMAL(10,2) || \\'%\\' AS rate_day_5\\n        , (day_6/day_1 * 100)::DECIMAL(10,2) || \\'%\\' AS rate_day_6\\n        , (day_7/day_1 * 100)::DECIMAL(10,2) || \\'%\\' AS rate_day_7\\nFROM pivoted\\n', 'SQL_DEEPNOTE_DATAFRAME_SQL', audit_sql_comment='', sql_cache_mode='cache_disabled')\ncohort",
      "metadata": {
        "source_hash": "1e1cb474",
        "execution_start": 1704204414850,
        "execution_millis": 207,
        "sql_integration_id": "deepnote-dataframe-sql",
        "deepnote_table_state": {
          "sortBy": [
            {
              "id": "start_date",
              "type": "asc"
            }
          ],
          "filters": [],
          "pageSize": 10,
          "pageIndex": 0
        },
        "deepnote_table_loading": false,
        "deepnote_variable_name": "cohort",
        "deepnote_app_coordinates": {
          "h": 120,
          "w": 12,
          "x": 0,
          "y": 0
        },
        "deepnote_to_be_reexecuted": false,
        "deepnote_app_is_code_hidden": false,
        "cell_id": "7ceddbe56aaa4dad8f322a152a8062ca",
        "deepnote_cell_type": "sql",
        "deepnote_sql_source": "WITH cohorts AS (\n    SELECT\n        apps_open.user_skey,\n        DATE_TRUNC('day', MIN(apps_open.date_time)) AS start_date\n    FROM apps_open\n    WHERE date_time > '2023-11-07'\n    GROUP BY 1\n)\n\n, cohort AS (\n    SELECT\n        start_date\n        , 'day' AS beginning\n        , date_diff('day', start_date, DATE_TRUNC('day', date_time)) AS cohort_date\n        , COUNT(DISTINCT user_skey) AS total_users\n    FROM apps_open\n    JOIN cohorts USING (user_skey)\n    GROUP BY 1,2,3\n)\n\n,pivoted AS (\nPIVOT (SELECT * FROM cohort WHERE cohort_date <= 7) \n    ON beginning,cohort_date USING SUM(total_users)\n)\n\nSELECT \n    start_date\n        , day_1\n        , (day_2/day_1 * 100)::DECIMAL(10,2) || '%' AS rate_day_2\n        , (day_3/day_1 * 100)::DECIMAL(10,2) || '%' AS rate_day_3\n        , (day_4/day_1 * 100)::DECIMAL(10,2) || '%' AS rate_day_4\n        , (day_5/day_1 * 100)::DECIMAL(10,2) || '%' AS rate_day_5\n        , (day_6/day_1 * 100)::DECIMAL(10,2) || '%' AS rate_day_6\n        , (day_7/day_1 * 100)::DECIMAL(10,2) || '%' AS rate_day_7\nFROM pivoted\n"
      },
      "outputs": [
        {
          "data": {
            "application/vnd.deepnote.sql-output-metadata+json": {
              "status": "success_no_cache",
              "size_in_bytes": 4615
            }
          },
          "metadata": {},
          "output_type": "display_data"
        },
        {
          "output_type": "execute_result",
          "execution_count": 11,
          "data": {
            "application/vnd.deepnote.dataframe.v3+json": {
              "column_count": 8,
              "row_count": 13,
              "columns": [
                {
                  "name": "start_date",
                  "dtype": "object",
                  "stats": {
                    "unique_count": 13,
                    "nan_count": 0,
                    "categories": [
                      {
                        "name": "2023-11-07",
                        "count": 1
                      },
                      {
                        "name": "2023-11-08",
                        "count": 1
                      },
                      {
                        "name": "11 others",
                        "count": 11
                      }
                    ]
                  }
                },
                {
                  "name": "day_1",
                  "dtype": "float64",
                  "stats": {
                    "unique_count": 9,
                    "nan_count": 1,
                    "min": "44.0",
                    "max": "76.0",
                    "histogram": [
                      {
                        "bin_start": 44,
                        "bin_end": 47.2,
                        "count": 1
                      },
                      {
                        "bin_start": 47.2,
                        "bin_end": 50.4,
                        "count": 1
                      },
                      {
                        "bin_start": 50.4,
                        "bin_end": 53.6,
                        "count": 4
                      },
                      {
                        "bin_start": 53.6,
                        "bin_end": 56.8,
                        "count": 1
                      },
                      {
                        "bin_start": 56.8,
                        "bin_end": 60,
                        "count": 0
                      },
                      {
                        "bin_start": 60,
                        "bin_end": 63.2,
                        "count": 2
                      },
                      {
                        "bin_start": 63.2,
                        "bin_end": 66.4,
                        "count": 1
                      },
                      {
                        "bin_start": 66.4,
                        "bin_end": 69.6,
                        "count": 0
                      },
                      {
                        "bin_start": 69.6,
                        "bin_end": 72.8,
                        "count": 1
                      },
                      {
                        "bin_start": 72.8,
                        "bin_end": 76,
                        "count": 1
                      }
                    ]
                  }
                },
                {
                  "name": "rate_day_2",
                  "dtype": "object",
                  "stats": {
                    "unique_count": 11,
                    "nan_count": 2,
                    "categories": [
                      {
                        "name": "80.26%",
                        "count": 1
                      },
                      {
                        "name": "10 others",
                        "count": 10
                      },
                      {
                        "name": "Missing",
                        "count": 2
                      }
                    ]
                  }
                },
                {
                  "name": "rate_day_3",
                  "dtype": "object",
                  "stats": {
                    "unique_count": 10,
                    "nan_count": 3,
                    "categories": [
                      {
                        "name": "80.26%",
                        "count": 1
                      },
                      {
                        "name": "9 others",
                        "count": 9
                      },
                      {
                        "name": "Missing",
                        "count": 3
                      }
                    ]
                  }
                },
                {
                  "name": "rate_day_4",
                  "dtype": "object",
                  "stats": {
                    "unique_count": 9,
                    "nan_count": 4,
                    "categories": [
                      {
                        "name": "59.21%",
                        "count": 1
                      },
                      {
                        "name": "8 others",
                        "count": 8
                      },
                      {
                        "name": "Missing",
                        "count": 4
                      }
                    ]
                  }
                },
                {
                  "name": "rate_day_5",
                  "dtype": "object",
                  "stats": {
                    "unique_count": 8,
                    "nan_count": 5,
                    "categories": [
                      {
                        "name": "60.53%",
                        "count": 1
                      },
                      {
                        "name": "7 others",
                        "count": 7
                      },
                      {
                        "name": "Missing",
                        "count": 5
                      }
                    ]
                  }
                },
                {
                  "name": "rate_day_6",
                  "dtype": "object",
                  "stats": {
                    "unique_count": 7,
                    "nan_count": 6,
                    "categories": [
                      {
                        "name": "64.47%",
                        "count": 1
                      },
                      {
                        "name": "6 others",
                        "count": 6
                      },
                      {
                        "name": "Missing",
                        "count": 6
                      }
                    ]
                  }
                },
                {
                  "name": "rate_day_7",
                  "dtype": "object",
                  "stats": {
                    "unique_count": 6,
                    "nan_count": 7,
                    "categories": [
                      {
                        "name": "68.42%",
                        "count": 1
                      },
                      {
                        "name": "5 others",
                        "count": 5
                      },
                      {
                        "name": "Missing",
                        "count": 7
                      }
                    ]
                  }
                },
                {
                  "name": "_deepnote_index_column",
                  "dtype": "int64"
                }
              ],
              "rows": [
                {
                  "start_date": "2023-11-07",
                  "day_1": 76,
                  "rate_day_2": "80.26%",
                  "rate_day_3": "80.26%",
                  "rate_day_4": "59.21%",
                  "rate_day_5": "60.53%",
                  "rate_day_6": "64.47%",
                  "rate_day_7": "68.42%",
                  "_deepnote_index_column": 4
                },
                {
                  "start_date": "2023-11-08",
                  "day_1": 70,
                  "rate_day_2": "74.29%",
                  "rate_day_3": "47.14%",
                  "rate_day_4": "68.57%",
                  "rate_day_5": "48.57%",
                  "rate_day_6": "67.14%",
                  "rate_day_7": "71.43%",
                  "_deepnote_index_column": 1
                },
                {
                  "start_date": "2023-11-09",
                  "day_1": 56,
                  "rate_day_2": "64.29%",
                  "rate_day_3": "96.43%",
                  "rate_day_4": "64.29%",
                  "rate_day_5": "85.71%",
                  "rate_day_6": "60.71%",
                  "rate_day_7": "91.07%",
                  "_deepnote_index_column": 2
                },
                {
                  "start_date": "2023-11-10",
                  "day_1": 53,
                  "rate_day_2": "94.34%",
                  "rate_day_3": "86.79%",
                  "rate_day_4": "86.79%",
                  "rate_day_5": "83.02%",
                  "rate_day_6": "101.89%",
                  "rate_day_7": "71.70%",
                  "_deepnote_index_column": 0
                },
                {
                  "start_date": "2023-11-11",
                  "day_1": 62,
                  "rate_day_2": "87.10%",
                  "rate_day_3": "62.90%",
                  "rate_day_4": "80.65%",
                  "rate_day_5": "75.81%",
                  "rate_day_6": "66.13%",
                  "rate_day_7": "91.94%",
                  "_deepnote_index_column": 3
                },
                {
                  "start_date": "2023-11-12",
                  "day_1": 64,
                  "rate_day_2": "82.81%",
                  "rate_day_3": "46.88%",
                  "rate_day_4": "73.44%",
                  "rate_day_5": "62.50%",
                  "rate_day_6": "79.69%",
                  "rate_day_7": "68.75%",
                  "_deepnote_index_column": 5
                },
                {
                  "start_date": "2023-11-13",
                  "day_1": 53,
                  "rate_day_2": "56.60%",
                  "rate_day_3": "75.47%",
                  "rate_day_4": "77.36%",
                  "rate_day_5": "86.79%",
                  "rate_day_6": "86.79%",
                  "rate_day_7": "None",
                  "_deepnote_index_column": 10
                },
                {
                  "start_date": "2023-11-14",
                  "day_1": 52,
                  "rate_day_2": "73.08%",
                  "rate_day_3": "101.92%",
                  "rate_day_4": "88.46%",
                  "rate_day_5": "67.31%",
                  "rate_day_6": "None",
                  "rate_day_7": "None",
                  "_deepnote_index_column": 9
                },
                {
                  "start_date": "2023-11-15",
                  "day_1": 62,
                  "rate_day_2": "79.03%",
                  "rate_day_3": "69.35%",
                  "rate_day_4": "54.84%",
                  "rate_day_5": "None",
                  "rate_day_6": "None",
                  "rate_day_7": "None",
                  "_deepnote_index_column": 11
                },
                {
                  "start_date": "2023-11-16",
                  "day_1": 44,
                  "rate_day_2": "90.91%",
                  "rate_day_3": "95.45%",
                  "rate_day_4": "None",
                  "rate_day_5": "None",
                  "rate_day_6": "None",
                  "rate_day_7": "None",
                  "_deepnote_index_column": 6
                }
              ]
            },
            "text/plain": "    start_date  day_1 rate_day_2 rate_day_3 rate_day_4 rate_day_5 rate_day_6  \\\n0   2023-11-10   53.0     94.34%     86.79%     86.79%     83.02%    101.89%   \n1   2023-11-08   70.0     74.29%     47.14%     68.57%     48.57%     67.14%   \n2   2023-11-09   56.0     64.29%     96.43%     64.29%     85.71%     60.71%   \n3   2023-11-11   62.0     87.10%     62.90%     80.65%     75.81%     66.13%   \n4   2023-11-07   76.0     80.26%     80.26%     59.21%     60.53%     64.47%   \n5   2023-11-12   64.0     82.81%     46.88%     73.44%     62.50%     79.69%   \n6   2023-11-16   44.0     90.91%     95.45%       None       None       None   \n7   2023-11-17   52.0     75.00%       None       None       None       None   \n8   2023-11-18   49.0       None       None       None       None       None   \n9   2023-11-14   52.0     73.08%    101.92%     88.46%     67.31%       None   \n10  2023-11-13   53.0     56.60%     75.47%     77.36%     86.79%     86.79%   \n11  2023-11-15   62.0     79.03%     69.35%     54.84%       None       None   \n12  2023-11-19    NaN       None       None       None       None       None   \n\n   rate_day_7  \n0      71.70%  \n1      71.43%  \n2      91.07%  \n3      91.94%  \n4      68.42%  \n5      68.75%  \n6        None  \n7        None  \n8        None  \n9        None  \n10       None  \n11       None  \n12       None  ",
            "text/html": "<div>\n<style scoped>\n    .dataframe tbody tr th:only-of-type {\n        vertical-align: middle;\n    }\n\n    .dataframe tbody tr th {\n        vertical-align: top;\n    }\n\n    .dataframe thead th {\n        text-align: right;\n    }\n</style>\n<table border=\"1\" class=\"dataframe\">\n  <thead>\n    <tr style=\"text-align: right;\">\n      <th></th>\n      <th>start_date</th>\n      <th>day_1</th>\n      <th>rate_day_2</th>\n      <th>rate_day_3</th>\n      <th>rate_day_4</th>\n      <th>rate_day_5</th>\n      <th>rate_day_6</th>\n      <th>rate_day_7</th>\n    </tr>\n  </thead>\n  <tbody>\n    <tr>\n      <th>0</th>\n      <td>2023-11-10</td>\n      <td>53.0</td>\n      <td>94.34%</td>\n      <td>86.79%</td>\n      <td>86.79%</td>\n      <td>83.02%</td>\n      <td>101.89%</td>\n      <td>71.70%</td>\n    </tr>\n    <tr>\n      <th>1</th>\n      <td>2023-11-08</td>\n      <td>70.0</td>\n      <td>74.29%</td>\n      <td>47.14%</td>\n      <td>68.57%</td>\n      <td>48.57%</td>\n      <td>67.14%</td>\n      <td>71.43%</td>\n    </tr>\n    <tr>\n      <th>2</th>\n      <td>2023-11-09</td>\n      <td>56.0</td>\n      <td>64.29%</td>\n      <td>96.43%</td>\n      <td>64.29%</td>\n      <td>85.71%</td>\n      <td>60.71%</td>\n      <td>91.07%</td>\n    </tr>\n    <tr>\n      <th>3</th>\n      <td>2023-11-11</td>\n      <td>62.0</td>\n      <td>87.10%</td>\n      <td>62.90%</td>\n      <td>80.65%</td>\n      <td>75.81%</td>\n      <td>66.13%</td>\n      <td>91.94%</td>\n    </tr>\n    <tr>\n      <th>4</th>\n      <td>2023-11-07</td>\n      <td>76.0</td>\n      <td>80.26%</td>\n      <td>80.26%</td>\n      <td>59.21%</td>\n      <td>60.53%</td>\n      <td>64.47%</td>\n      <td>68.42%</td>\n    </tr>\n    <tr>\n      <th>5</th>\n      <td>2023-11-12</td>\n      <td>64.0</td>\n      <td>82.81%</td>\n      <td>46.88%</td>\n      <td>73.44%</td>\n      <td>62.50%</td>\n      <td>79.69%</td>\n      <td>68.75%</td>\n    </tr>\n    <tr>\n      <th>6</th>\n      <td>2023-11-16</td>\n      <td>44.0</td>\n      <td>90.91%</td>\n      <td>95.45%</td>\n      <td>None</td>\n      <td>None</td>\n      <td>None</td>\n      <td>None</td>\n    </tr>\n    <tr>\n      <th>7</th>\n      <td>2023-11-17</td>\n      <td>52.0</td>\n      <td>75.00%</td>\n      <td>None</td>\n      <td>None</td>\n      <td>None</td>\n      <td>None</td>\n      <td>None</td>\n    </tr>\n    <tr>\n      <th>8</th>\n      <td>2023-11-18</td>\n      <td>49.0</td>\n      <td>None</td>\n      <td>None</td>\n      <td>None</td>\n      <td>None</td>\n      <td>None</td>\n      <td>None</td>\n    </tr>\n    <tr>\n      <th>9</th>\n      <td>2023-11-14</td>\n      <td>52.0</td>\n      <td>73.08%</td>\n      <td>101.92%</td>\n      <td>88.46%</td>\n      <td>67.31%</td>\n      <td>None</td>\n      <td>None</td>\n    </tr>\n    <tr>\n      <th>10</th>\n      <td>2023-11-13</td>\n      <td>53.0</td>\n      <td>56.60%</td>\n      <td>75.47%</td>\n      <td>77.36%</td>\n      <td>86.79%</td>\n      <td>86.79%</td>\n      <td>None</td>\n    </tr>\n    <tr>\n      <th>11</th>\n      <td>2023-11-15</td>\n      <td>62.0</td>\n      <td>79.03%</td>\n      <td>69.35%</td>\n      <td>54.84%</td>\n      <td>None</td>\n      <td>None</td>\n      <td>None</td>\n    </tr>\n    <tr>\n      <th>12</th>\n      <td>2023-11-19</td>\n      <td>NaN</td>\n      <td>None</td>\n      <td>None</td>\n      <td>None</td>\n      <td>None</td>\n      <td>None</td>\n      <td>None</td>\n    </tr>\n  </tbody>\n</table>\n</div>"
          },
          "metadata": {}
        }
      ],
      "execution_count": 11,
      "block_group": "1b87409f9a9246ca95371f9d3ced6d61"
    },
    {
      "cell_type": "code",
      "source": "stickiness = _deepnote_execute_sql('WITH daily_users AS (\\n    SELECT \\n        DATE_TRUNC(\\'day\\', date_time) AS day,\\n        COUNT(DISTINCT user_skey) AS dau\\n    FROM events\\n    GROUP BY 1\\n),\\n\\nweekly_users AS (\\n    SELECT\\n        DATE_TRUNC(\\'week\\', date_time) AS week,\\n        COUNT(DISTINCT user_skey) AS wau\\n    FROM events\\n    GROUP BY 1\\n)\\n\\nSELECT\\n    week,\\n    (AVG(dau) / wau *100)::DECIMAL(10,5) || \\' %\\'AS sticky_retention\\nFROM daily_users\\nJOIN weekly_users ON DATE_TRUNC(\\'week\\', day) = week\\nGROUP BY week, wau', 'SQL_DEEPNOTE_DATAFRAME_SQL', audit_sql_comment='', sql_cache_mode='cache_disabled')\nstickiness",
      "metadata": {
        "source_hash": "80a77cda",
        "execution_start": 1704204415106,
        "execution_millis": 54,
        "sql_integration_id": "deepnote-dataframe-sql",
        "deepnote_variable_name": "stickiness",
        "deepnote_app_coordinates": {
          "h": 120,
          "w": 12,
          "x": 0,
          "y": 0
        },
        "deepnote_to_be_reexecuted": false,
        "deepnote_app_is_code_hidden": false,
        "cell_id": "ed3dd1c3461a4b77b740d5ef838eabb3",
        "deepnote_cell_type": "sql",
        "deepnote_sql_source": "WITH daily_users AS (\n    SELECT \n        DATE_TRUNC('day', date_time) AS day,\n        COUNT(DISTINCT user_skey) AS dau\n    FROM events\n    GROUP BY 1\n),\n\nweekly_users AS (\n    SELECT\n        DATE_TRUNC('week', date_time) AS week,\n        COUNT(DISTINCT user_skey) AS wau\n    FROM events\n    GROUP BY 1\n)\n\nSELECT\n    week,\n    (AVG(dau) / wau *100)::DECIMAL(10,5) || ' %'AS sticky_retention\nFROM daily_users\nJOIN weekly_users ON DATE_TRUNC('week', day) = week\nGROUP BY week, wau"
      },
      "outputs": [
        {
          "data": {
            "application/vnd.deepnote.sql-output-metadata+json": {
              "status": "success_no_cache",
              "size_in_bytes": 342
            }
          },
          "metadata": {},
          "output_type": "display_data"
        },
        {
          "output_type": "execute_result",
          "execution_count": 12,
          "data": {
            "application/vnd.deepnote.dataframe.v3+json": {
              "column_count": 2,
              "row_count": 2,
              "columns": [
                {
                  "name": "week",
                  "dtype": "object",
                  "stats": {
                    "unique_count": 2,
                    "nan_count": 0,
                    "categories": [
                      {
                        "name": "2023-11-06",
                        "count": 1
                      },
                      {
                        "name": "2023-11-13",
                        "count": 1
                      }
                    ]
                  }
                },
                {
                  "name": "sticky_retention",
                  "dtype": "object",
                  "stats": {
                    "unique_count": 2,
                    "nan_count": 0,
                    "categories": [
                      {
                        "name": "14.51583 %",
                        "count": 1
                      },
                      {
                        "name": "14.51684 %",
                        "count": 1
                      }
                    ]
                  }
                },
                {
                  "name": "_deepnote_index_column",
                  "dtype": "int64"
                }
              ],
              "rows": [
                {
                  "week": "2023-11-06",
                  "sticky_retention": "14.51583 %",
                  "_deepnote_index_column": 0
                },
                {
                  "week": "2023-11-13",
                  "sticky_retention": "14.51684 %",
                  "_deepnote_index_column": 1
                }
              ]
            },
            "text/plain": "         week sticky_retention\n0  2023-11-06       14.51583 %\n1  2023-11-13       14.51684 %",
            "text/html": "<div>\n<style scoped>\n    .dataframe tbody tr th:only-of-type {\n        vertical-align: middle;\n    }\n\n    .dataframe tbody tr th {\n        vertical-align: top;\n    }\n\n    .dataframe thead th {\n        text-align: right;\n    }\n</style>\n<table border=\"1\" class=\"dataframe\">\n  <thead>\n    <tr style=\"text-align: right;\">\n      <th></th>\n      <th>week</th>\n      <th>sticky_retention</th>\n    </tr>\n  </thead>\n  <tbody>\n    <tr>\n      <th>0</th>\n      <td>2023-11-06</td>\n      <td>14.51583 %</td>\n    </tr>\n    <tr>\n      <th>1</th>\n      <td>2023-11-13</td>\n      <td>14.51684 %</td>\n    </tr>\n  </tbody>\n</table>\n</div>"
          },
          "metadata": {}
        }
      ],
      "execution_count": 12,
      "block_group": "d74070e3c37949b591d8e14c2f6a5130"
    },
    {
      "cell_type": "markdown",
      "source": "## Part 2 - User Activity Analysis",
      "metadata": {
        "formattedRanges": [],
        "deepnote_app_coordinates": {
          "h": 120,
          "w": 12,
          "x": 0,
          "y": 0
        },
        "cell_id": "18edead5e3a747edb2ebd948bcca47ba",
        "deepnote_cell_type": "text-cell-h2"
      },
      "block_group": "a4d4d5ad29524e239a5c289ed59cb7db"
    },
    {
      "cell_type": "markdown",
      "source": "> Please perform an analysis using the dataset provided. The goal is to find insights and suggest action(s) to stakeholders through your findings. Use Python, R, or a similar programming language to generate an analysis that could be shared/reviewed by other analysts.",
      "metadata": {
        "formattedRanges": [],
        "deepnote_app_coordinates": {
          "h": 2,
          "w": 8,
          "x": 0,
          "y": 0
        },
        "cell_id": "a5f140e15abd4b37a1adee3b0d52fea2",
        "deepnote_cell_type": "text-cell-callout"
      },
      "block_group": "458e5846aed1430fa02c85e438a91bb2"
    },
    {
      "cell_type": "markdown",
      "source": "#### Analysis focus:\n\n**1. Daily unique users:** Help us understand the daily user engagement, trends and behaviors in the app.\n\n**2. User tendencies over platforms:** Evaluate the proportion of users on different platforms (Apple vs Android).\n> - This analysis can offer a better understanding of user preferences and could guide developers in optimizing the  app experience for particular platforms.\n> - It can help guide the development team to tailor their work to the preference of majority users.\n> - Distinguishing and understanding user preferences across different platforms can help guide the development team > tailor their work to the preference of majority users.\n\n**3. Day of the week influence:** Identifying fluctuations of user engagement throughout the week can assist in timely and targeted marketing campaigns.\n\n**4. Time spent on the app:** Evaluate the time spent on the app across different platforms and provide insights on how to improve the user experience.\n\n#### Insights:\n\n- Promotions or campaigns can be timed to periods of low user engagement to boost usage during these times.\n- If the majority of users prefer one platform over another, consider focusing on enhancing the user experience on that platform.\n- Use engagement patterns to inform future feature developments, updates, and bug fixes.",
      "metadata": {
        "deepnote_app_coordinates": {
          "h": 120,
          "w": 12,
          "x": 0,
          "y": 0
        },
        "cell_id": "cb9a434bcb1b43248b0a17eea639422f",
        "deepnote_cell_type": "markdown"
      },
      "block_group": "22a35a01a3384df59bd7da9c1f93cca5"
    },
    {
      "cell_type": "markdown",
      "source": "### Daily unique users",
      "metadata": {
        "formattedRanges": [],
        "deepnote_app_coordinates": {
          "h": 120,
          "w": 12,
          "x": 0,
          "y": 0
        },
        "cell_id": "f22f8b28fdde4ad4b36697d9bc45421b",
        "deepnote_cell_type": "text-cell-h3"
      },
      "block_group": "7cf6a72e29f541f2a96085465e828367"
    },
    {
      "cell_type": "code",
      "source": "import pandas as pd\n\napps_open_df = apps_open\napps_open_df['date_time'] = pd.to_datetime(apps_open_df['date_time'])\napps_open_df['date_time'] = apps_open_df['date_time'].dt.date\n\nunique_users_per_day = (apps_open_df.groupby([\"date_time\", \"platform\"])[\"user_skey\"].nunique().unstack(level=-1).reset_index())\nunique_users_per_day['android_proportion'] = unique_users_per_day['android'] / (unique_users_per_day['apple'] + unique_users_per_day['android']) * 100\nunique_users_per_day['apple_proportion'] = 100 - unique_users_per_day['android_proportion'] ",
      "metadata": {
        "source_hash": "467c986c",
        "is_code_hidden": false,
        "execution_start": 1704204415166,
        "execution_millis": 120,
        "deepnote_app_coordinates": {
          "h": 120,
          "w": 12,
          "x": 0,
          "y": 0
        },
        "deepnote_to_be_reexecuted": false,
        "deepnote_app_is_code_hidden": true,
        "cell_id": "b8d81e6d3c5b49c5b69bba764b9ac2d1",
        "deepnote_cell_type": "code"
      },
      "outputs": [],
      "execution_count": 13,
      "block_group": "1a9fc59375a94d87b6fe6357384bba25"
    },
    {
      "cell_type": "code",
      "source": "import plotly.subplots as sp\nimport plotly.express as px\n\nfig = sp.make_subplots(rows=1, cols=2, subplot_titles=(\"Number of Daily Active Users by Platform\", \"Proportion of users per day per platform\"), vertical_spacing=0.05)\n\nfig1 = px.line(unique_users_per_day, x='date_time', y=['android', 'apple'])\nfig.add_trace(fig1['data'][0], row=1, col=1)\nfig.add_trace(fig1['data'][1], row=1, col=1)\n\nfig2 = px.area(unique_users_per_day, x='date_time', y=['android_proportion', 'apple_proportion'], title='Proportion of users per day per platform')\nfig.add_trace(fig2['data'][0], row=1, col=2)\nfig.add_trace(fig2['data'][1], row=1, col=2)\n\nfig.update_layout(height=350, width=900, showlegend=False)\nfig.show()",
      "metadata": {
        "source_hash": "41cd2e7f",
        "is_code_hidden": true,
        "execution_start": 1704204415333,
        "execution_millis": 247,
        "deepnote_app_coordinates": {
          "h": 120,
          "w": 12,
          "x": 0,
          "y": 0
        },
        "deepnote_to_be_reexecuted": false,
        "deepnote_app_is_code_hidden": true,
        "cell_id": "6a2a28e89c5f4b2d948c7508b3c4bc80",
        "deepnote_cell_type": "code"
      },
      "outputs": [
        {
          "data": {
            "text/html": "<html>\n<head><meta charset=\"utf-8\" /></head>\n<body>\n    <div>            <script src=\"https://cdnjs.cloudflare.com/ajax/libs/mathjax/2.7.5/MathJax.js?config=TeX-AMS-MML_SVG\"></script><script type=\"text/javascript\">if (window.MathJax && window.MathJax.Hub && window.MathJax.Hub.Config) {window.MathJax.Hub.Config({SVG: {font: \"STIX-Web\"}});}</script>                <script type=\"text/javascript\">window.PlotlyConfig = {MathJaxConfig: 'local'};</script>\n        <script src=\"https://cdn.plot.ly/plotly-2.14.0.min.js\"></script>                <div id=\"4de0f237-c544-47d0-9207-60a2ea833d0c\" class=\"plotly-graph-div\" style=\"height:350px; width:900px;\"></div>            <script type=\"text/javascript\">                                    window.PLOTLYENV=window.PLOTLYENV || {};                                    if (document.getElementById(\"4de0f237-c544-47d0-9207-60a2ea833d0c\")) {                    Plotly.newPlot(                        \"4de0f237-c544-47d0-9207-60a2ea833d0c\",                        [{\"hovertemplate\":\"variable=android<br>date_time=%{x}<br>value=%{y}<extra></extra>\",\"legendgroup\":\"android\",\"line\":{\"color\":\"#636efa\",\"dash\":\"solid\"},\"marker\":{\"symbol\":\"circle\"},\"mode\":\"lines\",\"name\":\"android\",\"orientation\":\"v\",\"showlegend\":true,\"x\":[\"2023-11-06\",\"2023-11-07\",\"2023-11-08\",\"2023-11-09\",\"2023-11-10\",\"2023-11-11\",\"2023-11-12\",\"2023-11-13\",\"2023-11-14\",\"2023-11-15\",\"2023-11-16\",\"2023-11-17\",\"2023-11-18\",\"2023-11-19\"],\"xaxis\":\"x\",\"y\":[5192,5320,5385,5541,5545,5856,6018,5499,5243,5435,5655,5886,5997,6195],\"yaxis\":\"y\",\"type\":\"scatter\"},{\"hovertemplate\":\"variable=apple<br>date_time=%{x}<br>value=%{y}<extra></extra>\",\"legendgroup\":\"apple\",\"line\":{\"color\":\"#EF553B\",\"dash\":\"solid\"},\"marker\":{\"symbol\":\"circle\"},\"mode\":\"lines\",\"name\":\"apple\",\"orientation\":\"v\",\"showlegend\":true,\"x\":[\"2023-11-06\",\"2023-11-07\",\"2023-11-08\",\"2023-11-09\",\"2023-11-10\",\"2023-11-11\",\"2023-11-12\",\"2023-11-13\",\"2023-11-14\",\"2023-11-15\",\"2023-11-16\",\"2023-11-17\",\"2023-11-18\",\"2023-11-19\"],\"xaxis\":\"x\",\"y\":[4189,4183,4234,4113,4374,4586,4619,4425,4009,4209,4300,4535,4474,4658],\"yaxis\":\"y\",\"type\":\"scatter\"},{\"fillpattern\":{\"shape\":\"\"},\"hovertemplate\":\"variable=android_proportion<br>date_time=%{x}<br>value=%{y}<extra></extra>\",\"legendgroup\":\"android_proportion\",\"line\":{\"color\":\"#636efa\"},\"marker\":{\"symbol\":\"circle\"},\"mode\":\"lines\",\"name\":\"android_proportion\",\"orientation\":\"v\",\"showlegend\":true,\"stackgroup\":\"1\",\"x\":[\"2023-11-06\",\"2023-11-07\",\"2023-11-08\",\"2023-11-09\",\"2023-11-10\",\"2023-11-11\",\"2023-11-12\",\"2023-11-13\",\"2023-11-14\",\"2023-11-15\",\"2023-11-16\",\"2023-11-17\",\"2023-11-18\",\"2023-11-19\"],\"xaxis\":\"x2\",\"y\":[55.34591194968554,55.98232137219825,55.98295041064559,57.395898073337484,55.90281278354673,56.08121049607355,56.5761022844787,55.411124546553815,56.66882836143537,56.356283699709664,56.805625313912614,56.48210344496689,57.27246681310285,57.080991430940756],\"yaxis\":\"y2\",\"type\":\"scatter\"},{\"fillpattern\":{\"shape\":\"\"},\"hovertemplate\":\"variable=apple_proportion<br>date_time=%{x}<br>value=%{y}<extra></extra>\",\"legendgroup\":\"apple_proportion\",\"line\":{\"color\":\"#EF553B\"},\"marker\":{\"symbol\":\"circle\"},\"mode\":\"lines\",\"name\":\"apple_proportion\",\"orientation\":\"v\",\"showlegend\":true,\"stackgroup\":\"1\",\"x\":[\"2023-11-06\",\"2023-11-07\",\"2023-11-08\",\"2023-11-09\",\"2023-11-10\",\"2023-11-11\",\"2023-11-12\",\"2023-11-13\",\"2023-11-14\",\"2023-11-15\",\"2023-11-16\",\"2023-11-17\",\"2023-11-18\",\"2023-11-19\"],\"xaxis\":\"x2\",\"y\":[44.65408805031446,44.01767862780175,44.01704958935441,42.604101926662516,44.09718721645327,43.91878950392645,43.4238977155213,44.588875453446185,43.33117163856463,43.643716300290336,43.194374686087386,43.51789655503311,42.72753318689715,42.919008569059244],\"yaxis\":\"y2\",\"type\":\"scatter\"}],                        {\"template\":{\"data\":{\"histogram2dcontour\":[{\"type\":\"histogram2dcontour\",\"colorbar\":{\"outlinewidth\":0,\"ticks\":\"\"},\"colorscale\":[[0.0,\"#0d0887\"],[0.1111111111111111,\"#46039f\"],[0.2222222222222222,\"#7201a8\"],[0.3333333333333333,\"#9c179e\"],[0.4444444444444444,\"#bd3786\"],[0.5555555555555556,\"#d8576b\"],[0.6666666666666666,\"#ed7953\"],[0.7777777777777778,\"#fb9f3a\"],[0.8888888888888888,\"#fdca26\"],[1.0,\"#f0f921\"]]}],\"choropleth\":[{\"type\":\"choropleth\",\"colorbar\":{\"outlinewidth\":0,\"ticks\":\"\"}}],\"histogram2d\":[{\"type\":\"histogram2d\",\"colorbar\":{\"outlinewidth\":0,\"ticks\":\"\"},\"colorscale\":[[0.0,\"#0d0887\"],[0.1111111111111111,\"#46039f\"],[0.2222222222222222,\"#7201a8\"],[0.3333333333333333,\"#9c179e\"],[0.4444444444444444,\"#bd3786\"],[0.5555555555555556,\"#d8576b\"],[0.6666666666666666,\"#ed7953\"],[0.7777777777777778,\"#fb9f3a\"],[0.8888888888888888,\"#fdca26\"],[1.0,\"#f0f921\"]]}],\"heatmap\":[{\"type\":\"heatmap\",\"colorbar\":{\"outlinewidth\":0,\"ticks\":\"\"},\"colorscale\":[[0.0,\"#0d0887\"],[0.1111111111111111,\"#46039f\"],[0.2222222222222222,\"#7201a8\"],[0.3333333333333333,\"#9c179e\"],[0.4444444444444444,\"#bd3786\"],[0.5555555555555556,\"#d8576b\"],[0.6666666666666666,\"#ed7953\"],[0.7777777777777778,\"#fb9f3a\"],[0.8888888888888888,\"#fdca26\"],[1.0,\"#f0f921\"]]}],\"heatmapgl\":[{\"type\":\"heatmapgl\",\"colorbar\":{\"outlinewidth\":0,\"ticks\":\"\"},\"colorscale\":[[0.0,\"#0d0887\"],[0.1111111111111111,\"#46039f\"],[0.2222222222222222,\"#7201a8\"],[0.3333333333333333,\"#9c179e\"],[0.4444444444444444,\"#bd3786\"],[0.5555555555555556,\"#d8576b\"],[0.6666666666666666,\"#ed7953\"],[0.7777777777777778,\"#fb9f3a\"],[0.8888888888888888,\"#fdca26\"],[1.0,\"#f0f921\"]]}],\"contourcarpet\":[{\"type\":\"contourcarpet\",\"colorbar\":{\"outlinewidth\":0,\"ticks\":\"\"}}],\"contour\":[{\"type\":\"contour\",\"colorbar\":{\"outlinewidth\":0,\"ticks\":\"\"},\"colorscale\":[[0.0,\"#0d0887\"],[0.1111111111111111,\"#46039f\"],[0.2222222222222222,\"#7201a8\"],[0.3333333333333333,\"#9c179e\"],[0.4444444444444444,\"#bd3786\"],[0.5555555555555556,\"#d8576b\"],[0.6666666666666666,\"#ed7953\"],[0.7777777777777778,\"#fb9f3a\"],[0.8888888888888888,\"#fdca26\"],[1.0,\"#f0f921\"]]}],\"surface\":[{\"type\":\"surface\",\"colorbar\":{\"outlinewidth\":0,\"ticks\":\"\"},\"colorscale\":[[0.0,\"#0d0887\"],[0.1111111111111111,\"#46039f\"],[0.2222222222222222,\"#7201a8\"],[0.3333333333333333,\"#9c179e\"],[0.4444444444444444,\"#bd3786\"],[0.5555555555555556,\"#d8576b\"],[0.6666666666666666,\"#ed7953\"],[0.7777777777777778,\"#fb9f3a\"],[0.8888888888888888,\"#fdca26\"],[1.0,\"#f0f921\"]]}],\"mesh3d\":[{\"type\":\"mesh3d\",\"colorbar\":{\"outlinewidth\":0,\"ticks\":\"\"}}],\"scatter\":[{\"fillpattern\":{\"fillmode\":\"overlay\",\"size\":10,\"solidity\":0.2},\"type\":\"scatter\"}],\"parcoords\":[{\"type\":\"parcoords\",\"line\":{\"colorbar\":{\"outlinewidth\":0,\"ticks\":\"\"}}}],\"scatterpolargl\":[{\"type\":\"scatterpolargl\",\"marker\":{\"colorbar\":{\"outlinewidth\":0,\"ticks\":\"\"}}}],\"bar\":[{\"error_x\":{\"color\":\"#2a3f5f\"},\"error_y\":{\"color\":\"#2a3f5f\"},\"marker\":{\"line\":{\"color\":\"#E5ECF6\",\"width\":0.5},\"pattern\":{\"fillmode\":\"overlay\",\"size\":10,\"solidity\":0.2}},\"type\":\"bar\"}],\"scattergeo\":[{\"type\":\"scattergeo\",\"marker\":{\"colorbar\":{\"outlinewidth\":0,\"ticks\":\"\"}}}],\"scatterpolar\":[{\"type\":\"scatterpolar\",\"marker\":{\"colorbar\":{\"outlinewidth\":0,\"ticks\":\"\"}}}],\"histogram\":[{\"marker\":{\"pattern\":{\"fillmode\":\"overlay\",\"size\":10,\"solidity\":0.2}},\"type\":\"histogram\"}],\"scattergl\":[{\"type\":\"scattergl\",\"marker\":{\"colorbar\":{\"outlinewidth\":0,\"ticks\":\"\"}}}],\"scatter3d\":[{\"type\":\"scatter3d\",\"line\":{\"colorbar\":{\"outlinewidth\":0,\"ticks\":\"\"}},\"marker\":{\"colorbar\":{\"outlinewidth\":0,\"ticks\":\"\"}}}],\"scattermapbox\":[{\"type\":\"scattermapbox\",\"marker\":{\"colorbar\":{\"outlinewidth\":0,\"ticks\":\"\"}}}],\"scatterternary\":[{\"type\":\"scatterternary\",\"marker\":{\"colorbar\":{\"outlinewidth\":0,\"ticks\":\"\"}}}],\"scattercarpet\":[{\"type\":\"scattercarpet\",\"marker\":{\"colorbar\":{\"outlinewidth\":0,\"ticks\":\"\"}}}],\"carpet\":[{\"aaxis\":{\"endlinecolor\":\"#2a3f5f\",\"gridcolor\":\"white\",\"linecolor\":\"white\",\"minorgridcolor\":\"white\",\"startlinecolor\":\"#2a3f5f\"},\"baxis\":{\"endlinecolor\":\"#2a3f5f\",\"gridcolor\":\"white\",\"linecolor\":\"white\",\"minorgridcolor\":\"white\",\"startlinecolor\":\"#2a3f5f\"},\"type\":\"carpet\"}],\"table\":[{\"cells\":{\"fill\":{\"color\":\"#EBF0F8\"},\"line\":{\"color\":\"white\"}},\"header\":{\"fill\":{\"color\":\"#C8D4E3\"},\"line\":{\"color\":\"white\"}},\"type\":\"table\"}],\"barpolar\":[{\"marker\":{\"line\":{\"color\":\"#E5ECF6\",\"width\":0.5},\"pattern\":{\"fillmode\":\"overlay\",\"size\":10,\"solidity\":0.2}},\"type\":\"barpolar\"}],\"pie\":[{\"automargin\":true,\"type\":\"pie\"}]},\"layout\":{\"autotypenumbers\":\"strict\",\"colorway\":[\"#636efa\",\"#EF553B\",\"#00cc96\",\"#ab63fa\",\"#FFA15A\",\"#19d3f3\",\"#FF6692\",\"#B6E880\",\"#FF97FF\",\"#FECB52\"],\"font\":{\"color\":\"#2a3f5f\"},\"hovermode\":\"closest\",\"hoverlabel\":{\"align\":\"left\"},\"paper_bgcolor\":\"white\",\"plot_bgcolor\":\"#E5ECF6\",\"polar\":{\"bgcolor\":\"#E5ECF6\",\"angularaxis\":{\"gridcolor\":\"white\",\"linecolor\":\"white\",\"ticks\":\"\"},\"radialaxis\":{\"gridcolor\":\"white\",\"linecolor\":\"white\",\"ticks\":\"\"}},\"ternary\":{\"bgcolor\":\"#E5ECF6\",\"aaxis\":{\"gridcolor\":\"white\",\"linecolor\":\"white\",\"ticks\":\"\"},\"baxis\":{\"gridcolor\":\"white\",\"linecolor\":\"white\",\"ticks\":\"\"},\"caxis\":{\"gridcolor\":\"white\",\"linecolor\":\"white\",\"ticks\":\"\"}},\"coloraxis\":{\"colorbar\":{\"outlinewidth\":0,\"ticks\":\"\"}},\"colorscale\":{\"sequential\":[[0.0,\"#0d0887\"],[0.1111111111111111,\"#46039f\"],[0.2222222222222222,\"#7201a8\"],[0.3333333333333333,\"#9c179e\"],[0.4444444444444444,\"#bd3786\"],[0.5555555555555556,\"#d8576b\"],[0.6666666666666666,\"#ed7953\"],[0.7777777777777778,\"#fb9f3a\"],[0.8888888888888888,\"#fdca26\"],[1.0,\"#f0f921\"]],\"sequentialminus\":[[0.0,\"#0d0887\"],[0.1111111111111111,\"#46039f\"],[0.2222222222222222,\"#7201a8\"],[0.3333333333333333,\"#9c179e\"],[0.4444444444444444,\"#bd3786\"],[0.5555555555555556,\"#d8576b\"],[0.6666666666666666,\"#ed7953\"],[0.7777777777777778,\"#fb9f3a\"],[0.8888888888888888,\"#fdca26\"],[1.0,\"#f0f921\"]],\"diverging\":[[0,\"#8e0152\"],[0.1,\"#c51b7d\"],[0.2,\"#de77ae\"],[0.3,\"#f1b6da\"],[0.4,\"#fde0ef\"],[0.5,\"#f7f7f7\"],[0.6,\"#e6f5d0\"],[0.7,\"#b8e186\"],[0.8,\"#7fbc41\"],[0.9,\"#4d9221\"],[1,\"#276419\"]]},\"xaxis\":{\"gridcolor\":\"white\",\"linecolor\":\"white\",\"ticks\":\"\",\"title\":{\"standoff\":15},\"zerolinecolor\":\"white\",\"automargin\":true,\"zerolinewidth\":2},\"yaxis\":{\"gridcolor\":\"white\",\"linecolor\":\"white\",\"ticks\":\"\",\"title\":{\"standoff\":15},\"zerolinecolor\":\"white\",\"automargin\":true,\"zerolinewidth\":2},\"scene\":{\"xaxis\":{\"backgroundcolor\":\"#E5ECF6\",\"gridcolor\":\"white\",\"linecolor\":\"white\",\"showbackground\":true,\"ticks\":\"\",\"zerolinecolor\":\"white\",\"gridwidth\":2},\"yaxis\":{\"backgroundcolor\":\"#E5ECF6\",\"gridcolor\":\"white\",\"linecolor\":\"white\",\"showbackground\":true,\"ticks\":\"\",\"zerolinecolor\":\"white\",\"gridwidth\":2},\"zaxis\":{\"backgroundcolor\":\"#E5ECF6\",\"gridcolor\":\"white\",\"linecolor\":\"white\",\"showbackground\":true,\"ticks\":\"\",\"zerolinecolor\":\"white\",\"gridwidth\":2}},\"shapedefaults\":{\"line\":{\"color\":\"#2a3f5f\"}},\"annotationdefaults\":{\"arrowcolor\":\"#2a3f5f\",\"arrowhead\":0,\"arrowwidth\":1},\"geo\":{\"bgcolor\":\"white\",\"landcolor\":\"#E5ECF6\",\"subunitcolor\":\"white\",\"showland\":true,\"showlakes\":true,\"lakecolor\":\"white\"},\"title\":{\"x\":0.05},\"mapbox\":{\"style\":\"light\"}}},\"xaxis\":{\"anchor\":\"y\",\"domain\":[0.0,0.45]},\"yaxis\":{\"anchor\":\"x\",\"domain\":[0.0,1.0]},\"xaxis2\":{\"anchor\":\"y2\",\"domain\":[0.55,1.0]},\"yaxis2\":{\"anchor\":\"x2\",\"domain\":[0.0,1.0]},\"annotations\":[{\"font\":{\"size\":16},\"showarrow\":false,\"text\":\"Number of Daily Active Users by Platform\",\"x\":0.225,\"xanchor\":\"center\",\"xref\":\"paper\",\"y\":1.0,\"yanchor\":\"bottom\",\"yref\":\"paper\"},{\"font\":{\"size\":16},\"showarrow\":false,\"text\":\"Proportion of users per day per platform\",\"x\":0.775,\"xanchor\":\"center\",\"xref\":\"paper\",\"y\":1.0,\"yanchor\":\"bottom\",\"yref\":\"paper\"}],\"height\":350,\"width\":900,\"showlegend\":false},                        {\"responsive\": true}                    ).then(function(){\n                            \nvar gd = document.getElementById('4de0f237-c544-47d0-9207-60a2ea833d0c');\nvar x = new MutationObserver(function (mutations, observer) {{\n        var display = window.getComputedStyle(gd).display;\n        if (!display || display === 'none') {{\n            console.log([gd, 'removed!']);\n            Plotly.purge(gd);\n            observer.disconnect();\n        }}\n}});\n\n// Listen for the removal of the full notebook cells\nvar notebookContainer = gd.closest('#notebook-container');\nif (notebookContainer) {{\n    x.observe(notebookContainer, {childList: true});\n}}\n\n// Listen for the clearing of the current output cell\nvar outputEl = gd.closest('.output');\nif (outputEl) {{\n    x.observe(outputEl, {childList: true});\n}}\n\n                        })                };                            </script>        </div>\n</body>\n</html>"
          },
          "metadata": {},
          "output_type": "display_data"
        }
      ],
      "execution_count": 14,
      "block_group": "4dc77f69a3c1413ca21a28afc174f01d"
    },
    {
      "cell_type": "code",
      "source": "days_order = ['Mon', 'Tue', 'Wed', 'Thu', 'Fri', 'Sat', 'Sun']\n\ndate_week = unique_users_per_day['date_time'].apply(lambda x: pd.Series([x.strftime('%d/%m'), x.strftime('%a'), x.isocalendar().week]))\nuser_sums = unique_users_per_day['apple'] + unique_users_per_day['android']\n\nweekly_mov = pd.concat([date_week, user_sums], axis=1)\nweekly_mov.columns = ['date', 'weekday', 'week_number', 'total']\npivot_table = weekly_mov.pivot(index='weekday', columns='week_number', values='total')\npivot_table = pivot_table.reindex(days_order)\npivot_table.plot()",
      "metadata": {
        "source_hash": "f73d570d",
        "is_code_hidden": true,
        "execution_start": 1704204415630,
        "execution_millis": 196,
        "deepnote_app_coordinates": {
          "h": 120,
          "w": 12,
          "x": 0,
          "y": 0
        },
        "deepnote_to_be_reexecuted": false,
        "deepnote_app_is_code_hidden": true,
        "cell_id": "f5f38c1916a74b0bb09a3979abc05b3f",
        "deepnote_cell_type": "code"
      },
      "outputs": [
        {
          "output_type": "execute_result",
          "execution_count": 15,
          "data": {
            "text/plain": "<AxesSubplot: xlabel='weekday'>"
          },
          "metadata": {}
        },
        {
          "data": {
            "text/plain": "<Figure size 640x480 with 1 Axes>",
            "image/png": "[encoded data removed]"
          },
          "metadata": {
            "image/png": {
              "width": 569,
              "height": 432
            }
          },
          "output_type": "display_data"
        }
      ],
      "execution_count": 15,
      "block_group": "2cf15f9a22034e829329a826e9cab543"
    },
    {
      "cell_type": "code",
      "source": "unique_users_per_day.describe()[['android', 'apple']].round(2)",
      "metadata": {
        "source_hash": "8949b821",
        "is_code_hidden": false,
        "execution_start": 1704204415945,
        "execution_millis": 20,
        "deepnote_to_be_reexecuted": false,
        "deepnote_app_is_code_hidden": true,
        "cell_id": "36a92c546ceb462586cc94b22b36c36a",
        "deepnote_cell_type": "code"
      },
      "outputs": [
        {
          "output_type": "execute_result",
          "execution_count": 16,
          "data": {
            "application/vnd.deepnote.dataframe.v3+json": {
              "column_count": 2,
              "row_count": 8,
              "columns": [
                {
                  "name": "android",
                  "dtype": "float64",
                  "stats": {
                    "unique_count": 8,
                    "nan_count": 0,
                    "min": "14.0",
                    "max": "6195.0",
                    "histogram": [
                      {
                        "bin_start": 14,
                        "bin_end": 632.1,
                        "count": 2
                      },
                      {
                        "bin_start": 632.1,
                        "bin_end": 1250.2,
                        "count": 0
                      },
                      {
                        "bin_start": 1250.2,
                        "bin_end": 1868.3000000000002,
                        "count": 0
                      },
                      {
                        "bin_start": 1868.3000000000002,
                        "bin_end": 2486.4,
                        "count": 0
                      },
                      {
                        "bin_start": 2486.4,
                        "bin_end": 3104.5,
                        "count": 0
                      },
                      {
                        "bin_start": 3104.5,
                        "bin_end": 3722.6000000000004,
                        "count": 0
                      },
                      {
                        "bin_start": 3722.6000000000004,
                        "bin_end": 4340.7,
                        "count": 0
                      },
                      {
                        "bin_start": 4340.7,
                        "bin_end": 4958.8,
                        "count": 0
                      },
                      {
                        "bin_start": 4958.8,
                        "bin_end": 5576.900000000001,
                        "count": 3
                      },
                      {
                        "bin_start": 5576.900000000001,
                        "bin_end": 6195,
                        "count": 3
                      }
                    ]
                  }
                },
                {
                  "name": "apple",
                  "dtype": "float64",
                  "stats": {
                    "unique_count": 8,
                    "nan_count": 0,
                    "min": "14.0",
                    "max": "4658.0",
                    "histogram": [
                      {
                        "bin_start": 14,
                        "bin_end": 478.4,
                        "count": 2
                      },
                      {
                        "bin_start": 478.4,
                        "bin_end": 942.8,
                        "count": 0
                      },
                      {
                        "bin_start": 942.8,
                        "bin_end": 1407.1999999999998,
                        "count": 0
                      },
                      {
                        "bin_start": 1407.1999999999998,
                        "bin_end": 1871.6,
                        "count": 0
                      },
                      {
                        "bin_start": 1871.6,
                        "bin_end": 2336,
                        "count": 0
                      },
                      {
                        "bin_start": 2336,
                        "bin_end": 2800.3999999999996,
                        "count": 0
                      },
                      {
                        "bin_start": 2800.3999999999996,
                        "bin_end": 3264.7999999999997,
                        "count": 0
                      },
                      {
                        "bin_start": 3264.7999999999997,
                        "bin_end": 3729.2,
                        "count": 0
                      },
                      {
                        "bin_start": 3729.2,
                        "bin_end": 4193.599999999999,
                        "count": 1
                      },
                      {
                        "bin_start": 4193.599999999999,
                        "bin_end": 4658,
                        "count": 5
                      }
                    ]
                  }
                },
                {
                  "name": "_deepnote_index_column",
                  "dtype": "object"
                }
              ],
              "rows": [
                {
                  "android": 14,
                  "apple": 14,
                  "_deepnote_index_column": "count"
                },
                {
                  "android": 5626.21,
                  "apple": 4350.57,
                  "_deepnote_index_column": "mean"
                },
                {
                  "android": 314.96,
                  "apple": 203.96,
                  "_deepnote_index_column": "std"
                },
                {
                  "android": 5192,
                  "apple": 4009,
                  "_deepnote_index_column": "min"
                },
                {
                  "android": 5397.5,
                  "apple": 4194,
                  "_deepnote_index_column": "25%"
                },
                {
                  "android": 5543,
                  "apple": 4337,
                  "_deepnote_index_column": "50%"
                },
                {
                  "android": 5878.5,
                  "apple": 4519.75,
                  "_deepnote_index_column": "75%"
                },
                {
                  "android": 6195,
                  "apple": 4658,
                  "_deepnote_index_column": "max"
                }
              ]
            },
            "text/plain": "platform  android    apple\ncount       14.00    14.00\nmean      5626.21  4350.57\nstd        314.96   203.96\nmin       5192.00  4009.00\n25%       5397.50  4194.00\n50%       5543.00  4337.00\n75%       5878.50  4519.75\nmax       6195.00  4658.00",
            "text/html": "<div>\n<style scoped>\n    .dataframe tbody tr th:only-of-type {\n        vertical-align: middle;\n    }\n\n    .dataframe tbody tr th {\n        vertical-align: top;\n    }\n\n    .dataframe thead th {\n        text-align: right;\n    }\n</style>\n<table border=\"1\" class=\"dataframe\">\n  <thead>\n    <tr style=\"text-align: right;\">\n      <th>platform</th>\n      <th>android</th>\n      <th>apple</th>\n    </tr>\n  </thead>\n  <tbody>\n    <tr>\n      <th>count</th>\n      <td>14.00</td>\n      <td>14.00</td>\n    </tr>\n    <tr>\n      <th>mean</th>\n      <td>5626.21</td>\n      <td>4350.57</td>\n    </tr>\n    <tr>\n      <th>std</th>\n      <td>314.96</td>\n      <td>203.96</td>\n    </tr>\n    <tr>\n      <th>min</th>\n      <td>5192.00</td>\n      <td>4009.00</td>\n    </tr>\n    <tr>\n      <th>25%</th>\n      <td>5397.50</td>\n      <td>4194.00</td>\n    </tr>\n    <tr>\n      <th>50%</th>\n      <td>5543.00</td>\n      <td>4337.00</td>\n    </tr>\n    <tr>\n      <th>75%</th>\n      <td>5878.50</td>\n      <td>4519.75</td>\n    </tr>\n    <tr>\n      <th>max</th>\n      <td>6195.00</td>\n      <td>4658.00</td>\n    </tr>\n  </tbody>\n</table>\n</div>"
          },
          "metadata": {}
        }
      ],
      "execution_count": 16,
      "block_group": "2cf15f9a22034e829329a826e9cab543"
    },
    {
      "cell_type": "markdown",
      "source": "#### Observations\n\n- The standard deviation (a measure of the variability of a set of values) is higher for Android (314.96) compared to Apple (203.96). A higher standard deviation means that the number of daily unique users varies more from day to day on Android than on Apple. \n\n- The minimum and maximum number of daily unique users are also both higher on Android compared to Apple. \n\n- The proportion of users on Android and Apple platforms remain relatively consistent over time, with Android consistently having a higher proportion of users (around 56%) compared to Apple (around 44%).\n\n- There does not seem to be any significant fluctuations or upward/downward trends in the proportions over the time period observed.\n\n- The consistency in the proportion of users across different platforms suggests that user behavior and preferences remain stable over time. \n\n- The higher proportion of Android users indicates that the app is more popular among Android users. This could be due to various reasons such as user experience, app performance, and availability of features.",
      "metadata": {
        "deepnote_app_coordinates": {
          "h": 120,
          "w": 12,
          "x": 0,
          "y": 0
        },
        "cell_id": "fcc8d7c587b346ffb27e8e522c4c08cb",
        "deepnote_cell_type": "markdown"
      },
      "block_group": "915b6d61414745baaad86a5786370c0c"
    },
    {
      "cell_type": "markdown",
      "source": "#### Suggestions:\n\n- While the current user base is more Android-heavy, it is also crucial to not overlook the Apple user base. Dedicating resources on both platforms could improve user experience and potentially draw in more users.\n\n- Given the stable proportion of Android and Apple users, the development team could focus on improving the app’s features and performance on both platforms rather than prioritizing one over another.\n\n- Running promotional campaigns or introducing new features could potentially shift the proportion and increase user base on both platforms. It would be helpful to monitor changes in the proportion, especially after making significant updates to the app.",
      "metadata": {
        "deepnote_app_coordinates": {
          "h": 120,
          "w": 12,
          "x": 0,
          "y": 0
        },
        "cell_id": "3e7916f536de48909fc2f2e7a5725642",
        "deepnote_cell_type": "markdown"
      },
      "block_group": "7531b66845d04316808876c238fc18aa"
    },
    {
      "cell_type": "markdown",
      "source": "#### In-app time spent\n\n1. **Distribution and Outliers**: High session lengths with a low amount of events could represent users who leave the app open without interacting with it, while low session lengths might indicate issues that cause users to leave the > app early. \n    > A feature could be introduced to confirm if the user is still active, or the app could automatically close or pause after a certain period of inactivity to save resources. \n    > If session lengths are consistently low for either platform, this suggests an issue that affects user experience. More in-depth user behavior analytics or user feedback could help identify any problem areas or bugs that need to be addressed.\n\n2. **Compare Platforms**: If there are significant differences, this could highlight platform-specific issues or usage patterns.\n\n3. **Trends Over Time**: Evaluate if there are any trends or changes in session length over time. This can provide insights into the impact of updates or changes to the app. \n\n4. **Correlation with Other Factors**: Analyze if session length correlates with other factors like particular events or sources of visitors.\n\n#### Actionable suggestions:\n=====================\n1. **Investigate High Session Lengths**: If there are users who have high session lengths with minimal events, the app could introduce a feature to confirm if the user is still active or to automatically pause/close after a certain period of inactivity. This could save server resources and offer a better user experience.\n\n2. **Investigate Low Session Lengths**: If there are users who consistently have low session lengths, this could indicate a problem with the user experience. User feedback or further analysis could help identify any potential issues or bugs that need to be addressed.\n\n3. **Observe Changes Over Time**: If there are noticeable changes in session length over time following updates or changes to the app, this could inform the impact and success of these changes. For example, if session length increases following a new feature launch, this could suggest the feature was well-received.\n\n4. **Correlate outliers with user source**: If session length is consistently high or low for a specific user source, this could indicate an issue with user acquisition or retention.\n\n4. **Correlation with Other Factors**: If session length correlates with specific events or visitor sources, this can inform user acquisition strategy. For example, if users coming from a certain source tend to have longer sessions, it might be worth investing more in that acquisition channel.",
      "metadata": {
        "deepnote_app_coordinates": {
          "h": 120,
          "w": 12,
          "x": 0,
          "y": 0
        },
        "cell_id": "d979aa7a036345ceaaeb9d8c2b7f8533",
        "deepnote_cell_type": "markdown"
      },
      "block_group": "9bf7e02ef1004dc7b846d46494793c82"
    },
    {
      "cell_type": "code",
      "source": "session_lengths = events.groupby(['session_skey','user_skey', 'platform'])['date_time'].agg(['min', 'max']).reset_index() \nsession_lengths['length_minutes'] = (session_lengths['max'] - session_lengths['min']).dt.total_seconds()/60 \nprint(\"In-app time spent: \") \nprint(session_lengths.groupby('platform')['length_minutes'].describe().round(3))",
      "metadata": {
        "source_hash": "ca4a6e94",
        "execution_start": 1704204416038,
        "execution_millis": 845,
        "deepnote_table_state": {
          "sortBy": [
            {
              "id": "session_skey",
              "type": "asc"
            }
          ],
          "filters": [],
          "pageSize": 10,
          "pageIndex": 0
        },
        "deepnote_table_loading": false,
        "deepnote_app_coordinates": {
          "h": 120,
          "w": 12,
          "x": 0,
          "y": 0
        },
        "deepnote_to_be_reexecuted": false,
        "deepnote_app_is_code_hidden": false,
        "cell_id": "9a9863d9046e4f5ba45a0ab6384aa696",
        "deepnote_cell_type": "code"
      },
      "outputs": [
        {
          "name": "stdout",
          "text": "In-app time spent: \n             count   mean     std  min    25%    50%    75%       max\nplatform                                                             \nandroid   106763.0  3.377  10.928  0.0  0.093  1.044  3.810  2869.731\napple      65332.0  3.309  15.945  0.0  0.106  1.040  3.526  2785.387\n",
          "output_type": "stream"
        }
      ],
      "execution_count": 17,
      "block_group": "180607bbdd2c429d9dfdaec539984383"
    },
    {
      "cell_type": "code",
      "source": "# Import necessary library\nimport matplotlib.pyplot as plt\nimport seaborn as sns\n\n# Set plot style\nsns.set(style=\"whitegrid\")\n\n# Create subplots\nfig, axes = plt.subplots(1, 2, figsize=(18, 6))\n\n# Boxplot for Android\nsns.boxplot(ax=axes[0], y=\"length_minutes\", data=session_lengths[session_lengths[\"platform\"] == \"android\"]).set_title('Android Session Lengths')\n\n# Boxplot for Apple\nsns.boxplot(ax=axes[1], y=\"length_minutes\", data=session_lengths[session_lengths[\"platform\"] == \"apple\"]).set_title('Apple Session Lengths')\n\n# Show the plot\nplt.show()",
      "metadata": {
        "source_hash": "be354f9c",
        "execution_start": 1704204416880,
        "execution_millis": 533,
        "deepnote_to_be_reexecuted": false,
        "cell_id": "ce320a88847140dc9aba4fd95f6de49e",
        "deepnote_cell_type": "code"
      },
      "outputs": [
        {
          "data": {
            "text/plain": "<Figure size 1800x600 with 2 Axes>",
            "image/png": "[encoded data removed]"
          },
          "metadata": {
            "image/png": {
              "width": 1490,
              "height": 504
            }
          },
          "output_type": "display_data"
        }
      ],
      "execution_count": 18,
      "block_group": "c217727c3d0941eda0cc13f428f2128c"
    },
    {
      "cell_type": "markdown",
      "source": "\n1. The majority of sessions for both Android and Apple users are quite short, with most sessions being under 20 minutes. However, there are a significant number of outliers stretching as long as approximately 2900 minutes or about 48 hours.\n\n2. This suggests that majority of users engage with the app for short periods, but there are also users who keep the app open for extended periods, possibly even leaving it open in the background unintentionally.\n\nTo evaluate more granular session length patterns and any potential change across different times, we should also investigate session length variation over time.",
      "metadata": {
        "formattedRanges": [],
        "cell_id": "34ceaecc03a745588d4f5e397e3311b2",
        "deepnote_cell_type": "text-cell-p"
      },
      "block_group": "ab3b4269459141819dc90351540fe5fb"
    },
    {
      "cell_type": "code",
      "source": "# Resampling the session lengths data by day and calculating mean session length for each platform\nsession_lengths['min'] = pd.to_datetime(session_lengths['min'])\nsession_lengths.set_index('min', inplace=True)\n\n# Resampling and mean calculation\nsession_length_by_day_android = session_lengths[session_lengths['platform']=='android'].resample('D').mean()\nsession_length_by_day_apple = session_lengths[session_lengths['platform']=='apple'].resample('D').mean()\n\n# Resetting index\nsession_length_by_day_android.reset_index(inplace=True)\nsession_length_by_day_apple.reset_index(inplace=True)\n\n# Rename column from 'min' to 'date'\nsession_length_by_day_android.rename(columns={'min': 'date'}, inplace=True)  \nsession_length_by_day_apple.rename(columns={'min': 'date'}, inplace=True)  \n\n# Plotting\nfig, ax = plt.subplots(figsize=(16, 6))\n# Android\nax.plot(session_length_by_day_android['date'], session_length_by_day_android['length_minutes'],\n        marker='o', linestyle='-', label='android')\n# Apple\nax.plot(session_length_by_day_apple['date'], session_length_by_day_apple['length_minutes'],\n        marker='o', linestyle='-', label='apple')\n\nax.set(xlabel=\"Date\", ylabel=\"Average Session Length (minutes)\", title=\"Daily Avg Session Length by Platform\")\nax.legend()\n\nplt.show()",
      "metadata": {
        "source_hash": "98b17d02",
        "execution_start": 1704204417601,
        "execution_millis": 348,
        "deepnote_to_be_reexecuted": false,
        "cell_id": "fe6fd4e6fb3a4fff8d0c3555686b0045",
        "deepnote_cell_type": "code"
      },
      "outputs": [
        {
          "data": {
            "text/plain": "<Figure size 1600x600 with 1 Axes>",
            "image/png": "[encoded data removed]"
          },
          "metadata": {
            "image/png": {
              "width": 1321,
              "height": 556
            }
          },
          "output_type": "display_data"
        }
      ],
      "execution_count": 20,
      "block_group": "fe260e2eddf44fcd84072757f23edf39"
    },
    {
      "cell_type": "markdown",
      "source": "",
      "metadata": {
        "formattedRanges": [],
        "cell_id": "daf4f329fdd94ec296bb17d69548bd81",
        "deepnote_cell_type": "text-cell-p"
      },
      "block_group": "09211be3fbeb4496a7c4f7efb05f3d8f"
    },
    {
      "cell_type": "markdown",
      "source": "<a style='text-decoration:none;line-height:16px;display:flex;color:#5B5B62;padding:10px;justify-content:end;' href='https://deepnote.com?utm_source=created-in-deepnote-cell&projectId=ea0dd5ec-7a99-4815-85b5-15ffe4204711' target=\"_blank\">\n<img alt='Created in deepnote.com' style='display:inline;max-height:16px;margin:0px;margin-right:7.5px;' src='data:image/svg+xml;base64,PD94bWwgdmVyc2lvbj0iMS4wIiBlbmNvZGluZz0iVVRGLTgiPz4KPHN2ZyB3aWR0aD0iODBweCIgaGVpZ2h0PSI4MHB4IiB2aWV3Qm94PSIwIDAgODAgODAiIHZlcnNpb249IjEuMSIgeG1sbnM9Imh0dHA6Ly93d3cudzMub3JnLzIwMDAvc3ZnIiB4bWxuczp4bGluaz0iaHR0cDovL3d3dy53My5vcmcvMTk5OS94bGluayI+CiAgICA8IS0tIEdlbmVyYXRvcjogU2tldGNoIDU0LjEgKDc2NDkwKSAtIGh0dHBzOi8vc2tldGNoYXBwLmNvbSAtLT4KICAgIDx0aXRsZT5Hcm91cCAzPC90aXRsZT4KICAgIDxkZXNjPkNyZWF0ZWQgd2l0aCBTa2V0Y2guPC9kZXNjPgogICAgPGcgaWQ9IkxhbmRpbmciIHN0cm9rZT0ibm9uZSIgc3Ryb2tlLXdpZHRoPSIxIiBmaWxsPSJub25lIiBmaWxsLXJ1bGU9ImV2ZW5vZGQiPgogICAgICAgIDxnIGlkPSJBcnRib2FyZCIgdHJhbnNmb3JtPSJ0cmFuc2xhdGUoLTEyMzUuMDAwMDAwLCAtNzkuMDAwMDAwKSI+CiAgICAgICAgICAgIDxnIGlkPSJHcm91cC0zIiB0cmFuc2Zvcm09InRyYW5zbGF0ZSgxMjM1LjAwMDAwMCwgNzkuMDAwMDAwKSI+CiAgICAgICAgICAgICAgICA8cG9seWdvbiBpZD0iUGF0aC0yMCIgZmlsbD0iIzAyNjVCNCIgcG9pbnRzPSIyLjM3NjIzNzYyIDgwIDM4LjA0NzY2NjcgODAgNTcuODIxNzgyMiA3My44MDU3NTkyIDU3LjgyMTc4MjIgMzIuNzU5MjczOSAzOS4xNDAyMjc4IDMxLjY4MzE2ODMiPjwvcG9seWdvbj4KICAgICAgICAgICAgICAgIDxwYXRoIGQ9Ik0zNS4wMDc3MTgsODAgQzQyLjkwNjIwMDcsNzYuNDU0OTM1OCA0Ny41NjQ5MTY3LDcxLjU0MjI2NzEgNDguOTgzODY2LDY1LjI2MTk5MzkgQzUxLjExMjI4OTksNTUuODQxNTg0MiA0MS42NzcxNzk1LDQ5LjIxMjIyODQgMjUuNjIzOTg0Niw0OS4yMTIyMjg0IEMyNS40ODQ5Mjg5LDQ5LjEyNjg0NDggMjkuODI2MTI5Niw0My4yODM4MjQ4IDM4LjY0NzU4NjksMzEuNjgzMTY4MyBMNzIuODcxMjg3MSwzMi41NTQ0MjUgTDY1LjI4MDk3Myw2Ny42NzYzNDIxIEw1MS4xMTIyODk5LDc3LjM3NjE0NCBMMzUuMDA3NzE4LDgwIFoiIGlkPSJQYXRoLTIyIiBmaWxsPSIjMDAyODY4Ij48L3BhdGg+CiAgICAgICAgICAgICAgICA8cGF0aCBkPSJNMCwzNy43MzA0NDA1IEwyNy4xMTQ1MzcsMC4yNTcxMTE0MzYgQzYyLjM3MTUxMjMsLTEuOTkwNzE3MDEgODAsMTAuNTAwMzkyNyA4MCwzNy43MzA0NDA1IEM4MCw2NC45NjA0ODgyIDY0Ljc3NjUwMzgsNzkuMDUwMzQxNCAzNC4zMjk1MTEzLDgwIEM0Ny4wNTUzNDg5LDc3LjU2NzA4MDggNTMuNDE4MjY3Nyw3MC4zMTM2MTAzIDUzLjQxODI2NzcsNTguMjM5NTg4NSBDNTMuNDE4MjY3Nyw0MC4xMjg1NTU3IDM2LjMwMzk1NDQsMzcuNzMwNDQwNSAyNS4yMjc0MTcsMzcuNzMwNDQwNSBDMTcuODQzMDU4NiwzNy43MzA0NDA1IDkuNDMzOTE5NjYsMzcuNzMwNDQwNSAwLDM3LjczMDQ0MDUgWiIgaWQ9IlBhdGgtMTkiIGZpbGw9IiMzNzkzRUYiPjwvcGF0aD4KICAgICAgICAgICAgPC9nPgogICAgICAgIDwvZz4KICAgIDwvZz4KPC9zdmc+' > </img>\nCreated in <span style='font-weight:600;margin-left:4px;'>Deepnote</span></a>",
      "metadata": {
        "created_in_deepnote_cell": true,
        "deepnote_cell_type": "markdown"
      }
    }
  ],
  "nbformat": 4,
  "nbformat_minor": 0,
  "metadata": {
    "deepnote_app_clear_outputs": false,
    "deepnote_app_layout": "powerful-article",
    "deepnote_app_table_of_contents_enabled": true,
    "deepnote_app_hide_all_code_blocks_enabled": false,
    "deepnote_app_width": "full-width",
    "deepnote_app_run_on_input_enabled": false,
    "deepnote_notebook_id": "ce2c4e288df44b8fb57b252cf65bb1e4",
    "deepnote_execution_queue": []
  }
}