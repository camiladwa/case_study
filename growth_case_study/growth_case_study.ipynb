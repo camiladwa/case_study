{
  "cells": [
    {
      "cell_type": "markdown",
      "source": "# Case Study: Growth",
      "metadata": {
        "is_collapsed": false,
        "formattedRanges": [],
        "deepnote_app_coordinates": {
          "h": 120,
          "w": 12,
          "x": 0,
          "y": 0
        },
        "cell_id": "247604e452ea4ea99c009c973897051c",
        "deepnote_cell_type": "text-cell-h1"
      },
      "block_group": "ca886021ab7f41de83a291e5c4e2ece9"
    },
    {
      "cell_type": "markdown",
      "source": "## Introduction",
      "metadata": {
        "formattedRanges": [],
        "deepnote_app_coordinates": {
          "h": 120,
          "w": 12,
          "x": 0,
          "y": 0
        },
        "cell_id": "0b5801a4d3bc450d83cac90aca275d08",
        "deepnote_cell_type": "text-cell-h2"
      },
      "block_group": "5006d9ef58664dec9d20978150e64c23"
    },
    {
      "cell_type": "markdown",
      "source": "Company A is a popular photo editing product with millions of active users. The Growth Unit is responsible for expanding the user base, increasing user engagement, and retaining users. \nThey are interested in understanding **user behavior and engagement** with its product. Below, a dataset containing user activity data was provided. Your task is to analyze this data and provide **actionable insights** and recommendations to **improve user growth and engagement**. \nIn this task, you will be working with datasets that contain event logs and app open data for a specified period.",
      "metadata": {
        "deepnote_app_coordinates": {
          "h": 120,
          "w": 12,
          "x": 0,
          "y": 0
        },
        "cell_id": "104ffbcb64874518b3fd25e638d0e6e5",
        "deepnote_cell_type": "markdown"
      },
      "block_group": "c9d23aecc1d3419ba210c37ac496e057"
    },
    {
      "cell_type": "markdown",
      "source": "#### Part 1\n1- Write a SQL query to derive the first session funnel per platform from the provided dataset using all available events. The first funnel step is the user’s first app open.\n2- Calculate the WAU Growth Accounting (New, Retained, Resurrected, Churn users) from November 13th to November 19th\n3- Write a SQL query to calculate the user’s daily retention rate for a 7-day period. Calculate both Sticky and Cohorted Retention",
      "metadata": {
        "deepnote_app_coordinates": {
          "h": 120,
          "w": 12,
          "x": 0,
          "y": 0
        },
        "cell_id": "5eacfd3210ae4e279f5dcc7595e2b3d3",
        "deepnote_cell_type": "markdown"
      },
      "block_group": "15a2658be6494c7eaefbd3e888bcd982"
    },
    {
      "cell_type": "markdown",
      "source": "#### Part 2 \n1- Please perform an analysis using the dataset provided. The goal is to find insights and suggest action(s) to stakeholders through your findings. Use Python, R, or a similar programming language to generate an analysis that could be shared/reviewed by other analysts.\n\nExpected output: A memo in a form of Google doc that describes the finding and outlines action items. Additional attachments (spreadsheets, Jupyter notebooks, etc.) only if it is necessary",
      "metadata": {
        "deepnote_app_coordinates": {
          "h": 120,
          "w": 12,
          "x": 0,
          "y": 0
        },
        "cell_id": "3ddba298e4a24c1398460ec012505e1a",
        "deepnote_cell_type": "markdown"
      },
      "block_group": "dc6c5478b4cf480790057bf9a6c51ab8"
    },
    {
      "cell_type": "markdown",
      "source": "## Data Understanding and cleaning",
      "metadata": {
        "is_collapsed": false,
        "formattedRanges": [],
        "deepnote_app_coordinates": {
          "h": 120,
          "w": 12,
          "x": 0,
          "y": 0
        },
        "cell_id": "c6b45fbec97842dc8d7936a147f320f0",
        "deepnote_cell_type": "text-cell-h2"
      },
      "block_group": "3ff01660dc3644e4a2d24d2342d37dd8"
    },
    {
      "cell_type": "markdown",
      "source": "#### App Open \n______________________________________________________",
      "metadata": {
        "deepnote_app_coordinates": {
          "h": 120,
          "w": 12,
          "x": 0,
          "y": 0
        },
        "cell_id": "c418c9a9667d4d56a00631eca5e7542b",
        "deepnote_cell_type": "markdown"
      },
      "block_group": "d9a648fbec7349dfbdbe5f6e351e289c"
    },
    {
      "cell_type": "markdown",
      "source": "| Column        | Data Type         | Description                               | Unique Key|\n| ----------- | ----------- | ----------- | ----------- |\n| timestamp     |TIMESTAMP          |Timestamp when the app was opened          |No|\n| device_skey   |STRING             |Unique identifier for the device           |No|\n| session_skey  |STRING             |Unique identifier for the session          |No|\n| user_skey     |STRING             |Unique identifier for the users            |No|\n| is_first_app_open |BOOLEAN        |Indicator of whether it's the first time app open for the user |No|\n| platform      |STRING             |Platform on which the app was opened (e.g., android, apple) |No|\n| country_code  |STRING             |Country from which the app was opened (e.g., us, de) |No|",
      "metadata": {
        "deepnote_app_coordinates": {
          "h": 120,
          "w": 12,
          "x": 0,
          "y": 0
        },
        "cell_id": "e2a2788446c24af29ebb08f246fbf886",
        "deepnote_cell_type": "markdown"
      },
      "block_group": "2c3ddcbdd7514c00a5bdf8fbf67c60f6"
    },
    {
      "cell_type": "code",
      "source": "apps_open = _deepnote_execute_sql('SELECT \\n    timestamp::TIMESTAMP_S AS date_time\\n    , device_skey::VARCHAR AS device_skey\\n    , session_skey::VARCHAR AS session_skey\\n    , user_skey::VARCHAR AS user_skey\\n    , is_first_app_open::BOOLEAN AS is_first_app_open\\n    , platform::VARCHAR AS platform\\n    , country_code::VARCHAR AS country_code\\nFROM \\'ps_challanges/growth_case_study/Datasets/App Opens.csv\\'', 'SQL_DEEPNOTE_DATAFRAME_SQL', audit_sql_comment='', sql_cache_mode='cache_disabled')\napps_open",
      "metadata": {
        "source_hash": "f3651b06",
        "is_code_hidden": false,
        "execution_start": 1703163794101,
        "execution_millis": 2291,
        "sql_integration_id": "deepnote-dataframe-sql",
        "deepnote_table_state": {
          "sortBy": [],
          "filters": [
            {
              "id": "user_skey",
              "type": "contains",
              "value": "1840910816289512079"
            }
          ],
          "pageSize": 10,
          "pageIndex": 0
        },
        "deepnote_table_loading": false,
        "deepnote_variable_name": "apps_open",
        "deepnote_app_coordinates": {
          "h": 120,
          "w": 12,
          "x": 0,
          "y": 0
        },
        "deepnote_to_be_reexecuted": false,
        "deepnote_app_is_code_hidden": false,
        "cell_id": "b42fd14f2ad84152b1b3c6e002677dbd",
        "deepnote_cell_type": "sql",
        "deepnote_sql_source": "SELECT \n    timestamp::TIMESTAMP_S AS date_time\n    , device_skey::VARCHAR AS device_skey\n    , session_skey::VARCHAR AS session_skey\n    , user_skey::VARCHAR AS user_skey\n    , is_first_app_open::BOOLEAN AS is_first_app_open\n    , platform::VARCHAR AS platform\n    , country_code::VARCHAR AS country_code\nFROM 'ps_challanges/growth_case_study/Datasets/App Opens.csv'"
      },
      "outputs": [
        {
          "data": {
            "application/vnd.deepnote.sql-output-metadata+json": {
              "status": "success_no_cache",
              "size_in_bytes": 70500064
            }
          },
          "metadata": {},
          "output_type": "display_data"
        },
        {
          "output_type": "execute_result",
          "execution_count": 1,
          "data": {
            "application/vnd.deepnote.dataframe.v3+json": {
              "column_count": 7,
              "row_count": 1,
              "columns": [
                {
                  "name": "date_time",
                  "dtype": "datetime64[ns]",
                  "stats": {
                    "unique_count": 1,
                    "nan_count": 0,
                    "min": "2023-11-17 12:01:53",
                    "max": "2023-11-17 12:01:53",
                    "histogram": null
                  }
                },
                {
                  "name": "device_skey",
                  "dtype": "object",
                  "stats": {
                    "unique_count": 1,
                    "nan_count": 0,
                    "categories": [
                      {
                        "name": "-4999027798349076862",
                        "count": 1
                      }
                    ]
                  }
                },
                {
                  "name": "session_skey",
                  "dtype": "object",
                  "stats": {
                    "unique_count": 1,
                    "nan_count": 0,
                    "categories": [
                      {
                        "name": "6426955729469298125",
                        "count": 1
                      }
                    ]
                  }
                },
                {
                  "name": "user_skey",
                  "dtype": "object",
                  "stats": {
                    "unique_count": 1,
                    "nan_count": 0,
                    "categories": [
                      {
                        "name": "1840910816289512079",
                        "count": 1
                      }
                    ]
                  }
                },
                {
                  "name": "is_first_app_open",
                  "dtype": "bool",
                  "stats": {
                    "unique_count": 1,
                    "nan_count": 0,
                    "categories": [
                      {
                        "name": "False",
                        "count": 1
                      }
                    ]
                  }
                },
                {
                  "name": "platform",
                  "dtype": "object",
                  "stats": {
                    "unique_count": 1,
                    "nan_count": 0,
                    "categories": [
                      {
                        "name": "android",
                        "count": 1
                      }
                    ]
                  }
                },
                {
                  "name": "country_code",
                  "dtype": "object",
                  "stats": {
                    "unique_count": 1,
                    "nan_count": 0,
                    "categories": [
                      {
                        "name": "vn",
                        "count": 1
                      }
                    ]
                  }
                },
                {
                  "name": "_deepnote_index_column",
                  "dtype": "int64"
                }
              ],
              "rows": [
                {
                  "date_time": "2023-11-17 12:01:53",
                  "device_skey": "-4999027798349076862",
                  "session_skey": "6426955729469298125",
                  "user_skey": "1840910816289512079",
                  "is_first_app_open": "False",
                  "platform": "android",
                  "country_code": "vn",
                  "_deepnote_index_column": 159441
                }
              ]
            },
            "text/plain": "                 date_time           device_skey          session_skey  \\\n0      2023-11-08 02:07:19   7891415701568881512   2011583431778737851   \n1      2023-11-08 06:26:35   2841158506866498595   -710585864896703953   \n2      2023-11-08 11:00:09   8319180276841915965   8851130170214692120   \n3      2023-11-08 17:03:55  -7044717482868540199   2562809385083234043   \n4      2023-11-08 10:09:35   8330275025360404105   6269721242185127990   \n...                    ...                   ...                   ...   \n196085 2023-11-15 11:47:15  -1985881793666309748   1078423291596019483   \n196086 2023-11-15 15:24:53   2134527128238454256  -3747564580958942091   \n196087 2023-11-15 15:31:40  -2987017123302243105  -6832478710689874856   \n196088 2023-11-15 20:41:23   1438462127647457196  -5384106018072454101   \n196089 2023-11-15 15:52:43  -8712802945833965858   8760275016236232166   \n\n                   user_skey  is_first_app_open platform country_code  \n0       -8717167265529084706              False  android           br  \n1        3858142552250413010              False  android           vn  \n2       -6901249382849255824              False    apple           vn  \n3                         42              False    apple           vn  \n4       -8100364697395241128              False  android           de  \n...                      ...                ...      ...          ...  \n196085   3098934470375878848              False  android           br  \n196086  -8099055897267782491              False    apple           br  \n196087  -8250782251817560378              False  android           vn  \n196088    -46678441358607097              False  android           br  \n196089   3858142552250413010              False  android           br  \n\n[196090 rows x 7 columns]",
            "text/html": "<div>\n<style scoped>\n    .dataframe tbody tr th:only-of-type {\n        vertical-align: middle;\n    }\n\n    .dataframe tbody tr th {\n        vertical-align: top;\n    }\n\n    .dataframe thead th {\n        text-align: right;\n    }\n</style>\n<table border=\"1\" class=\"dataframe\">\n  <thead>\n    <tr style=\"text-align: right;\">\n      <th></th>\n      <th>date_time</th>\n      <th>device_skey</th>\n      <th>session_skey</th>\n      <th>user_skey</th>\n      <th>is_first_app_open</th>\n      <th>platform</th>\n      <th>country_code</th>\n    </tr>\n  </thead>\n  <tbody>\n    <tr>\n      <th>0</th>\n      <td>2023-11-08 02:07:19</td>\n      <td>7891415701568881512</td>\n      <td>2011583431778737851</td>\n      <td>-8717167265529084706</td>\n      <td>False</td>\n      <td>android</td>\n      <td>br</td>\n    </tr>\n    <tr>\n      <th>1</th>\n      <td>2023-11-08 06:26:35</td>\n      <td>2841158506866498595</td>\n      <td>-710585864896703953</td>\n      <td>3858142552250413010</td>\n      <td>False</td>\n      <td>android</td>\n      <td>vn</td>\n    </tr>\n    <tr>\n      <th>2</th>\n      <td>2023-11-08 11:00:09</td>\n      <td>8319180276841915965</td>\n      <td>8851130170214692120</td>\n      <td>-6901249382849255824</td>\n      <td>False</td>\n      <td>apple</td>\n      <td>vn</td>\n    </tr>\n    <tr>\n      <th>3</th>\n      <td>2023-11-08 17:03:55</td>\n      <td>-7044717482868540199</td>\n      <td>2562809385083234043</td>\n      <td>42</td>\n      <td>False</td>\n      <td>apple</td>\n      <td>vn</td>\n    </tr>\n    <tr>\n      <th>4</th>\n      <td>2023-11-08 10:09:35</td>\n      <td>8330275025360404105</td>\n      <td>6269721242185127990</td>\n      <td>-8100364697395241128</td>\n      <td>False</td>\n      <td>android</td>\n      <td>de</td>\n    </tr>\n    <tr>\n      <th>...</th>\n      <td>...</td>\n      <td>...</td>\n      <td>...</td>\n      <td>...</td>\n      <td>...</td>\n      <td>...</td>\n      <td>...</td>\n    </tr>\n    <tr>\n      <th>196085</th>\n      <td>2023-11-15 11:47:15</td>\n      <td>-1985881793666309748</td>\n      <td>1078423291596019483</td>\n      <td>3098934470375878848</td>\n      <td>False</td>\n      <td>android</td>\n      <td>br</td>\n    </tr>\n    <tr>\n      <th>196086</th>\n      <td>2023-11-15 15:24:53</td>\n      <td>2134527128238454256</td>\n      <td>-3747564580958942091</td>\n      <td>-8099055897267782491</td>\n      <td>False</td>\n      <td>apple</td>\n      <td>br</td>\n    </tr>\n    <tr>\n      <th>196087</th>\n      <td>2023-11-15 15:31:40</td>\n      <td>-2987017123302243105</td>\n      <td>-6832478710689874856</td>\n      <td>-8250782251817560378</td>\n      <td>False</td>\n      <td>android</td>\n      <td>vn</td>\n    </tr>\n    <tr>\n      <th>196088</th>\n      <td>2023-11-15 20:41:23</td>\n      <td>1438462127647457196</td>\n      <td>-5384106018072454101</td>\n      <td>-46678441358607097</td>\n      <td>False</td>\n      <td>android</td>\n      <td>br</td>\n    </tr>\n    <tr>\n      <th>196089</th>\n      <td>2023-11-15 15:52:43</td>\n      <td>-8712802945833965858</td>\n      <td>8760275016236232166</td>\n      <td>3858142552250413010</td>\n      <td>False</td>\n      <td>android</td>\n      <td>br</td>\n    </tr>\n  </tbody>\n</table>\n<p>196090 rows × 7 columns</p>\n</div>"
          },
          "metadata": {}
        }
      ],
      "execution_count": 1,
      "block_group": "2c3ddcbdd7514c00a5bdf8fbf67c60f6"
    },
    {
      "cell_type": "markdown",
      "source": "#### Events\n______________________________________________________\n",
      "metadata": {
        "deepnote_app_coordinates": {
          "h": 120,
          "w": 12,
          "x": 0,
          "y": 0
        },
        "cell_id": "29ec2e43299049268821006685bfc7a9",
        "deepnote_cell_type": "markdown"
      },
      "block_group": "4a1fe3236b544c289c6cc42a5b143231"
    },
    {
      "cell_type": "markdown",
      "source": "| Column| Data Type| Description| Unique Key|\n| ----------- | ----------- | ----------- | ----------- |\nevent_name |STRING |Type of event occurred |No\ntimestamp |TIMESTAMP |Timestamp when the event occurred |No\nevent_skey |STRING |Unique identifier for the event |Yes\ndevice_skey |STRING |Unique identifier for the device |No\nuser_skey |STRING |Unique identifier for the user |No\nsession_skey |STRING |Unique identifier for the session |No\nplatform |STRING |Platform on which the event occurred (e.g., android, apple) |No\nsource |STRING |Source screen from which the event was triggered |No\ncountry_code |STRING |Country from which the app was opened (e.g., us, de) | No",
      "metadata": {
        "deepnote_app_coordinates": {
          "h": 120,
          "w": 12,
          "x": 0,
          "y": 0
        },
        "cell_id": "bcae6db2f3264712862cb42b8afe195f",
        "deepnote_cell_type": "markdown"
      },
      "block_group": "48c17b3905774f0fb4c4206d7f39fc64"
    },
    {
      "cell_type": "code",
      "source": "events = _deepnote_execute_sql('SELECT \\n    event_name::STRING AS event_name\\n    , epoch_ms(timestamp)::TIMESTAMP_S AS date_time\\n    , event_skey::STRING AS event_skey\\n    , device_skey::STRING AS device_skey\\n    , user_skey::STRING AS user_skey\\n    , session_skey::STRING AS session_skey\\n    , platform::STRING AS platform\\n    , source::STRING AS source\\n    , country_code::STRING AS country_code\\nFROM \\'ps_challanges/growth_case_study/Datasets/Events.csv\\'', 'SQL_DEEPNOTE_DATAFRAME_SQL', audit_sql_comment='', sql_cache_mode='cache_disabled')\nevents",
      "metadata": {
        "source_hash": "193d150c",
        "is_code_hidden": false,
        "execution_start": 1703163796387,
        "execution_millis": 6127,
        "sql_integration_id": "deepnote-dataframe-sql",
        "deepnote_table_state": {
          "sortBy": [],
          "filters": [],
          "pageSize": 5,
          "pageIndex": 0
        },
        "deepnote_table_loading": false,
        "deepnote_variable_name": "events",
        "deepnote_app_coordinates": {
          "h": 120,
          "w": 12,
          "x": 0,
          "y": 0
        },
        "deepnote_to_be_reexecuted": false,
        "deepnote_app_is_code_hidden": false,
        "cell_id": "f3bc4511775c46c1b2c321200298a415",
        "deepnote_cell_type": "sql",
        "deepnote_sql_source": "SELECT \n    event_name::STRING AS event_name\n    , epoch_ms(timestamp)::TIMESTAMP_S AS date_time\n    , event_skey::STRING AS event_skey\n    , device_skey::STRING AS device_skey\n    , user_skey::STRING AS user_skey\n    , session_skey::STRING AS session_skey\n    , platform::STRING AS platform\n    , source::STRING AS source\n    , country_code::STRING AS country_code\nFROM 'ps_challanges/growth_case_study/Datasets/Events.csv'"
      },
      "outputs": [
        {
          "data": {
            "application/vnd.deepnote.sql-output-metadata+json": {
              "status": "success_no_cache",
              "size_in_bytes": 435190744
            }
          },
          "metadata": {},
          "output_type": "display_data"
        },
        {
          "output_type": "execute_result",
          "execution_count": 2,
          "data": {
            "application/vnd.deepnote.dataframe.v3+json": {
              "column_count": 9,
              "row_count": 762103,
              "columns": [
                {
                  "name": "event_name",
                  "dtype": "object"
                },
                {
                  "name": "date_time",
                  "dtype": "datetime64[ns]"
                },
                {
                  "name": "event_skey",
                  "dtype": "object"
                },
                {
                  "name": "device_skey",
                  "dtype": "object"
                },
                {
                  "name": "user_skey",
                  "dtype": "object"
                },
                {
                  "name": "session_skey",
                  "dtype": "object"
                },
                {
                  "name": "platform",
                  "dtype": "object"
                },
                {
                  "name": "source",
                  "dtype": "object"
                },
                {
                  "name": "country_code",
                  "dtype": "object"
                },
                {
                  "name": "_deepnote_index_column",
                  "dtype": "int64"
                }
              ],
              "rows": [
                {
                  "event_name": "registration_open",
                  "date_time": "2023-11-11 03:32:05",
                  "event_skey": "-927509160255567445",
                  "device_skey": "-724186991312688217",
                  "user_skey": "null",
                  "session_skey": "5342905048311674142",
                  "platform": "apple",
                  "source": "app_start",
                  "country_code": "vn",
                  "_deepnote_index_column": 0
                },
                {
                  "event_name": "registration_open",
                  "date_time": "2023-11-11 03:16:02",
                  "event_skey": "6726005894254876970",
                  "device_skey": "167579040429311423",
                  "user_skey": "null",
                  "session_skey": "1033335939576521366",
                  "platform": "android",
                  "source": "app_start",
                  "country_code": "vn",
                  "_deepnote_index_column": 1
                },
                {
                  "event_name": "registration_open",
                  "date_time": "2023-11-10 15:18:40",
                  "event_skey": "-2921948449119298022",
                  "device_skey": "-753449636207296314",
                  "user_skey": "null",
                  "session_skey": "7698330632377898188",
                  "platform": "apple",
                  "source": "app_start",
                  "country_code": "vn",
                  "_deepnote_index_column": 2
                },
                {
                  "event_name": "registration_open",
                  "date_time": "2023-11-10 15:46:26",
                  "event_skey": "920368455108193822",
                  "device_skey": "6151555484025284746",
                  "user_skey": "null",
                  "session_skey": "1455590834684669000",
                  "platform": "android",
                  "source": "user_profile",
                  "country_code": "br",
                  "_deepnote_index_column": 3
                },
                {
                  "event_name": "registration_open",
                  "date_time": "2023-11-10 15:46:35",
                  "event_skey": "4301569710999595535",
                  "device_skey": "6151555484025284746",
                  "user_skey": "null",
                  "session_skey": "1455590834684669000",
                  "platform": "android",
                  "source": "user_profile",
                  "country_code": "br",
                  "_deepnote_index_column": 4
                }
              ]
            },
            "text/plain": "               event_name           date_time            event_skey  \\\n0       registration_open 2023-11-11 03:32:05   -927509160255567445   \n1       registration_open 2023-11-11 03:16:02   6726005894254876970   \n2       registration_open 2023-11-10 15:18:40  -2921948449119298022   \n3       registration_open 2023-11-10 15:46:26    920368455108193822   \n4       registration_open 2023-11-10 15:46:35   4301569710999595535   \n...                   ...                 ...                   ...   \n762098      object_export 2023-11-06 03:19:28   8762455078106490544   \n762099      object_export 2023-11-06 03:19:33   1236197224848669172   \n762100      object_export 2023-11-06 00:40:15  -1128268909705829967   \n762101      object_export 2023-11-06 03:46:08  -5041445763328466000   \n762102      object_export 2023-11-06 05:24:32  -6986696981001780815   \n\n                 device_skey             user_skey          session_skey  \\\n0        -724186991312688217                  null   5342905048311674142   \n1         167579040429311423                  null   1033335939576521366   \n2        -753449636207296314                  null   7698330632377898188   \n3        6151555484025284746                  null   1455590834684669000   \n4        6151555484025284746                  null   1455590834684669000   \n...                      ...                   ...                   ...   \n762098   -218442561903040844  -7394739150698595004   4931081474184387585   \n762099  -8953068508614011099  -5616148740068329164   1939940093157332532   \n762100   7622198276030932501  -4476277103857062859   -914698409805777184   \n762101  -2972284481220770541   5642301744160861251  -2767914012090684930   \n762102   5063049973356317922  -1673568955619467978   -617241668950774295   \n\n       platform              source country_code  \n0         apple           app_start           vn  \n1       android           app_start           vn  \n2         apple           app_start           vn  \n3       android        user_profile           br  \n4       android        user_profile           br  \n...         ...                 ...          ...  \n762098    apple       editor_screen           vn  \n762099    apple  editor_add_objects           vn  \n762100    apple        share_screen           br  \n762101  android  editor_add_objects           eg  \n762102    apple     editor_beautify           vn  \n\n[762103 rows x 9 columns]",
            "text/html": "<div>\n<style scoped>\n    .dataframe tbody tr th:only-of-type {\n        vertical-align: middle;\n    }\n\n    .dataframe tbody tr th {\n        vertical-align: top;\n    }\n\n    .dataframe thead th {\n        text-align: right;\n    }\n</style>\n<table border=\"1\" class=\"dataframe\">\n  <thead>\n    <tr style=\"text-align: right;\">\n      <th></th>\n      <th>event_name</th>\n      <th>date_time</th>\n      <th>event_skey</th>\n      <th>device_skey</th>\n      <th>user_skey</th>\n      <th>session_skey</th>\n      <th>platform</th>\n      <th>source</th>\n      <th>country_code</th>\n    </tr>\n  </thead>\n  <tbody>\n    <tr>\n      <th>0</th>\n      <td>registration_open</td>\n      <td>2023-11-11 03:32:05</td>\n      <td>-927509160255567445</td>\n      <td>-724186991312688217</td>\n      <td>null</td>\n      <td>5342905048311674142</td>\n      <td>apple</td>\n      <td>app_start</td>\n      <td>vn</td>\n    </tr>\n    <tr>\n      <th>1</th>\n      <td>registration_open</td>\n      <td>2023-11-11 03:16:02</td>\n      <td>6726005894254876970</td>\n      <td>167579040429311423</td>\n      <td>null</td>\n      <td>1033335939576521366</td>\n      <td>android</td>\n      <td>app_start</td>\n      <td>vn</td>\n    </tr>\n    <tr>\n      <th>2</th>\n      <td>registration_open</td>\n      <td>2023-11-10 15:18:40</td>\n      <td>-2921948449119298022</td>\n      <td>-753449636207296314</td>\n      <td>null</td>\n      <td>7698330632377898188</td>\n      <td>apple</td>\n      <td>app_start</td>\n      <td>vn</td>\n    </tr>\n    <tr>\n      <th>3</th>\n      <td>registration_open</td>\n      <td>2023-11-10 15:46:26</td>\n      <td>920368455108193822</td>\n      <td>6151555484025284746</td>\n      <td>null</td>\n      <td>1455590834684669000</td>\n      <td>android</td>\n      <td>user_profile</td>\n      <td>br</td>\n    </tr>\n    <tr>\n      <th>4</th>\n      <td>registration_open</td>\n      <td>2023-11-10 15:46:35</td>\n      <td>4301569710999595535</td>\n      <td>6151555484025284746</td>\n      <td>null</td>\n      <td>1455590834684669000</td>\n      <td>android</td>\n      <td>user_profile</td>\n      <td>br</td>\n    </tr>\n    <tr>\n      <th>...</th>\n      <td>...</td>\n      <td>...</td>\n      <td>...</td>\n      <td>...</td>\n      <td>...</td>\n      <td>...</td>\n      <td>...</td>\n      <td>...</td>\n      <td>...</td>\n    </tr>\n    <tr>\n      <th>762098</th>\n      <td>object_export</td>\n      <td>2023-11-06 03:19:28</td>\n      <td>8762455078106490544</td>\n      <td>-218442561903040844</td>\n      <td>-7394739150698595004</td>\n      <td>4931081474184387585</td>\n      <td>apple</td>\n      <td>editor_screen</td>\n      <td>vn</td>\n    </tr>\n    <tr>\n      <th>762099</th>\n      <td>object_export</td>\n      <td>2023-11-06 03:19:33</td>\n      <td>1236197224848669172</td>\n      <td>-8953068508614011099</td>\n      <td>-5616148740068329164</td>\n      <td>1939940093157332532</td>\n      <td>apple</td>\n      <td>editor_add_objects</td>\n      <td>vn</td>\n    </tr>\n    <tr>\n      <th>762100</th>\n      <td>object_export</td>\n      <td>2023-11-06 00:40:15</td>\n      <td>-1128268909705829967</td>\n      <td>7622198276030932501</td>\n      <td>-4476277103857062859</td>\n      <td>-914698409805777184</td>\n      <td>apple</td>\n      <td>share_screen</td>\n      <td>br</td>\n    </tr>\n    <tr>\n      <th>762101</th>\n      <td>object_export</td>\n      <td>2023-11-06 03:46:08</td>\n      <td>-5041445763328466000</td>\n      <td>-2972284481220770541</td>\n      <td>5642301744160861251</td>\n      <td>-2767914012090684930</td>\n      <td>android</td>\n      <td>editor_add_objects</td>\n      <td>eg</td>\n    </tr>\n    <tr>\n      <th>762102</th>\n      <td>object_export</td>\n      <td>2023-11-06 05:24:32</td>\n      <td>-6986696981001780815</td>\n      <td>5063049973356317922</td>\n      <td>-1673568955619467978</td>\n      <td>-617241668950774295</td>\n      <td>apple</td>\n      <td>editor_beautify</td>\n      <td>vn</td>\n    </tr>\n  </tbody>\n</table>\n<p>762103 rows × 9 columns</p>\n</div>"
          },
          "metadata": {}
        }
      ],
      "execution_count": 2,
      "block_group": "48c17b3905774f0fb4c4206d7f39fc64"
    },
    {
      "cell_type": "markdown",
      "source": "#### Visitors\n______________________________________________________",
      "metadata": {
        "deepnote_app_coordinates": {
          "h": 120,
          "w": 12,
          "x": 0,
          "y": 0
        },
        "cell_id": "43a12231368b45b19a44b5ffc56765a9",
        "deepnote_cell_type": "markdown"
      },
      "block_group": "d9eef6e27f634caab05965eafa6d0abe"
    },
    {
      "cell_type": "markdown",
      "source": "| Column| Data Type| Description| Unique Key|\n| ----------- | ----------- | ----------- | ----------- |\n|Date |STRING| Date of visit | yes\nStore Visitors. Source: search | BIGINT |Number of store visitors from the source search |No\nStore Visitors. Source: explore | BIGINT |Number of store visitors from the source explore |No\nStore Visitors. Source: referrals | BIGINT |Number of store visitors from the source referrals |No",
      "metadata": {
        "deepnote_app_coordinates": {
          "h": 120,
          "w": 12,
          "x": 0,
          "y": 0
        },
        "cell_id": "da2fa9618a4f47049ee270a2f23ecd1e",
        "deepnote_cell_type": "markdown"
      },
      "block_group": "81d7a103f59d497d980d3a9bb70c8e11"
    },
    {
      "cell_type": "code",
      "source": "visitors = _deepnote_execute_sql('SELECT \\n    Date::TIMESTAMP_S AS date_time\\n    , \"Store Visitors. Source: search\"::BIGINT AS store_visitors_source_search\\n    , \"Store Visitors. Source: explore\"::BIGINT AS store_visitors_source_explore\\n    , \"Store Visitors. Source: referrals\"::BIGINT AS store_visitors_source_referrals\\nFROM \\'ps_challanges/growth_case_study/Datasets/store_visitors.csv\\'', 'SQL_DEEPNOTE_DATAFRAME_SQL', audit_sql_comment='', sql_cache_mode='cache_disabled')\nvisitors",
      "metadata": {
        "source_hash": "9f386c26",
        "is_code_hidden": false,
        "execution_start": 1703163802686,
        "execution_millis": 309,
        "sql_integration_id": "deepnote-dataframe-sql",
        "deepnote_table_state": {
          "sortBy": [
            {
              "id": "date_time",
              "type": "asc"
            }
          ],
          "filters": [],
          "pageSize": 5,
          "pageIndex": 0
        },
        "deepnote_table_loading": false,
        "deepnote_variable_name": "visitors",
        "deepnote_app_coordinates": {
          "h": 120,
          "w": 12,
          "x": 0,
          "y": 0
        },
        "deepnote_to_be_reexecuted": false,
        "deepnote_app_is_code_hidden": false,
        "cell_id": "8237eea72cbf4d088dbca5f139e5ab9d",
        "deepnote_cell_type": "sql",
        "deepnote_sql_source": "SELECT \n    Date::TIMESTAMP_S AS date_time\n    , \"Store Visitors. Source: search\"::BIGINT AS store_visitors_source_search\n    , \"Store Visitors. Source: explore\"::BIGINT AS store_visitors_source_explore\n    , \"Store Visitors. Source: referrals\"::BIGINT AS store_visitors_source_referrals\nFROM 'ps_challanges/growth_case_study/Datasets/store_visitors.csv'"
      },
      "outputs": [
        {
          "data": {
            "application/vnd.deepnote.sql-output-metadata+json": {
              "status": "success_no_cache",
              "size_in_bytes": 1088
            }
          },
          "metadata": {},
          "output_type": "display_data"
        },
        {
          "output_type": "execute_result",
          "execution_count": 3,
          "data": {
            "application/vnd.deepnote.dataframe.v3+json": {
              "column_count": 4,
              "row_count": 30,
              "columns": [
                {
                  "name": "date_time",
                  "dtype": "datetime64[ns]",
                  "stats": {
                    "unique_count": 30,
                    "nan_count": 0,
                    "min": "2023-11-01 00:00:00",
                    "max": "2023-11-30 00:00:00",
                    "histogram": [
                      {
                        "bin_start": 1698796800000000000,
                        "bin_end": 1699047360000000000,
                        "count": 3
                      },
                      {
                        "bin_start": 1699047360000000000,
                        "bin_end": 1699297920000000000,
                        "count": 3
                      },
                      {
                        "bin_start": 1699297920000000000,
                        "bin_end": 1699548480000000000,
                        "count": 3
                      },
                      {
                        "bin_start": 1699548480000000000,
                        "bin_end": 1699799040000000000,
                        "count": 3
                      },
                      {
                        "bin_start": 1699799040000000000,
                        "bin_end": 1700049600000000000,
                        "count": 3
                      },
                      {
                        "bin_start": 1700049600000000000,
                        "bin_end": 1700300160000000000,
                        "count": 3
                      },
                      {
                        "bin_start": 1700300160000000000,
                        "bin_end": 1700550720000000000,
                        "count": 3
                      },
                      {
                        "bin_start": 1700550720000000000,
                        "bin_end": 1700801280000000000,
                        "count": 3
                      },
                      {
                        "bin_start": 1700801280000000000,
                        "bin_end": 1701051840000000000,
                        "count": 3
                      },
                      {
                        "bin_start": 1701051840000000000,
                        "bin_end": 1701302400000000000,
                        "count": 3
                      }
                    ]
                  }
                },
                {
                  "name": "store_visitors_source_search",
                  "dtype": "int64",
                  "stats": {
                    "unique_count": 13,
                    "nan_count": 0,
                    "min": "1",
                    "max": "852",
                    "histogram": [
                      {
                        "bin_start": 1,
                        "bin_end": 86.1,
                        "count": 26
                      },
                      {
                        "bin_start": 86.1,
                        "bin_end": 171.2,
                        "count": 0
                      },
                      {
                        "bin_start": 171.2,
                        "bin_end": 256.29999999999995,
                        "count": 0
                      },
                      {
                        "bin_start": 256.29999999999995,
                        "bin_end": 341.4,
                        "count": 1
                      },
                      {
                        "bin_start": 341.4,
                        "bin_end": 426.5,
                        "count": 0
                      },
                      {
                        "bin_start": 426.5,
                        "bin_end": 511.59999999999997,
                        "count": 1
                      },
                      {
                        "bin_start": 511.59999999999997,
                        "bin_end": 596.6999999999999,
                        "count": 0
                      },
                      {
                        "bin_start": 596.6999999999999,
                        "bin_end": 681.8,
                        "count": 0
                      },
                      {
                        "bin_start": 681.8,
                        "bin_end": 766.9,
                        "count": 0
                      },
                      {
                        "bin_start": 766.9,
                        "bin_end": 852,
                        "count": 2
                      }
                    ]
                  }
                },
                {
                  "name": "store_visitors_source_explore",
                  "dtype": "int64",
                  "stats": {
                    "unique_count": 18,
                    "nan_count": 0,
                    "min": "2",
                    "max": "663",
                    "histogram": [
                      {
                        "bin_start": 2,
                        "bin_end": 68.1,
                        "count": 29
                      },
                      {
                        "bin_start": 68.1,
                        "bin_end": 134.2,
                        "count": 0
                      },
                      {
                        "bin_start": 134.2,
                        "bin_end": 200.29999999999998,
                        "count": 0
                      },
                      {
                        "bin_start": 200.29999999999998,
                        "bin_end": 266.4,
                        "count": 0
                      },
                      {
                        "bin_start": 266.4,
                        "bin_end": 332.5,
                        "count": 0
                      },
                      {
                        "bin_start": 332.5,
                        "bin_end": 398.59999999999997,
                        "count": 0
                      },
                      {
                        "bin_start": 398.59999999999997,
                        "bin_end": 464.69999999999993,
                        "count": 0
                      },
                      {
                        "bin_start": 464.69999999999993,
                        "bin_end": 530.8,
                        "count": 0
                      },
                      {
                        "bin_start": 530.8,
                        "bin_end": 596.9,
                        "count": 0
                      },
                      {
                        "bin_start": 596.9,
                        "bin_end": 663,
                        "count": 1
                      }
                    ]
                  }
                },
                {
                  "name": "store_visitors_source_referrals",
                  "dtype": "int64",
                  "stats": {
                    "unique_count": 12,
                    "nan_count": 0,
                    "min": "2",
                    "max": "938",
                    "histogram": [
                      {
                        "bin_start": 2,
                        "bin_end": 95.6,
                        "count": 26
                      },
                      {
                        "bin_start": 95.6,
                        "bin_end": 189.2,
                        "count": 0
                      },
                      {
                        "bin_start": 189.2,
                        "bin_end": 282.79999999999995,
                        "count": 0
                      },
                      {
                        "bin_start": 282.79999999999995,
                        "bin_end": 376.4,
                        "count": 1
                      },
                      {
                        "bin_start": 376.4,
                        "bin_end": 470,
                        "count": 1
                      },
                      {
                        "bin_start": 470,
                        "bin_end": 563.5999999999999,
                        "count": 0
                      },
                      {
                        "bin_start": 563.5999999999999,
                        "bin_end": 657.1999999999999,
                        "count": 0
                      },
                      {
                        "bin_start": 657.1999999999999,
                        "bin_end": 750.8,
                        "count": 0
                      },
                      {
                        "bin_start": 750.8,
                        "bin_end": 844.4,
                        "count": 1
                      },
                      {
                        "bin_start": 844.4,
                        "bin_end": 938,
                        "count": 1
                      }
                    ]
                  }
                },
                {
                  "name": "_deepnote_index_column",
                  "dtype": "int64"
                }
              ],
              "rows": [
                {
                  "date_time": "2023-11-01 00:00:00",
                  "store_visitors_source_search": 6,
                  "store_visitors_source_explore": 6,
                  "store_visitors_source_referrals": 5,
                  "_deepnote_index_column": 0
                },
                {
                  "date_time": "2023-11-02 00:00:00",
                  "store_visitors_source_search": 7,
                  "store_visitors_source_explore": 8,
                  "store_visitors_source_referrals": 7,
                  "_deepnote_index_column": 1
                },
                {
                  "date_time": "2023-11-03 00:00:00",
                  "store_visitors_source_search": 3,
                  "store_visitors_source_explore": 3,
                  "store_visitors_source_referrals": 2,
                  "_deepnote_index_column": 2
                },
                {
                  "date_time": "2023-11-04 00:00:00",
                  "store_visitors_source_search": 286,
                  "store_visitors_source_explore": 3,
                  "store_visitors_source_referrals": 3,
                  "_deepnote_index_column": 3
                },
                {
                  "date_time": "2023-11-05 00:00:00",
                  "store_visitors_source_search": 7,
                  "store_visitors_source_explore": 9,
                  "store_visitors_source_referrals": 6,
                  "_deepnote_index_column": 4
                }
              ]
            },
            "text/plain": "    date_time  store_visitors_source_search  store_visitors_source_explore  \\\n0  2023-11-01                             6                              6   \n1  2023-11-02                             7                              8   \n2  2023-11-03                             3                              3   \n3  2023-11-04                           286                              3   \n4  2023-11-05                             7                              9   \n5  2023-11-06                             2                              4   \n6  2023-11-07                             4                              7   \n7  2023-11-08                             1                              3   \n8  2023-11-09                             6                             12   \n9  2023-11-10                             8                             15   \n10 2023-11-11                             4                             13   \n11 2023-11-12                             3                             11   \n12 2023-11-13                             4                             16   \n13 2023-11-14                             6                             26   \n14 2023-11-15                             2                              8   \n15 2023-11-16                             4                             22   \n16 2023-11-17                             3                             10   \n17 2023-11-18                             5                              9   \n18 2023-11-19                             3                              4   \n19 2023-11-20                             3                              5   \n20 2023-11-21                             6                             12   \n21 2023-11-22                           852                             18   \n22 2023-11-23                             3                            663   \n23 2023-11-24                           467                              8   \n24 2023-11-25                             3                              5   \n25 2023-11-26                             6                             12   \n26 2023-11-27                           803                              2   \n27 2023-11-28                             6                             13   \n28 2023-11-29                             3                              6   \n29 2023-11-30                            23                              6   \n\n    store_visitors_source_referrals  \n0                                 5  \n1                                 7  \n2                                 2  \n3                                 3  \n4                                 6  \n5                                 2  \n6                                 4  \n7                                 2  \n8                                 6  \n9                                 7  \n10                                4  \n11                              311  \n12                               54  \n13                                9  \n14                                3  \n15                                7  \n16                                4  \n17                                6  \n18                                3  \n19                                4  \n20                                7  \n21                              938  \n22                                4  \n23                                6  \n24                              379  \n25                                7  \n26                              835  \n27                                5  \n28                                3  \n29                                2  ",
            "text/html": "<div>\n<style scoped>\n    .dataframe tbody tr th:only-of-type {\n        vertical-align: middle;\n    }\n\n    .dataframe tbody tr th {\n        vertical-align: top;\n    }\n\n    .dataframe thead th {\n        text-align: right;\n    }\n</style>\n<table border=\"1\" class=\"dataframe\">\n  <thead>\n    <tr style=\"text-align: right;\">\n      <th></th>\n      <th>date_time</th>\n      <th>store_visitors_source_search</th>\n      <th>store_visitors_source_explore</th>\n      <th>store_visitors_source_referrals</th>\n    </tr>\n  </thead>\n  <tbody>\n    <tr>\n      <th>0</th>\n      <td>2023-11-01</td>\n      <td>6</td>\n      <td>6</td>\n      <td>5</td>\n    </tr>\n    <tr>\n      <th>1</th>\n      <td>2023-11-02</td>\n      <td>7</td>\n      <td>8</td>\n      <td>7</td>\n    </tr>\n    <tr>\n      <th>2</th>\n      <td>2023-11-03</td>\n      <td>3</td>\n      <td>3</td>\n      <td>2</td>\n    </tr>\n    <tr>\n      <th>3</th>\n      <td>2023-11-04</td>\n      <td>286</td>\n      <td>3</td>\n      <td>3</td>\n    </tr>\n    <tr>\n      <th>4</th>\n      <td>2023-11-05</td>\n      <td>7</td>\n      <td>9</td>\n      <td>6</td>\n    </tr>\n    <tr>\n      <th>5</th>\n      <td>2023-11-06</td>\n      <td>2</td>\n      <td>4</td>\n      <td>2</td>\n    </tr>\n    <tr>\n      <th>6</th>\n      <td>2023-11-07</td>\n      <td>4</td>\n      <td>7</td>\n      <td>4</td>\n    </tr>\n    <tr>\n      <th>7</th>\n      <td>2023-11-08</td>\n      <td>1</td>\n      <td>3</td>\n      <td>2</td>\n    </tr>\n    <tr>\n      <th>8</th>\n      <td>2023-11-09</td>\n      <td>6</td>\n      <td>12</td>\n      <td>6</td>\n    </tr>\n    <tr>\n      <th>9</th>\n      <td>2023-11-10</td>\n      <td>8</td>\n      <td>15</td>\n      <td>7</td>\n    </tr>\n    <tr>\n      <th>10</th>\n      <td>2023-11-11</td>\n      <td>4</td>\n      <td>13</td>\n      <td>4</td>\n    </tr>\n    <tr>\n      <th>11</th>\n      <td>2023-11-12</td>\n      <td>3</td>\n      <td>11</td>\n      <td>311</td>\n    </tr>\n    <tr>\n      <th>12</th>\n      <td>2023-11-13</td>\n      <td>4</td>\n      <td>16</td>\n      <td>54</td>\n    </tr>\n    <tr>\n      <th>13</th>\n      <td>2023-11-14</td>\n      <td>6</td>\n      <td>26</td>\n      <td>9</td>\n    </tr>\n    <tr>\n      <th>14</th>\n      <td>2023-11-15</td>\n      <td>2</td>\n      <td>8</td>\n      <td>3</td>\n    </tr>\n    <tr>\n      <th>15</th>\n      <td>2023-11-16</td>\n      <td>4</td>\n      <td>22</td>\n      <td>7</td>\n    </tr>\n    <tr>\n      <th>16</th>\n      <td>2023-11-17</td>\n      <td>3</td>\n      <td>10</td>\n      <td>4</td>\n    </tr>\n    <tr>\n      <th>17</th>\n      <td>2023-11-18</td>\n      <td>5</td>\n      <td>9</td>\n      <td>6</td>\n    </tr>\n    <tr>\n      <th>18</th>\n      <td>2023-11-19</td>\n      <td>3</td>\n      <td>4</td>\n      <td>3</td>\n    </tr>\n    <tr>\n      <th>19</th>\n      <td>2023-11-20</td>\n      <td>3</td>\n      <td>5</td>\n      <td>4</td>\n    </tr>\n    <tr>\n      <th>20</th>\n      <td>2023-11-21</td>\n      <td>6</td>\n      <td>12</td>\n      <td>7</td>\n    </tr>\n    <tr>\n      <th>21</th>\n      <td>2023-11-22</td>\n      <td>852</td>\n      <td>18</td>\n      <td>938</td>\n    </tr>\n    <tr>\n      <th>22</th>\n      <td>2023-11-23</td>\n      <td>3</td>\n      <td>663</td>\n      <td>4</td>\n    </tr>\n    <tr>\n      <th>23</th>\n      <td>2023-11-24</td>\n      <td>467</td>\n      <td>8</td>\n      <td>6</td>\n    </tr>\n    <tr>\n      <th>24</th>\n      <td>2023-11-25</td>\n      <td>3</td>\n      <td>5</td>\n      <td>379</td>\n    </tr>\n    <tr>\n      <th>25</th>\n      <td>2023-11-26</td>\n      <td>6</td>\n      <td>12</td>\n      <td>7</td>\n    </tr>\n    <tr>\n      <th>26</th>\n      <td>2023-11-27</td>\n      <td>803</td>\n      <td>2</td>\n      <td>835</td>\n    </tr>\n    <tr>\n      <th>27</th>\n      <td>2023-11-28</td>\n      <td>6</td>\n      <td>13</td>\n      <td>5</td>\n    </tr>\n    <tr>\n      <th>28</th>\n      <td>2023-11-29</td>\n      <td>3</td>\n      <td>6</td>\n      <td>3</td>\n    </tr>\n    <tr>\n      <th>29</th>\n      <td>2023-11-30</td>\n      <td>23</td>\n      <td>6</td>\n      <td>2</td>\n    </tr>\n  </tbody>\n</table>\n</div>"
          },
          "metadata": {}
        }
      ],
      "execution_count": 3,
      "block_group": "81d7a103f59d497d980d3a9bb70c8e11"
    },
    {
      "cell_type": "markdown",
      "source": "## Part 1 - SQL",
      "metadata": {
        "formattedRanges": [],
        "deepnote_app_coordinates": {
          "h": 120,
          "w": 12,
          "x": 0,
          "y": 0
        },
        "cell_id": "2122383b41594fe18910b9ac1c0ff143",
        "deepnote_cell_type": "text-cell-h2"
      },
      "block_group": "d6367bb00e2340f094a33ecc7ebdb59f"
    },
    {
      "cell_type": "markdown",
      "source": "> 1- Write an SQL query to derive the first session funnel per platform from the provided dataset using all available events. The first funnel step is the user’s first app open.",
      "metadata": {
        "formattedRanges": [],
        "deepnote_app_coordinates": {
          "h": 2,
          "w": 8,
          "x": 0,
          "y": 0
        },
        "cell_id": "8652ad7eaaa8431c8f12e481d0ef1780",
        "deepnote_cell_type": "text-cell-callout"
      },
      "block_group": "bd4ee5ce946548b1bb967ba3469d04d4"
    },
    {
      "cell_type": "code",
      "source": "ranked = _deepnote_execute_sql('WITH base AS (\\n    SELECT \\n      events.date_time\\n      , events.user_skey\\n      , events.platform\\n      , events.session_skey\\n      , events.event_name\\n    FROM events \\n    INNER JOIN apps_open USING(session_skey)\\n)\\n, ranked as (\\n    SELECT     \\n    session_skey\\n    , user_skey\\n    , platform\\n    , event_name\\n    , RANK() OVER (PARTITION BY session_skey ORDER BY date_time) AS funnel_step\\n    FROM base\\n)\\n, ordered AS (SELECT \\n     funnel_step\\n    , event_name\\n    , COUNT(DISTINCT CASE WHEN platform = \\'apple\\' THEN user_skey END) AS apple\\n    , COUNT(DISTINCT CASE WHEN platform = \\'android\\' THEN user_skey END) AS android\\nFROM ranked\\nGROUP BY funnel_step, event_name\\n)\\n\\n-- SELECT * FROM ordered\\n\\nSELECT DISTINCT\\n    funnel_step\\n    , FIRST(CONCAT(event_name, \\': \\', apple, \\' users\\')) OVER (PARTITION BY funnel_step ORDER BY apple desc) AS apple_event \\n    , FIRST(CONCAT(event_name, \\': \\', android, \\' users\\')) OVER (PARTITION BY funnel_step ORDER BY android desc) AS android_event\\nFROM ordered\\nWHERE funnel_step <= 5\\nORDER BY funnel_step ASC', 'SQL_DEEPNOTE_DATAFRAME_SQL', audit_sql_comment='', sql_cache_mode='cache_disabled')\nranked",
      "metadata": {
        "source_hash": "5f943d10",
        "execution_start": 1703163802993,
        "execution_millis": 203,
        "sql_integration_id": "deepnote-dataframe-sql",
        "deepnote_table_state": {
          "sortBy": [],
          "filters": [],
          "pageSize": 50,
          "pageIndex": 0
        },
        "deepnote_table_loading": false,
        "deepnote_variable_name": "ranked",
        "deepnote_app_coordinates": {
          "h": 120,
          "w": 12,
          "x": 0,
          "y": 0
        },
        "deepnote_to_be_reexecuted": false,
        "deepnote_app_is_code_hidden": false,
        "cell_id": "b89863666ac74a25ae7b51eb952318a0",
        "deepnote_cell_type": "sql",
        "deepnote_sql_source": "WITH base AS (\n    SELECT \n      events.date_time\n      , events.user_skey\n      , events.platform\n      , events.session_skey\n      , events.event_name\n    FROM events \n    INNER JOIN apps_open USING(session_skey)\n)\n, ranked as (\n    SELECT     \n    session_skey\n    , user_skey\n    , platform\n    , event_name\n    , RANK() OVER (PARTITION BY session_skey ORDER BY date_time) AS funnel_step\n    FROM base\n)\n, ordered AS (SELECT \n     funnel_step\n    , event_name\n    , COUNT(DISTINCT CASE WHEN platform = 'apple' THEN user_skey END) AS apple\n    , COUNT(DISTINCT CASE WHEN platform = 'android' THEN user_skey END) AS android\nFROM ranked\nGROUP BY funnel_step, event_name\n)\n\n-- SELECT * FROM ordered\n\nSELECT DISTINCT\n    funnel_step\n    , FIRST(CONCAT(event_name, ': ', apple, ' users')) OVER (PARTITION BY funnel_step ORDER BY apple desc) AS apple_event \n    , FIRST(CONCAT(event_name, ': ', android, ' users')) OVER (PARTITION BY funnel_step ORDER BY android desc) AS android_event\nFROM ordered\nWHERE funnel_step <= 5\nORDER BY funnel_step ASC"
      },
      "outputs": [
        {
          "data": {
            "application/vnd.deepnote.sql-output-metadata+json": {
              "status": "success_no_cache",
              "size_in_bytes": 984
            }
          },
          "metadata": {},
          "output_type": "display_data"
        },
        {
          "output_type": "execute_result",
          "execution_count": 4,
          "data": {
            "application/vnd.deepnote.dataframe.v3+json": {
              "column_count": 3,
              "row_count": 5,
              "columns": [
                {
                  "name": "funnel_step",
                  "dtype": "int64",
                  "stats": {
                    "unique_count": 5,
                    "nan_count": 0,
                    "min": "1",
                    "max": "5",
                    "histogram": [
                      {
                        "bin_start": 1,
                        "bin_end": 1.4,
                        "count": 1
                      },
                      {
                        "bin_start": 1.4,
                        "bin_end": 1.8,
                        "count": 0
                      },
                      {
                        "bin_start": 1.8,
                        "bin_end": 2.2,
                        "count": 1
                      },
                      {
                        "bin_start": 2.2,
                        "bin_end": 2.6,
                        "count": 0
                      },
                      {
                        "bin_start": 2.6,
                        "bin_end": 3,
                        "count": 0
                      },
                      {
                        "bin_start": 3,
                        "bin_end": 3.4000000000000004,
                        "count": 1
                      },
                      {
                        "bin_start": 3.4000000000000004,
                        "bin_end": 3.8000000000000003,
                        "count": 0
                      },
                      {
                        "bin_start": 3.8000000000000003,
                        "bin_end": 4.2,
                        "count": 1
                      },
                      {
                        "bin_start": 4.2,
                        "bin_end": 4.6,
                        "count": 0
                      },
                      {
                        "bin_start": 4.6,
                        "bin_end": 5,
                        "count": 1
                      }
                    ]
                  }
                },
                {
                  "name": "apple_event",
                  "dtype": "object",
                  "stats": {
                    "unique_count": 5,
                    "nan_count": 0,
                    "categories": [
                      {
                        "name": "create_flow_open: 203 users",
                        "count": 1
                      },
                      {
                        "name": "subscription_offer_open: 95 users",
                        "count": 1
                      },
                      {
                        "name": "3 others",
                        "count": 3
                      }
                    ]
                  }
                },
                {
                  "name": "android_event",
                  "dtype": "object",
                  "stats": {
                    "unique_count": 5,
                    "nan_count": 0,
                    "categories": [
                      {
                        "name": "create_flow_open: 226 users",
                        "count": 1
                      },
                      {
                        "name": "editor_open: 127 users",
                        "count": 1
                      },
                      {
                        "name": "3 others",
                        "count": 3
                      }
                    ]
                  }
                },
                {
                  "name": "_deepnote_index_column",
                  "dtype": "int64"
                }
              ],
              "rows": [
                {
                  "funnel_step": 1,
                  "apple_event": "create_flow_open: 203 users",
                  "android_event": "create_flow_open: 226 users",
                  "_deepnote_index_column": 0
                },
                {
                  "funnel_step": 2,
                  "apple_event": "subscription_offer_open: 95 users",
                  "android_event": "editor_open: 127 users",
                  "_deepnote_index_column": 1
                },
                {
                  "funnel_step": 3,
                  "apple_event": "editor_open: 113 users",
                  "android_event": "object_export: 89 users",
                  "_deepnote_index_column": 2
                },
                {
                  "funnel_step": 4,
                  "apple_event": "object_export: 81 users",
                  "android_event": "object_export: 70 users",
                  "_deepnote_index_column": 3
                },
                {
                  "funnel_step": 5,
                  "apple_event": "object_export: 42 users",
                  "android_event": "object_export: 45 users",
                  "_deepnote_index_column": 4
                }
              ]
            },
            "text/plain": "   funnel_step                        apple_event                android_event\n0            1        create_flow_open: 203 users  create_flow_open: 226 users\n1            2  subscription_offer_open: 95 users       editor_open: 127 users\n2            3             editor_open: 113 users      object_export: 89 users\n3            4            object_export: 81 users      object_export: 70 users\n4            5            object_export: 42 users      object_export: 45 users",
            "text/html": "<div>\n<style scoped>\n    .dataframe tbody tr th:only-of-type {\n        vertical-align: middle;\n    }\n\n    .dataframe tbody tr th {\n        vertical-align: top;\n    }\n\n    .dataframe thead th {\n        text-align: right;\n    }\n</style>\n<table border=\"1\" class=\"dataframe\">\n  <thead>\n    <tr style=\"text-align: right;\">\n      <th></th>\n      <th>funnel_step</th>\n      <th>apple_event</th>\n      <th>android_event</th>\n    </tr>\n  </thead>\n  <tbody>\n    <tr>\n      <th>0</th>\n      <td>1</td>\n      <td>create_flow_open: 203 users</td>\n      <td>create_flow_open: 226 users</td>\n    </tr>\n    <tr>\n      <th>1</th>\n      <td>2</td>\n      <td>subscription_offer_open: 95 users</td>\n      <td>editor_open: 127 users</td>\n    </tr>\n    <tr>\n      <th>2</th>\n      <td>3</td>\n      <td>editor_open: 113 users</td>\n      <td>object_export: 89 users</td>\n    </tr>\n    <tr>\n      <th>3</th>\n      <td>4</td>\n      <td>object_export: 81 users</td>\n      <td>object_export: 70 users</td>\n    </tr>\n    <tr>\n      <th>4</th>\n      <td>5</td>\n      <td>object_export: 42 users</td>\n      <td>object_export: 45 users</td>\n    </tr>\n  </tbody>\n</table>\n</div>"
          },
          "metadata": {}
        }
      ],
      "execution_count": 4,
      "block_group": "eb8789a8afa34bb5b5ab2855da5f3731"
    },
    {
      "cell_type": "markdown",
      "source": "> 2. Calculate the WAU Growth Accounting (New, Retained, Resurrected, Churn users) from November 13th to November 19th",
      "metadata": {
        "formattedRanges": [],
        "deepnote_app_coordinates": {
          "h": 2,
          "w": 8,
          "x": 0,
          "y": 0
        },
        "cell_id": "002e5245b71041d9a40e49b1dcf41cc4",
        "deepnote_cell_type": "text-cell-callout"
      },
      "block_group": "d3dfe5b0f3ed471c8710f0e0998fede1"
    },
    {
      "cell_type": "markdown",
      "source": "1. New Users: Users who start using the application during the current week.\n2. Retained Users: Users who also used the application in the current week and the week before.\n3. Resurrected Users: Users who used the app in the current week, but not the previous week, and at some point before the previous week.\n4. Churned Users: Users who used the app in the previous week, but not the current week.",
      "metadata": {
        "formattedRanges": [],
        "deepnote_app_coordinates": {
          "h": 2,
          "w": 8,
          "x": 0,
          "y": 0
        },
        "cell_id": "73f92037fef44b10b50893091d6875de",
        "deepnote_cell_type": "text-cell-p"
      },
      "block_group": "4037d13851a941eba58b95e777a1ae58"
    },
    {
      "cell_type": "code",
      "source": "base_users = _deepnote_execute_sql('WITH  base AS (\\nSELECT \\n    date_trunc(\\'week\\', date_time) AS week\\n    , user_skey\\n    , is_first_app_open\\nFROM apps_open\\n) \\n\\n, normalized AS (\\n    SELECT \\n        user_skey\\n        , CASE WHEN week = \\'2023-11-06\\' AND is_first_app_open = TRUE THEN \\'new_week_1\\'\\n            WHEN week = \\'2023-11-06\\' AND is_first_app_open = FALSE THEN \\'existing_week_1\\'\\n            WHEN week = \\'2023-11-13\\' AND is_first_app_open = TRUE THEN \\'new_week_2\\'\\n            WHEN week = \\'2023-11-13\\' AND is_first_app_open = FALSE THEN \\'existing_week_2\\' END AS category \\n    FROM base\\n)\\n\\n, pivoted AS (PIVOT normalized ON category USING COUNT(DISTINCT user_skey) GROUP BY user_skey)\\n\\n, final AS (\\nSELECT DISTINCT\\n *\\n    , CASE WHEN new_week_1 = 1 THEN \\'new\\'\\n        WHEN existing_week_1 = 1 THEN \\'existing\\' END AS week_1\\n    , CASE WHEN new_week_2 = 1  AND new_week_1 = 0 THEN \\'new\\'\\n        WHEN existing_week_2 = 1 THEN \\'existing\\' END AS week_2\\nFROM pivoted \\n)\\n\\n    SELECT \\n      COUNT(DISTINCT CASE WHEN week_1 = \\'new\\' THEN user_skey END) AS new_week_1\\n      , COUNT( DISTINCT CASE WHEN week_2 = \\'new\\' THEN user_skey END) AS new_week_2\\n\\n      , COUNT( DISTINCT CASE WHEN week_1 = \\'existing\\' THEN user_skey END) AS existing_week_1\\n      , COUNT( DISTINCT CASE WHEN week_2 = \\'existing\\' THEN user_skey END) AS existing_week_2\\n\\n      , COUNT( DISTINCT CASE WHEN week_1 IS NOT NULL THEN user_skey END) AS total_week_1\\n      , COUNT( DISTINCT CASE WHEN week_2 IS NOT NULL THEN user_skey END) AS total_week_2\\n\\n      , ((total_week_2/total_week_1 -1) * 100)::DECIMAL(10,2) AS growth\\n      , COUNT( DISTINCT CASE WHEN week_1 IS NULL AND week_2 = \\'existing\\' THEN user_skey END) AS resurrected\\n      , COUNT( DISTINCT CASE WHEN week_1 IS NOT NULL AND week_2 = \\'existing\\' THEN user_skey END) AS retained\\n      , COUNT( DISTINCT CASE WHEN week_1 IS NOT NULL AND week_2 IS NULL THEN user_skey END) AS churned\\n    FROM final', 'SQL_DEEPNOTE_DATAFRAME_SQL', audit_sql_comment='', sql_cache_mode='cache_disabled')\nbase_users",
      "metadata": {
        "source_hash": "3d4840a9",
        "execution_start": 1703163803204,
        "execution_millis": 399,
        "sql_integration_id": "deepnote-dataframe-sql",
        "deepnote_table_state": {
          "sortBy": [
            {
              "id": "week_2",
              "type": "asc"
            }
          ],
          "filters": [],
          "pageSize": 5,
          "pageIndex": 0
        },
        "deepnote_table_loading": false,
        "deepnote_variable_name": "base_users",
        "deepnote_app_coordinates": {
          "h": 120,
          "w": 12,
          "x": 0,
          "y": 0
        },
        "deepnote_to_be_reexecuted": false,
        "deepnote_app_is_code_hidden": false,
        "cell_id": "4d35e8faefd64df3bf7a20c67210e6f9",
        "deepnote_cell_type": "sql",
        "deepnote_sql_source": "WITH  base AS (\nSELECT \n    date_trunc('week', date_time) AS week\n    , user_skey\n    , is_first_app_open\nFROM apps_open\n) \n\n, normalized AS (\n    SELECT \n        user_skey\n        , CASE WHEN week = '2023-11-06' AND is_first_app_open = TRUE THEN 'new_week_1'\n            WHEN week = '2023-11-06' AND is_first_app_open = FALSE THEN 'existing_week_1'\n            WHEN week = '2023-11-13' AND is_first_app_open = TRUE THEN 'new_week_2'\n            WHEN week = '2023-11-13' AND is_first_app_open = FALSE THEN 'existing_week_2' END AS category \n    FROM base\n)\n\n, pivoted AS (PIVOT normalized ON category USING COUNT(DISTINCT user_skey) GROUP BY user_skey)\n\n, final AS (\nSELECT DISTINCT\n *\n    , CASE WHEN new_week_1 = 1 THEN 'new'\n        WHEN existing_week_1 = 1 THEN 'existing' END AS week_1\n    , CASE WHEN new_week_2 = 1  AND new_week_1 = 0 THEN 'new'\n        WHEN existing_week_2 = 1 THEN 'existing' END AS week_2\nFROM pivoted \n)\n\n    SELECT \n      COUNT(DISTINCT CASE WHEN week_1 = 'new' THEN user_skey END) AS new_week_1\n      , COUNT( DISTINCT CASE WHEN week_2 = 'new' THEN user_skey END) AS new_week_2\n\n      , COUNT( DISTINCT CASE WHEN week_1 = 'existing' THEN user_skey END) AS existing_week_1\n      , COUNT( DISTINCT CASE WHEN week_2 = 'existing' THEN user_skey END) AS existing_week_2\n\n      , COUNT( DISTINCT CASE WHEN week_1 IS NOT NULL THEN user_skey END) AS total_week_1\n      , COUNT( DISTINCT CASE WHEN week_2 IS NOT NULL THEN user_skey END) AS total_week_2\n\n      , ((total_week_2/total_week_1 -1) * 100)::DECIMAL(10,2) AS growth\n      , COUNT( DISTINCT CASE WHEN week_1 IS NULL AND week_2 = 'existing' THEN user_skey END) AS resurrected\n      , COUNT( DISTINCT CASE WHEN week_1 IS NOT NULL AND week_2 = 'existing' THEN user_skey END) AS retained\n      , COUNT( DISTINCT CASE WHEN week_1 IS NOT NULL AND week_2 IS NULL THEN user_skey END) AS churned\n    FROM final"
      },
      "outputs": [
        {
          "data": {
            "application/vnd.deepnote.sql-output-metadata+json": {
              "status": "success_no_cache",
              "size_in_bytes": 208
            }
          },
          "metadata": {},
          "output_type": "display_data"
        },
        {
          "output_type": "execute_result",
          "execution_count": 5,
          "data": {
            "application/vnd.deepnote.dataframe.v3+json": {
              "column_count": 10,
              "row_count": 1,
              "columns": [
                {
                  "name": "new_week_1",
                  "dtype": "int64",
                  "stats": {
                    "unique_count": 1,
                    "nan_count": 0,
                    "min": "2",
                    "max": "2",
                    "histogram": [
                      {
                        "bin_start": 1.5,
                        "bin_end": 1.6,
                        "count": 0
                      },
                      {
                        "bin_start": 1.6,
                        "bin_end": 1.7,
                        "count": 0
                      },
                      {
                        "bin_start": 1.7,
                        "bin_end": 1.8,
                        "count": 0
                      },
                      {
                        "bin_start": 1.8,
                        "bin_end": 1.9,
                        "count": 0
                      },
                      {
                        "bin_start": 1.9,
                        "bin_end": 2,
                        "count": 0
                      },
                      {
                        "bin_start": 2,
                        "bin_end": 2.1,
                        "count": 1
                      },
                      {
                        "bin_start": 2.1,
                        "bin_end": 2.2,
                        "count": 0
                      },
                      {
                        "bin_start": 2.2,
                        "bin_end": 2.3,
                        "count": 0
                      },
                      {
                        "bin_start": 2.3,
                        "bin_end": 2.4,
                        "count": 0
                      },
                      {
                        "bin_start": 2.4,
                        "bin_end": 2.5,
                        "count": 0
                      }
                    ]
                  }
                },
                {
                  "name": "new_week_2",
                  "dtype": "int64",
                  "stats": {
                    "unique_count": 1,
                    "nan_count": 0,
                    "min": "1",
                    "max": "1",
                    "histogram": [
                      {
                        "bin_start": 0.5,
                        "bin_end": 0.6,
                        "count": 0
                      },
                      {
                        "bin_start": 0.6,
                        "bin_end": 0.7,
                        "count": 0
                      },
                      {
                        "bin_start": 0.7,
                        "bin_end": 0.8,
                        "count": 0
                      },
                      {
                        "bin_start": 0.8,
                        "bin_end": 0.9,
                        "count": 0
                      },
                      {
                        "bin_start": 0.9,
                        "bin_end": 1,
                        "count": 0
                      },
                      {
                        "bin_start": 1,
                        "bin_end": 1.1,
                        "count": 1
                      },
                      {
                        "bin_start": 1.1,
                        "bin_end": 1.2000000000000002,
                        "count": 0
                      },
                      {
                        "bin_start": 1.2000000000000002,
                        "bin_end": 1.3,
                        "count": 0
                      },
                      {
                        "bin_start": 1.3,
                        "bin_end": 1.4,
                        "count": 0
                      },
                      {
                        "bin_start": 1.4,
                        "bin_end": 1.5,
                        "count": 0
                      }
                    ]
                  }
                },
                {
                  "name": "existing_week_1",
                  "dtype": "int64",
                  "stats": {
                    "unique_count": 1,
                    "nan_count": 0,
                    "min": "68070",
                    "max": "68070",
                    "histogram": [
                      {
                        "bin_start": 68069.5,
                        "bin_end": 68069.6,
                        "count": 0
                      },
                      {
                        "bin_start": 68069.6,
                        "bin_end": 68069.7,
                        "count": 0
                      },
                      {
                        "bin_start": 68069.7,
                        "bin_end": 68069.8,
                        "count": 0
                      },
                      {
                        "bin_start": 68069.8,
                        "bin_end": 68069.9,
                        "count": 0
                      },
                      {
                        "bin_start": 68069.9,
                        "bin_end": 68070,
                        "count": 0
                      },
                      {
                        "bin_start": 68070,
                        "bin_end": 68070.1,
                        "count": 1
                      },
                      {
                        "bin_start": 68070.1,
                        "bin_end": 68070.2,
                        "count": 0
                      },
                      {
                        "bin_start": 68070.2,
                        "bin_end": 68070.3,
                        "count": 0
                      },
                      {
                        "bin_start": 68070.3,
                        "bin_end": 68070.4,
                        "count": 0
                      },
                      {
                        "bin_start": 68070.4,
                        "bin_end": 68070.5,
                        "count": 0
                      }
                    ]
                  }
                },
                {
                  "name": "existing_week_2",
                  "dtype": "int64",
                  "stats": {
                    "unique_count": 1,
                    "nan_count": 0,
                    "min": "69412",
                    "max": "69412",
                    "histogram": [
                      {
                        "bin_start": 69411.5,
                        "bin_end": 69411.6,
                        "count": 0
                      },
                      {
                        "bin_start": 69411.6,
                        "bin_end": 69411.7,
                        "count": 0
                      },
                      {
                        "bin_start": 69411.7,
                        "bin_end": 69411.8,
                        "count": 0
                      },
                      {
                        "bin_start": 69411.8,
                        "bin_end": 69411.9,
                        "count": 0
                      },
                      {
                        "bin_start": 69411.9,
                        "bin_end": 69412,
                        "count": 0
                      },
                      {
                        "bin_start": 69412,
                        "bin_end": 69412.1,
                        "count": 1
                      },
                      {
                        "bin_start": 69412.1,
                        "bin_end": 69412.2,
                        "count": 0
                      },
                      {
                        "bin_start": 69412.2,
                        "bin_end": 69412.3,
                        "count": 0
                      },
                      {
                        "bin_start": 69412.3,
                        "bin_end": 69412.4,
                        "count": 0
                      },
                      {
                        "bin_start": 69412.4,
                        "bin_end": 69412.5,
                        "count": 0
                      }
                    ]
                  }
                },
                {
                  "name": "total_week_1",
                  "dtype": "int64",
                  "stats": {
                    "unique_count": 1,
                    "nan_count": 0,
                    "min": "68072",
                    "max": "68072",
                    "histogram": [
                      {
                        "bin_start": 68071.5,
                        "bin_end": 68071.6,
                        "count": 0
                      },
                      {
                        "bin_start": 68071.6,
                        "bin_end": 68071.7,
                        "count": 0
                      },
                      {
                        "bin_start": 68071.7,
                        "bin_end": 68071.8,
                        "count": 0
                      },
                      {
                        "bin_start": 68071.8,
                        "bin_end": 68071.9,
                        "count": 0
                      },
                      {
                        "bin_start": 68071.9,
                        "bin_end": 68072,
                        "count": 0
                      },
                      {
                        "bin_start": 68072,
                        "bin_end": 68072.1,
                        "count": 1
                      },
                      {
                        "bin_start": 68072.1,
                        "bin_end": 68072.2,
                        "count": 0
                      },
                      {
                        "bin_start": 68072.2,
                        "bin_end": 68072.3,
                        "count": 0
                      },
                      {
                        "bin_start": 68072.3,
                        "bin_end": 68072.4,
                        "count": 0
                      },
                      {
                        "bin_start": 68072.4,
                        "bin_end": 68072.5,
                        "count": 0
                      }
                    ]
                  }
                },
                {
                  "name": "total_week_2",
                  "dtype": "int64",
                  "stats": {
                    "unique_count": 1,
                    "nan_count": 0,
                    "min": "69413",
                    "max": "69413",
                    "histogram": [
                      {
                        "bin_start": 69412.5,
                        "bin_end": 69412.6,
                        "count": 0
                      },
                      {
                        "bin_start": 69412.6,
                        "bin_end": 69412.7,
                        "count": 0
                      },
                      {
                        "bin_start": 69412.7,
                        "bin_end": 69412.8,
                        "count": 0
                      },
                      {
                        "bin_start": 69412.8,
                        "bin_end": 69412.9,
                        "count": 0
                      },
                      {
                        "bin_start": 69412.9,
                        "bin_end": 69413,
                        "count": 0
                      },
                      {
                        "bin_start": 69413,
                        "bin_end": 69413.1,
                        "count": 1
                      },
                      {
                        "bin_start": 69413.1,
                        "bin_end": 69413.2,
                        "count": 0
                      },
                      {
                        "bin_start": 69413.2,
                        "bin_end": 69413.3,
                        "count": 0
                      },
                      {
                        "bin_start": 69413.3,
                        "bin_end": 69413.4,
                        "count": 0
                      },
                      {
                        "bin_start": 69413.4,
                        "bin_end": 69413.5,
                        "count": 0
                      }
                    ]
                  }
                },
                {
                  "name": "growth",
                  "dtype": "float64",
                  "stats": {
                    "unique_count": 1,
                    "nan_count": 0,
                    "min": "1.97",
                    "max": "1.97",
                    "histogram": [
                      {
                        "bin_start": 1.47,
                        "bin_end": 1.5699999999999998,
                        "count": 0
                      },
                      {
                        "bin_start": 1.5699999999999998,
                        "bin_end": 1.67,
                        "count": 0
                      },
                      {
                        "bin_start": 1.67,
                        "bin_end": 1.77,
                        "count": 0
                      },
                      {
                        "bin_start": 1.77,
                        "bin_end": 1.8699999999999999,
                        "count": 0
                      },
                      {
                        "bin_start": 1.8699999999999999,
                        "bin_end": 1.9699999999999998,
                        "count": 0
                      },
                      {
                        "bin_start": 1.9699999999999998,
                        "bin_end": 2.07,
                        "count": 1
                      },
                      {
                        "bin_start": 2.07,
                        "bin_end": 2.17,
                        "count": 0
                      },
                      {
                        "bin_start": 2.17,
                        "bin_end": 2.2699999999999996,
                        "count": 0
                      },
                      {
                        "bin_start": 2.2699999999999996,
                        "bin_end": 2.3699999999999997,
                        "count": 0
                      },
                      {
                        "bin_start": 2.3699999999999997,
                        "bin_end": 2.4699999999999998,
                        "count": 0
                      }
                    ]
                  }
                },
                {
                  "name": "resurrected",
                  "dtype": "int64",
                  "stats": {
                    "unique_count": 1,
                    "nan_count": 0,
                    "min": "67441",
                    "max": "67441",
                    "histogram": [
                      {
                        "bin_start": 67440.5,
                        "bin_end": 67440.6,
                        "count": 0
                      },
                      {
                        "bin_start": 67440.6,
                        "bin_end": 67440.7,
                        "count": 0
                      },
                      {
                        "bin_start": 67440.7,
                        "bin_end": 67440.8,
                        "count": 0
                      },
                      {
                        "bin_start": 67440.8,
                        "bin_end": 67440.9,
                        "count": 0
                      },
                      {
                        "bin_start": 67440.9,
                        "bin_end": 67441,
                        "count": 0
                      },
                      {
                        "bin_start": 67441,
                        "bin_end": 67441.1,
                        "count": 1
                      },
                      {
                        "bin_start": 67441.1,
                        "bin_end": 67441.2,
                        "count": 0
                      },
                      {
                        "bin_start": 67441.2,
                        "bin_end": 67441.3,
                        "count": 0
                      },
                      {
                        "bin_start": 67441.3,
                        "bin_end": 67441.4,
                        "count": 0
                      },
                      {
                        "bin_start": 67441.4,
                        "bin_end": 67441.5,
                        "count": 0
                      }
                    ]
                  }
                },
                {
                  "name": "retained",
                  "dtype": "int64",
                  "stats": {
                    "unique_count": 1,
                    "nan_count": 0,
                    "min": "1971",
                    "max": "1971",
                    "histogram": [
                      {
                        "bin_start": 1970.5,
                        "bin_end": 1970.6,
                        "count": 0
                      },
                      {
                        "bin_start": 1970.6,
                        "bin_end": 1970.7,
                        "count": 0
                      },
                      {
                        "bin_start": 1970.7,
                        "bin_end": 1970.8,
                        "count": 0
                      },
                      {
                        "bin_start": 1970.8,
                        "bin_end": 1970.9,
                        "count": 0
                      },
                      {
                        "bin_start": 1970.9,
                        "bin_end": 1971,
                        "count": 0
                      },
                      {
                        "bin_start": 1971,
                        "bin_end": 1971.1,
                        "count": 1
                      },
                      {
                        "bin_start": 1971.1,
                        "bin_end": 1971.2,
                        "count": 0
                      },
                      {
                        "bin_start": 1971.2,
                        "bin_end": 1971.3,
                        "count": 0
                      },
                      {
                        "bin_start": 1971.3,
                        "bin_end": 1971.4,
                        "count": 0
                      },
                      {
                        "bin_start": 1971.4,
                        "bin_end": 1971.5,
                        "count": 0
                      }
                    ]
                  }
                },
                {
                  "name": "churned",
                  "dtype": "int64",
                  "stats": {
                    "unique_count": 1,
                    "nan_count": 0,
                    "min": "66101",
                    "max": "66101",
                    "histogram": [
                      {
                        "bin_start": 66100.5,
                        "bin_end": 66100.6,
                        "count": 0
                      },
                      {
                        "bin_start": 66100.6,
                        "bin_end": 66100.7,
                        "count": 0
                      },
                      {
                        "bin_start": 66100.7,
                        "bin_end": 66100.8,
                        "count": 0
                      },
                      {
                        "bin_start": 66100.8,
                        "bin_end": 66100.9,
                        "count": 0
                      },
                      {
                        "bin_start": 66100.9,
                        "bin_end": 66101,
                        "count": 0
                      },
                      {
                        "bin_start": 66101,
                        "bin_end": 66101.1,
                        "count": 1
                      },
                      {
                        "bin_start": 66101.1,
                        "bin_end": 66101.2,
                        "count": 0
                      },
                      {
                        "bin_start": 66101.2,
                        "bin_end": 66101.3,
                        "count": 0
                      },
                      {
                        "bin_start": 66101.3,
                        "bin_end": 66101.4,
                        "count": 0
                      },
                      {
                        "bin_start": 66101.4,
                        "bin_end": 66101.5,
                        "count": 0
                      }
                    ]
                  }
                },
                {
                  "name": "_deepnote_index_column",
                  "dtype": "int64"
                }
              ],
              "rows": [
                {
                  "new_week_1": 2,
                  "new_week_2": 1,
                  "existing_week_1": 68070,
                  "existing_week_2": 69412,
                  "total_week_1": 68072,
                  "total_week_2": 69413,
                  "growth": 1.97,
                  "resurrected": 67441,
                  "retained": 1971,
                  "churned": 66101,
                  "_deepnote_index_column": 0
                }
              ]
            },
            "text/plain": "   new_week_1  new_week_2  existing_week_1  existing_week_2  total_week_1  \\\n0           2           1            68070            69412         68072   \n\n   total_week_2  growth  resurrected  retained  churned  \n0         69413    1.97        67441      1971    66101  ",
            "text/html": "<div>\n<style scoped>\n    .dataframe tbody tr th:only-of-type {\n        vertical-align: middle;\n    }\n\n    .dataframe tbody tr th {\n        vertical-align: top;\n    }\n\n    .dataframe thead th {\n        text-align: right;\n    }\n</style>\n<table border=\"1\" class=\"dataframe\">\n  <thead>\n    <tr style=\"text-align: right;\">\n      <th></th>\n      <th>new_week_1</th>\n      <th>new_week_2</th>\n      <th>existing_week_1</th>\n      <th>existing_week_2</th>\n      <th>total_week_1</th>\n      <th>total_week_2</th>\n      <th>growth</th>\n      <th>resurrected</th>\n      <th>retained</th>\n      <th>churned</th>\n    </tr>\n  </thead>\n  <tbody>\n    <tr>\n      <th>0</th>\n      <td>2</td>\n      <td>1</td>\n      <td>68070</td>\n      <td>69412</td>\n      <td>68072</td>\n      <td>69413</td>\n      <td>1.97</td>\n      <td>67441</td>\n      <td>1971</td>\n      <td>66101</td>\n    </tr>\n  </tbody>\n</table>\n</div>"
          },
          "metadata": {}
        }
      ],
      "execution_count": 5,
      "block_group": "44b23cd19a0d4cb49efa8197a26e9ead"
    },
    {
      "cell_type": "markdown",
      "source": "> 3. Write a SQL query to calculate the user’s daily retention rate for 7 days. Calculate both Sticky and Cohorted Retention",
      "metadata": {
        "formattedRanges": [],
        "deepnote_app_coordinates": {
          "h": 2,
          "w": 8,
          "x": 0,
          "y": 0
        },
        "cell_id": "c1cf56162af84aed9353af0f527985a1",
        "deepnote_cell_type": "text-cell-callout"
      },
      "block_group": "43c9354cff2d4157a90ca2447098486d"
    },
    {
      "cell_type": "markdown",
      "source": "Retention rate is a measure of how many users return to the app after their first visit. \n- Cohorted Retention: This looks at users who started using the application on a specific date, then checks to see if they're still using the app after a certain number of days.\n- Sticky Retention: This is a measure of how often the user is engaged with the app (usually on a daily or monthly basis). It's calculated by dividing the Daily Active Users (DAU) by the Monthly/Week Active Users (M/WAU).",
      "metadata": {
        "formattedRanges": [],
        "deepnote_app_coordinates": {
          "h": 2,
          "w": 8,
          "x": 0,
          "y": 0
        },
        "cell_id": "67cb0d665999480d97e1287e72fd642c",
        "deepnote_cell_type": "text-cell-p"
      },
      "block_group": "9f9b5e40700c4137bb8c45a0ee203e83"
    },
    {
      "cell_type": "code",
      "source": "cohort = _deepnote_execute_sql('WITH cohorts AS (\\n    SELECT\\n        apps_open.user_skey,\\n        DATE_TRUNC(\\'day\\', MIN(apps_open.date_time)) AS start_date\\n    FROM apps_open\\n    WHERE date_time > \\'2023-11-07\\'\\n    GROUP BY 1\\n)\\n\\n, cohort AS (\\n    SELECT\\n        start_date\\n        , \\'day\\' AS beginning\\n        , date_diff(\\'day\\', start_date, DATE_TRUNC(\\'day\\', date_time)) AS cohort_date\\n        , COUNT(DISTINCT user_skey) AS total_users\\n    FROM apps_open\\n    JOIN cohorts USING (user_skey)\\n    GROUP BY 1,2,3\\n)\\n\\n,pivoted AS (\\nPIVOT (SELECT * FROM cohort WHERE cohort_date <= 7) \\n    ON beginning,cohort_date USING SUM(total_users)\\n)\\n\\nSELECT \\n    start_date\\n        , day_1\\n        , (day_2/day_1 * 100)::DECIMAL(10,2) || \\'%\\' AS retention_rate_day_2\\n        , (day_3/day_1 * 100)::DECIMAL(10,2) || \\'%\\' AS retention_rate_day_3\\n        , (day_4/day_1 * 100)::DECIMAL(10,2) || \\'%\\' AS retention_rate_day_4\\n        , (day_5/day_1 * 100)::DECIMAL(10,2) || \\'%\\' AS retention_rate_day_5\\n        , (day_6/day_1 * 100)::DECIMAL(10,2) || \\'%\\' AS retention_rate_day_6\\n        , (day_7/day_1 * 100)::DECIMAL(10,2) || \\'%\\' AS retention_rate_day_7\\nFROM pivoted\\n', 'SQL_DEEPNOTE_DATAFRAME_SQL', audit_sql_comment='', sql_cache_mode='cache_disabled')\ncohort",
      "metadata": {
        "source_hash": "d10f899b",
        "execution_start": 1703163803638,
        "execution_millis": 310,
        "sql_integration_id": "deepnote-dataframe-sql",
        "deepnote_table_state": {
          "sortBy": [
            {
              "id": "start_date",
              "type": "asc"
            }
          ],
          "filters": [],
          "pageSize": 10,
          "pageIndex": 0
        },
        "deepnote_table_loading": false,
        "deepnote_variable_name": "cohort",
        "deepnote_app_coordinates": {
          "h": 120,
          "w": 12,
          "x": 0,
          "y": 0
        },
        "deepnote_to_be_reexecuted": false,
        "deepnote_app_is_code_hidden": false,
        "cell_id": "7ceddbe56aaa4dad8f322a152a8062ca",
        "deepnote_cell_type": "sql",
        "deepnote_sql_source": "WITH cohorts AS (\n    SELECT\n        apps_open.user_skey,\n        DATE_TRUNC('day', MIN(apps_open.date_time)) AS start_date\n    FROM apps_open\n    WHERE date_time > '2023-11-07'\n    GROUP BY 1\n)\n\n, cohort AS (\n    SELECT\n        start_date\n        , 'day' AS beginning\n        , date_diff('day', start_date, DATE_TRUNC('day', date_time)) AS cohort_date\n        , COUNT(DISTINCT user_skey) AS total_users\n    FROM apps_open\n    JOIN cohorts USING (user_skey)\n    GROUP BY 1,2,3\n)\n\n,pivoted AS (\nPIVOT (SELECT * FROM cohort WHERE cohort_date <= 7) \n    ON beginning,cohort_date USING SUM(total_users)\n)\n\nSELECT \n    start_date\n        , day_1\n        , (day_2/day_1 * 100)::DECIMAL(10,2) || '%' AS retention_rate_day_2\n        , (day_3/day_1 * 100)::DECIMAL(10,2) || '%' AS retention_rate_day_3\n        , (day_4/day_1 * 100)::DECIMAL(10,2) || '%' AS retention_rate_day_4\n        , (day_5/day_1 * 100)::DECIMAL(10,2) || '%' AS retention_rate_day_5\n        , (day_6/day_1 * 100)::DECIMAL(10,2) || '%' AS retention_rate_day_6\n        , (day_7/day_1 * 100)::DECIMAL(10,2) || '%' AS retention_rate_day_7\nFROM pivoted\n"
      },
      "outputs": [
        {
          "data": {
            "application/vnd.deepnote.sql-output-metadata+json": {
              "status": "success_no_cache",
              "size_in_bytes": 4615
            }
          },
          "metadata": {},
          "output_type": "display_data"
        },
        {
          "output_type": "execute_result",
          "execution_count": 6,
          "data": {
            "application/vnd.deepnote.dataframe.v3+json": {
              "column_count": 8,
              "row_count": 13,
              "columns": [
                {
                  "name": "start_date",
                  "dtype": "object",
                  "stats": {
                    "unique_count": 13,
                    "nan_count": 0,
                    "categories": [
                      {
                        "name": "2023-11-07",
                        "count": 1
                      },
                      {
                        "name": "2023-11-08",
                        "count": 1
                      },
                      {
                        "name": "11 others",
                        "count": 11
                      }
                    ]
                  }
                },
                {
                  "name": "day_1",
                  "dtype": "float64",
                  "stats": {
                    "unique_count": 9,
                    "nan_count": 1,
                    "min": "44.0",
                    "max": "76.0",
                    "histogram": [
                      {
                        "bin_start": 44,
                        "bin_end": 47.2,
                        "count": 1
                      },
                      {
                        "bin_start": 47.2,
                        "bin_end": 50.4,
                        "count": 1
                      },
                      {
                        "bin_start": 50.4,
                        "bin_end": 53.6,
                        "count": 4
                      },
                      {
                        "bin_start": 53.6,
                        "bin_end": 56.8,
                        "count": 1
                      },
                      {
                        "bin_start": 56.8,
                        "bin_end": 60,
                        "count": 0
                      },
                      {
                        "bin_start": 60,
                        "bin_end": 63.2,
                        "count": 2
                      },
                      {
                        "bin_start": 63.2,
                        "bin_end": 66.4,
                        "count": 1
                      },
                      {
                        "bin_start": 66.4,
                        "bin_end": 69.6,
                        "count": 0
                      },
                      {
                        "bin_start": 69.6,
                        "bin_end": 72.8,
                        "count": 1
                      },
                      {
                        "bin_start": 72.8,
                        "bin_end": 76,
                        "count": 1
                      }
                    ]
                  }
                },
                {
                  "name": "retention_rate_day_2",
                  "dtype": "object",
                  "stats": {
                    "unique_count": 11,
                    "nan_count": 2,
                    "categories": [
                      {
                        "name": "80.26%",
                        "count": 1
                      },
                      {
                        "name": "10 others",
                        "count": 10
                      },
                      {
                        "name": "Missing",
                        "count": 2
                      }
                    ]
                  }
                },
                {
                  "name": "retention_rate_day_3",
                  "dtype": "object",
                  "stats": {
                    "unique_count": 10,
                    "nan_count": 3,
                    "categories": [
                      {
                        "name": "80.26%",
                        "count": 1
                      },
                      {
                        "name": "9 others",
                        "count": 9
                      },
                      {
                        "name": "Missing",
                        "count": 3
                      }
                    ]
                  }
                },
                {
                  "name": "retention_rate_day_4",
                  "dtype": "object",
                  "stats": {
                    "unique_count": 9,
                    "nan_count": 4,
                    "categories": [
                      {
                        "name": "59.21%",
                        "count": 1
                      },
                      {
                        "name": "8 others",
                        "count": 8
                      },
                      {
                        "name": "Missing",
                        "count": 4
                      }
                    ]
                  }
                },
                {
                  "name": "retention_rate_day_5",
                  "dtype": "object",
                  "stats": {
                    "unique_count": 8,
                    "nan_count": 5,
                    "categories": [
                      {
                        "name": "60.53%",
                        "count": 1
                      },
                      {
                        "name": "7 others",
                        "count": 7
                      },
                      {
                        "name": "Missing",
                        "count": 5
                      }
                    ]
                  }
                },
                {
                  "name": "retention_rate_day_6",
                  "dtype": "object",
                  "stats": {
                    "unique_count": 7,
                    "nan_count": 6,
                    "categories": [
                      {
                        "name": "64.47%",
                        "count": 1
                      },
                      {
                        "name": "6 others",
                        "count": 6
                      },
                      {
                        "name": "Missing",
                        "count": 6
                      }
                    ]
                  }
                },
                {
                  "name": "retention_rate_day_7",
                  "dtype": "object",
                  "stats": {
                    "unique_count": 6,
                    "nan_count": 7,
                    "categories": [
                      {
                        "name": "68.42%",
                        "count": 1
                      },
                      {
                        "name": "5 others",
                        "count": 5
                      },
                      {
                        "name": "Missing",
                        "count": 7
                      }
                    ]
                  }
                },
                {
                  "name": "_deepnote_index_column",
                  "dtype": "int64"
                }
              ],
              "rows": [
                {
                  "start_date": "2023-11-07",
                  "day_1": 76,
                  "retention_rate_day_2": "80.26%",
                  "retention_rate_day_3": "80.26%",
                  "retention_rate_day_4": "59.21%",
                  "retention_rate_day_5": "60.53%",
                  "retention_rate_day_6": "64.47%",
                  "retention_rate_day_7": "68.42%",
                  "_deepnote_index_column": 1
                },
                {
                  "start_date": "2023-11-08",
                  "day_1": 70,
                  "retention_rate_day_2": "74.29%",
                  "retention_rate_day_3": "47.14%",
                  "retention_rate_day_4": "68.57%",
                  "retention_rate_day_5": "48.57%",
                  "retention_rate_day_6": "67.14%",
                  "retention_rate_day_7": "71.43%",
                  "_deepnote_index_column": 0
                },
                {
                  "start_date": "2023-11-09",
                  "day_1": 56,
                  "retention_rate_day_2": "64.29%",
                  "retention_rate_day_3": "96.43%",
                  "retention_rate_day_4": "64.29%",
                  "retention_rate_day_5": "85.71%",
                  "retention_rate_day_6": "60.71%",
                  "retention_rate_day_7": "91.07%",
                  "_deepnote_index_column": 5
                },
                {
                  "start_date": "2023-11-10",
                  "day_1": 53,
                  "retention_rate_day_2": "94.34%",
                  "retention_rate_day_3": "86.79%",
                  "retention_rate_day_4": "86.79%",
                  "retention_rate_day_5": "83.02%",
                  "retention_rate_day_6": "101.89%",
                  "retention_rate_day_7": "71.70%",
                  "_deepnote_index_column": 3
                },
                {
                  "start_date": "2023-11-11",
                  "day_1": 62,
                  "retention_rate_day_2": "87.10%",
                  "retention_rate_day_3": "62.90%",
                  "retention_rate_day_4": "80.65%",
                  "retention_rate_day_5": "75.81%",
                  "retention_rate_day_6": "66.13%",
                  "retention_rate_day_7": "91.94%",
                  "_deepnote_index_column": 4
                },
                {
                  "start_date": "2023-11-12",
                  "day_1": 64,
                  "retention_rate_day_2": "82.81%",
                  "retention_rate_day_3": "46.88%",
                  "retention_rate_day_4": "73.44%",
                  "retention_rate_day_5": "62.50%",
                  "retention_rate_day_6": "79.69%",
                  "retention_rate_day_7": "68.75%",
                  "_deepnote_index_column": 2
                },
                {
                  "start_date": "2023-11-13",
                  "day_1": 53,
                  "retention_rate_day_2": "56.60%",
                  "retention_rate_day_3": "75.47%",
                  "retention_rate_day_4": "77.36%",
                  "retention_rate_day_5": "86.79%",
                  "retention_rate_day_6": "86.79%",
                  "retention_rate_day_7": "None",
                  "_deepnote_index_column": 11
                },
                {
                  "start_date": "2023-11-14",
                  "day_1": 52,
                  "retention_rate_day_2": "73.08%",
                  "retention_rate_day_3": "101.92%",
                  "retention_rate_day_4": "88.46%",
                  "retention_rate_day_5": "67.31%",
                  "retention_rate_day_6": "None",
                  "retention_rate_day_7": "None",
                  "_deepnote_index_column": 7
                },
                {
                  "start_date": "2023-11-15",
                  "day_1": 62,
                  "retention_rate_day_2": "79.03%",
                  "retention_rate_day_3": "69.35%",
                  "retention_rate_day_4": "54.84%",
                  "retention_rate_day_5": "None",
                  "retention_rate_day_6": "None",
                  "retention_rate_day_7": "None",
                  "_deepnote_index_column": 10
                },
                {
                  "start_date": "2023-11-16",
                  "day_1": 44,
                  "retention_rate_day_2": "90.91%",
                  "retention_rate_day_3": "95.45%",
                  "retention_rate_day_4": "None",
                  "retention_rate_day_5": "None",
                  "retention_rate_day_6": "None",
                  "retention_rate_day_7": "None",
                  "_deepnote_index_column": 9
                }
              ]
            },
            "text/plain": "    start_date  day_1 retention_rate_day_2 retention_rate_day_3  \\\n0   2023-11-08   70.0               74.29%               47.14%   \n1   2023-11-07   76.0               80.26%               80.26%   \n2   2023-11-12   64.0               82.81%               46.88%   \n3   2023-11-10   53.0               94.34%               86.79%   \n4   2023-11-11   62.0               87.10%               62.90%   \n5   2023-11-09   56.0               64.29%               96.43%   \n6   2023-11-17   52.0               75.00%                 None   \n7   2023-11-14   52.0               73.08%              101.92%   \n8   2023-11-19    NaN                 None                 None   \n9   2023-11-16   44.0               90.91%               95.45%   \n10  2023-11-15   62.0               79.03%               69.35%   \n11  2023-11-13   53.0               56.60%               75.47%   \n12  2023-11-18   49.0                 None                 None   \n\n   retention_rate_day_4 retention_rate_day_5 retention_rate_day_6  \\\n0                68.57%               48.57%               67.14%   \n1                59.21%               60.53%               64.47%   \n2                73.44%               62.50%               79.69%   \n3                86.79%               83.02%              101.89%   \n4                80.65%               75.81%               66.13%   \n5                64.29%               85.71%               60.71%   \n6                  None                 None                 None   \n7                88.46%               67.31%                 None   \n8                  None                 None                 None   \n9                  None                 None                 None   \n10               54.84%                 None                 None   \n11               77.36%               86.79%               86.79%   \n12                 None                 None                 None   \n\n   retention_rate_day_7  \n0                71.43%  \n1                68.42%  \n2                68.75%  \n3                71.70%  \n4                91.94%  \n5                91.07%  \n6                  None  \n7                  None  \n8                  None  \n9                  None  \n10                 None  \n11                 None  \n12                 None  ",
            "text/html": "<div>\n<style scoped>\n    .dataframe tbody tr th:only-of-type {\n        vertical-align: middle;\n    }\n\n    .dataframe tbody tr th {\n        vertical-align: top;\n    }\n\n    .dataframe thead th {\n        text-align: right;\n    }\n</style>\n<table border=\"1\" class=\"dataframe\">\n  <thead>\n    <tr style=\"text-align: right;\">\n      <th></th>\n      <th>start_date</th>\n      <th>day_1</th>\n      <th>retention_rate_day_2</th>\n      <th>retention_rate_day_3</th>\n      <th>retention_rate_day_4</th>\n      <th>retention_rate_day_5</th>\n      <th>retention_rate_day_6</th>\n      <th>retention_rate_day_7</th>\n    </tr>\n  </thead>\n  <tbody>\n    <tr>\n      <th>0</th>\n      <td>2023-11-08</td>\n      <td>70.0</td>\n      <td>74.29%</td>\n      <td>47.14%</td>\n      <td>68.57%</td>\n      <td>48.57%</td>\n      <td>67.14%</td>\n      <td>71.43%</td>\n    </tr>\n    <tr>\n      <th>1</th>\n      <td>2023-11-07</td>\n      <td>76.0</td>\n      <td>80.26%</td>\n      <td>80.26%</td>\n      <td>59.21%</td>\n      <td>60.53%</td>\n      <td>64.47%</td>\n      <td>68.42%</td>\n    </tr>\n    <tr>\n      <th>2</th>\n      <td>2023-11-12</td>\n      <td>64.0</td>\n      <td>82.81%</td>\n      <td>46.88%</td>\n      <td>73.44%</td>\n      <td>62.50%</td>\n      <td>79.69%</td>\n      <td>68.75%</td>\n    </tr>\n    <tr>\n      <th>3</th>\n      <td>2023-11-10</td>\n      <td>53.0</td>\n      <td>94.34%</td>\n      <td>86.79%</td>\n      <td>86.79%</td>\n      <td>83.02%</td>\n      <td>101.89%</td>\n      <td>71.70%</td>\n    </tr>\n    <tr>\n      <th>4</th>\n      <td>2023-11-11</td>\n      <td>62.0</td>\n      <td>87.10%</td>\n      <td>62.90%</td>\n      <td>80.65%</td>\n      <td>75.81%</td>\n      <td>66.13%</td>\n      <td>91.94%</td>\n    </tr>\n    <tr>\n      <th>5</th>\n      <td>2023-11-09</td>\n      <td>56.0</td>\n      <td>64.29%</td>\n      <td>96.43%</td>\n      <td>64.29%</td>\n      <td>85.71%</td>\n      <td>60.71%</td>\n      <td>91.07%</td>\n    </tr>\n    <tr>\n      <th>6</th>\n      <td>2023-11-17</td>\n      <td>52.0</td>\n      <td>75.00%</td>\n      <td>None</td>\n      <td>None</td>\n      <td>None</td>\n      <td>None</td>\n      <td>None</td>\n    </tr>\n    <tr>\n      <th>7</th>\n      <td>2023-11-14</td>\n      <td>52.0</td>\n      <td>73.08%</td>\n      <td>101.92%</td>\n      <td>88.46%</td>\n      <td>67.31%</td>\n      <td>None</td>\n      <td>None</td>\n    </tr>\n    <tr>\n      <th>8</th>\n      <td>2023-11-19</td>\n      <td>NaN</td>\n      <td>None</td>\n      <td>None</td>\n      <td>None</td>\n      <td>None</td>\n      <td>None</td>\n      <td>None</td>\n    </tr>\n    <tr>\n      <th>9</th>\n      <td>2023-11-16</td>\n      <td>44.0</td>\n      <td>90.91%</td>\n      <td>95.45%</td>\n      <td>None</td>\n      <td>None</td>\n      <td>None</td>\n      <td>None</td>\n    </tr>\n    <tr>\n      <th>10</th>\n      <td>2023-11-15</td>\n      <td>62.0</td>\n      <td>79.03%</td>\n      <td>69.35%</td>\n      <td>54.84%</td>\n      <td>None</td>\n      <td>None</td>\n      <td>None</td>\n    </tr>\n    <tr>\n      <th>11</th>\n      <td>2023-11-13</td>\n      <td>53.0</td>\n      <td>56.60%</td>\n      <td>75.47%</td>\n      <td>77.36%</td>\n      <td>86.79%</td>\n      <td>86.79%</td>\n      <td>None</td>\n    </tr>\n    <tr>\n      <th>12</th>\n      <td>2023-11-18</td>\n      <td>49.0</td>\n      <td>None</td>\n      <td>None</td>\n      <td>None</td>\n      <td>None</td>\n      <td>None</td>\n      <td>None</td>\n    </tr>\n  </tbody>\n</table>\n</div>"
          },
          "metadata": {}
        }
      ],
      "execution_count": 6,
      "block_group": "1b87409f9a9246ca95371f9d3ced6d61"
    },
    {
      "cell_type": "code",
      "source": "stickiness = _deepnote_execute_sql('WITH daily_users AS (\\n    SELECT \\n        DATE_TRUNC(\\'day\\', date_time) AS day,\\n        COUNT(DISTINCT user_skey) AS dau\\n    FROM events\\n    GROUP BY 1\\n),\\n\\nweekly_users AS (\\n    SELECT\\n        DATE_TRUNC(\\'week\\', date_time) AS week,\\n        COUNT(DISTINCT user_skey) AS wau\\n    FROM events\\n    GROUP BY 1\\n)\\n\\nSELECT\\n    week,\\n    (AVG(dau) / wau *100)::DECIMAL(10,5) || \\' %\\'AS sticky_retention\\nFROM daily_users\\nJOIN weekly_users ON DATE_TRUNC(\\'week\\', day) = week\\nGROUP BY week, wau', 'SQL_DEEPNOTE_DATAFRAME_SQL', audit_sql_comment='', sql_cache_mode='cache_disabled')\nstickiness",
      "metadata": {
        "source_hash": "80a77cda",
        "execution_start": 1703163803947,
        "execution_millis": 252,
        "sql_integration_id": "deepnote-dataframe-sql",
        "deepnote_variable_name": "stickiness",
        "deepnote_app_coordinates": {
          "h": 120,
          "w": 12,
          "x": 0,
          "y": 0
        },
        "deepnote_to_be_reexecuted": false,
        "deepnote_app_is_code_hidden": false,
        "cell_id": "ed3dd1c3461a4b77b740d5ef838eabb3",
        "deepnote_cell_type": "sql",
        "deepnote_sql_source": "WITH daily_users AS (\n    SELECT \n        DATE_TRUNC('day', date_time) AS day,\n        COUNT(DISTINCT user_skey) AS dau\n    FROM events\n    GROUP BY 1\n),\n\nweekly_users AS (\n    SELECT\n        DATE_TRUNC('week', date_time) AS week,\n        COUNT(DISTINCT user_skey) AS wau\n    FROM events\n    GROUP BY 1\n)\n\nSELECT\n    week,\n    (AVG(dau) / wau *100)::DECIMAL(10,5) || ' %'AS sticky_retention\nFROM daily_users\nJOIN weekly_users ON DATE_TRUNC('week', day) = week\nGROUP BY week, wau"
      },
      "outputs": [
        {
          "data": {
            "application/vnd.deepnote.sql-output-metadata+json": {
              "status": "success_no_cache",
              "size_in_bytes": 342
            }
          },
          "metadata": {},
          "output_type": "display_data"
        },
        {
          "output_type": "execute_result",
          "execution_count": 7,
          "data": {
            "application/vnd.deepnote.dataframe.v3+json": {
              "column_count": 2,
              "row_count": 2,
              "columns": [
                {
                  "name": "week",
                  "dtype": "object",
                  "stats": {
                    "unique_count": 2,
                    "nan_count": 0,
                    "categories": [
                      {
                        "name": "2023-11-06",
                        "count": 1
                      },
                      {
                        "name": "2023-11-13",
                        "count": 1
                      }
                    ]
                  }
                },
                {
                  "name": "sticky_retention",
                  "dtype": "object",
                  "stats": {
                    "unique_count": 2,
                    "nan_count": 0,
                    "categories": [
                      {
                        "name": "14.51583 %",
                        "count": 1
                      },
                      {
                        "name": "14.51684 %",
                        "count": 1
                      }
                    ]
                  }
                },
                {
                  "name": "_deepnote_index_column",
                  "dtype": "int64"
                }
              ],
              "rows": [
                {
                  "week": "2023-11-06",
                  "sticky_retention": "14.51583 %",
                  "_deepnote_index_column": 0
                },
                {
                  "week": "2023-11-13",
                  "sticky_retention": "14.51684 %",
                  "_deepnote_index_column": 1
                }
              ]
            },
            "text/plain": "         week sticky_retention\n0  2023-11-06       14.51583 %\n1  2023-11-13       14.51684 %",
            "text/html": "<div>\n<style scoped>\n    .dataframe tbody tr th:only-of-type {\n        vertical-align: middle;\n    }\n\n    .dataframe tbody tr th {\n        vertical-align: top;\n    }\n\n    .dataframe thead th {\n        text-align: right;\n    }\n</style>\n<table border=\"1\" class=\"dataframe\">\n  <thead>\n    <tr style=\"text-align: right;\">\n      <th></th>\n      <th>week</th>\n      <th>sticky_retention</th>\n    </tr>\n  </thead>\n  <tbody>\n    <tr>\n      <th>0</th>\n      <td>2023-11-06</td>\n      <td>14.51583 %</td>\n    </tr>\n    <tr>\n      <th>1</th>\n      <td>2023-11-13</td>\n      <td>14.51684 %</td>\n    </tr>\n  </tbody>\n</table>\n</div>"
          },
          "metadata": {}
        }
      ],
      "execution_count": 7,
      "block_group": "d74070e3c37949b591d8e14c2f6a5130"
    },
    {
      "cell_type": "markdown",
      "source": "## Part 2 - User Activity Analysis",
      "metadata": {
        "formattedRanges": [],
        "deepnote_app_coordinates": {
          "h": 120,
          "w": 12,
          "x": 0,
          "y": 0
        },
        "cell_id": "18edead5e3a747edb2ebd948bcca47ba",
        "deepnote_cell_type": "text-cell-h2"
      },
      "block_group": "a4d4d5ad29524e239a5c289ed59cb7db"
    },
    {
      "cell_type": "markdown",
      "source": "> Please perform an analysis using the dataset provided. The goal is to find insights and suggest action(s) to stakeholders through your findings. Use Python, R, or a similar programming language to generate an analysis that could be shared/reviewed by other analysts.",
      "metadata": {
        "formattedRanges": [],
        "deepnote_app_coordinates": {
          "h": 2,
          "w": 8,
          "x": 0,
          "y": 0
        },
        "cell_id": "a5f140e15abd4b37a1adee3b0d52fea2",
        "deepnote_cell_type": "text-cell-callout"
      },
      "block_group": "458e5846aed1430fa02c85e438a91bb2"
    },
    {
      "cell_type": "markdown",
      "source": "#### Analysis focus:\n\n**1. Daily unique users:** Help us understand the daily user engagement, trends and behaviors in the app.\n\n**2. User tendencies over platforms:** Evaluate the proportion of users on different platforms (Apple vs Android).\n> - This analysis can offer a better understanding of user preferences and could guide developers in optimizing the  app experience for particular platforms.\n> - It can help guide the development team to tailor their work to the preference of majority users.\n> - Distinguishing and understanding user preferences across different platforms can help guide the development team > tailor their work to the preference of majority users.\n\n**3. Day of the week influence:** Identifying fluctuations of user engagement throughout the week can assist in timely and targeted marketing campaigns.\n\n**4. Time spent on the app:** Evaluate the time spent on the app across different platforms and provide insights on how to improve the user experience.\n\n#### Insights:\n\n- Promotions or campaigns can be timed to periods of low user engagement to boost usage during these times.\n- If the majority of users prefer one platform over another, consider focusing on enhancing the user experience on that platform.\n- Use engagement patterns to inform future feature developments, updates, and bug fixes.",
      "metadata": {
        "deepnote_app_coordinates": {
          "h": 120,
          "w": 12,
          "x": 0,
          "y": 0
        },
        "cell_id": "cb9a434bcb1b43248b0a17eea639422f",
        "deepnote_cell_type": "markdown"
      },
      "block_group": "22a35a01a3384df59bd7da9c1f93cca5"
    },
    {
      "cell_type": "markdown",
      "source": "### Daily unique users",
      "metadata": {
        "formattedRanges": [],
        "deepnote_app_coordinates": {
          "h": 120,
          "w": 12,
          "x": 0,
          "y": 0
        },
        "cell_id": "f22f8b28fdde4ad4b36697d9bc45421b",
        "deepnote_cell_type": "text-cell-h3"
      },
      "block_group": "7cf6a72e29f541f2a96085465e828367"
    },
    {
      "cell_type": "code",
      "source": "import pandas as pd\n\napps_open_df = apps_open\napps_open_df['date_time'] = pd.to_datetime(apps_open_df['date_time'])\napps_open_df['date_time'] = apps_open_df['date_time'].dt.date\n\nunique_users_per_day = (apps_open_df.groupby([\"date_time\", \"platform\"])[\"user_skey\"].nunique().unstack(level=-1).reset_index())\nunique_users_per_day['android_proportion'] = unique_users_per_day['android'] / (unique_users_per_day['apple'] + unique_users_per_day['android']) * 100\nunique_users_per_day['apple_proportion'] = 100 - unique_users_per_day['android_proportion'] \n\nunique_users_per_day",
      "metadata": {
        "source_hash": "e99e074d",
        "execution_start": 1703163804201,
        "execution_millis": 183,
        "deepnote_app_coordinates": {
          "h": 120,
          "w": 12,
          "x": 0,
          "y": 0
        },
        "deepnote_to_be_reexecuted": false,
        "cell_id": "b8d81e6d3c5b49c5b69bba764b9ac2d1",
        "deepnote_cell_type": "code"
      },
      "outputs": [
        {
          "output_type": "execute_result",
          "execution_count": 8,
          "data": {
            "application/vnd.deepnote.dataframe.v3+json": {
              "column_count": 5,
              "row_count": 14,
              "columns": [
                {
                  "name": "date_time",
                  "dtype": "object",
                  "stats": {
                    "unique_count": 14,
                    "nan_count": 0,
                    "categories": [
                      {
                        "name": "2023-11-06",
                        "count": 1
                      },
                      {
                        "name": "2023-11-07",
                        "count": 1
                      },
                      {
                        "name": "12 others",
                        "count": 12
                      }
                    ]
                  }
                },
                {
                  "name": "android",
                  "dtype": "int64",
                  "stats": {
                    "unique_count": 14,
                    "nan_count": 0,
                    "min": "5192",
                    "max": "6195",
                    "histogram": [
                      {
                        "bin_start": 5192,
                        "bin_end": 5292.3,
                        "count": 2
                      },
                      {
                        "bin_start": 5292.3,
                        "bin_end": 5392.6,
                        "count": 2
                      },
                      {
                        "bin_start": 5392.6,
                        "bin_end": 5492.9,
                        "count": 1
                      },
                      {
                        "bin_start": 5492.9,
                        "bin_end": 5593.2,
                        "count": 3
                      },
                      {
                        "bin_start": 5593.2,
                        "bin_end": 5693.5,
                        "count": 1
                      },
                      {
                        "bin_start": 5693.5,
                        "bin_end": 5793.8,
                        "count": 0
                      },
                      {
                        "bin_start": 5793.8,
                        "bin_end": 5894.1,
                        "count": 2
                      },
                      {
                        "bin_start": 5894.1,
                        "bin_end": 5994.4,
                        "count": 0
                      },
                      {
                        "bin_start": 5994.4,
                        "bin_end": 6094.7,
                        "count": 2
                      },
                      {
                        "bin_start": 6094.7,
                        "bin_end": 6195,
                        "count": 1
                      }
                    ]
                  }
                },
                {
                  "name": "apple",
                  "dtype": "int64",
                  "stats": {
                    "unique_count": 14,
                    "nan_count": 0,
                    "min": "4009",
                    "max": "4658",
                    "histogram": [
                      {
                        "bin_start": 4009,
                        "bin_end": 4073.9,
                        "count": 1
                      },
                      {
                        "bin_start": 4073.9,
                        "bin_end": 4138.8,
                        "count": 1
                      },
                      {
                        "bin_start": 4138.8,
                        "bin_end": 4203.7,
                        "count": 2
                      },
                      {
                        "bin_start": 4203.7,
                        "bin_end": 4268.6,
                        "count": 2
                      },
                      {
                        "bin_start": 4268.6,
                        "bin_end": 4333.5,
                        "count": 1
                      },
                      {
                        "bin_start": 4333.5,
                        "bin_end": 4398.4,
                        "count": 1
                      },
                      {
                        "bin_start": 4398.4,
                        "bin_end": 4463.3,
                        "count": 1
                      },
                      {
                        "bin_start": 4463.3,
                        "bin_end": 4528.2,
                        "count": 1
                      },
                      {
                        "bin_start": 4528.2,
                        "bin_end": 4593.1,
                        "count": 2
                      },
                      {
                        "bin_start": 4593.1,
                        "bin_end": 4658,
                        "count": 2
                      }
                    ]
                  }
                },
                {
                  "name": "android_proportion",
                  "dtype": "float64",
                  "stats": {
                    "unique_count": 14,
                    "nan_count": 0,
                    "min": "55.34591194968554",
                    "max": "57.395898073337484",
                    "histogram": [
                      {
                        "bin_start": 55.34591194968554,
                        "bin_end": 55.55091056205073,
                        "count": 2
                      },
                      {
                        "bin_start": 55.55091056205073,
                        "bin_end": 55.755909174415926,
                        "count": 0
                      },
                      {
                        "bin_start": 55.755909174415926,
                        "bin_end": 55.96090778678112,
                        "count": 1
                      },
                      {
                        "bin_start": 55.96090778678112,
                        "bin_end": 56.165906399146316,
                        "count": 3
                      },
                      {
                        "bin_start": 56.165906399146316,
                        "bin_end": 56.37090501151151,
                        "count": 1
                      },
                      {
                        "bin_start": 56.37090501151151,
                        "bin_end": 56.575903623876705,
                        "count": 1
                      },
                      {
                        "bin_start": 56.575903623876705,
                        "bin_end": 56.7809022362419,
                        "count": 2
                      },
                      {
                        "bin_start": 56.7809022362419,
                        "bin_end": 56.985900848607095,
                        "count": 1
                      },
                      {
                        "bin_start": 56.985900848607095,
                        "bin_end": 57.19089946097229,
                        "count": 1
                      },
                      {
                        "bin_start": 57.19089946097229,
                        "bin_end": 57.395898073337484,
                        "count": 2
                      }
                    ]
                  }
                },
                {
                  "name": "apple_proportion",
                  "dtype": "float64",
                  "stats": {
                    "unique_count": 14,
                    "nan_count": 0,
                    "min": "42.604101926662516",
                    "max": "44.65408805031446",
                    "histogram": [
                      {
                        "bin_start": 42.604101926662516,
                        "bin_end": 42.80910053902771,
                        "count": 2
                      },
                      {
                        "bin_start": 42.80910053902771,
                        "bin_end": 43.014099151392905,
                        "count": 1
                      },
                      {
                        "bin_start": 43.014099151392905,
                        "bin_end": 43.2190977637581,
                        "count": 1
                      },
                      {
                        "bin_start": 43.2190977637581,
                        "bin_end": 43.424096376123295,
                        "count": 2
                      },
                      {
                        "bin_start": 43.424096376123295,
                        "bin_end": 43.62909498848849,
                        "count": 1
                      },
                      {
                        "bin_start": 43.62909498848849,
                        "bin_end": 43.834093600853684,
                        "count": 1
                      },
                      {
                        "bin_start": 43.834093600853684,
                        "bin_end": 44.03909221321888,
                        "count": 3
                      },
                      {
                        "bin_start": 44.03909221321888,
                        "bin_end": 44.244090825584074,
                        "count": 1
                      },
                      {
                        "bin_start": 44.244090825584074,
                        "bin_end": 44.44908943794927,
                        "count": 0
                      },
                      {
                        "bin_start": 44.44908943794927,
                        "bin_end": 44.65408805031446,
                        "count": 2
                      }
                    ]
                  }
                },
                {
                  "name": "_deepnote_index_column",
                  "dtype": "int64"
                }
              ],
              "rows": [
                {
                  "date_time": "2023-11-06",
                  "android": 5192,
                  "apple": 4189,
                  "android_proportion": 55.34591194968554,
                  "apple_proportion": 44.65408805031446,
                  "_deepnote_index_column": 0
                },
                {
                  "date_time": "2023-11-07",
                  "android": 5320,
                  "apple": 4183,
                  "android_proportion": 55.98232137219825,
                  "apple_proportion": 44.01767862780175,
                  "_deepnote_index_column": 1
                },
                {
                  "date_time": "2023-11-08",
                  "android": 5385,
                  "apple": 4234,
                  "android_proportion": 55.98295041064559,
                  "apple_proportion": 44.01704958935441,
                  "_deepnote_index_column": 2
                },
                {
                  "date_time": "2023-11-09",
                  "android": 5541,
                  "apple": 4113,
                  "android_proportion": 57.395898073337484,
                  "apple_proportion": 42.604101926662516,
                  "_deepnote_index_column": 3
                },
                {
                  "date_time": "2023-11-10",
                  "android": 5545,
                  "apple": 4374,
                  "android_proportion": 55.90281278354673,
                  "apple_proportion": 44.09718721645327,
                  "_deepnote_index_column": 4
                },
                {
                  "date_time": "2023-11-11",
                  "android": 5856,
                  "apple": 4586,
                  "android_proportion": 56.08121049607355,
                  "apple_proportion": 43.91878950392645,
                  "_deepnote_index_column": 5
                },
                {
                  "date_time": "2023-11-12",
                  "android": 6018,
                  "apple": 4619,
                  "android_proportion": 56.5761022844787,
                  "apple_proportion": 43.4238977155213,
                  "_deepnote_index_column": 6
                },
                {
                  "date_time": "2023-11-13",
                  "android": 5499,
                  "apple": 4425,
                  "android_proportion": 55.411124546553815,
                  "apple_proportion": 44.588875453446185,
                  "_deepnote_index_column": 7
                },
                {
                  "date_time": "2023-11-14",
                  "android": 5243,
                  "apple": 4009,
                  "android_proportion": 56.66882836143537,
                  "apple_proportion": 43.33117163856463,
                  "_deepnote_index_column": 8
                },
                {
                  "date_time": "2023-11-15",
                  "android": 5435,
                  "apple": 4209,
                  "android_proportion": 56.356283699709664,
                  "apple_proportion": 43.643716300290336,
                  "_deepnote_index_column": 9
                }
              ]
            },
            "text/plain": "platform   date_time  android  apple  android_proportion  apple_proportion\n0         2023-11-06     5192   4189           55.345912         44.654088\n1         2023-11-07     5320   4183           55.982321         44.017679\n2         2023-11-08     5385   4234           55.982950         44.017050\n3         2023-11-09     5541   4113           57.395898         42.604102\n4         2023-11-10     5545   4374           55.902813         44.097187\n5         2023-11-11     5856   4586           56.081210         43.918790\n6         2023-11-12     6018   4619           56.576102         43.423898\n7         2023-11-13     5499   4425           55.411125         44.588875\n8         2023-11-14     5243   4009           56.668828         43.331172\n9         2023-11-15     5435   4209           56.356284         43.643716\n10        2023-11-16     5655   4300           56.805625         43.194375\n11        2023-11-17     5886   4535           56.482103         43.517897\n12        2023-11-18     5997   4474           57.272467         42.727533\n13        2023-11-19     6195   4658           57.080991         42.919009",
            "text/html": "<div>\n<style scoped>\n    .dataframe tbody tr th:only-of-type {\n        vertical-align: middle;\n    }\n\n    .dataframe tbody tr th {\n        vertical-align: top;\n    }\n\n    .dataframe thead th {\n        text-align: right;\n    }\n</style>\n<table border=\"1\" class=\"dataframe\">\n  <thead>\n    <tr style=\"text-align: right;\">\n      <th>platform</th>\n      <th>date_time</th>\n      <th>android</th>\n      <th>apple</th>\n      <th>android_proportion</th>\n      <th>apple_proportion</th>\n    </tr>\n  </thead>\n  <tbody>\n    <tr>\n      <th>0</th>\n      <td>2023-11-06</td>\n      <td>5192</td>\n      <td>4189</td>\n      <td>55.345912</td>\n      <td>44.654088</td>\n    </tr>\n    <tr>\n      <th>1</th>\n      <td>2023-11-07</td>\n      <td>5320</td>\n      <td>4183</td>\n      <td>55.982321</td>\n      <td>44.017679</td>\n    </tr>\n    <tr>\n      <th>2</th>\n      <td>2023-11-08</td>\n      <td>5385</td>\n      <td>4234</td>\n      <td>55.982950</td>\n      <td>44.017050</td>\n    </tr>\n    <tr>\n      <th>3</th>\n      <td>2023-11-09</td>\n      <td>5541</td>\n      <td>4113</td>\n      <td>57.395898</td>\n      <td>42.604102</td>\n    </tr>\n    <tr>\n      <th>4</th>\n      <td>2023-11-10</td>\n      <td>5545</td>\n      <td>4374</td>\n      <td>55.902813</td>\n      <td>44.097187</td>\n    </tr>\n    <tr>\n      <th>5</th>\n      <td>2023-11-11</td>\n      <td>5856</td>\n      <td>4586</td>\n      <td>56.081210</td>\n      <td>43.918790</td>\n    </tr>\n    <tr>\n      <th>6</th>\n      <td>2023-11-12</td>\n      <td>6018</td>\n      <td>4619</td>\n      <td>56.576102</td>\n      <td>43.423898</td>\n    </tr>\n    <tr>\n      <th>7</th>\n      <td>2023-11-13</td>\n      <td>5499</td>\n      <td>4425</td>\n      <td>55.411125</td>\n      <td>44.588875</td>\n    </tr>\n    <tr>\n      <th>8</th>\n      <td>2023-11-14</td>\n      <td>5243</td>\n      <td>4009</td>\n      <td>56.668828</td>\n      <td>43.331172</td>\n    </tr>\n    <tr>\n      <th>9</th>\n      <td>2023-11-15</td>\n      <td>5435</td>\n      <td>4209</td>\n      <td>56.356284</td>\n      <td>43.643716</td>\n    </tr>\n    <tr>\n      <th>10</th>\n      <td>2023-11-16</td>\n      <td>5655</td>\n      <td>4300</td>\n      <td>56.805625</td>\n      <td>43.194375</td>\n    </tr>\n    <tr>\n      <th>11</th>\n      <td>2023-11-17</td>\n      <td>5886</td>\n      <td>4535</td>\n      <td>56.482103</td>\n      <td>43.517897</td>\n    </tr>\n    <tr>\n      <th>12</th>\n      <td>2023-11-18</td>\n      <td>5997</td>\n      <td>4474</td>\n      <td>57.272467</td>\n      <td>42.727533</td>\n    </tr>\n    <tr>\n      <th>13</th>\n      <td>2023-11-19</td>\n      <td>6195</td>\n      <td>4658</td>\n      <td>57.080991</td>\n      <td>42.919009</td>\n    </tr>\n  </tbody>\n</table>\n</div>"
          },
          "metadata": {}
        }
      ],
      "execution_count": 8,
      "block_group": "1a9fc59375a94d87b6fe6357384bba25"
    },
    {
      "cell_type": "code",
      "source": "import plotly.express as px \n\nfig1 = px.line(unique_users_per_day, x='date_time', y=['android', 'apple'], title='Number of unique users per day per platform')\nfig1.update_layout(title='Number of Daily Active Users by Platform',\n                   xaxis=dict(title='Date'),\n                   yaxis=dict(title='Number of Users', tickformat='.2f'),\n                   legend=dict(title='Platform', orientation=\"h\", yanchor=\"bottom\", y=1.02, xanchor=\"left\"),\n                   autosize=True, width=900, height=350)\nfig1.show()\n\nfig2 = px.area(unique_users_per_day, x='date_time', y=['android_proportion', 'apple_proportion'], title='Prortion of users per day per platform')\nfig2.update_layout(\n                   xaxis=dict(title='Date'), yaxis=dict(title='Percentage of Users', tickformat='.2f'), legend=dict(title='Platform', orientation=\"h\", yanchor=\"bottom\", y=1.02, xanchor=\"left\"),\n                   autosize=True, width=900, height=350)\n\nfig2.show()",
      "metadata": {
        "source_hash": "de7a81ce",
        "execution_start": 1703165952626,
        "execution_millis": 56,
        "deepnote_app_coordinates": {
          "h": 120,
          "w": 12,
          "x": 0,
          "y": 0
        },
        "deepnote_to_be_reexecuted": false,
        "cell_id": "9a0ebc782aaf485bba697316449c524c",
        "deepnote_cell_type": "code"
      },
      "outputs": [
        {
          "data": {
            "text/html": "<html>\n<head><meta charset=\"utf-8\" /></head>\n<body>\n    <div>            <script src=\"https://cdnjs.cloudflare.com/ajax/libs/mathjax/2.7.5/MathJax.js?config=TeX-AMS-MML_SVG\"></script><script type=\"text/javascript\">if (window.MathJax && window.MathJax.Hub && window.MathJax.Hub.Config) {window.MathJax.Hub.Config({SVG: {font: \"STIX-Web\"}});}</script>                <script type=\"text/javascript\">window.PlotlyConfig = {MathJaxConfig: 'local'};</script>\n        <script src=\"https://cdn.plot.ly/plotly-2.14.0.min.js\"></script>                <div id=\"96f6b522-9284-4911-a289-bc30955fa8a7\" class=\"plotly-graph-div\" style=\"height:350px; width:900px;\"></div>            <script type=\"text/javascript\">                                    window.PLOTLYENV=window.PLOTLYENV || {};                                    if (document.getElementById(\"96f6b522-9284-4911-a289-bc30955fa8a7\")) {                    Plotly.newPlot(                        \"96f6b522-9284-4911-a289-bc30955fa8a7\",                        [{\"hovertemplate\":\"variable=android<br>date_time=%{x}<br>value=%{y}<extra></extra>\",\"legendgroup\":\"android\",\"line\":{\"color\":\"#636efa\",\"dash\":\"solid\"},\"marker\":{\"symbol\":\"circle\"},\"mode\":\"lines\",\"name\":\"android\",\"orientation\":\"v\",\"showlegend\":true,\"x\":[\"2023-11-06\",\"2023-11-07\",\"2023-11-08\",\"2023-11-09\",\"2023-11-10\",\"2023-11-11\",\"2023-11-12\",\"2023-11-13\",\"2023-11-14\",\"2023-11-15\",\"2023-11-16\",\"2023-11-17\",\"2023-11-18\",\"2023-11-19\"],\"xaxis\":\"x\",\"y\":[5192,5320,5385,5541,5545,5856,6018,5499,5243,5435,5655,5886,5997,6195],\"yaxis\":\"y\",\"type\":\"scatter\"},{\"hovertemplate\":\"variable=apple<br>date_time=%{x}<br>value=%{y}<extra></extra>\",\"legendgroup\":\"apple\",\"line\":{\"color\":\"#EF553B\",\"dash\":\"solid\"},\"marker\":{\"symbol\":\"circle\"},\"mode\":\"lines\",\"name\":\"apple\",\"orientation\":\"v\",\"showlegend\":true,\"x\":[\"2023-11-06\",\"2023-11-07\",\"2023-11-08\",\"2023-11-09\",\"2023-11-10\",\"2023-11-11\",\"2023-11-12\",\"2023-11-13\",\"2023-11-14\",\"2023-11-15\",\"2023-11-16\",\"2023-11-17\",\"2023-11-18\",\"2023-11-19\"],\"xaxis\":\"x\",\"y\":[4189,4183,4234,4113,4374,4586,4619,4425,4009,4209,4300,4535,4474,4658],\"yaxis\":\"y\",\"type\":\"scatter\"}],                        {\"template\":{\"data\":{\"histogram2dcontour\":[{\"type\":\"histogram2dcontour\",\"colorbar\":{\"outlinewidth\":0,\"ticks\":\"\"},\"colorscale\":[[0.0,\"#0d0887\"],[0.1111111111111111,\"#46039f\"],[0.2222222222222222,\"#7201a8\"],[0.3333333333333333,\"#9c179e\"],[0.4444444444444444,\"#bd3786\"],[0.5555555555555556,\"#d8576b\"],[0.6666666666666666,\"#ed7953\"],[0.7777777777777778,\"#fb9f3a\"],[0.8888888888888888,\"#fdca26\"],[1.0,\"#f0f921\"]]}],\"choropleth\":[{\"type\":\"choropleth\",\"colorbar\":{\"outlinewidth\":0,\"ticks\":\"\"}}],\"histogram2d\":[{\"type\":\"histogram2d\",\"colorbar\":{\"outlinewidth\":0,\"ticks\":\"\"},\"colorscale\":[[0.0,\"#0d0887\"],[0.1111111111111111,\"#46039f\"],[0.2222222222222222,\"#7201a8\"],[0.3333333333333333,\"#9c179e\"],[0.4444444444444444,\"#bd3786\"],[0.5555555555555556,\"#d8576b\"],[0.6666666666666666,\"#ed7953\"],[0.7777777777777778,\"#fb9f3a\"],[0.8888888888888888,\"#fdca26\"],[1.0,\"#f0f921\"]]}],\"heatmap\":[{\"type\":\"heatmap\",\"colorbar\":{\"outlinewidth\":0,\"ticks\":\"\"},\"colorscale\":[[0.0,\"#0d0887\"],[0.1111111111111111,\"#46039f\"],[0.2222222222222222,\"#7201a8\"],[0.3333333333333333,\"#9c179e\"],[0.4444444444444444,\"#bd3786\"],[0.5555555555555556,\"#d8576b\"],[0.6666666666666666,\"#ed7953\"],[0.7777777777777778,\"#fb9f3a\"],[0.8888888888888888,\"#fdca26\"],[1.0,\"#f0f921\"]]}],\"heatmapgl\":[{\"type\":\"heatmapgl\",\"colorbar\":{\"outlinewidth\":0,\"ticks\":\"\"},\"colorscale\":[[0.0,\"#0d0887\"],[0.1111111111111111,\"#46039f\"],[0.2222222222222222,\"#7201a8\"],[0.3333333333333333,\"#9c179e\"],[0.4444444444444444,\"#bd3786\"],[0.5555555555555556,\"#d8576b\"],[0.6666666666666666,\"#ed7953\"],[0.7777777777777778,\"#fb9f3a\"],[0.8888888888888888,\"#fdca26\"],[1.0,\"#f0f921\"]]}],\"contourcarpet\":[{\"type\":\"contourcarpet\",\"colorbar\":{\"outlinewidth\":0,\"ticks\":\"\"}}],\"contour\":[{\"type\":\"contour\",\"colorbar\":{\"outlinewidth\":0,\"ticks\":\"\"},\"colorscale\":[[0.0,\"#0d0887\"],[0.1111111111111111,\"#46039f\"],[0.2222222222222222,\"#7201a8\"],[0.3333333333333333,\"#9c179e\"],[0.4444444444444444,\"#bd3786\"],[0.5555555555555556,\"#d8576b\"],[0.6666666666666666,\"#ed7953\"],[0.7777777777777778,\"#fb9f3a\"],[0.8888888888888888,\"#fdca26\"],[1.0,\"#f0f921\"]]}],\"surface\":[{\"type\":\"surface\",\"colorbar\":{\"outlinewidth\":0,\"ticks\":\"\"},\"colorscale\":[[0.0,\"#0d0887\"],[0.1111111111111111,\"#46039f\"],[0.2222222222222222,\"#7201a8\"],[0.3333333333333333,\"#9c179e\"],[0.4444444444444444,\"#bd3786\"],[0.5555555555555556,\"#d8576b\"],[0.6666666666666666,\"#ed7953\"],[0.7777777777777778,\"#fb9f3a\"],[0.8888888888888888,\"#fdca26\"],[1.0,\"#f0f921\"]]}],\"mesh3d\":[{\"type\":\"mesh3d\",\"colorbar\":{\"outlinewidth\":0,\"ticks\":\"\"}}],\"scatter\":[{\"fillpattern\":{\"fillmode\":\"overlay\",\"size\":10,\"solidity\":0.2},\"type\":\"scatter\"}],\"parcoords\":[{\"type\":\"parcoords\",\"line\":{\"colorbar\":{\"outlinewidth\":0,\"ticks\":\"\"}}}],\"scatterpolargl\":[{\"type\":\"scatterpolargl\",\"marker\":{\"colorbar\":{\"outlinewidth\":0,\"ticks\":\"\"}}}],\"bar\":[{\"error_x\":{\"color\":\"#2a3f5f\"},\"error_y\":{\"color\":\"#2a3f5f\"},\"marker\":{\"line\":{\"color\":\"#E5ECF6\",\"width\":0.5},\"pattern\":{\"fillmode\":\"overlay\",\"size\":10,\"solidity\":0.2}},\"type\":\"bar\"}],\"scattergeo\":[{\"type\":\"scattergeo\",\"marker\":{\"colorbar\":{\"outlinewidth\":0,\"ticks\":\"\"}}}],\"scatterpolar\":[{\"type\":\"scatterpolar\",\"marker\":{\"colorbar\":{\"outlinewidth\":0,\"ticks\":\"\"}}}],\"histogram\":[{\"marker\":{\"pattern\":{\"fillmode\":\"overlay\",\"size\":10,\"solidity\":0.2}},\"type\":\"histogram\"}],\"scattergl\":[{\"type\":\"scattergl\",\"marker\":{\"colorbar\":{\"outlinewidth\":0,\"ticks\":\"\"}}}],\"scatter3d\":[{\"type\":\"scatter3d\",\"line\":{\"colorbar\":{\"outlinewidth\":0,\"ticks\":\"\"}},\"marker\":{\"colorbar\":{\"outlinewidth\":0,\"ticks\":\"\"}}}],\"scattermapbox\":[{\"type\":\"scattermapbox\",\"marker\":{\"colorbar\":{\"outlinewidth\":0,\"ticks\":\"\"}}}],\"scatterternary\":[{\"type\":\"scatterternary\",\"marker\":{\"colorbar\":{\"outlinewidth\":0,\"ticks\":\"\"}}}],\"scattercarpet\":[{\"type\":\"scattercarpet\",\"marker\":{\"colorbar\":{\"outlinewidth\":0,\"ticks\":\"\"}}}],\"carpet\":[{\"aaxis\":{\"endlinecolor\":\"#2a3f5f\",\"gridcolor\":\"white\",\"linecolor\":\"white\",\"minorgridcolor\":\"white\",\"startlinecolor\":\"#2a3f5f\"},\"baxis\":{\"endlinecolor\":\"#2a3f5f\",\"gridcolor\":\"white\",\"linecolor\":\"white\",\"minorgridcolor\":\"white\",\"startlinecolor\":\"#2a3f5f\"},\"type\":\"carpet\"}],\"table\":[{\"cells\":{\"fill\":{\"color\":\"#EBF0F8\"},\"line\":{\"color\":\"white\"}},\"header\":{\"fill\":{\"color\":\"#C8D4E3\"},\"line\":{\"color\":\"white\"}},\"type\":\"table\"}],\"barpolar\":[{\"marker\":{\"line\":{\"color\":\"#E5ECF6\",\"width\":0.5},\"pattern\":{\"fillmode\":\"overlay\",\"size\":10,\"solidity\":0.2}},\"type\":\"barpolar\"}],\"pie\":[{\"automargin\":true,\"type\":\"pie\"}]},\"layout\":{\"autotypenumbers\":\"strict\",\"colorway\":[\"#636efa\",\"#EF553B\",\"#00cc96\",\"#ab63fa\",\"#FFA15A\",\"#19d3f3\",\"#FF6692\",\"#B6E880\",\"#FF97FF\",\"#FECB52\"],\"font\":{\"color\":\"#2a3f5f\"},\"hovermode\":\"closest\",\"hoverlabel\":{\"align\":\"left\"},\"paper_bgcolor\":\"white\",\"plot_bgcolor\":\"#E5ECF6\",\"polar\":{\"bgcolor\":\"#E5ECF6\",\"angularaxis\":{\"gridcolor\":\"white\",\"linecolor\":\"white\",\"ticks\":\"\"},\"radialaxis\":{\"gridcolor\":\"white\",\"linecolor\":\"white\",\"ticks\":\"\"}},\"ternary\":{\"bgcolor\":\"#E5ECF6\",\"aaxis\":{\"gridcolor\":\"white\",\"linecolor\":\"white\",\"ticks\":\"\"},\"baxis\":{\"gridcolor\":\"white\",\"linecolor\":\"white\",\"ticks\":\"\"},\"caxis\":{\"gridcolor\":\"white\",\"linecolor\":\"white\",\"ticks\":\"\"}},\"coloraxis\":{\"colorbar\":{\"outlinewidth\":0,\"ticks\":\"\"}},\"colorscale\":{\"sequential\":[[0.0,\"#0d0887\"],[0.1111111111111111,\"#46039f\"],[0.2222222222222222,\"#7201a8\"],[0.3333333333333333,\"#9c179e\"],[0.4444444444444444,\"#bd3786\"],[0.5555555555555556,\"#d8576b\"],[0.6666666666666666,\"#ed7953\"],[0.7777777777777778,\"#fb9f3a\"],[0.8888888888888888,\"#fdca26\"],[1.0,\"#f0f921\"]],\"sequentialminus\":[[0.0,\"#0d0887\"],[0.1111111111111111,\"#46039f\"],[0.2222222222222222,\"#7201a8\"],[0.3333333333333333,\"#9c179e\"],[0.4444444444444444,\"#bd3786\"],[0.5555555555555556,\"#d8576b\"],[0.6666666666666666,\"#ed7953\"],[0.7777777777777778,\"#fb9f3a\"],[0.8888888888888888,\"#fdca26\"],[1.0,\"#f0f921\"]],\"diverging\":[[0,\"#8e0152\"],[0.1,\"#c51b7d\"],[0.2,\"#de77ae\"],[0.3,\"#f1b6da\"],[0.4,\"#fde0ef\"],[0.5,\"#f7f7f7\"],[0.6,\"#e6f5d0\"],[0.7,\"#b8e186\"],[0.8,\"#7fbc41\"],[0.9,\"#4d9221\"],[1,\"#276419\"]]},\"xaxis\":{\"gridcolor\":\"white\",\"linecolor\":\"white\",\"ticks\":\"\",\"title\":{\"standoff\":15},\"zerolinecolor\":\"white\",\"automargin\":true,\"zerolinewidth\":2},\"yaxis\":{\"gridcolor\":\"white\",\"linecolor\":\"white\",\"ticks\":\"\",\"title\":{\"standoff\":15},\"zerolinecolor\":\"white\",\"automargin\":true,\"zerolinewidth\":2},\"scene\":{\"xaxis\":{\"backgroundcolor\":\"#E5ECF6\",\"gridcolor\":\"white\",\"linecolor\":\"white\",\"showbackground\":true,\"ticks\":\"\",\"zerolinecolor\":\"white\",\"gridwidth\":2},\"yaxis\":{\"backgroundcolor\":\"#E5ECF6\",\"gridcolor\":\"white\",\"linecolor\":\"white\",\"showbackground\":true,\"ticks\":\"\",\"zerolinecolor\":\"white\",\"gridwidth\":2},\"zaxis\":{\"backgroundcolor\":\"#E5ECF6\",\"gridcolor\":\"white\",\"linecolor\":\"white\",\"showbackground\":true,\"ticks\":\"\",\"zerolinecolor\":\"white\",\"gridwidth\":2}},\"shapedefaults\":{\"line\":{\"color\":\"#2a3f5f\"}},\"annotationdefaults\":{\"arrowcolor\":\"#2a3f5f\",\"arrowhead\":0,\"arrowwidth\":1},\"geo\":{\"bgcolor\":\"white\",\"landcolor\":\"#E5ECF6\",\"subunitcolor\":\"white\",\"showland\":true,\"showlakes\":true,\"lakecolor\":\"white\"},\"title\":{\"x\":0.05},\"mapbox\":{\"style\":\"light\"}}},\"xaxis\":{\"anchor\":\"y\",\"domain\":[0.0,1.0],\"title\":{\"text\":\"Date\"}},\"yaxis\":{\"anchor\":\"x\",\"domain\":[0.0,1.0],\"title\":{\"text\":\"Number of Users\"},\"tickformat\":\".2f\"},\"legend\":{\"title\":{\"text\":\"Platform\"},\"tracegroupgap\":0,\"orientation\":\"h\",\"yanchor\":\"bottom\",\"y\":1.02,\"xanchor\":\"left\"},\"title\":{\"text\":\"Number of Daily Active Users by Platform\"},\"autosize\":true,\"width\":900,\"height\":350},                        {\"responsive\": true}                    ).then(function(){\n                            \nvar gd = document.getElementById('96f6b522-9284-4911-a289-bc30955fa8a7');\nvar x = new MutationObserver(function (mutations, observer) {{\n        var display = window.getComputedStyle(gd).display;\n        if (!display || display === 'none') {{\n            console.log([gd, 'removed!']);\n            Plotly.purge(gd);\n            observer.disconnect();\n        }}\n}});\n\n// Listen for the removal of the full notebook cells\nvar notebookContainer = gd.closest('#notebook-container');\nif (notebookContainer) {{\n    x.observe(notebookContainer, {childList: true});\n}}\n\n// Listen for the clearing of the current output cell\nvar outputEl = gd.closest('.output');\nif (outputEl) {{\n    x.observe(outputEl, {childList: true});\n}}\n\n                        })                };                            </script>        </div>\n</body>\n</html>"
          },
          "metadata": {},
          "output_type": "display_data"
        },
        {
          "data": {
            "text/html": "<html>\n<head><meta charset=\"utf-8\" /></head>\n<body>\n    <div>            <script src=\"https://cdnjs.cloudflare.com/ajax/libs/mathjax/2.7.5/MathJax.js?config=TeX-AMS-MML_SVG\"></script><script type=\"text/javascript\">if (window.MathJax && window.MathJax.Hub && window.MathJax.Hub.Config) {window.MathJax.Hub.Config({SVG: {font: \"STIX-Web\"}});}</script>                <script type=\"text/javascript\">window.PlotlyConfig = {MathJaxConfig: 'local'};</script>\n        <script src=\"https://cdn.plot.ly/plotly-2.14.0.min.js\"></script>                <div id=\"734350b5-6b81-4c1e-bf18-39f9da1f7024\" class=\"plotly-graph-div\" style=\"height:350px; width:900px;\"></div>            <script type=\"text/javascript\">                                    window.PLOTLYENV=window.PLOTLYENV || {};                                    if (document.getElementById(\"734350b5-6b81-4c1e-bf18-39f9da1f7024\")) {                    Plotly.newPlot(                        \"734350b5-6b81-4c1e-bf18-39f9da1f7024\",                        [{\"fillpattern\":{\"shape\":\"\"},\"hovertemplate\":\"variable=android_proportion<br>date_time=%{x}<br>value=%{y}<extra></extra>\",\"legendgroup\":\"android_proportion\",\"line\":{\"color\":\"#636efa\"},\"marker\":{\"symbol\":\"circle\"},\"mode\":\"lines\",\"name\":\"android_proportion\",\"orientation\":\"v\",\"showlegend\":true,\"stackgroup\":\"1\",\"x\":[\"2023-11-06\",\"2023-11-07\",\"2023-11-08\",\"2023-11-09\",\"2023-11-10\",\"2023-11-11\",\"2023-11-12\",\"2023-11-13\",\"2023-11-14\",\"2023-11-15\",\"2023-11-16\",\"2023-11-17\",\"2023-11-18\",\"2023-11-19\"],\"xaxis\":\"x\",\"y\":[55.34591194968554,55.98232137219825,55.98295041064559,57.395898073337484,55.90281278354673,56.08121049607355,56.5761022844787,55.411124546553815,56.66882836143537,56.356283699709664,56.805625313912614,56.48210344496689,57.27246681310285,57.080991430940756],\"yaxis\":\"y\",\"type\":\"scatter\"},{\"fillpattern\":{\"shape\":\"\"},\"hovertemplate\":\"variable=apple_proportion<br>date_time=%{x}<br>value=%{y}<extra></extra>\",\"legendgroup\":\"apple_proportion\",\"line\":{\"color\":\"#EF553B\"},\"marker\":{\"symbol\":\"circle\"},\"mode\":\"lines\",\"name\":\"apple_proportion\",\"orientation\":\"v\",\"showlegend\":true,\"stackgroup\":\"1\",\"x\":[\"2023-11-06\",\"2023-11-07\",\"2023-11-08\",\"2023-11-09\",\"2023-11-10\",\"2023-11-11\",\"2023-11-12\",\"2023-11-13\",\"2023-11-14\",\"2023-11-15\",\"2023-11-16\",\"2023-11-17\",\"2023-11-18\",\"2023-11-19\"],\"xaxis\":\"x\",\"y\":[44.65408805031446,44.01767862780175,44.01704958935441,42.604101926662516,44.09718721645327,43.91878950392645,43.4238977155213,44.588875453446185,43.33117163856463,43.643716300290336,43.194374686087386,43.51789655503311,42.72753318689715,42.919008569059244],\"yaxis\":\"y\",\"type\":\"scatter\"}],                        {\"template\":{\"data\":{\"histogram2dcontour\":[{\"type\":\"histogram2dcontour\",\"colorbar\":{\"outlinewidth\":0,\"ticks\":\"\"},\"colorscale\":[[0.0,\"#0d0887\"],[0.1111111111111111,\"#46039f\"],[0.2222222222222222,\"#7201a8\"],[0.3333333333333333,\"#9c179e\"],[0.4444444444444444,\"#bd3786\"],[0.5555555555555556,\"#d8576b\"],[0.6666666666666666,\"#ed7953\"],[0.7777777777777778,\"#fb9f3a\"],[0.8888888888888888,\"#fdca26\"],[1.0,\"#f0f921\"]]}],\"choropleth\":[{\"type\":\"choropleth\",\"colorbar\":{\"outlinewidth\":0,\"ticks\":\"\"}}],\"histogram2d\":[{\"type\":\"histogram2d\",\"colorbar\":{\"outlinewidth\":0,\"ticks\":\"\"},\"colorscale\":[[0.0,\"#0d0887\"],[0.1111111111111111,\"#46039f\"],[0.2222222222222222,\"#7201a8\"],[0.3333333333333333,\"#9c179e\"],[0.4444444444444444,\"#bd3786\"],[0.5555555555555556,\"#d8576b\"],[0.6666666666666666,\"#ed7953\"],[0.7777777777777778,\"#fb9f3a\"],[0.8888888888888888,\"#fdca26\"],[1.0,\"#f0f921\"]]}],\"heatmap\":[{\"type\":\"heatmap\",\"colorbar\":{\"outlinewidth\":0,\"ticks\":\"\"},\"colorscale\":[[0.0,\"#0d0887\"],[0.1111111111111111,\"#46039f\"],[0.2222222222222222,\"#7201a8\"],[0.3333333333333333,\"#9c179e\"],[0.4444444444444444,\"#bd3786\"],[0.5555555555555556,\"#d8576b\"],[0.6666666666666666,\"#ed7953\"],[0.7777777777777778,\"#fb9f3a\"],[0.8888888888888888,\"#fdca26\"],[1.0,\"#f0f921\"]]}],\"heatmapgl\":[{\"type\":\"heatmapgl\",\"colorbar\":{\"outlinewidth\":0,\"ticks\":\"\"},\"colorscale\":[[0.0,\"#0d0887\"],[0.1111111111111111,\"#46039f\"],[0.2222222222222222,\"#7201a8\"],[0.3333333333333333,\"#9c179e\"],[0.4444444444444444,\"#bd3786\"],[0.5555555555555556,\"#d8576b\"],[0.6666666666666666,\"#ed7953\"],[0.7777777777777778,\"#fb9f3a\"],[0.8888888888888888,\"#fdca26\"],[1.0,\"#f0f921\"]]}],\"contourcarpet\":[{\"type\":\"contourcarpet\",\"colorbar\":{\"outlinewidth\":0,\"ticks\":\"\"}}],\"contour\":[{\"type\":\"contour\",\"colorbar\":{\"outlinewidth\":0,\"ticks\":\"\"},\"colorscale\":[[0.0,\"#0d0887\"],[0.1111111111111111,\"#46039f\"],[0.2222222222222222,\"#7201a8\"],[0.3333333333333333,\"#9c179e\"],[0.4444444444444444,\"#bd3786\"],[0.5555555555555556,\"#d8576b\"],[0.6666666666666666,\"#ed7953\"],[0.7777777777777778,\"#fb9f3a\"],[0.8888888888888888,\"#fdca26\"],[1.0,\"#f0f921\"]]}],\"surface\":[{\"type\":\"surface\",\"colorbar\":{\"outlinewidth\":0,\"ticks\":\"\"},\"colorscale\":[[0.0,\"#0d0887\"],[0.1111111111111111,\"#46039f\"],[0.2222222222222222,\"#7201a8\"],[0.3333333333333333,\"#9c179e\"],[0.4444444444444444,\"#bd3786\"],[0.5555555555555556,\"#d8576b\"],[0.6666666666666666,\"#ed7953\"],[0.7777777777777778,\"#fb9f3a\"],[0.8888888888888888,\"#fdca26\"],[1.0,\"#f0f921\"]]}],\"mesh3d\":[{\"type\":\"mesh3d\",\"colorbar\":{\"outlinewidth\":0,\"ticks\":\"\"}}],\"scatter\":[{\"fillpattern\":{\"fillmode\":\"overlay\",\"size\":10,\"solidity\":0.2},\"type\":\"scatter\"}],\"parcoords\":[{\"type\":\"parcoords\",\"line\":{\"colorbar\":{\"outlinewidth\":0,\"ticks\":\"\"}}}],\"scatterpolargl\":[{\"type\":\"scatterpolargl\",\"marker\":{\"colorbar\":{\"outlinewidth\":0,\"ticks\":\"\"}}}],\"bar\":[{\"error_x\":{\"color\":\"#2a3f5f\"},\"error_y\":{\"color\":\"#2a3f5f\"},\"marker\":{\"line\":{\"color\":\"#E5ECF6\",\"width\":0.5},\"pattern\":{\"fillmode\":\"overlay\",\"size\":10,\"solidity\":0.2}},\"type\":\"bar\"}],\"scattergeo\":[{\"type\":\"scattergeo\",\"marker\":{\"colorbar\":{\"outlinewidth\":0,\"ticks\":\"\"}}}],\"scatterpolar\":[{\"type\":\"scatterpolar\",\"marker\":{\"colorbar\":{\"outlinewidth\":0,\"ticks\":\"\"}}}],\"histogram\":[{\"marker\":{\"pattern\":{\"fillmode\":\"overlay\",\"size\":10,\"solidity\":0.2}},\"type\":\"histogram\"}],\"scattergl\":[{\"type\":\"scattergl\",\"marker\":{\"colorbar\":{\"outlinewidth\":0,\"ticks\":\"\"}}}],\"scatter3d\":[{\"type\":\"scatter3d\",\"line\":{\"colorbar\":{\"outlinewidth\":0,\"ticks\":\"\"}},\"marker\":{\"colorbar\":{\"outlinewidth\":0,\"ticks\":\"\"}}}],\"scattermapbox\":[{\"type\":\"scattermapbox\",\"marker\":{\"colorbar\":{\"outlinewidth\":0,\"ticks\":\"\"}}}],\"scatterternary\":[{\"type\":\"scatterternary\",\"marker\":{\"colorbar\":{\"outlinewidth\":0,\"ticks\":\"\"}}}],\"scattercarpet\":[{\"type\":\"scattercarpet\",\"marker\":{\"colorbar\":{\"outlinewidth\":0,\"ticks\":\"\"}}}],\"carpet\":[{\"aaxis\":{\"endlinecolor\":\"#2a3f5f\",\"gridcolor\":\"white\",\"linecolor\":\"white\",\"minorgridcolor\":\"white\",\"startlinecolor\":\"#2a3f5f\"},\"baxis\":{\"endlinecolor\":\"#2a3f5f\",\"gridcolor\":\"white\",\"linecolor\":\"white\",\"minorgridcolor\":\"white\",\"startlinecolor\":\"#2a3f5f\"},\"type\":\"carpet\"}],\"table\":[{\"cells\":{\"fill\":{\"color\":\"#EBF0F8\"},\"line\":{\"color\":\"white\"}},\"header\":{\"fill\":{\"color\":\"#C8D4E3\"},\"line\":{\"color\":\"white\"}},\"type\":\"table\"}],\"barpolar\":[{\"marker\":{\"line\":{\"color\":\"#E5ECF6\",\"width\":0.5},\"pattern\":{\"fillmode\":\"overlay\",\"size\":10,\"solidity\":0.2}},\"type\":\"barpolar\"}],\"pie\":[{\"automargin\":true,\"type\":\"pie\"}]},\"layout\":{\"autotypenumbers\":\"strict\",\"colorway\":[\"#636efa\",\"#EF553B\",\"#00cc96\",\"#ab63fa\",\"#FFA15A\",\"#19d3f3\",\"#FF6692\",\"#B6E880\",\"#FF97FF\",\"#FECB52\"],\"font\":{\"color\":\"#2a3f5f\"},\"hovermode\":\"closest\",\"hoverlabel\":{\"align\":\"left\"},\"paper_bgcolor\":\"white\",\"plot_bgcolor\":\"#E5ECF6\",\"polar\":{\"bgcolor\":\"#E5ECF6\",\"angularaxis\":{\"gridcolor\":\"white\",\"linecolor\":\"white\",\"ticks\":\"\"},\"radialaxis\":{\"gridcolor\":\"white\",\"linecolor\":\"white\",\"ticks\":\"\"}},\"ternary\":{\"bgcolor\":\"#E5ECF6\",\"aaxis\":{\"gridcolor\":\"white\",\"linecolor\":\"white\",\"ticks\":\"\"},\"baxis\":{\"gridcolor\":\"white\",\"linecolor\":\"white\",\"ticks\":\"\"},\"caxis\":{\"gridcolor\":\"white\",\"linecolor\":\"white\",\"ticks\":\"\"}},\"coloraxis\":{\"colorbar\":{\"outlinewidth\":0,\"ticks\":\"\"}},\"colorscale\":{\"sequential\":[[0.0,\"#0d0887\"],[0.1111111111111111,\"#46039f\"],[0.2222222222222222,\"#7201a8\"],[0.3333333333333333,\"#9c179e\"],[0.4444444444444444,\"#bd3786\"],[0.5555555555555556,\"#d8576b\"],[0.6666666666666666,\"#ed7953\"],[0.7777777777777778,\"#fb9f3a\"],[0.8888888888888888,\"#fdca26\"],[1.0,\"#f0f921\"]],\"sequentialminus\":[[0.0,\"#0d0887\"],[0.1111111111111111,\"#46039f\"],[0.2222222222222222,\"#7201a8\"],[0.3333333333333333,\"#9c179e\"],[0.4444444444444444,\"#bd3786\"],[0.5555555555555556,\"#d8576b\"],[0.6666666666666666,\"#ed7953\"],[0.7777777777777778,\"#fb9f3a\"],[0.8888888888888888,\"#fdca26\"],[1.0,\"#f0f921\"]],\"diverging\":[[0,\"#8e0152\"],[0.1,\"#c51b7d\"],[0.2,\"#de77ae\"],[0.3,\"#f1b6da\"],[0.4,\"#fde0ef\"],[0.5,\"#f7f7f7\"],[0.6,\"#e6f5d0\"],[0.7,\"#b8e186\"],[0.8,\"#7fbc41\"],[0.9,\"#4d9221\"],[1,\"#276419\"]]},\"xaxis\":{\"gridcolor\":\"white\",\"linecolor\":\"white\",\"ticks\":\"\",\"title\":{\"standoff\":15},\"zerolinecolor\":\"white\",\"automargin\":true,\"zerolinewidth\":2},\"yaxis\":{\"gridcolor\":\"white\",\"linecolor\":\"white\",\"ticks\":\"\",\"title\":{\"standoff\":15},\"zerolinecolor\":\"white\",\"automargin\":true,\"zerolinewidth\":2},\"scene\":{\"xaxis\":{\"backgroundcolor\":\"#E5ECF6\",\"gridcolor\":\"white\",\"linecolor\":\"white\",\"showbackground\":true,\"ticks\":\"\",\"zerolinecolor\":\"white\",\"gridwidth\":2},\"yaxis\":{\"backgroundcolor\":\"#E5ECF6\",\"gridcolor\":\"white\",\"linecolor\":\"white\",\"showbackground\":true,\"ticks\":\"\",\"zerolinecolor\":\"white\",\"gridwidth\":2},\"zaxis\":{\"backgroundcolor\":\"#E5ECF6\",\"gridcolor\":\"white\",\"linecolor\":\"white\",\"showbackground\":true,\"ticks\":\"\",\"zerolinecolor\":\"white\",\"gridwidth\":2}},\"shapedefaults\":{\"line\":{\"color\":\"#2a3f5f\"}},\"annotationdefaults\":{\"arrowcolor\":\"#2a3f5f\",\"arrowhead\":0,\"arrowwidth\":1},\"geo\":{\"bgcolor\":\"white\",\"landcolor\":\"#E5ECF6\",\"subunitcolor\":\"white\",\"showland\":true,\"showlakes\":true,\"lakecolor\":\"white\"},\"title\":{\"x\":0.05},\"mapbox\":{\"style\":\"light\"}}},\"xaxis\":{\"anchor\":\"y\",\"domain\":[0.0,1.0],\"title\":{\"text\":\"Date\"}},\"yaxis\":{\"anchor\":\"x\",\"domain\":[0.0,1.0],\"title\":{\"text\":\"Percentage of Users\"},\"tickformat\":\".2f\"},\"legend\":{\"title\":{\"text\":\"Platform\"},\"tracegroupgap\":0,\"orientation\":\"h\",\"yanchor\":\"bottom\",\"y\":1.02,\"xanchor\":\"left\"},\"title\":{\"text\":\"Prortion of users per day per platform\"},\"autosize\":true,\"width\":900,\"height\":350},                        {\"responsive\": true}                    ).then(function(){\n                            \nvar gd = document.getElementById('734350b5-6b81-4c1e-bf18-39f9da1f7024');\nvar x = new MutationObserver(function (mutations, observer) {{\n        var display = window.getComputedStyle(gd).display;\n        if (!display || display === 'none') {{\n            console.log([gd, 'removed!']);\n            Plotly.purge(gd);\n            observer.disconnect();\n        }}\n}});\n\n// Listen for the removal of the full notebook cells\nvar notebookContainer = gd.closest('#notebook-container');\nif (notebookContainer) {{\n    x.observe(notebookContainer, {childList: true});\n}}\n\n// Listen for the clearing of the current output cell\nvar outputEl = gd.closest('.output');\nif (outputEl) {{\n    x.observe(outputEl, {childList: true});\n}}\n\n                        })                };                            </script>        </div>\n</body>\n</html>"
          },
          "metadata": {},
          "output_type": "display_data"
        }
      ],
      "execution_count": 19,
      "block_group": "0ba56376bed84fa7b79cd57aa222ffec"
    },
    {
      "cell_type": "code",
      "source": "\nfig1 = go.Figure()\n\nfig1.add_trace(go.Scatter(x=platform_user_counts_melt['date_time'], y=platform_user_counts_melt['platform'], \n                         mode='lines', name='Proportion of Daily Active Users by Platform', \n                         line=dict(color='blue')))\n\nfig1.update_layout(title='Proportion of Daily Active Users by Platform',\n                  xaxis=dict(title='Date'),\n                  yaxis=dict(title='Percentage of Users', tickformat='.2f'),\n                  autosize=False, width=800, height=300)\n\nfig1.show()\n\n# Create second plot: Daily Unique Active Users\nfig2 = go.Figure()\nfig2.add_trace(go.Scatter(x=platform_user_counts['date_time'], y=platform_user_counts['total'],\n                         mode='lines', name='Unique Users per Day', \n                         line=dict(color='red')))\n\nfig2.update_layout(title='Daily Unique Active Users',\n                  xaxis=dict(title='Date'),\n                  yaxis=dict(title='Total Users', tickformat='.2f'),\n                  autosize=False, width=800, height=300)\n\nfig2.show()",
      "metadata": {
        "source_hash": "bfb8ec63",
        "is_code_hidden": false,
        "execution_start": 1703163804664,
        "execution_millis": 414,
        "deepnote_app_coordinates": {
          "h": 120,
          "w": 12,
          "x": 0,
          "y": 0
        },
        "deepnote_to_be_reexecuted": false,
        "deepnote_app_is_code_hidden": false,
        "cell_id": "b960eb6fdc16499a9d566c4be241cb42",
        "deepnote_cell_type": "code"
      },
      "outputs": [
        {
          "output_type": "error",
          "ename": "NameError",
          "evalue": "name 'go' is not defined",
          "traceback": [
            "\u001b[0;31m---------------------------------------------------------------------------\u001b[0m",
            "\u001b[0;31mNameError\u001b[0m                                 Traceback (most recent call last)",
            "Cell \u001b[0;32mIn [10], line 1\u001b[0m\n\u001b[0;32m----> 1\u001b[0m fig1 \u001b[38;5;241m=\u001b[39m \u001b[43mgo\u001b[49m\u001b[38;5;241m.\u001b[39mFigure()\n\u001b[1;32m      3\u001b[0m fig1\u001b[38;5;241m.\u001b[39madd_trace(go\u001b[38;5;241m.\u001b[39mScatter(x\u001b[38;5;241m=\u001b[39mplatform_user_counts_melt[\u001b[38;5;124m'\u001b[39m\u001b[38;5;124mdate_time\u001b[39m\u001b[38;5;124m'\u001b[39m], y\u001b[38;5;241m=\u001b[39mplatform_user_counts_melt[\u001b[38;5;124m'\u001b[39m\u001b[38;5;124mplatform\u001b[39m\u001b[38;5;124m'\u001b[39m], \n\u001b[1;32m      4\u001b[0m                          mode\u001b[38;5;241m=\u001b[39m\u001b[38;5;124m'\u001b[39m\u001b[38;5;124mlines\u001b[39m\u001b[38;5;124m'\u001b[39m, name\u001b[38;5;241m=\u001b[39m\u001b[38;5;124m'\u001b[39m\u001b[38;5;124mProportion of Daily Active Users by Platform\u001b[39m\u001b[38;5;124m'\u001b[39m, \n\u001b[1;32m      5\u001b[0m                          line\u001b[38;5;241m=\u001b[39m\u001b[38;5;28mdict\u001b[39m(color\u001b[38;5;241m=\u001b[39m\u001b[38;5;124m'\u001b[39m\u001b[38;5;124mblue\u001b[39m\u001b[38;5;124m'\u001b[39m)))\n\u001b[1;32m      7\u001b[0m fig1\u001b[38;5;241m.\u001b[39mupdate_layout(title\u001b[38;5;241m=\u001b[39m\u001b[38;5;124m'\u001b[39m\u001b[38;5;124mProportion of Daily Active Users by Platform\u001b[39m\u001b[38;5;124m'\u001b[39m,\n\u001b[1;32m      8\u001b[0m                   xaxis\u001b[38;5;241m=\u001b[39m\u001b[38;5;28mdict\u001b[39m(title\u001b[38;5;241m=\u001b[39m\u001b[38;5;124m'\u001b[39m\u001b[38;5;124mDate\u001b[39m\u001b[38;5;124m'\u001b[39m),\n\u001b[1;32m      9\u001b[0m                   yaxis\u001b[38;5;241m=\u001b[39m\u001b[38;5;28mdict\u001b[39m(title\u001b[38;5;241m=\u001b[39m\u001b[38;5;124m'\u001b[39m\u001b[38;5;124mPercentage of Users\u001b[39m\u001b[38;5;124m'\u001b[39m, tickformat\u001b[38;5;241m=\u001b[39m\u001b[38;5;124m'\u001b[39m\u001b[38;5;124m.2f\u001b[39m\u001b[38;5;124m'\u001b[39m),\n\u001b[1;32m     10\u001b[0m                   autosize\u001b[38;5;241m=\u001b[39m\u001b[38;5;28;01mFalse\u001b[39;00m, width\u001b[38;5;241m=\u001b[39m\u001b[38;5;241m800\u001b[39m, height\u001b[38;5;241m=\u001b[39m\u001b[38;5;241m300\u001b[39m)\n",
            "\u001b[0;31mNameError\u001b[0m: name 'go' is not defined"
          ]
        }
      ],
      "execution_count": 10,
      "block_group": "e6d58f7d980942edab759f1a9e77d3d2"
    },
    {
      "cell_type": "code",
      "source": "unique_users_per_day.rename(columns={i: i for i in unique_users_per_day.columns if i != \"date_time\"}, inplace=True)\nunique_users_per_day.describe().round(2)",
      "metadata": {
        "source_hash": "7eb0ff9e",
        "is_code_hidden": false,
        "execution_start": 1703161911681,
        "execution_millis": 22,
        "deepnote_to_be_reexecuted": true,
        "deepnote_app_is_code_hidden": true,
        "cell_id": "36a92c546ceb462586cc94b22b36c36a",
        "deepnote_cell_type": "code"
      },
      "outputs": [
        {
          "output_type": "execute_result",
          "execution_count": 28,
          "data": {
            "application/vnd.deepnote.dataframe.v3+json": {
              "column_count": 2,
              "row_count": 8,
              "columns": [
                {
                  "name": "android",
                  "dtype": "float64",
                  "stats": {
                    "unique_count": 8,
                    "nan_count": 0,
                    "min": "14.0",
                    "max": "6195.0",
                    "histogram": [
                      {
                        "bin_start": 14,
                        "bin_end": 632.1,
                        "count": 2
                      },
                      {
                        "bin_start": 632.1,
                        "bin_end": 1250.2,
                        "count": 0
                      },
                      {
                        "bin_start": 1250.2,
                        "bin_end": 1868.3000000000002,
                        "count": 0
                      },
                      {
                        "bin_start": 1868.3000000000002,
                        "bin_end": 2486.4,
                        "count": 0
                      },
                      {
                        "bin_start": 2486.4,
                        "bin_end": 3104.5,
                        "count": 0
                      },
                      {
                        "bin_start": 3104.5,
                        "bin_end": 3722.6000000000004,
                        "count": 0
                      },
                      {
                        "bin_start": 3722.6000000000004,
                        "bin_end": 4340.7,
                        "count": 0
                      },
                      {
                        "bin_start": 4340.7,
                        "bin_end": 4958.8,
                        "count": 0
                      },
                      {
                        "bin_start": 4958.8,
                        "bin_end": 5576.900000000001,
                        "count": 3
                      },
                      {
                        "bin_start": 5576.900000000001,
                        "bin_end": 6195,
                        "count": 3
                      }
                    ]
                  }
                },
                {
                  "name": "apple",
                  "dtype": "float64",
                  "stats": {
                    "unique_count": 8,
                    "nan_count": 0,
                    "min": "14.0",
                    "max": "4658.0",
                    "histogram": [
                      {
                        "bin_start": 14,
                        "bin_end": 478.4,
                        "count": 2
                      },
                      {
                        "bin_start": 478.4,
                        "bin_end": 942.8,
                        "count": 0
                      },
                      {
                        "bin_start": 942.8,
                        "bin_end": 1407.1999999999998,
                        "count": 0
                      },
                      {
                        "bin_start": 1407.1999999999998,
                        "bin_end": 1871.6,
                        "count": 0
                      },
                      {
                        "bin_start": 1871.6,
                        "bin_end": 2336,
                        "count": 0
                      },
                      {
                        "bin_start": 2336,
                        "bin_end": 2800.3999999999996,
                        "count": 0
                      },
                      {
                        "bin_start": 2800.3999999999996,
                        "bin_end": 3264.7999999999997,
                        "count": 0
                      },
                      {
                        "bin_start": 3264.7999999999997,
                        "bin_end": 3729.2,
                        "count": 0
                      },
                      {
                        "bin_start": 3729.2,
                        "bin_end": 4193.599999999999,
                        "count": 1
                      },
                      {
                        "bin_start": 4193.599999999999,
                        "bin_end": 4658,
                        "count": 5
                      }
                    ]
                  }
                },
                {
                  "name": "_deepnote_index_column",
                  "dtype": "object"
                }
              ],
              "rows": [
                {
                  "android": 14,
                  "apple": 14,
                  "_deepnote_index_column": "count"
                },
                {
                  "android": 5626.21,
                  "apple": 4350.57,
                  "_deepnote_index_column": "mean"
                },
                {
                  "android": 314.96,
                  "apple": 203.96,
                  "_deepnote_index_column": "std"
                },
                {
                  "android": 5192,
                  "apple": 4009,
                  "_deepnote_index_column": "min"
                },
                {
                  "android": 5397.5,
                  "apple": 4194,
                  "_deepnote_index_column": "25%"
                },
                {
                  "android": 5543,
                  "apple": 4337,
                  "_deepnote_index_column": "50%"
                },
                {
                  "android": 5878.5,
                  "apple": 4519.75,
                  "_deepnote_index_column": "75%"
                },
                {
                  "android": 6195,
                  "apple": 4658,
                  "_deepnote_index_column": "max"
                }
              ]
            },
            "text/plain": "platform  android    apple\ncount       14.00    14.00\nmean      5626.21  4350.57\nstd        314.96   203.96\nmin       5192.00  4009.00\n25%       5397.50  4194.00\n50%       5543.00  4337.00\n75%       5878.50  4519.75\nmax       6195.00  4658.00",
            "text/html": "<div>\n<style scoped>\n    .dataframe tbody tr th:only-of-type {\n        vertical-align: middle;\n    }\n\n    .dataframe tbody tr th {\n        vertical-align: top;\n    }\n\n    .dataframe thead th {\n        text-align: right;\n    }\n</style>\n<table border=\"1\" class=\"dataframe\">\n  <thead>\n    <tr style=\"text-align: right;\">\n      <th>platform</th>\n      <th>android</th>\n      <th>apple</th>\n    </tr>\n  </thead>\n  <tbody>\n    <tr>\n      <th>count</th>\n      <td>14.00</td>\n      <td>14.00</td>\n    </tr>\n    <tr>\n      <th>mean</th>\n      <td>5626.21</td>\n      <td>4350.57</td>\n    </tr>\n    <tr>\n      <th>std</th>\n      <td>314.96</td>\n      <td>203.96</td>\n    </tr>\n    <tr>\n      <th>min</th>\n      <td>5192.00</td>\n      <td>4009.00</td>\n    </tr>\n    <tr>\n      <th>25%</th>\n      <td>5397.50</td>\n      <td>4194.00</td>\n    </tr>\n    <tr>\n      <th>50%</th>\n      <td>5543.00</td>\n      <td>4337.00</td>\n    </tr>\n    <tr>\n      <th>75%</th>\n      <td>5878.50</td>\n      <td>4519.75</td>\n    </tr>\n    <tr>\n      <th>max</th>\n      <td>6195.00</td>\n      <td>4658.00</td>\n    </tr>\n  </tbody>\n</table>\n</div>"
          },
          "metadata": {}
        }
      ],
      "execution_count": null,
      "block_group": "1d66d6dcfee14906b70d9d2881a54c9e"
    },
    {
      "cell_type": "markdown",
      "source": "- The standard deviation, a measure of the variability of a set of values, is also higher for Android (314.96) compared to Apple (203.96). A higher standard deviation means that the number of daily unique users varies more from day to day on Android than on Apple. \n- The minimum and maximum number of daily unique users are also both higher on Android compared to Apple. \n- Looking at the proportions over time, we can see that the predominance of users on Android is constantly higher than on Apple, what might indicate that the app is already matured and stable on both platforms.\n- The proportion of users on Android and Apple platforms remain relatively consistent over time, with Android consistently having a higher proportion of users (around 56%) compared to Apple (around 44%).\n- There does not seem to be any significant fluctuations or upward/downward trends in the proportions over the time period observed.",
      "metadata": {
        "deepnote_app_coordinates": {
          "h": 120,
          "w": 12,
          "x": 0,
          "y": 0
        },
        "cell_id": "fcc8d7c587b346ffb27e8e522c4c08cb",
        "deepnote_cell_type": "markdown"
      },
      "block_group": "b476ab64f6534495a2b13b7bf61f5a43"
    },
    {
      "cell_type": "markdown",
      "source": "From this, we can suggest that marketing efforts and app development could focus more on Android users due to their larger numbers and higher daily variability. However, it's also important not to neglect the Apple user base. As a next step, let's look at the proportion of daily active users by platform using the `platform_user_counts` data.",
      "metadata": {
        "formattedRanges": [
          {
            "type": "marks",
            "marks": {
              "code": true
            },
            "toCodePoint": 343,
            "fromCodePoint": 0
          }
        ],
        "cell_id": "eb6a2ca1634f4970b08c8f6a690a90e2",
        "deepnote_cell_type": "text-cell-p"
      },
      "block_group": "fdc627daa1bc4d41a764dc7365b93739"
    },
    {
      "cell_type": "markdown",
      "source": "",
      "metadata": {
        "formattedRanges": [],
        "cell_id": "1c6460b0b3af4ff38854351a2e798be7",
        "deepnote_cell_type": "text-cell-p"
      },
      "block_group": "47ccc5d94ad24ad2ac3753c57622fc7f"
    },
    {
      "cell_type": "markdown",
      "source": "\n\n\n2. \n\n#### Insights:\n\n- The consistency in the proportion of users across different platforms suggests that the user behavior and preferences remain stable over time. \n\n- The higher proportion of Android users indicates that the app is more popular among Android users. This could be due to various reasons such as user experience, app performance, and availability of features.\n\n#### Suggestions:\n\n- While the current user base is more Android-heavy, it is also crucial to not overlook the Apple user base. Dedicating resources on both platforms could improve user experience and potentially draw in more users.\n\n- Given the stable proportion of Android and Apple users, the development team could focus on improving the app’s features and performance on both platforms rather than prioritizing one over another.\n\n- Running promotional campaigns or introducing new features could potentially shift the proportion and increase user base on both platforms. It would be helpful to monitor changes in the proportion, especially after making significant updates to the app.\n\nNext, I will proceed to analyze the average length of user sessions across both platforms based on the `session_lengths` DataFrame. This could provide valuable insights into user engagement. Let's compute the descriptive statistics (mean, min, max, etc) of the session lengths for each platform. I'll also generate box plots to visualize the distribution of session lengths.",
      "metadata": {
        "formattedRanges": [],
        "cell_id": "b6f560919e7f4b139e67027110d3b8c5",
        "deepnote_cell_type": "text-cell-p"
      },
      "block_group": "4e7bb1b5b08444679fa4c468324fdd3b"
    },
    {
      "cell_type": "code",
      "source": "# Import necessary library\r\nimport seaborn as sns\r\n\r\n# Create figure and axis\r\nfig, ax = plt.subplots(figsize=(8, 6))\r\n\r\n# Draw a boxplot for session lengths of each platform\r\nsns.boxplot(ax=ax, x='platform', y='length_minutes', data=session_lengths, showfliers = False)\r\n\r\n# Setting plot title\r\nax.set_title('Boxplot of Session Lengths by Platform')\r\n\r\n# Showing the plot\r\nplt.show()",
      "metadata": {
        "source_hash": "fd6883f3",
        "execution_start": 1703151594506,
        "execution_millis": 198,
        "deepnote_to_be_reexecuted": true,
        "cell_id": "fabfc14e75354867ba98c6a7abd67146",
        "deepnote_cell_type": "code"
      },
      "outputs": [
        {
          "data": {
            "text/plain": "<Figure size 800x600 with 1 Axes>",
            "image/png": "[encoded data removed]"
          },
          "metadata": {
            "image/png": {
              "width": 686,
              "height": 556
            }
          },
          "output_type": "display_data"
        }
      ],
      "execution_count": null,
      "block_group": "c919b7f307254fdf9849e7537d9e8d7c"
    },
    {
      "cell_type": "code",
      "source": "session_lengths = events.groupby(['session_skey','user_skey', 'platform'])['date_time'].agg(['min', 'max'])\r\nsession_lengths['length_minutes'] = (session_lengths['max'] - session_lengths['min']).dt.total_seconds()/60\r\nsession_lengths.reset_index(inplace=True)\r\nprint(\"In-app time spent: \") \r\nsession_lengths.groupby('platform')['length_minutes'].describe( ).round(3)",
      "metadata": {
        "source_hash": "fe34a36e",
        "execution_start": 1703151607630,
        "execution_millis": 1323,
        "deepnote_to_be_reexecuted": true,
        "cell_id": "6c9e73980c034ec680e73e05c81b36f0",
        "deepnote_cell_type": "code"
      },
      "outputs": [
        {
          "name": "stdout",
          "text": "In-app time spent: \n",
          "output_type": "stream"
        },
        {
          "output_type": "execute_result",
          "execution_count": 35,
          "data": {
            "application/vnd.deepnote.dataframe.v3+json": {
              "column_count": 8,
              "row_count": 2,
              "columns": [
                {
                  "name": "count",
                  "dtype": "float64",
                  "stats": {
                    "unique_count": 2,
                    "nan_count": 0,
                    "min": "65332.0",
                    "max": "106763.0",
                    "histogram": [
                      {
                        "bin_start": 65332,
                        "bin_end": 69475.1,
                        "count": 1
                      },
                      {
                        "bin_start": 69475.1,
                        "bin_end": 73618.2,
                        "count": 0
                      },
                      {
                        "bin_start": 73618.2,
                        "bin_end": 77761.3,
                        "count": 0
                      },
                      {
                        "bin_start": 77761.3,
                        "bin_end": 81904.4,
                        "count": 0
                      },
                      {
                        "bin_start": 81904.4,
                        "bin_end": 86047.5,
                        "count": 0
                      },
                      {
                        "bin_start": 86047.5,
                        "bin_end": 90190.6,
                        "count": 0
                      },
                      {
                        "bin_start": 90190.6,
                        "bin_end": 94333.70000000001,
                        "count": 0
                      },
                      {
                        "bin_start": 94333.70000000001,
                        "bin_end": 98476.8,
                        "count": 0
                      },
                      {
                        "bin_start": 98476.8,
                        "bin_end": 102619.9,
                        "count": 0
                      },
                      {
                        "bin_start": 102619.9,
                        "bin_end": 106763,
                        "count": 1
                      }
                    ]
                  }
                },
                {
                  "name": "mean",
                  "dtype": "float64",
                  "stats": {
                    "unique_count": 2,
                    "nan_count": 0,
                    "min": "3.309",
                    "max": "3.376",
                    "histogram": [
                      {
                        "bin_start": 3.309,
                        "bin_end": 3.3157,
                        "count": 1
                      },
                      {
                        "bin_start": 3.3157,
                        "bin_end": 3.3224,
                        "count": 0
                      },
                      {
                        "bin_start": 3.3224,
                        "bin_end": 3.3291,
                        "count": 0
                      },
                      {
                        "bin_start": 3.3291,
                        "bin_end": 3.3358,
                        "count": 0
                      },
                      {
                        "bin_start": 3.3358,
                        "bin_end": 3.3425000000000002,
                        "count": 0
                      },
                      {
                        "bin_start": 3.3425000000000002,
                        "bin_end": 3.3492,
                        "count": 0
                      },
                      {
                        "bin_start": 3.3492,
                        "bin_end": 3.3559,
                        "count": 0
                      },
                      {
                        "bin_start": 3.3559,
                        "bin_end": 3.3626,
                        "count": 0
                      },
                      {
                        "bin_start": 3.3626,
                        "bin_end": 3.3693,
                        "count": 0
                      },
                      {
                        "bin_start": 3.3693,
                        "bin_end": 3.376,
                        "count": 1
                      }
                    ]
                  }
                },
                {
                  "name": "std",
                  "dtype": "float64",
                  "stats": {
                    "unique_count": 2,
                    "nan_count": 0,
                    "min": "10.928",
                    "max": "15.945",
                    "histogram": [
                      {
                        "bin_start": 10.928,
                        "bin_end": 11.4297,
                        "count": 1
                      },
                      {
                        "bin_start": 11.4297,
                        "bin_end": 11.9314,
                        "count": 0
                      },
                      {
                        "bin_start": 11.9314,
                        "bin_end": 12.4331,
                        "count": 0
                      },
                      {
                        "bin_start": 12.4331,
                        "bin_end": 12.934800000000001,
                        "count": 0
                      },
                      {
                        "bin_start": 12.934800000000001,
                        "bin_end": 13.4365,
                        "count": 0
                      },
                      {
                        "bin_start": 13.4365,
                        "bin_end": 13.9382,
                        "count": 0
                      },
                      {
                        "bin_start": 13.9382,
                        "bin_end": 14.4399,
                        "count": 0
                      },
                      {
                        "bin_start": 14.4399,
                        "bin_end": 14.941600000000001,
                        "count": 0
                      },
                      {
                        "bin_start": 14.941600000000001,
                        "bin_end": 15.4433,
                        "count": 0
                      },
                      {
                        "bin_start": 15.4433,
                        "bin_end": 15.945,
                        "count": 1
                      }
                    ]
                  }
                },
                {
                  "name": "min",
                  "dtype": "float64",
                  "stats": {
                    "unique_count": 1,
                    "nan_count": 0,
                    "min": "0.0",
                    "max": "0.0",
                    "histogram": [
                      {
                        "bin_start": -0.5,
                        "bin_end": -0.4,
                        "count": 0
                      },
                      {
                        "bin_start": -0.4,
                        "bin_end": -0.3,
                        "count": 0
                      },
                      {
                        "bin_start": -0.3,
                        "bin_end": -0.19999999999999996,
                        "count": 0
                      },
                      {
                        "bin_start": -0.19999999999999996,
                        "bin_end": -0.09999999999999998,
                        "count": 0
                      },
                      {
                        "bin_start": -0.09999999999999998,
                        "bin_end": 0,
                        "count": 0
                      },
                      {
                        "bin_start": 0,
                        "bin_end": 0.10000000000000009,
                        "count": 2
                      },
                      {
                        "bin_start": 0.10000000000000009,
                        "bin_end": 0.20000000000000007,
                        "count": 0
                      },
                      {
                        "bin_start": 0.20000000000000007,
                        "bin_end": 0.30000000000000004,
                        "count": 0
                      },
                      {
                        "bin_start": 0.30000000000000004,
                        "bin_end": 0.4,
                        "count": 0
                      },
                      {
                        "bin_start": 0.4,
                        "bin_end": 0.5,
                        "count": 0
                      }
                    ]
                  }
                },
                {
                  "name": "25%",
                  "dtype": "float64",
                  "stats": {
                    "unique_count": 1,
                    "nan_count": 0,
                    "min": "0.1",
                    "max": "0.1",
                    "histogram": [
                      {
                        "bin_start": -0.4,
                        "bin_end": -0.30000000000000004,
                        "count": 0
                      },
                      {
                        "bin_start": -0.30000000000000004,
                        "bin_end": -0.2,
                        "count": 0
                      },
                      {
                        "bin_start": -0.2,
                        "bin_end": -0.09999999999999998,
                        "count": 0
                      },
                      {
                        "bin_start": -0.09999999999999998,
                        "bin_end": 0,
                        "count": 0
                      },
                      {
                        "bin_start": 0,
                        "bin_end": 0.09999999999999998,
                        "count": 0
                      },
                      {
                        "bin_start": 0.09999999999999998,
                        "bin_end": 0.20000000000000007,
                        "count": 2
                      },
                      {
                        "bin_start": 0.20000000000000007,
                        "bin_end": 0.30000000000000004,
                        "count": 0
                      },
                      {
                        "bin_start": 0.30000000000000004,
                        "bin_end": 0.4,
                        "count": 0
                      },
                      {
                        "bin_start": 0.4,
                        "bin_end": 0.5,
                        "count": 0
                      },
                      {
                        "bin_start": 0.5,
                        "bin_end": 0.6,
                        "count": 0
                      }
                    ]
                  }
                },
                {
                  "name": "50%",
                  "dtype": "float64",
                  "stats": {
                    "unique_count": 2,
                    "nan_count": 0,
                    "min": "1.033",
                    "max": "1.05",
                    "histogram": [
                      {
                        "bin_start": 1.033,
                        "bin_end": 1.0347,
                        "count": 1
                      },
                      {
                        "bin_start": 1.0347,
                        "bin_end": 1.0364,
                        "count": 0
                      },
                      {
                        "bin_start": 1.0364,
                        "bin_end": 1.0381,
                        "count": 0
                      },
                      {
                        "bin_start": 1.0381,
                        "bin_end": 1.0398,
                        "count": 0
                      },
                      {
                        "bin_start": 1.0398,
                        "bin_end": 1.0415,
                        "count": 0
                      },
                      {
                        "bin_start": 1.0415,
                        "bin_end": 1.0432,
                        "count": 0
                      },
                      {
                        "bin_start": 1.0432,
                        "bin_end": 1.0449,
                        "count": 0
                      },
                      {
                        "bin_start": 1.0449,
                        "bin_end": 1.0466,
                        "count": 0
                      },
                      {
                        "bin_start": 1.0466,
                        "bin_end": 1.0483,
                        "count": 0
                      },
                      {
                        "bin_start": 1.0483,
                        "bin_end": 1.05,
                        "count": 1
                      }
                    ]
                  }
                },
                {
                  "name": "75%",
                  "dtype": "float64",
                  "stats": {
                    "unique_count": 2,
                    "nan_count": 0,
                    "min": "3.533",
                    "max": "3.817",
                    "histogram": [
                      {
                        "bin_start": 3.533,
                        "bin_end": 3.5614,
                        "count": 1
                      },
                      {
                        "bin_start": 3.5614,
                        "bin_end": 3.5898,
                        "count": 0
                      },
                      {
                        "bin_start": 3.5898,
                        "bin_end": 3.6182,
                        "count": 0
                      },
                      {
                        "bin_start": 3.6182,
                        "bin_end": 3.6466,
                        "count": 0
                      },
                      {
                        "bin_start": 3.6466,
                        "bin_end": 3.675,
                        "count": 0
                      },
                      {
                        "bin_start": 3.675,
                        "bin_end": 3.7034000000000002,
                        "count": 0
                      },
                      {
                        "bin_start": 3.7034000000000002,
                        "bin_end": 3.7318000000000002,
                        "count": 0
                      },
                      {
                        "bin_start": 3.7318000000000002,
                        "bin_end": 3.7602,
                        "count": 0
                      },
                      {
                        "bin_start": 3.7602,
                        "bin_end": 3.7886,
                        "count": 0
                      },
                      {
                        "bin_start": 3.7886,
                        "bin_end": 3.817,
                        "count": 1
                      }
                    ]
                  }
                },
                {
                  "name": "max",
                  "dtype": "float64",
                  "stats": {
                    "unique_count": 2,
                    "nan_count": 0,
                    "min": "2785.383",
                    "max": "2869.733",
                    "histogram": [
                      {
                        "bin_start": 2785.383,
                        "bin_end": 2793.8179999999998,
                        "count": 1
                      },
                      {
                        "bin_start": 2793.8179999999998,
                        "bin_end": 2802.2529999999997,
                        "count": 0
                      },
                      {
                        "bin_start": 2802.2529999999997,
                        "bin_end": 2810.688,
                        "count": 0
                      },
                      {
                        "bin_start": 2810.688,
                        "bin_end": 2819.123,
                        "count": 0
                      },
                      {
                        "bin_start": 2819.123,
                        "bin_end": 2827.558,
                        "count": 0
                      },
                      {
                        "bin_start": 2827.558,
                        "bin_end": 2835.993,
                        "count": 0
                      },
                      {
                        "bin_start": 2835.993,
                        "bin_end": 2844.428,
                        "count": 0
                      },
                      {
                        "bin_start": 2844.428,
                        "bin_end": 2852.8630000000003,
                        "count": 0
                      },
                      {
                        "bin_start": 2852.8630000000003,
                        "bin_end": 2861.2980000000002,
                        "count": 0
                      },
                      {
                        "bin_start": 2861.2980000000002,
                        "bin_end": 2869.733,
                        "count": 1
                      }
                    ]
                  }
                },
                {
                  "name": "_deepnote_index_column",
                  "dtype": "object"
                }
              ],
              "rows": [
                {
                  "count": 106763,
                  "mean": 3.376,
                  "std": 10.928,
                  "min": 0,
                  "25%": 0.1,
                  "50%": 1.05,
                  "75%": 3.817,
                  "max": 2869.733,
                  "_deepnote_index_column": "android"
                },
                {
                  "count": 65332,
                  "mean": 3.309,
                  "std": 15.945,
                  "min": 0,
                  "25%": 0.1,
                  "50%": 1.033,
                  "75%": 3.533,
                  "max": 2785.383,
                  "_deepnote_index_column": "apple"
                }
              ]
            },
            "text/plain": "             count   mean     std  min  25%    50%    75%       max\nplatform                                                           \nandroid   106763.0  3.376  10.928  0.0  0.1  1.050  3.817  2869.733\napple      65332.0  3.309  15.945  0.0  0.1  1.033  3.533  2785.383",
            "text/html": "<div>\n<style scoped>\n    .dataframe tbody tr th:only-of-type {\n        vertical-align: middle;\n    }\n\n    .dataframe tbody tr th {\n        vertical-align: top;\n    }\n\n    .dataframe thead th {\n        text-align: right;\n    }\n</style>\n<table border=\"1\" class=\"dataframe\">\n  <thead>\n    <tr style=\"text-align: right;\">\n      <th></th>\n      <th>count</th>\n      <th>mean</th>\n      <th>std</th>\n      <th>min</th>\n      <th>25%</th>\n      <th>50%</th>\n      <th>75%</th>\n      <th>max</th>\n    </tr>\n    <tr>\n      <th>platform</th>\n      <th></th>\n      <th></th>\n      <th></th>\n      <th></th>\n      <th></th>\n      <th></th>\n      <th></th>\n      <th></th>\n    </tr>\n  </thead>\n  <tbody>\n    <tr>\n      <th>android</th>\n      <td>106763.0</td>\n      <td>3.376</td>\n      <td>10.928</td>\n      <td>0.0</td>\n      <td>0.1</td>\n      <td>1.050</td>\n      <td>3.817</td>\n      <td>2869.733</td>\n    </tr>\n    <tr>\n      <th>apple</th>\n      <td>65332.0</td>\n      <td>3.309</td>\n      <td>15.945</td>\n      <td>0.0</td>\n      <td>0.1</td>\n      <td>1.033</td>\n      <td>3.533</td>\n      <td>2785.383</td>\n    </tr>\n  </tbody>\n</table>\n</div>"
          },
          "metadata": {}
        }
      ],
      "execution_count": null,
      "block_group": "81e3053a4a254429b2bd3fb0e510c046"
    },
    {
      "cell_type": "markdown",
      "source": "#### In-app times spent\n\nRelated to time spent in-app per session, both platforms have similar time, with Android having a slightly higher average and median.\n\n#### A more detailed analysis can be performed:\n\n1. **Distribution and Outliers**: High session lengths with a low amount of events could represent users who leave the app open without interacting with it, while low session lengths might indicate issues that cause users to leave the > app early. \n    > A feature could be introduced to confirm if the user is still active, or the app could automatically close or pause after a certain period of inactivity to save resources. \n    > If session lengths are consistently low for either platform, this suggests an issue that affects user experience. More in-depth user behavior analytics or user feedback could help identify any problem areas or bugs that need to be addressed.\n\n2. **Compare Platforms**: If there are significant differences, this could highlight platform-specific issues or usage patterns.\n\n3. **Trends Over Time**: Evaluate if there are any trends or changes in session length over time. This can provide insights into the impact of updates or changes to the app. \n\n4. **Correlation with Other Factors**: Analyze if session length correlates with other factors like particular events or sources of visitors.\n\n#### Actionable suggestions:\n=====================\n1. **Investigate High Session Lengths**: If there are users who have high session lengths with minimal events, the app could introduce a feature to confirm if the user is still active or to automatically pause/close after a certain period of inactivity. This could save server resources and offer a better user experience.\n\n2. **Investigate Low Session Lengths**: If there are users who consistently have low session lengths, this could indicate a problem with the user experience. User feedback or further analysis could help identify any potential issues or bugs that need to be addressed.\n\n3. **Observe Changes Over Time**: If there are noticeable changes in session length over time following updates or changes to the app, this could inform the impact and success of these changes. For example, if session length increases following a new feature launch, this could suggest the feature was well-received.\n\n4. **Correlation with Other Factors**: If session length correlates with specific events or visitor sources, this can inform user acquisition strategy. For example, if users coming from a certain source tend to have longer sessions, it might be worth investing more in that acquisition channel.\n\n",
      "metadata": {
        "cell_id": "95b4f1863bd748f4b1b614b0ceac259d",
        "deepnote_cell_type": "text-cell-p"
      },
      "block_group": "1b61e3d5903b4531bd0d0d738b0dfb1f"
    },
    {
      "cell_type": "code",
      "source": "session_lengths = events.groupby(['session_skey','user_skey', 'platform'])['date_time'].agg(['min', 'max'])\nsession_lengths['length_minutes'] = (session_lengths['max'] - session_lengths['min']).dt.total_seconds()/60\nsession_lengths.reset_index(inplace=True)\nprint(\"In-app time spent: \") \nsession_lengths.groupby('platform')['length_minutes'].describe( ).round(3)",
      "metadata": {
        "source_hash": "71f02428",
        "execution_start": 1703150783923,
        "execution_millis": 1275,
        "deepnote_table_state": {
          "sortBy": [
            {
              "id": "session_skey",
              "type": "asc"
            }
          ],
          "filters": [],
          "pageSize": 10,
          "pageIndex": 0
        },
        "deepnote_table_loading": false,
        "deepnote_app_coordinates": {
          "h": 120,
          "w": 12,
          "x": 0,
          "y": 0
        },
        "deepnote_to_be_reexecuted": true,
        "deepnote_app_is_code_hidden": false,
        "cell_id": "9a9863d9046e4f5ba45a0ab6384aa696",
        "deepnote_cell_type": "code"
      },
      "outputs": [
        {
          "name": "stdout",
          "text": "In-app time spent: \n",
          "output_type": "stream"
        },
        {
          "output_type": "execute_result",
          "execution_count": 25,
          "data": {
            "application/vnd.deepnote.dataframe.v3+json": {
              "column_count": 8,
              "row_count": 2,
              "columns": [
                {
                  "name": "count",
                  "dtype": "float64",
                  "stats": {
                    "unique_count": 2,
                    "nan_count": 0,
                    "min": "65332.0",
                    "max": "106763.0",
                    "histogram": [
                      {
                        "bin_start": 65332,
                        "bin_end": 69475.1,
                        "count": 1
                      },
                      {
                        "bin_start": 69475.1,
                        "bin_end": 73618.2,
                        "count": 0
                      },
                      {
                        "bin_start": 73618.2,
                        "bin_end": 77761.3,
                        "count": 0
                      },
                      {
                        "bin_start": 77761.3,
                        "bin_end": 81904.4,
                        "count": 0
                      },
                      {
                        "bin_start": 81904.4,
                        "bin_end": 86047.5,
                        "count": 0
                      },
                      {
                        "bin_start": 86047.5,
                        "bin_end": 90190.6,
                        "count": 0
                      },
                      {
                        "bin_start": 90190.6,
                        "bin_end": 94333.70000000001,
                        "count": 0
                      },
                      {
                        "bin_start": 94333.70000000001,
                        "bin_end": 98476.8,
                        "count": 0
                      },
                      {
                        "bin_start": 98476.8,
                        "bin_end": 102619.9,
                        "count": 0
                      },
                      {
                        "bin_start": 102619.9,
                        "bin_end": 106763,
                        "count": 1
                      }
                    ]
                  }
                },
                {
                  "name": "mean",
                  "dtype": "float64",
                  "stats": {
                    "unique_count": 2,
                    "nan_count": 0,
                    "min": "3.309",
                    "max": "3.376",
                    "histogram": [
                      {
                        "bin_start": 3.309,
                        "bin_end": 3.3157,
                        "count": 1
                      },
                      {
                        "bin_start": 3.3157,
                        "bin_end": 3.3224,
                        "count": 0
                      },
                      {
                        "bin_start": 3.3224,
                        "bin_end": 3.3291,
                        "count": 0
                      },
                      {
                        "bin_start": 3.3291,
                        "bin_end": 3.3358,
                        "count": 0
                      },
                      {
                        "bin_start": 3.3358,
                        "bin_end": 3.3425000000000002,
                        "count": 0
                      },
                      {
                        "bin_start": 3.3425000000000002,
                        "bin_end": 3.3492,
                        "count": 0
                      },
                      {
                        "bin_start": 3.3492,
                        "bin_end": 3.3559,
                        "count": 0
                      },
                      {
                        "bin_start": 3.3559,
                        "bin_end": 3.3626,
                        "count": 0
                      },
                      {
                        "bin_start": 3.3626,
                        "bin_end": 3.3693,
                        "count": 0
                      },
                      {
                        "bin_start": 3.3693,
                        "bin_end": 3.376,
                        "count": 1
                      }
                    ]
                  }
                },
                {
                  "name": "std",
                  "dtype": "float64",
                  "stats": {
                    "unique_count": 2,
                    "nan_count": 0,
                    "min": "10.928",
                    "max": "15.945",
                    "histogram": [
                      {
                        "bin_start": 10.928,
                        "bin_end": 11.4297,
                        "count": 1
                      },
                      {
                        "bin_start": 11.4297,
                        "bin_end": 11.9314,
                        "count": 0
                      },
                      {
                        "bin_start": 11.9314,
                        "bin_end": 12.4331,
                        "count": 0
                      },
                      {
                        "bin_start": 12.4331,
                        "bin_end": 12.934800000000001,
                        "count": 0
                      },
                      {
                        "bin_start": 12.934800000000001,
                        "bin_end": 13.4365,
                        "count": 0
                      },
                      {
                        "bin_start": 13.4365,
                        "bin_end": 13.9382,
                        "count": 0
                      },
                      {
                        "bin_start": 13.9382,
                        "bin_end": 14.4399,
                        "count": 0
                      },
                      {
                        "bin_start": 14.4399,
                        "bin_end": 14.941600000000001,
                        "count": 0
                      },
                      {
                        "bin_start": 14.941600000000001,
                        "bin_end": 15.4433,
                        "count": 0
                      },
                      {
                        "bin_start": 15.4433,
                        "bin_end": 15.945,
                        "count": 1
                      }
                    ]
                  }
                },
                {
                  "name": "min",
                  "dtype": "float64",
                  "stats": {
                    "unique_count": 1,
                    "nan_count": 0,
                    "min": "0.0",
                    "max": "0.0",
                    "histogram": [
                      {
                        "bin_start": -0.5,
                        "bin_end": -0.4,
                        "count": 0
                      },
                      {
                        "bin_start": -0.4,
                        "bin_end": -0.3,
                        "count": 0
                      },
                      {
                        "bin_start": -0.3,
                        "bin_end": -0.19999999999999996,
                        "count": 0
                      },
                      {
                        "bin_start": -0.19999999999999996,
                        "bin_end": -0.09999999999999998,
                        "count": 0
                      },
                      {
                        "bin_start": -0.09999999999999998,
                        "bin_end": 0,
                        "count": 0
                      },
                      {
                        "bin_start": 0,
                        "bin_end": 0.10000000000000009,
                        "count": 2
                      },
                      {
                        "bin_start": 0.10000000000000009,
                        "bin_end": 0.20000000000000007,
                        "count": 0
                      },
                      {
                        "bin_start": 0.20000000000000007,
                        "bin_end": 0.30000000000000004,
                        "count": 0
                      },
                      {
                        "bin_start": 0.30000000000000004,
                        "bin_end": 0.4,
                        "count": 0
                      },
                      {
                        "bin_start": 0.4,
                        "bin_end": 0.5,
                        "count": 0
                      }
                    ]
                  }
                },
                {
                  "name": "25%",
                  "dtype": "float64",
                  "stats": {
                    "unique_count": 1,
                    "nan_count": 0,
                    "min": "0.1",
                    "max": "0.1",
                    "histogram": [
                      {
                        "bin_start": -0.4,
                        "bin_end": -0.30000000000000004,
                        "count": 0
                      },
                      {
                        "bin_start": -0.30000000000000004,
                        "bin_end": -0.2,
                        "count": 0
                      },
                      {
                        "bin_start": -0.2,
                        "bin_end": -0.09999999999999998,
                        "count": 0
                      },
                      {
                        "bin_start": -0.09999999999999998,
                        "bin_end": 0,
                        "count": 0
                      },
                      {
                        "bin_start": 0,
                        "bin_end": 0.09999999999999998,
                        "count": 0
                      },
                      {
                        "bin_start": 0.09999999999999998,
                        "bin_end": 0.20000000000000007,
                        "count": 2
                      },
                      {
                        "bin_start": 0.20000000000000007,
                        "bin_end": 0.30000000000000004,
                        "count": 0
                      },
                      {
                        "bin_start": 0.30000000000000004,
                        "bin_end": 0.4,
                        "count": 0
                      },
                      {
                        "bin_start": 0.4,
                        "bin_end": 0.5,
                        "count": 0
                      },
                      {
                        "bin_start": 0.5,
                        "bin_end": 0.6,
                        "count": 0
                      }
                    ]
                  }
                },
                {
                  "name": "50%",
                  "dtype": "float64",
                  "stats": {
                    "unique_count": 2,
                    "nan_count": 0,
                    "min": "1.033",
                    "max": "1.05",
                    "histogram": [
                      {
                        "bin_start": 1.033,
                        "bin_end": 1.0347,
                        "count": 1
                      },
                      {
                        "bin_start": 1.0347,
                        "bin_end": 1.0364,
                        "count": 0
                      },
                      {
                        "bin_start": 1.0364,
                        "bin_end": 1.0381,
                        "count": 0
                      },
                      {
                        "bin_start": 1.0381,
                        "bin_end": 1.0398,
                        "count": 0
                      },
                      {
                        "bin_start": 1.0398,
                        "bin_end": 1.0415,
                        "count": 0
                      },
                      {
                        "bin_start": 1.0415,
                        "bin_end": 1.0432,
                        "count": 0
                      },
                      {
                        "bin_start": 1.0432,
                        "bin_end": 1.0449,
                        "count": 0
                      },
                      {
                        "bin_start": 1.0449,
                        "bin_end": 1.0466,
                        "count": 0
                      },
                      {
                        "bin_start": 1.0466,
                        "bin_end": 1.0483,
                        "count": 0
                      },
                      {
                        "bin_start": 1.0483,
                        "bin_end": 1.05,
                        "count": 1
                      }
                    ]
                  }
                },
                {
                  "name": "75%",
                  "dtype": "float64",
                  "stats": {
                    "unique_count": 2,
                    "nan_count": 0,
                    "min": "3.533",
                    "max": "3.817",
                    "histogram": [
                      {
                        "bin_start": 3.533,
                        "bin_end": 3.5614,
                        "count": 1
                      },
                      {
                        "bin_start": 3.5614,
                        "bin_end": 3.5898,
                        "count": 0
                      },
                      {
                        "bin_start": 3.5898,
                        "bin_end": 3.6182,
                        "count": 0
                      },
                      {
                        "bin_start": 3.6182,
                        "bin_end": 3.6466,
                        "count": 0
                      },
                      {
                        "bin_start": 3.6466,
                        "bin_end": 3.675,
                        "count": 0
                      },
                      {
                        "bin_start": 3.675,
                        "bin_end": 3.7034000000000002,
                        "count": 0
                      },
                      {
                        "bin_start": 3.7034000000000002,
                        "bin_end": 3.7318000000000002,
                        "count": 0
                      },
                      {
                        "bin_start": 3.7318000000000002,
                        "bin_end": 3.7602,
                        "count": 0
                      },
                      {
                        "bin_start": 3.7602,
                        "bin_end": 3.7886,
                        "count": 0
                      },
                      {
                        "bin_start": 3.7886,
                        "bin_end": 3.817,
                        "count": 1
                      }
                    ]
                  }
                },
                {
                  "name": "max",
                  "dtype": "float64",
                  "stats": {
                    "unique_count": 2,
                    "nan_count": 0,
                    "min": "2785.383",
                    "max": "2869.733",
                    "histogram": [
                      {
                        "bin_start": 2785.383,
                        "bin_end": 2793.8179999999998,
                        "count": 1
                      },
                      {
                        "bin_start": 2793.8179999999998,
                        "bin_end": 2802.2529999999997,
                        "count": 0
                      },
                      {
                        "bin_start": 2802.2529999999997,
                        "bin_end": 2810.688,
                        "count": 0
                      },
                      {
                        "bin_start": 2810.688,
                        "bin_end": 2819.123,
                        "count": 0
                      },
                      {
                        "bin_start": 2819.123,
                        "bin_end": 2827.558,
                        "count": 0
                      },
                      {
                        "bin_start": 2827.558,
                        "bin_end": 2835.993,
                        "count": 0
                      },
                      {
                        "bin_start": 2835.993,
                        "bin_end": 2844.428,
                        "count": 0
                      },
                      {
                        "bin_start": 2844.428,
                        "bin_end": 2852.8630000000003,
                        "count": 0
                      },
                      {
                        "bin_start": 2852.8630000000003,
                        "bin_end": 2861.2980000000002,
                        "count": 0
                      },
                      {
                        "bin_start": 2861.2980000000002,
                        "bin_end": 2869.733,
                        "count": 1
                      }
                    ]
                  }
                },
                {
                  "name": "_deepnote_index_column",
                  "dtype": "object"
                }
              ],
              "rows": [
                {
                  "count": 106763,
                  "mean": 3.376,
                  "std": 10.928,
                  "min": 0,
                  "25%": 0.1,
                  "50%": 1.05,
                  "75%": 3.817,
                  "max": 2869.733,
                  "_deepnote_index_column": "android"
                },
                {
                  "count": 65332,
                  "mean": 3.309,
                  "std": 15.945,
                  "min": 0,
                  "25%": 0.1,
                  "50%": 1.033,
                  "75%": 3.533,
                  "max": 2785.383,
                  "_deepnote_index_column": "apple"
                }
              ]
            },
            "text/plain": "             count   mean     std  min  25%    50%    75%       max\nplatform                                                           \nandroid   106763.0  3.376  10.928  0.0  0.1  1.050  3.817  2869.733\napple      65332.0  3.309  15.945  0.0  0.1  1.033  3.533  2785.383",
            "text/html": "<div>\n<style scoped>\n    .dataframe tbody tr th:only-of-type {\n        vertical-align: middle;\n    }\n\n    .dataframe tbody tr th {\n        vertical-align: top;\n    }\n\n    .dataframe thead th {\n        text-align: right;\n    }\n</style>\n<table border=\"1\" class=\"dataframe\">\n  <thead>\n    <tr style=\"text-align: right;\">\n      <th></th>\n      <th>count</th>\n      <th>mean</th>\n      <th>std</th>\n      <th>min</th>\n      <th>25%</th>\n      <th>50%</th>\n      <th>75%</th>\n      <th>max</th>\n    </tr>\n    <tr>\n      <th>platform</th>\n      <th></th>\n      <th></th>\n      <th></th>\n      <th></th>\n      <th></th>\n      <th></th>\n      <th></th>\n      <th></th>\n    </tr>\n  </thead>\n  <tbody>\n    <tr>\n      <th>android</th>\n      <td>106763.0</td>\n      <td>3.376</td>\n      <td>10.928</td>\n      <td>0.0</td>\n      <td>0.1</td>\n      <td>1.050</td>\n      <td>3.817</td>\n      <td>2869.733</td>\n    </tr>\n    <tr>\n      <th>apple</th>\n      <td>65332.0</td>\n      <td>3.309</td>\n      <td>15.945</td>\n      <td>0.0</td>\n      <td>0.1</td>\n      <td>1.033</td>\n      <td>3.533</td>\n      <td>2785.383</td>\n    </tr>\n  </tbody>\n</table>\n</div>"
          },
          "metadata": {}
        }
      ],
      "execution_count": null,
      "block_group": "180607bbdd2c429d9dfdaec539984383"
    },
    {
      "cell_type": "markdown",
      "source": "#### In-app times spent\nRelated to time spent in-app per session, both platforms have similar time, with Android having a slightly higher average and median.\n\n1. Distribution and Outliers: High session lengths with a low amount of events could represent users who leave the app open without interacting with it, while low session lengths might indicate issues that cause users to leave the > app early. \n    > A feature could be introduced to confirm if the user is still active, or the app could automatically close or pause after a certain period of inactivity to save resources. \n    > If session lengths are consistently low for either platform, this suggests an issue that affects user experience. More in-depth user behavior analytics or user feedback could help identify any problem areas or bugs that need to be addressed.\n\n2. Compare Platforms: If there are significant differences, this could highlight platform-specific issues or usage patterns.\n\n3. Trends Over Time: Evaluate if there are any trends or changes in session length over time. This can provide insights into the impact of updates or changes to the app. \n\n4. Correlation with Other Factors: Analyze if session length correlates with other factors like particular events or sources of visitors.\n\nActionable suggestions:\n=====================\nIf there are noticeable changes in session length over time following updates or changes to the app, this could inform the impact and success of these changes. For example, if session length increases following a new feature launch, this could suggest the feature was well-received.\n\n4. If session length correlates with specific events or visitor sources, this can inform user acquisition strategy. For example, if users coming from a certain source tend to have longer sessions, it might be worth investing more in that acquisition channel.\n\nLet's proceed with this analysis.",
      "metadata": {
        "deepnote_app_coordinates": {
          "h": 120,
          "w": 12,
          "x": 0,
          "y": 0
        },
        "cell_id": "f9368eda672b41f6b3fccb9e122218b9",
        "deepnote_cell_type": "markdown"
      },
      "block_group": "12d73e01c89348d2b149003d6168c479"
    },
    {
      "cell_type": "code",
      "source": "# Import necessary library\nimport matplotlib.pyplot as plt\nimport seaborn as sns\n\n# Set plot style\nsns.set(style=\"whitegrid\")\n\n# Create subplots\nfig, axes = plt.subplots(1, 2, figsize=(18, 6))\n\n# Boxplot for Android\nsns.boxplot(ax=axes[0], y=\"length_minutes\", data=session_lengths[session_lengths[\"platform\"] == \"android\"]).set_title('Android Session Lengths')\n\n# Boxplot for Apple\nsns.boxplot(ax=axes[1], y=\"length_minutes\", data=session_lengths[session_lengths[\"platform\"] == \"apple\"]).set_title('Apple Session Lengths')\n\n# Show the plot\nplt.show()",
      "metadata": {
        "source_hash": "be354f9c",
        "execution_start": 1703150914226,
        "execution_millis": 1453,
        "deepnote_to_be_reexecuted": true,
        "cell_id": "ce320a88847140dc9aba4fd95f6de49e",
        "deepnote_cell_type": "code"
      },
      "outputs": [
        {
          "data": {
            "text/plain": "<Figure size 1800x600 with 2 Axes>",
            "image/png": "[encoded data removed]"
          },
          "metadata": {
            "image/png": {
              "width": 1490,
              "height": 504
            }
          },
          "output_type": "display_data"
        }
      ],
      "execution_count": null,
      "block_group": "c217727c3d0941eda0cc13f428f2128c"
    },
    {
      "cell_type": "markdown",
      "source": "Here, I plotted two boxplots representing the distribution of session lengths for Android and Apple users. Outliers are displayed as points above and below the boxplot.\n\nFrom the plots, we observe that:\n\n1. The majority of sessions for both Android and Apple users are quite short, with most sessions being under 20 minutes. However, there are a significant number of outliers stretching as long as approximately 2900 minutes or about 48 hours.\n\n2. This suggests that majority of users engage with the app for short periods, but there are also users who keep the app open for extended periods, possibly even leaving it open in the background unintentionally.\n\nTo evaluate more granular session length patterns and any potential change across different times, we should also investigate session length variation over time.",
      "metadata": {
        "cell_id": "34ceaecc03a745588d4f5e397e3311b2",
        "deepnote_cell_type": "text-cell-p"
      },
      "block_group": "ab3b4269459141819dc90351540fe5fb"
    },
    {
      "cell_type": "code",
      "source": "# Resampling the session lengths data by day and calculating mean session length for each platform\r\nsession_lengths['min'] = pd.to_datetime(session_lengths['min'])\r\nsession_lengths.set_index('min', inplace=True)\r\n\r\n# Resampling and mean calculation\r\nsession_length_by_day = session_lengths.resample('D').mean()\r\n\r\n# Resetting index\r\nsession_length_by_day.reset_index(inplace=True)\r\n\r\n# Plotting\r\nfig, ax = plt.subplots(figsize=(16, 6))\r\nfor platform in ['android', 'apple']:\r\n    ax.plot(session_length_by_day.index, session_length_by_day[session_length_by_day['platform']==platform]['length_minutes'],\r\n             marker='o', linestyle='-', label=platform)\r\n\r\nax.set(xlabel=\"Date\", ylabel=\"Average Session Length (minutes) \",\r\n       title=\"Daily Avg Session Length by Platform\")\r\nax.legend()\r\n\r\nplt.show()",
      "metadata": {
        "source_hash": "73e7512b",
        "execution_start": 1703150963978,
        "execution_millis": 1783,
        "deepnote_to_be_reexecuted": true,
        "cell_id": "fe6fd4e6fb3a4fff8d0c3555686b0045",
        "deepnote_cell_type": "code"
      },
      "outputs": [
        {
          "output_type": "error",
          "ename": "KeyError",
          "evalue": "'platform'",
          "traceback": [
            "\u001b[0;31m---------------------------------------------------------------------------\u001b[0m",
            "\u001b[0;31mKeyError\u001b[0m                                  Traceback (most recent call last)",
            "File \u001b[0;32m/shared-libs/python3.9/py/lib/python3.9/site-packages/pandas/core/indexes/base.py:3081\u001b[0m, in \u001b[0;36mIndex.get_loc\u001b[0;34m(self, key, method, tolerance)\u001b[0m\n\u001b[1;32m   3080\u001b[0m \u001b[38;5;28;01mtry\u001b[39;00m:\n\u001b[0;32m-> 3081\u001b[0m     \u001b[38;5;28;01mreturn\u001b[39;00m \u001b[38;5;28;43mself\u001b[39;49m\u001b[38;5;241;43m.\u001b[39;49m\u001b[43m_engine\u001b[49m\u001b[38;5;241;43m.\u001b[39;49m\u001b[43mget_loc\u001b[49m\u001b[43m(\u001b[49m\u001b[43mcasted_key\u001b[49m\u001b[43m)\u001b[49m\n\u001b[1;32m   3082\u001b[0m \u001b[38;5;28;01mexcept\u001b[39;00m \u001b[38;5;167;01mKeyError\u001b[39;00m \u001b[38;5;28;01mas\u001b[39;00m err:\n",
            "File \u001b[0;32mpandas/_libs/index.pyx:70\u001b[0m, in \u001b[0;36mpandas._libs.index.IndexEngine.get_loc\u001b[0;34m()\u001b[0m\n",
            "File \u001b[0;32mpandas/_libs/index.pyx:101\u001b[0m, in \u001b[0;36mpandas._libs.index.IndexEngine.get_loc\u001b[0;34m()\u001b[0m\n",
            "File \u001b[0;32mpandas/_libs/hashtable_class_helper.pxi:4554\u001b[0m, in \u001b[0;36mpandas._libs.hashtable.PyObjectHashTable.get_item\u001b[0;34m()\u001b[0m\n",
            "File \u001b[0;32mpandas/_libs/hashtable_class_helper.pxi:4562\u001b[0m, in \u001b[0;36mpandas._libs.hashtable.PyObjectHashTable.get_item\u001b[0;34m()\u001b[0m\n",
            "\u001b[0;31mKeyError\u001b[0m: 'platform'",
            "\nThe above exception was the direct cause of the following exception:\n",
            "\u001b[0;31mKeyError\u001b[0m                                  Traceback (most recent call last)",
            "Cell \u001b[0;32mIn [27], line 14\u001b[0m\n\u001b[1;32m     12\u001b[0m fig, ax \u001b[38;5;241m=\u001b[39m plt\u001b[38;5;241m.\u001b[39msubplots(figsize\u001b[38;5;241m=\u001b[39m(\u001b[38;5;241m16\u001b[39m, \u001b[38;5;241m6\u001b[39m))\n\u001b[1;32m     13\u001b[0m \u001b[38;5;28;01mfor\u001b[39;00m platform \u001b[38;5;129;01min\u001b[39;00m [\u001b[38;5;124m'\u001b[39m\u001b[38;5;124mandroid\u001b[39m\u001b[38;5;124m'\u001b[39m, \u001b[38;5;124m'\u001b[39m\u001b[38;5;124mapple\u001b[39m\u001b[38;5;124m'\u001b[39m]:\n\u001b[0;32m---> 14\u001b[0m     ax\u001b[38;5;241m.\u001b[39mplot(session_length_by_day\u001b[38;5;241m.\u001b[39mindex, session_length_by_day[\u001b[43msession_length_by_day\u001b[49m\u001b[43m[\u001b[49m\u001b[38;5;124;43m'\u001b[39;49m\u001b[38;5;124;43mplatform\u001b[39;49m\u001b[38;5;124;43m'\u001b[39;49m\u001b[43m]\u001b[49m\u001b[38;5;241m==\u001b[39mplatform][\u001b[38;5;124m'\u001b[39m\u001b[38;5;124mlength_minutes\u001b[39m\u001b[38;5;124m'\u001b[39m],\n\u001b[1;32m     15\u001b[0m              marker\u001b[38;5;241m=\u001b[39m\u001b[38;5;124m'\u001b[39m\u001b[38;5;124mo\u001b[39m\u001b[38;5;124m'\u001b[39m, linestyle\u001b[38;5;241m=\u001b[39m\u001b[38;5;124m'\u001b[39m\u001b[38;5;124m-\u001b[39m\u001b[38;5;124m'\u001b[39m, label\u001b[38;5;241m=\u001b[39mplatform)\n\u001b[1;32m     17\u001b[0m ax\u001b[38;5;241m.\u001b[39mset(xlabel\u001b[38;5;241m=\u001b[39m\u001b[38;5;124m\"\u001b[39m\u001b[38;5;124mDate\u001b[39m\u001b[38;5;124m\"\u001b[39m, ylabel\u001b[38;5;241m=\u001b[39m\u001b[38;5;124m\"\u001b[39m\u001b[38;5;124mAverage Session Length (minutes) \u001b[39m\u001b[38;5;124m\"\u001b[39m,\n\u001b[1;32m     18\u001b[0m        title\u001b[38;5;241m=\u001b[39m\u001b[38;5;124m\"\u001b[39m\u001b[38;5;124mDaily Avg Session Length by Platform\u001b[39m\u001b[38;5;124m\"\u001b[39m)\n\u001b[1;32m     19\u001b[0m ax\u001b[38;5;241m.\u001b[39mlegend()\n",
            "File \u001b[0;32m/shared-libs/python3.9/py/lib/python3.9/site-packages/pandas/core/frame.py:3024\u001b[0m, in \u001b[0;36mDataFrame.__getitem__\u001b[0;34m(self, key)\u001b[0m\n\u001b[1;32m   3022\u001b[0m \u001b[38;5;28;01mif\u001b[39;00m \u001b[38;5;28mself\u001b[39m\u001b[38;5;241m.\u001b[39mcolumns\u001b[38;5;241m.\u001b[39mnlevels \u001b[38;5;241m>\u001b[39m \u001b[38;5;241m1\u001b[39m:\n\u001b[1;32m   3023\u001b[0m     \u001b[38;5;28;01mreturn\u001b[39;00m \u001b[38;5;28mself\u001b[39m\u001b[38;5;241m.\u001b[39m_getitem_multilevel(key)\n\u001b[0;32m-> 3024\u001b[0m indexer \u001b[38;5;241m=\u001b[39m \u001b[38;5;28;43mself\u001b[39;49m\u001b[38;5;241;43m.\u001b[39;49m\u001b[43mcolumns\u001b[49m\u001b[38;5;241;43m.\u001b[39;49m\u001b[43mget_loc\u001b[49m\u001b[43m(\u001b[49m\u001b[43mkey\u001b[49m\u001b[43m)\u001b[49m\n\u001b[1;32m   3025\u001b[0m \u001b[38;5;28;01mif\u001b[39;00m is_integer(indexer):\n\u001b[1;32m   3026\u001b[0m     indexer \u001b[38;5;241m=\u001b[39m [indexer]\n",
            "File \u001b[0;32m/shared-libs/python3.9/py/lib/python3.9/site-packages/pandas/core/indexes/base.py:3083\u001b[0m, in \u001b[0;36mIndex.get_loc\u001b[0;34m(self, key, method, tolerance)\u001b[0m\n\u001b[1;32m   3081\u001b[0m         \u001b[38;5;28;01mreturn\u001b[39;00m \u001b[38;5;28mself\u001b[39m\u001b[38;5;241m.\u001b[39m_engine\u001b[38;5;241m.\u001b[39mget_loc(casted_key)\n\u001b[1;32m   3082\u001b[0m     \u001b[38;5;28;01mexcept\u001b[39;00m \u001b[38;5;167;01mKeyError\u001b[39;00m \u001b[38;5;28;01mas\u001b[39;00m err:\n\u001b[0;32m-> 3083\u001b[0m         \u001b[38;5;28;01mraise\u001b[39;00m \u001b[38;5;167;01mKeyError\u001b[39;00m(key) \u001b[38;5;28;01mfrom\u001b[39;00m \u001b[38;5;21;01merr\u001b[39;00m\n\u001b[1;32m   3085\u001b[0m \u001b[38;5;28;01mif\u001b[39;00m tolerance \u001b[38;5;129;01mis\u001b[39;00m \u001b[38;5;129;01mnot\u001b[39;00m \u001b[38;5;28;01mNone\u001b[39;00m:\n\u001b[1;32m   3086\u001b[0m     tolerance \u001b[38;5;241m=\u001b[39m \u001b[38;5;28mself\u001b[39m\u001b[38;5;241m.\u001b[39m_convert_tolerance(tolerance, np\u001b[38;5;241m.\u001b[39masarray(key))\n",
            "\u001b[0;31mKeyError\u001b[0m: 'platform'"
          ]
        },
        {
          "data": {
            "text/plain": "<Figure size 1600x600 with 1 Axes>",
            "image/png": "[encoded data removed]"
          },
          "metadata": {
            "image/png": {
              "width": 1309,
              "height": 516
            }
          },
          "output_type": "display_data"
        }
      ],
      "execution_count": null,
      "block_group": "fe260e2eddf44fcd84072757f23edf39"
    },
    {
      "cell_type": "markdown",
      "source": "It appears there was an error because the 'platform' column does not exist in the `session_length_by_day` DataFrame. This happened because we aggregated the dataframe using mean function, and this operation does not make sense to be applied to non-numeric columns, like 'platform'. \n\nTo investigate the session length variation over time, we need to recalculate 'session_length_by_day' for each platform separately. Let's try to address this issue:",
      "metadata": {
        "cell_id": "7cbd1026333c4e2fba151177c090c5a7",
        "deepnote_cell_type": "text-cell-p"
      },
      "block_group": "afa3e1f9364c42c3a436396333aac847"
    },
    {
      "cell_type": "code",
      "source": "# Recreating 'session_lengths' DataFrame with 'min' as datetime\r\nsession_lengths['min'] = pd.to_datetime(session_lengths['min'])\r\n\r\n# Aggregating data for 'android' and 'apple' separately\r\nsession_length_by_day_android = session_lengths[session_lengths['platform']=='android'].resample('D').mean()\r\nsession_length_by_day_apple = session_lengths[session_lengths['platform']=='apple'].resample('D').mean()\r\n\r\n# Resetting index\r\nsession_length_by_day_android.reset_index(inplace=True)\r\nsession_length_by_day_apple.reset_index(inplace=True)\r\n\r\n# Plotting\r\nfig, ax = plt.subplots(figsize=(16, 6))\r\n\r\nax.plot(session_length_by_day_android['min'], session_length_by_day_android['length_minutes'],\r\n         marker='o', linestyle='-', label='android')\r\n\r\nax.plot(session_length_by_day_apple['min'], session_length_by_day_apple['length_minutes'],\r\n         marker='o', linestyle='-', label='apple')\r\n\r\nax.set(xlabel=\"Date\", ylabel=\"Average Session Length (minutes) \",\r\n       title=\"Daily Avg Session Length by Platform\")\r\nax.legend()\r\n\r\nplt.show()",
      "metadata": {
        "source_hash": "1a8e0c80",
        "execution_start": 1703151006482,
        "execution_millis": 55,
        "deepnote_to_be_reexecuted": true,
        "cell_id": "c91ba37a5a0e4f849e56d930e1037090",
        "deepnote_cell_type": "code"
      },
      "outputs": [
        {
          "output_type": "error",
          "ename": "KeyError",
          "evalue": "'min'",
          "traceback": [
            "\u001b[0;31m---------------------------------------------------------------------------\u001b[0m",
            "\u001b[0;31mKeyError\u001b[0m                                  Traceback (most recent call last)",
            "File \u001b[0;32m/shared-libs/python3.9/py/lib/python3.9/site-packages/pandas/core/indexes/base.py:3081\u001b[0m, in \u001b[0;36mIndex.get_loc\u001b[0;34m(self, key, method, tolerance)\u001b[0m\n\u001b[1;32m   3080\u001b[0m \u001b[38;5;28;01mtry\u001b[39;00m:\n\u001b[0;32m-> 3081\u001b[0m     \u001b[38;5;28;01mreturn\u001b[39;00m \u001b[38;5;28;43mself\u001b[39;49m\u001b[38;5;241;43m.\u001b[39;49m\u001b[43m_engine\u001b[49m\u001b[38;5;241;43m.\u001b[39;49m\u001b[43mget_loc\u001b[49m\u001b[43m(\u001b[49m\u001b[43mcasted_key\u001b[49m\u001b[43m)\u001b[49m\n\u001b[1;32m   3082\u001b[0m \u001b[38;5;28;01mexcept\u001b[39;00m \u001b[38;5;167;01mKeyError\u001b[39;00m \u001b[38;5;28;01mas\u001b[39;00m err:\n",
            "File \u001b[0;32mpandas/_libs/index.pyx:70\u001b[0m, in \u001b[0;36mpandas._libs.index.IndexEngine.get_loc\u001b[0;34m()\u001b[0m\n",
            "File \u001b[0;32mpandas/_libs/index.pyx:101\u001b[0m, in \u001b[0;36mpandas._libs.index.IndexEngine.get_loc\u001b[0;34m()\u001b[0m\n",
            "File \u001b[0;32mpandas/_libs/hashtable_class_helper.pxi:4554\u001b[0m, in \u001b[0;36mpandas._libs.hashtable.PyObjectHashTable.get_item\u001b[0;34m()\u001b[0m\n",
            "File \u001b[0;32mpandas/_libs/hashtable_class_helper.pxi:4562\u001b[0m, in \u001b[0;36mpandas._libs.hashtable.PyObjectHashTable.get_item\u001b[0;34m()\u001b[0m\n",
            "\u001b[0;31mKeyError\u001b[0m: 'min'",
            "\nThe above exception was the direct cause of the following exception:\n",
            "\u001b[0;31mKeyError\u001b[0m                                  Traceback (most recent call last)",
            "Cell \u001b[0;32mIn [28], line 2\u001b[0m\n\u001b[1;32m      1\u001b[0m \u001b[38;5;66;03m# Recreating 'session_lengths' DataFrame with 'min' as datetime\u001b[39;00m\n\u001b[0;32m----> 2\u001b[0m session_lengths[\u001b[38;5;124m'\u001b[39m\u001b[38;5;124mmin\u001b[39m\u001b[38;5;124m'\u001b[39m] \u001b[38;5;241m=\u001b[39m pd\u001b[38;5;241m.\u001b[39mto_datetime(\u001b[43msession_lengths\u001b[49m\u001b[43m[\u001b[49m\u001b[38;5;124;43m'\u001b[39;49m\u001b[38;5;124;43mmin\u001b[39;49m\u001b[38;5;124;43m'\u001b[39;49m\u001b[43m]\u001b[49m)\n\u001b[1;32m      4\u001b[0m \u001b[38;5;66;03m# Aggregating data for 'android' and 'apple' separately\u001b[39;00m\n\u001b[1;32m      5\u001b[0m session_length_by_day_android \u001b[38;5;241m=\u001b[39m session_lengths[session_lengths[\u001b[38;5;124m'\u001b[39m\u001b[38;5;124mplatform\u001b[39m\u001b[38;5;124m'\u001b[39m]\u001b[38;5;241m==\u001b[39m\u001b[38;5;124m'\u001b[39m\u001b[38;5;124mandroid\u001b[39m\u001b[38;5;124m'\u001b[39m]\u001b[38;5;241m.\u001b[39mresample(\u001b[38;5;124m'\u001b[39m\u001b[38;5;124mD\u001b[39m\u001b[38;5;124m'\u001b[39m)\u001b[38;5;241m.\u001b[39mmean()\n",
            "File \u001b[0;32m/shared-libs/python3.9/py/lib/python3.9/site-packages/pandas/core/frame.py:3024\u001b[0m, in \u001b[0;36mDataFrame.__getitem__\u001b[0;34m(self, key)\u001b[0m\n\u001b[1;32m   3022\u001b[0m \u001b[38;5;28;01mif\u001b[39;00m \u001b[38;5;28mself\u001b[39m\u001b[38;5;241m.\u001b[39mcolumns\u001b[38;5;241m.\u001b[39mnlevels \u001b[38;5;241m>\u001b[39m \u001b[38;5;241m1\u001b[39m:\n\u001b[1;32m   3023\u001b[0m     \u001b[38;5;28;01mreturn\u001b[39;00m \u001b[38;5;28mself\u001b[39m\u001b[38;5;241m.\u001b[39m_getitem_multilevel(key)\n\u001b[0;32m-> 3024\u001b[0m indexer \u001b[38;5;241m=\u001b[39m \u001b[38;5;28;43mself\u001b[39;49m\u001b[38;5;241;43m.\u001b[39;49m\u001b[43mcolumns\u001b[49m\u001b[38;5;241;43m.\u001b[39;49m\u001b[43mget_loc\u001b[49m\u001b[43m(\u001b[49m\u001b[43mkey\u001b[49m\u001b[43m)\u001b[49m\n\u001b[1;32m   3025\u001b[0m \u001b[38;5;28;01mif\u001b[39;00m is_integer(indexer):\n\u001b[1;32m   3026\u001b[0m     indexer \u001b[38;5;241m=\u001b[39m [indexer]\n",
            "File \u001b[0;32m/shared-libs/python3.9/py/lib/python3.9/site-packages/pandas/core/indexes/base.py:3083\u001b[0m, in \u001b[0;36mIndex.get_loc\u001b[0;34m(self, key, method, tolerance)\u001b[0m\n\u001b[1;32m   3081\u001b[0m         \u001b[38;5;28;01mreturn\u001b[39;00m \u001b[38;5;28mself\u001b[39m\u001b[38;5;241m.\u001b[39m_engine\u001b[38;5;241m.\u001b[39mget_loc(casted_key)\n\u001b[1;32m   3082\u001b[0m     \u001b[38;5;28;01mexcept\u001b[39;00m \u001b[38;5;167;01mKeyError\u001b[39;00m \u001b[38;5;28;01mas\u001b[39;00m err:\n\u001b[0;32m-> 3083\u001b[0m         \u001b[38;5;28;01mraise\u001b[39;00m \u001b[38;5;167;01mKeyError\u001b[39;00m(key) \u001b[38;5;28;01mfrom\u001b[39;00m \u001b[38;5;21;01merr\u001b[39;00m\n\u001b[1;32m   3085\u001b[0m \u001b[38;5;28;01mif\u001b[39;00m tolerance \u001b[38;5;129;01mis\u001b[39;00m \u001b[38;5;129;01mnot\u001b[39;00m \u001b[38;5;28;01mNone\u001b[39;00m:\n\u001b[1;32m   3086\u001b[0m     tolerance \u001b[38;5;241m=\u001b[39m \u001b[38;5;28mself\u001b[39m\u001b[38;5;241m.\u001b[39m_convert_tolerance(tolerance, np\u001b[38;5;241m.\u001b[39masarray(key))\n",
            "\u001b[0;31mKeyError\u001b[0m: 'min'"
          ]
        }
      ],
      "execution_count": null,
      "block_group": "d96169d73d5a410cb47ac1a2d6815b0d"
    },
    {
      "cell_type": "markdown",
      "source": "It looks like an error has occurred because the 'min' column doesn't exist in the `session_lengths` DataFrame. This happens because we are trying to set 'min' as DateTime, however 'min' is already set as the index.\n\nTo correct the error, we should have retained the 'min' column as a column of the DataFrame and not set it as the index. \n\nLet's revisit the DataFrame transformation code:",
      "metadata": {
        "cell_id": "cb75735fc260483897e18e672ecbcc8a",
        "deepnote_cell_type": "text-cell-p"
      },
      "block_group": "5f16c459310741dea929c5eb8506c642"
    },
    {
      "cell_type": "code",
      "source": "# Fixing the preparatory steps - duplicating the 'min' column before setting it as index\r\nsession_lengths['date'] = session_lengths['min']\r\n\r\n# Setting 'min' as index and noting 'date' remains\r\nsession_lengths.set_index('min', inplace=True)\r\n\r\n# Now we generate the mean session lengths per day for both platforms again\r\nsession_length_by_day_android = session_lengths[session_lengths['platform']=='android'].resample('D').mean()\r\nsession_length_by_day_apple = session_lengths[session_lengths['platform']=='apple'].resample('D').mean()\r\n\r\n# Resetting index\r\nsession_length_by_day_android.reset_index(inplace=True)\r\nsession_length_by_day_apple.reset_index(inplace=True)\r\n\r\n# Plotting\r\nfig, ax = plt.subplots(figsize=(16, 6))\r\n\r\nax.plot(session_length_by_day_android['min'], session_length_by_day_android['length_minutes'],\r\n         marker='o', linestyle='-', label='android')\r\n\r\nax.plot(session_length_by_day_apple['min'], session_length_by_day_apple['length_minutes'],\r\n         marker='o', linestyle='-', label='apple')\r\n\r\nax.set(xlabel=\"Date\", ylabel=\"Average Session Length (minutes) \",\r\n       title=\"Daily Avg Session Length by Platform\")\r\nax.legend()\r\n\r\nplt.show()",
      "metadata": {
        "source_hash": "486f5c7a",
        "execution_start": 1703151049906,
        "execution_millis": 20,
        "deepnote_to_be_reexecuted": true,
        "cell_id": "a4c7986ce44f41b494d4587575c7dafc",
        "deepnote_cell_type": "code"
      },
      "outputs": [
        {
          "output_type": "error",
          "ename": "KeyError",
          "evalue": "'min'",
          "traceback": [
            "\u001b[0;31m---------------------------------------------------------------------------\u001b[0m",
            "\u001b[0;31mKeyError\u001b[0m                                  Traceback (most recent call last)",
            "File \u001b[0;32m/shared-libs/python3.9/py/lib/python3.9/site-packages/pandas/core/indexes/base.py:3081\u001b[0m, in \u001b[0;36mIndex.get_loc\u001b[0;34m(self, key, method, tolerance)\u001b[0m\n\u001b[1;32m   3080\u001b[0m \u001b[38;5;28;01mtry\u001b[39;00m:\n\u001b[0;32m-> 3081\u001b[0m     \u001b[38;5;28;01mreturn\u001b[39;00m \u001b[38;5;28;43mself\u001b[39;49m\u001b[38;5;241;43m.\u001b[39;49m\u001b[43m_engine\u001b[49m\u001b[38;5;241;43m.\u001b[39;49m\u001b[43mget_loc\u001b[49m\u001b[43m(\u001b[49m\u001b[43mcasted_key\u001b[49m\u001b[43m)\u001b[49m\n\u001b[1;32m   3082\u001b[0m \u001b[38;5;28;01mexcept\u001b[39;00m \u001b[38;5;167;01mKeyError\u001b[39;00m \u001b[38;5;28;01mas\u001b[39;00m err:\n",
            "File \u001b[0;32mpandas/_libs/index.pyx:70\u001b[0m, in \u001b[0;36mpandas._libs.index.IndexEngine.get_loc\u001b[0;34m()\u001b[0m\n",
            "File \u001b[0;32mpandas/_libs/index.pyx:101\u001b[0m, in \u001b[0;36mpandas._libs.index.IndexEngine.get_loc\u001b[0;34m()\u001b[0m\n",
            "File \u001b[0;32mpandas/_libs/hashtable_class_helper.pxi:4554\u001b[0m, in \u001b[0;36mpandas._libs.hashtable.PyObjectHashTable.get_item\u001b[0;34m()\u001b[0m\n",
            "File \u001b[0;32mpandas/_libs/hashtable_class_helper.pxi:4562\u001b[0m, in \u001b[0;36mpandas._libs.hashtable.PyObjectHashTable.get_item\u001b[0;34m()\u001b[0m\n",
            "\u001b[0;31mKeyError\u001b[0m: 'min'",
            "\nThe above exception was the direct cause of the following exception:\n",
            "\u001b[0;31mKeyError\u001b[0m                                  Traceback (most recent call last)",
            "Cell \u001b[0;32mIn [29], line 2\u001b[0m\n\u001b[1;32m      1\u001b[0m \u001b[38;5;66;03m# Fixing the preparatory steps - duplicating the 'min' column before setting it as index\u001b[39;00m\n\u001b[0;32m----> 2\u001b[0m session_lengths[\u001b[38;5;124m'\u001b[39m\u001b[38;5;124mdate\u001b[39m\u001b[38;5;124m'\u001b[39m] \u001b[38;5;241m=\u001b[39m \u001b[43msession_lengths\u001b[49m\u001b[43m[\u001b[49m\u001b[38;5;124;43m'\u001b[39;49m\u001b[38;5;124;43mmin\u001b[39;49m\u001b[38;5;124;43m'\u001b[39;49m\u001b[43m]\u001b[49m\n\u001b[1;32m      4\u001b[0m \u001b[38;5;66;03m# Setting 'min' as index and noting 'date' remains\u001b[39;00m\n\u001b[1;32m      5\u001b[0m session_lengths\u001b[38;5;241m.\u001b[39mset_index(\u001b[38;5;124m'\u001b[39m\u001b[38;5;124mmin\u001b[39m\u001b[38;5;124m'\u001b[39m, inplace\u001b[38;5;241m=\u001b[39m\u001b[38;5;28;01mTrue\u001b[39;00m)\n",
            "File \u001b[0;32m/shared-libs/python3.9/py/lib/python3.9/site-packages/pandas/core/frame.py:3024\u001b[0m, in \u001b[0;36mDataFrame.__getitem__\u001b[0;34m(self, key)\u001b[0m\n\u001b[1;32m   3022\u001b[0m \u001b[38;5;28;01mif\u001b[39;00m \u001b[38;5;28mself\u001b[39m\u001b[38;5;241m.\u001b[39mcolumns\u001b[38;5;241m.\u001b[39mnlevels \u001b[38;5;241m>\u001b[39m \u001b[38;5;241m1\u001b[39m:\n\u001b[1;32m   3023\u001b[0m     \u001b[38;5;28;01mreturn\u001b[39;00m \u001b[38;5;28mself\u001b[39m\u001b[38;5;241m.\u001b[39m_getitem_multilevel(key)\n\u001b[0;32m-> 3024\u001b[0m indexer \u001b[38;5;241m=\u001b[39m \u001b[38;5;28;43mself\u001b[39;49m\u001b[38;5;241;43m.\u001b[39;49m\u001b[43mcolumns\u001b[49m\u001b[38;5;241;43m.\u001b[39;49m\u001b[43mget_loc\u001b[49m\u001b[43m(\u001b[49m\u001b[43mkey\u001b[49m\u001b[43m)\u001b[49m\n\u001b[1;32m   3025\u001b[0m \u001b[38;5;28;01mif\u001b[39;00m is_integer(indexer):\n\u001b[1;32m   3026\u001b[0m     indexer \u001b[38;5;241m=\u001b[39m [indexer]\n",
            "File \u001b[0;32m/shared-libs/python3.9/py/lib/python3.9/site-packages/pandas/core/indexes/base.py:3083\u001b[0m, in \u001b[0;36mIndex.get_loc\u001b[0;34m(self, key, method, tolerance)\u001b[0m\n\u001b[1;32m   3081\u001b[0m         \u001b[38;5;28;01mreturn\u001b[39;00m \u001b[38;5;28mself\u001b[39m\u001b[38;5;241m.\u001b[39m_engine\u001b[38;5;241m.\u001b[39mget_loc(casted_key)\n\u001b[1;32m   3082\u001b[0m     \u001b[38;5;28;01mexcept\u001b[39;00m \u001b[38;5;167;01mKeyError\u001b[39;00m \u001b[38;5;28;01mas\u001b[39;00m err:\n\u001b[0;32m-> 3083\u001b[0m         \u001b[38;5;28;01mraise\u001b[39;00m \u001b[38;5;167;01mKeyError\u001b[39;00m(key) \u001b[38;5;28;01mfrom\u001b[39;00m \u001b[38;5;21;01merr\u001b[39;00m\n\u001b[1;32m   3085\u001b[0m \u001b[38;5;28;01mif\u001b[39;00m tolerance \u001b[38;5;129;01mis\u001b[39;00m \u001b[38;5;129;01mnot\u001b[39;00m \u001b[38;5;28;01mNone\u001b[39;00m:\n\u001b[1;32m   3086\u001b[0m     tolerance \u001b[38;5;241m=\u001b[39m \u001b[38;5;28mself\u001b[39m\u001b[38;5;241m.\u001b[39m_convert_tolerance(tolerance, np\u001b[38;5;241m.\u001b[39masarray(key))\n",
            "\u001b[0;31mKeyError\u001b[0m: 'min'"
          ]
        }
      ],
      "execution_count": null,
      "block_group": "4c0af768379e4cdaa4b82aa747106f21"
    },
    {
      "cell_type": "markdown",
      "source": "It seems like I made a mistake. I kept 'min' as an index for the `session_lengths` DataFrame and tried to access it as a regular column later on. I should use 'date', the column I specifically preserved for this type of operation. Let's correct this and plot the graphs again.",
      "metadata": {
        "cell_id": "09d711b687674ab69cd8215242440943",
        "deepnote_cell_type": "text-cell-p"
      },
      "block_group": "f58f1d39a93f49abbef06a2a873f6318"
    },
    {
      "cell_type": "code",
      "source": "# Now we generate the mean session lengths per day for both platforms again\r\nsession_length_by_day_android = session_lengths[session_lengths['platform']=='android'].resample('D').mean()\r\nsession_length_by_day_apple = session_lengths[session_lengths['platform']=='apple'].resample('D').mean()\r\n\r\n# Resetting index\r\nsession_length_by_day_android.reset_index(inplace=True)\r\nsession_length_by_day_apple.reset_index(inplace=True)\r\n\r\n# Plotting\r\nfig, ax = plt.subplots(figsize=(16, 6))\r\n\r\nax.plot(session_length_by_day_android['date'], session_length_by_day_android['length_minutes'],\r\n         marker='o', linestyle='-', label='android')\r\n\r\nax.plot(session_length_by_day_apple['date'], session_length_by_day_apple['length_minutes'],\r\n         marker='o', linestyle='-', label='apple')\r\n\r\nax.set(xlabel=\"Date\", ylabel=\"Average Session Length (minutes) \",\r\n       title=\"Daily Avg Session Length by Platform\")\r\nax.legend()\r\n\r\nplt.show()",
      "metadata": {
        "source_hash": "924d171b",
        "execution_start": 1703151070718,
        "execution_millis": 147,
        "deepnote_to_be_reexecuted": true,
        "cell_id": "a739fec561c74826ad4394db2ecdb937",
        "deepnote_cell_type": "code"
      },
      "outputs": [
        {
          "output_type": "error",
          "ename": "KeyError",
          "evalue": "'date'",
          "traceback": [
            "\u001b[0;31m---------------------------------------------------------------------------\u001b[0m",
            "\u001b[0;31mKeyError\u001b[0m                                  Traceback (most recent call last)",
            "File \u001b[0;32m/shared-libs/python3.9/py/lib/python3.9/site-packages/pandas/core/indexes/base.py:3081\u001b[0m, in \u001b[0;36mIndex.get_loc\u001b[0;34m(self, key, method, tolerance)\u001b[0m\n\u001b[1;32m   3080\u001b[0m \u001b[38;5;28;01mtry\u001b[39;00m:\n\u001b[0;32m-> 3081\u001b[0m     \u001b[38;5;28;01mreturn\u001b[39;00m \u001b[38;5;28;43mself\u001b[39;49m\u001b[38;5;241;43m.\u001b[39;49m\u001b[43m_engine\u001b[49m\u001b[38;5;241;43m.\u001b[39;49m\u001b[43mget_loc\u001b[49m\u001b[43m(\u001b[49m\u001b[43mcasted_key\u001b[49m\u001b[43m)\u001b[49m\n\u001b[1;32m   3082\u001b[0m \u001b[38;5;28;01mexcept\u001b[39;00m \u001b[38;5;167;01mKeyError\u001b[39;00m \u001b[38;5;28;01mas\u001b[39;00m err:\n",
            "File \u001b[0;32mpandas/_libs/index.pyx:70\u001b[0m, in \u001b[0;36mpandas._libs.index.IndexEngine.get_loc\u001b[0;34m()\u001b[0m\n",
            "File \u001b[0;32mpandas/_libs/index.pyx:101\u001b[0m, in \u001b[0;36mpandas._libs.index.IndexEngine.get_loc\u001b[0;34m()\u001b[0m\n",
            "File \u001b[0;32mpandas/_libs/hashtable_class_helper.pxi:4554\u001b[0m, in \u001b[0;36mpandas._libs.hashtable.PyObjectHashTable.get_item\u001b[0;34m()\u001b[0m\n",
            "File \u001b[0;32mpandas/_libs/hashtable_class_helper.pxi:4562\u001b[0m, in \u001b[0;36mpandas._libs.hashtable.PyObjectHashTable.get_item\u001b[0;34m()\u001b[0m\n",
            "\u001b[0;31mKeyError\u001b[0m: 'date'",
            "\nThe above exception was the direct cause of the following exception:\n",
            "\u001b[0;31mKeyError\u001b[0m                                  Traceback (most recent call last)",
            "Cell \u001b[0;32mIn [30], line 12\u001b[0m\n\u001b[1;32m      9\u001b[0m \u001b[38;5;66;03m# Plotting\u001b[39;00m\n\u001b[1;32m     10\u001b[0m fig, ax \u001b[38;5;241m=\u001b[39m plt\u001b[38;5;241m.\u001b[39msubplots(figsize\u001b[38;5;241m=\u001b[39m(\u001b[38;5;241m16\u001b[39m, \u001b[38;5;241m6\u001b[39m))\n\u001b[0;32m---> 12\u001b[0m ax\u001b[38;5;241m.\u001b[39mplot(\u001b[43msession_length_by_day_android\u001b[49m\u001b[43m[\u001b[49m\u001b[38;5;124;43m'\u001b[39;49m\u001b[38;5;124;43mdate\u001b[39;49m\u001b[38;5;124;43m'\u001b[39;49m\u001b[43m]\u001b[49m, session_length_by_day_android[\u001b[38;5;124m'\u001b[39m\u001b[38;5;124mlength_minutes\u001b[39m\u001b[38;5;124m'\u001b[39m],\n\u001b[1;32m     13\u001b[0m          marker\u001b[38;5;241m=\u001b[39m\u001b[38;5;124m'\u001b[39m\u001b[38;5;124mo\u001b[39m\u001b[38;5;124m'\u001b[39m, linestyle\u001b[38;5;241m=\u001b[39m\u001b[38;5;124m'\u001b[39m\u001b[38;5;124m-\u001b[39m\u001b[38;5;124m'\u001b[39m, label\u001b[38;5;241m=\u001b[39m\u001b[38;5;124m'\u001b[39m\u001b[38;5;124mandroid\u001b[39m\u001b[38;5;124m'\u001b[39m)\n\u001b[1;32m     15\u001b[0m ax\u001b[38;5;241m.\u001b[39mplot(session_length_by_day_apple[\u001b[38;5;124m'\u001b[39m\u001b[38;5;124mdate\u001b[39m\u001b[38;5;124m'\u001b[39m], session_length_by_day_apple[\u001b[38;5;124m'\u001b[39m\u001b[38;5;124mlength_minutes\u001b[39m\u001b[38;5;124m'\u001b[39m],\n\u001b[1;32m     16\u001b[0m          marker\u001b[38;5;241m=\u001b[39m\u001b[38;5;124m'\u001b[39m\u001b[38;5;124mo\u001b[39m\u001b[38;5;124m'\u001b[39m, linestyle\u001b[38;5;241m=\u001b[39m\u001b[38;5;124m'\u001b[39m\u001b[38;5;124m-\u001b[39m\u001b[38;5;124m'\u001b[39m, label\u001b[38;5;241m=\u001b[39m\u001b[38;5;124m'\u001b[39m\u001b[38;5;124mapple\u001b[39m\u001b[38;5;124m'\u001b[39m)\n\u001b[1;32m     18\u001b[0m ax\u001b[38;5;241m.\u001b[39mset(xlabel\u001b[38;5;241m=\u001b[39m\u001b[38;5;124m\"\u001b[39m\u001b[38;5;124mDate\u001b[39m\u001b[38;5;124m\"\u001b[39m, ylabel\u001b[38;5;241m=\u001b[39m\u001b[38;5;124m\"\u001b[39m\u001b[38;5;124mAverage Session Length (minutes) \u001b[39m\u001b[38;5;124m\"\u001b[39m,\n\u001b[1;32m     19\u001b[0m        title\u001b[38;5;241m=\u001b[39m\u001b[38;5;124m\"\u001b[39m\u001b[38;5;124mDaily Avg Session Length by Platform\u001b[39m\u001b[38;5;124m\"\u001b[39m)\n",
            "File \u001b[0;32m/shared-libs/python3.9/py/lib/python3.9/site-packages/pandas/core/frame.py:3024\u001b[0m, in \u001b[0;36mDataFrame.__getitem__\u001b[0;34m(self, key)\u001b[0m\n\u001b[1;32m   3022\u001b[0m \u001b[38;5;28;01mif\u001b[39;00m \u001b[38;5;28mself\u001b[39m\u001b[38;5;241m.\u001b[39mcolumns\u001b[38;5;241m.\u001b[39mnlevels \u001b[38;5;241m>\u001b[39m \u001b[38;5;241m1\u001b[39m:\n\u001b[1;32m   3023\u001b[0m     \u001b[38;5;28;01mreturn\u001b[39;00m \u001b[38;5;28mself\u001b[39m\u001b[38;5;241m.\u001b[39m_getitem_multilevel(key)\n\u001b[0;32m-> 3024\u001b[0m indexer \u001b[38;5;241m=\u001b[39m \u001b[38;5;28;43mself\u001b[39;49m\u001b[38;5;241;43m.\u001b[39;49m\u001b[43mcolumns\u001b[49m\u001b[38;5;241;43m.\u001b[39;49m\u001b[43mget_loc\u001b[49m\u001b[43m(\u001b[49m\u001b[43mkey\u001b[49m\u001b[43m)\u001b[49m\n\u001b[1;32m   3025\u001b[0m \u001b[38;5;28;01mif\u001b[39;00m is_integer(indexer):\n\u001b[1;32m   3026\u001b[0m     indexer \u001b[38;5;241m=\u001b[39m [indexer]\n",
            "File \u001b[0;32m/shared-libs/python3.9/py/lib/python3.9/site-packages/pandas/core/indexes/base.py:3083\u001b[0m, in \u001b[0;36mIndex.get_loc\u001b[0;34m(self, key, method, tolerance)\u001b[0m\n\u001b[1;32m   3081\u001b[0m         \u001b[38;5;28;01mreturn\u001b[39;00m \u001b[38;5;28mself\u001b[39m\u001b[38;5;241m.\u001b[39m_engine\u001b[38;5;241m.\u001b[39mget_loc(casted_key)\n\u001b[1;32m   3082\u001b[0m     \u001b[38;5;28;01mexcept\u001b[39;00m \u001b[38;5;167;01mKeyError\u001b[39;00m \u001b[38;5;28;01mas\u001b[39;00m err:\n\u001b[0;32m-> 3083\u001b[0m         \u001b[38;5;28;01mraise\u001b[39;00m \u001b[38;5;167;01mKeyError\u001b[39;00m(key) \u001b[38;5;28;01mfrom\u001b[39;00m \u001b[38;5;21;01merr\u001b[39;00m\n\u001b[1;32m   3085\u001b[0m \u001b[38;5;28;01mif\u001b[39;00m tolerance \u001b[38;5;129;01mis\u001b[39;00m \u001b[38;5;129;01mnot\u001b[39;00m \u001b[38;5;28;01mNone\u001b[39;00m:\n\u001b[1;32m   3086\u001b[0m     tolerance \u001b[38;5;241m=\u001b[39m \u001b[38;5;28mself\u001b[39m\u001b[38;5;241m.\u001b[39m_convert_tolerance(tolerance, np\u001b[38;5;241m.\u001b[39masarray(key))\n",
            "\u001b[0;31mKeyError\u001b[0m: 'date'"
          ]
        },
        {
          "data": {
            "text/plain": "<Figure size 1600x600 with 1 Axes>",
            "image/png": "[encoded data removed]"
          },
          "metadata": {
            "image/png": {
              "width": 1309,
              "height": 516
            }
          },
          "output_type": "display_data"
        }
      ],
      "execution_count": null,
      "block_group": "5c5931bbfdce45b78bc05d3dbc6fd96c"
    },
    {
      "cell_type": "markdown",
      "source": "I apologize for the confusion. There was a mistake in the preparation and transformation of our data. I should have noted that when we resample, we aggregate by the index. It seems I've neglected to set our reserved 'date' as the index after resampling. Therefore, 'date' was lost after the resampling and aggregation process.\n\nTo troubleshoot this, we'll have to maintain 'date' as the index through the resampling process. Let's tackle this again using the original `session_lengths` DataFrame where 'date' was not resampled and then set 'date' as index for resampling.",
      "metadata": {
        "cell_id": "daf4f329fdd94ec296bb17d69548bd81",
        "deepnote_cell_type": "text-cell-p"
      },
      "block_group": "09211be3fbeb4496a7c4f7efb05f3d8f"
    },
    {
      "cell_type": "markdown",
      "source": "<a style='text-decoration:none;line-height:16px;display:flex;color:#5B5B62;padding:10px;justify-content:end;' href='https://deepnote.com?utm_source=created-in-deepnote-cell&projectId=ea0dd5ec-7a99-4815-85b5-15ffe4204711' target=\"_blank\">\n<img alt='Created in deepnote.com' style='display:inline;max-height:16px;margin:0px;margin-right:7.5px;' src='data:image/svg+xml;base64,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' > </img>\nCreated in <span style='font-weight:600;margin-left:4px;'>Deepnote</span></a>",
      "metadata": {
        "created_in_deepnote_cell": true,
        "deepnote_cell_type": "markdown"
      }
    }
  ],
  "nbformat": 4,
  "nbformat_minor": 0,
  "metadata": {
    "deepnote": {},
    "orig_nbformat": 2,
    "deepnote_app_width": "full-width",
    "deepnote_app_layout": "powerful-article",
    "deepnote_notebook_id": "ce2c4e288df44b8fb57b252cf65bb1e4",
    "deepnote_app_clear_outputs": false,
    "deepnote_app_run_on_input_enabled": false,
    "deepnote_app_table_of_contents_enabled": true,
    "deepnote_app_hide_all_code_blocks_enabled": false,
    "deepnote_execution_queue": []
  }
}