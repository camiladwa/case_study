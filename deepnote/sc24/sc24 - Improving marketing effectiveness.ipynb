{
  "cells": [
    {
      "cell_type": "markdown",
      "source": "# Case Study: Improving marketing effectiveness",
      "metadata": {
        "formattedRanges": [],
        "cell_id": "04a294a5e48f4726b47be2a83fef86ef",
        "deepnote_cell_type": "text-cell-h1"
      },
      "block_group": "136b7d87765f4d51af82aa060a4716e3"
    },
    {
      "cell_type": "markdown",
      "source": "## Introduction",
      "metadata": {
        "formattedRanges": [],
        "cell_id": "48beb3cd0dc643158346a285838a428f",
        "deepnote_cell_type": "text-cell-h2"
      },
      "block_group": "ed0545d8c21941f594aa9d2b0121f5b4"
    },
    {
      "cell_type": "markdown",
      "source": "Most importantly, we do not expect you to answer everything perfectly. For example, it is not required to be an expert in user behavior/marketing analytics – the case is just an example to demonstrate your data skills.\r What we want to see is especially:\n\r\n1- How easy is working with data sets for you? \r\n2- What methods do you know to prepare data and solve analytical issues? \r\n3- What do you focus on when analyzing data and what is of lesser priority to you?\r\n4- How do you present in an easy-to-digest and actionable way? \n\r\nYou have about 20 minutes to present the case study. After that, we will discuss the results and any questions from your side and our side. We are looking forward to hearing and seeing your findings!\r",
      "metadata": {
        "formattedRanges": [],
        "cell_id": "858a5acb5d954b83a42710a5a6745925",
        "deepnote_cell_type": "text-cell-p"
      },
      "block_group": "d5f8800631b947d98d39a3bd8dc96a97"
    },
    {
      "cell_type": "markdown",
      "source": "> In order to generate more traffic and conversions, ImmoScout24 invests in paid advertising. The aim is to invest each € where it brings the most impact.\r Marketing managers would like to know whether they can improve budget allocation to marketing channels for one particular product. Moreover, they wonder if they could improve the way they currently assess the contribution of different channels.",
      "metadata": {
        "is_collapsed": false,
        "formattedRanges": [
          {
            "type": "marks",
            "marks": {
              "bold": true
            },
            "toCodePoint": 284,
            "fromCodePoint": 209
          },
          {
            "type": "marks",
            "marks": {
              "bold": true
            },
            "toCodePoint": 397,
            "fromCodePoint": 321
          }
        ],
        "cell_id": "a4543217da6841ccaec3c0b8efe6689d",
        "deepnote_cell_type": "text-cell-callout"
      },
      "block_group": "52a6d0309fe748dbac305fb04bcb53db"
    },
    {
      "cell_type": "markdown",
      "source": "#### Traffic dataset\t\n\nColumn Name |\tDescription\n------------- | ---------------\ndate\t| date\nfullvisitorID\t| user identifier\nvisitStartTime |\tsession start time\nchannelGrouping |\tdefault channel grouping\nmedium\t| traffic type\nsource\t| traffic source\nisTrueDirect\t| is the session in fact direct session, but inherited \nchannelGrouping |\tcombination of medium and source fields from previous sessions of the same user\nhits |\tnumber of hits per session\nbounces |\tdid the session bounce\ntimeOnSite |\tsession length\nconversion |\tdid the session generate a conversion\n\n#### Costs dataset\t\n\nColumn Name |\tDescription\n------------- | ---------------\ndate |\tdate\ncampaign_name|\tname of the campaign\nsource_medium|\tchannel identification: combined source and medium information\nimpressions|\tnumber of impressions\nclicks|\tnumber of clicks\nspend|\tcosts\n",
      "metadata": {
        "cell_id": "acefeb4effa846dc8512dc31850a4d47",
        "deepnote_cell_type": "markdown"
      },
      "block_group": "c564774e5eb345419887a091589911e0"
    },
    {
      "cell_type": "code",
      "source": "costs = _deepnote_execute_sql('SELECT *\\nFROM \\'costs_processed.csv\\'', 'SQL_DEEPNOTE_DATAFRAME_SQL', audit_sql_comment='', sql_cache_mode='cache_disabled')\ncosts",
      "metadata": {
        "allow_embed": false,
        "source_hash": "4fe61669",
        "output_cleared": false,
        "execution_start": 1701534092699,
        "execution_millis": 465,
        "sql_integration_id": "deepnote-dataframe-sql",
        "deepnote_table_state": {
          "sortBy": [
            {
              "id": "date",
              "type": "asc"
            }
          ],
          "filters": [],
          "pageSize": 5,
          "pageIndex": 0
        },
        "deepnote_table_loading": false,
        "deepnote_variable_name": "costs",
        "deepnote_to_be_reexecuted": false,
        "cell_id": "6dc05fd8603f4dcc8caf482a5027e879",
        "deepnote_cell_type": "sql",
        "deepnote_sql_source": "SELECT *\nFROM 'costs_processed.csv'"
      },
      "outputs": [
        {
          "data": {
            "application/vnd.deepnote.sql-output-metadata+json": {
              "status": "success_no_cache",
              "size_in_bytes": 627753
            }
          },
          "metadata": {},
          "output_type": "display_data"
        },
        {
          "output_type": "execute_result",
          "execution_count": 28,
          "data": {
            "application/vnd.deepnote.dataframe.v3+json": {
              "column_count": 6,
              "row_count": 2871,
              "columns": [
                {
                  "name": "date",
                  "dtype": "object",
                  "stats": {
                    "unique_count": 61,
                    "nan_count": 0,
                    "categories": [
                      {
                        "name": "2020-03-23",
                        "count": 60
                      },
                      {
                        "name": "2020-03-25",
                        "count": 60
                      },
                      {
                        "name": "59 others",
                        "count": 2751
                      }
                    ]
                  }
                },
                {
                  "name": "campaign_name",
                  "dtype": "object",
                  "stats": {
                    "unique_count": 57,
                    "nan_count": 0,
                    "categories": [
                      {
                        "name": "de_br_marke",
                        "count": 156
                      },
                      {
                        "name": "de_fi_dsa_baufinanzierung",
                        "count": 125
                      },
                      {
                        "name": "55 others",
                        "count": 2590
                      }
                    ]
                  }
                },
                {
                  "name": "source_medium",
                  "dtype": "object",
                  "stats": {
                    "unique_count": 4,
                    "nan_count": 0,
                    "categories": [
                      {
                        "name": "bing / cpc",
                        "count": 1369
                      },
                      {
                        "name": "google / cpc",
                        "count": 1176
                      },
                      {
                        "name": "2 others",
                        "count": 326
                      }
                    ]
                  }
                },
                {
                  "name": "impressions",
                  "dtype": "int64",
                  "stats": {
                    "unique_count": 1027,
                    "nan_count": 0,
                    "min": "0",
                    "max": "134083",
                    "histogram": [
                      {
                        "bin_start": 0,
                        "bin_end": 13408.3,
                        "count": 2637
                      },
                      {
                        "bin_start": 13408.3,
                        "bin_end": 26816.6,
                        "count": 37
                      },
                      {
                        "bin_start": 26816.6,
                        "bin_end": 40224.899999999994,
                        "count": 22
                      },
                      {
                        "bin_start": 40224.899999999994,
                        "bin_end": 53633.2,
                        "count": 15
                      },
                      {
                        "bin_start": 53633.2,
                        "bin_end": 67041.5,
                        "count": 26
                      },
                      {
                        "bin_start": 67041.5,
                        "bin_end": 80449.79999999999,
                        "count": 46
                      },
                      {
                        "bin_start": 80449.79999999999,
                        "bin_end": 93858.09999999999,
                        "count": 48
                      },
                      {
                        "bin_start": 93858.09999999999,
                        "bin_end": 107266.4,
                        "count": 28
                      },
                      {
                        "bin_start": 107266.4,
                        "bin_end": 120674.7,
                        "count": 8
                      },
                      {
                        "bin_start": 120674.7,
                        "bin_end": 134083,
                        "count": 4
                      }
                    ]
                  }
                },
                {
                  "name": "clicks",
                  "dtype": "int64",
                  "stats": {
                    "unique_count": 652,
                    "nan_count": 0,
                    "min": "0",
                    "max": "85347",
                    "histogram": [
                      {
                        "bin_start": 0,
                        "bin_end": 8534.7,
                        "count": 2746
                      },
                      {
                        "bin_start": 8534.7,
                        "bin_end": 17069.4,
                        "count": 3
                      },
                      {
                        "bin_start": 17069.4,
                        "bin_end": 25604.100000000002,
                        "count": 0
                      },
                      {
                        "bin_start": 25604.100000000002,
                        "bin_end": 34138.8,
                        "count": 7
                      },
                      {
                        "bin_start": 34138.8,
                        "bin_end": 42673.5,
                        "count": 22
                      },
                      {
                        "bin_start": 42673.5,
                        "bin_end": 51208.200000000004,
                        "count": 33
                      },
                      {
                        "bin_start": 51208.200000000004,
                        "bin_end": 59742.90000000001,
                        "count": 44
                      },
                      {
                        "bin_start": 59742.90000000001,
                        "bin_end": 68277.6,
                        "count": 8
                      },
                      {
                        "bin_start": 68277.6,
                        "bin_end": 76812.3,
                        "count": 5
                      },
                      {
                        "bin_start": 76812.3,
                        "bin_end": 85347,
                        "count": 3
                      }
                    ]
                  }
                },
                {
                  "name": "spend",
                  "dtype": "float64",
                  "stats": {
                    "unique_count": 1210,
                    "nan_count": 0,
                    "min": "0.0",
                    "max": "3150.870000000001",
                    "histogram": [
                      {
                        "bin_start": 0,
                        "bin_end": 315.0870000000001,
                        "count": 2614
                      },
                      {
                        "bin_start": 315.0870000000001,
                        "bin_end": 630.1740000000002,
                        "count": 43
                      },
                      {
                        "bin_start": 630.1740000000002,
                        "bin_end": 945.2610000000003,
                        "count": 35
                      },
                      {
                        "bin_start": 945.2610000000003,
                        "bin_end": 1260.3480000000004,
                        "count": 57
                      },
                      {
                        "bin_start": 1260.3480000000004,
                        "bin_end": 1575.4350000000004,
                        "count": 56
                      },
                      {
                        "bin_start": 1575.4350000000004,
                        "bin_end": 1890.5220000000006,
                        "count": 33
                      },
                      {
                        "bin_start": 1890.5220000000006,
                        "bin_end": 2205.609000000001,
                        "count": 14
                      },
                      {
                        "bin_start": 2205.609000000001,
                        "bin_end": 2520.696000000001,
                        "count": 8
                      },
                      {
                        "bin_start": 2520.696000000001,
                        "bin_end": 2835.783000000001,
                        "count": 6
                      },
                      {
                        "bin_start": 2835.783000000001,
                        "bin_end": 3150.870000000001,
                        "count": 5
                      }
                    ]
                  }
                },
                {
                  "name": "_deepnote_index_column",
                  "dtype": "int64"
                }
              ],
              "rows": [
                {
                  "date": "2020-03-01",
                  "campaign_name": "de_fi_generic_vollfinanzierung",
                  "source_medium": "bing / cpc",
                  "impressions": 396,
                  "clicks": 23,
                  "spend": 39.57,
                  "_deepnote_index_column": 320
                },
                {
                  "date": "2020-03-01",
                  "campaign_name": "de_br_mobile",
                  "source_medium": "google / cpc",
                  "impressions": 110323,
                  "clicks": 70698,
                  "spend": 1611.14,
                  "_deepnote_index_column": 916
                },
                {
                  "date": "2020-03-01",
                  "campaign_name": "de_fi_ret_sitevisits_leads",
                  "source_medium": "facebook / display",
                  "impressions": 9586,
                  "clicks": 198,
                  "spend": 98.57999999999996,
                  "_deepnote_index_column": 910
                },
                {
                  "date": "2020-03-01",
                  "campaign_name": "de_br_generic_immobilien",
                  "source_medium": "google / cpc",
                  "impressions": 167,
                  "clicks": 105,
                  "spend": 9.08,
                  "_deepnote_index_column": 2401
                },
                {
                  "date": "2020-03-01",
                  "campaign_name": "de_br_marke_bundesland",
                  "source_medium": "bing / cpc",
                  "impressions": 35,
                  "clicks": 8,
                  "spend": 5.8,
                  "_deepnote_index_column": 1761
                }
              ]
            },
            "text/plain": "            date                                      campaign_name  \\\n0     2020-04-24               de_br_reach_digitale_immobiliensuche   \n1     2020-04-23  de_fi_generic_baufinanzierungsrechner_s_con_bu...   \n2     2020-04-25       de_fi_generic_schufa_s_con_buyer_financecalc   \n3     2020-03-23                                de_br_marke_+_stadt   \n4     2020-04-05                                        de_br_marke   \n...          ...                                                ...   \n2866  2020-03-27                             de_br_marke_immobilien   \n2867  2020-03-28                                       de_fi_kredit   \n2868  2020-03-26                             de_br_marke_bundesland   \n2869  2020-03-21                        de_fi_brand_baufinanzierung   \n2870  2020-03-13                     de_fi_generic_hausfinanzierung   \n\n           source_medium  impressions  clicks    spend  \n0     outbrain / display            0       0     0.00  \n1           google / cpc         7486    1739  1941.71  \n2           google / cpc          361      51   174.87  \n3             bing / cpc            0       0     0.00  \n4           google / cpc        75928   44541  1468.00  \n...                  ...          ...     ...      ...  \n2866          bing / cpc            0       0     0.00  \n2867          bing / cpc            0       0     0.00  \n2868          bing / cpc            0       0     0.00  \n2869        google / cpc            0       0     0.00  \n2870          bing / cpc          366       9    17.05  \n\n[2871 rows x 6 columns]",
            "text/html": "<div>\n<style scoped>\n    .dataframe tbody tr th:only-of-type {\n        vertical-align: middle;\n    }\n\n    .dataframe tbody tr th {\n        vertical-align: top;\n    }\n\n    .dataframe thead th {\n        text-align: right;\n    }\n</style>\n<table border=\"1\" class=\"dataframe\">\n  <thead>\n    <tr style=\"text-align: right;\">\n      <th></th>\n      <th>date</th>\n      <th>campaign_name</th>\n      <th>source_medium</th>\n      <th>impressions</th>\n      <th>clicks</th>\n      <th>spend</th>\n    </tr>\n  </thead>\n  <tbody>\n    <tr>\n      <th>0</th>\n      <td>2020-04-24</td>\n      <td>de_br_reach_digitale_immobiliensuche</td>\n      <td>outbrain / display</td>\n      <td>0</td>\n      <td>0</td>\n      <td>0.00</td>\n    </tr>\n    <tr>\n      <th>1</th>\n      <td>2020-04-23</td>\n      <td>de_fi_generic_baufinanzierungsrechner_s_con_bu...</td>\n      <td>google / cpc</td>\n      <td>7486</td>\n      <td>1739</td>\n      <td>1941.71</td>\n    </tr>\n    <tr>\n      <th>2</th>\n      <td>2020-04-25</td>\n      <td>de_fi_generic_schufa_s_con_buyer_financecalc</td>\n      <td>google / cpc</td>\n      <td>361</td>\n      <td>51</td>\n      <td>174.87</td>\n    </tr>\n    <tr>\n      <th>3</th>\n      <td>2020-03-23</td>\n      <td>de_br_marke_+_stadt</td>\n      <td>bing / cpc</td>\n      <td>0</td>\n      <td>0</td>\n      <td>0.00</td>\n    </tr>\n    <tr>\n      <th>4</th>\n      <td>2020-04-05</td>\n      <td>de_br_marke</td>\n      <td>google / cpc</td>\n      <td>75928</td>\n      <td>44541</td>\n      <td>1468.00</td>\n    </tr>\n    <tr>\n      <th>...</th>\n      <td>...</td>\n      <td>...</td>\n      <td>...</td>\n      <td>...</td>\n      <td>...</td>\n      <td>...</td>\n    </tr>\n    <tr>\n      <th>2866</th>\n      <td>2020-03-27</td>\n      <td>de_br_marke_immobilien</td>\n      <td>bing / cpc</td>\n      <td>0</td>\n      <td>0</td>\n      <td>0.00</td>\n    </tr>\n    <tr>\n      <th>2867</th>\n      <td>2020-03-28</td>\n      <td>de_fi_kredit</td>\n      <td>bing / cpc</td>\n      <td>0</td>\n      <td>0</td>\n      <td>0.00</td>\n    </tr>\n    <tr>\n      <th>2868</th>\n      <td>2020-03-26</td>\n      <td>de_br_marke_bundesland</td>\n      <td>bing / cpc</td>\n      <td>0</td>\n      <td>0</td>\n      <td>0.00</td>\n    </tr>\n    <tr>\n      <th>2869</th>\n      <td>2020-03-21</td>\n      <td>de_fi_brand_baufinanzierung</td>\n      <td>google / cpc</td>\n      <td>0</td>\n      <td>0</td>\n      <td>0.00</td>\n    </tr>\n    <tr>\n      <th>2870</th>\n      <td>2020-03-13</td>\n      <td>de_fi_generic_hausfinanzierung</td>\n      <td>bing / cpc</td>\n      <td>366</td>\n      <td>9</td>\n      <td>17.05</td>\n    </tr>\n  </tbody>\n</table>\n<p>2871 rows × 6 columns</p>\n</div>"
          },
          "metadata": {}
        }
      ],
      "execution_count": 27,
      "block_group": "c55970abb66749f7a6e0547eca0144d3"
    },
    {
      "cell_type": "code",
      "source": "traffic = _deepnote_execute_sql('SELECT *\\nFROM \\'final_traffic.csv\\'', 'SQL_DEEPNOTE_DATAFRAME_SQL', audit_sql_comment='', sql_cache_mode='cache_disabled')\ntraffic",
      "metadata": {
        "source_hash": "366e21ae",
        "output_cleared": false,
        "execution_start": 1701534002835,
        "execution_millis": 1534,
        "sql_integration_id": "deepnote-dataframe-sql",
        "deepnote_table_state": {
          "sortBy": [],
          "filters": [],
          "pageSize": 5,
          "pageIndex": 0
        },
        "deepnote_table_loading": false,
        "deepnote_variable_name": "traffic",
        "deepnote_to_be_reexecuted": false,
        "cell_id": "fdaf4289d3944d548be77d57ac685de0",
        "deepnote_cell_type": "sql",
        "deepnote_sql_source": "SELECT *\nFROM 'final_traffic.csv'"
      },
      "outputs": [
        {
          "data": {
            "application/vnd.deepnote.sql-output-metadata+json": {
              "status": "success_no_cache",
              "size_in_bytes": 40134761
            }
          },
          "metadata": {},
          "output_type": "display_data"
        },
        {
          "output_type": "execute_result",
          "execution_count": 32,
          "data": {
            "application/vnd.deepnote.dataframe.v3+json": {
              "column_count": 11,
              "row_count": 141424,
              "columns": [
                {
                  "name": "date",
                  "dtype": "object"
                },
                {
                  "name": "fullvisitorID",
                  "dtype": "float64"
                },
                {
                  "name": "visitStartTime",
                  "dtype": "int64"
                },
                {
                  "name": "channelGrouping",
                  "dtype": "object"
                },
                {
                  "name": "medium",
                  "dtype": "object"
                },
                {
                  "name": "source",
                  "dtype": "object"
                },
                {
                  "name": "isTrueDirect",
                  "dtype": "bool"
                },
                {
                  "name": "hits",
                  "dtype": "int64"
                },
                {
                  "name": "bounces",
                  "dtype": "float64"
                },
                {
                  "name": "timeOnSite",
                  "dtype": "float64"
                },
                {
                  "name": "conversion",
                  "dtype": "int64"
                },
                {
                  "name": "_deepnote_index_column",
                  "dtype": "int64"
                }
              ],
              "rows": [
                {
                  "date": "2020-03-04",
                  "fullvisitorID": 1000338583919885000,
                  "visitStartTime": 1583311404,
                  "channelGrouping": "Organic Search",
                  "medium": "organic",
                  "source": "google",
                  "isTrueDirect": "True",
                  "hits": 2,
                  "bounces": "nan",
                  "timeOnSite": 446,
                  "conversion": 0,
                  "_deepnote_index_column": 0
                },
                {
                  "date": "2020-03-05",
                  "fullvisitorID": 1000338583919885000,
                  "visitStartTime": 1583399635,
                  "channelGrouping": "Organic Search",
                  "medium": "organic",
                  "source": "google",
                  "isTrueDirect": "True",
                  "hits": 4,
                  "bounces": "nan",
                  "timeOnSite": 489,
                  "conversion": 0,
                  "_deepnote_index_column": 1
                },
                {
                  "date": "2020-03-06",
                  "fullvisitorID": 1000338583919885000,
                  "visitStartTime": 1583504222,
                  "channelGrouping": "Organic Search",
                  "medium": "organic",
                  "source": "google",
                  "isTrueDirect": "True",
                  "hits": 4,
                  "bounces": "nan",
                  "timeOnSite": 36,
                  "conversion": 0,
                  "_deepnote_index_column": 2
                },
                {
                  "date": "2020-03-06",
                  "fullvisitorID": 1000338583919885000,
                  "visitStartTime": 1583520755,
                  "channelGrouping": "Organic Search",
                  "medium": "organic",
                  "source": "google",
                  "isTrueDirect": "True",
                  "hits": 1,
                  "bounces": 1,
                  "timeOnSite": "nan",
                  "conversion": 0,
                  "_deepnote_index_column": 3
                },
                {
                  "date": "2020-03-09",
                  "fullvisitorID": 1000338583919885000,
                  "visitStartTime": 1583753297,
                  "channelGrouping": "Paid Search (Non-Brand)",
                  "medium": "cpc",
                  "source": "google",
                  "isTrueDirect": "False",
                  "hits": 23,
                  "bounces": "nan",
                  "timeOnSite": 257,
                  "conversion": 1,
                  "_deepnote_index_column": 4
                }
              ]
            },
            "text/plain": "              date  fullvisitorID  visitStartTime          channelGrouping  \\\n0       2020-03-04   1.000339e+18      1583311404           Organic Search   \n1       2020-03-05   1.000339e+18      1583399635           Organic Search   \n2       2020-03-06   1.000339e+18      1583504222           Organic Search   \n3       2020-03-06   1.000339e+18      1583520755           Organic Search   \n4       2020-03-09   1.000339e+18      1583753297  Paid Search (Non-Brand)   \n...            ...            ...             ...                      ...   \n141419  2020-04-30   8.967218e+18      1588241835                   Direct   \n141420  2020-04-30   9.063905e+18      1588268232  Paid Search (Non-Brand)   \n141421  2020-04-30   9.125349e+18      1588235466                 Referral   \n141422  2020-04-30   9.203921e+17      1588223800  Paid Search (Non-Brand)   \n141423  2020-04-30   9.974784e+17      1588277391           Organic Search   \n\n          medium         source  isTrueDirect  hits  bounces  timeOnSite  \\\n0        organic         google          True     2      NaN       446.0   \n1        organic         google          True     4      NaN       489.0   \n2        organic         google          True     4      NaN        36.0   \n3        organic         google          True     1      1.0         NaN   \n4            cpc         google         False    23      NaN       257.0   \n...          ...            ...           ...   ...      ...         ...   \n141419    (none)       (direct)         False    55      NaN      2194.0   \n141420       cpc         google         False    20      NaN       229.0   \n141421  referral  deref-gmx.net         False    42      NaN       705.0   \n141422       cpc         google         False    35      NaN       192.0   \n141423   organic         google         False    65      NaN      1141.0   \n\n        conversion  \n0                0  \n1                0  \n2                0  \n3                0  \n4                1  \n...            ...  \n141419           0  \n141420           0  \n141421           0  \n141422           0  \n141423           0  \n\n[141424 rows x 11 columns]",
            "text/html": "<div>\n<style scoped>\n    .dataframe tbody tr th:only-of-type {\n        vertical-align: middle;\n    }\n\n    .dataframe tbody tr th {\n        vertical-align: top;\n    }\n\n    .dataframe thead th {\n        text-align: right;\n    }\n</style>\n<table border=\"1\" class=\"dataframe\">\n  <thead>\n    <tr style=\"text-align: right;\">\n      <th></th>\n      <th>date</th>\n      <th>fullvisitorID</th>\n      <th>visitStartTime</th>\n      <th>channelGrouping</th>\n      <th>medium</th>\n      <th>source</th>\n      <th>isTrueDirect</th>\n      <th>hits</th>\n      <th>bounces</th>\n      <th>timeOnSite</th>\n      <th>conversion</th>\n    </tr>\n  </thead>\n  <tbody>\n    <tr>\n      <th>0</th>\n      <td>2020-03-04</td>\n      <td>1.000339e+18</td>\n      <td>1583311404</td>\n      <td>Organic Search</td>\n      <td>organic</td>\n      <td>google</td>\n      <td>True</td>\n      <td>2</td>\n      <td>NaN</td>\n      <td>446.0</td>\n      <td>0</td>\n    </tr>\n    <tr>\n      <th>1</th>\n      <td>2020-03-05</td>\n      <td>1.000339e+18</td>\n      <td>1583399635</td>\n      <td>Organic Search</td>\n      <td>organic</td>\n      <td>google</td>\n      <td>True</td>\n      <td>4</td>\n      <td>NaN</td>\n      <td>489.0</td>\n      <td>0</td>\n    </tr>\n    <tr>\n      <th>2</th>\n      <td>2020-03-06</td>\n      <td>1.000339e+18</td>\n      <td>1583504222</td>\n      <td>Organic Search</td>\n      <td>organic</td>\n      <td>google</td>\n      <td>True</td>\n      <td>4</td>\n      <td>NaN</td>\n      <td>36.0</td>\n      <td>0</td>\n    </tr>\n    <tr>\n      <th>3</th>\n      <td>2020-03-06</td>\n      <td>1.000339e+18</td>\n      <td>1583520755</td>\n      <td>Organic Search</td>\n      <td>organic</td>\n      <td>google</td>\n      <td>True</td>\n      <td>1</td>\n      <td>1.0</td>\n      <td>NaN</td>\n      <td>0</td>\n    </tr>\n    <tr>\n      <th>4</th>\n      <td>2020-03-09</td>\n      <td>1.000339e+18</td>\n      <td>1583753297</td>\n      <td>Paid Search (Non-Brand)</td>\n      <td>cpc</td>\n      <td>google</td>\n      <td>False</td>\n      <td>23</td>\n      <td>NaN</td>\n      <td>257.0</td>\n      <td>1</td>\n    </tr>\n    <tr>\n      <th>...</th>\n      <td>...</td>\n      <td>...</td>\n      <td>...</td>\n      <td>...</td>\n      <td>...</td>\n      <td>...</td>\n      <td>...</td>\n      <td>...</td>\n      <td>...</td>\n      <td>...</td>\n      <td>...</td>\n    </tr>\n    <tr>\n      <th>141419</th>\n      <td>2020-04-30</td>\n      <td>8.967218e+18</td>\n      <td>1588241835</td>\n      <td>Direct</td>\n      <td>(none)</td>\n      <td>(direct)</td>\n      <td>False</td>\n      <td>55</td>\n      <td>NaN</td>\n      <td>2194.0</td>\n      <td>0</td>\n    </tr>\n    <tr>\n      <th>141420</th>\n      <td>2020-04-30</td>\n      <td>9.063905e+18</td>\n      <td>1588268232</td>\n      <td>Paid Search (Non-Brand)</td>\n      <td>cpc</td>\n      <td>google</td>\n      <td>False</td>\n      <td>20</td>\n      <td>NaN</td>\n      <td>229.0</td>\n      <td>0</td>\n    </tr>\n    <tr>\n      <th>141421</th>\n      <td>2020-04-30</td>\n      <td>9.125349e+18</td>\n      <td>1588235466</td>\n      <td>Referral</td>\n      <td>referral</td>\n      <td>deref-gmx.net</td>\n      <td>False</td>\n      <td>42</td>\n      <td>NaN</td>\n      <td>705.0</td>\n      <td>0</td>\n    </tr>\n    <tr>\n      <th>141422</th>\n      <td>2020-04-30</td>\n      <td>9.203921e+17</td>\n      <td>1588223800</td>\n      <td>Paid Search (Non-Brand)</td>\n      <td>cpc</td>\n      <td>google</td>\n      <td>False</td>\n      <td>35</td>\n      <td>NaN</td>\n      <td>192.0</td>\n      <td>0</td>\n    </tr>\n    <tr>\n      <th>141423</th>\n      <td>2020-04-30</td>\n      <td>9.974784e+17</td>\n      <td>1588277391</td>\n      <td>Organic Search</td>\n      <td>organic</td>\n      <td>google</td>\n      <td>False</td>\n      <td>65</td>\n      <td>NaN</td>\n      <td>1141.0</td>\n      <td>0</td>\n    </tr>\n  </tbody>\n</table>\n<p>141424 rows × 11 columns</p>\n</div>"
          },
          "metadata": {}
        }
      ],
      "execution_count": 25,
      "block_group": "c55970abb66749f7a6e0547eca0144d3"
    },
    {
      "cell_type": "markdown",
      "source": "> 1. How do the marketing channels currently perform? \n2. Has there been any change month over month? (Estimate value of a conversion to be 100 €.)",
      "metadata": {
        "formattedRanges": [
          {
            "type": "marks",
            "marks": {
              "bold": true
            },
            "toCodePoint": 23,
            "fromCodePoint": 14
          },
          {
            "type": "marks",
            "marks": {
              "bold": true
            },
            "toCodePoint": 32,
            "fromCodePoint": 24
          }
        ],
        "cell_id": "c88923bad6164c9499ab16a150b87d86",
        "deepnote_cell_type": "text-cell-callout"
      },
      "block_group": "083e20a8a2fb4dd98f321a18cb20fbd8"
    },
    {
      "cell_type": "code",
      "source": "funnel = _deepnote_execute_sql('WITH cs AS (\\n    SELECT\\n        date\\n        , source_medium\\n        , SUM(impressions) AS impressions\\n        , SUM(clicks) AS clicks\\n        , SUM(spend) AS spend\\n    FROM costs\\n    GROUP BY 1, 2\\n)\\n, tf AS (\\n    SELECT\\n        date\\n        , concat(source, \\' / \\', medium) AS source_medium\\n        , SUM(hits) AS hits\\n        , SUM(bounces) AS bounces\\n        , SUM(timeOnSite) AS timeOnSite\\n        , SUM(conversion) AS conversion\\n    FROM traffic\\n    GROUP BY 1, 2\\n    )   \\nSELECT\\n     source_medium\\n    , impressions\\n    , clicks\\n    , spend\\n    , hits\\n    , bounces\\n    , timeOnSite\\n    , conversion\\nFROM cs LEFT JOIN tf USING(date, source_medium)', 'SQL_DEEPNOTE_DATAFRAME_SQL', audit_sql_comment='', sql_cache_mode='cache_disabled')\nfunnel",
      "metadata": {
        "source_hash": "2eb5e8e0",
        "execution_start": 1701536142599,
        "execution_millis": 109,
        "sql_integration_id": "deepnote-dataframe-sql",
        "deepnote_table_state": {
          "sortBy": [],
          "filters": [],
          "pageSize": 5,
          "pageIndex": 0
        },
        "deepnote_table_loading": false,
        "deepnote_variable_name": "funnel",
        "deepnote_to_be_reexecuted": false,
        "cell_id": "6cc326d9a0bd49d6ba78dcbfa259b947",
        "deepnote_cell_type": "sql",
        "deepnote_sql_source": "WITH cs AS (\n    SELECT\n        date\n        , source_medium\n        , SUM(impressions) AS impressions\n        , SUM(clicks) AS clicks\n        , SUM(spend) AS spend\n    FROM costs\n    GROUP BY 1, 2\n)\n, tf AS (\n    SELECT\n        date\n        , concat(source, ' / ', medium) AS source_medium\n        , SUM(hits) AS hits\n        , SUM(bounces) AS bounces\n        , SUM(timeOnSite) AS timeOnSite\n        , SUM(conversion) AS conversion\n    FROM traffic\n    GROUP BY 1, 2\n    )   \nSELECT\n     source_medium\n    , impressions\n    , clicks\n    , spend\n    , hits\n    , bounces\n    , timeOnSite\n    , conversion\nFROM cs LEFT JOIN tf USING(date, source_medium)"
      },
      "outputs": [
        {
          "data": {
            "application/vnd.deepnote.sql-output-metadata+json": {
              "status": "success_no_cache",
              "size_in_bytes": 31238
            }
          },
          "metadata": {},
          "output_type": "display_data"
        },
        {
          "output_type": "execute_result",
          "execution_count": 34,
          "data": {
            "application/vnd.deepnote.dataframe.v3+json": {
              "column_count": 8,
              "row_count": 244,
              "columns": [
                {
                  "name": "source_medium",
                  "dtype": "object",
                  "stats": {
                    "unique_count": 4,
                    "nan_count": 0,
                    "categories": [
                      {
                        "name": "google / cpc",
                        "count": 61
                      },
                      {
                        "name": "bing / cpc",
                        "count": 61
                      },
                      {
                        "name": "2 others",
                        "count": 122
                      }
                    ]
                  }
                },
                {
                  "name": "impressions",
                  "dtype": "int64",
                  "stats": {
                    "unique_count": 157,
                    "nan_count": 0,
                    "min": "0",
                    "max": "244296",
                    "histogram": [
                      {
                        "bin_start": 0,
                        "bin_end": 24429.6,
                        "count": 115
                      },
                      {
                        "bin_start": 24429.6,
                        "bin_end": 48859.2,
                        "count": 36
                      },
                      {
                        "bin_start": 48859.2,
                        "bin_end": 73288.79999999999,
                        "count": 0
                      },
                      {
                        "bin_start": 73288.79999999999,
                        "bin_end": 97718.4,
                        "count": 2
                      },
                      {
                        "bin_start": 97718.4,
                        "bin_end": 122148,
                        "count": 6
                      },
                      {
                        "bin_start": 122148,
                        "bin_end": 146577.59999999998,
                        "count": 19
                      },
                      {
                        "bin_start": 146577.59999999998,
                        "bin_end": 171007.19999999998,
                        "count": 21
                      },
                      {
                        "bin_start": 171007.19999999998,
                        "bin_end": 195436.8,
                        "count": 24
                      },
                      {
                        "bin_start": 195436.8,
                        "bin_end": 219866.4,
                        "count": 16
                      },
                      {
                        "bin_start": 219866.4,
                        "bin_end": 244296,
                        "count": 5
                      }
                    ]
                  }
                },
                {
                  "name": "clicks",
                  "dtype": "int64",
                  "stats": {
                    "unique_count": 155,
                    "nan_count": 0,
                    "min": "0",
                    "max": "149302",
                    "histogram": [
                      {
                        "bin_start": 0,
                        "bin_end": 14930.2,
                        "count": 183
                      },
                      {
                        "bin_start": 14930.2,
                        "bin_end": 29860.4,
                        "count": 0
                      },
                      {
                        "bin_start": 29860.4,
                        "bin_end": 44790.600000000006,
                        "count": 0
                      },
                      {
                        "bin_start": 44790.600000000006,
                        "bin_end": 59720.8,
                        "count": 0
                      },
                      {
                        "bin_start": 59720.8,
                        "bin_end": 74651,
                        "count": 6
                      },
                      {
                        "bin_start": 74651,
                        "bin_end": 89581.20000000001,
                        "count": 6
                      },
                      {
                        "bin_start": 89581.20000000001,
                        "bin_end": 104511.40000000001,
                        "count": 13
                      },
                      {
                        "bin_start": 104511.40000000001,
                        "bin_end": 119441.6,
                        "count": 24
                      },
                      {
                        "bin_start": 119441.6,
                        "bin_end": 134371.80000000002,
                        "count": 9
                      },
                      {
                        "bin_start": 134371.80000000002,
                        "bin_end": 149302,
                        "count": 3
                      }
                    ]
                  }
                },
                {
                  "name": "spend",
                  "dtype": "float64",
                  "stats": {
                    "unique_count": 157,
                    "nan_count": 0,
                    "min": "0.0",
                    "max": "7684.490000000001",
                    "histogram": [
                      {
                        "bin_start": 0,
                        "bin_end": 768.4490000000001,
                        "count": 147
                      },
                      {
                        "bin_start": 768.4490000000001,
                        "bin_end": 1536.8980000000001,
                        "count": 36
                      },
                      {
                        "bin_start": 1536.8980000000001,
                        "bin_end": 2305.347,
                        "count": 0
                      },
                      {
                        "bin_start": 2305.347,
                        "bin_end": 3073.7960000000003,
                        "count": 1
                      },
                      {
                        "bin_start": 3073.7960000000003,
                        "bin_end": 3842.2450000000003,
                        "count": 7
                      },
                      {
                        "bin_start": 3842.2450000000003,
                        "bin_end": 4610.694,
                        "count": 15
                      },
                      {
                        "bin_start": 4610.694,
                        "bin_end": 5379.143,
                        "count": 13
                      },
                      {
                        "bin_start": 5379.143,
                        "bin_end": 6147.592000000001,
                        "count": 6
                      },
                      {
                        "bin_start": 6147.592000000001,
                        "bin_end": 6916.041000000001,
                        "count": 11
                      },
                      {
                        "bin_start": 6916.041000000001,
                        "bin_end": 7684.490000000001,
                        "count": 8
                      }
                    ]
                  }
                },
                {
                  "name": "hits",
                  "dtype": "float64",
                  "stats": {
                    "unique_count": 214,
                    "nan_count": 5,
                    "min": "6.0",
                    "max": "13356.0",
                    "histogram": [
                      {
                        "bin_start": 6,
                        "bin_end": 1341,
                        "count": 176
                      },
                      {
                        "bin_start": 1341,
                        "bin_end": 2676,
                        "count": 2
                      },
                      {
                        "bin_start": 2676,
                        "bin_end": 4011,
                        "count": 0
                      },
                      {
                        "bin_start": 4011,
                        "bin_end": 5346,
                        "count": 0
                      },
                      {
                        "bin_start": 5346,
                        "bin_end": 6681,
                        "count": 4
                      },
                      {
                        "bin_start": 6681,
                        "bin_end": 8016,
                        "count": 3
                      },
                      {
                        "bin_start": 8016,
                        "bin_end": 9351,
                        "count": 14
                      },
                      {
                        "bin_start": 9351,
                        "bin_end": 10686,
                        "count": 25
                      },
                      {
                        "bin_start": 10686,
                        "bin_end": 12021,
                        "count": 9
                      },
                      {
                        "bin_start": 12021,
                        "bin_end": 13356,
                        "count": 6
                      }
                    ]
                  }
                },
                {
                  "name": "bounces",
                  "dtype": "float64",
                  "stats": {
                    "unique_count": 21,
                    "nan_count": 107,
                    "min": "1.0",
                    "max": "27.0",
                    "histogram": [
                      {
                        "bin_start": 1,
                        "bin_end": 3.6,
                        "count": 65
                      },
                      {
                        "bin_start": 3.6,
                        "bin_end": 6.2,
                        "count": 16
                      },
                      {
                        "bin_start": 6.2,
                        "bin_end": 8.8,
                        "count": 5
                      },
                      {
                        "bin_start": 8.8,
                        "bin_end": 11.4,
                        "count": 19
                      },
                      {
                        "bin_start": 11.4,
                        "bin_end": 14,
                        "count": 15
                      },
                      {
                        "bin_start": 14,
                        "bin_end": 16.6,
                        "count": 11
                      },
                      {
                        "bin_start": 16.6,
                        "bin_end": 19.2,
                        "count": 1
                      },
                      {
                        "bin_start": 19.2,
                        "bin_end": 21.8,
                        "count": 1
                      },
                      {
                        "bin_start": 21.8,
                        "bin_end": 24.400000000000002,
                        "count": 2
                      },
                      {
                        "bin_start": 24.400000000000002,
                        "bin_end": 27,
                        "count": 2
                      }
                    ]
                  }
                },
                {
                  "name": "timeOnSite",
                  "dtype": "float64",
                  "stats": {
                    "unique_count": 238,
                    "nan_count": 5,
                    "min": "1.0",
                    "max": "271365.0",
                    "histogram": [
                      {
                        "bin_start": 1,
                        "bin_end": 27137.4,
                        "count": 176
                      },
                      {
                        "bin_start": 27137.4,
                        "bin_end": 54273.8,
                        "count": 2
                      },
                      {
                        "bin_start": 54273.8,
                        "bin_end": 81410.20000000001,
                        "count": 0
                      },
                      {
                        "bin_start": 81410.20000000001,
                        "bin_end": 108546.6,
                        "count": 2
                      },
                      {
                        "bin_start": 108546.6,
                        "bin_end": 135683,
                        "count": 2
                      },
                      {
                        "bin_start": 135683,
                        "bin_end": 162819.40000000002,
                        "count": 7
                      },
                      {
                        "bin_start": 162819.40000000002,
                        "bin_end": 189955.80000000002,
                        "count": 19
                      },
                      {
                        "bin_start": 189955.80000000002,
                        "bin_end": 217092.2,
                        "count": 20
                      },
                      {
                        "bin_start": 217092.2,
                        "bin_end": 244228.6,
                        "count": 9
                      },
                      {
                        "bin_start": 244228.6,
                        "bin_end": 271365,
                        "count": 2
                      }
                    ]
                  }
                },
                {
                  "name": "conversion",
                  "dtype": "float64",
                  "stats": {
                    "unique_count": 69,
                    "nan_count": 5,
                    "min": "0.0",
                    "max": "129.0",
                    "histogram": [
                      {
                        "bin_start": 0,
                        "bin_end": 12.9,
                        "count": 152
                      },
                      {
                        "bin_start": 12.9,
                        "bin_end": 25.8,
                        "count": 24
                      },
                      {
                        "bin_start": 25.8,
                        "bin_end": 38.7,
                        "count": 2
                      },
                      {
                        "bin_start": 38.7,
                        "bin_end": 51.6,
                        "count": 2
                      },
                      {
                        "bin_start": 51.6,
                        "bin_end": 64.5,
                        "count": 11
                      },
                      {
                        "bin_start": 64.5,
                        "bin_end": 77.4,
                        "count": 20
                      },
                      {
                        "bin_start": 77.4,
                        "bin_end": 90.3,
                        "count": 12
                      },
                      {
                        "bin_start": 90.3,
                        "bin_end": 103.2,
                        "count": 9
                      },
                      {
                        "bin_start": 103.2,
                        "bin_end": 116.10000000000001,
                        "count": 4
                      },
                      {
                        "bin_start": 116.10000000000001,
                        "bin_end": 129,
                        "count": 3
                      }
                    ]
                  }
                },
                {
                  "name": "_deepnote_index_column",
                  "dtype": "int64"
                }
              ],
              "rows": [
                {
                  "source_medium": "google / cpc",
                  "impressions": 206281,
                  "clicks": 119570,
                  "spend": 7206.53,
                  "hits": 10821,
                  "bounces": 13,
                  "timeOnSite": 199017,
                  "conversion": 95,
                  "_deepnote_index_column": 0
                },
                {
                  "source_medium": "google / cpc",
                  "impressions": 192259,
                  "clicks": 118161,
                  "spend": 5187.340000000001,
                  "hits": 13356,
                  "bounces": 12,
                  "timeOnSite": 271365,
                  "conversion": 73,
                  "_deepnote_index_column": 1
                },
                {
                  "source_medium": "google / cpc",
                  "impressions": 148931,
                  "clicks": 89510,
                  "spend": 4376.55,
                  "hits": 10026,
                  "bounces": 12,
                  "timeOnSite": 201250,
                  "conversion": 69,
                  "_deepnote_index_column": 2
                },
                {
                  "source_medium": "google / cpc",
                  "impressions": 181233,
                  "clicks": 107727,
                  "spend": 4801.17,
                  "hits": 9083,
                  "bounces": 6,
                  "timeOnSite": 181986,
                  "conversion": 75,
                  "_deepnote_index_column": 3
                },
                {
                  "source_medium": "google / cpc",
                  "impressions": 165793,
                  "clicks": 98372,
                  "spend": 4489.339999999999,
                  "hits": 9915,
                  "bounces": 14,
                  "timeOnSite": 194972,
                  "conversion": 70,
                  "_deepnote_index_column": 4
                }
              ]
            },
            "text/plain": "          source_medium  impressions  clicks    spend     hits  bounces  \\\n0          google / cpc       206281  119570  7206.53  10821.0     13.0   \n1          google / cpc       192259  118161  5187.34  13356.0     12.0   \n2          google / cpc       148931   89510  4376.55  10026.0     12.0   \n3          google / cpc       181233  107727  4801.17   9083.0      6.0   \n4          google / cpc       165793   98372  4489.34   9915.0     14.0   \n..                  ...          ...     ...      ...      ...      ...   \n239  outbrain / display            0       0     0.00      NaN      NaN   \n240  outbrain / display            0       0     0.00      NaN      NaN   \n241          bing / cpc            0       0     0.00      NaN      NaN   \n242          bing / cpc            0       0     0.00      NaN      NaN   \n243          bing / cpc            0       0     0.00      NaN      NaN   \n\n     timeOnSite  conversion  \n0      199017.0        95.0  \n1      271365.0        73.0  \n2      201250.0        69.0  \n3      181986.0        75.0  \n4      194972.0        70.0  \n..          ...         ...  \n239         NaN         NaN  \n240         NaN         NaN  \n241         NaN         NaN  \n242         NaN         NaN  \n243         NaN         NaN  \n\n[244 rows x 8 columns]",
            "text/html": "<div>\n<style scoped>\n    .dataframe tbody tr th:only-of-type {\n        vertical-align: middle;\n    }\n\n    .dataframe tbody tr th {\n        vertical-align: top;\n    }\n\n    .dataframe thead th {\n        text-align: right;\n    }\n</style>\n<table border=\"1\" class=\"dataframe\">\n  <thead>\n    <tr style=\"text-align: right;\">\n      <th></th>\n      <th>source_medium</th>\n      <th>impressions</th>\n      <th>clicks</th>\n      <th>spend</th>\n      <th>hits</th>\n      <th>bounces</th>\n      <th>timeOnSite</th>\n      <th>conversion</th>\n    </tr>\n  </thead>\n  <tbody>\n    <tr>\n      <th>0</th>\n      <td>google / cpc</td>\n      <td>206281</td>\n      <td>119570</td>\n      <td>7206.53</td>\n      <td>10821.0</td>\n      <td>13.0</td>\n      <td>199017.0</td>\n      <td>95.0</td>\n    </tr>\n    <tr>\n      <th>1</th>\n      <td>google / cpc</td>\n      <td>192259</td>\n      <td>118161</td>\n      <td>5187.34</td>\n      <td>13356.0</td>\n      <td>12.0</td>\n      <td>271365.0</td>\n      <td>73.0</td>\n    </tr>\n    <tr>\n      <th>2</th>\n      <td>google / cpc</td>\n      <td>148931</td>\n      <td>89510</td>\n      <td>4376.55</td>\n      <td>10026.0</td>\n      <td>12.0</td>\n      <td>201250.0</td>\n      <td>69.0</td>\n    </tr>\n    <tr>\n      <th>3</th>\n      <td>google / cpc</td>\n      <td>181233</td>\n      <td>107727</td>\n      <td>4801.17</td>\n      <td>9083.0</td>\n      <td>6.0</td>\n      <td>181986.0</td>\n      <td>75.0</td>\n    </tr>\n    <tr>\n      <th>4</th>\n      <td>google / cpc</td>\n      <td>165793</td>\n      <td>98372</td>\n      <td>4489.34</td>\n      <td>9915.0</td>\n      <td>14.0</td>\n      <td>194972.0</td>\n      <td>70.0</td>\n    </tr>\n    <tr>\n      <th>...</th>\n      <td>...</td>\n      <td>...</td>\n      <td>...</td>\n      <td>...</td>\n      <td>...</td>\n      <td>...</td>\n      <td>...</td>\n      <td>...</td>\n    </tr>\n    <tr>\n      <th>239</th>\n      <td>outbrain / display</td>\n      <td>0</td>\n      <td>0</td>\n      <td>0.00</td>\n      <td>NaN</td>\n      <td>NaN</td>\n      <td>NaN</td>\n      <td>NaN</td>\n    </tr>\n    <tr>\n      <th>240</th>\n      <td>outbrain / display</td>\n      <td>0</td>\n      <td>0</td>\n      <td>0.00</td>\n      <td>NaN</td>\n      <td>NaN</td>\n      <td>NaN</td>\n      <td>NaN</td>\n    </tr>\n    <tr>\n      <th>241</th>\n      <td>bing / cpc</td>\n      <td>0</td>\n      <td>0</td>\n      <td>0.00</td>\n      <td>NaN</td>\n      <td>NaN</td>\n      <td>NaN</td>\n      <td>NaN</td>\n    </tr>\n    <tr>\n      <th>242</th>\n      <td>bing / cpc</td>\n      <td>0</td>\n      <td>0</td>\n      <td>0.00</td>\n      <td>NaN</td>\n      <td>NaN</td>\n      <td>NaN</td>\n      <td>NaN</td>\n    </tr>\n    <tr>\n      <th>243</th>\n      <td>bing / cpc</td>\n      <td>0</td>\n      <td>0</td>\n      <td>0.00</td>\n      <td>NaN</td>\n      <td>NaN</td>\n      <td>NaN</td>\n      <td>NaN</td>\n    </tr>\n  </tbody>\n</table>\n<p>244 rows × 8 columns</p>\n</div>"
          },
          "metadata": {}
        }
      ],
      "execution_count": 34,
      "block_group": "ebee721e6c0a4675a18bffe62597f1f1"
    },
    {
      "cell_type": "markdown",
      "source": "Typical order for metrics in the context of a digital marketing:\n\n1. **Impressions:** The number of times an ad or content is displayed to users. It represents the potential reach of the campaign.\n\n2. **Clicks:** The number of times users interact with an ad or content by clicking on it. Clicks are a measure of user engagement and interest.\n\n3. **Conversion:** The ultimate goal of many campaigns, conversion represents the desired action you want users to take, such as making a purchase, filling out a form, or subscribing.",
      "metadata": {
        "cell_id": "3fa9b705ce3d41c7bfa8c1e846274167",
        "deepnote_cell_type": "markdown"
      },
      "block_group": "8e864cfe0583471b8b62faf639821600"
    },
    {
      "cell_type": "code",
      "source": "final = funnel.groupby('source_medium')[('impressions', 'clicks', 'conversion')].sum()\n\nfor index, row in final.iterrows():\n    data = dict(\n        number=row.values,\n        stage=final.columns\n    )\n    fig = px.funnel(data, x='number', y='stage', title=f'Funnel for {index}')\n    fig.show()",
      "metadata": {
        "source_hash": "2448c73a",
        "execution_start": 1701536789419,
        "execution_millis": 8,
        "deepnote_to_be_reexecuted": false,
        "cell_id": "910b7e107fb24c1e97455ddf58075063",
        "deepnote_cell_type": "code"
      },
      "outputs": [
        {
          "output_type": "error",
          "ename": "NameError",
          "evalue": "name 'plt' is not defined",
          "traceback": [
            "\u001b[0;31m---------------------------------------------------------------------------\u001b[0m",
            "\u001b[0;31mNameError\u001b[0m                                 Traceback (most recent call last)",
            "Cell \u001b[0;32mIn [38], line 8\u001b[0m\n\u001b[1;32m      6\u001b[0m n_rows \u001b[38;5;241m=\u001b[39m num_plots \u001b[38;5;241m/\u001b[39m\u001b[38;5;241m/\u001b[39m \u001b[38;5;241m2\u001b[39m\n\u001b[1;32m      7\u001b[0m n_cols \u001b[38;5;241m=\u001b[39m \u001b[38;5;241m2\u001b[39m\n\u001b[0;32m----> 8\u001b[0m fig, axs \u001b[38;5;241m=\u001b[39m \u001b[43mplt\u001b[49m\u001b[38;5;241m.\u001b[39msubplots(n_rows, n_cols, figsize\u001b[38;5;241m=\u001b[39m(\u001b[38;5;241m14\u001b[39m, \u001b[38;5;241m6\u001b[39m\u001b[38;5;241m*\u001b[39mn_rows))\n\u001b[1;32m     10\u001b[0m \u001b[38;5;66;03m# reshape axs array to 1D if num_plots is 1\u001b[39;00m\n\u001b[1;32m     11\u001b[0m \u001b[38;5;28;01mif\u001b[39;00m num_plots \u001b[38;5;241m==\u001b[39m \u001b[38;5;241m1\u001b[39m:\n",
            "\u001b[0;31mNameError\u001b[0m: name 'plt' is not defined"
          ]
        }
      ],
      "execution_count": 38,
      "block_group": "18cc0b6c276c46c9be0b3133e8bca087"
    },
    {
      "cell_type": "code",
      "source": "DeepnoteChart(df_3, \"\"\"{\"layer\":[{\"layer\":[{\"mark\":{\"clip\":true,\"type\":\"trail\",\"tooltip\":true},\"encoding\":{\"x\":{\"sort\":\"ascending\",\"type\":\"ordinal\",\"field\":\"date\",\"scale\":{\"type\":\"linear\",\"zero\":false},\"timeUnit\":\"yearmonthdate\"},\"y\":{\"sort\":null,\"type\":\"quantitative\",\"field\":\"convertion_rate\",\"scale\":{\"type\":\"linear\",\"zero\":false},\"format\":{\"type\":\"default\",\"decimals\":null},\"aggregate\":\"sum\",\"formatType\":\"numberFormatFromNumberType\"},\"color\":{\"sort\":null,\"type\":\"nominal\",\"field\":\"source_medium\",\"scale\":{\"scheme\":\"tableau10\"}}}},{\"mark\":{\"size\":100,\"type\":\"point\",\"opacity\":0,\"tooltip\":true},\"encoding\":{\"x\":{\"sort\":\"ascending\",\"type\":\"ordinal\",\"field\":\"date\",\"scale\":{\"type\":\"linear\",\"zero\":false},\"timeUnit\":\"yearmonthdate\"},\"y\":{\"sort\":null,\"type\":\"quantitative\",\"field\":\"convertion_rate\",\"scale\":{\"type\":\"linear\",\"zero\":false},\"format\":{\"type\":\"default\",\"decimals\":null},\"aggregate\":\"sum\",\"formatType\":\"numberFormatFromNumberType\"},\"color\":{\"sort\":null,\"type\":\"nominal\",\"field\":\"source_medium\",\"scale\":{\"scheme\":\"tableau10\"}}}}]}],\"title\":\"\",\"config\":{\"legend\":{}},\"$schema\":\"https://vega.github.io/schema/vega-lite/v5.json\",\"encoding\":{}}\"\"\")",
      "metadata": {
        "source_hash": "56f197db",
        "execution_start": 1701530074951,
        "execution_millis": 13,
        "deepnote_variable_name": "df_3",
        "deepnote_to_be_reexecuted": true,
        "deepnote_visualization_spec": {
          "layer": [
            {
              "layer": [
                {
                  "mark": {
                    "clip": true,
                    "type": "trail",
                    "tooltip": true
                  },
                  "encoding": {
                    "x": {
                      "sort": "ascending",
                      "type": "ordinal",
                      "field": "date",
                      "scale": {
                        "type": "linear",
                        "zero": false
                      },
                      "timeUnit": "yearmonthdate"
                    },
                    "y": {
                      "sort": null,
                      "type": "quantitative",
                      "field": "convertion_rate",
                      "scale": {
                        "type": "linear",
                        "zero": false
                      },
                      "format": {
                        "type": "default",
                        "decimals": null
                      },
                      "aggregate": "sum",
                      "formatType": "numberFormatFromNumberType"
                    },
                    "color": {
                      "sort": null,
                      "type": "nominal",
                      "field": "source_medium",
                      "scale": {
                        "scheme": "tableau10"
                      }
                    }
                  }
                },
                {
                  "mark": {
                    "size": 100,
                    "type": "point",
                    "opacity": 0,
                    "tooltip": true
                  },
                  "encoding": {
                    "x": {
                      "sort": "ascending",
                      "type": "ordinal",
                      "field": "date",
                      "scale": {
                        "type": "linear",
                        "zero": false
                      },
                      "timeUnit": "yearmonthdate"
                    },
                    "y": {
                      "sort": null,
                      "type": "quantitative",
                      "field": "convertion_rate",
                      "scale": {
                        "type": "linear",
                        "zero": false
                      },
                      "format": {
                        "type": "default",
                        "decimals": null
                      },
                      "aggregate": "sum",
                      "formatType": "numberFormatFromNumberType"
                    },
                    "color": {
                      "sort": null,
                      "type": "nominal",
                      "field": "source_medium",
                      "scale": {
                        "scheme": "tableau10"
                      }
                    }
                  }
                }
              ]
            }
          ],
          "title": "",
          "config": {
            "legend": {}
          },
          "$schema": "https://vega.github.io/schema/vega-lite/v5.json",
          "encoding": {}
        },
        "cell_id": "f353092f1ef346feb890d3aef6c21e81",
        "deepnote_cell_type": "visualization"
      },
      "outputs": [
        {
          "output_type": "execute_result",
          "execution_count": 19,
          "data": {
            "application/vnd.vegalite.v5+json": {
              "$schema": "https://vega.github.io/schema/vega-lite/v5.json",
              "encoding": {},
              "layer": [
                {
                  "layer": [
                    {
                      "mark": {
                        "type": "trail",
                        "tooltip": true,
                        "clip": true
                      },
                      "encoding": {
                        "x": {
                          "field": "date",
                          "type": "ordinal",
                          "timeUnit": "yearmonthdate",
                          "sort": "ascending",
                          "scale": {
                            "zero": false,
                            "type": "linear"
                          }
                        },
                        "y": {
                          "field": "convertion_rate",
                          "type": "quantitative",
                          "aggregate": "sum",
                          "sort": null,
                          "scale": {
                            "zero": false,
                            "type": "linear"
                          },
                          "formatType": "numberFormatFromNumberType",
                          "format": {
                            "type": "default",
                            "decimals": null
                          }
                        },
                        "color": {
                          "field": "source_medium",
                          "type": "nominal",
                          "sort": null,
                          "scale": {
                            "scheme": "tableau10"
                          }
                        }
                      }
                    },
                    {
                      "mark": {
                        "type": "point",
                        "tooltip": true,
                        "size": 100,
                        "opacity": 0
                      },
                      "encoding": {
                        "x": {
                          "field": "date",
                          "type": "ordinal",
                          "timeUnit": "yearmonthdate",
                          "sort": "ascending",
                          "scale": {
                            "zero": false,
                            "type": "linear"
                          }
                        },
                        "y": {
                          "field": "convertion_rate",
                          "type": "quantitative",
                          "aggregate": "sum",
                          "sort": null,
                          "scale": {
                            "zero": false,
                            "type": "linear"
                          },
                          "formatType": "numberFormatFromNumberType",
                          "format": {
                            "type": "default",
                            "decimals": null
                          }
                        },
                        "color": {
                          "field": "source_medium",
                          "type": "nominal",
                          "sort": null,
                          "scale": {
                            "scheme": "tableau10"
                          }
                        }
                      }
                    }
                  ]
                }
              ],
              "title": "",
              "config": {
                "legend": {}
              },
              "data": {
                "values": [
                  {
                    "date": "2020-04-24",
                    "source_medium": "outbrain / display",
                    "impressions": 0,
                    "clicks": 0,
                    "convertion_rate": null,
                    "spend": 0
                  },
                  {
                    "date": "2020-04-23",
                    "source_medium": "google / cpc",
                    "impressions": 183021,
                    "clicks": 108185,
                    "convertion_rate": 0.5911070314335514,
                    "spend": 5340.110000000001
                  },
                  {
                    "date": "2020-04-25",
                    "source_medium": "google / cpc",
                    "impressions": 182623,
                    "clicks": 110149,
                    "convertion_rate": 0.6031496580386917,
                    "spend": 5522.53
                  },
                  {
                    "date": "2020-03-23",
                    "source_medium": "bing / cpc",
                    "impressions": 26368,
                    "clicks": 7989,
                    "convertion_rate": 0.3029808859223301,
                    "spend": 1100.3700000000001
                  },
                  {
                    "date": "2020-04-05",
                    "source_medium": "google / cpc",
                    "impressions": 192346,
                    "clicks": 119374,
                    "convertion_rate": 0.6206211722624854,
                    "spend": 5275.39
                  },
                  {
                    "date": "2020-03-01",
                    "source_medium": "google / cpc",
                    "impressions": 208339,
                    "clicks": 124150,
                    "convertion_rate": 0.5959037914168734,
                    "spend": 6687.53
                  },
                  {
                    "date": "2020-03-14",
                    "source_medium": "bing / cpc",
                    "impressions": 18894,
                    "clicks": 5382,
                    "convertion_rate": 0.2848523340743093,
                    "spend": 720.4599999999999
                  },
                  {
                    "date": "2020-04-11",
                    "source_medium": "google / cpc",
                    "impressions": 153439,
                    "clicks": 93758,
                    "convertion_rate": 0.6110441282855076,
                    "spend": 4100.54
                  },
                  {
                    "date": "2020-04-10",
                    "source_medium": "google / cpc",
                    "impressions": 184228,
                    "clicks": 113462,
                    "convertion_rate": 0.6158781509868206,
                    "spend": 4550.679999999999
                  },
                  {
                    "date": "2020-03-20",
                    "source_medium": "bing / cpc",
                    "impressions": 22765,
                    "clicks": 6079,
                    "convertion_rate": 0.2670327256753789,
                    "spend": 835.3199999999999
                  },
                  {
                    "date": "2020-04-25",
                    "source_medium": "bing / cpc",
                    "impressions": 0,
                    "clicks": 0,
                    "convertion_rate": null,
                    "spend": 0
                  },
                  {
                    "date": "2020-03-11",
                    "source_medium": "google / cpc",
                    "impressions": 179563,
                    "clicks": 102823,
                    "convertion_rate": 0.572629105105172,
                    "spend": 6410.36
                  },
                  {
                    "date": "2020-04-06",
                    "source_medium": "bing / cpc",
                    "impressions": 0,
                    "clicks": 0,
                    "convertion_rate": null,
                    "spend": 0
                  },
                  {
                    "date": "2020-04-30",
                    "source_medium": "bing / cpc",
                    "impressions": 0,
                    "clicks": 0,
                    "convertion_rate": null,
                    "spend": 0
                  },
                  {
                    "date": "2020-03-21",
                    "source_medium": "bing / cpc",
                    "impressions": 22241,
                    "clicks": 6223,
                    "convertion_rate": 0.2797985702081741,
                    "spend": 821.0500000000001
                  },
                  {
                    "date": "2020-04-24",
                    "source_medium": "google / cpc",
                    "impressions": 181233,
                    "clicks": 107727,
                    "convertion_rate": 0.5944116137789476,
                    "spend": 4801.17
                  },
                  {
                    "date": "2020-04-03",
                    "source_medium": "facebook / display",
                    "impressions": 27267,
                    "clicks": 383,
                    "convertion_rate": 0.014046283052774416,
                    "spend": 266.1600000000001
                  },
                  {
                    "date": "2020-03-16",
                    "source_medium": "bing / cpc",
                    "impressions": 21680,
                    "clicks": 6457,
                    "convertion_rate": 0.2978321033210332,
                    "spend": 921.7099999999999
                  },
                  {
                    "date": "2020-04-03",
                    "source_medium": "outbrain / display",
                    "impressions": 0,
                    "clicks": 0,
                    "convertion_rate": null,
                    "spend": 0
                  },
                  {
                    "date": "2020-03-17",
                    "source_medium": "bing / cpc",
                    "impressions": 22897,
                    "clicks": 6613,
                    "convertion_rate": 0.2888151286194698,
                    "spend": 912.6500000000003
                  },
                  {
                    "date": "2020-03-08",
                    "source_medium": "bing / cpc",
                    "impressions": 28400,
                    "clicks": 8594,
                    "convertion_rate": 0.3026056338028169,
                    "spend": 1096.7099999999998
                  },
                  {
                    "date": "2020-03-30",
                    "source_medium": "facebook / display",
                    "impressions": 141954,
                    "clicks": 766,
                    "convertion_rate": 0.00539611423418854,
                    "spend": 430.8100009999999
                  },
                  {
                    "date": "2020-03-14",
                    "source_medium": "facebook / display",
                    "impressions": 122333,
                    "clicks": 791,
                    "convertion_rate": 0.006465957672909191,
                    "spend": 548.85
                  },
                  {
                    "date": "2020-03-02",
                    "source_medium": "bing / cpc",
                    "impressions": 27761,
                    "clicks": 9959,
                    "convertion_rate": 0.3587406793703397,
                    "spend": 1381.27
                  },
                  {
                    "date": "2020-04-10",
                    "source_medium": "bing / cpc",
                    "impressions": 0,
                    "clicks": 0,
                    "convertion_rate": null,
                    "spend": 0
                  },
                  {
                    "date": "2020-03-22",
                    "source_medium": "facebook / display",
                    "impressions": 141876,
                    "clicks": 695,
                    "convertion_rate": 0.004898643886210493,
                    "spend": 374.52000000000004
                  },
                  {
                    "date": "2020-04-13",
                    "source_medium": "google / cpc",
                    "impressions": 239217,
                    "clicks": 147426,
                    "convertion_rate": 0.6162856318739889,
                    "spend": 6261.910000000001
                  },
                  {
                    "date": "2020-04-07",
                    "source_medium": "google / cpc",
                    "impressions": 176560,
                    "clicks": 105567,
                    "convertion_rate": 0.5979100589034889,
                    "spend": 4966.740000000001
                  },
                  {
                    "date": "2020-03-09",
                    "source_medium": "bing / cpc",
                    "impressions": 32315,
                    "clicks": 10509,
                    "convertion_rate": 0.32520501315178707,
                    "spend": 1457.7200000000005
                  },
                  {
                    "date": "2020-03-21",
                    "source_medium": "google / cpc",
                    "impressions": 134208,
                    "clicks": 78519,
                    "convertion_rate": 0.5850545422031473,
                    "spend": 3610.719999999999
                  },
                  {
                    "date": "2020-04-04",
                    "source_medium": "google / cpc",
                    "impressions": 160997,
                    "clicks": 99774,
                    "convertion_rate": 0.6197258334006224,
                    "spend": 3802.5299999999997
                  },
                  {
                    "date": "2020-03-30",
                    "source_medium": "bing / cpc",
                    "impressions": 27280,
                    "clicks": 9443,
                    "convertion_rate": 0.34615102639296186,
                    "spend": 1281.69
                  },
                  {
                    "date": "2020-04-23",
                    "source_medium": "bing / cpc",
                    "impressions": 0,
                    "clicks": 0,
                    "convertion_rate": null,
                    "spend": 0
                  },
                  {
                    "date": "2020-03-11",
                    "source_medium": "bing / cpc",
                    "impressions": 28833,
                    "clicks": 9274,
                    "convertion_rate": 0.32164533694031144,
                    "spend": 1408.3199999999997
                  },
                  {
                    "date": "2020-03-29",
                    "source_medium": "bing / cpc",
                    "impressions": 26558,
                    "clicks": 8473,
                    "convertion_rate": 0.31903757813088335,
                    "spend": 1083.8400000000001
                  },
                  {
                    "date": "2020-04-01",
                    "source_medium": "google / cpc",
                    "impressions": 170640,
                    "clicks": 101278,
                    "convertion_rate": 0.5935185185185186,
                    "spend": 4673.99
                  },
                  {
                    "date": "2020-04-07",
                    "source_medium": "facebook / display",
                    "impressions": 31628,
                    "clicks": 364,
                    "convertion_rate": 0.011508789680030353,
                    "spend": 270.92
                  },
                  {
                    "date": "2020-03-19",
                    "source_medium": "bing / cpc",
                    "impressions": 22282,
                    "clicks": 6558,
                    "convertion_rate": 0.2943182838165335,
                    "spend": 944.98
                  },
                  {
                    "date": "2020-04-19",
                    "source_medium": "bing / cpc",
                    "impressions": 0,
                    "clicks": 0,
                    "convertion_rate": null,
                    "spend": 0
                  },
                  {
                    "date": "2020-03-08",
                    "source_medium": "google / cpc",
                    "impressions": 209286,
                    "clicks": 126075,
                    "convertion_rate": 0.6024053209483673,
                    "spend": 7265.28
                  },
                  {
                    "date": "2020-03-28",
                    "source_medium": "bing / cpc",
                    "impressions": 21091,
                    "clicks": 6451,
                    "convertion_rate": 0.30586506092646154,
                    "spend": 808
                  },
                  {
                    "date": "2020-03-15",
                    "source_medium": "bing / cpc",
                    "impressions": 22993,
                    "clicks": 6511,
                    "convertion_rate": 0.28317313965119817,
                    "spend": 889.7399999999999
                  },
                  {
                    "date": "2020-03-06",
                    "source_medium": "google / cpc",
                    "impressions": 186337,
                    "clicks": 108537,
                    "convertion_rate": 0.58247691011447,
                    "spend": 6631.950000000001
                  },
                  {
                    "date": "2020-04-01",
                    "source_medium": "bing / cpc",
                    "impressions": 16166,
                    "clicks": 8470,
                    "convertion_rate": 0.5239391315105778,
                    "spend": 973.49
                  },
                  {
                    "date": "2020-04-28",
                    "source_medium": "google / cpc",
                    "impressions": 218824,
                    "clicks": 128332,
                    "convertion_rate": 0.5864621796512266,
                    "spend": 7684.490000000001
                  },
                  {
                    "date": "2020-03-10",
                    "source_medium": "facebook / display",
                    "impressions": 127003,
                    "clicks": 968,
                    "convertion_rate": 0.007621867199987402,
                    "spend": 662.7799990000001
                  },
                  {
                    "date": "2020-03-30",
                    "source_medium": "google / cpc",
                    "impressions": 179789,
                    "clicks": 106242,
                    "convertion_rate": 0.5909260299573389,
                    "spend": 4506.429999999999
                  },
                  {
                    "date": "2020-03-02",
                    "source_medium": "google / cpc",
                    "impressions": 204361,
                    "clicks": 117985,
                    "convertion_rate": 0.577336184497042,
                    "spend": 7014.25
                  },
                  {
                    "date": "2020-03-29",
                    "source_medium": "google / cpc",
                    "impressions": 192259,
                    "clicks": 118161,
                    "convertion_rate": 0.6145928149007329,
                    "spend": 5187.340000000001
                  },
                  {
                    "date": "2020-04-17",
                    "source_medium": "bing / cpc",
                    "impressions": 0,
                    "clicks": 0,
                    "convertion_rate": null,
                    "spend": 0
                  },
                  {
                    "date": "2020-04-15",
                    "source_medium": "bing / cpc",
                    "impressions": 0,
                    "clicks": 0,
                    "convertion_rate": null,
                    "spend": 0
                  },
                  {
                    "date": "2020-03-31",
                    "source_medium": "google / cpc",
                    "impressions": 180753,
                    "clicks": 107646,
                    "convertion_rate": 0.5955419827056813,
                    "spend": 4452.950000000001
                  },
                  {
                    "date": "2020-04-21",
                    "source_medium": "google / cpc",
                    "impressions": 200565,
                    "clicks": 118494,
                    "convertion_rate": 0.5908009872111286,
                    "spend": 5817.52
                  },
                  {
                    "date": "2020-03-18",
                    "source_medium": "google / cpc",
                    "impressions": 121711,
                    "clicks": 69497,
                    "convertion_rate": 0.5710001561075005,
                    "spend": 3865.77
                  },
                  {
                    "date": "2020-04-04",
                    "source_medium": "bing / cpc",
                    "impressions": 0,
                    "clicks": 0,
                    "convertion_rate": null,
                    "spend": 0
                  },
                  {
                    "date": "2020-04-16",
                    "source_medium": "bing / cpc",
                    "impressions": 0,
                    "clicks": 0,
                    "convertion_rate": null,
                    "spend": 0
                  },
                  {
                    "date": "2020-04-20",
                    "source_medium": "bing / cpc",
                    "impressions": 0,
                    "clicks": 0,
                    "convertion_rate": null,
                    "spend": 0
                  },
                  {
                    "date": "2020-04-09",
                    "source_medium": "bing / cpc",
                    "impressions": 0,
                    "clicks": 0,
                    "convertion_rate": null,
                    "spend": 0
                  },
                  {
                    "date": "2020-03-05",
                    "source_medium": "bing / cpc",
                    "impressions": 28213,
                    "clicks": 9646,
                    "convertion_rate": 0.3418991245170666,
                    "spend": 1307.8299999999997
                  },
                  {
                    "date": "2020-03-15",
                    "source_medium": "google / cpc",
                    "impressions": 154128,
                    "clicks": 91921,
                    "convertion_rate": 0.596393906363542,
                    "spend": 6580.9800000000005
                  },
                  {
                    "date": "2020-03-07",
                    "source_medium": "bing / cpc",
                    "impressions": 23869,
                    "clicks": 7089,
                    "convertion_rate": 0.29699610373287527,
                    "spend": 911.6299999999999
                  },
                  {
                    "date": "2020-03-31",
                    "source_medium": "bing / cpc",
                    "impressions": 23231,
                    "clicks": 9350,
                    "convertion_rate": 0.4024794455684215,
                    "spend": 1161.82
                  },
                  {
                    "date": "2020-03-03",
                    "source_medium": "bing / cpc",
                    "impressions": 27445,
                    "clicks": 9925,
                    "convertion_rate": 0.3616323556203316,
                    "spend": 1350.3499999999997
                  },
                  {
                    "date": "2020-03-20",
                    "source_medium": "google / cpc",
                    "impressions": 115818,
                    "clicks": 67142,
                    "convertion_rate": 0.5797199053687683,
                    "spend": 3002.99
                  },
                  {
                    "date": "2020-03-10",
                    "source_medium": "google / cpc",
                    "impressions": 196486,
                    "clicks": 113350,
                    "convertion_rate": 0.5768858849994402,
                    "spend": 6736.64
                  },
                  {
                    "date": "2020-04-19",
                    "source_medium": "google / cpc",
                    "impressions": 244296,
                    "clicks": 149302,
                    "convertion_rate": 0.611152045060091,
                    "spend": 7488.590000000001
                  },
                  {
                    "date": "2020-03-24",
                    "source_medium": "google / cpc",
                    "impressions": 151705,
                    "clicks": 88486,
                    "convertion_rate": 0.5832767542269536,
                    "spend": 3977.28
                  },
                  {
                    "date": "2020-04-15",
                    "source_medium": "google / cpc",
                    "impressions": 202582,
                    "clicks": 121557,
                    "convertion_rate": 0.6000385029272097,
                    "spend": 4976.72
                  },
                  {
                    "date": "2020-03-18",
                    "source_medium": "bing / cpc",
                    "impressions": 22105,
                    "clicks": 6226,
                    "convertion_rate": 0.2816557339968333,
                    "spend": 842.0599999999997
                  },
                  {
                    "date": "2020-03-12",
                    "source_medium": "google / cpc",
                    "impressions": 161128,
                    "clicks": 92391,
                    "convertion_rate": 0.5734012710391738,
                    "spend": 5351.79
                  },
                  {
                    "date": "2020-04-30",
                    "source_medium": "google / cpc",
                    "impressions": 196168,
                    "clicks": 116551,
                    "convertion_rate": 0.5941386974430081,
                    "spend": 5518.070000000001
                  },
                  {
                    "date": "2020-04-08",
                    "source_medium": "facebook / display",
                    "impressions": 32733,
                    "clicks": 409,
                    "convertion_rate": 0.012495035590993799,
                    "spend": 295.470001
                  },
                  {
                    "date": "2020-03-28",
                    "source_medium": "google / cpc",
                    "impressions": 158891,
                    "clicks": 96675,
                    "convertion_rate": 0.608435971829745,
                    "spend": 3759.8599999999997
                  },
                  {
                    "date": "2020-03-26",
                    "source_medium": "google / cpc",
                    "impressions": 159930,
                    "clicks": 94152,
                    "convertion_rate": 0.5887075595573064,
                    "spend": 3766.1500000000005
                  },
                  {
                    "date": "2020-04-14",
                    "source_medium": "facebook / display",
                    "impressions": 30851,
                    "clicks": 426,
                    "convertion_rate": 0.013808304430974685,
                    "spend": 301.7199999999998
                  },
                  {
                    "date": "2020-03-14",
                    "source_medium": "google / cpc",
                    "impressions": 130942,
                    "clicks": 76642,
                    "convertion_rate": 0.585312581142796,
                    "spend": 6282.360000000001
                  },
                  {
                    "date": "2020-03-07",
                    "source_medium": "google / cpc",
                    "impressions": 174921,
                    "clicks": 103487,
                    "convertion_rate": 0.5916213604998828,
                    "spend": 6377.53
                  },
                  {
                    "date": "2020-03-19",
                    "source_medium": "facebook / display",
                    "impressions": 173124,
                    "clicks": 719,
                    "convertion_rate": 0.004153092581040179,
                    "spend": 498.03
                  },
                  {
                    "date": "2020-03-22",
                    "source_medium": "bing / cpc",
                    "impressions": 24530,
                    "clicks": 6653,
                    "convertion_rate": 0.27121891561353445,
                    "spend": 851.94
                  },
                  {
                    "date": "2020-03-18",
                    "source_medium": "facebook / display",
                    "impressions": 148868,
                    "clicks": 609,
                    "convertion_rate": 0.004090872450761749,
                    "spend": 469.53999999999985
                  },
                  {
                    "date": "2020-03-25",
                    "source_medium": "outbrain / display",
                    "impressions": 0,
                    "clicks": 0,
                    "convertion_rate": null,
                    "spend": 0
                  },
                  {
                    "date": "2020-03-06",
                    "source_medium": "bing / cpc",
                    "impressions": 28934,
                    "clicks": 9064,
                    "convertion_rate": 0.3132646713209373,
                    "spend": 1253.6200000000001
                  },
                  {
                    "date": "2020-04-29",
                    "source_medium": "google / cpc",
                    "impressions": 212659,
                    "clicks": 124697,
                    "convertion_rate": 0.5863706685350726,
                    "spend": 7210.949999999999
                  },
                  {
                    "date": "2020-03-09",
                    "source_medium": "google / cpc",
                    "impressions": 206281,
                    "clicks": 119570,
                    "convertion_rate": 0.5796462107513537,
                    "spend": 7206.53
                  },
                  {
                    "date": "2020-04-03",
                    "source_medium": "bing / cpc",
                    "impressions": 6792,
                    "clicks": 3629,
                    "convertion_rate": 0.5343050647820966,
                    "spend": 420.09000000000003
                  },
                  {
                    "date": "2020-04-15",
                    "source_medium": "facebook / display",
                    "impressions": 30340,
                    "clicks": 407,
                    "convertion_rate": 0.013414634146341463,
                    "spend": 310.56000000000006
                  },
                  {
                    "date": "2020-04-12",
                    "source_medium": "google / cpc",
                    "impressions": 181504,
                    "clicks": 113154,
                    "convertion_rate": 0.6234242771509168,
                    "spend": 4489.1900000000005
                  },
                  {
                    "date": "2020-04-02",
                    "source_medium": "google / cpc",
                    "impressions": 174849,
                    "clicks": 104887,
                    "convertion_rate": 0.5998718894589046,
                    "spend": 4460.969999999999
                  },
                  {
                    "date": "2020-04-24",
                    "source_medium": "bing / cpc",
                    "impressions": 0,
                    "clicks": 0,
                    "convertion_rate": null,
                    "spend": 0
                  },
                  {
                    "date": "2020-04-27",
                    "source_medium": "bing / cpc",
                    "impressions": 0,
                    "clicks": 0,
                    "convertion_rate": null,
                    "spend": 0
                  },
                  {
                    "date": "2020-03-16",
                    "source_medium": "google / cpc",
                    "impressions": 127987,
                    "clicks": 73308,
                    "convertion_rate": 0.5727769226562073,
                    "spend": 5486.820000000001
                  },
                  {
                    "date": "2020-03-05",
                    "source_medium": "google / cpc",
                    "impressions": 195465,
                    "clicks": 114332,
                    "convertion_rate": 0.58492313201852,
                    "spend": 6754.999999999999
                  },
                  {
                    "date": "2020-04-16",
                    "source_medium": "google / cpc",
                    "impressions": 189262,
                    "clicks": 113467,
                    "convertion_rate": 0.5995234119897285,
                    "spend": 4740.39
                  },
                  {
                    "date": "2020-03-20",
                    "source_medium": "facebook / display",
                    "impressions": 112872,
                    "clicks": 425,
                    "convertion_rate": 0.0037653270961797436,
                    "spend": 285.31
                  },
                  {
                    "date": "2020-03-24",
                    "source_medium": "bing / cpc",
                    "impressions": 26934,
                    "clicks": 8012,
                    "convertion_rate": 0.29746788445830546,
                    "spend": 1083.86
                  },
                  {
                    "date": "2020-04-20",
                    "source_medium": "google / cpc",
                    "impressions": 211071,
                    "clicks": 124237,
                    "convertion_rate": 0.5886028871801432,
                    "spend": 6065.09
                  },
                  {
                    "date": "2020-04-08",
                    "source_medium": "google / cpc",
                    "impressions": 165793,
                    "clicks": 98372,
                    "convertion_rate": 0.5933423003383738,
                    "spend": 4489.339999999999
                  },
                  {
                    "date": "2020-04-24",
                    "source_medium": "facebook / display",
                    "impressions": 17254,
                    "clicks": 275,
                    "convertion_rate": 0.015938333140141415,
                    "spend": 170.98999999999995
                  },
                  {
                    "date": "2020-04-08",
                    "source_medium": "bing / cpc",
                    "impressions": 0,
                    "clicks": 0,
                    "convertion_rate": null,
                    "spend": 0
                  },
                  {
                    "date": "2020-03-09",
                    "source_medium": "outbrain / display",
                    "impressions": 0,
                    "clicks": 0,
                    "convertion_rate": null,
                    "spend": 0
                  },
                  {
                    "date": "2020-04-09",
                    "source_medium": "google / cpc",
                    "impressions": 157576,
                    "clicks": 94136,
                    "convertion_rate": 0.5974006193836625,
                    "spend": 3869.0200000000004
                  },
                  {
                    "date": "2020-04-21",
                    "source_medium": "bing / cpc",
                    "impressions": 0,
                    "clicks": 0,
                    "convertion_rate": null,
                    "spend": 0
                  },
                  {
                    "date": "2020-03-13",
                    "source_medium": "google / cpc",
                    "impressions": 127422,
                    "clicks": 72722,
                    "convertion_rate": 0.5707177724411797,
                    "spend": 4687.0700000000015
                  },
                  {
                    "date": "2020-03-28",
                    "source_medium": "outbrain / display",
                    "impressions": 0,
                    "clicks": 0,
                    "convertion_rate": null,
                    "spend": 0
                  },
                  {
                    "date": "2020-03-27",
                    "source_medium": "facebook / display",
                    "impressions": 208796,
                    "clicks": 1053,
                    "convertion_rate": 0.005043200061303856,
                    "spend": 568.21
                  },
                  {
                    "date": "2020-04-06",
                    "source_medium": "google / cpc",
                    "impressions": 180528,
                    "clicks": 108371,
                    "convertion_rate": 0.600300230435168,
                    "spend": 4568.93
                  },
                  {
                    "date": "2020-04-12",
                    "source_medium": "bing / cpc",
                    "impressions": 0,
                    "clicks": 0,
                    "convertion_rate": null,
                    "spend": 0
                  },
                  {
                    "date": "2020-03-17",
                    "source_medium": "google / cpc",
                    "impressions": 128390,
                    "clicks": 73359,
                    "convertion_rate": 0.5713762754108576,
                    "spend": 4440.44
                  },
                  {
                    "date": "2020-03-13",
                    "source_medium": "bing / cpc",
                    "impressions": 24298,
                    "clicks": 6404,
                    "convertion_rate": 0.26356078689604084,
                    "spend": 1052.01
                  },
                  {
                    "date": "2020-03-27",
                    "source_medium": "bing / cpc",
                    "impressions": 23610,
                    "clicks": 7450,
                    "convertion_rate": 0.3155442609063956,
                    "spend": 1000.7700000000001
                  },
                  {
                    "date": "2020-03-21",
                    "source_medium": "facebook / display",
                    "impressions": 139537,
                    "clicks": 656,
                    "convertion_rate": 0.004701262030859198,
                    "spend": 369.40000000000003
                  },
                  {
                    "date": "2020-04-17",
                    "source_medium": "google / cpc",
                    "impressions": 182413,
                    "clicks": 109592,
                    "convertion_rate": 0.6007905138339921,
                    "spend": 5065.66
                  },
                  {
                    "date": "2020-03-04",
                    "source_medium": "facebook / display",
                    "impressions": 124385,
                    "clicks": 1148,
                    "convertion_rate": 0.009229408690758532,
                    "spend": 637.430001
                  },
                  {
                    "date": "2020-03-10",
                    "source_medium": "bing / cpc",
                    "impressions": 30812,
                    "clicks": 10171,
                    "convertion_rate": 0.3300986628586265,
                    "spend": 1451.7400000000002
                  },
                  {
                    "date": "2020-03-04",
                    "source_medium": "bing / cpc",
                    "impressions": 28044,
                    "clicks": 9812,
                    "convertion_rate": 0.3498787619455142,
                    "spend": 1328.61
                  },
                  {
                    "date": "2020-03-03",
                    "source_medium": "facebook / display",
                    "impressions": 91468,
                    "clicks": 847,
                    "convertion_rate": 0.009260069095202694,
                    "spend": 531.920001
                  },
                  {
                    "date": "2020-04-13",
                    "source_medium": "bing / cpc",
                    "impressions": 0,
                    "clicks": 0,
                    "convertion_rate": null,
                    "spend": 0
                  },
                  {
                    "date": "2020-03-12",
                    "source_medium": "bing / cpc",
                    "impressions": 26775,
                    "clicks": 8353,
                    "convertion_rate": 0.31197012138188607,
                    "spend": 1217.37
                  },
                  {
                    "date": "2020-04-27",
                    "source_medium": "outbrain / display",
                    "impressions": 0,
                    "clicks": 0,
                    "convertion_rate": null,
                    "spend": 0
                  },
                  {
                    "date": "2020-03-24",
                    "source_medium": "facebook / display",
                    "impressions": 158984,
                    "clicks": 776,
                    "convertion_rate": 0.004880994313893222,
                    "spend": 427.2499999999999
                  },
                  {
                    "date": "2020-03-22",
                    "source_medium": "google / cpc",
                    "impressions": 148931,
                    "clicks": 89510,
                    "convertion_rate": 0.6010165781469271,
                    "spend": 4376.55
                  },
                  {
                    "date": "2020-04-18",
                    "source_medium": "bing / cpc",
                    "impressions": 0,
                    "clicks": 0,
                    "convertion_rate": null,
                    "spend": 0
                  },
                  {
                    "date": "2020-04-07",
                    "source_medium": "bing / cpc",
                    "impressions": 0,
                    "clicks": 0,
                    "convertion_rate": null,
                    "spend": 0
                  },
                  {
                    "date": "2020-03-01",
                    "source_medium": "bing / cpc",
                    "impressions": 25050,
                    "clicks": 8476,
                    "convertion_rate": 0.3383632734530938,
                    "spend": 1160.9799999999998
                  },
                  {
                    "date": "2020-03-26",
                    "source_medium": "bing / cpc",
                    "impressions": 25467,
                    "clicks": 8519,
                    "convertion_rate": 0.3345113283857541,
                    "spend": 1175.44
                  },
                  {
                    "date": "2020-04-27",
                    "source_medium": "google / cpc",
                    "impressions": 216524,
                    "clicks": 126228,
                    "convertion_rate": 0.5829746356062145,
                    "spend": 7411.030000000001
                  },
                  {
                    "date": "2020-04-05",
                    "source_medium": "bing / cpc",
                    "impressions": 0,
                    "clicks": 0,
                    "convertion_rate": null,
                    "spend": 0
                  },
                  {
                    "date": "2020-04-21",
                    "source_medium": "facebook / display",
                    "impressions": 32022,
                    "clicks": 432,
                    "convertion_rate": 0.013490725126475547,
                    "spend": 302.4799999999998
                  },
                  {
                    "date": "2020-03-23",
                    "source_medium": "google / cpc",
                    "impressions": 150392,
                    "clicks": 87686,
                    "convertion_rate": 0.583049630299484,
                    "spend": 3665.62
                  },
                  {
                    "date": "2020-03-23",
                    "source_medium": "facebook / display",
                    "impressions": 165675,
                    "clicks": 628,
                    "convertion_rate": 0.0037905537950807303,
                    "spend": 300.24
                  },
                  {
                    "date": "2020-03-02",
                    "source_medium": "facebook / display",
                    "impressions": 97582,
                    "clicks": 933,
                    "convertion_rate": 0.009561189563649033,
                    "spend": 524.9099999999999
                  },
                  {
                    "date": "2020-03-01",
                    "source_medium": "facebook / display",
                    "impressions": 158118,
                    "clicks": 1676,
                    "convertion_rate": 0.010599678720955236,
                    "spend": 822.23
                  },
                  {
                    "date": "2020-04-02",
                    "source_medium": "bing / cpc",
                    "impressions": 16103,
                    "clicks": 8390,
                    "convertion_rate": 0.5210209277774328,
                    "spend": 943.72
                  },
                  {
                    "date": "2020-04-28",
                    "source_medium": "bing / cpc",
                    "impressions": 0,
                    "clicks": 0,
                    "convertion_rate": null,
                    "spend": 0
                  },
                  {
                    "date": "2020-04-04",
                    "source_medium": "facebook / display",
                    "impressions": 28648,
                    "clicks": 436,
                    "convertion_rate": 0.015219212510471935,
                    "spend": 290.8499999999999
                  },
                  {
                    "date": "2020-04-18",
                    "source_medium": "google / cpc",
                    "impressions": 194657,
                    "clicks": 118396,
                    "convertion_rate": 0.6082288332811047,
                    "spend": 5880.9400000000005
                  },
                  {
                    "date": "2020-03-19",
                    "source_medium": "google / cpc",
                    "impressions": 128134,
                    "clicks": 73535,
                    "convertion_rate": 0.573891394945916,
                    "spend": 3687.4100000000008
                  },
                  {
                    "date": "2020-04-12",
                    "source_medium": "outbrain / display",
                    "impressions": 0,
                    "clicks": 0,
                    "convertion_rate": null,
                    "spend": 0
                  },
                  {
                    "date": "2020-03-07",
                    "source_medium": "facebook / display",
                    "impressions": 107648,
                    "clicks": 942,
                    "convertion_rate": 0.008750743162901309,
                    "spend": 628.580001
                  },
                  {
                    "date": "2020-03-27",
                    "source_medium": "google / cpc",
                    "impressions": 149857,
                    "clicks": 89231,
                    "convertion_rate": 0.5954409870743442,
                    "spend": 3582.779999999999
                  },
                  {
                    "date": "2020-04-26",
                    "source_medium": "google / cpc",
                    "impressions": 224034,
                    "clicks": 136491,
                    "convertion_rate": 0.6092423471437372,
                    "spend": 7427.220000000001
                  },
                  {
                    "date": "2020-04-06",
                    "source_medium": "facebook / display",
                    "impressions": 21891,
                    "clicks": 307,
                    "convertion_rate": 0.014024028139418025,
                    "spend": 189.05999999999997
                  },
                  {
                    "date": "2020-04-19",
                    "source_medium": "facebook / display",
                    "impressions": 33993,
                    "clicks": 580,
                    "convertion_rate": 0.01706233636336893,
                    "spend": 328.8399999999998
                  },
                  {
                    "date": "2020-03-25",
                    "source_medium": "facebook / display",
                    "impressions": 123213,
                    "clicks": 717,
                    "convertion_rate": 0.005819191156777288,
                    "spend": 466.17000000000013
                  },
                  {
                    "date": "2020-03-06",
                    "source_medium": "facebook / display",
                    "impressions": 112193,
                    "clicks": 879,
                    "convertion_rate": 0.007834713395666396,
                    "spend": 609.6300000000001
                  },
                  {
                    "date": "2020-03-15",
                    "source_medium": "outbrain / display",
                    "impressions": 0,
                    "clicks": 0,
                    "convertion_rate": null,
                    "spend": 0
                  },
                  {
                    "date": "2020-03-26",
                    "source_medium": "facebook / display",
                    "impressions": 158786,
                    "clicks": 777,
                    "convertion_rate": 0.004893378509440379,
                    "spend": 413.7499999999997
                  },
                  {
                    "date": "2020-03-31",
                    "source_medium": "facebook / display",
                    "impressions": 192968,
                    "clicks": 896,
                    "convertion_rate": 0.004643256913063306,
                    "spend": 542.3099999999998
                  },
                  {
                    "date": "2020-03-04",
                    "source_medium": "google / cpc",
                    "impressions": 199004,
                    "clicks": 116322,
                    "convertion_rate": 0.5845209141524793,
                    "spend": 6815.749999999999
                  },
                  {
                    "date": "2020-03-15",
                    "source_medium": "facebook / display",
                    "impressions": 182308,
                    "clicks": 1307,
                    "convertion_rate": 0.0071691862123439455,
                    "spend": 817.5099999999999
                  },
                  {
                    "date": "2020-03-09",
                    "source_medium": "facebook / display",
                    "impressions": 144719,
                    "clicks": 1196,
                    "convertion_rate": 0.008264291489023556,
                    "spend": 815.940001
                  },
                  {
                    "date": "2020-03-03",
                    "source_medium": "google / cpc",
                    "impressions": 204915,
                    "clicks": 117829,
                    "convertion_rate": 0.5750140302076471,
                    "spend": 6508.680000000002
                  },
                  {
                    "date": "2020-03-12",
                    "source_medium": "outbrain / display",
                    "impressions": 0,
                    "clicks": 0,
                    "convertion_rate": null,
                    "spend": 0
                  },
                  {
                    "date": "2020-04-03",
                    "source_medium": "google / cpc",
                    "impressions": 167760,
                    "clicks": 100917,
                    "convertion_rate": 0.6015557939914163,
                    "spend": 3865.0999999999995
                  },
                  {
                    "date": "2020-04-15",
                    "source_medium": "outbrain / display",
                    "impressions": 0,
                    "clicks": 0,
                    "convertion_rate": null,
                    "spend": 0
                  },
                  {
                    "date": "2020-04-12",
                    "source_medium": "facebook / display",
                    "impressions": 28014,
                    "clicks": 378,
                    "convertion_rate": 0.013493253373313344,
                    "spend": 302.4299999999997
                  },
                  {
                    "date": "2020-04-29",
                    "source_medium": "bing / cpc",
                    "impressions": 0,
                    "clicks": 0,
                    "convertion_rate": null,
                    "spend": 0
                  },
                  {
                    "date": "2020-04-13",
                    "source_medium": "facebook / display",
                    "impressions": 32066,
                    "clicks": 525,
                    "convertion_rate": 0.016372481756377472,
                    "spend": 328.9000000000001
                  },
                  {
                    "date": "2020-03-17",
                    "source_medium": "facebook / display",
                    "impressions": 145959,
                    "clicks": 684,
                    "convertion_rate": 0.004686247507861797,
                    "spend": 527.0999989999999
                  },
                  {
                    "date": "2020-04-20",
                    "source_medium": "outbrain / display",
                    "impressions": 0,
                    "clicks": 0,
                    "convertion_rate": null,
                    "spend": 0
                  },
                  {
                    "date": "2020-04-26",
                    "source_medium": "bing / cpc",
                    "impressions": 0,
                    "clicks": 0,
                    "convertion_rate": null,
                    "spend": 0
                  },
                  {
                    "date": "2020-03-08",
                    "source_medium": "outbrain / display",
                    "impressions": 0,
                    "clicks": 0,
                    "convertion_rate": null,
                    "spend": 0
                  },
                  {
                    "date": "2020-04-11",
                    "source_medium": "bing / cpc",
                    "impressions": 0,
                    "clicks": 0,
                    "convertion_rate": null,
                    "spend": 0
                  },
                  {
                    "date": "2020-03-30",
                    "source_medium": "outbrain / display",
                    "impressions": 0,
                    "clicks": 0,
                    "convertion_rate": null,
                    "spend": 0
                  },
                  {
                    "date": "2020-04-16",
                    "source_medium": "facebook / display",
                    "impressions": 25953,
                    "clicks": 331,
                    "convertion_rate": 0.012753824220706662,
                    "spend": 250.01000000000008
                  },
                  {
                    "date": "2020-04-10",
                    "source_medium": "facebook / display",
                    "impressions": 29516,
                    "clicks": 431,
                    "convertion_rate": 0.014602249627320775,
                    "spend": 324.8399999999998
                  },
                  {
                    "date": "2020-04-29",
                    "source_medium": "facebook / display",
                    "impressions": 20856,
                    "clicks": 303,
                    "convertion_rate": 0.01452819332566168,
                    "spend": 202.51
                  },
                  {
                    "date": "2020-03-11",
                    "source_medium": "facebook / display",
                    "impressions": 109954,
                    "clicks": 792,
                    "convertion_rate": 0.007203012168725103,
                    "spend": 561.72
                  },
                  {
                    "date": "2020-04-22",
                    "source_medium": "facebook / display",
                    "impressions": 25425,
                    "clicks": 320,
                    "convertion_rate": 0.012586037364798427,
                    "spend": 239.73
                  },
                  {
                    "date": "2020-04-01",
                    "source_medium": "facebook / display",
                    "impressions": 186850,
                    "clicks": 912,
                    "convertion_rate": 0.004880920524484881,
                    "spend": 532.14
                  },
                  {
                    "date": "2020-03-12",
                    "source_medium": "facebook / display",
                    "impressions": 134393,
                    "clicks": 851,
                    "convertion_rate": 0.006332175038878513,
                    "spend": 649.8799999999999
                  },
                  {
                    "date": "2020-03-29",
                    "source_medium": "facebook / display",
                    "impressions": 230582,
                    "clicks": 1612,
                    "convertion_rate": 0.006991005369022734,
                    "spend": 715.59
                  },
                  {
                    "date": "2020-03-07",
                    "source_medium": "outbrain / display",
                    "impressions": 0,
                    "clicks": 0,
                    "convertion_rate": null,
                    "spend": 0
                  },
                  {
                    "date": "2020-04-18",
                    "source_medium": "facebook / display",
                    "impressions": 22919,
                    "clicks": 330,
                    "convertion_rate": 0.014398533967450586,
                    "spend": 213.43
                  },
                  {
                    "date": "2020-03-19",
                    "source_medium": "outbrain / display",
                    "impressions": 0,
                    "clicks": 0,
                    "convertion_rate": null,
                    "spend": 0
                  },
                  {
                    "date": "2020-03-05",
                    "source_medium": "facebook / display",
                    "impressions": 125562,
                    "clicks": 1090,
                    "convertion_rate": 0.008680970357273698,
                    "spend": 647.25
                  },
                  {
                    "date": "2020-04-26",
                    "source_medium": "facebook / display",
                    "impressions": 26032,
                    "clicks": 472,
                    "convertion_rate": 0.018131530424093423,
                    "spend": 259.56
                  },
                  {
                    "date": "2020-03-26",
                    "source_medium": "outbrain / display",
                    "impressions": 0,
                    "clicks": 0,
                    "convertion_rate": null,
                    "spend": 0
                  },
                  {
                    "date": "2020-03-13",
                    "source_medium": "facebook / display",
                    "impressions": 136705,
                    "clicks": 685,
                    "convertion_rate": 0.005010789656559746,
                    "spend": 522.8399999999999
                  },
                  {
                    "date": "2020-04-20",
                    "source_medium": "facebook / display",
                    "impressions": 27757,
                    "clicks": 397,
                    "convertion_rate": 0.014302698418416976,
                    "spend": 262.25000000000006
                  },
                  {
                    "date": "2020-04-11",
                    "source_medium": "facebook / display",
                    "impressions": 23926,
                    "clicks": 330,
                    "convertion_rate": 0.013792526958120872,
                    "spend": 269.68999999999994
                  },
                  {
                    "date": "2020-03-14",
                    "source_medium": "outbrain / display",
                    "impressions": 0,
                    "clicks": 0,
                    "convertion_rate": null,
                    "spend": 0
                  },
                  {
                    "date": "2020-03-11",
                    "source_medium": "outbrain / display",
                    "impressions": 0,
                    "clicks": 0,
                    "convertion_rate": null,
                    "spend": 0
                  },
                  {
                    "date": "2020-04-07",
                    "source_medium": "outbrain / display",
                    "impressions": 0,
                    "clicks": 0,
                    "convertion_rate": null,
                    "spend": 0
                  },
                  {
                    "date": "2020-04-28",
                    "source_medium": "facebook / display",
                    "impressions": 21073,
                    "clicks": 288,
                    "convertion_rate": 0.013666777392872396,
                    "spend": 194.58
                  },
                  {
                    "date": "2020-03-21",
                    "source_medium": "outbrain / display",
                    "impressions": 0,
                    "clicks": 0,
                    "convertion_rate": null,
                    "spend": 0
                  },
                  {
                    "date": "2020-03-13",
                    "source_medium": "outbrain / display",
                    "impressions": 0,
                    "clicks": 0,
                    "convertion_rate": null,
                    "spend": 0
                  },
                  {
                    "date": "2020-04-01",
                    "source_medium": "outbrain / display",
                    "impressions": 0,
                    "clicks": 0,
                    "convertion_rate": null,
                    "spend": 0
                  },
                  {
                    "date": "2020-03-24",
                    "source_medium": "outbrain / display",
                    "impressions": 0,
                    "clicks": 0,
                    "convertion_rate": null,
                    "spend": 0
                  },
                  {
                    "date": "2020-04-02",
                    "source_medium": "facebook / display",
                    "impressions": 37038,
                    "clicks": 339,
                    "convertion_rate": 0.009152762028187267,
                    "spend": 213.92000000000016
                  },
                  {
                    "date": "2020-04-09",
                    "source_medium": "facebook / display",
                    "impressions": 33501,
                    "clicks": 375,
                    "convertion_rate": 0.011193695710575803,
                    "spend": 309.50999900000005
                  },
                  {
                    "date": "2020-04-06",
                    "source_medium": "outbrain / display",
                    "impressions": 0,
                    "clicks": 0,
                    "convertion_rate": null,
                    "spend": 0
                  },
                  {
                    "date": "2020-03-29",
                    "source_medium": "outbrain / display",
                    "impressions": 0,
                    "clicks": 0,
                    "convertion_rate": null,
                    "spend": 0
                  },
                  {
                    "date": "2020-04-17",
                    "source_medium": "facebook / display",
                    "impressions": 22657,
                    "clicks": 290,
                    "convertion_rate": 0.012799576289888336,
                    "spend": 194.8400000000001
                  },
                  {
                    "date": "2020-03-01",
                    "source_medium": "outbrain / display",
                    "impressions": 0,
                    "clicks": 0,
                    "convertion_rate": null,
                    "spend": 0
                  },
                  {
                    "date": "2020-04-17",
                    "source_medium": "outbrain / display",
                    "impressions": 0,
                    "clicks": 0,
                    "convertion_rate": null,
                    "spend": 0
                  },
                  {
                    "date": "2020-03-18",
                    "source_medium": "outbrain / display",
                    "impressions": 0,
                    "clicks": 0,
                    "convertion_rate": null,
                    "spend": 0
                  },
                  {
                    "date": "2020-04-30",
                    "source_medium": "facebook / display",
                    "impressions": 21642,
                    "clicks": 290,
                    "convertion_rate": 0.013399870621938823,
                    "spend": 200.43
                  },
                  {
                    "date": "2020-04-19",
                    "source_medium": "outbrain / display",
                    "impressions": 0,
                    "clicks": 0,
                    "convertion_rate": null,
                    "spend": 0
                  },
                  {
                    "date": "2020-04-25",
                    "source_medium": "facebook / display",
                    "impressions": 11405,
                    "clicks": 198,
                    "convertion_rate": 0.017360806663743972,
                    "spend": 120.77000000000008
                  },
                  {
                    "date": "2020-03-16",
                    "source_medium": "facebook / display",
                    "impressions": 139368,
                    "clicks": 693,
                    "convertion_rate": 0.004972447046667815,
                    "spend": 513.1800000000001
                  },
                  {
                    "date": "2020-04-23",
                    "source_medium": "facebook / display",
                    "impressions": 22666,
                    "clicks": 293,
                    "convertion_rate": 0.01292685078972911,
                    "spend": 227.69000000000003
                  },
                  {
                    "date": "2020-04-05",
                    "source_medium": "facebook / display",
                    "impressions": 23440,
                    "clicks": 345,
                    "convertion_rate": 0.014718430034129693,
                    "spend": 219.99000000000007
                  },
                  {
                    "date": "2020-04-09",
                    "source_medium": "outbrain / display",
                    "impressions": 0,
                    "clicks": 0,
                    "convertion_rate": null,
                    "spend": 0
                  },
                  {
                    "date": "2020-04-13",
                    "source_medium": "outbrain / display",
                    "impressions": 0,
                    "clicks": 0,
                    "convertion_rate": null,
                    "spend": 0
                  },
                  {
                    "date": "2020-03-27",
                    "source_medium": "outbrain / display",
                    "impressions": 0,
                    "clicks": 0,
                    "convertion_rate": null,
                    "spend": 0
                  },
                  {
                    "date": "2020-03-31",
                    "source_medium": "outbrain / display",
                    "impressions": 0,
                    "clicks": 0,
                    "convertion_rate": null,
                    "spend": 0
                  },
                  {
                    "date": "2020-04-23",
                    "source_medium": "outbrain / display",
                    "impressions": 0,
                    "clicks": 0,
                    "convertion_rate": null,
                    "spend": 0
                  },
                  {
                    "date": "2020-03-04",
                    "source_medium": "outbrain / display",
                    "impressions": 0,
                    "clicks": 0,
                    "convertion_rate": null,
                    "spend": 0
                  },
                  {
                    "date": "2020-03-23",
                    "source_medium": "outbrain / display",
                    "impressions": 0,
                    "clicks": 0,
                    "convertion_rate": null,
                    "spend": 0
                  },
                  {
                    "date": "2020-04-27",
                    "source_medium": "facebook / display",
                    "impressions": 24723,
                    "clicks": 346,
                    "convertion_rate": 0.013995065323787565,
                    "spend": 225.22
                  },
                  {
                    "date": "2020-04-05",
                    "source_medium": "outbrain / display",
                    "impressions": 0,
                    "clicks": 0,
                    "convertion_rate": null,
                    "spend": 0
                  },
                  {
                    "date": "2020-04-22",
                    "source_medium": "bing / cpc",
                    "impressions": 0,
                    "clicks": 0,
                    "convertion_rate": null,
                    "spend": 0
                  },
                  {
                    "date": "2020-03-25",
                    "source_medium": "google / cpc",
                    "impressions": 153245,
                    "clicks": 90128,
                    "convertion_rate": 0.5881301184377957,
                    "spend": 3920.5199999999995
                  },
                  {
                    "date": "2020-03-28",
                    "source_medium": "facebook / display",
                    "impressions": 186598,
                    "clicks": 1162,
                    "convertion_rate": 0.00622729075338428,
                    "spend": 620.7799990000001
                  },
                  {
                    "date": "2020-03-25",
                    "source_medium": "bing / cpc",
                    "impressions": 26241,
                    "clicks": 8054,
                    "convertion_rate": 0.3069242788003506,
                    "spend": 1099.7400000000002
                  },
                  {
                    "date": "2020-04-22",
                    "source_medium": "google / cpc",
                    "impressions": 186388,
                    "clicks": 110227,
                    "convertion_rate": 0.5913846384960405,
                    "spend": 5224.17
                  },
                  {
                    "date": "2020-04-14",
                    "source_medium": "google / cpc",
                    "impressions": 223604,
                    "clicks": 133064,
                    "convertion_rate": 0.5950877444052879,
                    "spend": 5327.860000000001
                  },
                  {
                    "date": "2020-04-14",
                    "source_medium": "bing / cpc",
                    "impressions": 0,
                    "clicks": 0,
                    "convertion_rate": null,
                    "spend": 0
                  },
                  {
                    "date": "2020-03-22",
                    "source_medium": "outbrain / display",
                    "impressions": 0,
                    "clicks": 0,
                    "convertion_rate": null,
                    "spend": 0
                  },
                  {
                    "date": "2020-04-22",
                    "source_medium": "outbrain / display",
                    "impressions": 0,
                    "clicks": 0,
                    "convertion_rate": null,
                    "spend": 0
                  },
                  {
                    "date": "2020-03-08",
                    "source_medium": "facebook / display",
                    "impressions": 165594,
                    "clicks": 1452,
                    "convertion_rate": 0.00876843363889996,
                    "spend": 883.5699999999998
                  },
                  {
                    "date": "2020-03-03",
                    "source_medium": "outbrain / display",
                    "impressions": 0,
                    "clicks": 0,
                    "convertion_rate": null,
                    "spend": 0
                  },
                  {
                    "date": "2020-04-25",
                    "source_medium": "outbrain / display",
                    "impressions": 0,
                    "clicks": 0,
                    "convertion_rate": null,
                    "spend": 0
                  },
                  {
                    "date": "2020-04-10",
                    "source_medium": "outbrain / display",
                    "impressions": 0,
                    "clicks": 0,
                    "convertion_rate": null,
                    "spend": 0
                  },
                  {
                    "date": "2020-04-29",
                    "source_medium": "outbrain / display",
                    "impressions": 0,
                    "clicks": 0,
                    "convertion_rate": null,
                    "spend": 0
                  },
                  {
                    "date": "2020-04-02",
                    "source_medium": "outbrain / display",
                    "impressions": 0,
                    "clicks": 0,
                    "convertion_rate": null,
                    "spend": 0
                  },
                  {
                    "date": "2020-04-21",
                    "source_medium": "outbrain / display",
                    "impressions": 0,
                    "clicks": 0,
                    "convertion_rate": null,
                    "spend": 0
                  },
                  {
                    "date": "2020-04-11",
                    "source_medium": "outbrain / display",
                    "impressions": 0,
                    "clicks": 0,
                    "convertion_rate": null,
                    "spend": 0
                  },
                  {
                    "date": "2020-03-10",
                    "source_medium": "outbrain / display",
                    "impressions": 0,
                    "clicks": 0,
                    "convertion_rate": null,
                    "spend": 0
                  },
                  {
                    "date": "2020-03-16",
                    "source_medium": "outbrain / display",
                    "impressions": 0,
                    "clicks": 0,
                    "convertion_rate": null,
                    "spend": 0
                  },
                  {
                    "date": "2020-04-30",
                    "source_medium": "outbrain / display",
                    "impressions": 0,
                    "clicks": 0,
                    "convertion_rate": null,
                    "spend": 0
                  },
                  {
                    "date": "2020-03-05",
                    "source_medium": "outbrain / display",
                    "impressions": 0,
                    "clicks": 0,
                    "convertion_rate": null,
                    "spend": 0
                  },
                  {
                    "date": "2020-03-06",
                    "source_medium": "outbrain / display",
                    "impressions": 0,
                    "clicks": 0,
                    "convertion_rate": null,
                    "spend": 0
                  },
                  {
                    "date": "2020-04-28",
                    "source_medium": "outbrain / display",
                    "impressions": 0,
                    "clicks": 0,
                    "convertion_rate": null,
                    "spend": 0
                  },
                  {
                    "date": "2020-04-16",
                    "source_medium": "outbrain / display",
                    "impressions": 0,
                    "clicks": 0,
                    "convertion_rate": null,
                    "spend": 0
                  },
                  {
                    "date": "2020-04-26",
                    "source_medium": "outbrain / display",
                    "impressions": 0,
                    "clicks": 0,
                    "convertion_rate": null,
                    "spend": 0
                  },
                  {
                    "date": "2020-03-20",
                    "source_medium": "outbrain / display",
                    "impressions": 0,
                    "clicks": 0,
                    "convertion_rate": null,
                    "spend": 0
                  },
                  {
                    "date": "2020-04-18",
                    "source_medium": "outbrain / display",
                    "impressions": 0,
                    "clicks": 0,
                    "convertion_rate": null,
                    "spend": 0
                  },
                  {
                    "date": "2020-03-17",
                    "source_medium": "outbrain / display",
                    "impressions": 0,
                    "clicks": 0,
                    "convertion_rate": null,
                    "spend": 0
                  },
                  {
                    "date": "2020-03-02",
                    "source_medium": "outbrain / display",
                    "impressions": 0,
                    "clicks": 0,
                    "convertion_rate": null,
                    "spend": 0
                  },
                  {
                    "date": "2020-04-04",
                    "source_medium": "outbrain / display",
                    "impressions": 0,
                    "clicks": 0,
                    "convertion_rate": null,
                    "spend": 0
                  },
                  {
                    "date": "2020-04-14",
                    "source_medium": "outbrain / display",
                    "impressions": 0,
                    "clicks": 0,
                    "convertion_rate": null,
                    "spend": 0
                  },
                  {
                    "date": "2020-04-08",
                    "source_medium": "outbrain / display",
                    "impressions": 0,
                    "clicks": 0,
                    "convertion_rate": null,
                    "spend": 0
                  }
                ]
              }
            },
            "text/plain": "<__main__.DeepnoteChart at 0x7fab2aff5850>"
          },
          "metadata": {}
        }
      ],
      "execution_count": null,
      "block_group": "1000e7a366f2473fa297087aa09edc02"
    },
    {
      "cell_type": "markdown",
      "source": "> 3. Can we improve the budget allocation based on last month’s performance? \n4. If yes, how should we shift the budgets? \n5. What would be the estimated effect?",
      "metadata": {
        "formattedRanges": [],
        "cell_id": "3af772b98ba640c384cdcb2ded8c4435",
        "deepnote_cell_type": "text-cell-callout"
      },
      "block_group": "0ea51801059c4b3dbe917d0b31faadda"
    },
    {
      "cell_type": "markdown",
      "source": "> 6. Based on traffic data, is there another way we could consider the contribution of the different channels? If yes, show how this would be done and share your insights.",
      "metadata": {
        "formattedRanges": [],
        "cell_id": "79e4a22715f14ff3a0b92943b21a3270",
        "deepnote_cell_type": "text-cell-callout"
      },
      "block_group": "db30ff5863754177b07a7632f9e8960d"
    },
    {
      "cell_type": "markdown",
      "source": "> Please, prepare a short presentation to summarize your findings. Moreover, provide us with the code/approach you used to arrive at the insights. Please provide an update that answers the following questions, based on the provided datasets:",
      "metadata": {
        "formattedRanges": [],
        "cell_id": "8c6fbfd88e6d404c805c7dc3652db6ac",
        "deepnote_cell_type": "text-cell-callout"
      },
      "block_group": "060867ea74df49c8afc2ac13d195ee3c"
    },
    {
      "cell_type": "markdown",
      "source": "<a style='text-decoration:none;line-height:16px;display:flex;color:#5B5B62;padding:10px;justify-content:end;' href='https://deepnote.com?utm_source=created-in-deepnote-cell&projectId=e6cabd9c-7692-40d3-ab2f-2445a60671be' target=\"_blank\">\n<img alt='Created in deepnote.com' style='display:inline;max-height:16px;margin:0px;margin-right:7.5px;' src='data:image/svg+xml;base64,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' > </img>\nCreated in <span style='font-weight:600;margin-left:4px;'>Deepnote</span></a>",
      "metadata": {
        "created_in_deepnote_cell": true,
        "deepnote_cell_type": "markdown"
      }
    }
  ],
  "nbformat": 4,
  "nbformat_minor": 0,
  "metadata": {
    "deepnote": {},
    "orig_nbformat": 2,
    "deepnote_notebook_id": "1367e718748949a2a4e0826e555726c0",
    "deepnote_persisted_session": {
      "createdAt": "2023-12-02T15:30:44.905Z"
    },
    "deepnote_execution_queue": []
  }
}