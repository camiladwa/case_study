{
  "cells": [
    {
      "cell_type": "markdown",
      "source": "# Case Study: Improving marketing effectiveness",
      "metadata": {
        "formattedRanges": [],
        "deepnote_app_coordinates": {
          "h": 5,
          "w": 12,
          "x": 0,
          "y": 0
        },
        "cell_id": "04a294a5e48f4726b47be2a83fef86ef",
        "deepnote_cell_type": "text-cell-h1"
      },
      "block_group": "136b7d87765f4d51af82aa060a4716e3"
    },
    {
      "cell_type": "markdown",
      "source": "## Introduction",
      "metadata": {
        "formattedRanges": [],
        "deepnote_app_coordinates": {
          "h": 5,
          "w": 12,
          "x": 0,
          "y": 0
        },
        "cell_id": "48beb3cd0dc643158346a285838a428f",
        "deepnote_cell_type": "text-cell-h2"
      },
      "block_group": "ed0545d8c21941f594aa9d2b0121f5b4"
    },
    {
      "cell_type": "markdown",
      "source": "Most importantly, we do not expect you to answer everything perfectly. For example, it is not required to be an expert in user behavior/marketing analytics – the case is just an example to demonstrate your data skills.\r What we want to see is especially:\n\r\n1- How easy is working with data sets for you? \r\n2- What methods do you know to prepare data and solve analytical issues? \r\n3- What do you focus on when analyzing data and what is of lesser priority to you?\r\n4- How do you present in an easy-to-digest and actionable way? \n\r\nYou have about 20 minutes to present the case study. After that, we will discuss the results and any questions from your side and our side. We are looking forward to hearing and seeing your findings!\r",
      "metadata": {
        "formattedRanges": [],
        "deepnote_app_coordinates": {
          "h": 2,
          "w": 8,
          "x": 0,
          "y": 0
        },
        "cell_id": "858a5acb5d954b83a42710a5a6745925",
        "deepnote_cell_type": "text-cell-p"
      },
      "block_group": "d5f8800631b947d98d39a3bd8dc96a97"
    },
    {
      "cell_type": "markdown",
      "source": "> In order to generate more traffic and conversions, ImmoScout24 invests in paid advertising. The aim is to invest each € where it brings the most impact.\r Marketing managers would like to know whether they can improve budget allocation to marketing channels for one particular product. Moreover, they wonder if they could improve the way they currently assess the contribution of different channels.\n\n-> How do the marketing channels currently perform? Has there been any change month over month? Estimate value of a conversion to be 100 €.\r\n-> Can we improve the budget allocation based on last month’s performance? If yes, how should we shift the budgets? What would be the estimated effect?\r\n-> Based on traffic data, is there another way we could consider the contribution of the different channels? If yes, show how this would be done and share your insights.\r\n",
      "metadata": {
        "is_collapsed": false,
        "formattedRanges": [
          {
            "type": "marks",
            "marks": {
              "bold": true
            },
            "toCodePoint": 284,
            "fromCodePoint": 209
          },
          {
            "type": "marks",
            "marks": {
              "bold": true
            },
            "toCodePoint": 397,
            "fromCodePoint": 321
          },
          {
            "type": "marks",
            "marks": {
              "bold": true
            },
            "toCodePoint": 433,
            "fromCodePoint": 414
          },
          {
            "type": "marks",
            "marks": {
              "bold": true
            },
            "toCodePoint": 494,
            "fromCodePoint": 478
          },
          {
            "type": "marks",
            "marks": {
              "bold": true
            },
            "toCodePoint": 580,
            "fromCodePoint": 563
          },
          {
            "type": "marks",
            "marks": {
              "bold": true
            },
            "toCodePoint": 655,
            "fromCodePoint": 638
          },
          {
            "type": "marks",
            "marks": {
              "bold": true
            },
            "toCodePoint": 691,
            "fromCodePoint": 685
          }
        ],
        "deepnote_app_coordinates": {
          "h": 2,
          "w": 8,
          "x": 0,
          "y": 0
        },
        "cell_id": "a4543217da6841ccaec3c0b8efe6689d",
        "deepnote_cell_type": "text-cell-callout"
      },
      "block_group": "52a6d0309fe748dbac305fb04bcb53db"
    },
    {
      "cell_type": "markdown",
      "source": "## Data Preparation",
      "metadata": {
        "formattedRanges": [],
        "deepnote_app_coordinates": {
          "h": 5,
          "w": 12,
          "x": 0,
          "y": 0
        },
        "cell_id": "6179ccc99d104521961123aafdb5ef71",
        "deepnote_cell_type": "text-cell-h2"
      },
      "block_group": "ae9250aebf04424f8308e9c2cad6e7ec"
    },
    {
      "cell_type": "markdown",
      "source": "To address the marketing optimization questions, we can follow a structured approach involving data preparation, analysis, and presentation. ",
      "metadata": {
        "formattedRanges": [],
        "deepnote_app_coordinates": {
          "h": 2,
          "w": 8,
          "x": 0,
          "y": 0
        },
        "cell_id": "85b7177de0b3423b819358bd85c1052f",
        "deepnote_cell_type": "text-cell-p"
      },
      "block_group": "1d62cdc4a71542acbcd79036fcff0f44"
    },
    {
      "cell_type": "markdown",
      "source": "#### Loading the data and understanding the columns",
      "metadata": {
        "deepnote_app_coordinates": {
          "h": 5,
          "w": 12,
          "x": 0,
          "y": 0
        },
        "cell_id": "75d561aedf94481a9be895a86fe72aa9",
        "deepnote_cell_type": "markdown"
      },
      "block_group": "711b28da3a2f48d9b9cac612a7cbd3ae"
    },
    {
      "cell_type": "markdown",
      "source": "---\nCosts dataset\t",
      "metadata": {
        "deepnote_app_coordinates": {
          "h": 5,
          "w": 12,
          "x": 0,
          "y": 0
        },
        "cell_id": "b8c7da0c2eb7412d9373fbff343f9295",
        "deepnote_cell_type": "markdown"
      },
      "block_group": "d576720852004ee4b5837c017942d2c5"
    },
    {
      "cell_type": "markdown",
      "source": "<img src=\"image-20231203-191906.png\" width=\"100%\" align=\"center\" />",
      "metadata": {
        "deepnote_img_src": "image-20231203-191906.png",
        "deepnote_img_width": "100%",
        "deepnote_img_alignment": "center",
        "deepnote_app_coordinates": {
          "h": 5,
          "w": 12,
          "x": 0,
          "y": 0
        },
        "cell_id": "7dea867acd1f453992b86e027af5b9a4",
        "deepnote_cell_type": "image"
      },
      "block_group": "5bafc932a4524741a966d12218f17975"
    },
    {
      "cell_type": "code",
      "source": "costs = _deepnote_execute_sql('SELECT *\\nFROM \\'costs_processed.csv\\'', 'SQL_DEEPNOTE_DATAFRAME_SQL', audit_sql_comment='', sql_cache_mode='cache_disabled')\ncosts",
      "metadata": {
        "allow_embed": false,
        "source_hash": "4fe61669",
        "output_cleared": false,
        "execution_start": 1701627770101,
        "execution_millis": 1322,
        "is_output_hidden": false,
        "sql_integration_id": "deepnote-dataframe-sql",
        "deepnote_table_state": {
          "sortBy": [
            {
              "id": "date",
              "type": "asc"
            }
          ],
          "filters": [],
          "pageSize": 5,
          "pageIndex": 0
        },
        "deepnote_table_loading": false,
        "deepnote_variable_name": "costs",
        "deepnote_app_coordinates": {
          "h": 5,
          "w": 12,
          "x": 0,
          "y": 0
        },
        "deepnote_to_be_reexecuted": false,
        "deepnote_app_is_code_hidden": false,
        "deepnote_app_is_output_hidden": false,
        "cell_id": "6dc05fd8603f4dcc8caf482a5027e879",
        "deepnote_cell_type": "sql",
        "deepnote_sql_source": "SELECT *\nFROM 'costs_processed.csv'"
      },
      "outputs": [
        {
          "data": {
            "application/vnd.deepnote.sql-output-metadata+json": {
              "status": "success_no_cache",
              "size_in_bytes": 627753
            }
          },
          "metadata": {},
          "output_type": "display_data"
        },
        {
          "output_type": "execute_result",
          "execution_count": 1,
          "data": {
            "application/vnd.deepnote.dataframe.v3+json": {
              "column_count": 6,
              "row_count": 2871,
              "columns": [
                {
                  "name": "date",
                  "dtype": "object",
                  "stats": {
                    "unique_count": 61,
                    "nan_count": 0,
                    "categories": [
                      {
                        "name": "2020-03-23",
                        "count": 60
                      },
                      {
                        "name": "2020-03-25",
                        "count": 60
                      },
                      {
                        "name": "59 others",
                        "count": 2751
                      }
                    ]
                  }
                },
                {
                  "name": "campaign_name",
                  "dtype": "object",
                  "stats": {
                    "unique_count": 57,
                    "nan_count": 0,
                    "categories": [
                      {
                        "name": "de_br_marke",
                        "count": 156
                      },
                      {
                        "name": "de_fi_dsa_baufinanzierung",
                        "count": 125
                      },
                      {
                        "name": "55 others",
                        "count": 2590
                      }
                    ]
                  }
                },
                {
                  "name": "source_medium",
                  "dtype": "object",
                  "stats": {
                    "unique_count": 4,
                    "nan_count": 0,
                    "categories": [
                      {
                        "name": "bing / cpc",
                        "count": 1369
                      },
                      {
                        "name": "google / cpc",
                        "count": 1176
                      },
                      {
                        "name": "2 others",
                        "count": 326
                      }
                    ]
                  }
                },
                {
                  "name": "impressions",
                  "dtype": "int64",
                  "stats": {
                    "unique_count": 1027,
                    "nan_count": 0,
                    "min": "0",
                    "max": "134083",
                    "histogram": [
                      {
                        "bin_start": 0,
                        "bin_end": 13408.3,
                        "count": 2637
                      },
                      {
                        "bin_start": 13408.3,
                        "bin_end": 26816.6,
                        "count": 37
                      },
                      {
                        "bin_start": 26816.6,
                        "bin_end": 40224.899999999994,
                        "count": 22
                      },
                      {
                        "bin_start": 40224.899999999994,
                        "bin_end": 53633.2,
                        "count": 15
                      },
                      {
                        "bin_start": 53633.2,
                        "bin_end": 67041.5,
                        "count": 26
                      },
                      {
                        "bin_start": 67041.5,
                        "bin_end": 80449.79999999999,
                        "count": 46
                      },
                      {
                        "bin_start": 80449.79999999999,
                        "bin_end": 93858.09999999999,
                        "count": 48
                      },
                      {
                        "bin_start": 93858.09999999999,
                        "bin_end": 107266.4,
                        "count": 28
                      },
                      {
                        "bin_start": 107266.4,
                        "bin_end": 120674.7,
                        "count": 8
                      },
                      {
                        "bin_start": 120674.7,
                        "bin_end": 134083,
                        "count": 4
                      }
                    ]
                  }
                },
                {
                  "name": "clicks",
                  "dtype": "int64",
                  "stats": {
                    "unique_count": 652,
                    "nan_count": 0,
                    "min": "0",
                    "max": "85347",
                    "histogram": [
                      {
                        "bin_start": 0,
                        "bin_end": 8534.7,
                        "count": 2746
                      },
                      {
                        "bin_start": 8534.7,
                        "bin_end": 17069.4,
                        "count": 3
                      },
                      {
                        "bin_start": 17069.4,
                        "bin_end": 25604.100000000002,
                        "count": 0
                      },
                      {
                        "bin_start": 25604.100000000002,
                        "bin_end": 34138.8,
                        "count": 7
                      },
                      {
                        "bin_start": 34138.8,
                        "bin_end": 42673.5,
                        "count": 22
                      },
                      {
                        "bin_start": 42673.5,
                        "bin_end": 51208.200000000004,
                        "count": 33
                      },
                      {
                        "bin_start": 51208.200000000004,
                        "bin_end": 59742.90000000001,
                        "count": 44
                      },
                      {
                        "bin_start": 59742.90000000001,
                        "bin_end": 68277.6,
                        "count": 8
                      },
                      {
                        "bin_start": 68277.6,
                        "bin_end": 76812.3,
                        "count": 5
                      },
                      {
                        "bin_start": 76812.3,
                        "bin_end": 85347,
                        "count": 3
                      }
                    ]
                  }
                },
                {
                  "name": "spend",
                  "dtype": "float64",
                  "stats": {
                    "unique_count": 1210,
                    "nan_count": 0,
                    "min": "0.0",
                    "max": "3150.870000000001",
                    "histogram": [
                      {
                        "bin_start": 0,
                        "bin_end": 315.0870000000001,
                        "count": 2614
                      },
                      {
                        "bin_start": 315.0870000000001,
                        "bin_end": 630.1740000000002,
                        "count": 43
                      },
                      {
                        "bin_start": 630.1740000000002,
                        "bin_end": 945.2610000000003,
                        "count": 35
                      },
                      {
                        "bin_start": 945.2610000000003,
                        "bin_end": 1260.3480000000004,
                        "count": 57
                      },
                      {
                        "bin_start": 1260.3480000000004,
                        "bin_end": 1575.4350000000004,
                        "count": 56
                      },
                      {
                        "bin_start": 1575.4350000000004,
                        "bin_end": 1890.5220000000006,
                        "count": 33
                      },
                      {
                        "bin_start": 1890.5220000000006,
                        "bin_end": 2205.609000000001,
                        "count": 14
                      },
                      {
                        "bin_start": 2205.609000000001,
                        "bin_end": 2520.696000000001,
                        "count": 8
                      },
                      {
                        "bin_start": 2520.696000000001,
                        "bin_end": 2835.783000000001,
                        "count": 6
                      },
                      {
                        "bin_start": 2835.783000000001,
                        "bin_end": 3150.870000000001,
                        "count": 5
                      }
                    ]
                  }
                },
                {
                  "name": "_deepnote_index_column",
                  "dtype": "int64"
                }
              ],
              "rows": [
                {
                  "date": "2020-03-01",
                  "campaign_name": "de_fi_generic_vollfinanzierung",
                  "source_medium": "bing / cpc",
                  "impressions": 396,
                  "clicks": 23,
                  "spend": 39.57,
                  "_deepnote_index_column": 320
                },
                {
                  "date": "2020-03-01",
                  "campaign_name": "de_br_mobile",
                  "source_medium": "google / cpc",
                  "impressions": 110323,
                  "clicks": 70698,
                  "spend": 1611.14,
                  "_deepnote_index_column": 916
                },
                {
                  "date": "2020-03-01",
                  "campaign_name": "de_fi_ret_sitevisits_leads",
                  "source_medium": "facebook / display",
                  "impressions": 9586,
                  "clicks": 198,
                  "spend": 98.57999999999996,
                  "_deepnote_index_column": 910
                },
                {
                  "date": "2020-03-01",
                  "campaign_name": "de_br_generic_immobilien",
                  "source_medium": "google / cpc",
                  "impressions": 167,
                  "clicks": 105,
                  "spend": 9.08,
                  "_deepnote_index_column": 2401
                },
                {
                  "date": "2020-03-01",
                  "campaign_name": "de_br_marke_bundesland",
                  "source_medium": "bing / cpc",
                  "impressions": 35,
                  "clicks": 8,
                  "spend": 5.8,
                  "_deepnote_index_column": 1761
                }
              ]
            },
            "text/plain": "            date                                      campaign_name  \\\n0     2020-04-24               de_br_reach_digitale_immobiliensuche   \n1     2020-04-23  de_fi_generic_baufinanzierungsrechner_s_con_bu...   \n2     2020-04-25       de_fi_generic_schufa_s_con_buyer_financecalc   \n3     2020-03-23                                de_br_marke_+_stadt   \n4     2020-04-05                                        de_br_marke   \n...          ...                                                ...   \n2866  2020-03-27                             de_br_marke_immobilien   \n2867  2020-03-28                                       de_fi_kredit   \n2868  2020-03-26                             de_br_marke_bundesland   \n2869  2020-03-21                        de_fi_brand_baufinanzierung   \n2870  2020-03-13                     de_fi_generic_hausfinanzierung   \n\n           source_medium  impressions  clicks    spend  \n0     outbrain / display            0       0     0.00  \n1           google / cpc         7486    1739  1941.71  \n2           google / cpc          361      51   174.87  \n3             bing / cpc            0       0     0.00  \n4           google / cpc        75928   44541  1468.00  \n...                  ...          ...     ...      ...  \n2866          bing / cpc            0       0     0.00  \n2867          bing / cpc            0       0     0.00  \n2868          bing / cpc            0       0     0.00  \n2869        google / cpc            0       0     0.00  \n2870          bing / cpc          366       9    17.05  \n\n[2871 rows x 6 columns]",
            "text/html": "<div>\n<style scoped>\n    .dataframe tbody tr th:only-of-type {\n        vertical-align: middle;\n    }\n\n    .dataframe tbody tr th {\n        vertical-align: top;\n    }\n\n    .dataframe thead th {\n        text-align: right;\n    }\n</style>\n<table border=\"1\" class=\"dataframe\">\n  <thead>\n    <tr style=\"text-align: right;\">\n      <th></th>\n      <th>date</th>\n      <th>campaign_name</th>\n      <th>source_medium</th>\n      <th>impressions</th>\n      <th>clicks</th>\n      <th>spend</th>\n    </tr>\n  </thead>\n  <tbody>\n    <tr>\n      <th>0</th>\n      <td>2020-04-24</td>\n      <td>de_br_reach_digitale_immobiliensuche</td>\n      <td>outbrain / display</td>\n      <td>0</td>\n      <td>0</td>\n      <td>0.00</td>\n    </tr>\n    <tr>\n      <th>1</th>\n      <td>2020-04-23</td>\n      <td>de_fi_generic_baufinanzierungsrechner_s_con_bu...</td>\n      <td>google / cpc</td>\n      <td>7486</td>\n      <td>1739</td>\n      <td>1941.71</td>\n    </tr>\n    <tr>\n      <th>2</th>\n      <td>2020-04-25</td>\n      <td>de_fi_generic_schufa_s_con_buyer_financecalc</td>\n      <td>google / cpc</td>\n      <td>361</td>\n      <td>51</td>\n      <td>174.87</td>\n    </tr>\n    <tr>\n      <th>3</th>\n      <td>2020-03-23</td>\n      <td>de_br_marke_+_stadt</td>\n      <td>bing / cpc</td>\n      <td>0</td>\n      <td>0</td>\n      <td>0.00</td>\n    </tr>\n    <tr>\n      <th>4</th>\n      <td>2020-04-05</td>\n      <td>de_br_marke</td>\n      <td>google / cpc</td>\n      <td>75928</td>\n      <td>44541</td>\n      <td>1468.00</td>\n    </tr>\n    <tr>\n      <th>...</th>\n      <td>...</td>\n      <td>...</td>\n      <td>...</td>\n      <td>...</td>\n      <td>...</td>\n      <td>...</td>\n    </tr>\n    <tr>\n      <th>2866</th>\n      <td>2020-03-27</td>\n      <td>de_br_marke_immobilien</td>\n      <td>bing / cpc</td>\n      <td>0</td>\n      <td>0</td>\n      <td>0.00</td>\n    </tr>\n    <tr>\n      <th>2867</th>\n      <td>2020-03-28</td>\n      <td>de_fi_kredit</td>\n      <td>bing / cpc</td>\n      <td>0</td>\n      <td>0</td>\n      <td>0.00</td>\n    </tr>\n    <tr>\n      <th>2868</th>\n      <td>2020-03-26</td>\n      <td>de_br_marke_bundesland</td>\n      <td>bing / cpc</td>\n      <td>0</td>\n      <td>0</td>\n      <td>0.00</td>\n    </tr>\n    <tr>\n      <th>2869</th>\n      <td>2020-03-21</td>\n      <td>de_fi_brand_baufinanzierung</td>\n      <td>google / cpc</td>\n      <td>0</td>\n      <td>0</td>\n      <td>0.00</td>\n    </tr>\n    <tr>\n      <th>2870</th>\n      <td>2020-03-13</td>\n      <td>de_fi_generic_hausfinanzierung</td>\n      <td>bing / cpc</td>\n      <td>366</td>\n      <td>9</td>\n      <td>17.05</td>\n    </tr>\n  </tbody>\n</table>\n<p>2871 rows × 6 columns</p>\n</div>"
          },
          "metadata": {}
        }
      ],
      "execution_count": 1,
      "block_group": "5bafc932a4524741a966d12218f17975"
    },
    {
      "cell_type": "markdown",
      "source": "-----\nTraffic dataset\t",
      "metadata": {
        "deepnote_app_coordinates": {
          "h": 5,
          "w": 12,
          "x": 0,
          "y": 0
        },
        "cell_id": "3a7b590ec03c4e9f9ad1bed34a2750b6",
        "deepnote_cell_type": "markdown"
      },
      "block_group": "4aec72a53ec64d87aa27171cf65f1dea"
    },
    {
      "cell_type": "markdown",
      "source": "<img src=\"image-20231203-191954.png\" width=\"\" align=\"\" />",
      "metadata": {
        "deepnote_img_src": "image-20231203-191954.png",
        "deepnote_app_coordinates": {
          "h": 5,
          "w": 12,
          "x": 0,
          "y": 0
        },
        "cell_id": "53782830c21b4e4da47f26fc94721ed8",
        "deepnote_cell_type": "image"
      },
      "block_group": "cf7e499b684f408b90fb09ce540e3d82"
    },
    {
      "cell_type": "code",
      "source": "traffic = _deepnote_execute_sql('SELECT *\\nFROM \\'final_traffic.csv\\'', 'SQL_DEEPNOTE_DATAFRAME_SQL', audit_sql_comment='', sql_cache_mode='cache_disabled')\ntraffic",
      "metadata": {
        "source_hash": "366e21ae",
        "output_cleared": false,
        "execution_start": 1701627771438,
        "execution_millis": 2291,
        "sql_integration_id": "deepnote-dataframe-sql",
        "deepnote_table_state": {
          "sortBy": [],
          "filters": [],
          "pageSize": 10,
          "pageIndex": 0
        },
        "deepnote_table_loading": false,
        "deepnote_variable_name": "traffic",
        "deepnote_app_coordinates": {
          "h": 5,
          "w": 12,
          "x": 0,
          "y": 0
        },
        "deepnote_to_be_reexecuted": false,
        "deepnote_app_is_code_hidden": false,
        "cell_id": "fdaf4289d3944d548be77d57ac685de0",
        "deepnote_cell_type": "sql",
        "deepnote_sql_source": "SELECT *\nFROM 'final_traffic.csv'"
      },
      "outputs": [
        {
          "data": {
            "application/vnd.deepnote.sql-output-metadata+json": {
              "status": "success_no_cache",
              "size_in_bytes": 40134761
            }
          },
          "metadata": {},
          "output_type": "display_data"
        },
        {
          "output_type": "execute_result",
          "execution_count": 2,
          "data": {
            "application/vnd.deepnote.dataframe.v3+json": {
              "column_count": 11,
              "row_count": 141424,
              "columns": [
                {
                  "name": "date",
                  "dtype": "object"
                },
                {
                  "name": "fullvisitorID",
                  "dtype": "float64"
                },
                {
                  "name": "visitStartTime",
                  "dtype": "int64"
                },
                {
                  "name": "channelGrouping",
                  "dtype": "object"
                },
                {
                  "name": "medium",
                  "dtype": "object"
                },
                {
                  "name": "source",
                  "dtype": "object"
                },
                {
                  "name": "isTrueDirect",
                  "dtype": "bool"
                },
                {
                  "name": "hits",
                  "dtype": "int64"
                },
                {
                  "name": "bounces",
                  "dtype": "float64"
                },
                {
                  "name": "timeOnSite",
                  "dtype": "float64"
                },
                {
                  "name": "conversion",
                  "dtype": "int64"
                },
                {
                  "name": "_deepnote_index_column",
                  "dtype": "int64"
                }
              ],
              "rows": [
                {
                  "date": "2020-03-04",
                  "fullvisitorID": 1000338583919885000,
                  "visitStartTime": 1583311404,
                  "channelGrouping": "Organic Search",
                  "medium": "organic",
                  "source": "google",
                  "isTrueDirect": "True",
                  "hits": 2,
                  "bounces": "nan",
                  "timeOnSite": 446,
                  "conversion": 0,
                  "_deepnote_index_column": 0
                },
                {
                  "date": "2020-03-05",
                  "fullvisitorID": 1000338583919885000,
                  "visitStartTime": 1583399635,
                  "channelGrouping": "Organic Search",
                  "medium": "organic",
                  "source": "google",
                  "isTrueDirect": "True",
                  "hits": 4,
                  "bounces": "nan",
                  "timeOnSite": 489,
                  "conversion": 0,
                  "_deepnote_index_column": 1
                },
                {
                  "date": "2020-03-06",
                  "fullvisitorID": 1000338583919885000,
                  "visitStartTime": 1583504222,
                  "channelGrouping": "Organic Search",
                  "medium": "organic",
                  "source": "google",
                  "isTrueDirect": "True",
                  "hits": 4,
                  "bounces": "nan",
                  "timeOnSite": 36,
                  "conversion": 0,
                  "_deepnote_index_column": 2
                },
                {
                  "date": "2020-03-06",
                  "fullvisitorID": 1000338583919885000,
                  "visitStartTime": 1583520755,
                  "channelGrouping": "Organic Search",
                  "medium": "organic",
                  "source": "google",
                  "isTrueDirect": "True",
                  "hits": 1,
                  "bounces": 1,
                  "timeOnSite": "nan",
                  "conversion": 0,
                  "_deepnote_index_column": 3
                },
                {
                  "date": "2020-03-09",
                  "fullvisitorID": 1000338583919885000,
                  "visitStartTime": 1583753297,
                  "channelGrouping": "Paid Search (Non-Brand)",
                  "medium": "cpc",
                  "source": "google",
                  "isTrueDirect": "False",
                  "hits": 23,
                  "bounces": "nan",
                  "timeOnSite": 257,
                  "conversion": 1,
                  "_deepnote_index_column": 4
                },
                {
                  "date": "2020-03-22",
                  "fullvisitorID": 1000508101997617800,
                  "visitStartTime": 1584915117,
                  "channelGrouping": "Organic Search",
                  "medium": "organic",
                  "source": "google",
                  "isTrueDirect": "False",
                  "hits": 4,
                  "bounces": "nan",
                  "timeOnSite": 561,
                  "conversion": 0,
                  "_deepnote_index_column": 5
                },
                {
                  "date": "2020-03-29",
                  "fullvisitorID": 1000508101997617800,
                  "visitStartTime": 1585495531,
                  "channelGrouping": "Organic Search",
                  "medium": "organic",
                  "source": "google",
                  "isTrueDirect": "True",
                  "hits": 1,
                  "bounces": 1,
                  "timeOnSite": "nan",
                  "conversion": 0,
                  "_deepnote_index_column": 6
                },
                {
                  "date": "2020-03-29",
                  "fullvisitorID": 1000508101997617800,
                  "visitStartTime": 1585495871,
                  "channelGrouping": "Paid Search (Non-Brand)",
                  "medium": "cpc",
                  "source": "google",
                  "isTrueDirect": "False",
                  "hits": 20,
                  "bounces": "nan",
                  "timeOnSite": 980,
                  "conversion": 1,
                  "_deepnote_index_column": 7
                },
                {
                  "date": "2020-04-20",
                  "fullvisitorID": 1001041717320132000,
                  "visitStartTime": 1587409820,
                  "channelGrouping": "Mobile App",
                  "medium": "app",
                  "source": "android",
                  "isTrueDirect": "False",
                  "hits": 4,
                  "bounces": "nan",
                  "timeOnSite": 22,
                  "conversion": 0,
                  "_deepnote_index_column": 8
                },
                {
                  "date": "2020-04-21",
                  "fullvisitorID": 1001041717320132000,
                  "visitStartTime": 1587490797,
                  "channelGrouping": "Organic Search",
                  "medium": "organic",
                  "source": "google",
                  "isTrueDirect": "False",
                  "hits": 10,
                  "bounces": "nan",
                  "timeOnSite": 251,
                  "conversion": 1,
                  "_deepnote_index_column": 9
                }
              ]
            },
            "text/plain": "              date  fullvisitorID  visitStartTime          channelGrouping  \\\n0       2020-03-04   1.000339e+18      1583311404           Organic Search   \n1       2020-03-05   1.000339e+18      1583399635           Organic Search   \n2       2020-03-06   1.000339e+18      1583504222           Organic Search   \n3       2020-03-06   1.000339e+18      1583520755           Organic Search   \n4       2020-03-09   1.000339e+18      1583753297  Paid Search (Non-Brand)   \n...            ...            ...             ...                      ...   \n141419  2020-04-30   8.967218e+18      1588241835                   Direct   \n141420  2020-04-30   9.063905e+18      1588268232  Paid Search (Non-Brand)   \n141421  2020-04-30   9.125349e+18      1588235466                 Referral   \n141422  2020-04-30   9.203921e+17      1588223800  Paid Search (Non-Brand)   \n141423  2020-04-30   9.974784e+17      1588277391           Organic Search   \n\n          medium         source  isTrueDirect  hits  bounces  timeOnSite  \\\n0        organic         google          True     2      NaN       446.0   \n1        organic         google          True     4      NaN       489.0   \n2        organic         google          True     4      NaN        36.0   \n3        organic         google          True     1      1.0         NaN   \n4            cpc         google         False    23      NaN       257.0   \n...          ...            ...           ...   ...      ...         ...   \n141419    (none)       (direct)         False    55      NaN      2194.0   \n141420       cpc         google         False    20      NaN       229.0   \n141421  referral  deref-gmx.net         False    42      NaN       705.0   \n141422       cpc         google         False    35      NaN       192.0   \n141423   organic         google         False    65      NaN      1141.0   \n\n        conversion  \n0                0  \n1                0  \n2                0  \n3                0  \n4                1  \n...            ...  \n141419           0  \n141420           0  \n141421           0  \n141422           0  \n141423           0  \n\n[141424 rows x 11 columns]",
            "text/html": "<div>\n<style scoped>\n    .dataframe tbody tr th:only-of-type {\n        vertical-align: middle;\n    }\n\n    .dataframe tbody tr th {\n        vertical-align: top;\n    }\n\n    .dataframe thead th {\n        text-align: right;\n    }\n</style>\n<table border=\"1\" class=\"dataframe\">\n  <thead>\n    <tr style=\"text-align: right;\">\n      <th></th>\n      <th>date</th>\n      <th>fullvisitorID</th>\n      <th>visitStartTime</th>\n      <th>channelGrouping</th>\n      <th>medium</th>\n      <th>source</th>\n      <th>isTrueDirect</th>\n      <th>hits</th>\n      <th>bounces</th>\n      <th>timeOnSite</th>\n      <th>conversion</th>\n    </tr>\n  </thead>\n  <tbody>\n    <tr>\n      <th>0</th>\n      <td>2020-03-04</td>\n      <td>1.000339e+18</td>\n      <td>1583311404</td>\n      <td>Organic Search</td>\n      <td>organic</td>\n      <td>google</td>\n      <td>True</td>\n      <td>2</td>\n      <td>NaN</td>\n      <td>446.0</td>\n      <td>0</td>\n    </tr>\n    <tr>\n      <th>1</th>\n      <td>2020-03-05</td>\n      <td>1.000339e+18</td>\n      <td>1583399635</td>\n      <td>Organic Search</td>\n      <td>organic</td>\n      <td>google</td>\n      <td>True</td>\n      <td>4</td>\n      <td>NaN</td>\n      <td>489.0</td>\n      <td>0</td>\n    </tr>\n    <tr>\n      <th>2</th>\n      <td>2020-03-06</td>\n      <td>1.000339e+18</td>\n      <td>1583504222</td>\n      <td>Organic Search</td>\n      <td>organic</td>\n      <td>google</td>\n      <td>True</td>\n      <td>4</td>\n      <td>NaN</td>\n      <td>36.0</td>\n      <td>0</td>\n    </tr>\n    <tr>\n      <th>3</th>\n      <td>2020-03-06</td>\n      <td>1.000339e+18</td>\n      <td>1583520755</td>\n      <td>Organic Search</td>\n      <td>organic</td>\n      <td>google</td>\n      <td>True</td>\n      <td>1</td>\n      <td>1.0</td>\n      <td>NaN</td>\n      <td>0</td>\n    </tr>\n    <tr>\n      <th>4</th>\n      <td>2020-03-09</td>\n      <td>1.000339e+18</td>\n      <td>1583753297</td>\n      <td>Paid Search (Non-Brand)</td>\n      <td>cpc</td>\n      <td>google</td>\n      <td>False</td>\n      <td>23</td>\n      <td>NaN</td>\n      <td>257.0</td>\n      <td>1</td>\n    </tr>\n    <tr>\n      <th>...</th>\n      <td>...</td>\n      <td>...</td>\n      <td>...</td>\n      <td>...</td>\n      <td>...</td>\n      <td>...</td>\n      <td>...</td>\n      <td>...</td>\n      <td>...</td>\n      <td>...</td>\n      <td>...</td>\n    </tr>\n    <tr>\n      <th>141419</th>\n      <td>2020-04-30</td>\n      <td>8.967218e+18</td>\n      <td>1588241835</td>\n      <td>Direct</td>\n      <td>(none)</td>\n      <td>(direct)</td>\n      <td>False</td>\n      <td>55</td>\n      <td>NaN</td>\n      <td>2194.0</td>\n      <td>0</td>\n    </tr>\n    <tr>\n      <th>141420</th>\n      <td>2020-04-30</td>\n      <td>9.063905e+18</td>\n      <td>1588268232</td>\n      <td>Paid Search (Non-Brand)</td>\n      <td>cpc</td>\n      <td>google</td>\n      <td>False</td>\n      <td>20</td>\n      <td>NaN</td>\n      <td>229.0</td>\n      <td>0</td>\n    </tr>\n    <tr>\n      <th>141421</th>\n      <td>2020-04-30</td>\n      <td>9.125349e+18</td>\n      <td>1588235466</td>\n      <td>Referral</td>\n      <td>referral</td>\n      <td>deref-gmx.net</td>\n      <td>False</td>\n      <td>42</td>\n      <td>NaN</td>\n      <td>705.0</td>\n      <td>0</td>\n    </tr>\n    <tr>\n      <th>141422</th>\n      <td>2020-04-30</td>\n      <td>9.203921e+17</td>\n      <td>1588223800</td>\n      <td>Paid Search (Non-Brand)</td>\n      <td>cpc</td>\n      <td>google</td>\n      <td>False</td>\n      <td>35</td>\n      <td>NaN</td>\n      <td>192.0</td>\n      <td>0</td>\n    </tr>\n    <tr>\n      <th>141423</th>\n      <td>2020-04-30</td>\n      <td>9.974784e+17</td>\n      <td>1588277391</td>\n      <td>Organic Search</td>\n      <td>organic</td>\n      <td>google</td>\n      <td>False</td>\n      <td>65</td>\n      <td>NaN</td>\n      <td>1141.0</td>\n      <td>0</td>\n    </tr>\n  </tbody>\n</table>\n<p>141424 rows × 11 columns</p>\n</div>"
          },
          "metadata": {}
        }
      ],
      "execution_count": 2,
      "block_group": "cf7e499b684f408b90fb09ce540e3d82"
    },
    {
      "cell_type": "markdown",
      "source": "### Merging datasets and calculating metrics\nDefine the granularity, primary key, and columns that can be dropped without any loss.",
      "metadata": {
        "deepnote_app_coordinates": {
          "h": 5,
          "w": 12,
          "x": 0,
          "y": 0
        },
        "cell_id": "78a26a08dc204d3bbe9b22c242232731",
        "deepnote_cell_type": "markdown"
      },
      "block_group": "8d56b573ce6a429fba398980db266a50"
    },
    {
      "cell_type": "markdown",
      "source": "-> The questions refer to performance of marketing channels by date, so the data should be aggregated by date and source.\n-> The primary key (unique identifier for each row) is the date + marketing channel fields. \n-> The columns that are on the user or session level can be dropped. The analysis only goes until the channel level, so information regarding campaing can also be removed. ",
      "metadata": {
        "deepnote_app_coordinates": {
          "h": 5,
          "w": 12,
          "x": 0,
          "y": 0
        },
        "cell_id": "d78799a22b0348f98232477e0702a830",
        "deepnote_cell_type": "markdown"
      },
      "block_group": "5a12d9248f5841788f1522ef72831e7d"
    },
    {
      "cell_type": "code",
      "source": "funnel = _deepnote_execute_sql('WITH cs AS (\\n    SELECT\\n        date \\n        , SPLIT_PART(source_medium, \\' / \\', 1) as source\\n        , SPLIT_PART(source_medium, \\' / \\', 2) as medium\\n        , SUM(impressions) AS impressions\\n        , SUM(clicks) AS clicks\\n        , SUM(spend) AS spend\\n    FROM costs\\n    GROUP BY 1, 2,3\\n)\\n, tf AS (\\n    SELECT\\n        date\\n        , source\\n        , medium\\n        , CASE WHEN medium = \\'cpc\\' THEN \\'Paid Search\\' \\n               WHEN channelGrouping = \\'(Other)\\' THEN medium \\n               ELSE channelGrouping END AS channel_grouping\\n        , SUM(hits) AS hits\\n        , SUM(timeOnSite) AS time_on_site\\n        , SUM(bounces) AS bounces\\n        , SUM(conversion) AS conversion\\n        , COUNT(fullvisitorID) AS users\\n        , COUNT(DISTINCT fullVisitorId) AS distinct_users\\n        , COUNT(DISTINCT CASE WHEN conversion = 1 THEN fullvisitorID ELSE NULL END) AS distinct_conversions\\n    FROM traffic\\n    GROUP BY 1, 2,3,4\\n    )   \\n\\nSELECT\\n    date\\n    , source\\n    , channel_grouping\\n    , medium\\n    , users\\n    , distinct_users\\n    , distinct_conversions\\n    , time_on_site\\n    , COALESCE(impressions, 0) AS impressions\\n    , COALESCE(clicks, 0) AS clicks\\n    , COALESCE(conversion, 0) AS conversion\\n\\n    , COALESCE(hits, 0) AS hits\\n    , COALESCE(bounces, 0) AS bounces\\n    , COALESCE(spend, 0) AS spend\\n    , conversion * 100 AS conversion_value\\nFROM tf LEFT JOIN cs USING(date, source, medium)', 'SQL_DEEPNOTE_DATAFRAME_SQL', audit_sql_comment='', sql_cache_mode='cache_disabled')\nfunnel",
      "metadata": {
        "source_hash": "f2c61aca",
        "execution_start": 1701632798991,
        "execution_millis": 351,
        "is_output_hidden": false,
        "sql_integration_id": "deepnote-dataframe-sql",
        "deepnote_table_state": {
          "sortBy": [
            {
              "id": "clicks",
              "type": "desc"
            }
          ],
          "filters": [],
          "pageSize": 10,
          "pageIndex": 0
        },
        "deepnote_table_loading": false,
        "deepnote_variable_name": "funnel",
        "deepnote_app_coordinates": {
          "h": 5,
          "w": 12,
          "x": 0,
          "y": 0
        },
        "deepnote_to_be_reexecuted": false,
        "deepnote_app_is_code_hidden": true,
        "deepnote_app_is_output_hidden": true,
        "cell_id": "6cc326d9a0bd49d6ba78dcbfa259b947",
        "deepnote_cell_type": "sql",
        "deepnote_sql_source": "WITH cs AS (\n    SELECT\n        date \n        , SPLIT_PART(source_medium, ' / ', 1) as source\n        , SPLIT_PART(source_medium, ' / ', 2) as medium\n        , SUM(impressions) AS impressions\n        , SUM(clicks) AS clicks\n        , SUM(spend) AS spend\n    FROM costs\n    GROUP BY 1, 2,3\n)\n, tf AS (\n    SELECT\n        date\n        , source\n        , medium\n        , CASE WHEN medium = 'cpc' THEN 'Paid Search' \n               WHEN channelGrouping = '(Other)' THEN medium \n               ELSE channelGrouping END AS channel_grouping\n        , SUM(hits) AS hits\n        , SUM(timeOnSite) AS time_on_site\n        , SUM(bounces) AS bounces\n        , SUM(conversion) AS conversion\n        , COUNT(fullvisitorID) AS users\n        , COUNT(DISTINCT fullVisitorId) AS distinct_users\n        , COUNT(DISTINCT CASE WHEN conversion = 1 THEN fullvisitorID ELSE NULL END) AS distinct_conversions\n    FROM traffic\n    GROUP BY 1, 2,3,4\n    )   \n\nSELECT\n    date\n    , source\n    , channel_grouping\n    , medium\n    , users\n    , distinct_users\n    , distinct_conversions\n    , time_on_site\n    , COALESCE(impressions, 0) AS impressions\n    , COALESCE(clicks, 0) AS clicks\n    , COALESCE(conversion, 0) AS conversion\n\n    , COALESCE(hits, 0) AS hits\n    , COALESCE(bounces, 0) AS bounces\n    , COALESCE(spend, 0) AS spend\n    , conversion * 100 AS conversion_value\nFROM tf LEFT JOIN cs USING(date, source, medium)"
      },
      "outputs": [
        {
          "data": {
            "application/vnd.deepnote.sql-output-metadata+json": {
              "status": "success_no_cache",
              "size_in_bytes": 1376742
            }
          },
          "metadata": {},
          "output_type": "display_data"
        },
        {
          "output_type": "execute_result",
          "execution_count": 55,
          "data": {
            "application/vnd.deepnote.dataframe.v3+json": {
              "column_count": 15,
              "row_count": 4200,
              "columns": [
                {
                  "name": "date",
                  "dtype": "object",
                  "stats": {
                    "unique_count": 61,
                    "nan_count": 0,
                    "categories": [
                      {
                        "name": "2020-04-14",
                        "count": 90
                      },
                      {
                        "name": "2020-03-03",
                        "count": 89
                      },
                      {
                        "name": "59 others",
                        "count": 4021
                      }
                    ]
                  }
                },
                {
                  "name": "source",
                  "dtype": "object",
                  "stats": {
                    "unique_count": 409,
                    "nan_count": 0,
                    "categories": [
                      {
                        "name": "google",
                        "count": 122
                      },
                      {
                        "name": "bing",
                        "count": 119
                      },
                      {
                        "name": "407 others",
                        "count": 3959
                      }
                    ]
                  }
                },
                {
                  "name": "channel_grouping",
                  "dtype": "object",
                  "stats": {
                    "unique_count": 17,
                    "nan_count": 0,
                    "categories": [
                      {
                        "name": "Referral",
                        "count": 1718
                      },
                      {
                        "name": "Cooperation",
                        "count": 509
                      },
                      {
                        "name": "15 others",
                        "count": 1973
                      }
                    ]
                  }
                },
                {
                  "name": "medium",
                  "dtype": "object",
                  "stats": {
                    "unique_count": 17,
                    "nan_count": 0,
                    "categories": [
                      {
                        "name": "referral",
                        "count": 1890
                      },
                      {
                        "name": "cooperation",
                        "count": 509
                      },
                      {
                        "name": "15 others",
                        "count": 1801
                      }
                    ]
                  }
                },
                {
                  "name": "users",
                  "dtype": "int64",
                  "stats": {
                    "unique_count": 305,
                    "nan_count": 0,
                    "min": "1",
                    "max": "1122",
                    "histogram": [
                      {
                        "bin_start": 1,
                        "bin_end": 113.1,
                        "count": 3925
                      },
                      {
                        "bin_start": 113.1,
                        "bin_end": 225.2,
                        "count": 74
                      },
                      {
                        "bin_start": 225.2,
                        "bin_end": 337.29999999999995,
                        "count": 87
                      },
                      {
                        "bin_start": 337.29999999999995,
                        "bin_end": 449.4,
                        "count": 25
                      },
                      {
                        "bin_start": 449.4,
                        "bin_end": 561.5,
                        "count": 17
                      },
                      {
                        "bin_start": 561.5,
                        "bin_end": 673.5999999999999,
                        "count": 18
                      },
                      {
                        "bin_start": 673.5999999999999,
                        "bin_end": 785.6999999999999,
                        "count": 20
                      },
                      {
                        "bin_start": 785.6999999999999,
                        "bin_end": 897.8,
                        "count": 22
                      },
                      {
                        "bin_start": 897.8,
                        "bin_end": 1009.9,
                        "count": 10
                      },
                      {
                        "bin_start": 1009.9,
                        "bin_end": 1122,
                        "count": 2
                      }
                    ]
                  }
                },
                {
                  "name": "distinct_users",
                  "dtype": "int64",
                  "stats": {
                    "unique_count": 252,
                    "nan_count": 0,
                    "min": "1",
                    "max": "704",
                    "histogram": [
                      {
                        "bin_start": 1,
                        "bin_end": 71.3,
                        "count": 3924
                      },
                      {
                        "bin_start": 71.3,
                        "bin_end": 141.6,
                        "count": 72
                      },
                      {
                        "bin_start": 141.6,
                        "bin_end": 211.89999999999998,
                        "count": 73
                      },
                      {
                        "bin_start": 211.89999999999998,
                        "bin_end": 282.2,
                        "count": 43
                      },
                      {
                        "bin_start": 282.2,
                        "bin_end": 352.5,
                        "count": 22
                      },
                      {
                        "bin_start": 352.5,
                        "bin_end": 422.79999999999995,
                        "count": 14
                      },
                      {
                        "bin_start": 422.79999999999995,
                        "bin_end": 493.09999999999997,
                        "count": 19
                      },
                      {
                        "bin_start": 493.09999999999997,
                        "bin_end": 563.4,
                        "count": 17
                      },
                      {
                        "bin_start": 563.4,
                        "bin_end": 633.6999999999999,
                        "count": 13
                      },
                      {
                        "bin_start": 633.6999999999999,
                        "bin_end": 704,
                        "count": 3
                      }
                    ]
                  }
                },
                {
                  "name": "distinct_conversions",
                  "dtype": "int64",
                  "stats": {
                    "unique_count": 116,
                    "nan_count": 0,
                    "min": "0",
                    "max": "157",
                    "histogram": [
                      {
                        "bin_start": 0,
                        "bin_end": 15.7,
                        "count": 3914
                      },
                      {
                        "bin_start": 15.7,
                        "bin_end": 31.4,
                        "count": 75
                      },
                      {
                        "bin_start": 31.4,
                        "bin_end": 47.099999999999994,
                        "count": 30
                      },
                      {
                        "bin_start": 47.099999999999994,
                        "bin_end": 62.8,
                        "count": 46
                      },
                      {
                        "bin_start": 62.8,
                        "bin_end": 78.5,
                        "count": 49
                      },
                      {
                        "bin_start": 78.5,
                        "bin_end": 94.19999999999999,
                        "count": 41
                      },
                      {
                        "bin_start": 94.19999999999999,
                        "bin_end": 109.89999999999999,
                        "count": 22
                      },
                      {
                        "bin_start": 109.89999999999999,
                        "bin_end": 125.6,
                        "count": 13
                      },
                      {
                        "bin_start": 125.6,
                        "bin_end": 141.29999999999998,
                        "count": 6
                      },
                      {
                        "bin_start": 141.29999999999998,
                        "bin_end": 157,
                        "count": 4
                      }
                    ]
                  }
                },
                {
                  "name": "time_on_site",
                  "dtype": "float64",
                  "stats": {
                    "unique_count": 2961,
                    "nan_count": 327,
                    "min": "1.0",
                    "max": "966368.0",
                    "histogram": [
                      {
                        "bin_start": 1,
                        "bin_end": 96637.7,
                        "count": 3607
                      },
                      {
                        "bin_start": 96637.7,
                        "bin_end": 193274.4,
                        "count": 139
                      },
                      {
                        "bin_start": 193274.4,
                        "bin_end": 289911.1,
                        "count": 54
                      },
                      {
                        "bin_start": 289911.1,
                        "bin_end": 386547.8,
                        "count": 15
                      },
                      {
                        "bin_start": 386547.8,
                        "bin_end": 483184.5,
                        "count": 12
                      },
                      {
                        "bin_start": 483184.5,
                        "bin_end": 579821.2,
                        "count": 14
                      },
                      {
                        "bin_start": 579821.2,
                        "bin_end": 676457.9,
                        "count": 18
                      },
                      {
                        "bin_start": 676457.9,
                        "bin_end": 773094.6,
                        "count": 11
                      },
                      {
                        "bin_start": 773094.6,
                        "bin_end": 869731.2999999999,
                        "count": 1
                      },
                      {
                        "bin_start": 869731.2999999999,
                        "bin_end": 966368,
                        "count": 2
                      }
                    ]
                  }
                },
                {
                  "name": "impressions",
                  "dtype": "int64",
                  "stats": {
                    "unique_count": 157,
                    "nan_count": 0,
                    "min": "0",
                    "max": "244296",
                    "histogram": [
                      {
                        "bin_start": 0,
                        "bin_end": 24429.6,
                        "count": 4071
                      },
                      {
                        "bin_start": 24429.6,
                        "bin_end": 48859.2,
                        "count": 36
                      },
                      {
                        "bin_start": 48859.2,
                        "bin_end": 73288.79999999999,
                        "count": 0
                      },
                      {
                        "bin_start": 73288.79999999999,
                        "bin_end": 97718.4,
                        "count": 2
                      },
                      {
                        "bin_start": 97718.4,
                        "bin_end": 122148,
                        "count": 6
                      },
                      {
                        "bin_start": 122148,
                        "bin_end": 146577.59999999998,
                        "count": 19
                      },
                      {
                        "bin_start": 146577.59999999998,
                        "bin_end": 171007.19999999998,
                        "count": 21
                      },
                      {
                        "bin_start": 171007.19999999998,
                        "bin_end": 195436.8,
                        "count": 24
                      },
                      {
                        "bin_start": 195436.8,
                        "bin_end": 219866.4,
                        "count": 16
                      },
                      {
                        "bin_start": 219866.4,
                        "bin_end": 244296,
                        "count": 5
                      }
                    ]
                  }
                },
                {
                  "name": "clicks",
                  "dtype": "int64",
                  "stats": {
                    "unique_count": 155,
                    "nan_count": 0,
                    "min": "0",
                    "max": "149302",
                    "histogram": [
                      {
                        "bin_start": 0,
                        "bin_end": 14930.2,
                        "count": 4139
                      },
                      {
                        "bin_start": 14930.2,
                        "bin_end": 29860.4,
                        "count": 0
                      },
                      {
                        "bin_start": 29860.4,
                        "bin_end": 44790.600000000006,
                        "count": 0
                      },
                      {
                        "bin_start": 44790.600000000006,
                        "bin_end": 59720.8,
                        "count": 0
                      },
                      {
                        "bin_start": 59720.8,
                        "bin_end": 74651,
                        "count": 6
                      },
                      {
                        "bin_start": 74651,
                        "bin_end": 89581.20000000001,
                        "count": 6
                      },
                      {
                        "bin_start": 89581.20000000001,
                        "bin_end": 104511.40000000001,
                        "count": 13
                      },
                      {
                        "bin_start": 104511.40000000001,
                        "bin_end": 119441.6,
                        "count": 24
                      },
                      {
                        "bin_start": 119441.6,
                        "bin_end": 134371.80000000002,
                        "count": 9
                      },
                      {
                        "bin_start": 134371.80000000002,
                        "bin_end": 149302,
                        "count": 3
                      }
                    ]
                  }
                },
                {
                  "name": "conversion",
                  "dtype": "int64",
                  "stats": {
                    "unique_count": 123,
                    "nan_count": 0,
                    "min": "0",
                    "max": "165",
                    "histogram": [
                      {
                        "bin_start": 0,
                        "bin_end": 16.5,
                        "count": 3917
                      },
                      {
                        "bin_start": 16.5,
                        "bin_end": 33,
                        "count": 71
                      },
                      {
                        "bin_start": 33,
                        "bin_end": 49.5,
                        "count": 29
                      },
                      {
                        "bin_start": 49.5,
                        "bin_end": 66,
                        "count": 33
                      },
                      {
                        "bin_start": 66,
                        "bin_end": 82.5,
                        "count": 54
                      },
                      {
                        "bin_start": 82.5,
                        "bin_end": 99,
                        "count": 44
                      },
                      {
                        "bin_start": 99,
                        "bin_end": 115.5,
                        "count": 30
                      },
                      {
                        "bin_start": 115.5,
                        "bin_end": 132,
                        "count": 14
                      },
                      {
                        "bin_start": 132,
                        "bin_end": 148.5,
                        "count": 4
                      },
                      {
                        "bin_start": 148.5,
                        "bin_end": 165,
                        "count": 4
                      }
                    ]
                  }
                },
                {
                  "name": "hits",
                  "dtype": "int64",
                  "stats": {
                    "unique_count": 1009,
                    "nan_count": 0,
                    "min": "1",
                    "max": "41111",
                    "histogram": [
                      {
                        "bin_start": 1,
                        "bin_end": 4112,
                        "count": 3942
                      },
                      {
                        "bin_start": 4112,
                        "bin_end": 8223,
                        "count": 113
                      },
                      {
                        "bin_start": 8223,
                        "bin_end": 12334,
                        "count": 73
                      },
                      {
                        "bin_start": 12334,
                        "bin_end": 16445,
                        "count": 14
                      },
                      {
                        "bin_start": 16445,
                        "bin_end": 20556,
                        "count": 12
                      },
                      {
                        "bin_start": 20556,
                        "bin_end": 24667,
                        "count": 13
                      },
                      {
                        "bin_start": 24667,
                        "bin_end": 28778,
                        "count": 21
                      },
                      {
                        "bin_start": 28778,
                        "bin_end": 32889,
                        "count": 8
                      },
                      {
                        "bin_start": 32889,
                        "bin_end": 37000,
                        "count": 2
                      },
                      {
                        "bin_start": 37000,
                        "bin_end": 41111,
                        "count": 2
                      }
                    ]
                  }
                },
                {
                  "name": "bounces",
                  "dtype": "float64",
                  "stats": {
                    "unique_count": 82,
                    "nan_count": 0,
                    "min": "0.0",
                    "max": "172.0",
                    "histogram": [
                      {
                        "bin_start": 0,
                        "bin_end": 17.2,
                        "count": 4032
                      },
                      {
                        "bin_start": 17.2,
                        "bin_end": 34.4,
                        "count": 50
                      },
                      {
                        "bin_start": 34.4,
                        "bin_end": 51.599999999999994,
                        "count": 51
                      },
                      {
                        "bin_start": 51.599999999999994,
                        "bin_end": 68.8,
                        "count": 38
                      },
                      {
                        "bin_start": 68.8,
                        "bin_end": 86,
                        "count": 15
                      },
                      {
                        "bin_start": 86,
                        "bin_end": 103.19999999999999,
                        "count": 7
                      },
                      {
                        "bin_start": 103.19999999999999,
                        "bin_end": 120.39999999999999,
                        "count": 6
                      },
                      {
                        "bin_start": 120.39999999999999,
                        "bin_end": 137.6,
                        "count": 0
                      },
                      {
                        "bin_start": 137.6,
                        "bin_end": 154.79999999999998,
                        "count": 0
                      },
                      {
                        "bin_start": 154.79999999999998,
                        "bin_end": 172,
                        "count": 1
                      }
                    ]
                  }
                },
                {
                  "name": "spend",
                  "dtype": "float64",
                  "stats": {
                    "unique_count": 157,
                    "nan_count": 0,
                    "min": "0.0",
                    "max": "7684.490000000001",
                    "histogram": [
                      {
                        "bin_start": 0,
                        "bin_end": 768.4490000000001,
                        "count": 4103
                      },
                      {
                        "bin_start": 768.4490000000001,
                        "bin_end": 1536.8980000000001,
                        "count": 36
                      },
                      {
                        "bin_start": 1536.8980000000001,
                        "bin_end": 2305.347,
                        "count": 0
                      },
                      {
                        "bin_start": 2305.347,
                        "bin_end": 3073.7960000000003,
                        "count": 1
                      },
                      {
                        "bin_start": 3073.7960000000003,
                        "bin_end": 3842.2450000000003,
                        "count": 7
                      },
                      {
                        "bin_start": 3842.2450000000003,
                        "bin_end": 4610.694,
                        "count": 15
                      },
                      {
                        "bin_start": 4610.694,
                        "bin_end": 5379.143,
                        "count": 13
                      },
                      {
                        "bin_start": 5379.143,
                        "bin_end": 6147.592000000001,
                        "count": 6
                      },
                      {
                        "bin_start": 6147.592000000001,
                        "bin_end": 6916.041000000001,
                        "count": 11
                      },
                      {
                        "bin_start": 6916.041000000001,
                        "bin_end": 7684.490000000001,
                        "count": 8
                      }
                    ]
                  }
                },
                {
                  "name": "conversion_value",
                  "dtype": "int64",
                  "stats": {
                    "unique_count": 123,
                    "nan_count": 0,
                    "min": "0",
                    "max": "16500",
                    "histogram": [
                      {
                        "bin_start": 0,
                        "bin_end": 1650,
                        "count": 3917
                      },
                      {
                        "bin_start": 1650,
                        "bin_end": 3300,
                        "count": 71
                      },
                      {
                        "bin_start": 3300,
                        "bin_end": 4950,
                        "count": 29
                      },
                      {
                        "bin_start": 4950,
                        "bin_end": 6600,
                        "count": 33
                      },
                      {
                        "bin_start": 6600,
                        "bin_end": 8250,
                        "count": 54
                      },
                      {
                        "bin_start": 8250,
                        "bin_end": 9900,
                        "count": 44
                      },
                      {
                        "bin_start": 9900,
                        "bin_end": 11550,
                        "count": 30
                      },
                      {
                        "bin_start": 11550,
                        "bin_end": 13200,
                        "count": 14
                      },
                      {
                        "bin_start": 13200,
                        "bin_end": 14850,
                        "count": 4
                      },
                      {
                        "bin_start": 14850,
                        "bin_end": 16500,
                        "count": 4
                      }
                    ]
                  }
                },
                {
                  "name": "_deepnote_index_column",
                  "dtype": "int64"
                }
              ],
              "rows": [
                {
                  "date": "2020-04-19",
                  "source": "google",
                  "channel_grouping": "Paid Search",
                  "medium": "cpc",
                  "users": 337,
                  "distinct_users": 243,
                  "distinct_conversions": 121,
                  "time_on_site": 259458,
                  "impressions": 244296,
                  "clicks": 149302,
                  "conversion": 125,
                  "hits": 12774,
                  "bounces": 11,
                  "spend": 7488.590000000001,
                  "conversion_value": 12500,
                  "_deepnote_index_column": 17
                },
                {
                  "date": "2020-04-13",
                  "source": "google",
                  "channel_grouping": "Paid Search",
                  "medium": "cpc",
                  "users": 354,
                  "distinct_users": 250,
                  "distinct_conversions": 88,
                  "time_on_site": 233294,
                  "impressions": 239217,
                  "clicks": 147426,
                  "conversion": 94,
                  "hits": 12218,
                  "bounces": 18,
                  "spend": 6261.910000000001,
                  "conversion_value": 9400,
                  "_deepnote_index_column": 59
                },
                {
                  "date": "2020-04-26",
                  "source": "google",
                  "channel_grouping": "Paid Search",
                  "medium": "cpc",
                  "users": 250,
                  "distinct_users": 194,
                  "distinct_conversions": 113,
                  "time_on_site": 163335,
                  "impressions": 224034,
                  "clicks": 136491,
                  "conversion": 114,
                  "hits": 9216,
                  "bounces": 11,
                  "spend": 7427.220000000001,
                  "conversion_value": 11400,
                  "_deepnote_index_column": 19
                },
                {
                  "date": "2020-04-14",
                  "source": "google",
                  "channel_grouping": "Paid Search",
                  "medium": "cpc",
                  "users": 327,
                  "distinct_users": 245,
                  "distinct_conversions": 97,
                  "time_on_site": 194815,
                  "impressions": 223604,
                  "clicks": 133064,
                  "conversion": 101,
                  "hits": 10535,
                  "bounces": 12,
                  "spend": 5327.860000000001,
                  "conversion_value": 10100,
                  "_deepnote_index_column": 60
                },
                {
                  "date": "2020-04-28",
                  "source": "google",
                  "channel_grouping": "Paid Search",
                  "medium": "cpc",
                  "users": 246,
                  "distinct_users": 204,
                  "distinct_conversions": 105,
                  "time_on_site": 161116,
                  "impressions": 218824,
                  "clicks": 128332,
                  "conversion": 107,
                  "hits": 8491,
                  "bounces": 9,
                  "spend": 7684.490000000001,
                  "conversion_value": 10700,
                  "_deepnote_index_column": 6
                },
                {
                  "date": "2020-04-27",
                  "source": "google",
                  "channel_grouping": "Paid Search",
                  "medium": "cpc",
                  "users": 258,
                  "distinct_users": 208,
                  "distinct_conversions": 126,
                  "time_on_site": 158697,
                  "impressions": 216524,
                  "clicks": 126228,
                  "conversion": 129,
                  "hits": 8518,
                  "bounces": 8,
                  "spend": 7411.030000000001,
                  "conversion_value": 12900,
                  "_deepnote_index_column": 34
                },
                {
                  "date": "2020-03-08",
                  "source": "google",
                  "channel_grouping": "Paid Search",
                  "medium": "cpc",
                  "users": 328,
                  "distinct_users": 241,
                  "distinct_conversions": 84,
                  "time_on_site": 235766,
                  "impressions": 209286,
                  "clicks": 126075,
                  "conversion": 87,
                  "hits": 12956,
                  "bounces": 15,
                  "spend": 7265.28,
                  "conversion_value": 8700,
                  "_deepnote_index_column": 178
                },
                {
                  "date": "2020-04-29",
                  "source": "google",
                  "channel_grouping": "Paid Search",
                  "medium": "cpc",
                  "users": 202,
                  "distinct_users": 163,
                  "distinct_conversions": 100,
                  "time_on_site": 134830,
                  "impressions": 212659,
                  "clicks": 124697,
                  "conversion": 103,
                  "hits": 6670,
                  "bounces": 5,
                  "spend": 7210.949999999999,
                  "conversion_value": 10300,
                  "_deepnote_index_column": 15
                },
                {
                  "date": "2020-04-20",
                  "source": "google",
                  "channel_grouping": "Paid Search",
                  "medium": "cpc",
                  "users": 275,
                  "distinct_users": 197,
                  "distinct_conversions": 82,
                  "time_on_site": 173295,
                  "impressions": 211071,
                  "clicks": 124237,
                  "conversion": 88,
                  "hits": 9354,
                  "bounces": 13,
                  "spend": 6065.09,
                  "conversion_value": 8800,
                  "_deepnote_index_column": 27
                },
                {
                  "date": "2020-03-01",
                  "source": "google",
                  "channel_grouping": "Paid Search",
                  "medium": "cpc",
                  "users": 338,
                  "distinct_users": 238,
                  "distinct_conversions": 91,
                  "time_on_site": 241711,
                  "impressions": 208339,
                  "clicks": 124150,
                  "conversion": 93,
                  "hits": 11569,
                  "bounces": 12,
                  "spend": 6687.53,
                  "conversion_value": 9300,
                  "_deepnote_index_column": 22
                }
              ]
            },
            "text/plain": "            date               source channel_grouping       medium  users  \\\n0     2020-03-09               google      Paid Search          cpc    338   \n1     2020-03-22               google      Paid Search          cpc    291   \n2     2020-04-24               google      Paid Search          cpc    206   \n3     2020-04-08               google      Paid Search          cpc    302   \n4     2020-03-31               google      Paid Search          cpc    281   \n...          ...                  ...              ...          ...    ...   \n4195  2020-04-30  immo-goettingen.com         Referral     referral      1   \n4196  2020-04-30  immosuchmaschine.de      Cooperation  cooperation      1   \n4197  2020-04-30        deref-gmx.net         Referral     referral      1   \n4198  2020-04-30        standalone_az            Email        email      8   \n4199  2020-04-30    suche.t-online.de   Organic Search      organic      1   \n\n      distinct_users  distinct_conversions  time_on_site  impressions  clicks  \\\n0                245                    88      199017.0       206281  119570   \n1                212                    69      201250.0       148931   89510   \n2                160                    75      181986.0       181233  107727   \n3                226                    66      194972.0       165793   98372   \n4                208                    57      172699.0       180753  107646   \n...              ...                   ...           ...          ...     ...   \n4195               1                     0         408.0            0       0   \n4196               1                     0         157.0            0       0   \n4197               1                     0         705.0            0       0   \n4198               8                     0        3527.0            0       0   \n4199               1                     0        1388.0            0       0   \n\n      conversion   hits  bounces    spend  conversion_value  \n0             95  10821     13.0  7206.53              9500  \n1             69  10026     12.0  4376.55              6900  \n2             75   9083      6.0  4801.17              7500  \n3             70   9915     14.0  4489.34              7000  \n4             57   9209      9.0  4452.95              5700  \n...          ...    ...      ...      ...               ...  \n4195           0     62      0.0     0.00                 0  \n4196           0     36      0.0     0.00                 0  \n4197           0     42      0.0     0.00                 0  \n4198           0    292      0.0     0.00                 0  \n4199           0     23      0.0     0.00                 0  \n\n[4200 rows x 15 columns]",
            "text/html": "<div>\n<style scoped>\n    .dataframe tbody tr th:only-of-type {\n        vertical-align: middle;\n    }\n\n    .dataframe tbody tr th {\n        vertical-align: top;\n    }\n\n    .dataframe thead th {\n        text-align: right;\n    }\n</style>\n<table border=\"1\" class=\"dataframe\">\n  <thead>\n    <tr style=\"text-align: right;\">\n      <th></th>\n      <th>date</th>\n      <th>source</th>\n      <th>channel_grouping</th>\n      <th>medium</th>\n      <th>users</th>\n      <th>distinct_users</th>\n      <th>distinct_conversions</th>\n      <th>time_on_site</th>\n      <th>impressions</th>\n      <th>clicks</th>\n      <th>conversion</th>\n      <th>hits</th>\n      <th>bounces</th>\n      <th>spend</th>\n      <th>conversion_value</th>\n    </tr>\n  </thead>\n  <tbody>\n    <tr>\n      <th>0</th>\n      <td>2020-03-09</td>\n      <td>google</td>\n      <td>Paid Search</td>\n      <td>cpc</td>\n      <td>338</td>\n      <td>245</td>\n      <td>88</td>\n      <td>199017.0</td>\n      <td>206281</td>\n      <td>119570</td>\n      <td>95</td>\n      <td>10821</td>\n      <td>13.0</td>\n      <td>7206.53</td>\n      <td>9500</td>\n    </tr>\n    <tr>\n      <th>1</th>\n      <td>2020-03-22</td>\n      <td>google</td>\n      <td>Paid Search</td>\n      <td>cpc</td>\n      <td>291</td>\n      <td>212</td>\n      <td>69</td>\n      <td>201250.0</td>\n      <td>148931</td>\n      <td>89510</td>\n      <td>69</td>\n      <td>10026</td>\n      <td>12.0</td>\n      <td>4376.55</td>\n      <td>6900</td>\n    </tr>\n    <tr>\n      <th>2</th>\n      <td>2020-04-24</td>\n      <td>google</td>\n      <td>Paid Search</td>\n      <td>cpc</td>\n      <td>206</td>\n      <td>160</td>\n      <td>75</td>\n      <td>181986.0</td>\n      <td>181233</td>\n      <td>107727</td>\n      <td>75</td>\n      <td>9083</td>\n      <td>6.0</td>\n      <td>4801.17</td>\n      <td>7500</td>\n    </tr>\n    <tr>\n      <th>3</th>\n      <td>2020-04-08</td>\n      <td>google</td>\n      <td>Paid Search</td>\n      <td>cpc</td>\n      <td>302</td>\n      <td>226</td>\n      <td>66</td>\n      <td>194972.0</td>\n      <td>165793</td>\n      <td>98372</td>\n      <td>70</td>\n      <td>9915</td>\n      <td>14.0</td>\n      <td>4489.34</td>\n      <td>7000</td>\n    </tr>\n    <tr>\n      <th>4</th>\n      <td>2020-03-31</td>\n      <td>google</td>\n      <td>Paid Search</td>\n      <td>cpc</td>\n      <td>281</td>\n      <td>208</td>\n      <td>57</td>\n      <td>172699.0</td>\n      <td>180753</td>\n      <td>107646</td>\n      <td>57</td>\n      <td>9209</td>\n      <td>9.0</td>\n      <td>4452.95</td>\n      <td>5700</td>\n    </tr>\n    <tr>\n      <th>...</th>\n      <td>...</td>\n      <td>...</td>\n      <td>...</td>\n      <td>...</td>\n      <td>...</td>\n      <td>...</td>\n      <td>...</td>\n      <td>...</td>\n      <td>...</td>\n      <td>...</td>\n      <td>...</td>\n      <td>...</td>\n      <td>...</td>\n      <td>...</td>\n      <td>...</td>\n    </tr>\n    <tr>\n      <th>4195</th>\n      <td>2020-04-30</td>\n      <td>immo-goettingen.com</td>\n      <td>Referral</td>\n      <td>referral</td>\n      <td>1</td>\n      <td>1</td>\n      <td>0</td>\n      <td>408.0</td>\n      <td>0</td>\n      <td>0</td>\n      <td>0</td>\n      <td>62</td>\n      <td>0.0</td>\n      <td>0.00</td>\n      <td>0</td>\n    </tr>\n    <tr>\n      <th>4196</th>\n      <td>2020-04-30</td>\n      <td>immosuchmaschine.de</td>\n      <td>Cooperation</td>\n      <td>cooperation</td>\n      <td>1</td>\n      <td>1</td>\n      <td>0</td>\n      <td>157.0</td>\n      <td>0</td>\n      <td>0</td>\n      <td>0</td>\n      <td>36</td>\n      <td>0.0</td>\n      <td>0.00</td>\n      <td>0</td>\n    </tr>\n    <tr>\n      <th>4197</th>\n      <td>2020-04-30</td>\n      <td>deref-gmx.net</td>\n      <td>Referral</td>\n      <td>referral</td>\n      <td>1</td>\n      <td>1</td>\n      <td>0</td>\n      <td>705.0</td>\n      <td>0</td>\n      <td>0</td>\n      <td>0</td>\n      <td>42</td>\n      <td>0.0</td>\n      <td>0.00</td>\n      <td>0</td>\n    </tr>\n    <tr>\n      <th>4198</th>\n      <td>2020-04-30</td>\n      <td>standalone_az</td>\n      <td>Email</td>\n      <td>email</td>\n      <td>8</td>\n      <td>8</td>\n      <td>0</td>\n      <td>3527.0</td>\n      <td>0</td>\n      <td>0</td>\n      <td>0</td>\n      <td>292</td>\n      <td>0.0</td>\n      <td>0.00</td>\n      <td>0</td>\n    </tr>\n    <tr>\n      <th>4199</th>\n      <td>2020-04-30</td>\n      <td>suche.t-online.de</td>\n      <td>Organic Search</td>\n      <td>organic</td>\n      <td>1</td>\n      <td>1</td>\n      <td>0</td>\n      <td>1388.0</td>\n      <td>0</td>\n      <td>0</td>\n      <td>0</td>\n      <td>23</td>\n      <td>0.0</td>\n      <td>0.00</td>\n      <td>0</td>\n    </tr>\n  </tbody>\n</table>\n<p>4200 rows × 15 columns</p>\n</div>"
          },
          "metadata": {}
        }
      ],
      "execution_count": 55,
      "block_group": "c8b4d1ce223642508ba37cd1a8de6a81"
    },
    {
      "cell_type": "markdown",
      "source": "### Question 1\nHow do the marketing channels currently perform? Has there been any change month over month? ",
      "metadata": {
        "deepnote_app_coordinates": {
          "h": 5,
          "w": 12,
          "x": 0,
          "y": 0
        },
        "cell_id": "766f399201f4464785eece65cb757963",
        "deepnote_cell_type": "markdown"
      },
      "block_group": "4c63cd1cb80c4b38a3cf915672497a18"
    },
    {
      "cell_type": "code",
      "source": "revenue_by_channel = _deepnote_execute_sql('SELECT\\n    source\\n    , channel_grouping\\n    , SUM(spend)::INT AS total_cost\\n    , SUM(conversion) * 100 AS converted_revenue    \\n    , SUM(impressions) AS total_impressions\\n    , SUM(clicks) AS total_clicks\\n    , SUM(clicks) / SUM(impressions) AS click_through_rate\\n    , SUM(conversion) AS total_conversions\\nFROM funnel\\nGROUP BY 1,2\\nHAVING total_conversions > 0\\n', 'SQL_DEEPNOTE_DATAFRAME_SQL', audit_sql_comment='', sql_cache_mode='cache_disabled')\nrevenue_by_channel",
      "metadata": {
        "source_hash": "b8a4e7a",
        "execution_start": 1701627774109,
        "execution_millis": 112,
        "is_output_hidden": false,
        "sql_integration_id": "deepnote-dataframe-sql",
        "deepnote_variable_name": "revenue_by_channel",
        "deepnote_app_coordinates": {
          "h": 5,
          "w": 12,
          "x": 0,
          "y": 0
        },
        "deepnote_to_be_reexecuted": false,
        "deepnote_app_is_code_hidden": true,
        "deepnote_app_is_output_hidden": false,
        "cell_id": "622a638935fb49b4b0bd7798b300155e",
        "deepnote_cell_type": "sql",
        "deepnote_sql_source": "SELECT\n    source\n    , channel_grouping\n    , SUM(spend)::INT AS total_cost\n    , SUM(conversion) * 100 AS converted_revenue    \n    , SUM(impressions) AS total_impressions\n    , SUM(clicks) AS total_clicks\n    , SUM(clicks) / SUM(impressions) AS click_through_rate\n    , SUM(conversion) AS total_conversions\nFROM funnel\nGROUP BY 1,2\nHAVING total_conversions > 0\n"
      },
      "outputs": [
        {
          "data": {
            "application/vnd.deepnote.sql-output-metadata+json": {
              "status": "success_no_cache",
              "size_in_bytes": 33909
            }
          },
          "metadata": {},
          "output_type": "display_data"
        },
        {
          "output_type": "execute_result",
          "execution_count": 4,
          "data": {
            "application/vnd.deepnote.dataframe.v3+json": {
              "column_count": 8,
              "row_count": 183,
              "columns": [
                {
                  "name": "source",
                  "dtype": "object",
                  "stats": {
                    "unique_count": 173,
                    "nan_count": 0,
                    "categories": [
                      {
                        "name": "google",
                        "count": 2
                      },
                      {
                        "name": "bing",
                        "count": 2
                      },
                      {
                        "name": "171 others",
                        "count": 179
                      }
                    ]
                  }
                },
                {
                  "name": "channel_grouping",
                  "dtype": "object",
                  "stats": {
                    "unique_count": 15,
                    "nan_count": 0,
                    "categories": [
                      {
                        "name": "Referral",
                        "count": 120
                      },
                      {
                        "name": "Organic Search",
                        "count": 13
                      },
                      {
                        "name": "13 others",
                        "count": 50
                      }
                    ]
                  }
                },
                {
                  "name": "total_cost",
                  "dtype": "int64",
                  "stats": {
                    "unique_count": 4,
                    "nan_count": 0,
                    "min": "0",
                    "max": "323478",
                    "histogram": [
                      {
                        "bin_start": 0,
                        "bin_end": 32347.8,
                        "count": 181
                      },
                      {
                        "bin_start": 32347.8,
                        "bin_end": 64695.6,
                        "count": 1
                      },
                      {
                        "bin_start": 64695.6,
                        "bin_end": 97043.4,
                        "count": 0
                      },
                      {
                        "bin_start": 97043.4,
                        "bin_end": 129391.2,
                        "count": 0
                      },
                      {
                        "bin_start": 129391.2,
                        "bin_end": 161739,
                        "count": 0
                      },
                      {
                        "bin_start": 161739,
                        "bin_end": 194086.8,
                        "count": 0
                      },
                      {
                        "bin_start": 194086.8,
                        "bin_end": 226434.6,
                        "count": 0
                      },
                      {
                        "bin_start": 226434.6,
                        "bin_end": 258782.4,
                        "count": 0
                      },
                      {
                        "bin_start": 258782.4,
                        "bin_end": 291130.2,
                        "count": 0
                      },
                      {
                        "bin_start": 291130.2,
                        "bin_end": 323478,
                        "count": 1
                      }
                    ]
                  }
                },
                {
                  "name": "converted_revenue",
                  "dtype": "int64",
                  "stats": {
                    "unique_count": 43,
                    "nan_count": 0,
                    "min": "100",
                    "max": "631500",
                    "histogram": [
                      {
                        "bin_start": 100,
                        "bin_end": 63240,
                        "count": 177
                      },
                      {
                        "bin_start": 63240,
                        "bin_end": 126380,
                        "count": 1
                      },
                      {
                        "bin_start": 126380,
                        "bin_end": 189520,
                        "count": 2
                      },
                      {
                        "bin_start": 189520,
                        "bin_end": 252660,
                        "count": 0
                      },
                      {
                        "bin_start": 252660,
                        "bin_end": 315800,
                        "count": 0
                      },
                      {
                        "bin_start": 315800,
                        "bin_end": 378940,
                        "count": 0
                      },
                      {
                        "bin_start": 378940,
                        "bin_end": 442080,
                        "count": 0
                      },
                      {
                        "bin_start": 442080,
                        "bin_end": 505220,
                        "count": 2
                      },
                      {
                        "bin_start": 505220,
                        "bin_end": 568360,
                        "count": 0
                      },
                      {
                        "bin_start": 568360,
                        "bin_end": 631500,
                        "count": 1
                      }
                    ]
                  }
                },
                {
                  "name": "total_impressions",
                  "dtype": "int64",
                  "stats": {
                    "unique_count": 4,
                    "nan_count": 0,
                    "min": "0",
                    "max": "10875939",
                    "histogram": [
                      {
                        "bin_start": 0,
                        "bin_end": 1087593.9,
                        "count": 181
                      },
                      {
                        "bin_start": 1087593.9,
                        "bin_end": 2175187.8,
                        "count": 0
                      },
                      {
                        "bin_start": 2175187.8,
                        "bin_end": 3262781.6999999997,
                        "count": 0
                      },
                      {
                        "bin_start": 3262781.6999999997,
                        "bin_end": 4350375.6,
                        "count": 0
                      },
                      {
                        "bin_start": 4350375.6,
                        "bin_end": 5437969.5,
                        "count": 0
                      },
                      {
                        "bin_start": 5437969.5,
                        "bin_end": 6525563.399999999,
                        "count": 1
                      },
                      {
                        "bin_start": 6525563.399999999,
                        "bin_end": 7613157.299999999,
                        "count": 0
                      },
                      {
                        "bin_start": 7613157.299999999,
                        "bin_end": 8700751.2,
                        "count": 0
                      },
                      {
                        "bin_start": 8700751.2,
                        "bin_end": 9788345.1,
                        "count": 0
                      },
                      {
                        "bin_start": 9788345.1,
                        "bin_end": 10875939,
                        "count": 1
                      }
                    ]
                  }
                },
                {
                  "name": "total_clicks",
                  "dtype": "int64",
                  "stats": {
                    "unique_count": 4,
                    "nan_count": 0,
                    "min": "0",
                    "max": "6458585",
                    "histogram": [
                      {
                        "bin_start": 0,
                        "bin_end": 645858.5,
                        "count": 182
                      },
                      {
                        "bin_start": 645858.5,
                        "bin_end": 1291717,
                        "count": 0
                      },
                      {
                        "bin_start": 1291717,
                        "bin_end": 1937575.5,
                        "count": 0
                      },
                      {
                        "bin_start": 1937575.5,
                        "bin_end": 2583434,
                        "count": 0
                      },
                      {
                        "bin_start": 2583434,
                        "bin_end": 3229292.5,
                        "count": 0
                      },
                      {
                        "bin_start": 3229292.5,
                        "bin_end": 3875151,
                        "count": 0
                      },
                      {
                        "bin_start": 3875151,
                        "bin_end": 4521009.5,
                        "count": 0
                      },
                      {
                        "bin_start": 4521009.5,
                        "bin_end": 5166868,
                        "count": 0
                      },
                      {
                        "bin_start": 5166868,
                        "bin_end": 5812726.5,
                        "count": 0
                      },
                      {
                        "bin_start": 5812726.5,
                        "bin_end": 6458585,
                        "count": 1
                      }
                    ]
                  }
                },
                {
                  "name": "click_through_rate",
                  "dtype": "float64",
                  "stats": {
                    "unique_count": 3,
                    "nan_count": 180,
                    "min": "0.0073101697884266235",
                    "max": "0.5938415984127899",
                    "histogram": [
                      {
                        "bin_start": 0.0073101697884266235,
                        "bin_end": 0.06596331265086296,
                        "count": 1
                      },
                      {
                        "bin_start": 0.06596331265086296,
                        "bin_end": 0.12461645551329929,
                        "count": 0
                      },
                      {
                        "bin_start": 0.12461645551329929,
                        "bin_end": 0.18326959837573564,
                        "count": 0
                      },
                      {
                        "bin_start": 0.18326959837573564,
                        "bin_end": 0.24192274123817198,
                        "count": 0
                      },
                      {
                        "bin_start": 0.24192274123817198,
                        "bin_end": 0.3005758841006083,
                        "count": 0
                      },
                      {
                        "bin_start": 0.3005758841006083,
                        "bin_end": 0.35922902696304465,
                        "count": 1
                      },
                      {
                        "bin_start": 0.35922902696304465,
                        "bin_end": 0.417882169825481,
                        "count": 0
                      },
                      {
                        "bin_start": 0.417882169825481,
                        "bin_end": 0.4765353126879173,
                        "count": 0
                      },
                      {
                        "bin_start": 0.4765353126879173,
                        "bin_end": 0.5351884555503537,
                        "count": 0
                      },
                      {
                        "bin_start": 0.5351884555503537,
                        "bin_end": 0.5938415984127899,
                        "count": 1
                      }
                    ]
                  }
                },
                {
                  "name": "total_conversions",
                  "dtype": "int64",
                  "stats": {
                    "unique_count": 43,
                    "nan_count": 0,
                    "min": "1",
                    "max": "6315",
                    "histogram": [
                      {
                        "bin_start": 1,
                        "bin_end": 632.4,
                        "count": 177
                      },
                      {
                        "bin_start": 632.4,
                        "bin_end": 1263.8,
                        "count": 1
                      },
                      {
                        "bin_start": 1263.8,
                        "bin_end": 1895.1999999999998,
                        "count": 2
                      },
                      {
                        "bin_start": 1895.1999999999998,
                        "bin_end": 2526.6,
                        "count": 0
                      },
                      {
                        "bin_start": 2526.6,
                        "bin_end": 3158,
                        "count": 0
                      },
                      {
                        "bin_start": 3158,
                        "bin_end": 3789.3999999999996,
                        "count": 0
                      },
                      {
                        "bin_start": 3789.3999999999996,
                        "bin_end": 4420.8,
                        "count": 0
                      },
                      {
                        "bin_start": 4420.8,
                        "bin_end": 5052.2,
                        "count": 2
                      },
                      {
                        "bin_start": 5052.2,
                        "bin_end": 5683.599999999999,
                        "count": 0
                      },
                      {
                        "bin_start": 5683.599999999999,
                        "bin_end": 6315,
                        "count": 1
                      }
                    ]
                  }
                },
                {
                  "name": "_deepnote_index_column",
                  "dtype": "int64"
                }
              ],
              "rows": [
                {
                  "source": "google",
                  "channel_grouping": "Paid Search",
                  "total_cost": 323478,
                  "converted_revenue": 486400,
                  "total_impressions": 10875939,
                  "total_clicks": 6458585,
                  "click_through_rate": 0.5938415984127899,
                  "total_conversions": 4864,
                  "_deepnote_index_column": 0
                },
                {
                  "source": "bing",
                  "channel_grouping": "Paid Search",
                  "total_cost": 36251,
                  "converted_revenue": 16900,
                  "total_impressions": 826977,
                  "total_clicks": 268208,
                  "click_through_rate": 0.3243234092362907,
                  "total_conversions": 169,
                  "_deepnote_index_column": 1
                },
                {
                  "source": "outbrain",
                  "channel_grouping": "Display",
                  "total_cost": 0,
                  "converted_revenue": 1700,
                  "total_impressions": 0,
                  "total_clicks": 0,
                  "click_through_rate": "nan",
                  "total_conversions": 17,
                  "_deepnote_index_column": 2
                },
                {
                  "source": "facebook",
                  "channel_grouping": "Display",
                  "total_cost": 25207,
                  "converted_revenue": 72500,
                  "total_impressions": 5463211,
                  "total_clicks": 39937,
                  "click_through_rate": 0.0073101697884266235,
                  "total_conversions": 725,
                  "_deepnote_index_column": 3
                },
                {
                  "source": "google",
                  "channel_grouping": "Organic Search",
                  "total_cost": 0,
                  "converted_revenue": 631500,
                  "total_impressions": 0,
                  "total_clicks": 0,
                  "click_through_rate": "nan",
                  "total_conversions": 6315,
                  "_deepnote_index_column": 4
                },
                {
                  "source": "android",
                  "channel_grouping": "Mobile App",
                  "total_cost": 0,
                  "converted_revenue": 8900,
                  "total_impressions": 0,
                  "total_clicks": 0,
                  "click_through_rate": "nan",
                  "total_conversions": 89,
                  "_deepnote_index_column": 5
                },
                {
                  "source": "sfmc",
                  "channel_grouping": "Email",
                  "total_cost": 0,
                  "converted_revenue": 129000,
                  "total_impressions": 0,
                  "total_clicks": 0,
                  "click_through_rate": "nan",
                  "total_conversions": 1290,
                  "_deepnote_index_column": 6
                },
                {
                  "source": "system",
                  "channel_grouping": "Email",
                  "total_cost": 0,
                  "converted_revenue": 456400,
                  "total_impressions": 0,
                  "total_clicks": 0,
                  "click_through_rate": "nan",
                  "total_conversions": 4564,
                  "_deepnote_index_column": 7
                },
                {
                  "source": "(direct)",
                  "channel_grouping": "Direct",
                  "total_cost": 0,
                  "converted_revenue": 172600,
                  "total_impressions": 0,
                  "total_clicks": 0,
                  "click_through_rate": "nan",
                  "total_conversions": 1726,
                  "_deepnote_index_column": 8
                },
                {
                  "source": "regular",
                  "channel_grouping": "Email",
                  "total_cost": 0,
                  "converted_revenue": 9100,
                  "total_impressions": 0,
                  "total_clicks": 0,
                  "click_through_rate": "nan",
                  "total_conversions": 91,
                  "_deepnote_index_column": 9
                }
              ]
            },
            "text/plain": "                   source channel_grouping  total_cost  converted_revenue  \\\n0                  google      Paid Search      323478             486400   \n1                    bing      Paid Search       36251              16900   \n2                outbrain          Display           0               1700   \n3                facebook          Display       25207              72500   \n4                  google   Organic Search           0             631500   \n..                    ...              ...         ...                ...   \n178          zasobygwp.pl         Referral           0                100   \n179                abg.de         Referral           0                100   \n180          mobile.ok.ru         Referral           0                100   \n181  portus-immobilien.de         Referral           0                100   \n182        searchthis.com   Organic Search           0                100   \n\n     total_impressions  total_clicks  click_through_rate  total_conversions  \n0             10875939       6458585            0.593842               4864  \n1               826977        268208            0.324323                169  \n2                    0             0                 NaN                 17  \n3              5463211         39937            0.007310                725  \n4                    0             0                 NaN               6315  \n..                 ...           ...                 ...                ...  \n178                  0             0                 NaN                  1  \n179                  0             0                 NaN                  1  \n180                  0             0                 NaN                  1  \n181                  0             0                 NaN                  1  \n182                  0             0                 NaN                  1  \n\n[183 rows x 8 columns]",
            "text/html": "<div>\n<style scoped>\n    .dataframe tbody tr th:only-of-type {\n        vertical-align: middle;\n    }\n\n    .dataframe tbody tr th {\n        vertical-align: top;\n    }\n\n    .dataframe thead th {\n        text-align: right;\n    }\n</style>\n<table border=\"1\" class=\"dataframe\">\n  <thead>\n    <tr style=\"text-align: right;\">\n      <th></th>\n      <th>source</th>\n      <th>channel_grouping</th>\n      <th>total_cost</th>\n      <th>converted_revenue</th>\n      <th>total_impressions</th>\n      <th>total_clicks</th>\n      <th>click_through_rate</th>\n      <th>total_conversions</th>\n    </tr>\n  </thead>\n  <tbody>\n    <tr>\n      <th>0</th>\n      <td>google</td>\n      <td>Paid Search</td>\n      <td>323478</td>\n      <td>486400</td>\n      <td>10875939</td>\n      <td>6458585</td>\n      <td>0.593842</td>\n      <td>4864</td>\n    </tr>\n    <tr>\n      <th>1</th>\n      <td>bing</td>\n      <td>Paid Search</td>\n      <td>36251</td>\n      <td>16900</td>\n      <td>826977</td>\n      <td>268208</td>\n      <td>0.324323</td>\n      <td>169</td>\n    </tr>\n    <tr>\n      <th>2</th>\n      <td>outbrain</td>\n      <td>Display</td>\n      <td>0</td>\n      <td>1700</td>\n      <td>0</td>\n      <td>0</td>\n      <td>NaN</td>\n      <td>17</td>\n    </tr>\n    <tr>\n      <th>3</th>\n      <td>facebook</td>\n      <td>Display</td>\n      <td>25207</td>\n      <td>72500</td>\n      <td>5463211</td>\n      <td>39937</td>\n      <td>0.007310</td>\n      <td>725</td>\n    </tr>\n    <tr>\n      <th>4</th>\n      <td>google</td>\n      <td>Organic Search</td>\n      <td>0</td>\n      <td>631500</td>\n      <td>0</td>\n      <td>0</td>\n      <td>NaN</td>\n      <td>6315</td>\n    </tr>\n    <tr>\n      <th>...</th>\n      <td>...</td>\n      <td>...</td>\n      <td>...</td>\n      <td>...</td>\n      <td>...</td>\n      <td>...</td>\n      <td>...</td>\n      <td>...</td>\n    </tr>\n    <tr>\n      <th>178</th>\n      <td>zasobygwp.pl</td>\n      <td>Referral</td>\n      <td>0</td>\n      <td>100</td>\n      <td>0</td>\n      <td>0</td>\n      <td>NaN</td>\n      <td>1</td>\n    </tr>\n    <tr>\n      <th>179</th>\n      <td>abg.de</td>\n      <td>Referral</td>\n      <td>0</td>\n      <td>100</td>\n      <td>0</td>\n      <td>0</td>\n      <td>NaN</td>\n      <td>1</td>\n    </tr>\n    <tr>\n      <th>180</th>\n      <td>mobile.ok.ru</td>\n      <td>Referral</td>\n      <td>0</td>\n      <td>100</td>\n      <td>0</td>\n      <td>0</td>\n      <td>NaN</td>\n      <td>1</td>\n    </tr>\n    <tr>\n      <th>181</th>\n      <td>portus-immobilien.de</td>\n      <td>Referral</td>\n      <td>0</td>\n      <td>100</td>\n      <td>0</td>\n      <td>0</td>\n      <td>NaN</td>\n      <td>1</td>\n    </tr>\n    <tr>\n      <th>182</th>\n      <td>searchthis.com</td>\n      <td>Organic Search</td>\n      <td>0</td>\n      <td>100</td>\n      <td>0</td>\n      <td>0</td>\n      <td>NaN</td>\n      <td>1</td>\n    </tr>\n  </tbody>\n</table>\n<p>183 rows × 8 columns</p>\n</div>"
          },
          "metadata": {}
        }
      ],
      "execution_count": 4,
      "block_group": "d7d92f5ebe4e497cad8be045d8fa562a"
    },
    {
      "cell_type": "markdown",
      "source": "----\nRevenue source analysis",
      "metadata": {
        "deepnote_app_coordinates": {
          "h": 5,
          "w": 12,
          "x": 0,
          "y": 0
        },
        "cell_id": "1496d7a8db3e41a096db0926edddde1a",
        "deepnote_cell_type": "markdown"
      },
      "block_group": "486908e0d49b4ab29b1f9caa700734ee"
    },
    {
      "cell_type": "code",
      "source": "DeepnoteChart(revenue_by_channel, \"\"\"{\"layer\":[{\"layer\":[{\"mark\":{\"clip\":true,\"type\":\"bar\",\"color\":\"#4c78a8\",\"tooltip\":true},\"encoding\":{\"x\":{\"axis\":{\"grid\":false,\"title\":\"Value \"},\"sort\":null,\"type\":\"quantitative\",\"field\":\"converted_revenue\",\"scale\":{\"type\":\"linear\"},\"format\":{\"type\":\"default\",\"decimals\":null},\"aggregate\":\"sum\",\"formatType\":\"numberFormatFromNumberType\"},\"y\":{\"axis\":{\"grid\":false},\"sort\":null,\"type\":\"nominal\",\"field\":\"channel_grouping\",\"scale\":{\"type\":\"linear\"}},\"color\":{\"datum\":\"Converted revenue\"},\"yOffset\":{\"datum\":\"Converted revenue\"}}}]},{\"layer\":[{\"mark\":{\"clip\":true,\"type\":\"bar\",\"color\":\"#f58518\",\"tooltip\":true},\"encoding\":{\"x\":{\"axis\":{\"grid\":false},\"sort\":null,\"type\":\"quantitative\",\"field\":\"total_cost\",\"scale\":{\"type\":\"linear\"},\"format\":{\"type\":\"default\",\"decimals\":null},\"aggregate\":\"sum\",\"formatType\":\"numberFormatFromNumberType\"},\"y\":{\"axis\":{\"grid\":false},\"sort\":null,\"type\":\"nominal\",\"field\":\"channel_grouping\",\"scale\":{\"type\":\"linear\"}},\"color\":{\"datum\":\"Cost\"},\"yOffset\":{\"datum\":\"Cost\"}}}]}],\"title\":\"\",\"config\":{\"legend\":{\"orient\":\"top\"}},\"$schema\":\"https://vega.github.io/schema/vega-lite/v5.json\",\"encoding\":{}}\"\"\")",
      "metadata": {
        "source_hash": "42ce9649",
        "output_cleared": false,
        "execution_start": 1701627774205,
        "execution_millis": 193,
        "deepnote_variable_name": "revenue_by_channel",
        "deepnote_app_coordinates": {
          "h": 5,
          "w": 12,
          "x": 0,
          "y": 0
        },
        "deepnote_config_collapsed": true,
        "deepnote_to_be_reexecuted": false,
        "deepnote_visualization_spec": {
          "layer": [
            {
              "layer": [
                {
                  "mark": {
                    "clip": true,
                    "type": "bar",
                    "color": "#4c78a8",
                    "tooltip": true
                  },
                  "encoding": {
                    "x": {
                      "axis": {
                        "grid": false,
                        "title": "Value "
                      },
                      "sort": null,
                      "type": "quantitative",
                      "field": "converted_revenue",
                      "scale": {
                        "type": "linear"
                      },
                      "format": {
                        "type": "default",
                        "decimals": null
                      },
                      "aggregate": "sum",
                      "formatType": "numberFormatFromNumberType"
                    },
                    "y": {
                      "axis": {
                        "grid": false
                      },
                      "sort": null,
                      "type": "nominal",
                      "field": "channel_grouping",
                      "scale": {
                        "type": "linear"
                      }
                    },
                    "color": {
                      "datum": "Converted revenue"
                    },
                    "yOffset": {
                      "datum": "Converted revenue"
                    }
                  }
                }
              ]
            },
            {
              "layer": [
                {
                  "mark": {
                    "clip": true,
                    "type": "bar",
                    "color": "#f58518",
                    "tooltip": true
                  },
                  "encoding": {
                    "x": {
                      "axis": {
                        "grid": false
                      },
                      "sort": null,
                      "type": "quantitative",
                      "field": "total_cost",
                      "scale": {
                        "type": "linear"
                      },
                      "format": {
                        "type": "default",
                        "decimals": null
                      },
                      "aggregate": "sum",
                      "formatType": "numberFormatFromNumberType"
                    },
                    "y": {
                      "axis": {
                        "grid": false
                      },
                      "sort": null,
                      "type": "nominal",
                      "field": "channel_grouping",
                      "scale": {
                        "type": "linear"
                      }
                    },
                    "color": {
                      "datum": "Cost"
                    },
                    "yOffset": {
                      "datum": "Cost"
                    }
                  }
                }
              ]
            }
          ],
          "title": "",
          "config": {
            "legend": {
              "orient": "top"
            }
          },
          "$schema": "https://vega.github.io/schema/vega-lite/v5.json",
          "encoding": {}
        },
        "cell_id": "548c38595d6f4bd2a6f842b13ae56566",
        "deepnote_cell_type": "visualization"
      },
      "outputs": [
        {
          "output_type": "execute_result",
          "execution_count": 5,
          "data": {
            "application/vnd.vegalite.v5+json": {
              "layer": [
                {
                  "layer": [
                    {
                      "mark": {
                        "clip": true,
                        "type": "bar",
                        "color": "#4c78a8",
                        "tooltip": true
                      },
                      "encoding": {
                        "x": {
                          "axis": {
                            "grid": false,
                            "title": "Value "
                          },
                          "sort": null,
                          "type": "quantitative",
                          "field": "converted_revenue",
                          "scale": {
                            "type": "linear"
                          },
                          "format": {
                            "type": "default",
                            "decimals": null
                          },
                          "aggregate": "sum",
                          "formatType": "numberFormatFromNumberType"
                        },
                        "y": {
                          "axis": {
                            "grid": false
                          },
                          "sort": null,
                          "type": "nominal",
                          "field": "channel_grouping",
                          "scale": {
                            "type": "linear"
                          }
                        },
                        "color": {
                          "datum": "Converted revenue"
                        },
                        "yOffset": {
                          "datum": "Converted revenue"
                        }
                      }
                    }
                  ]
                },
                {
                  "layer": [
                    {
                      "mark": {
                        "clip": true,
                        "type": "bar",
                        "color": "#f58518",
                        "tooltip": true
                      },
                      "encoding": {
                        "x": {
                          "axis": {
                            "grid": false
                          },
                          "sort": null,
                          "type": "quantitative",
                          "field": "total_cost",
                          "scale": {
                            "type": "linear"
                          },
                          "format": {
                            "type": "default",
                            "decimals": null
                          },
                          "aggregate": "sum",
                          "formatType": "numberFormatFromNumberType"
                        },
                        "y": {
                          "axis": {
                            "grid": false
                          },
                          "sort": null,
                          "type": "nominal",
                          "field": "channel_grouping",
                          "scale": {
                            "type": "linear"
                          }
                        },
                        "color": {
                          "datum": "Cost"
                        },
                        "yOffset": {
                          "datum": "Cost"
                        }
                      }
                    }
                  ]
                }
              ],
              "title": "",
              "config": {
                "legend": {
                  "orient": "top"
                }
              },
              "$schema": "https://vega.github.io/schema/vega-lite/v5.json",
              "encoding": {},
              "data": {
                "values": [
                  {
                    "source": "google",
                    "channel_grouping": "Paid Search",
                    "total_cost": 323478,
                    "converted_revenue": 486400,
                    "total_impressions": 10875939,
                    "total_clicks": 6458585,
                    "click_through_rate": 0.5938415984127899,
                    "total_conversions": 4864
                  },
                  {
                    "source": "bing",
                    "channel_grouping": "Paid Search",
                    "total_cost": 36251,
                    "converted_revenue": 16900,
                    "total_impressions": 826977,
                    "total_clicks": 268208,
                    "click_through_rate": 0.3243234092362907,
                    "total_conversions": 169
                  },
                  {
                    "source": "outbrain",
                    "channel_grouping": "Display",
                    "total_cost": 0,
                    "converted_revenue": 1700,
                    "total_impressions": 0,
                    "total_clicks": 0,
                    "click_through_rate": null,
                    "total_conversions": 17
                  },
                  {
                    "source": "facebook",
                    "channel_grouping": "Display",
                    "total_cost": 25207,
                    "converted_revenue": 72500,
                    "total_impressions": 5463211,
                    "total_clicks": 39937,
                    "click_through_rate": 0.0073101697884266235,
                    "total_conversions": 725
                  },
                  {
                    "source": "google",
                    "channel_grouping": "Organic Search",
                    "total_cost": 0,
                    "converted_revenue": 631500,
                    "total_impressions": 0,
                    "total_clicks": 0,
                    "click_through_rate": null,
                    "total_conversions": 6315
                  },
                  {
                    "source": "android",
                    "channel_grouping": "Mobile App",
                    "total_cost": 0,
                    "converted_revenue": 8900,
                    "total_impressions": 0,
                    "total_clicks": 0,
                    "click_through_rate": null,
                    "total_conversions": 89
                  },
                  {
                    "source": "sfmc",
                    "channel_grouping": "Email",
                    "total_cost": 0,
                    "converted_revenue": 129000,
                    "total_impressions": 0,
                    "total_clicks": 0,
                    "click_through_rate": null,
                    "total_conversions": 1290
                  },
                  {
                    "source": "system",
                    "channel_grouping": "Email",
                    "total_cost": 0,
                    "converted_revenue": 456400,
                    "total_impressions": 0,
                    "total_clicks": 0,
                    "click_through_rate": null,
                    "total_conversions": 4564
                  },
                  {
                    "source": "(direct)",
                    "channel_grouping": "Direct",
                    "total_cost": 0,
                    "converted_revenue": 172600,
                    "total_impressions": 0,
                    "total_clicks": 0,
                    "click_through_rate": null,
                    "total_conversions": 1726
                  },
                  {
                    "source": "regular",
                    "channel_grouping": "Email",
                    "total_cost": 0,
                    "converted_revenue": 9100,
                    "total_impressions": 0,
                    "total_clicks": 0,
                    "click_through_rate": null,
                    "total_conversions": 91
                  },
                  {
                    "source": "whatsapp",
                    "channel_grouping": "Social Network",
                    "total_cost": 0,
                    "converted_revenue": 39400,
                    "total_impressions": 0,
                    "total_clicks": 0,
                    "click_through_rate": null,
                    "total_conversions": 394
                  },
                  {
                    "source": "other",
                    "channel_grouping": "Social Network",
                    "total_cost": 0,
                    "converted_revenue": 26600,
                    "total_impressions": 0,
                    "total_clicks": 0,
                    "click_through_rate": null,
                    "total_conversions": 266
                  },
                  {
                    "source": "immobilo.de",
                    "channel_grouping": "Cooperation",
                    "total_cost": 0,
                    "converted_revenue": 14100,
                    "total_impressions": 0,
                    "total_clicks": 0,
                    "click_through_rate": null,
                    "total_conversions": 141
                  },
                  {
                    "source": "sfmc",
                    "channel_grouping": "(not set)",
                    "total_cost": 0,
                    "converted_revenue": 4700,
                    "total_impressions": 0,
                    "total_clicks": 0,
                    "click_through_rate": null,
                    "total_conversions": 47
                  },
                  {
                    "source": "focus.de",
                    "channel_grouping": "Cooperation",
                    "total_cost": 0,
                    "converted_revenue": 1600,
                    "total_impressions": 0,
                    "total_clicks": 0,
                    "click_through_rate": null,
                    "total_conversions": 16
                  },
                  {
                    "source": "Lifull-connect",
                    "channel_grouping": "referrer",
                    "total_cost": 0,
                    "converted_revenue": 6700,
                    "total_impressions": 0,
                    "total_clicks": 0,
                    "click_through_rate": null,
                    "total_conversions": 67
                  },
                  {
                    "source": "deref-gmx.net",
                    "channel_grouping": "Referral",
                    "total_cost": 0,
                    "converted_revenue": 3900,
                    "total_impressions": 0,
                    "total_clicks": 0,
                    "click_through_rate": null,
                    "total_conversions": 39
                  },
                  {
                    "source": "nullprovision.de",
                    "channel_grouping": "Cooperation",
                    "total_cost": 0,
                    "converted_revenue": 300,
                    "total_impressions": 0,
                    "total_clicks": 0,
                    "click_through_rate": null,
                    "total_conversions": 3
                  },
                  {
                    "source": "email",
                    "channel_grouping": "Social Network",
                    "total_cost": 0,
                    "converted_revenue": 4500,
                    "total_impressions": 0,
                    "total_clicks": 0,
                    "click_through_rate": null,
                    "total_conversions": 45
                  },
                  {
                    "source": "bing",
                    "channel_grouping": "Organic Search",
                    "total_cost": 0,
                    "converted_revenue": 36600,
                    "total_impressions": 0,
                    "total_clicks": 0,
                    "click_through_rate": null,
                    "total_conversions": 366
                  },
                  {
                    "source": "adcell",
                    "channel_grouping": "cpa",
                    "total_cost": 0,
                    "converted_revenue": 800,
                    "total_impressions": 0,
                    "total_clicks": 0,
                    "click_through_rate": null,
                    "total_conversions": 8
                  },
                  {
                    "source": "de.search.biz",
                    "channel_grouping": "Referral",
                    "total_cost": 0,
                    "converted_revenue": 100,
                    "total_impressions": 0,
                    "total_clicks": 0,
                    "click_through_rate": null,
                    "total_conversions": 1
                  },
                  {
                    "source": "taboola",
                    "channel_grouping": "Display",
                    "total_cost": 0,
                    "converted_revenue": 500,
                    "total_impressions": 0,
                    "total_clicks": 0,
                    "click_through_rate": null,
                    "total_conversions": 5
                  },
                  {
                    "source": "immosuchmaschine.de",
                    "channel_grouping": "Referral",
                    "total_cost": 0,
                    "converted_revenue": 23000,
                    "total_impressions": 0,
                    "total_clicks": 0,
                    "click_through_rate": null,
                    "total_conversions": 230
                  },
                  {
                    "source": "facebook",
                    "channel_grouping": "Social Network",
                    "total_cost": 0,
                    "converted_revenue": 1600,
                    "total_impressions": 0,
                    "total_clicks": 0,
                    "click_through_rate": null,
                    "total_conversions": 16
                  },
                  {
                    "source": "ecosia.org",
                    "channel_grouping": "Organic Search",
                    "total_cost": 0,
                    "converted_revenue": 7000,
                    "total_impressions": 0,
                    "total_clicks": 0,
                    "click_through_rate": null,
                    "total_conversions": 70
                  },
                  {
                    "source": "quoka.de",
                    "channel_grouping": "Cooperation",
                    "total_cost": 0,
                    "converted_revenue": 4000,
                    "total_impressions": 0,
                    "total_clicks": 0,
                    "click_through_rate": null,
                    "total_conversions": 40
                  },
                  {
                    "source": "zirkel-bau.de",
                    "channel_grouping": "Referral",
                    "total_cost": 0,
                    "converted_revenue": 100,
                    "total_impressions": 0,
                    "total_clicks": 0,
                    "click_through_rate": null,
                    "total_conversions": 1
                  },
                  {
                    "source": "deref-web-02.de",
                    "channel_grouping": "Referral",
                    "total_cost": 0,
                    "converted_revenue": 3300,
                    "total_impressions": 0,
                    "total_clicks": 0,
                    "click_through_rate": null,
                    "total_conversions": 33
                  },
                  {
                    "source": "null-provision.de",
                    "channel_grouping": "Cooperation",
                    "total_cost": 0,
                    "converted_revenue": 11300,
                    "total_impressions": 0,
                    "total_clicks": 0,
                    "click_through_rate": null,
                    "total_conversions": 113
                  },
                  {
                    "source": "mail.google.com",
                    "channel_grouping": "Referral",
                    "total_cost": 0,
                    "converted_revenue": 2000,
                    "total_impressions": 0,
                    "total_clicks": 0,
                    "click_through_rate": null,
                    "total_conversions": 20
                  },
                  {
                    "source": "standalone",
                    "channel_grouping": "Email",
                    "total_cost": 0,
                    "converted_revenue": 2000,
                    "total_impressions": 0,
                    "total_clicks": 0,
                    "click_through_rate": null,
                    "total_conversions": 20
                  },
                  {
                    "source": "immokralle.com",
                    "channel_grouping": "Cooperation",
                    "total_cost": 0,
                    "converted_revenue": 300,
                    "total_impressions": 0,
                    "total_clicks": 0,
                    "click_through_rate": null,
                    "total_conversions": 3
                  },
                  {
                    "source": "immovisits.de",
                    "channel_grouping": "Referral",
                    "total_cost": 0,
                    "converted_revenue": 400,
                    "total_impressions": 0,
                    "total_clicks": 0,
                    "click_through_rate": null,
                    "total_conversions": 4
                  },
                  {
                    "source": "regular",
                    "channel_grouping": "(not set)",
                    "total_cost": 0,
                    "converted_revenue": 2100,
                    "total_impressions": 0,
                    "total_clicks": 0,
                    "click_through_rate": null,
                    "total_conversions": 21
                  },
                  {
                    "source": "standalone_az",
                    "channel_grouping": "Email",
                    "total_cost": 0,
                    "converted_revenue": 500,
                    "total_impressions": 0,
                    "total_clicks": 0,
                    "click_through_rate": null,
                    "total_conversions": 5
                  },
                  {
                    "source": "gewerbeimmobilien24.de",
                    "channel_grouping": "Cooperation",
                    "total_cost": 0,
                    "converted_revenue": 100,
                    "total_impressions": 0,
                    "total_clicks": 0,
                    "click_through_rate": null,
                    "total_conversions": 1
                  },
                  {
                    "source": "streif-portal.de",
                    "channel_grouping": "Referral",
                    "total_cost": 0,
                    "converted_revenue": 100,
                    "total_impressions": 0,
                    "total_clicks": 0,
                    "click_through_rate": null,
                    "total_conversions": 1
                  },
                  {
                    "source": "trovit.de",
                    "channel_grouping": "Cooperation",
                    "total_cost": 0,
                    "converted_revenue": 3700,
                    "total_impressions": 0,
                    "total_clicks": 0,
                    "click_through_rate": null,
                    "total_conversions": 37
                  },
                  {
                    "source": "gutscheinrausch.de",
                    "channel_grouping": "Referral",
                    "total_cost": 0,
                    "converted_revenue": 100,
                    "total_impressions": 0,
                    "total_clicks": 0,
                    "click_through_rate": null,
                    "total_conversions": 1
                  },
                  {
                    "source": "email.t-online.de",
                    "channel_grouping": "Referral",
                    "total_cost": 0,
                    "converted_revenue": 1200,
                    "total_impressions": 0,
                    "total_clicks": 0,
                    "click_through_rate": null,
                    "total_conversions": 12
                  },
                  {
                    "source": "ask",
                    "channel_grouping": "Organic Search",
                    "total_cost": 0,
                    "converted_revenue": 300,
                    "total_impressions": 0,
                    "total_clicks": 0,
                    "click_through_rate": null,
                    "total_conversions": 3
                  },
                  {
                    "source": "suche.web.de",
                    "channel_grouping": "Referral",
                    "total_cost": 0,
                    "converted_revenue": 800,
                    "total_impressions": 0,
                    "total_clicks": 0,
                    "click_through_rate": null,
                    "total_conversions": 8
                  },
                  {
                    "source": "suche.t-online.de",
                    "channel_grouping": "Organic Search",
                    "total_cost": 0,
                    "converted_revenue": 900,
                    "total_impressions": 0,
                    "total_clicks": 0,
                    "click_through_rate": null,
                    "total_conversions": 9
                  },
                  {
                    "source": "criteo",
                    "channel_grouping": "Display",
                    "total_cost": 0,
                    "converted_revenue": 4000,
                    "total_impressions": 0,
                    "total_clicks": 0,
                    "click_through_rate": null,
                    "total_conversions": 40
                  },
                  {
                    "source": "m.facebook.com",
                    "channel_grouping": "Social Network",
                    "total_cost": 0,
                    "converted_revenue": 4600,
                    "total_impressions": 0,
                    "total_clicks": 0,
                    "click_through_rate": null,
                    "total_conversions": 46
                  },
                  {
                    "source": "widgets.finanzcheck.de",
                    "channel_grouping": "Referral",
                    "total_cost": 0,
                    "converted_revenue": 800,
                    "total_impressions": 0,
                    "total_clicks": 0,
                    "click_through_rate": null,
                    "total_conversions": 8
                  },
                  {
                    "source": "yahoo",
                    "channel_grouping": "Organic Search",
                    "total_cost": 0,
                    "converted_revenue": 1000,
                    "total_impressions": 0,
                    "total_clicks": 0,
                    "click_through_rate": null,
                    "total_conversions": 10
                  },
                  {
                    "source": "push",
                    "channel_grouping": "Push Notification",
                    "total_cost": 0,
                    "converted_revenue": 600,
                    "total_impressions": 0,
                    "total_clicks": 0,
                    "click_through_rate": null,
                    "total_conversions": 6
                  },
                  {
                    "source": "1a-immobilienmarkt.de",
                    "channel_grouping": "Referral",
                    "total_cost": 0,
                    "converted_revenue": 400,
                    "total_impressions": 0,
                    "total_clicks": 0,
                    "click_through_rate": null,
                    "total_conversions": 4
                  },
                  {
                    "source": "outlook.live.com",
                    "channel_grouping": "Referral",
                    "total_cost": 0,
                    "converted_revenue": 1000,
                    "total_impressions": 0,
                    "total_clicks": 0,
                    "click_through_rate": null,
                    "total_conversions": 10
                  },
                  {
                    "source": "accounts.google.com",
                    "channel_grouping": "Referral",
                    "total_cost": 0,
                    "converted_revenue": 100,
                    "total_impressions": 0,
                    "total_clicks": 0,
                    "click_through_rate": null,
                    "total_conversions": 1
                  },
                  {
                    "source": "nestoria.de",
                    "channel_grouping": "Cooperation",
                    "total_cost": 0,
                    "converted_revenue": 1300,
                    "total_impressions": 0,
                    "total_clicks": 0,
                    "click_through_rate": null,
                    "total_conversions": 13
                  },
                  {
                    "source": "verivox.de",
                    "channel_grouping": "Cooperation",
                    "total_cost": 0,
                    "converted_revenue": 100,
                    "total_impressions": 0,
                    "total_clicks": 0,
                    "click_through_rate": null,
                    "total_conversions": 1
                  },
                  {
                    "source": "webmail.freenet.de",
                    "channel_grouping": "Referral",
                    "total_cost": 0,
                    "converted_revenue": 200,
                    "total_impressions": 0,
                    "total_clicks": 0,
                    "click_through_rate": null,
                    "total_conversions": 2
                  },
                  {
                    "source": "ios",
                    "channel_grouping": "Mobile App",
                    "total_cost": 0,
                    "converted_revenue": 100,
                    "total_impressions": 0,
                    "total_clicks": 0,
                    "click_through_rate": null,
                    "total_conversions": 1
                  },
                  {
                    "source": "iphone",
                    "channel_grouping": "Mobile App",
                    "total_cost": 0,
                    "converted_revenue": 7500,
                    "total_impressions": 0,
                    "total_clicks": 0,
                    "click_through_rate": null,
                    "total_conversions": 75
                  },
                  {
                    "source": "duckduckgo.com",
                    "channel_grouping": "Organic Search",
                    "total_cost": 0,
                    "converted_revenue": 2200,
                    "total_impressions": 0,
                    "total_clicks": 0,
                    "click_through_rate": null,
                    "total_conversions": 22
                  },
                  {
                    "source": "grundstuecksmarkt24.de",
                    "channel_grouping": "Referral",
                    "total_cost": 0,
                    "converted_revenue": 300,
                    "total_impressions": 0,
                    "total_clicks": 0,
                    "click_through_rate": null,
                    "total_conversions": 3
                  },
                  {
                    "source": "yandex.ru",
                    "channel_grouping": "Referral",
                    "total_cost": 0,
                    "converted_revenue": 200,
                    "total_impressions": 0,
                    "total_clicks": 0,
                    "click_through_rate": null,
                    "total_conversions": 2
                  },
                  {
                    "source": "mapio.net",
                    "channel_grouping": "Referral",
                    "total_cost": 0,
                    "converted_revenue": 700,
                    "total_impressions": 0,
                    "total_clicks": 0,
                    "click_through_rate": null,
                    "total_conversions": 7
                  },
                  {
                    "source": "message",
                    "channel_grouping": "Social Network",
                    "total_cost": 0,
                    "converted_revenue": 1300,
                    "total_impressions": 0,
                    "total_clicks": 0,
                    "click_through_rate": null,
                    "total_conversions": 13
                  },
                  {
                    "source": "de.search.yahoo.com",
                    "channel_grouping": "Referral",
                    "total_cost": 0,
                    "converted_revenue": 1600,
                    "total_impressions": 0,
                    "total_clicks": 0,
                    "click_through_rate": null,
                    "total_conversions": 16
                  },
                  {
                    "source": "s0.2mdn.net",
                    "channel_grouping": "Referral",
                    "total_cost": 0,
                    "converted_revenue": 300,
                    "total_impressions": 0,
                    "total_clicks": 0,
                    "click_through_rate": null,
                    "total_conversions": 3
                  },
                  {
                    "source": "poczta.interia.pl",
                    "channel_grouping": "Referral",
                    "total_cost": 0,
                    "converted_revenue": 100,
                    "total_impressions": 0,
                    "total_clicks": 0,
                    "click_through_rate": null,
                    "total_conversions": 1
                  },
                  {
                    "source": "schacht-immo.de",
                    "channel_grouping": "Referral",
                    "total_cost": 0,
                    "converted_revenue": 100,
                    "total_impressions": 0,
                    "total_clicks": 0,
                    "click_through_rate": null,
                    "total_conversions": 1
                  },
                  {
                    "source": "suche.gmx.net",
                    "channel_grouping": "Referral",
                    "total_cost": 0,
                    "converted_revenue": 700,
                    "total_impressions": 0,
                    "total_clicks": 0,
                    "click_through_rate": null,
                    "total_conversions": 7
                  },
                  {
                    "source": "financescout24.de",
                    "channel_grouping": "Referral",
                    "total_cost": 0,
                    "converted_revenue": 200,
                    "total_impressions": 0,
                    "total_clicks": 0,
                    "click_through_rate": null,
                    "total_conversions": 2
                  },
                  {
                    "source": "immoverkauf24.de",
                    "channel_grouping": "Referral",
                    "total_cost": 0,
                    "converted_revenue": 3400,
                    "total_impressions": 0,
                    "total_clicks": 0,
                    "click_through_rate": null,
                    "total_conversions": 34
                  },
                  {
                    "source": "baumann-baumann.immo",
                    "channel_grouping": "Referral",
                    "total_cost": 0,
                    "converted_revenue": 100,
                    "total_impressions": 0,
                    "total_clicks": 0,
                    "click_through_rate": null,
                    "total_conversions": 1
                  },
                  {
                    "source": "thinkimmo.com",
                    "channel_grouping": "Referral",
                    "total_cost": 0,
                    "converted_revenue": 400,
                    "total_impressions": 0,
                    "total_clicks": 0,
                    "click_through_rate": null,
                    "total_conversions": 4
                  },
                  {
                    "source": "l.facebook.com",
                    "channel_grouping": "Social Network",
                    "total_cost": 0,
                    "converted_revenue": 1300,
                    "total_impressions": 0,
                    "total_clicks": 0,
                    "click_through_rate": null,
                    "total_conversions": 13
                  },
                  {
                    "source": "umzug.de",
                    "channel_grouping": "Referral",
                    "total_cost": 0,
                    "converted_revenue": 200,
                    "total_impressions": 0,
                    "total_clicks": 0,
                    "click_through_rate": null,
                    "total_conversions": 2
                  },
                  {
                    "source": "m-email.t-online.de",
                    "channel_grouping": "Referral",
                    "total_cost": 0,
                    "converted_revenue": 400,
                    "total_impressions": 0,
                    "total_clicks": 0,
                    "click_through_rate": null,
                    "total_conversions": 4
                  },
                  {
                    "source": "kadaza.de",
                    "channel_grouping": "Referral",
                    "total_cost": 0,
                    "converted_revenue": 200,
                    "total_impressions": 0,
                    "total_clicks": 0,
                    "click_through_rate": null,
                    "total_conversions": 2
                  },
                  {
                    "source": "facebook.com",
                    "channel_grouping": "Social Network",
                    "total_cost": 0,
                    "converted_revenue": 400,
                    "total_impressions": 0,
                    "total_clicks": 0,
                    "click_through_rate": null,
                    "total_conversions": 4
                  },
                  {
                    "source": "immoworld.de",
                    "channel_grouping": "Cooperation",
                    "total_cost": 0,
                    "converted_revenue": 1200,
                    "total_impressions": 0,
                    "total_clicks": 0,
                    "click_through_rate": null,
                    "total_conversions": 12
                  },
                  {
                    "source": "mooseder.de",
                    "channel_grouping": "Referral",
                    "total_cost": 0,
                    "converted_revenue": 100,
                    "total_impressions": 0,
                    "total_clicks": 0,
                    "click_through_rate": null,
                    "total_conversions": 1
                  },
                  {
                    "source": "adcell",
                    "channel_grouping": "deeplink",
                    "total_cost": 0,
                    "converted_revenue": 1300,
                    "total_impressions": 0,
                    "total_clicks": 0,
                    "click_through_rate": null,
                    "total_conversions": 13
                  },
                  {
                    "source": "baidu",
                    "channel_grouping": "Organic Search",
                    "total_cost": 0,
                    "converted_revenue": 100,
                    "total_impressions": 0,
                    "total_clicks": 0,
                    "click_through_rate": null,
                    "total_conversions": 1
                  },
                  {
                    "source": "ib-bau.de",
                    "channel_grouping": "Referral",
                    "total_cost": 0,
                    "converted_revenue": 200,
                    "total_impressions": 0,
                    "total_clicks": 0,
                    "click_through_rate": null,
                    "total_conversions": 2
                  },
                  {
                    "source": "hinze-immobilien.de",
                    "channel_grouping": "Referral",
                    "total_cost": 0,
                    "converted_revenue": 100,
                    "total_impressions": 0,
                    "total_clicks": 0,
                    "click_through_rate": null,
                    "total_conversions": 1
                  },
                  {
                    "source": "track.celtra.com",
                    "channel_grouping": "Referral",
                    "total_cost": 0,
                    "converted_revenue": 300,
                    "total_impressions": 0,
                    "total_clicks": 0,
                    "click_through_rate": null,
                    "total_conversions": 3
                  },
                  {
                    "source": "ehyp.de",
                    "channel_grouping": "Referral",
                    "total_cost": 0,
                    "converted_revenue": 100,
                    "total_impressions": 0,
                    "total_clicks": 0,
                    "click_through_rate": null,
                    "total_conversions": 1
                  },
                  {
                    "source": "toppiekontor.de",
                    "channel_grouping": "Referral",
                    "total_cost": 0,
                    "converted_revenue": 100,
                    "total_impressions": 0,
                    "total_clicks": 0,
                    "click_through_rate": null,
                    "total_conversions": 1
                  },
                  {
                    "source": "gewofag.de",
                    "channel_grouping": "Referral",
                    "total_cost": 0,
                    "converted_revenue": 200,
                    "total_impressions": 0,
                    "total_clicks": 0,
                    "click_through_rate": null,
                    "total_conversions": 2
                  },
                  {
                    "source": "cdn.flashtalking.com",
                    "channel_grouping": "Referral",
                    "total_cost": 0,
                    "converted_revenue": 500,
                    "total_impressions": 0,
                    "total_clicks": 0,
                    "click_through_rate": null,
                    "total_conversions": 5
                  },
                  {
                    "source": "autoscout24.de",
                    "channel_grouping": "Referral",
                    "total_cost": 0,
                    "converted_revenue": 200,
                    "total_impressions": 0,
                    "total_clicks": 0,
                    "click_through_rate": null,
                    "total_conversions": 2
                  },
                  {
                    "source": "news",
                    "channel_grouping": "Email",
                    "total_cost": 0,
                    "converted_revenue": 100,
                    "total_impressions": 0,
                    "total_clicks": 0,
                    "click_through_rate": null,
                    "total_conversions": 1
                  },
                  {
                    "source": "makler-vergleich.de",
                    "channel_grouping": "Referral",
                    "total_cost": 0,
                    "converted_revenue": 100,
                    "total_impressions": 0,
                    "total_clicks": 0,
                    "click_through_rate": null,
                    "total_conversions": 1
                  },
                  {
                    "source": "found.de",
                    "channel_grouping": "Referral",
                    "total_cost": 0,
                    "converted_revenue": 200,
                    "total_impressions": 0,
                    "total_clicks": 0,
                    "click_through_rate": null,
                    "total_conversions": 2
                  },
                  {
                    "source": "bmwnews.muc",
                    "channel_grouping": "Referral",
                    "total_cost": 0,
                    "converted_revenue": 200,
                    "total_impressions": 0,
                    "total_clicks": 0,
                    "click_through_rate": null,
                    "total_conversions": 2
                  },
                  {
                    "source": "immopionier.de",
                    "channel_grouping": "Referral",
                    "total_cost": 0,
                    "converted_revenue": 200,
                    "total_impressions": 0,
                    "total_clicks": 0,
                    "click_through_rate": null,
                    "total_conversions": 2
                  },
                  {
                    "source": "schnabel-immobilien.de",
                    "channel_grouping": "Referral",
                    "total_cost": 0,
                    "converted_revenue": 100,
                    "total_impressions": 0,
                    "total_clicks": 0,
                    "click_through_rate": null,
                    "total_conversions": 1
                  },
                  {
                    "source": "regionalimmobilien24.de",
                    "channel_grouping": "Referral",
                    "total_cost": 0,
                    "converted_revenue": 400,
                    "total_impressions": 0,
                    "total_clicks": 0,
                    "click_through_rate": null,
                    "total_conversions": 4
                  },
                  {
                    "source": "fels-immobilien.de",
                    "channel_grouping": "Referral",
                    "total_cost": 0,
                    "converted_revenue": 100,
                    "total_impressions": 0,
                    "total_clicks": 0,
                    "click_through_rate": null,
                    "total_conversions": 1
                  },
                  {
                    "source": "lm.facebook.com",
                    "channel_grouping": "Social Network",
                    "total_cost": 0,
                    "converted_revenue": 200,
                    "total_impressions": 0,
                    "total_clicks": 0,
                    "click_through_rate": null,
                    "total_conversions": 2
                  },
                  {
                    "source": "qwant.com",
                    "channel_grouping": "Referral",
                    "total_cost": 0,
                    "converted_revenue": 100,
                    "total_impressions": 0,
                    "total_clicks": 0,
                    "click_through_rate": null,
                    "total_conversions": 1
                  },
                  {
                    "source": "neckarhaus-immobilien.de",
                    "channel_grouping": "Referral",
                    "total_cost": 0,
                    "converted_revenue": 100,
                    "total_impressions": 0,
                    "total_clicks": 0,
                    "click_through_rate": null,
                    "total_conversions": 1
                  },
                  {
                    "source": "trc.taboola.com",
                    "channel_grouping": "Referral",
                    "total_cost": 0,
                    "converted_revenue": 100,
                    "total_impressions": 0,
                    "total_clicks": 0,
                    "click_through_rate": null,
                    "total_conversions": 1
                  },
                  {
                    "source": "googleapis.com",
                    "channel_grouping": "Referral",
                    "total_cost": 0,
                    "converted_revenue": 100,
                    "total_impressions": 0,
                    "total_clicks": 0,
                    "click_through_rate": null,
                    "total_conversions": 1
                  },
                  {
                    "source": "googleads.g.doubleclick.net",
                    "channel_grouping": "Referral",
                    "total_cost": 0,
                    "converted_revenue": 100,
                    "total_impressions": 0,
                    "total_clicks": 0,
                    "click_through_rate": null,
                    "total_conversions": 1
                  },
                  {
                    "source": "welling-immobilien.de",
                    "channel_grouping": "Referral",
                    "total_cost": 0,
                    "converted_revenue": 100,
                    "total_impressions": 0,
                    "total_clicks": 0,
                    "click_through_rate": null,
                    "total_conversions": 1
                  },
                  {
                    "source": "clk.thribee.com",
                    "channel_grouping": "Referral",
                    "total_cost": 0,
                    "converted_revenue": 100,
                    "total_impressions": 0,
                    "total_clicks": 0,
                    "click_through_rate": null,
                    "total_conversions": 1
                  },
                  {
                    "source": "interhyp.de",
                    "channel_grouping": "Referral",
                    "total_cost": 0,
                    "converted_revenue": 100,
                    "total_impressions": 0,
                    "total_clicks": 0,
                    "click_through_rate": null,
                    "total_conversions": 1
                  },
                  {
                    "source": "swsg.de",
                    "channel_grouping": "Referral",
                    "total_cost": 0,
                    "converted_revenue": 200,
                    "total_impressions": 0,
                    "total_clicks": 0,
                    "click_through_rate": null,
                    "total_conversions": 2
                  },
                  {
                    "source": "mobile.flowfact.com",
                    "channel_grouping": "Referral",
                    "total_cost": 0,
                    "converted_revenue": 100,
                    "total_impressions": 0,
                    "total_clicks": 0,
                    "click_through_rate": null,
                    "total_conversions": 1
                  },
                  {
                    "source": "pflugfelder.de",
                    "channel_grouping": "Referral",
                    "total_cost": 0,
                    "converted_revenue": 100,
                    "total_impressions": 0,
                    "total_clicks": 0,
                    "click_through_rate": null,
                    "total_conversions": 1
                  },
                  {
                    "source": "foreignbuyerswatch.com",
                    "channel_grouping": "Referral",
                    "total_cost": 0,
                    "converted_revenue": 100,
                    "total_impressions": 0,
                    "total_clicks": 0,
                    "click_through_rate": null,
                    "total_conversions": 1
                  },
                  {
                    "source": "becker-wittig.de",
                    "channel_grouping": "Referral",
                    "total_cost": 0,
                    "converted_revenue": 100,
                    "total_impressions": 0,
                    "total_clicks": 0,
                    "click_through_rate": null,
                    "total_conversions": 1
                  },
                  {
                    "source": "r.search.aol.com",
                    "channel_grouping": "Referral",
                    "total_cost": 0,
                    "converted_revenue": 300,
                    "total_impressions": 0,
                    "total_clicks": 0,
                    "click_through_rate": null,
                    "total_conversions": 3
                  },
                  {
                    "source": "cortina-wohnbau-gmbh.de",
                    "channel_grouping": "Referral",
                    "total_cost": 0,
                    "converted_revenue": 100,
                    "total_impressions": 0,
                    "total_clicks": 0,
                    "click_through_rate": null,
                    "total_conversions": 1
                  },
                  {
                    "source": "l.instagram.com",
                    "channel_grouping": "Social Network",
                    "total_cost": 0,
                    "converted_revenue": 100,
                    "total_impressions": 0,
                    "total_clicks": 0,
                    "click_through_rate": null,
                    "total_conversions": 1
                  },
                  {
                    "source": "immobilien-grath.de",
                    "channel_grouping": "Referral",
                    "total_cost": 0,
                    "converted_revenue": 100,
                    "total_impressions": 0,
                    "total_clicks": 0,
                    "click_through_rate": null,
                    "total_conversions": 1
                  },
                  {
                    "source": "mail.yahoo.com",
                    "channel_grouping": "Referral",
                    "total_cost": 0,
                    "converted_revenue": 200,
                    "total_impressions": 0,
                    "total_clicks": 0,
                    "click_through_rate": null,
                    "total_conversions": 2
                  },
                  {
                    "source": "go.mail.ru",
                    "channel_grouping": "Referral",
                    "total_cost": 0,
                    "converted_revenue": 100,
                    "total_impressions": 0,
                    "total_clicks": 0,
                    "click_through_rate": null,
                    "total_conversions": 1
                  },
                  {
                    "source": "mein-immobilienverkauf.de",
                    "channel_grouping": "Referral",
                    "total_cost": 0,
                    "converted_revenue": 300,
                    "total_impressions": 0,
                    "total_clicks": 0,
                    "click_through_rate": null,
                    "total_conversions": 3
                  },
                  {
                    "source": "de.search.yahoo.com",
                    "channel_grouping": "Organic Search",
                    "total_cost": 0,
                    "converted_revenue": 100,
                    "total_impressions": 0,
                    "total_clicks": 0,
                    "click_through_rate": null,
                    "total_conversions": 1
                  },
                  {
                    "source": "FAZ",
                    "channel_grouping": "Cooperation",
                    "total_cost": 0,
                    "converted_revenue": 200,
                    "total_impressions": 0,
                    "total_clicks": 0,
                    "click_through_rate": null,
                    "total_conversions": 2
                  },
                  {
                    "source": "newsletter",
                    "channel_grouping": "Email",
                    "total_cost": 0,
                    "converted_revenue": 100,
                    "total_impressions": 0,
                    "total_clicks": 0,
                    "click_through_rate": null,
                    "total_conversions": 1
                  },
                  {
                    "source": "jira.scout24.com",
                    "channel_grouping": "Referral",
                    "total_cost": 0,
                    "converted_revenue": 200,
                    "total_impressions": 0,
                    "total_clicks": 0,
                    "click_through_rate": null,
                    "total_conversions": 2
                  },
                  {
                    "source": "deref-mail.com",
                    "channel_grouping": "Referral",
                    "total_cost": 0,
                    "converted_revenue": 200,
                    "total_impressions": 0,
                    "total_clicks": 0,
                    "click_through_rate": null,
                    "total_conversions": 2
                  },
                  {
                    "source": "nm40.abv.bg",
                    "channel_grouping": "Referral",
                    "total_cost": 0,
                    "converted_revenue": 100,
                    "total_impressions": 0,
                    "total_clicks": 0,
                    "click_through_rate": null,
                    "total_conversions": 1
                  },
                  {
                    "source": "login.microsoftonline.com",
                    "channel_grouping": "Referral",
                    "total_cost": 0,
                    "converted_revenue": 100,
                    "total_impressions": 0,
                    "total_clicks": 0,
                    "click_through_rate": null,
                    "total_conversions": 1
                  },
                  {
                    "source": "adfs.contiwan.com",
                    "channel_grouping": "Referral",
                    "total_cost": 0,
                    "converted_revenue": 300,
                    "total_impressions": 0,
                    "total_clicks": 0,
                    "click_through_rate": null,
                    "total_conversions": 3
                  },
                  {
                    "source": "mww-gruppe.de",
                    "channel_grouping": "Referral",
                    "total_cost": 0,
                    "converted_revenue": 100,
                    "total_impressions": 0,
                    "total_clicks": 0,
                    "click_through_rate": null,
                    "total_conversions": 1
                  },
                  {
                    "source": "system",
                    "channel_grouping": "(not set)",
                    "total_cost": 0,
                    "converted_revenue": 100,
                    "total_impressions": 0,
                    "total_clicks": 0,
                    "click_through_rate": null,
                    "total_conversions": 1
                  },
                  {
                    "source": "email.seznam.cz",
                    "channel_grouping": "Referral",
                    "total_cost": 0,
                    "converted_revenue": 100,
                    "total_impressions": 0,
                    "total_clicks": 0,
                    "click_through_rate": null,
                    "total_conversions": 1
                  },
                  {
                    "source": "kirschner-wohnbau.de",
                    "channel_grouping": "Referral",
                    "total_cost": 0,
                    "converted_revenue": 200,
                    "total_impressions": 0,
                    "total_clicks": 0,
                    "click_through_rate": null,
                    "total_conversions": 2
                  },
                  {
                    "source": "immobify.de",
                    "channel_grouping": "Referral",
                    "total_cost": 0,
                    "converted_revenue": 100,
                    "total_impressions": 0,
                    "total_clicks": 0,
                    "click_through_rate": null,
                    "total_conversions": 1
                  },
                  {
                    "source": "login2019.tkps.net",
                    "channel_grouping": "Referral",
                    "total_cost": 0,
                    "converted_revenue": 100,
                    "total_impressions": 0,
                    "total_clicks": 0,
                    "click_through_rate": null,
                    "total_conversions": 1
                  },
                  {
                    "source": "deref-1und1.de",
                    "channel_grouping": "Referral",
                    "total_cost": 0,
                    "converted_revenue": 100,
                    "total_impressions": 0,
                    "total_clicks": 0,
                    "click_through_rate": null,
                    "total_conversions": 1
                  },
                  {
                    "source": "linkedin.com",
                    "channel_grouping": "Social Network",
                    "total_cost": 0,
                    "converted_revenue": 100,
                    "total_impressions": 0,
                    "total_clicks": 0,
                    "click_through_rate": null,
                    "total_conversions": 1
                  },
                  {
                    "source": "msn.com",
                    "channel_grouping": "Referral",
                    "total_cost": 0,
                    "converted_revenue": 200,
                    "total_impressions": 0,
                    "total_clicks": 0,
                    "click_through_rate": null,
                    "total_conversions": 2
                  },
                  {
                    "source": "search.avira.com",
                    "channel_grouping": "Referral",
                    "total_cost": 0,
                    "converted_revenue": 100,
                    "total_impressions": 0,
                    "total_clicks": 0,
                    "click_through_rate": null,
                    "total_conversions": 1
                  },
                  {
                    "source": "immo20.de",
                    "channel_grouping": "Referral",
                    "total_cost": 0,
                    "converted_revenue": 100,
                    "total_impressions": 0,
                    "total_clicks": 0,
                    "click_through_rate": null,
                    "total_conversions": 1
                  },
                  {
                    "source": "int.search.tb.ask.com",
                    "channel_grouping": "Organic Search",
                    "total_cost": 0,
                    "converted_revenue": 100,
                    "total_impressions": 0,
                    "total_clicks": 0,
                    "click_through_rate": null,
                    "total_conversions": 1
                  },
                  {
                    "source": "m.poczta.onet.pl",
                    "channel_grouping": "Referral",
                    "total_cost": 0,
                    "converted_revenue": 100,
                    "total_impressions": 0,
                    "total_clicks": 0,
                    "click_through_rate": null,
                    "total_conversions": 1
                  },
                  {
                    "source": "immosuchmaschine.de",
                    "channel_grouping": "Cooperation",
                    "total_cost": 0,
                    "converted_revenue": 100,
                    "total_impressions": 0,
                    "total_clicks": 0,
                    "click_through_rate": null,
                    "total_conversions": 1
                  },
                  {
                    "source": "ukinarabic.co.uk",
                    "channel_grouping": "Referral",
                    "total_cost": 0,
                    "converted_revenue": 100,
                    "total_impressions": 0,
                    "total_clicks": 0,
                    "click_through_rate": null,
                    "total_conversions": 1
                  },
                  {
                    "source": "am-fluss.deutsche-wohnwerte.de",
                    "channel_grouping": "Referral",
                    "total_cost": 0,
                    "converted_revenue": 100,
                    "total_impressions": 0,
                    "total_clicks": 0,
                    "click_through_rate": null,
                    "total_conversions": 1
                  },
                  {
                    "source": "googleusercontent.com",
                    "channel_grouping": "Referral",
                    "total_cost": 0,
                    "converted_revenue": 100,
                    "total_impressions": 0,
                    "total_clicks": 0,
                    "click_through_rate": null,
                    "total_conversions": 1
                  },
                  {
                    "source": "berlincheap.com",
                    "channel_grouping": "Referral",
                    "total_cost": 0,
                    "converted_revenue": 100,
                    "total_impressions": 0,
                    "total_clicks": 0,
                    "click_through_rate": null,
                    "total_conversions": 1
                  },
                  {
                    "source": "tupa-germania.ru",
                    "channel_grouping": "Referral",
                    "total_cost": 0,
                    "converted_revenue": 100,
                    "total_impressions": 0,
                    "total_clicks": 0,
                    "click_through_rate": null,
                    "total_conversions": 1
                  },
                  {
                    "source": "immometrica.de",
                    "channel_grouping": "Referral",
                    "total_cost": 0,
                    "converted_revenue": 100,
                    "total_impressions": 0,
                    "total_clicks": 0,
                    "click_through_rate": null,
                    "total_conversions": 1
                  },
                  {
                    "source": "frieslandimmobilien.com",
                    "channel_grouping": "Referral",
                    "total_cost": 0,
                    "converted_revenue": 100,
                    "total_impressions": 0,
                    "total_clicks": 0,
                    "click_through_rate": null,
                    "total_conversions": 1
                  },
                  {
                    "source": "google.com",
                    "channel_grouping": "Referral",
                    "total_cost": 0,
                    "converted_revenue": 100,
                    "total_impressions": 0,
                    "total_clicks": 0,
                    "click_through_rate": null,
                    "total_conversions": 1
                  },
                  {
                    "source": "searchencrypt.com",
                    "channel_grouping": "Referral",
                    "total_cost": 0,
                    "converted_revenue": 100,
                    "total_impressions": 0,
                    "total_clicks": 0,
                    "click_through_rate": null,
                    "total_conversions": 1
                  },
                  {
                    "source": "click.mail.ru",
                    "channel_grouping": "Referral",
                    "total_cost": 0,
                    "converted_revenue": 100,
                    "total_impressions": 0,
                    "total_clicks": 0,
                    "click_through_rate": null,
                    "total_conversions": 1
                  },
                  {
                    "source": "bing.com",
                    "channel_grouping": "Referral",
                    "total_cost": 0,
                    "converted_revenue": 200,
                    "total_impressions": 0,
                    "total_clicks": 0,
                    "click_through_rate": null,
                    "total_conversions": 2
                  },
                  {
                    "source": "foren.germany.ru",
                    "channel_grouping": "Referral",
                    "total_cost": 0,
                    "converted_revenue": 100,
                    "total_impressions": 0,
                    "total_clicks": 0,
                    "click_through_rate": null,
                    "total_conversions": 1
                  },
                  {
                    "source": "ahoi-immobilien.com",
                    "channel_grouping": "Referral",
                    "total_cost": 0,
                    "converted_revenue": 100,
                    "total_impressions": 0,
                    "total_clicks": 0,
                    "click_through_rate": null,
                    "total_conversions": 1
                  },
                  {
                    "source": "immoservicelenz.de",
                    "channel_grouping": "Referral",
                    "total_cost": 0,
                    "converted_revenue": 100,
                    "total_impressions": 0,
                    "total_clicks": 0,
                    "click_through_rate": null,
                    "total_conversions": 1
                  },
                  {
                    "source": "cse.yukoono.mobi",
                    "channel_grouping": "Referral",
                    "total_cost": 0,
                    "converted_revenue": 100,
                    "total_impressions": 0,
                    "total_clicks": 0,
                    "click_through_rate": null,
                    "total_conversions": 1
                  },
                  {
                    "source": "sico-immobilien.de",
                    "channel_grouping": "Referral",
                    "total_cost": 0,
                    "converted_revenue": 100,
                    "total_impressions": 0,
                    "total_clicks": 0,
                    "click_through_rate": null,
                    "total_conversions": 1
                  },
                  {
                    "source": "schufa.de",
                    "channel_grouping": "Referral",
                    "total_cost": 0,
                    "converted_revenue": 100,
                    "total_impressions": 0,
                    "total_clicks": 0,
                    "click_through_rate": null,
                    "total_conversions": 1
                  },
                  {
                    "source": "finanzfrage.net",
                    "channel_grouping": "Referral",
                    "total_cost": 0,
                    "converted_revenue": 100,
                    "total_impressions": 0,
                    "total_clicks": 0,
                    "click_through_rate": null,
                    "total_conversions": 1
                  },
                  {
                    "source": "sabinezahn-immobilien.de",
                    "channel_grouping": "Referral",
                    "total_cost": 0,
                    "converted_revenue": 100,
                    "total_impressions": 0,
                    "total_clicks": 0,
                    "click_through_rate": null,
                    "total_conversions": 1
                  },
                  {
                    "source": "weiller-immobilien.com",
                    "channel_grouping": "Referral",
                    "total_cost": 0,
                    "converted_revenue": 200,
                    "total_impressions": 0,
                    "total_clicks": 0,
                    "click_through_rate": null,
                    "total_conversions": 2
                  },
                  {
                    "source": "mietfieber.de",
                    "channel_grouping": "Referral",
                    "total_cost": 0,
                    "converted_revenue": 200,
                    "total_impressions": 0,
                    "total_clicks": 0,
                    "click_through_rate": null,
                    "total_conversions": 2
                  },
                  {
                    "source": "syste",
                    "channel_grouping": "Email",
                    "total_cost": 0,
                    "converted_revenue": 100,
                    "total_impressions": 0,
                    "total_clicks": 0,
                    "click_through_rate": null,
                    "total_conversions": 1
                  },
                  {
                    "source": "appleid.apple.com",
                    "channel_grouping": "Referral",
                    "total_cost": 0,
                    "converted_revenue": 100,
                    "total_impressions": 0,
                    "total_clicks": 0,
                    "click_through_rate": null,
                    "total_conversions": 1
                  },
                  {
                    "source": "yandex.ru",
                    "channel_grouping": "Organic Search",
                    "total_cost": 0,
                    "converted_revenue": 200,
                    "total_impressions": 0,
                    "total_clicks": 0,
                    "click_through_rate": null,
                    "total_conversions": 2
                  },
                  {
                    "source": "laserimmobilien.de",
                    "channel_grouping": "Referral",
                    "total_cost": 0,
                    "converted_revenue": 100,
                    "total_impressions": 0,
                    "total_clicks": 0,
                    "click_through_rate": null,
                    "total_conversions": 1
                  },
                  {
                    "source": "nudelmann-friends.de",
                    "channel_grouping": "Referral",
                    "total_cost": 0,
                    "converted_revenue": 100,
                    "total_impressions": 0,
                    "total_clicks": 0,
                    "click_through_rate": null,
                    "total_conversions": 1
                  },
                  {
                    "source": "expatica.com",
                    "channel_grouping": "Referral",
                    "total_cost": 0,
                    "converted_revenue": 100,
                    "total_impressions": 0,
                    "total_clicks": 0,
                    "click_through_rate": null,
                    "total_conversions": 1
                  },
                  {
                    "source": "foppe-immobilien.de",
                    "channel_grouping": "Referral",
                    "total_cost": 0,
                    "converted_revenue": 200,
                    "total_impressions": 0,
                    "total_clicks": 0,
                    "click_through_rate": null,
                    "total_conversions": 2
                  },
                  {
                    "source": "sparzauber.com",
                    "channel_grouping": "Referral",
                    "total_cost": 0,
                    "converted_revenue": 100,
                    "total_impressions": 0,
                    "total_clicks": 0,
                    "click_through_rate": null,
                    "total_conversions": 1
                  },
                  {
                    "source": "hypofriend.de",
                    "channel_grouping": "Referral",
                    "total_cost": 0,
                    "converted_revenue": 100,
                    "total_impressions": 0,
                    "total_clicks": 0,
                    "click_through_rate": null,
                    "total_conversions": 1
                  },
                  {
                    "source": "sso.kabelmail.de",
                    "channel_grouping": "Referral",
                    "total_cost": 0,
                    "converted_revenue": 100,
                    "total_impressions": 0,
                    "total_clicks": 0,
                    "click_through_rate": null,
                    "total_conversions": 1
                  },
                  {
                    "source": "uk.search.yahoo.com",
                    "channel_grouping": "Referral",
                    "total_cost": 0,
                    "converted_revenue": 100,
                    "total_impressions": 0,
                    "total_clicks": 0,
                    "click_through_rate": null,
                    "total_conversions": 1
                  },
                  {
                    "source": "international-real-estate.de",
                    "channel_grouping": "Referral",
                    "total_cost": 0,
                    "converted_revenue": 100,
                    "total_impressions": 0,
                    "total_clicks": 0,
                    "click_through_rate": null,
                    "total_conversions": 1
                  },
                  {
                    "source": "search.start.fyi",
                    "channel_grouping": "Organic Search",
                    "total_cost": 0,
                    "converted_revenue": 100,
                    "total_impressions": 0,
                    "total_clicks": 0,
                    "click_through_rate": null,
                    "total_conversions": 1
                  },
                  {
                    "source": "app.raindrop.io",
                    "channel_grouping": "Referral",
                    "total_cost": 0,
                    "converted_revenue": 100,
                    "total_impressions": 0,
                    "total_clicks": 0,
                    "click_through_rate": null,
                    "total_conversions": 1
                  },
                  {
                    "source": "scoutmedia",
                    "channel_grouping": "Satellite Site",
                    "total_cost": 0,
                    "converted_revenue": 100,
                    "total_impressions": 0,
                    "total_clicks": 0,
                    "click_through_rate": null,
                    "total_conversions": 1
                  },
                  {
                    "source": "profschuh.de",
                    "channel_grouping": "Referral",
                    "total_cost": 0,
                    "converted_revenue": 100,
                    "total_impressions": 0,
                    "total_clicks": 0,
                    "click_through_rate": null,
                    "total_conversions": 1
                  },
                  {
                    "source": "euroweb.net",
                    "channel_grouping": "Referral",
                    "total_cost": 0,
                    "converted_revenue": 100,
                    "total_impressions": 0,
                    "total_clicks": 0,
                    "click_through_rate": null,
                    "total_conversions": 1
                  },
                  {
                    "source": "ruhrgrund-immobilien.de",
                    "channel_grouping": "Referral",
                    "total_cost": 0,
                    "converted_revenue": 200,
                    "total_impressions": 0,
                    "total_clicks": 0,
                    "click_through_rate": null,
                    "total_conversions": 2
                  },
                  {
                    "source": "zasobygwp.pl",
                    "channel_grouping": "Referral",
                    "total_cost": 0,
                    "converted_revenue": 100,
                    "total_impressions": 0,
                    "total_clicks": 0,
                    "click_through_rate": null,
                    "total_conversions": 1
                  },
                  {
                    "source": "abg.de",
                    "channel_grouping": "Referral",
                    "total_cost": 0,
                    "converted_revenue": 100,
                    "total_impressions": 0,
                    "total_clicks": 0,
                    "click_through_rate": null,
                    "total_conversions": 1
                  },
                  {
                    "source": "mobile.ok.ru",
                    "channel_grouping": "Referral",
                    "total_cost": 0,
                    "converted_revenue": 100,
                    "total_impressions": 0,
                    "total_clicks": 0,
                    "click_through_rate": null,
                    "total_conversions": 1
                  },
                  {
                    "source": "portus-immobilien.de",
                    "channel_grouping": "Referral",
                    "total_cost": 0,
                    "converted_revenue": 100,
                    "total_impressions": 0,
                    "total_clicks": 0,
                    "click_through_rate": null,
                    "total_conversions": 1
                  },
                  {
                    "source": "searchthis.com",
                    "channel_grouping": "Organic Search",
                    "total_cost": 0,
                    "converted_revenue": 100,
                    "total_impressions": 0,
                    "total_clicks": 0,
                    "click_through_rate": null,
                    "total_conversions": 1
                  }
                ]
              }
            },
            "text/plain": "<__main__.DeepnoteChart at 0x7f617d2a8280>"
          },
          "metadata": {}
        }
      ],
      "execution_count": 5,
      "block_group": "e58a87dfd3254000a0bd2522510459da"
    },
    {
      "cell_type": "markdown",
      "source": "<br>\n<br>\n\n> Upon analyzing the revenue distribution across different channels, a distinct pattern emerges – a **significant proportion of conversions originates from non-paid searches.** \n>\n> This observation signifies a notable level of trust by the customer in Scout24. Importantly, the strategic advantage lies in the lack of direct advertising costs associated with these organic conversions. Individuals who arrive via non-paid searches typically have a specific purpose or intent. They actively seek information related to products, services, or specific topics, indicating an increased likelihood of conversion. \n>\n>This user segment is often in the consideration or decision stage of the purchasing journey, rendering their engagement particularly valuable.",
      "metadata": {
        "deepnote_app_coordinates": {
          "h": 5,
          "w": 12,
          "x": 0,
          "y": 0
        },
        "cell_id": "4274f45d675c4ddb8f1c56a7dc2f5d06",
        "deepnote_cell_type": "markdown"
      },
      "block_group": "e58a87dfd3254000a0bd2522510459da"
    },
    {
      "cell_type": "markdown",
      "source": "----\n\n#### Paid search analysis",
      "metadata": {
        "deepnote_app_coordinates": {
          "h": 5,
          "w": 12,
          "x": 0,
          "y": 0
        },
        "cell_id": "e6df69990fea4efaa3f76f21f993b32f",
        "deepnote_cell_type": "markdown"
      },
      "block_group": "514cf5685d0043898d4557ab4a0036a0"
    },
    {
      "cell_type": "code",
      "source": "roas = _deepnote_execute_sql('SELECT \\n    date::date AS date\\n    , source\\n    , SUM(conversion_value) AS conversion_value\\n    , SUM(spend) AS spend\\n    , (SUM(conversion_value)/SUM(spend))::DECIMAL(10,2) AS return_on_ad_spend\\n    , SUM(impressions) AS impressions\\n    , SUM(clicks) AS clicks\\n    , SUM(conversion) AS conversions\\nFROM funnel\\nWHERE channel_grouping = (\\'Paid Search\\') OR (source = (\\'facebook\\') AND channel_grouping = (\\'Display\\'))\\nGROUP BY 1,2', 'SQL_DEEPNOTE_DATAFRAME_SQL', audit_sql_comment='', sql_cache_mode='cache_disabled')\nroas",
      "metadata": {
        "source_hash": "994750ac",
        "execution_start": 1701627774403,
        "execution_millis": 88,
        "is_output_hidden": true,
        "sql_integration_id": "deepnote-dataframe-sql",
        "deepnote_table_state": {
          "sortBy": [
            {
              "id": "spend",
              "type": "desc"
            }
          ],
          "filters": [],
          "pageSize": 5,
          "pageIndex": 0
        },
        "deepnote_table_loading": false,
        "deepnote_variable_name": "roas",
        "deepnote_app_coordinates": {
          "h": 5,
          "w": 12,
          "x": 0,
          "y": 0
        },
        "deepnote_to_be_reexecuted": false,
        "deepnote_app_is_code_hidden": true,
        "deepnote_app_is_output_hidden": true,
        "cell_id": "f0fccc2bfc584df6a2b4020ef9c9821b",
        "deepnote_cell_type": "sql",
        "deepnote_sql_source": "SELECT \n    date::date AS date\n    , source\n    , SUM(conversion_value) AS conversion_value\n    , SUM(spend) AS spend\n    , (SUM(conversion_value)/SUM(spend))::DECIMAL(10,2) AS return_on_ad_spend\n    , SUM(impressions) AS impressions\n    , SUM(clicks) AS clicks\n    , SUM(conversion) AS conversions\nFROM funnel\nWHERE channel_grouping = ('Paid Search') OR (source = ('facebook') AND channel_grouping = ('Display'))\nGROUP BY 1,2"
      },
      "outputs": [
        {
          "data": {
            "application/vnd.deepnote.sql-output-metadata+json": {
              "status": "success_no_cache",
              "size_in_bytes": 27314
            }
          },
          "metadata": {},
          "output_type": "display_data"
        },
        {
          "output_type": "execute_result",
          "execution_count": 6,
          "data": {
            "application/vnd.deepnote.dataframe.v3+json": {
              "column_count": 8,
              "row_count": 180,
              "columns": [
                {
                  "name": "date",
                  "dtype": "object",
                  "stats": {
                    "unique_count": 61,
                    "nan_count": 0,
                    "categories": [
                      {
                        "name": "2020-04-28",
                        "count": 3
                      },
                      {
                        "name": "2020-04-26",
                        "count": 3
                      },
                      {
                        "name": "59 others",
                        "count": 174
                      }
                    ]
                  }
                },
                {
                  "name": "source",
                  "dtype": "object",
                  "stats": {
                    "unique_count": 3,
                    "nan_count": 0,
                    "categories": [
                      {
                        "name": "google",
                        "count": 61
                      },
                      {
                        "name": "facebook",
                        "count": 61
                      },
                      {
                        "name": "bing",
                        "count": 58
                      }
                    ]
                  }
                },
                {
                  "name": "conversion_value",
                  "dtype": "int64",
                  "stats": {
                    "unique_count": 69,
                    "nan_count": 0,
                    "min": "0",
                    "max": "12900",
                    "histogram": [
                      {
                        "bin_start": 0,
                        "bin_end": 1290,
                        "count": 93
                      },
                      {
                        "bin_start": 1290,
                        "bin_end": 2580,
                        "count": 24
                      },
                      {
                        "bin_start": 2580,
                        "bin_end": 3870,
                        "count": 2
                      },
                      {
                        "bin_start": 3870,
                        "bin_end": 5160,
                        "count": 2
                      },
                      {
                        "bin_start": 5160,
                        "bin_end": 6450,
                        "count": 11
                      },
                      {
                        "bin_start": 6450,
                        "bin_end": 7740,
                        "count": 20
                      },
                      {
                        "bin_start": 7740,
                        "bin_end": 9030,
                        "count": 12
                      },
                      {
                        "bin_start": 9030,
                        "bin_end": 10320,
                        "count": 9
                      },
                      {
                        "bin_start": 10320,
                        "bin_end": 11610,
                        "count": 4
                      },
                      {
                        "bin_start": 11610,
                        "bin_end": 12900,
                        "count": 3
                      }
                    ]
                  }
                },
                {
                  "name": "spend",
                  "dtype": "float64",
                  "stats": {
                    "unique_count": 157,
                    "nan_count": 0,
                    "min": "0.0",
                    "max": "7684.490000000001",
                    "histogram": [
                      {
                        "bin_start": 0,
                        "bin_end": 768.4490000000001,
                        "count": 83
                      },
                      {
                        "bin_start": 768.4490000000001,
                        "bin_end": 1536.8980000000001,
                        "count": 36
                      },
                      {
                        "bin_start": 1536.8980000000001,
                        "bin_end": 2305.347,
                        "count": 0
                      },
                      {
                        "bin_start": 2305.347,
                        "bin_end": 3073.7960000000003,
                        "count": 1
                      },
                      {
                        "bin_start": 3073.7960000000003,
                        "bin_end": 3842.2450000000003,
                        "count": 7
                      },
                      {
                        "bin_start": 3842.2450000000003,
                        "bin_end": 4610.694,
                        "count": 15
                      },
                      {
                        "bin_start": 4610.694,
                        "bin_end": 5379.143,
                        "count": 13
                      },
                      {
                        "bin_start": 5379.143,
                        "bin_end": 6147.592000000001,
                        "count": 6
                      },
                      {
                        "bin_start": 6147.592000000001,
                        "bin_end": 6916.041000000001,
                        "count": 11
                      },
                      {
                        "bin_start": 6916.041000000001,
                        "bin_end": 7684.490000000001,
                        "count": 8
                      }
                    ]
                  }
                },
                {
                  "name": "return_on_ad_spend",
                  "dtype": "float64",
                  "stats": {
                    "unique_count": 126,
                    "nan_count": 24,
                    "min": "0.08",
                    "max": "6.35",
                    "histogram": [
                      {
                        "bin_start": 0.08,
                        "bin_end": 0.707,
                        "count": 28
                      },
                      {
                        "bin_start": 0.707,
                        "bin_end": 1.334,
                        "count": 23
                      },
                      {
                        "bin_start": 1.334,
                        "bin_end": 1.961,
                        "count": 50
                      },
                      {
                        "bin_start": 1.961,
                        "bin_end": 2.588,
                        "count": 20
                      },
                      {
                        "bin_start": 2.588,
                        "bin_end": 3.215,
                        "count": 14
                      },
                      {
                        "bin_start": 3.215,
                        "bin_end": 3.842,
                        "count": 8
                      },
                      {
                        "bin_start": 3.842,
                        "bin_end": 4.469,
                        "count": 3
                      },
                      {
                        "bin_start": 4.469,
                        "bin_end": 5.096,
                        "count": 5
                      },
                      {
                        "bin_start": 5.096,
                        "bin_end": 5.723,
                        "count": 2
                      },
                      {
                        "bin_start": 5.723,
                        "bin_end": 6.35,
                        "count": 3
                      }
                    ]
                  }
                },
                {
                  "name": "impressions",
                  "dtype": "int64",
                  "stats": {
                    "unique_count": 157,
                    "nan_count": 0,
                    "min": "0",
                    "max": "244296",
                    "histogram": [
                      {
                        "bin_start": 0,
                        "bin_end": 24429.6,
                        "count": 51
                      },
                      {
                        "bin_start": 24429.6,
                        "bin_end": 48859.2,
                        "count": 36
                      },
                      {
                        "bin_start": 48859.2,
                        "bin_end": 73288.79999999999,
                        "count": 0
                      },
                      {
                        "bin_start": 73288.79999999999,
                        "bin_end": 97718.4,
                        "count": 2
                      },
                      {
                        "bin_start": 97718.4,
                        "bin_end": 122148,
                        "count": 6
                      },
                      {
                        "bin_start": 122148,
                        "bin_end": 146577.59999999998,
                        "count": 19
                      },
                      {
                        "bin_start": 146577.59999999998,
                        "bin_end": 171007.19999999998,
                        "count": 21
                      },
                      {
                        "bin_start": 171007.19999999998,
                        "bin_end": 195436.8,
                        "count": 24
                      },
                      {
                        "bin_start": 195436.8,
                        "bin_end": 219866.4,
                        "count": 16
                      },
                      {
                        "bin_start": 219866.4,
                        "bin_end": 244296,
                        "count": 5
                      }
                    ]
                  }
                },
                {
                  "name": "clicks",
                  "dtype": "int64",
                  "stats": {
                    "unique_count": 155,
                    "nan_count": 0,
                    "min": "0",
                    "max": "149302",
                    "histogram": [
                      {
                        "bin_start": 0,
                        "bin_end": 14930.2,
                        "count": 119
                      },
                      {
                        "bin_start": 14930.2,
                        "bin_end": 29860.4,
                        "count": 0
                      },
                      {
                        "bin_start": 29860.4,
                        "bin_end": 44790.600000000006,
                        "count": 0
                      },
                      {
                        "bin_start": 44790.600000000006,
                        "bin_end": 59720.8,
                        "count": 0
                      },
                      {
                        "bin_start": 59720.8,
                        "bin_end": 74651,
                        "count": 6
                      },
                      {
                        "bin_start": 74651,
                        "bin_end": 89581.20000000001,
                        "count": 6
                      },
                      {
                        "bin_start": 89581.20000000001,
                        "bin_end": 104511.40000000001,
                        "count": 13
                      },
                      {
                        "bin_start": 104511.40000000001,
                        "bin_end": 119441.6,
                        "count": 24
                      },
                      {
                        "bin_start": 119441.6,
                        "bin_end": 134371.80000000002,
                        "count": 9
                      },
                      {
                        "bin_start": 134371.80000000002,
                        "bin_end": 149302,
                        "count": 3
                      }
                    ]
                  }
                },
                {
                  "name": "conversions",
                  "dtype": "int64",
                  "stats": {
                    "unique_count": 69,
                    "nan_count": 0,
                    "min": "0",
                    "max": "129",
                    "histogram": [
                      {
                        "bin_start": 0,
                        "bin_end": 12.9,
                        "count": 93
                      },
                      {
                        "bin_start": 12.9,
                        "bin_end": 25.8,
                        "count": 24
                      },
                      {
                        "bin_start": 25.8,
                        "bin_end": 38.7,
                        "count": 2
                      },
                      {
                        "bin_start": 38.7,
                        "bin_end": 51.6,
                        "count": 2
                      },
                      {
                        "bin_start": 51.6,
                        "bin_end": 64.5,
                        "count": 11
                      },
                      {
                        "bin_start": 64.5,
                        "bin_end": 77.4,
                        "count": 20
                      },
                      {
                        "bin_start": 77.4,
                        "bin_end": 90.3,
                        "count": 12
                      },
                      {
                        "bin_start": 90.3,
                        "bin_end": 103.2,
                        "count": 9
                      },
                      {
                        "bin_start": 103.2,
                        "bin_end": 116.10000000000001,
                        "count": 4
                      },
                      {
                        "bin_start": 116.10000000000001,
                        "bin_end": 129,
                        "count": 3
                      }
                    ]
                  }
                },
                {
                  "name": "_deepnote_index_column",
                  "dtype": "int64"
                }
              ],
              "rows": [
                {
                  "date": "2020-04-28",
                  "source": "google",
                  "conversion_value": 10700,
                  "spend": 7684.490000000001,
                  "return_on_ad_spend": 1.39,
                  "impressions": 218824,
                  "clicks": 128332,
                  "conversions": 107,
                  "_deepnote_index_column": 6
                },
                {
                  "date": "2020-04-19",
                  "source": "google",
                  "conversion_value": 12500,
                  "spend": 7488.590000000001,
                  "return_on_ad_spend": 1.67,
                  "impressions": 244296,
                  "clicks": 149302,
                  "conversions": 125,
                  "_deepnote_index_column": 17
                },
                {
                  "date": "2020-04-26",
                  "source": "google",
                  "conversion_value": 11400,
                  "spend": 7427.220000000001,
                  "return_on_ad_spend": 1.53,
                  "impressions": 224034,
                  "clicks": 136491,
                  "conversions": 114,
                  "_deepnote_index_column": 19
                },
                {
                  "date": "2020-04-27",
                  "source": "google",
                  "conversion_value": 12900,
                  "spend": 7411.030000000001,
                  "return_on_ad_spend": 1.74,
                  "impressions": 216524,
                  "clicks": 126228,
                  "conversions": 129,
                  "_deepnote_index_column": 33
                },
                {
                  "date": "2020-03-08",
                  "source": "google",
                  "conversion_value": 8700,
                  "spend": 7265.28,
                  "return_on_ad_spend": 1.2,
                  "impressions": 209286,
                  "clicks": 126075,
                  "conversions": 87,
                  "_deepnote_index_column": 163
                }
              ]
            },
            "text/plain": "           date    source  conversion_value    spend  return_on_ad_spend  \\\n0    2020-03-09    google              9500  7206.53                1.32   \n1    2020-03-22    google              6900  4376.55                1.58   \n2    2020-04-24    google              7500  4801.17                1.56   \n3    2020-04-08    google              7000  4489.34                1.56   \n4    2020-03-31    google              5700  4452.95                1.28   \n..          ...       ...               ...      ...                 ...   \n175  2020-04-26      bing                 0     0.00                 NaN   \n176  2020-03-12  facebook              1000   649.88                1.54   \n177  2020-04-23  facebook               200   227.69                0.88   \n178  2020-04-22      bing               100     0.00                 NaN   \n179  2020-04-03  facebook               800   266.16                3.01   \n\n     impressions  clicks  conversions  \n0         206281  119570           95  \n1         148931   89510           69  \n2         181233  107727           75  \n3         165793   98372           70  \n4         180753  107646           57  \n..           ...     ...          ...  \n175            0       0            0  \n176       134393     851           10  \n177        22666     293            2  \n178            0       0            1  \n179        27267     383            8  \n\n[180 rows x 8 columns]",
            "text/html": "<div>\n<style scoped>\n    .dataframe tbody tr th:only-of-type {\n        vertical-align: middle;\n    }\n\n    .dataframe tbody tr th {\n        vertical-align: top;\n    }\n\n    .dataframe thead th {\n        text-align: right;\n    }\n</style>\n<table border=\"1\" class=\"dataframe\">\n  <thead>\n    <tr style=\"text-align: right;\">\n      <th></th>\n      <th>date</th>\n      <th>source</th>\n      <th>conversion_value</th>\n      <th>spend</th>\n      <th>return_on_ad_spend</th>\n      <th>impressions</th>\n      <th>clicks</th>\n      <th>conversions</th>\n    </tr>\n  </thead>\n  <tbody>\n    <tr>\n      <th>0</th>\n      <td>2020-03-09</td>\n      <td>google</td>\n      <td>9500</td>\n      <td>7206.53</td>\n      <td>1.32</td>\n      <td>206281</td>\n      <td>119570</td>\n      <td>95</td>\n    </tr>\n    <tr>\n      <th>1</th>\n      <td>2020-03-22</td>\n      <td>google</td>\n      <td>6900</td>\n      <td>4376.55</td>\n      <td>1.58</td>\n      <td>148931</td>\n      <td>89510</td>\n      <td>69</td>\n    </tr>\n    <tr>\n      <th>2</th>\n      <td>2020-04-24</td>\n      <td>google</td>\n      <td>7500</td>\n      <td>4801.17</td>\n      <td>1.56</td>\n      <td>181233</td>\n      <td>107727</td>\n      <td>75</td>\n    </tr>\n    <tr>\n      <th>3</th>\n      <td>2020-04-08</td>\n      <td>google</td>\n      <td>7000</td>\n      <td>4489.34</td>\n      <td>1.56</td>\n      <td>165793</td>\n      <td>98372</td>\n      <td>70</td>\n    </tr>\n    <tr>\n      <th>4</th>\n      <td>2020-03-31</td>\n      <td>google</td>\n      <td>5700</td>\n      <td>4452.95</td>\n      <td>1.28</td>\n      <td>180753</td>\n      <td>107646</td>\n      <td>57</td>\n    </tr>\n    <tr>\n      <th>...</th>\n      <td>...</td>\n      <td>...</td>\n      <td>...</td>\n      <td>...</td>\n      <td>...</td>\n      <td>...</td>\n      <td>...</td>\n      <td>...</td>\n    </tr>\n    <tr>\n      <th>175</th>\n      <td>2020-04-26</td>\n      <td>bing</td>\n      <td>0</td>\n      <td>0.00</td>\n      <td>NaN</td>\n      <td>0</td>\n      <td>0</td>\n      <td>0</td>\n    </tr>\n    <tr>\n      <th>176</th>\n      <td>2020-03-12</td>\n      <td>facebook</td>\n      <td>1000</td>\n      <td>649.88</td>\n      <td>1.54</td>\n      <td>134393</td>\n      <td>851</td>\n      <td>10</td>\n    </tr>\n    <tr>\n      <th>177</th>\n      <td>2020-04-23</td>\n      <td>facebook</td>\n      <td>200</td>\n      <td>227.69</td>\n      <td>0.88</td>\n      <td>22666</td>\n      <td>293</td>\n      <td>2</td>\n    </tr>\n    <tr>\n      <th>178</th>\n      <td>2020-04-22</td>\n      <td>bing</td>\n      <td>100</td>\n      <td>0.00</td>\n      <td>NaN</td>\n      <td>0</td>\n      <td>0</td>\n      <td>1</td>\n    </tr>\n    <tr>\n      <th>179</th>\n      <td>2020-04-03</td>\n      <td>facebook</td>\n      <td>800</td>\n      <td>266.16</td>\n      <td>3.01</td>\n      <td>27267</td>\n      <td>383</td>\n      <td>8</td>\n    </tr>\n  </tbody>\n</table>\n<p>180 rows × 8 columns</p>\n</div>"
          },
          "metadata": {}
        }
      ],
      "execution_count": 6,
      "block_group": "f175285da1ff4571a6a1c9d63943c4c3"
    },
    {
      "cell_type": "code",
      "source": "period_roas = _deepnote_execute_sql('SELECT \\n    source\\n    , SUM(spend) AS spend\\n    , SUM(conversion_value) AS converted\\n    , (SUM(conversion_value)/SUM(spend))::DECIMAL(10,2) AS roas\\nFROM roas\\nGROUP BY 1', 'SQL_DEEPNOTE_DATAFRAME_SQL', audit_sql_comment='', sql_cache_mode='cache_disabled')\nperiod_roas",
      "metadata": {
        "source_hash": "18000e4b",
        "execution_start": 1701627774520,
        "execution_millis": 82,
        "is_output_hidden": false,
        "sql_integration_id": "deepnote-dataframe-sql",
        "deepnote_variable_name": "period_roas",
        "deepnote_app_coordinates": {
          "h": 5,
          "w": 12,
          "x": 0,
          "y": 0
        },
        "deepnote_to_be_reexecuted": false,
        "deepnote_app_is_code_hidden": true,
        "deepnote_app_is_output_hidden": false,
        "cell_id": "5653951f5cbc4675b835b212211d1f07",
        "deepnote_cell_type": "sql",
        "deepnote_sql_source": "SELECT \n    source\n    , SUM(spend) AS spend\n    , SUM(conversion_value) AS converted\n    , (SUM(conversion_value)/SUM(spend))::DECIMAL(10,2) AS roas\nFROM roas\nGROUP BY 1"
      },
      "outputs": [
        {
          "data": {
            "application/vnd.deepnote.sql-output-metadata+json": {
              "status": "success_no_cache",
              "size_in_bytes": 389
            }
          },
          "metadata": {},
          "output_type": "display_data"
        },
        {
          "output_type": "execute_result",
          "execution_count": 7,
          "data": {
            "application/vnd.deepnote.dataframe.v3+json": {
              "column_count": 4,
              "row_count": 3,
              "columns": [
                {
                  "name": "source",
                  "dtype": "object",
                  "stats": {
                    "unique_count": 3,
                    "nan_count": 0,
                    "categories": [
                      {
                        "name": "google",
                        "count": 1
                      },
                      {
                        "name": "bing",
                        "count": 1
                      },
                      {
                        "name": "facebook",
                        "count": 1
                      }
                    ]
                  }
                },
                {
                  "name": "spend",
                  "dtype": "float64",
                  "stats": {
                    "unique_count": 3,
                    "nan_count": 0,
                    "min": "25206.72000200001",
                    "max": "323478.17000000004",
                    "histogram": [
                      {
                        "bin_start": 25206.72000200001,
                        "bin_end": 55033.86500180002,
                        "count": 2
                      },
                      {
                        "bin_start": 55033.86500180002,
                        "bin_end": 84861.01000160002,
                        "count": 0
                      },
                      {
                        "bin_start": 84861.01000160002,
                        "bin_end": 114688.15500140004,
                        "count": 0
                      },
                      {
                        "bin_start": 114688.15500140004,
                        "bin_end": 144515.30000120003,
                        "count": 0
                      },
                      {
                        "bin_start": 144515.30000120003,
                        "bin_end": 174342.44500100004,
                        "count": 0
                      },
                      {
                        "bin_start": 174342.44500100004,
                        "bin_end": 204169.59000080006,
                        "count": 0
                      },
                      {
                        "bin_start": 204169.59000080006,
                        "bin_end": 233996.73500060005,
                        "count": 0
                      },
                      {
                        "bin_start": 233996.73500060005,
                        "bin_end": 263823.88000040007,
                        "count": 0
                      },
                      {
                        "bin_start": 263823.88000040007,
                        "bin_end": 293651.0250002,
                        "count": 0
                      },
                      {
                        "bin_start": 293651.0250002,
                        "bin_end": 323478.17000000004,
                        "count": 1
                      }
                    ]
                  }
                },
                {
                  "name": "converted",
                  "dtype": "int64",
                  "stats": {
                    "unique_count": 3,
                    "nan_count": 0,
                    "min": "16900",
                    "max": "486400",
                    "histogram": [
                      {
                        "bin_start": 16900,
                        "bin_end": 63850,
                        "count": 1
                      },
                      {
                        "bin_start": 63850,
                        "bin_end": 110800,
                        "count": 1
                      },
                      {
                        "bin_start": 110800,
                        "bin_end": 157750,
                        "count": 0
                      },
                      {
                        "bin_start": 157750,
                        "bin_end": 204700,
                        "count": 0
                      },
                      {
                        "bin_start": 204700,
                        "bin_end": 251650,
                        "count": 0
                      },
                      {
                        "bin_start": 251650,
                        "bin_end": 298600,
                        "count": 0
                      },
                      {
                        "bin_start": 298600,
                        "bin_end": 345550,
                        "count": 0
                      },
                      {
                        "bin_start": 345550,
                        "bin_end": 392500,
                        "count": 0
                      },
                      {
                        "bin_start": 392500,
                        "bin_end": 439450,
                        "count": 0
                      },
                      {
                        "bin_start": 439450,
                        "bin_end": 486400,
                        "count": 1
                      }
                    ]
                  }
                },
                {
                  "name": "roas",
                  "dtype": "float64",
                  "stats": {
                    "unique_count": 3,
                    "nan_count": 0,
                    "min": "0.47",
                    "max": "2.88",
                    "histogram": [
                      {
                        "bin_start": 0.47,
                        "bin_end": 0.711,
                        "count": 1
                      },
                      {
                        "bin_start": 0.711,
                        "bin_end": 0.952,
                        "count": 0
                      },
                      {
                        "bin_start": 0.952,
                        "bin_end": 1.193,
                        "count": 0
                      },
                      {
                        "bin_start": 1.193,
                        "bin_end": 1.4340000000000002,
                        "count": 0
                      },
                      {
                        "bin_start": 1.4340000000000002,
                        "bin_end": 1.675,
                        "count": 1
                      },
                      {
                        "bin_start": 1.675,
                        "bin_end": 1.9160000000000001,
                        "count": 0
                      },
                      {
                        "bin_start": 1.9160000000000001,
                        "bin_end": 2.157,
                        "count": 0
                      },
                      {
                        "bin_start": 2.157,
                        "bin_end": 2.398,
                        "count": 0
                      },
                      {
                        "bin_start": 2.398,
                        "bin_end": 2.6390000000000002,
                        "count": 0
                      },
                      {
                        "bin_start": 2.6390000000000002,
                        "bin_end": 2.88,
                        "count": 1
                      }
                    ]
                  }
                },
                {
                  "name": "_deepnote_index_column",
                  "dtype": "int64"
                }
              ],
              "rows": [
                {
                  "source": "google",
                  "spend": 323478.17000000004,
                  "converted": 486400,
                  "roas": 1.5,
                  "_deepnote_index_column": 0
                },
                {
                  "source": "bing",
                  "spend": 36250.899999999994,
                  "converted": 16900,
                  "roas": 0.47,
                  "_deepnote_index_column": 1
                },
                {
                  "source": "facebook",
                  "spend": 25206.72000200001,
                  "converted": 72500,
                  "roas": 2.88,
                  "_deepnote_index_column": 2
                }
              ]
            },
            "text/plain": "     source          spend  converted  roas\n0    google  323478.170000     486400  1.50\n1      bing   36250.900000      16900  0.47\n2  facebook   25206.720002      72500  2.88",
            "text/html": "<div>\n<style scoped>\n    .dataframe tbody tr th:only-of-type {\n        vertical-align: middle;\n    }\n\n    .dataframe tbody tr th {\n        vertical-align: top;\n    }\n\n    .dataframe thead th {\n        text-align: right;\n    }\n</style>\n<table border=\"1\" class=\"dataframe\">\n  <thead>\n    <tr style=\"text-align: right;\">\n      <th></th>\n      <th>source</th>\n      <th>spend</th>\n      <th>converted</th>\n      <th>roas</th>\n    </tr>\n  </thead>\n  <tbody>\n    <tr>\n      <th>0</th>\n      <td>google</td>\n      <td>323478.170000</td>\n      <td>486400</td>\n      <td>1.50</td>\n    </tr>\n    <tr>\n      <th>1</th>\n      <td>bing</td>\n      <td>36250.900000</td>\n      <td>16900</td>\n      <td>0.47</td>\n    </tr>\n    <tr>\n      <th>2</th>\n      <td>facebook</td>\n      <td>25206.720002</td>\n      <td>72500</td>\n      <td>2.88</td>\n    </tr>\n  </tbody>\n</table>\n</div>"
          },
          "metadata": {}
        }
      ],
      "execution_count": 7,
      "block_group": "e4e1b692be3340d0bde0d8531cfad646"
    },
    {
      "cell_type": "markdown",
      "source": "> The Return on Advertising Spend (ROAS) for each of the paid source media for the giving period is as follows:\n1. Google / CPC: 1.50\n2. Facebook/display: 2.88\n3. Bing / CPC: 0.47\n\nLooking at the general picture, Facebook's strategy provides the highest return on ad spend, closely followed by Google's strategy. Bing's strategy returns less than half of the investment, indicating a possible need for strategy adjustment or reallocation of resources.",
      "metadata": {
        "is_collapsed": false,
        "formattedRanges": [],
        "deepnote_app_coordinates": {
          "h": 2,
          "w": 8,
          "x": 0,
          "y": 0
        },
        "cell_id": "eb633912f14549afa4189f64daedaad0",
        "deepnote_cell_type": "text-cell-callout"
      },
      "block_group": "e4e1b692be3340d0bde0d8531cfad646"
    },
    {
      "cell_type": "code",
      "source": "import plotly.graph_objects as go\nfrom plotly.subplots import make_subplots\n\nfig = make_subplots(rows=len(roas['source'].unique()), subplot_titles=roas['source'].unique())\n\nfor idx, source in enumerate(roas['source'].unique()):\n    current_source_data = roas[roas['source'] == source][['conversion_value', 'spend', 'date']].sort_values('date')\n\n    fig.add_trace(go.Bar(x=current_source_data['date'], y=current_source_data['conversion_value'], name='return', marker=dict(color='skyblue')), row=idx+1, col=1)\n    fig.add_trace(go.Scatter(x=current_source_data['date'], y=current_source_data['spend'], name='invested', line=dict(color='darksalmon')), row=idx+1, col=1)\n\nfig.update_layout(height=700, width=900, showlegend=False)\nfig.show()",
      "metadata": {
        "source_hash": "33625c37",
        "is_code_hidden": false,
        "execution_start": 1701627774590,
        "execution_millis": 504,
        "deepnote_app_coordinates": {
          "h": 5,
          "w": 12,
          "x": 0,
          "y": 0
        },
        "deepnote_to_be_reexecuted": false,
        "deepnote_app_is_code_hidden": true,
        "cell_id": "b66b35d15362438e87ffd22cdb631b48",
        "deepnote_cell_type": "code"
      },
      "outputs": [
        {
          "data": {
            "text/html": "<html>\n<head><meta charset=\"utf-8\" /></head>\n<body>\n    <div>            <script src=\"https://cdnjs.cloudflare.com/ajax/libs/mathjax/2.7.5/MathJax.js?config=TeX-AMS-MML_SVG\"></script><script type=\"text/javascript\">if (window.MathJax && window.MathJax.Hub && window.MathJax.Hub.Config) {window.MathJax.Hub.Config({SVG: {font: \"STIX-Web\"}});}</script>                <script type=\"text/javascript\">window.PlotlyConfig = {MathJaxConfig: 'local'};</script>\n        <script src=\"https://cdn.plot.ly/plotly-2.14.0.min.js\"></script>                <div id=\"e0d03ec4-25be-4d36-a464-137ba7c96f6b\" class=\"plotly-graph-div\" style=\"height:700px; width:900px;\"></div>            <script type=\"text/javascript\">                                    window.PLOTLYENV=window.PLOTLYENV || {};                                    if (document.getElementById(\"e0d03ec4-25be-4d36-a464-137ba7c96f6b\")) {                    Plotly.newPlot(                        \"e0d03ec4-25be-4d36-a464-137ba7c96f6b\",                        [{\"marker\":{\"color\":\"skyblue\"},\"name\":\"return\",\"x\":[\"2020-03-01\",\"2020-03-02\",\"2020-03-03\",\"2020-03-04\",\"2020-03-05\",\"2020-03-06\",\"2020-03-07\",\"2020-03-08\",\"2020-03-09\",\"2020-03-10\",\"2020-03-11\",\"2020-03-12\",\"2020-03-13\",\"2020-03-14\",\"2020-03-15\",\"2020-03-16\",\"2020-03-17\",\"2020-03-18\",\"2020-03-19\",\"2020-03-20\",\"2020-03-21\",\"2020-03-22\",\"2020-03-23\",\"2020-03-24\",\"2020-03-25\",\"2020-03-26\",\"2020-03-27\",\"2020-03-28\",\"2020-03-29\",\"2020-03-30\",\"2020-03-31\",\"2020-04-01\",\"2020-04-02\",\"2020-04-03\",\"2020-04-04\",\"2020-04-05\",\"2020-04-06\",\"2020-04-07\",\"2020-04-08\",\"2020-04-09\",\"2020-04-10\",\"2020-04-11\",\"2020-04-12\",\"2020-04-13\",\"2020-04-14\",\"2020-04-15\",\"2020-04-16\",\"2020-04-17\",\"2020-04-18\",\"2020-04-19\",\"2020-04-20\",\"2020-04-21\",\"2020-04-22\",\"2020-04-23\",\"2020-04-24\",\"2020-04-25\",\"2020-04-26\",\"2020-04-27\",\"2020-04-28\",\"2020-04-29\",\"2020-04-30\"],\"y\":[9300,9000,9300,7700,7400,6500,7800,8700,9500,8300,7900,7500,7100,6500,9000,8500,5600,5900,6400,4000,5300,6900,6300,5400,6800,6200,5600,6100,7300,6800,5700,7000,4500,7600,5400,7300,7200,7100,7000,6700,8400,7500,7600,9400,10100,9000,8000,10600,10300,12500,8800,12000,9400,11500,7500,8900,11400,12900,10700,10300,9500],\"type\":\"bar\",\"xaxis\":\"x\",\"yaxis\":\"y\"},{\"line\":{\"color\":\"darksalmon\"},\"name\":\"invested\",\"x\":[\"2020-03-01\",\"2020-03-02\",\"2020-03-03\",\"2020-03-04\",\"2020-03-05\",\"2020-03-06\",\"2020-03-07\",\"2020-03-08\",\"2020-03-09\",\"2020-03-10\",\"2020-03-11\",\"2020-03-12\",\"2020-03-13\",\"2020-03-14\",\"2020-03-15\",\"2020-03-16\",\"2020-03-17\",\"2020-03-18\",\"2020-03-19\",\"2020-03-20\",\"2020-03-21\",\"2020-03-22\",\"2020-03-23\",\"2020-03-24\",\"2020-03-25\",\"2020-03-26\",\"2020-03-27\",\"2020-03-28\",\"2020-03-29\",\"2020-03-30\",\"2020-03-31\",\"2020-04-01\",\"2020-04-02\",\"2020-04-03\",\"2020-04-04\",\"2020-04-05\",\"2020-04-06\",\"2020-04-07\",\"2020-04-08\",\"2020-04-09\",\"2020-04-10\",\"2020-04-11\",\"2020-04-12\",\"2020-04-13\",\"2020-04-14\",\"2020-04-15\",\"2020-04-16\",\"2020-04-17\",\"2020-04-18\",\"2020-04-19\",\"2020-04-20\",\"2020-04-21\",\"2020-04-22\",\"2020-04-23\",\"2020-04-24\",\"2020-04-25\",\"2020-04-26\",\"2020-04-27\",\"2020-04-28\",\"2020-04-29\",\"2020-04-30\"],\"y\":[6687.53,7014.25,6508.680000000002,6815.749999999999,6754.999999999999,6631.950000000001,6377.53,7265.28,7206.53,6736.64,6410.36,5351.79,4687.0700000000015,6282.360000000001,6580.9800000000005,5486.820000000001,4440.44,3865.77,3687.4100000000008,3002.99,3610.719999999999,4376.55,3665.62,3977.28,3920.5199999999995,3766.1500000000005,3582.779999999999,3759.8599999999997,5187.340000000001,4506.429999999999,4452.950000000001,4673.99,4460.969999999999,3865.0999999999995,3802.5299999999997,5275.39,4568.93,4966.740000000001,4489.339999999999,3869.0200000000004,4550.679999999999,4100.54,4489.1900000000005,6261.910000000001,5327.860000000001,4976.72,4740.39,5065.66,5880.9400000000005,7488.590000000001,6065.09,5817.52,5224.17,5340.110000000001,4801.17,5522.53,7427.220000000001,7411.030000000001,7684.490000000001,7210.949999999999,5518.070000000001],\"type\":\"scatter\",\"xaxis\":\"x\",\"yaxis\":\"y\"},{\"marker\":{\"color\":\"skyblue\"},\"name\":\"return\",\"x\":[\"2020-03-01\",\"2020-03-02\",\"2020-03-03\",\"2020-03-04\",\"2020-03-05\",\"2020-03-06\",\"2020-03-07\",\"2020-03-08\",\"2020-03-09\",\"2020-03-10\",\"2020-03-11\",\"2020-03-12\",\"2020-03-13\",\"2020-03-14\",\"2020-03-15\",\"2020-03-16\",\"2020-03-17\",\"2020-03-18\",\"2020-03-19\",\"2020-03-20\",\"2020-03-21\",\"2020-03-22\",\"2020-03-23\",\"2020-03-24\",\"2020-03-25\",\"2020-03-26\",\"2020-03-27\",\"2020-03-28\",\"2020-03-29\",\"2020-03-30\",\"2020-03-31\",\"2020-04-01\",\"2020-04-02\",\"2020-04-03\",\"2020-04-04\",\"2020-04-05\",\"2020-04-06\",\"2020-04-07\",\"2020-04-08\",\"2020-04-09\",\"2020-04-10\",\"2020-04-11\",\"2020-04-12\",\"2020-04-13\",\"2020-04-14\",\"2020-04-15\",\"2020-04-16\",\"2020-04-17\",\"2020-04-18\",\"2020-04-20\",\"2020-04-22\",\"2020-04-23\",\"2020-04-24\",\"2020-04-25\",\"2020-04-26\",\"2020-04-28\",\"2020-04-29\",\"2020-04-30\"],\"y\":[300,800,900,800,1100,700,1200,900,500,200,300,100,300,600,700,300,100,400,200,300,300,300,300,300,800,100,500,200,400,900,400,200,400,200,0,0,0,0,0,200,0,0,0,100,200,0,0,0,0,100,100,0,0,0,0,0,100,100],\"type\":\"bar\",\"xaxis\":\"x2\",\"yaxis\":\"y2\"},{\"line\":{\"color\":\"darksalmon\"},\"name\":\"invested\",\"x\":[\"2020-03-01\",\"2020-03-02\",\"2020-03-03\",\"2020-03-04\",\"2020-03-05\",\"2020-03-06\",\"2020-03-07\",\"2020-03-08\",\"2020-03-09\",\"2020-03-10\",\"2020-03-11\",\"2020-03-12\",\"2020-03-13\",\"2020-03-14\",\"2020-03-15\",\"2020-03-16\",\"2020-03-17\",\"2020-03-18\",\"2020-03-19\",\"2020-03-20\",\"2020-03-21\",\"2020-03-22\",\"2020-03-23\",\"2020-03-24\",\"2020-03-25\",\"2020-03-26\",\"2020-03-27\",\"2020-03-28\",\"2020-03-29\",\"2020-03-30\",\"2020-03-31\",\"2020-04-01\",\"2020-04-02\",\"2020-04-03\",\"2020-04-04\",\"2020-04-05\",\"2020-04-06\",\"2020-04-07\",\"2020-04-08\",\"2020-04-09\",\"2020-04-10\",\"2020-04-11\",\"2020-04-12\",\"2020-04-13\",\"2020-04-14\",\"2020-04-15\",\"2020-04-16\",\"2020-04-17\",\"2020-04-18\",\"2020-04-20\",\"2020-04-22\",\"2020-04-23\",\"2020-04-24\",\"2020-04-25\",\"2020-04-26\",\"2020-04-28\",\"2020-04-29\",\"2020-04-30\"],\"y\":[1160.9799999999998,1381.27,1350.3499999999997,1328.61,1307.8299999999997,1253.6200000000001,911.6299999999999,1096.7099999999998,1457.7200000000005,1451.7400000000002,1408.3199999999997,1217.37,1052.01,720.4599999999999,889.7399999999999,921.7099999999999,912.6500000000003,842.0599999999997,944.98,835.3199999999999,821.0500000000001,851.94,1100.3700000000001,1083.86,1099.7400000000002,1175.44,1000.7700000000001,808.0,1083.8400000000001,1281.69,1161.82,973.49,943.72,420.09000000000003,0.0,0.0,0.0,0.0,0.0,0.0,0.0,0.0,0.0,0.0,0.0,0.0,0.0,0.0,0.0,0.0,0.0,0.0,0.0,0.0,0.0,0.0,0.0,0.0],\"type\":\"scatter\",\"xaxis\":\"x2\",\"yaxis\":\"y2\"},{\"marker\":{\"color\":\"skyblue\"},\"name\":\"return\",\"x\":[\"2020-03-01\",\"2020-03-02\",\"2020-03-03\",\"2020-03-04\",\"2020-03-05\",\"2020-03-06\",\"2020-03-07\",\"2020-03-08\",\"2020-03-09\",\"2020-03-10\",\"2020-03-11\",\"2020-03-12\",\"2020-03-13\",\"2020-03-14\",\"2020-03-15\",\"2020-03-16\",\"2020-03-17\",\"2020-03-18\",\"2020-03-19\",\"2020-03-20\",\"2020-03-21\",\"2020-03-22\",\"2020-03-23\",\"2020-03-24\",\"2020-03-25\",\"2020-03-26\",\"2020-03-27\",\"2020-03-28\",\"2020-03-29\",\"2020-03-30\",\"2020-03-31\",\"2020-04-01\",\"2020-04-02\",\"2020-04-03\",\"2020-04-04\",\"2020-04-05\",\"2020-04-06\",\"2020-04-07\",\"2020-04-08\",\"2020-04-09\",\"2020-04-10\",\"2020-04-11\",\"2020-04-12\",\"2020-04-13\",\"2020-04-14\",\"2020-04-15\",\"2020-04-16\",\"2020-04-17\",\"2020-04-18\",\"2020-04-19\",\"2020-04-20\",\"2020-04-21\",\"2020-04-22\",\"2020-04-23\",\"2020-04-24\",\"2020-04-25\",\"2020-04-26\",\"2020-04-27\",\"2020-04-28\",\"2020-04-29\",\"2020-04-30\"],\"y\":[2200,1700,1300,1800,2100,1200,1700,3100,1800,1400,1400,1000,1100,1500,1600,1000,800,600,1000,700,900,1900,1400,1300,1300,1200,1100,3200,2200,1000,1300,1700,1300,800,600,800,1200,1200,1500,500,1500,800,900,1100,1300,500,1300,400,1300,1200,700,900,600,200,200,300,1200,500,700,700,800],\"type\":\"bar\",\"xaxis\":\"x3\",\"yaxis\":\"y3\"},{\"line\":{\"color\":\"darksalmon\"},\"name\":\"invested\",\"x\":[\"2020-03-01\",\"2020-03-02\",\"2020-03-03\",\"2020-03-04\",\"2020-03-05\",\"2020-03-06\",\"2020-03-07\",\"2020-03-08\",\"2020-03-09\",\"2020-03-10\",\"2020-03-11\",\"2020-03-12\",\"2020-03-13\",\"2020-03-14\",\"2020-03-15\",\"2020-03-16\",\"2020-03-17\",\"2020-03-18\",\"2020-03-19\",\"2020-03-20\",\"2020-03-21\",\"2020-03-22\",\"2020-03-23\",\"2020-03-24\",\"2020-03-25\",\"2020-03-26\",\"2020-03-27\",\"2020-03-28\",\"2020-03-29\",\"2020-03-30\",\"2020-03-31\",\"2020-04-01\",\"2020-04-02\",\"2020-04-03\",\"2020-04-04\",\"2020-04-05\",\"2020-04-06\",\"2020-04-07\",\"2020-04-08\",\"2020-04-09\",\"2020-04-10\",\"2020-04-11\",\"2020-04-12\",\"2020-04-13\",\"2020-04-14\",\"2020-04-15\",\"2020-04-16\",\"2020-04-17\",\"2020-04-18\",\"2020-04-19\",\"2020-04-20\",\"2020-04-21\",\"2020-04-22\",\"2020-04-23\",\"2020-04-24\",\"2020-04-25\",\"2020-04-26\",\"2020-04-27\",\"2020-04-28\",\"2020-04-29\",\"2020-04-30\"],\"y\":[822.23,524.9099999999999,531.920001,637.430001,647.25,609.6300000000001,628.580001,883.5699999999998,815.940001,662.7799990000001,561.72,649.8799999999999,522.8399999999999,548.85,817.5099999999999,513.1800000000001,527.0999989999999,469.53999999999985,498.03,285.31,369.40000000000003,374.52000000000004,300.24,427.2499999999999,466.17000000000013,413.7499999999997,568.21,620.7799990000001,715.59,430.8100009999999,542.3099999999998,532.14,213.92000000000016,266.1600000000001,290.8499999999999,219.99000000000007,189.05999999999997,270.92,295.470001,309.50999900000005,324.8399999999998,269.68999999999994,302.4299999999997,328.9000000000001,301.7199999999998,310.56000000000006,250.01000000000008,194.8400000000001,213.43,328.8399999999998,262.25000000000006,302.4799999999998,239.73,227.69000000000003,170.98999999999995,120.77000000000008,259.56,225.22,194.58,202.51,200.43],\"type\":\"scatter\",\"xaxis\":\"x3\",\"yaxis\":\"y3\"}],                        {\"template\":{\"data\":{\"histogram2dcontour\":[{\"type\":\"histogram2dcontour\",\"colorbar\":{\"outlinewidth\":0,\"ticks\":\"\"},\"colorscale\":[[0.0,\"#0d0887\"],[0.1111111111111111,\"#46039f\"],[0.2222222222222222,\"#7201a8\"],[0.3333333333333333,\"#9c179e\"],[0.4444444444444444,\"#bd3786\"],[0.5555555555555556,\"#d8576b\"],[0.6666666666666666,\"#ed7953\"],[0.7777777777777778,\"#fb9f3a\"],[0.8888888888888888,\"#fdca26\"],[1.0,\"#f0f921\"]]}],\"choropleth\":[{\"type\":\"choropleth\",\"colorbar\":{\"outlinewidth\":0,\"ticks\":\"\"}}],\"histogram2d\":[{\"type\":\"histogram2d\",\"colorbar\":{\"outlinewidth\":0,\"ticks\":\"\"},\"colorscale\":[[0.0,\"#0d0887\"],[0.1111111111111111,\"#46039f\"],[0.2222222222222222,\"#7201a8\"],[0.3333333333333333,\"#9c179e\"],[0.4444444444444444,\"#bd3786\"],[0.5555555555555556,\"#d8576b\"],[0.6666666666666666,\"#ed7953\"],[0.7777777777777778,\"#fb9f3a\"],[0.8888888888888888,\"#fdca26\"],[1.0,\"#f0f921\"]]}],\"heatmap\":[{\"type\":\"heatmap\",\"colorbar\":{\"outlinewidth\":0,\"ticks\":\"\"},\"colorscale\":[[0.0,\"#0d0887\"],[0.1111111111111111,\"#46039f\"],[0.2222222222222222,\"#7201a8\"],[0.3333333333333333,\"#9c179e\"],[0.4444444444444444,\"#bd3786\"],[0.5555555555555556,\"#d8576b\"],[0.6666666666666666,\"#ed7953\"],[0.7777777777777778,\"#fb9f3a\"],[0.8888888888888888,\"#fdca26\"],[1.0,\"#f0f921\"]]}],\"heatmapgl\":[{\"type\":\"heatmapgl\",\"colorbar\":{\"outlinewidth\":0,\"ticks\":\"\"},\"colorscale\":[[0.0,\"#0d0887\"],[0.1111111111111111,\"#46039f\"],[0.2222222222222222,\"#7201a8\"],[0.3333333333333333,\"#9c179e\"],[0.4444444444444444,\"#bd3786\"],[0.5555555555555556,\"#d8576b\"],[0.6666666666666666,\"#ed7953\"],[0.7777777777777778,\"#fb9f3a\"],[0.8888888888888888,\"#fdca26\"],[1.0,\"#f0f921\"]]}],\"contourcarpet\":[{\"type\":\"contourcarpet\",\"colorbar\":{\"outlinewidth\":0,\"ticks\":\"\"}}],\"contour\":[{\"type\":\"contour\",\"colorbar\":{\"outlinewidth\":0,\"ticks\":\"\"},\"colorscale\":[[0.0,\"#0d0887\"],[0.1111111111111111,\"#46039f\"],[0.2222222222222222,\"#7201a8\"],[0.3333333333333333,\"#9c179e\"],[0.4444444444444444,\"#bd3786\"],[0.5555555555555556,\"#d8576b\"],[0.6666666666666666,\"#ed7953\"],[0.7777777777777778,\"#fb9f3a\"],[0.8888888888888888,\"#fdca26\"],[1.0,\"#f0f921\"]]}],\"surface\":[{\"type\":\"surface\",\"colorbar\":{\"outlinewidth\":0,\"ticks\":\"\"},\"colorscale\":[[0.0,\"#0d0887\"],[0.1111111111111111,\"#46039f\"],[0.2222222222222222,\"#7201a8\"],[0.3333333333333333,\"#9c179e\"],[0.4444444444444444,\"#bd3786\"],[0.5555555555555556,\"#d8576b\"],[0.6666666666666666,\"#ed7953\"],[0.7777777777777778,\"#fb9f3a\"],[0.8888888888888888,\"#fdca26\"],[1.0,\"#f0f921\"]]}],\"mesh3d\":[{\"type\":\"mesh3d\",\"colorbar\":{\"outlinewidth\":0,\"ticks\":\"\"}}],\"scatter\":[{\"fillpattern\":{\"fillmode\":\"overlay\",\"size\":10,\"solidity\":0.2},\"type\":\"scatter\"}],\"parcoords\":[{\"type\":\"parcoords\",\"line\":{\"colorbar\":{\"outlinewidth\":0,\"ticks\":\"\"}}}],\"scatterpolargl\":[{\"type\":\"scatterpolargl\",\"marker\":{\"colorbar\":{\"outlinewidth\":0,\"ticks\":\"\"}}}],\"bar\":[{\"error_x\":{\"color\":\"#2a3f5f\"},\"error_y\":{\"color\":\"#2a3f5f\"},\"marker\":{\"line\":{\"color\":\"#E5ECF6\",\"width\":0.5},\"pattern\":{\"fillmode\":\"overlay\",\"size\":10,\"solidity\":0.2}},\"type\":\"bar\"}],\"scattergeo\":[{\"type\":\"scattergeo\",\"marker\":{\"colorbar\":{\"outlinewidth\":0,\"ticks\":\"\"}}}],\"scatterpolar\":[{\"type\":\"scatterpolar\",\"marker\":{\"colorbar\":{\"outlinewidth\":0,\"ticks\":\"\"}}}],\"histogram\":[{\"marker\":{\"pattern\":{\"fillmode\":\"overlay\",\"size\":10,\"solidity\":0.2}},\"type\":\"histogram\"}],\"scattergl\":[{\"type\":\"scattergl\",\"marker\":{\"colorbar\":{\"outlinewidth\":0,\"ticks\":\"\"}}}],\"scatter3d\":[{\"type\":\"scatter3d\",\"line\":{\"colorbar\":{\"outlinewidth\":0,\"ticks\":\"\"}},\"marker\":{\"colorbar\":{\"outlinewidth\":0,\"ticks\":\"\"}}}],\"scattermapbox\":[{\"type\":\"scattermapbox\",\"marker\":{\"colorbar\":{\"outlinewidth\":0,\"ticks\":\"\"}}}],\"scatterternary\":[{\"type\":\"scatterternary\",\"marker\":{\"colorbar\":{\"outlinewidth\":0,\"ticks\":\"\"}}}],\"scattercarpet\":[{\"type\":\"scattercarpet\",\"marker\":{\"colorbar\":{\"outlinewidth\":0,\"ticks\":\"\"}}}],\"carpet\":[{\"aaxis\":{\"endlinecolor\":\"#2a3f5f\",\"gridcolor\":\"white\",\"linecolor\":\"white\",\"minorgridcolor\":\"white\",\"startlinecolor\":\"#2a3f5f\"},\"baxis\":{\"endlinecolor\":\"#2a3f5f\",\"gridcolor\":\"white\",\"linecolor\":\"white\",\"minorgridcolor\":\"white\",\"startlinecolor\":\"#2a3f5f\"},\"type\":\"carpet\"}],\"table\":[{\"cells\":{\"fill\":{\"color\":\"#EBF0F8\"},\"line\":{\"color\":\"white\"}},\"header\":{\"fill\":{\"color\":\"#C8D4E3\"},\"line\":{\"color\":\"white\"}},\"type\":\"table\"}],\"barpolar\":[{\"marker\":{\"line\":{\"color\":\"#E5ECF6\",\"width\":0.5},\"pattern\":{\"fillmode\":\"overlay\",\"size\":10,\"solidity\":0.2}},\"type\":\"barpolar\"}],\"pie\":[{\"automargin\":true,\"type\":\"pie\"}]},\"layout\":{\"autotypenumbers\":\"strict\",\"colorway\":[\"#636efa\",\"#EF553B\",\"#00cc96\",\"#ab63fa\",\"#FFA15A\",\"#19d3f3\",\"#FF6692\",\"#B6E880\",\"#FF97FF\",\"#FECB52\"],\"font\":{\"color\":\"#2a3f5f\"},\"hovermode\":\"closest\",\"hoverlabel\":{\"align\":\"left\"},\"paper_bgcolor\":\"white\",\"plot_bgcolor\":\"#E5ECF6\",\"polar\":{\"bgcolor\":\"#E5ECF6\",\"angularaxis\":{\"gridcolor\":\"white\",\"linecolor\":\"white\",\"ticks\":\"\"},\"radialaxis\":{\"gridcolor\":\"white\",\"linecolor\":\"white\",\"ticks\":\"\"}},\"ternary\":{\"bgcolor\":\"#E5ECF6\",\"aaxis\":{\"gridcolor\":\"white\",\"linecolor\":\"white\",\"ticks\":\"\"},\"baxis\":{\"gridcolor\":\"white\",\"linecolor\":\"white\",\"ticks\":\"\"},\"caxis\":{\"gridcolor\":\"white\",\"linecolor\":\"white\",\"ticks\":\"\"}},\"coloraxis\":{\"colorbar\":{\"outlinewidth\":0,\"ticks\":\"\"}},\"colorscale\":{\"sequential\":[[0.0,\"#0d0887\"],[0.1111111111111111,\"#46039f\"],[0.2222222222222222,\"#7201a8\"],[0.3333333333333333,\"#9c179e\"],[0.4444444444444444,\"#bd3786\"],[0.5555555555555556,\"#d8576b\"],[0.6666666666666666,\"#ed7953\"],[0.7777777777777778,\"#fb9f3a\"],[0.8888888888888888,\"#fdca26\"],[1.0,\"#f0f921\"]],\"sequentialminus\":[[0.0,\"#0d0887\"],[0.1111111111111111,\"#46039f\"],[0.2222222222222222,\"#7201a8\"],[0.3333333333333333,\"#9c179e\"],[0.4444444444444444,\"#bd3786\"],[0.5555555555555556,\"#d8576b\"],[0.6666666666666666,\"#ed7953\"],[0.7777777777777778,\"#fb9f3a\"],[0.8888888888888888,\"#fdca26\"],[1.0,\"#f0f921\"]],\"diverging\":[[0,\"#8e0152\"],[0.1,\"#c51b7d\"],[0.2,\"#de77ae\"],[0.3,\"#f1b6da\"],[0.4,\"#fde0ef\"],[0.5,\"#f7f7f7\"],[0.6,\"#e6f5d0\"],[0.7,\"#b8e186\"],[0.8,\"#7fbc41\"],[0.9,\"#4d9221\"],[1,\"#276419\"]]},\"xaxis\":{\"gridcolor\":\"white\",\"linecolor\":\"white\",\"ticks\":\"\",\"title\":{\"standoff\":15},\"zerolinecolor\":\"white\",\"automargin\":true,\"zerolinewidth\":2},\"yaxis\":{\"gridcolor\":\"white\",\"linecolor\":\"white\",\"ticks\":\"\",\"title\":{\"standoff\":15},\"zerolinecolor\":\"white\",\"automargin\":true,\"zerolinewidth\":2},\"scene\":{\"xaxis\":{\"backgroundcolor\":\"#E5ECF6\",\"gridcolor\":\"white\",\"linecolor\":\"white\",\"showbackground\":true,\"ticks\":\"\",\"zerolinecolor\":\"white\",\"gridwidth\":2},\"yaxis\":{\"backgroundcolor\":\"#E5ECF6\",\"gridcolor\":\"white\",\"linecolor\":\"white\",\"showbackground\":true,\"ticks\":\"\",\"zerolinecolor\":\"white\",\"gridwidth\":2},\"zaxis\":{\"backgroundcolor\":\"#E5ECF6\",\"gridcolor\":\"white\",\"linecolor\":\"white\",\"showbackground\":true,\"ticks\":\"\",\"zerolinecolor\":\"white\",\"gridwidth\":2}},\"shapedefaults\":{\"line\":{\"color\":\"#2a3f5f\"}},\"annotationdefaults\":{\"arrowcolor\":\"#2a3f5f\",\"arrowhead\":0,\"arrowwidth\":1},\"geo\":{\"bgcolor\":\"white\",\"landcolor\":\"#E5ECF6\",\"subunitcolor\":\"white\",\"showland\":true,\"showlakes\":true,\"lakecolor\":\"white\"},\"title\":{\"x\":0.05},\"mapbox\":{\"style\":\"light\"}}},\"xaxis\":{\"anchor\":\"y\",\"domain\":[0.0,1.0]},\"yaxis\":{\"anchor\":\"x\",\"domain\":[0.7777777777777778,1.0]},\"xaxis2\":{\"anchor\":\"y2\",\"domain\":[0.0,1.0]},\"yaxis2\":{\"anchor\":\"x2\",\"domain\":[0.3888888888888889,0.6111111111111112]},\"xaxis3\":{\"anchor\":\"y3\",\"domain\":[0.0,1.0]},\"yaxis3\":{\"anchor\":\"x3\",\"domain\":[0.0,0.22222222222222224]},\"annotations\":[{\"font\":{\"size\":16},\"showarrow\":false,\"text\":\"google\",\"x\":0.5,\"xanchor\":\"center\",\"xref\":\"paper\",\"y\":1.0,\"yanchor\":\"bottom\",\"yref\":\"paper\"},{\"font\":{\"size\":16},\"showarrow\":false,\"text\":\"bing\",\"x\":0.5,\"xanchor\":\"center\",\"xref\":\"paper\",\"y\":0.6111111111111112,\"yanchor\":\"bottom\",\"yref\":\"paper\"},{\"font\":{\"size\":16},\"showarrow\":false,\"text\":\"facebook\",\"x\":0.5,\"xanchor\":\"center\",\"xref\":\"paper\",\"y\":0.22222222222222224,\"yanchor\":\"bottom\",\"yref\":\"paper\"}],\"height\":700,\"width\":900,\"showlegend\":false},                        {\"responsive\": true}                    ).then(function(){\n                            \nvar gd = document.getElementById('e0d03ec4-25be-4d36-a464-137ba7c96f6b');\nvar x = new MutationObserver(function (mutations, observer) {{\n        var display = window.getComputedStyle(gd).display;\n        if (!display || display === 'none') {{\n            console.log([gd, 'removed!']);\n            Plotly.purge(gd);\n            observer.disconnect();\n        }}\n}});\n\n// Listen for the removal of the full notebook cells\nvar notebookContainer = gd.closest('#notebook-container');\nif (notebookContainer) {{\n    x.observe(notebookContainer, {childList: true});\n}}\n\n// Listen for the clearing of the current output cell\nvar outputEl = gd.closest('.output');\nif (outputEl) {{\n    x.observe(outputEl, {childList: true});\n}}\n\n                        })                };                            </script>        </div>\n</body>\n</html>"
          },
          "metadata": {},
          "output_type": "display_data"
        }
      ],
      "execution_count": 8,
      "block_group": "c48c9a5ccc604e428a4d4feafffe4c3e"
    },
    {
      "cell_type": "markdown",
      "source": "> The monthly analysis reveals a consistent positive return from Google and Facebook channels, confirming their effectiveness in generating revenue. However, as also identified with the ROAS data, Bing does not demonstrate a favorable return on investment. It appears that the underperformance of Bing may have been recognized, leading to an adjustment in the budget. \nNotably, there is a significant reduction in investments in Bing starting from April onward. This strategic shift suggests a proactive response to the observed lower returns, aligning the budget with more effective channels and optimizing resource allocation for improved overall performance.",
      "metadata": {
        "formattedRanges": [],
        "deepnote_app_coordinates": {
          "h": 2,
          "w": 8,
          "x": 0,
          "y": 0
        },
        "cell_id": "6f2d2fae289a45c685f4696c400149a1",
        "deepnote_cell_type": "text-cell-callout"
      },
      "block_group": "c0024c3c859648d8bf5fb51798129f1f"
    },
    {
      "cell_type": "markdown",
      "source": "### Question 2\nCan we improve the budget allocation based on last month’ performance? If yes, how should we shift the budgets? What would be the estimated effect?",
      "metadata": {
        "deepnote_app_coordinates": {
          "h": 5,
          "w": 12,
          "x": 0,
          "y": 0
        },
        "cell_id": "06ef99055f3c45739c2b921a4da7facd",
        "deepnote_cell_type": "markdown"
      },
      "block_group": "6b35133e72f44c778d06b6b0df0a2bf5"
    },
    {
      "cell_type": "code",
      "source": "df_roas = _deepnote_execute_sql('WITH base AS (\\n    SELECT DISTINCT\\n        date_trunc(\\'month\\', date) AS month\\n        , source\\n        , SUM(spend)::INT AS source_budget\\n        , SUM(conversion_value)::INT AS source_revenue\\n        , (SUM(conversion_value)/SUM(spend))::DECIMAL(10,2) AS roas\\n    FROM roas \\n    GROUP BY 1,2\\n    ORDER BY source, month\\n)\\n\\n, totals AS (\\n    SELECT \\n        month\\n        , SUM(source_budget) AS total_budget\\n        , SUM(source_revenue)  AS total_revenue\\n        , SUM(roas)::DECIMAL(10,2) AS total_roas\\n    FROM base\\n    GROUP BY 1\\n)\\n\\nSELECT \\n    source\\n    , roas\\n    , source_budget\\n    , (total_budget * (roas / total_roas))::int AS proposed_budget\\n    , source_revenue\\n    , (proposed_budget * roas)::INT AS new_revenue\\n    , (new_revenue - source_revenue)::INT AS estimated_effect\\n\\nfrom base JOIN totals USING(month)\\nWHERE month = (SELECT MAX(month) FROM totals)', 'SQL_DEEPNOTE_DATAFRAME_SQL', audit_sql_comment='', sql_cache_mode='cache_disabled')\ndf_roas",
      "metadata": {
        "source_hash": "a2a3b57b",
        "execution_start": 1701631618959,
        "execution_millis": 24,
        "sql_integration_id": "deepnote-dataframe-sql",
        "deepnote_table_state": {
          "sortBy": [
            {
              "id": "month",
              "type": "desc"
            }
          ],
          "filters": [],
          "pageSize": 10,
          "pageIndex": 0
        },
        "deepnote_table_loading": false,
        "deepnote_variable_name": "df_roas",
        "deepnote_app_coordinates": {
          "h": 5,
          "w": 12,
          "x": 0,
          "y": 0
        },
        "deepnote_to_be_reexecuted": false,
        "deepnote_app_is_code_hidden": true,
        "cell_id": "2da11ef87be24867b893ca09ecbfaadd",
        "deepnote_cell_type": "sql",
        "deepnote_sql_source": "WITH base AS (\n    SELECT DISTINCT\n        date_trunc('month', date) AS month\n        , source\n        , SUM(spend)::INT AS source_budget\n        , SUM(conversion_value)::INT AS source_revenue\n        , (SUM(conversion_value)/SUM(spend))::DECIMAL(10,2) AS roas\n    FROM roas \n    GROUP BY 1,2\n    ORDER BY source, month\n)\n\n, totals AS (\n    SELECT \n        month\n        , SUM(source_budget) AS total_budget\n        , SUM(source_revenue)  AS total_revenue\n        , SUM(roas)::DECIMAL(10,2) AS total_roas\n    FROM base\n    GROUP BY 1\n)\n\nSELECT \n    source\n    , roas\n    , source_budget\n    , (total_budget * (roas / total_roas))::int AS proposed_budget\n    , source_revenue\n    , (proposed_budget * roas)::INT AS new_revenue\n    , (new_revenue - source_revenue)::INT AS estimated_effect\n\nfrom base JOIN totals USING(month)\nWHERE month = (SELECT MAX(month) FROM totals)"
      },
      "outputs": [
        {
          "data": {
            "application/vnd.deepnote.sql-output-metadata+json": {
              "status": "success_no_cache",
              "size_in_bytes": 461
            }
          },
          "metadata": {},
          "output_type": "display_data"
        },
        {
          "output_type": "execute_result",
          "execution_count": 46,
          "data": {
            "application/vnd.deepnote.dataframe.v3+json": {
              "column_count": 7,
              "row_count": 3,
              "columns": [
                {
                  "name": "source",
                  "dtype": "object",
                  "stats": {
                    "unique_count": 3,
                    "nan_count": 0,
                    "categories": [
                      {
                        "name": "bing",
                        "count": 1
                      },
                      {
                        "name": "facebook",
                        "count": 1
                      },
                      {
                        "name": "google",
                        "count": 1
                      }
                    ]
                  }
                },
                {
                  "name": "roas",
                  "dtype": "float64",
                  "stats": {
                    "unique_count": 3,
                    "nan_count": 0,
                    "min": "0.73",
                    "max": "3.41",
                    "histogram": [
                      {
                        "bin_start": 0.73,
                        "bin_end": 0.998,
                        "count": 1
                      },
                      {
                        "bin_start": 0.998,
                        "bin_end": 1.266,
                        "count": 0
                      },
                      {
                        "bin_start": 1.266,
                        "bin_end": 1.534,
                        "count": 0
                      },
                      {
                        "bin_start": 1.534,
                        "bin_end": 1.802,
                        "count": 1
                      },
                      {
                        "bin_start": 1.802,
                        "bin_end": 2.0700000000000003,
                        "count": 0
                      },
                      {
                        "bin_start": 2.0700000000000003,
                        "bin_end": 2.338,
                        "count": 0
                      },
                      {
                        "bin_start": 2.338,
                        "bin_end": 2.606,
                        "count": 0
                      },
                      {
                        "bin_start": 2.606,
                        "bin_end": 2.874,
                        "count": 0
                      },
                      {
                        "bin_start": 2.874,
                        "bin_end": 3.142,
                        "count": 0
                      },
                      {
                        "bin_start": 3.142,
                        "bin_end": 3.41,
                        "count": 1
                      }
                    ]
                  }
                },
                {
                  "name": "source_budget",
                  "dtype": "int64",
                  "stats": {
                    "unique_count": 3,
                    "nan_count": 0,
                    "min": "2337",
                    "max": "160877",
                    "histogram": [
                      {
                        "bin_start": 2337,
                        "bin_end": 18191,
                        "count": 2
                      },
                      {
                        "bin_start": 18191,
                        "bin_end": 34045,
                        "count": 0
                      },
                      {
                        "bin_start": 34045,
                        "bin_end": 49899,
                        "count": 0
                      },
                      {
                        "bin_start": 49899,
                        "bin_end": 65753,
                        "count": 0
                      },
                      {
                        "bin_start": 65753,
                        "bin_end": 81607,
                        "count": 0
                      },
                      {
                        "bin_start": 81607,
                        "bin_end": 97461,
                        "count": 0
                      },
                      {
                        "bin_start": 97461,
                        "bin_end": 113315,
                        "count": 0
                      },
                      {
                        "bin_start": 113315,
                        "bin_end": 129169,
                        "count": 0
                      },
                      {
                        "bin_start": 129169,
                        "bin_end": 145023,
                        "count": 0
                      },
                      {
                        "bin_start": 145023,
                        "bin_end": 160877,
                        "count": 1
                      }
                    ]
                  }
                },
                {
                  "name": "proposed_budget",
                  "dtype": "int64",
                  "stats": {
                    "unique_count": 3,
                    "nan_count": 0,
                    "min": "21564",
                    "max": "100729",
                    "histogram": [
                      {
                        "bin_start": 21564,
                        "bin_end": 29480.5,
                        "count": 1
                      },
                      {
                        "bin_start": 29480.5,
                        "bin_end": 37397,
                        "count": 0
                      },
                      {
                        "bin_start": 37397,
                        "bin_end": 45313.5,
                        "count": 0
                      },
                      {
                        "bin_start": 45313.5,
                        "bin_end": 53230,
                        "count": 1
                      },
                      {
                        "bin_start": 53230,
                        "bin_end": 61146.5,
                        "count": 0
                      },
                      {
                        "bin_start": 61146.5,
                        "bin_end": 69063,
                        "count": 0
                      },
                      {
                        "bin_start": 69063,
                        "bin_end": 76979.5,
                        "count": 0
                      },
                      {
                        "bin_start": 76979.5,
                        "bin_end": 84896,
                        "count": 0
                      },
                      {
                        "bin_start": 84896,
                        "bin_end": 92812.5,
                        "count": 0
                      },
                      {
                        "bin_start": 92812.5,
                        "bin_end": 100729,
                        "count": 1
                      }
                    ]
                  }
                },
                {
                  "name": "source_revenue",
                  "dtype": "int64",
                  "stats": {
                    "unique_count": 3,
                    "nan_count": 0,
                    "min": "1700",
                    "max": "266100",
                    "histogram": [
                      {
                        "bin_start": 1700,
                        "bin_end": 28140,
                        "count": 2
                      },
                      {
                        "bin_start": 28140,
                        "bin_end": 54580,
                        "count": 0
                      },
                      {
                        "bin_start": 54580,
                        "bin_end": 81020,
                        "count": 0
                      },
                      {
                        "bin_start": 81020,
                        "bin_end": 107460,
                        "count": 0
                      },
                      {
                        "bin_start": 107460,
                        "bin_end": 133900,
                        "count": 0
                      },
                      {
                        "bin_start": 133900,
                        "bin_end": 160340,
                        "count": 0
                      },
                      {
                        "bin_start": 160340,
                        "bin_end": 186780,
                        "count": 0
                      },
                      {
                        "bin_start": 186780,
                        "bin_end": 213220,
                        "count": 0
                      },
                      {
                        "bin_start": 213220,
                        "bin_end": 239660,
                        "count": 0
                      },
                      {
                        "bin_start": 239660,
                        "bin_end": 266100,
                        "count": 1
                      }
                    ]
                  }
                },
                {
                  "name": "new_revenue",
                  "dtype": "int64",
                  "stats": {
                    "unique_count": 3,
                    "nan_count": 0,
                    "min": "15742",
                    "max": "343486",
                    "histogram": [
                      {
                        "bin_start": 15742,
                        "bin_end": 48516.4,
                        "count": 1
                      },
                      {
                        "bin_start": 48516.4,
                        "bin_end": 81290.8,
                        "count": 1
                      },
                      {
                        "bin_start": 81290.8,
                        "bin_end": 114065.20000000001,
                        "count": 0
                      },
                      {
                        "bin_start": 114065.20000000001,
                        "bin_end": 146839.6,
                        "count": 0
                      },
                      {
                        "bin_start": 146839.6,
                        "bin_end": 179614,
                        "count": 0
                      },
                      {
                        "bin_start": 179614,
                        "bin_end": 212388.40000000002,
                        "count": 0
                      },
                      {
                        "bin_start": 212388.40000000002,
                        "bin_end": 245162.80000000002,
                        "count": 0
                      },
                      {
                        "bin_start": 245162.80000000002,
                        "bin_end": 277937.2,
                        "count": 0
                      },
                      {
                        "bin_start": 277937.2,
                        "bin_end": 310711.60000000003,
                        "count": 0
                      },
                      {
                        "bin_start": 310711.60000000003,
                        "bin_end": 343486,
                        "count": 1
                      }
                    ]
                  }
                },
                {
                  "name": "estimated_effect",
                  "dtype": "int64",
                  "stats": {
                    "unique_count": 3,
                    "nan_count": 0,
                    "min": "-185679",
                    "max": "316786",
                    "histogram": [
                      {
                        "bin_start": -185679,
                        "bin_end": -135432.5,
                        "count": 1
                      },
                      {
                        "bin_start": -135432.5,
                        "bin_end": -85186,
                        "count": 0
                      },
                      {
                        "bin_start": -85186,
                        "bin_end": -34939.5,
                        "count": 0
                      },
                      {
                        "bin_start": -34939.5,
                        "bin_end": 15307,
                        "count": 1
                      },
                      {
                        "bin_start": 15307,
                        "bin_end": 65553.5,
                        "count": 0
                      },
                      {
                        "bin_start": 65553.5,
                        "bin_end": 115800,
                        "count": 0
                      },
                      {
                        "bin_start": 115800,
                        "bin_end": 166046.5,
                        "count": 0
                      },
                      {
                        "bin_start": 166046.5,
                        "bin_end": 216293,
                        "count": 0
                      },
                      {
                        "bin_start": 216293,
                        "bin_end": 266539.5,
                        "count": 0
                      },
                      {
                        "bin_start": 266539.5,
                        "bin_end": 316786,
                        "count": 1
                      }
                    ]
                  }
                },
                {
                  "name": "_deepnote_index_column",
                  "dtype": "int64"
                }
              ],
              "rows": [
                {
                  "source": "bing",
                  "roas": 0.73,
                  "source_budget": 2337,
                  "proposed_budget": 21564,
                  "source_revenue": 1700,
                  "new_revenue": 15742,
                  "estimated_effect": 14042,
                  "_deepnote_index_column": 0
                },
                {
                  "source": "facebook",
                  "roas": 3.41,
                  "source_budget": 7819,
                  "proposed_budget": 100729,
                  "source_revenue": 26700,
                  "new_revenue": 343486,
                  "estimated_effect": 316786,
                  "_deepnote_index_column": 1
                },
                {
                  "source": "google",
                  "roas": 1.65,
                  "source_budget": 160877,
                  "proposed_budget": 48740,
                  "source_revenue": 266100,
                  "new_revenue": 80421,
                  "estimated_effect": -185679,
                  "_deepnote_index_column": 2
                }
              ]
            },
            "text/plain": "     source  roas  source_budget  proposed_budget  source_revenue  \\\n0      bing  0.73           2337            21564            1700   \n1  facebook  3.41           7819           100729           26700   \n2    google  1.65         160877            48740          266100   \n\n   new_revenue  estimated_effect  \n0        15742             14042  \n1       343486            316786  \n2        80421           -185679  ",
            "text/html": "<div>\n<style scoped>\n    .dataframe tbody tr th:only-of-type {\n        vertical-align: middle;\n    }\n\n    .dataframe tbody tr th {\n        vertical-align: top;\n    }\n\n    .dataframe thead th {\n        text-align: right;\n    }\n</style>\n<table border=\"1\" class=\"dataframe\">\n  <thead>\n    <tr style=\"text-align: right;\">\n      <th></th>\n      <th>source</th>\n      <th>roas</th>\n      <th>source_budget</th>\n      <th>proposed_budget</th>\n      <th>source_revenue</th>\n      <th>new_revenue</th>\n      <th>estimated_effect</th>\n    </tr>\n  </thead>\n  <tbody>\n    <tr>\n      <th>0</th>\n      <td>bing</td>\n      <td>0.73</td>\n      <td>2337</td>\n      <td>21564</td>\n      <td>1700</td>\n      <td>15742</td>\n      <td>14042</td>\n    </tr>\n    <tr>\n      <th>1</th>\n      <td>facebook</td>\n      <td>3.41</td>\n      <td>7819</td>\n      <td>100729</td>\n      <td>26700</td>\n      <td>343486</td>\n      <td>316786</td>\n    </tr>\n    <tr>\n      <th>2</th>\n      <td>google</td>\n      <td>1.65</td>\n      <td>160877</td>\n      <td>48740</td>\n      <td>266100</td>\n      <td>80421</td>\n      <td>-185679</td>\n    </tr>\n  </tbody>\n</table>\n</div>"
          },
          "metadata": {}
        }
      ],
      "execution_count": 46,
      "block_group": "bbc064e57cdf4e93a8ca057cada3e4eb"
    },
    {
      "cell_type": "markdown",
      "source": "> The proposed budget allocation based on the last month's ROAS performance suggests the following changes:\n\n1. For Bing, the proposed budget is 21,563, an increase from 2,337. This budget shift will result in an estimated effect (increase in conversion value) of approximately 14,035.\n\n2. For Facebook, the proposed budget is 100,729, an increase from 7,819. This budget shift will result in an estimated effect (increase in conversion value) of approximately 316,824.\n\n3. For Google, the proposed budget is 48,739, a decrease from 160,877. This budget shift will result in an estimated effect (decrease in conversion value) of approximately -185,026.\n\nNote that this assumes that the increase or decrease in spending will result in proportional changes in conversion value. However, in reality, factors such as market saturation, diminishing returns, and changes in consumer behavior may affect the actual results. \n\nThe proposed shifts in budget allocation aim to optimize the return on ad spend by investing more in channels with high ROAS (Facebook and Bing in this case) and less in channels with lower ROAS (Google in this case). It is important to continuously monitor the performance of these channels to ensure the effectiveness of these changes. The market and consumer behavior are dynamic and as such, the optimal budget allocation may change over time.",
      "metadata": {
        "formattedRanges": [],
        "deepnote_app_coordinates": {
          "h": 2,
          "w": 8,
          "x": 0,
          "y": 0
        },
        "cell_id": "8b09f2af666a4e66aaff5d864608d19e",
        "deepnote_cell_type": "text-cell-callout"
      },
      "block_group": "722efd866a48467a9a9b4c693995dd0f"
    },
    {
      "cell_type": "code",
      "source": "df_8 = _deepnote_execute_sql('SELECT\\n    SUM(source_revenue) AS original_revenue\\n    , SUM(new_revenue) AS simulated_revenue\\n    , SUM(source_budget) AS original_budget\\n    , SUM(proposed_budget) AS proposed_budget\\nFROM df_roas', 'SQL_DEEPNOTE_DATAFRAME_SQL', audit_sql_comment='', sql_cache_mode='cache_disabled')\ndf_8",
      "metadata": {
        "source_hash": "1f4427ea",
        "execution_start": 1701631912483,
        "execution_millis": 65,
        "sql_integration_id": "deepnote-dataframe-sql",
        "deepnote_variable_name": "df_8",
        "deepnote_app_coordinates": {
          "h": 5,
          "w": 12,
          "x": 0,
          "y": 0
        },
        "deepnote_to_be_reexecuted": false,
        "cell_id": "e83fae7e03784f7cba4248de4b627587",
        "deepnote_cell_type": "sql",
        "deepnote_sql_source": "SELECT\n    SUM(source_revenue) AS original_revenue\n    , SUM(new_revenue) AS simulated_revenue\n    , SUM(source_budget) AS original_budget\n    , SUM(proposed_budget) AS proposed_budget\nFROM df_roas"
      },
      "outputs": [
        {
          "data": {
            "application/vnd.deepnote.sql-output-metadata+json": {
              "status": "success_no_cache",
              "size_in_bytes": 160
            }
          },
          "metadata": {},
          "output_type": "display_data"
        },
        {
          "output_type": "execute_result",
          "execution_count": 47,
          "data": {
            "application/vnd.deepnote.dataframe.v3+json": {
              "column_count": 4,
              "row_count": 1,
              "columns": [
                {
                  "name": "original_revenue",
                  "dtype": "int64",
                  "stats": {
                    "unique_count": 1,
                    "nan_count": 0,
                    "min": "294500",
                    "max": "294500",
                    "histogram": [
                      {
                        "bin_start": 294499.5,
                        "bin_end": 294499.6,
                        "count": 0
                      },
                      {
                        "bin_start": 294499.6,
                        "bin_end": 294499.7,
                        "count": 0
                      },
                      {
                        "bin_start": 294499.7,
                        "bin_end": 294499.8,
                        "count": 0
                      },
                      {
                        "bin_start": 294499.8,
                        "bin_end": 294499.9,
                        "count": 0
                      },
                      {
                        "bin_start": 294499.9,
                        "bin_end": 294500,
                        "count": 0
                      },
                      {
                        "bin_start": 294500,
                        "bin_end": 294500.1,
                        "count": 1
                      },
                      {
                        "bin_start": 294500.1,
                        "bin_end": 294500.2,
                        "count": 0
                      },
                      {
                        "bin_start": 294500.2,
                        "bin_end": 294500.3,
                        "count": 0
                      },
                      {
                        "bin_start": 294500.3,
                        "bin_end": 294500.4,
                        "count": 0
                      },
                      {
                        "bin_start": 294500.4,
                        "bin_end": 294500.5,
                        "count": 0
                      }
                    ]
                  }
                },
                {
                  "name": "simulated_revenue",
                  "dtype": "int64",
                  "stats": {
                    "unique_count": 1,
                    "nan_count": 0,
                    "min": "439649",
                    "max": "439649",
                    "histogram": [
                      {
                        "bin_start": 439648.5,
                        "bin_end": 439648.6,
                        "count": 0
                      },
                      {
                        "bin_start": 439648.6,
                        "bin_end": 439648.7,
                        "count": 0
                      },
                      {
                        "bin_start": 439648.7,
                        "bin_end": 439648.8,
                        "count": 0
                      },
                      {
                        "bin_start": 439648.8,
                        "bin_end": 439648.9,
                        "count": 0
                      },
                      {
                        "bin_start": 439648.9,
                        "bin_end": 439649,
                        "count": 0
                      },
                      {
                        "bin_start": 439649,
                        "bin_end": 439649.1,
                        "count": 1
                      },
                      {
                        "bin_start": 439649.1,
                        "bin_end": 439649.2,
                        "count": 0
                      },
                      {
                        "bin_start": 439649.2,
                        "bin_end": 439649.3,
                        "count": 0
                      },
                      {
                        "bin_start": 439649.3,
                        "bin_end": 439649.4,
                        "count": 0
                      },
                      {
                        "bin_start": 439649.4,
                        "bin_end": 439649.5,
                        "count": 0
                      }
                    ]
                  }
                },
                {
                  "name": "original_budget",
                  "dtype": "int64",
                  "stats": {
                    "unique_count": 1,
                    "nan_count": 0,
                    "min": "171033",
                    "max": "171033",
                    "histogram": [
                      {
                        "bin_start": 171032.5,
                        "bin_end": 171032.6,
                        "count": 0
                      },
                      {
                        "bin_start": 171032.6,
                        "bin_end": 171032.7,
                        "count": 0
                      },
                      {
                        "bin_start": 171032.7,
                        "bin_end": 171032.8,
                        "count": 0
                      },
                      {
                        "bin_start": 171032.8,
                        "bin_end": 171032.9,
                        "count": 0
                      },
                      {
                        "bin_start": 171032.9,
                        "bin_end": 171033,
                        "count": 0
                      },
                      {
                        "bin_start": 171033,
                        "bin_end": 171033.1,
                        "count": 1
                      },
                      {
                        "bin_start": 171033.1,
                        "bin_end": 171033.2,
                        "count": 0
                      },
                      {
                        "bin_start": 171033.2,
                        "bin_end": 171033.3,
                        "count": 0
                      },
                      {
                        "bin_start": 171033.3,
                        "bin_end": 171033.4,
                        "count": 0
                      },
                      {
                        "bin_start": 171033.4,
                        "bin_end": 171033.5,
                        "count": 0
                      }
                    ]
                  }
                },
                {
                  "name": "proposed_budget",
                  "dtype": "int64",
                  "stats": {
                    "unique_count": 1,
                    "nan_count": 0,
                    "min": "171033",
                    "max": "171033",
                    "histogram": [
                      {
                        "bin_start": 171032.5,
                        "bin_end": 171032.6,
                        "count": 0
                      },
                      {
                        "bin_start": 171032.6,
                        "bin_end": 171032.7,
                        "count": 0
                      },
                      {
                        "bin_start": 171032.7,
                        "bin_end": 171032.8,
                        "count": 0
                      },
                      {
                        "bin_start": 171032.8,
                        "bin_end": 171032.9,
                        "count": 0
                      },
                      {
                        "bin_start": 171032.9,
                        "bin_end": 171033,
                        "count": 0
                      },
                      {
                        "bin_start": 171033,
                        "bin_end": 171033.1,
                        "count": 1
                      },
                      {
                        "bin_start": 171033.1,
                        "bin_end": 171033.2,
                        "count": 0
                      },
                      {
                        "bin_start": 171033.2,
                        "bin_end": 171033.3,
                        "count": 0
                      },
                      {
                        "bin_start": 171033.3,
                        "bin_end": 171033.4,
                        "count": 0
                      },
                      {
                        "bin_start": 171033.4,
                        "bin_end": 171033.5,
                        "count": 0
                      }
                    ]
                  }
                },
                {
                  "name": "_deepnote_index_column",
                  "dtype": "int64"
                }
              ],
              "rows": [
                {
                  "original_revenue": 294500,
                  "simulated_revenue": 439649,
                  "original_budget": 171033,
                  "proposed_budget": 171033,
                  "_deepnote_index_column": 0
                }
              ]
            },
            "text/plain": "   original_revenue  simulated_revenue  original_budget  proposed_budget\n0            294500             439649           171033           171033",
            "text/html": "<div>\n<style scoped>\n    .dataframe tbody tr th:only-of-type {\n        vertical-align: middle;\n    }\n\n    .dataframe tbody tr th {\n        vertical-align: top;\n    }\n\n    .dataframe thead th {\n        text-align: right;\n    }\n</style>\n<table border=\"1\" class=\"dataframe\">\n  <thead>\n    <tr style=\"text-align: right;\">\n      <th></th>\n      <th>original_revenue</th>\n      <th>simulated_revenue</th>\n      <th>original_budget</th>\n      <th>proposed_budget</th>\n    </tr>\n  </thead>\n  <tbody>\n    <tr>\n      <th>0</th>\n      <td>294500</td>\n      <td>439649</td>\n      <td>171033</td>\n      <td>171033</td>\n    </tr>\n  </tbody>\n</table>\n</div>"
          },
          "metadata": {}
        }
      ],
      "execution_count": 47,
      "block_group": "da6b94033249472585b3c653be3cabaa"
    },
    {
      "cell_type": "markdown",
      "source": "### Question 3\nBased on traffic data, is there another way how we could consider the contribution of the different channels? If yes, show how this would be done and share your insights.",
      "metadata": {
        "deepnote_app_coordinates": {
          "h": 5,
          "w": 12,
          "x": 0,
          "y": 0
        },
        "cell_id": "de81817269294e2aab890ff270545819",
        "deepnote_cell_type": "markdown"
      },
      "block_group": "6a07575967224608aec5c633c692cfd2"
    },
    {
      "cell_type": "markdown",
      "source": "To further evaluate the contribution of different channels, we could examine additional metrics apart from the simple conversion value or count. \n\n- Conversion rate: Number of conversions divided by the total number of visitors (conversions/visitors). It gives an idea of how successful the channel is in driving conversions relative to the number of users it attracts.\n- Bounce rate: Number of visitors who leave the site after viewing just one page (bounces/visits). A high bounce rate might indicate that users brought in by the channel are not finding what they expect or need on the site.\n - Time on site: Estimate of user engagement. If users from a certain channel spend more time on the site, they could be more interested in the content or offerings, and possibly more likely to convert.\n- Impression per user / Clicks per user:  These metrics can tell us, on average, how many ads a user from each source saw (impressions per user) and how many of them they clicked on (clicks per user). This can help us evaluate the user engagement for each,",
      "metadata": {
        "formattedRanges": [
          {
            "type": "marks",
            "marks": {
              "bold": true
            },
            "toCodePoint": 165,
            "fromCodePoint": 147
          },
          {
            "type": "marks",
            "marks": {
              "bold": true
            },
            "toCodePoint": 384,
            "fromCodePoint": 370
          },
          {
            "type": "marks",
            "marks": {
              "bold": true
            },
            "toCodePoint": 610,
            "fromCodePoint": 595
          },
          {
            "type": "marks",
            "marks": {
              "bold": true
            },
            "toCodePoint": 837,
            "fromCodePoint": 797
          }
        ],
        "cell_id": "28b0c4d211b746d08788649ae08c939a",
        "deepnote_cell_type": "text-cell-p"
      },
      "block_group": "bc95442dd48b4fda8d297e5eb2c250f0"
    },
    {
      "cell_type": "code",
      "source": "additional_metrics = _deepnote_execute_sql('SELECT\\n    source\\n    , sum(conversion)/sum(users) AS conversion_rate\\n    , sum(bounces)/sum(users) AS bounce_rate\\n    , sum(time_on_site)/sum(users) AS time_on_site\\n    , avg(impressions)/sum(users) impressions_per_user\\n    , avg(clicks)/sum(users) AS clicks_per_user\\n    , sum(users) AS total_users\\n    , sum(distinct_users) AS distinct_users\\n    , sum(conversion) AS conversions\\n    , sum(bounces) AS bounces\\nFROM funnel\\nGROUP BY 1\\nHAVING sum(conversion) > 0\\n', 'SQL_DEEPNOTE_DATAFRAME_SQL', audit_sql_comment='', sql_cache_mode='cache_disabled')\nadditional_metrics",
      "metadata": {
        "source_hash": "f53247e5",
        "execution_start": 1701634176771,
        "execution_millis": 81,
        "sql_integration_id": "deepnote-dataframe-sql",
        "deepnote_table_state": {
          "sortBy": [
            {
              "id": "source",
              "type": "asc"
            }
          ],
          "filters": [],
          "pageSize": 10,
          "pageIndex": 0
        },
        "deepnote_table_loading": false,
        "deepnote_variable_name": "additional_metrics",
        "deepnote_app_coordinates": {
          "h": 5,
          "w": 12,
          "x": 0,
          "y": 0
        },
        "deepnote_to_be_reexecuted": false,
        "cell_id": "23b6651c4b8545cb95bb7ddcc2a12ee9",
        "deepnote_cell_type": "sql",
        "deepnote_sql_source": "SELECT\n    source\n    , sum(conversion)/sum(users) AS conversion_rate\n    , sum(bounces)/sum(users) AS bounce_rate\n    , sum(time_on_site)/sum(users) AS time_on_site\n    , avg(impressions)/sum(users) impressions_per_user\n    , avg(clicks)/sum(users) AS clicks_per_user\n    , sum(users) AS total_users\n    , sum(distinct_users) AS distinct_users\n    , sum(conversion) AS conversions\n    , sum(bounces) AS bounces\nFROM funnel\nGROUP BY 1\nHAVING sum(conversion) > 0\n"
      },
      "outputs": [
        {
          "data": {
            "application/vnd.deepnote.sql-output-metadata+json": {
              "status": "success_no_cache",
              "size_in_bytes": 24850
            }
          },
          "metadata": {},
          "output_type": "display_data"
        },
        {
          "output_type": "execute_result",
          "execution_count": 77,
          "data": {
            "application/vnd.deepnote.dataframe.v3+json": {
              "column_count": 10,
              "row_count": 173,
              "columns": [
                {
                  "name": "source",
                  "dtype": "object",
                  "stats": {
                    "unique_count": 173,
                    "nan_count": 0,
                    "categories": [
                      {
                        "name": "(direct)",
                        "count": 1
                      },
                      {
                        "name": "1a-immobilienmarkt.de",
                        "count": 1
                      },
                      {
                        "name": "171 others",
                        "count": 171
                      }
                    ]
                  }
                },
                {
                  "name": "conversion_rate",
                  "dtype": "float64",
                  "stats": {
                    "unique_count": 88,
                    "nan_count": 0,
                    "min": "0.007874015748031496",
                    "max": "1.0",
                    "histogram": [
                      {
                        "bin_start": 0.007874015748031496,
                        "bin_end": 0.10708661417322834,
                        "count": 52
                      },
                      {
                        "bin_start": 0.10708661417322834,
                        "bin_end": 0.2062992125984252,
                        "count": 47
                      },
                      {
                        "bin_start": 0.2062992125984252,
                        "bin_end": 0.305511811023622,
                        "count": 17
                      },
                      {
                        "bin_start": 0.305511811023622,
                        "bin_end": 0.4047244094488189,
                        "count": 9
                      },
                      {
                        "bin_start": 0.4047244094488189,
                        "bin_end": 0.5039370078740157,
                        "count": 18
                      },
                      {
                        "bin_start": 0.5039370078740157,
                        "bin_end": 0.6031496062992125,
                        "count": 1
                      },
                      {
                        "bin_start": 0.6031496062992125,
                        "bin_end": 0.7023622047244095,
                        "count": 2
                      },
                      {
                        "bin_start": 0.7023622047244095,
                        "bin_end": 0.8015748031496063,
                        "count": 2
                      },
                      {
                        "bin_start": 0.8015748031496063,
                        "bin_end": 0.9007874015748031,
                        "count": 0
                      },
                      {
                        "bin_start": 0.9007874015748031,
                        "bin_end": 1,
                        "count": 25
                      }
                    ]
                  }
                },
                {
                  "name": "bounce_rate",
                  "dtype": "float64",
                  "stats": {
                    "unique_count": 79,
                    "nan_count": 0,
                    "min": "0.0",
                    "max": "0.8740157480314961",
                    "histogram": [
                      {
                        "bin_start": 0,
                        "bin_end": 0.08740157480314961,
                        "count": 113
                      },
                      {
                        "bin_start": 0.08740157480314961,
                        "bin_end": 0.17480314960629922,
                        "count": 36
                      },
                      {
                        "bin_start": 0.17480314960629922,
                        "bin_end": 0.26220472440944886,
                        "count": 13
                      },
                      {
                        "bin_start": 0.26220472440944886,
                        "bin_end": 0.34960629921259845,
                        "count": 4
                      },
                      {
                        "bin_start": 0.34960629921259845,
                        "bin_end": 0.43700787401574803,
                        "count": 3
                      },
                      {
                        "bin_start": 0.43700787401574803,
                        "bin_end": 0.5244094488188977,
                        "count": 3
                      },
                      {
                        "bin_start": 0.5244094488188977,
                        "bin_end": 0.6118110236220473,
                        "count": 0
                      },
                      {
                        "bin_start": 0.6118110236220473,
                        "bin_end": 0.6992125984251969,
                        "count": 0
                      },
                      {
                        "bin_start": 0.6992125984251969,
                        "bin_end": 0.7866141732283465,
                        "count": 0
                      },
                      {
                        "bin_start": 0.7866141732283465,
                        "bin_end": 0.8740157480314961,
                        "count": 1
                      }
                    ]
                  }
                },
                {
                  "name": "time_on_site",
                  "dtype": "float64",
                  "stats": {
                    "unique_count": 173,
                    "nan_count": 0,
                    "min": "64.625",
                    "max": "4709.0",
                    "histogram": [
                      {
                        "bin_start": 64.625,
                        "bin_end": 529.0625,
                        "count": 69
                      },
                      {
                        "bin_start": 529.0625,
                        "bin_end": 993.5,
                        "count": 67
                      },
                      {
                        "bin_start": 993.5,
                        "bin_end": 1457.9375,
                        "count": 15
                      },
                      {
                        "bin_start": 1457.9375,
                        "bin_end": 1922.375,
                        "count": 9
                      },
                      {
                        "bin_start": 1922.375,
                        "bin_end": 2386.8125,
                        "count": 5
                      },
                      {
                        "bin_start": 2386.8125,
                        "bin_end": 2851.25,
                        "count": 2
                      },
                      {
                        "bin_start": 2851.25,
                        "bin_end": 3315.6875,
                        "count": 3
                      },
                      {
                        "bin_start": 3315.6875,
                        "bin_end": 3780.125,
                        "count": 1
                      },
                      {
                        "bin_start": 3780.125,
                        "bin_end": 4244.5625,
                        "count": 1
                      },
                      {
                        "bin_start": 4244.5625,
                        "bin_end": 4709,
                        "count": 1
                      }
                    ]
                  }
                },
                {
                  "name": "impressions_per_user",
                  "dtype": "float64",
                  "stats": {
                    "unique_count": 4,
                    "nan_count": 0,
                    "min": "0.0",
                    "max": "51.65277777777778",
                    "histogram": [
                      {
                        "bin_start": 0,
                        "bin_end": 5.165277777777778,
                        "count": 172
                      },
                      {
                        "bin_start": 5.165277777777778,
                        "bin_end": 10.330555555555556,
                        "count": 0
                      },
                      {
                        "bin_start": 10.330555555555556,
                        "bin_end": 15.495833333333334,
                        "count": 0
                      },
                      {
                        "bin_start": 15.495833333333334,
                        "bin_end": 20.66111111111111,
                        "count": 0
                      },
                      {
                        "bin_start": 20.66111111111111,
                        "bin_end": 25.82638888888889,
                        "count": 0
                      },
                      {
                        "bin_start": 25.82638888888889,
                        "bin_end": 30.991666666666667,
                        "count": 0
                      },
                      {
                        "bin_start": 30.991666666666667,
                        "bin_end": 36.15694444444445,
                        "count": 0
                      },
                      {
                        "bin_start": 36.15694444444445,
                        "bin_end": 41.32222222222222,
                        "count": 0
                      },
                      {
                        "bin_start": 41.32222222222222,
                        "bin_end": 46.4875,
                        "count": 0
                      },
                      {
                        "bin_start": 46.4875,
                        "bin_end": 51.65277777777778,
                        "count": 1
                      }
                    ]
                  }
                },
                {
                  "name": "clicks_per_user",
                  "dtype": "float64",
                  "stats": {
                    "unique_count": 4,
                    "nan_count": 0,
                    "min": "0.0",
                    "max": "0.8337673057529122",
                    "histogram": [
                      {
                        "bin_start": 0,
                        "bin_end": 0.08337673057529123,
                        "count": 170
                      },
                      {
                        "bin_start": 0.08337673057529123,
                        "bin_end": 0.16675346115058245,
                        "count": 0
                      },
                      {
                        "bin_start": 0.16675346115058245,
                        "bin_end": 0.2501301917258737,
                        "count": 0
                      },
                      {
                        "bin_start": 0.2501301917258737,
                        "bin_end": 0.3335069223011649,
                        "count": 0
                      },
                      {
                        "bin_start": 0.3335069223011649,
                        "bin_end": 0.4168836528764561,
                        "count": 1
                      },
                      {
                        "bin_start": 0.4168836528764561,
                        "bin_end": 0.5002603834517474,
                        "count": 0
                      },
                      {
                        "bin_start": 0.5002603834517474,
                        "bin_end": 0.5836371140270386,
                        "count": 0
                      },
                      {
                        "bin_start": 0.5836371140270386,
                        "bin_end": 0.6670138446023298,
                        "count": 0
                      },
                      {
                        "bin_start": 0.6670138446023298,
                        "bin_end": 0.7503905751776211,
                        "count": 0
                      },
                      {
                        "bin_start": 0.7503905751776211,
                        "bin_end": 0.8337673057529122,
                        "count": 2
                      }
                    ]
                  }
                },
                {
                  "name": "total_users",
                  "dtype": "int64",
                  "stats": {
                    "unique_count": 82,
                    "nan_count": 0,
                    "min": "1",
                    "max": "63494",
                    "histogram": [
                      {
                        "bin_start": 1,
                        "bin_end": 6350.3,
                        "count": 169
                      },
                      {
                        "bin_start": 6350.3,
                        "bin_end": 12699.6,
                        "count": 1
                      },
                      {
                        "bin_start": 12699.6,
                        "bin_end": 19048.9,
                        "count": 1
                      },
                      {
                        "bin_start": 19048.9,
                        "bin_end": 25398.2,
                        "count": 0
                      },
                      {
                        "bin_start": 25398.2,
                        "bin_end": 31747.5,
                        "count": 1
                      },
                      {
                        "bin_start": 31747.5,
                        "bin_end": 38096.8,
                        "count": 0
                      },
                      {
                        "bin_start": 38096.8,
                        "bin_end": 44446.1,
                        "count": 0
                      },
                      {
                        "bin_start": 44446.1,
                        "bin_end": 50795.4,
                        "count": 0
                      },
                      {
                        "bin_start": 50795.4,
                        "bin_end": 57144.700000000004,
                        "count": 0
                      },
                      {
                        "bin_start": 57144.700000000004,
                        "bin_end": 63494,
                        "count": 1
                      }
                    ]
                  }
                },
                {
                  "name": "distinct_users",
                  "dtype": "int64",
                  "stats": {
                    "unique_count": 74,
                    "nan_count": 0,
                    "min": "1",
                    "max": "42203",
                    "histogram": [
                      {
                        "bin_start": 1,
                        "bin_end": 4221.2,
                        "count": 169
                      },
                      {
                        "bin_start": 4221.2,
                        "bin_end": 8441.4,
                        "count": 1
                      },
                      {
                        "bin_start": 8441.4,
                        "bin_end": 12661.599999999999,
                        "count": 1
                      },
                      {
                        "bin_start": 12661.599999999999,
                        "bin_end": 16881.8,
                        "count": 1
                      },
                      {
                        "bin_start": 16881.8,
                        "bin_end": 21102,
                        "count": 0
                      },
                      {
                        "bin_start": 21102,
                        "bin_end": 25322.199999999997,
                        "count": 0
                      },
                      {
                        "bin_start": 25322.199999999997,
                        "bin_end": 29542.399999999998,
                        "count": 0
                      },
                      {
                        "bin_start": 29542.399999999998,
                        "bin_end": 33762.6,
                        "count": 0
                      },
                      {
                        "bin_start": 33762.6,
                        "bin_end": 37982.799999999996,
                        "count": 0
                      },
                      {
                        "bin_start": 37982.799999999996,
                        "bin_end": 42203,
                        "count": 1
                      }
                    ]
                  }
                },
                {
                  "name": "conversions",
                  "dtype": "int64",
                  "stats": {
                    "unique_count": 40,
                    "nan_count": 0,
                    "min": "1",
                    "max": "11179",
                    "histogram": [
                      {
                        "bin_start": 1,
                        "bin_end": 1118.8,
                        "count": 169
                      },
                      {
                        "bin_start": 1118.8,
                        "bin_end": 2236.6,
                        "count": 2
                      },
                      {
                        "bin_start": 2236.6,
                        "bin_end": 3354.3999999999996,
                        "count": 0
                      },
                      {
                        "bin_start": 3354.3999999999996,
                        "bin_end": 4472.2,
                        "count": 0
                      },
                      {
                        "bin_start": 4472.2,
                        "bin_end": 5590,
                        "count": 1
                      },
                      {
                        "bin_start": 5590,
                        "bin_end": 6707.799999999999,
                        "count": 0
                      },
                      {
                        "bin_start": 6707.799999999999,
                        "bin_end": 7825.599999999999,
                        "count": 0
                      },
                      {
                        "bin_start": 7825.599999999999,
                        "bin_end": 8943.4,
                        "count": 0
                      },
                      {
                        "bin_start": 8943.4,
                        "bin_end": 10061.199999999999,
                        "count": 0
                      },
                      {
                        "bin_start": 10061.199999999999,
                        "bin_end": 11179,
                        "count": 1
                      }
                    ]
                  }
                },
                {
                  "name": "bounces",
                  "dtype": "float64",
                  "stats": {
                    "unique_count": 40,
                    "nan_count": 0,
                    "min": "0.0",
                    "max": "3689.0",
                    "histogram": [
                      {
                        "bin_start": 0,
                        "bin_end": 368.9,
                        "count": 169
                      },
                      {
                        "bin_start": 368.9,
                        "bin_end": 737.8,
                        "count": 1
                      },
                      {
                        "bin_start": 737.8,
                        "bin_end": 1106.6999999999998,
                        "count": 0
                      },
                      {
                        "bin_start": 1106.6999999999998,
                        "bin_end": 1475.6,
                        "count": 0
                      },
                      {
                        "bin_start": 1475.6,
                        "bin_end": 1844.5,
                        "count": 0
                      },
                      {
                        "bin_start": 1844.5,
                        "bin_end": 2213.3999999999996,
                        "count": 0
                      },
                      {
                        "bin_start": 2213.3999999999996,
                        "bin_end": 2582.2999999999997,
                        "count": 1
                      },
                      {
                        "bin_start": 2582.2999999999997,
                        "bin_end": 2951.2,
                        "count": 0
                      },
                      {
                        "bin_start": 2951.2,
                        "bin_end": 3320.1,
                        "count": 0
                      },
                      {
                        "bin_start": 3320.1,
                        "bin_end": 3689,
                        "count": 2
                      }
                    ]
                  }
                },
                {
                  "name": "_deepnote_index_column",
                  "dtype": "int64"
                }
              ],
              "rows": [
                {
                  "source": "(direct)",
                  "conversion_rate": 0.18037412477792872,
                  "bounce_rate": 0.06416553453861427,
                  "time_on_site": 892.1336607796007,
                  "impressions_per_user": 0,
                  "clicks_per_user": 0,
                  "total_users": 9569,
                  "distinct_users": 6659,
                  "conversions": 1726,
                  "bounces": 614,
                  "_deepnote_index_column": 7
                },
                {
                  "source": "1a-immobilienmarkt.de",
                  "conversion_rate": 0.11428571428571428,
                  "bounce_rate": 0.17142857142857143,
                  "time_on_site": 400.3142857142857,
                  "impressions_per_user": 0,
                  "clicks_per_user": 0,
                  "total_users": 35,
                  "distinct_users": 31,
                  "conversions": 4,
                  "bounces": 6,
                  "_deepnote_index_column": 44
                },
                {
                  "source": "FAZ",
                  "conversion_rate": 0.2222222222222222,
                  "bounce_rate": 0.1111111111111111,
                  "time_on_site": 430.55555555555554,
                  "impressions_per_user": 0,
                  "clicks_per_user": 0,
                  "total_users": 9,
                  "distinct_users": 9,
                  "conversions": 2,
                  "bounces": 1,
                  "_deepnote_index_column": 112
                },
                {
                  "source": "Lifull-connect",
                  "conversion_rate": 0.07089947089947089,
                  "bounce_rate": 0.11957671957671957,
                  "time_on_site": 442.24973544973545,
                  "impressions_per_user": 0,
                  "clicks_per_user": 0,
                  "total_users": 945,
                  "distinct_users": 703,
                  "conversions": 67,
                  "bounces": 113,
                  "_deepnote_index_column": 13
                },
                {
                  "source": "abg.de",
                  "conversion_rate": 1,
                  "bounce_rate": 0,
                  "time_on_site": 606,
                  "impressions_per_user": 0,
                  "clicks_per_user": 0,
                  "total_users": 1,
                  "distinct_users": 1,
                  "conversions": 1,
                  "bounces": 0,
                  "_deepnote_index_column": 171
                },
                {
                  "source": "accounts.google.com",
                  "conversion_rate": 0.125,
                  "bounce_rate": 0.125,
                  "time_on_site": 1000.875,
                  "impressions_per_user": 0,
                  "clicks_per_user": 0,
                  "total_users": 8,
                  "distinct_users": 4,
                  "conversions": 1,
                  "bounces": 1,
                  "_deepnote_index_column": 46
                },
                {
                  "source": "adcell",
                  "conversion_rate": 0.03541315345699832,
                  "bounce_rate": 0.19392917369308602,
                  "time_on_site": 470.858347386172,
                  "impressions_per_user": 0,
                  "clicks_per_user": 0,
                  "total_users": 593,
                  "distinct_users": 168,
                  "conversions": 21,
                  "bounces": 115,
                  "_deepnote_index_column": 17
                },
                {
                  "source": "adfs.contiwan.com",
                  "conversion_rate": 0.42857142857142855,
                  "bounce_rate": 0,
                  "time_on_site": 513.2857142857143,
                  "impressions_per_user": 0,
                  "clicks_per_user": 0,
                  "total_users": 7,
                  "distinct_users": 7,
                  "conversions": 3,
                  "bounces": 0,
                  "_deepnote_index_column": 118
                },
                {
                  "source": "ahoi-immobilien.com",
                  "conversion_rate": 0.14285714285714285,
                  "bounce_rate": 0,
                  "time_on_site": 586.2857142857143,
                  "impressions_per_user": 0,
                  "clicks_per_user": 0,
                  "total_users": 7,
                  "distinct_users": 3,
                  "conversions": 1,
                  "bounces": 0,
                  "_deepnote_index_column": 143
                },
                {
                  "source": "am-fluss.deutsche-wohnwerte.de",
                  "conversion_rate": 0.5,
                  "bounce_rate": 0,
                  "time_on_site": 1502,
                  "impressions_per_user": 0,
                  "clicks_per_user": 0,
                  "total_users": 2,
                  "distinct_users": 2,
                  "conversions": 1,
                  "bounces": 0,
                  "_deepnote_index_column": 132
                }
              ]
            },
            "text/plain": "                      source  conversion_rate  bounce_rate  time_on_site  \\\n0                     google         0.176064     0.058100    740.664094   \n1                       bing         0.193630     0.043069    959.899023   \n2                   outbrain         0.037363     0.182418    364.824176   \n3                   facebook         0.728614     0.057030    413.582104   \n4                    android         0.088032     0.236400    254.655786   \n..                       ...              ...          ...           ...   \n168              euroweb.net         1.000000     0.000000   3231.000000   \n169  ruhrgrund-immobilien.de         0.166667     0.000000    581.666667   \n170             zasobygwp.pl         0.142857     0.000000    116.571429   \n171                   abg.de         1.000000     0.000000    606.000000   \n172             mobile.ok.ru         0.250000     0.000000   1078.500000   \n\n     impressions_per_user  clicks_per_user  total_users  distinct_users  \\\n0                1.404023         0.833767        63494           42203   \n1                2.515160         0.815725         2763            2013   \n2                0.000000         0.000000          455             419   \n3               51.652778         0.377591         1017             921   \n4                0.000000         0.000000         1011             741   \n..                    ...              ...          ...             ...   \n168              0.000000         0.000000            1               1   \n169              0.000000         0.000000           12               8   \n170              0.000000         0.000000            7               5   \n171              0.000000         0.000000            1               1   \n172              0.000000         0.000000            4               2   \n\n     conversions  bounces  \n0          11179   3689.0  \n1            535    119.0  \n2             17     83.0  \n3            741     58.0  \n4             89    239.0  \n..           ...      ...  \n168            1      0.0  \n169            2      0.0  \n170            1      0.0  \n171            1      0.0  \n172            1      0.0  \n\n[173 rows x 10 columns]",
            "text/html": "<div>\n<style scoped>\n    .dataframe tbody tr th:only-of-type {\n        vertical-align: middle;\n    }\n\n    .dataframe tbody tr th {\n        vertical-align: top;\n    }\n\n    .dataframe thead th {\n        text-align: right;\n    }\n</style>\n<table border=\"1\" class=\"dataframe\">\n  <thead>\n    <tr style=\"text-align: right;\">\n      <th></th>\n      <th>source</th>\n      <th>conversion_rate</th>\n      <th>bounce_rate</th>\n      <th>time_on_site</th>\n      <th>impressions_per_user</th>\n      <th>clicks_per_user</th>\n      <th>total_users</th>\n      <th>distinct_users</th>\n      <th>conversions</th>\n      <th>bounces</th>\n    </tr>\n  </thead>\n  <tbody>\n    <tr>\n      <th>0</th>\n      <td>google</td>\n      <td>0.176064</td>\n      <td>0.058100</td>\n      <td>740.664094</td>\n      <td>1.404023</td>\n      <td>0.833767</td>\n      <td>63494</td>\n      <td>42203</td>\n      <td>11179</td>\n      <td>3689.0</td>\n    </tr>\n    <tr>\n      <th>1</th>\n      <td>bing</td>\n      <td>0.193630</td>\n      <td>0.043069</td>\n      <td>959.899023</td>\n      <td>2.515160</td>\n      <td>0.815725</td>\n      <td>2763</td>\n      <td>2013</td>\n      <td>535</td>\n      <td>119.0</td>\n    </tr>\n    <tr>\n      <th>2</th>\n      <td>outbrain</td>\n      <td>0.037363</td>\n      <td>0.182418</td>\n      <td>364.824176</td>\n      <td>0.000000</td>\n      <td>0.000000</td>\n      <td>455</td>\n      <td>419</td>\n      <td>17</td>\n      <td>83.0</td>\n    </tr>\n    <tr>\n      <th>3</th>\n      <td>facebook</td>\n      <td>0.728614</td>\n      <td>0.057030</td>\n      <td>413.582104</td>\n      <td>51.652778</td>\n      <td>0.377591</td>\n      <td>1017</td>\n      <td>921</td>\n      <td>741</td>\n      <td>58.0</td>\n    </tr>\n    <tr>\n      <th>4</th>\n      <td>android</td>\n      <td>0.088032</td>\n      <td>0.236400</td>\n      <td>254.655786</td>\n      <td>0.000000</td>\n      <td>0.000000</td>\n      <td>1011</td>\n      <td>741</td>\n      <td>89</td>\n      <td>239.0</td>\n    </tr>\n    <tr>\n      <th>...</th>\n      <td>...</td>\n      <td>...</td>\n      <td>...</td>\n      <td>...</td>\n      <td>...</td>\n      <td>...</td>\n      <td>...</td>\n      <td>...</td>\n      <td>...</td>\n      <td>...</td>\n    </tr>\n    <tr>\n      <th>168</th>\n      <td>euroweb.net</td>\n      <td>1.000000</td>\n      <td>0.000000</td>\n      <td>3231.000000</td>\n      <td>0.000000</td>\n      <td>0.000000</td>\n      <td>1</td>\n      <td>1</td>\n      <td>1</td>\n      <td>0.0</td>\n    </tr>\n    <tr>\n      <th>169</th>\n      <td>ruhrgrund-immobilien.de</td>\n      <td>0.166667</td>\n      <td>0.000000</td>\n      <td>581.666667</td>\n      <td>0.000000</td>\n      <td>0.000000</td>\n      <td>12</td>\n      <td>8</td>\n      <td>2</td>\n      <td>0.0</td>\n    </tr>\n    <tr>\n      <th>170</th>\n      <td>zasobygwp.pl</td>\n      <td>0.142857</td>\n      <td>0.000000</td>\n      <td>116.571429</td>\n      <td>0.000000</td>\n      <td>0.000000</td>\n      <td>7</td>\n      <td>5</td>\n      <td>1</td>\n      <td>0.0</td>\n    </tr>\n    <tr>\n      <th>171</th>\n      <td>abg.de</td>\n      <td>1.000000</td>\n      <td>0.000000</td>\n      <td>606.000000</td>\n      <td>0.000000</td>\n      <td>0.000000</td>\n      <td>1</td>\n      <td>1</td>\n      <td>1</td>\n      <td>0.0</td>\n    </tr>\n    <tr>\n      <th>172</th>\n      <td>mobile.ok.ru</td>\n      <td>0.250000</td>\n      <td>0.000000</td>\n      <td>1078.500000</td>\n      <td>0.000000</td>\n      <td>0.000000</td>\n      <td>4</td>\n      <td>2</td>\n      <td>1</td>\n      <td>0.0</td>\n    </tr>\n  </tbody>\n</table>\n<p>173 rows × 10 columns</p>\n</div>"
          },
          "metadata": {}
        }
      ],
      "execution_count": 77,
      "block_group": "d89cddeba8ab45558f96502556d266d1"
    },
    {
      "cell_type": "markdown",
      "source": "The calculated data shows the average number of impressions and clicks per user for different sources. A higher 'impressions_per_user' number means that a user from that source tends to see more ads, while a higher 'clicks_per_user' number means a user from that source tends to click on more ads. However, it appears that for many sources the average impressions and clicks per user are quite low, possibly due to a high number of users but low ad exposure or engagement.\nWhile we have focused on traffic data for this analysis and in answering the previous questions, we could extend this technique to different aspects of the business such as customer segmentation, product performance, and regional performance, among others. This will provide a more comprehensive picture of the business's performance and allow for more effective decision-making.",
      "metadata": {
        "formattedRanges": [],
        "cell_id": "e788924344f54b7cbcc1d3bfaf8b070e",
        "deepnote_cell_type": "text-cell-p"
      },
      "block_group": "34985f6204ed4ff6bbccf88a4f369530"
    },
    {
      "cell_type": "markdown",
      "source": "> build a correlation matrix from additional_metrics ",
      "metadata": {
        "cell_id": "fdf9dbca57f44dfeb561cd96b74e9403",
        "deepnote_cell_type": "text-cell-callout"
      },
      "block_group": "1b88fff1a5014ade9a5b72486e4abaf7"
    },
    {
      "cell_type": "code",
      "source": "corr",
      "metadata": {
        "source_hash": "a1dec557",
        "execution_start": 1701634418190,
        "execution_millis": 12,
        "deepnote_app_coordinates": {
          "h": 5,
          "w": 12,
          "x": 0,
          "y": 0
        },
        "deepnote_to_be_reexecuted": false,
        "cell_id": "2fca54347938403bb3c56df8408a9a84",
        "deepnote_cell_type": "code"
      },
      "outputs": [
        {
          "output_type": "execute_result",
          "execution_count": 82,
          "data": {
            "application/vnd.deepnote.dataframe.v3+json": {
              "column_count": 9,
              "row_count": 9,
              "columns": [
                {
                  "name": "conversion_rate",
                  "dtype": "float64",
                  "stats": {
                    "unique_count": 9,
                    "nan_count": 0,
                    "min": "-0.13816808498754968",
                    "max": "1.0",
                    "histogram": [
                      {
                        "bin_start": -0.13816808498754968,
                        "bin_end": -0.024351276488794704,
                        "count": 1
                      },
                      {
                        "bin_start": -0.024351276488794704,
                        "bin_end": 0.08946553200996027,
                        "count": 5
                      },
                      {
                        "bin_start": 0.08946553200996027,
                        "bin_end": 0.20328234050871524,
                        "count": 1
                      },
                      {
                        "bin_start": 0.20328234050871524,
                        "bin_end": 0.3170991490074702,
                        "count": 1
                      },
                      {
                        "bin_start": 0.3170991490074702,
                        "bin_end": 0.4309159575062252,
                        "count": 0
                      },
                      {
                        "bin_start": 0.4309159575062252,
                        "bin_end": 0.5447327660049801,
                        "count": 0
                      },
                      {
                        "bin_start": 0.5447327660049801,
                        "bin_end": 0.6585495745037351,
                        "count": 0
                      },
                      {
                        "bin_start": 0.6585495745037351,
                        "bin_end": 0.77236638300249,
                        "count": 0
                      },
                      {
                        "bin_start": 0.77236638300249,
                        "bin_end": 0.886183191501245,
                        "count": 0
                      },
                      {
                        "bin_start": 0.886183191501245,
                        "bin_end": 1,
                        "count": 1
                      }
                    ]
                  }
                },
                {
                  "name": "bounce_rate",
                  "dtype": "float64",
                  "stats": {
                    "unique_count": 9,
                    "nan_count": 0,
                    "min": "-0.22133792038324865",
                    "max": "1.0",
                    "histogram": [
                      {
                        "bin_start": -0.22133792038324865,
                        "bin_end": -0.09920412834492379,
                        "count": 2
                      },
                      {
                        "bin_start": -0.09920412834492379,
                        "bin_end": 0.022929663693401076,
                        "count": 6
                      },
                      {
                        "bin_start": 0.022929663693401076,
                        "bin_end": 0.14506345573172594,
                        "count": 0
                      },
                      {
                        "bin_start": 0.14506345573172594,
                        "bin_end": 0.2671972477700508,
                        "count": 0
                      },
                      {
                        "bin_start": 0.2671972477700508,
                        "bin_end": 0.3893310398083757,
                        "count": 0
                      },
                      {
                        "bin_start": 0.3893310398083757,
                        "bin_end": 0.5114648318467006,
                        "count": 0
                      },
                      {
                        "bin_start": 0.5114648318467006,
                        "bin_end": 0.6335986238850254,
                        "count": 0
                      },
                      {
                        "bin_start": 0.6335986238850254,
                        "bin_end": 0.7557324159233503,
                        "count": 0
                      },
                      {
                        "bin_start": 0.7557324159233503,
                        "bin_end": 0.8778662079616752,
                        "count": 0
                      },
                      {
                        "bin_start": 0.8778662079616752,
                        "bin_end": 1,
                        "count": 1
                      }
                    ]
                  }
                },
                {
                  "name": "time_on_site",
                  "dtype": "float64",
                  "stats": {
                    "unique_count": 9,
                    "nan_count": 0,
                    "min": "-0.22133792038324865",
                    "max": "1.0",
                    "histogram": [
                      {
                        "bin_start": -0.22133792038324865,
                        "bin_end": -0.09920412834492379,
                        "count": 1
                      },
                      {
                        "bin_start": -0.09920412834492379,
                        "bin_end": 0.022929663693401076,
                        "count": 6
                      },
                      {
                        "bin_start": 0.022929663693401076,
                        "bin_end": 0.14506345573172594,
                        "count": 0
                      },
                      {
                        "bin_start": 0.14506345573172594,
                        "bin_end": 0.2671972477700508,
                        "count": 0
                      },
                      {
                        "bin_start": 0.2671972477700508,
                        "bin_end": 0.3893310398083757,
                        "count": 1
                      },
                      {
                        "bin_start": 0.3893310398083757,
                        "bin_end": 0.5114648318467006,
                        "count": 0
                      },
                      {
                        "bin_start": 0.5114648318467006,
                        "bin_end": 0.6335986238850254,
                        "count": 0
                      },
                      {
                        "bin_start": 0.6335986238850254,
                        "bin_end": 0.7557324159233503,
                        "count": 0
                      },
                      {
                        "bin_start": 0.7557324159233503,
                        "bin_end": 0.8778662079616752,
                        "count": 0
                      },
                      {
                        "bin_start": 0.8778662079616752,
                        "bin_end": 1,
                        "count": 1
                      }
                    ]
                  }
                },
                {
                  "name": "impressions_per_user",
                  "dtype": "float64",
                  "stats": {
                    "unique_count": 9,
                    "nan_count": 0,
                    "min": "-0.014130954283799442",
                    "max": "1.0",
                    "histogram": [
                      {
                        "bin_start": -0.014130954283799442,
                        "bin_end": 0.08728214114458051,
                        "count": 6
                      },
                      {
                        "bin_start": 0.08728214114458051,
                        "bin_end": 0.18869523657296047,
                        "count": 1
                      },
                      {
                        "bin_start": 0.18869523657296047,
                        "bin_end": 0.2901083320013404,
                        "count": 0
                      },
                      {
                        "bin_start": 0.2901083320013404,
                        "bin_end": 0.39152142742972035,
                        "count": 1
                      },
                      {
                        "bin_start": 0.39152142742972035,
                        "bin_end": 0.4929345228581003,
                        "count": 0
                      },
                      {
                        "bin_start": 0.4929345228581003,
                        "bin_end": 0.5943476182864803,
                        "count": 0
                      },
                      {
                        "bin_start": 0.5943476182864803,
                        "bin_end": 0.6957607137148603,
                        "count": 0
                      },
                      {
                        "bin_start": 0.6957607137148603,
                        "bin_end": 0.7971738091432402,
                        "count": 0
                      },
                      {
                        "bin_start": 0.7971738091432402,
                        "bin_end": 0.8985869045716202,
                        "count": 0
                      },
                      {
                        "bin_start": 0.8985869045716202,
                        "bin_end": 1,
                        "count": 1
                      }
                    ]
                  }
                },
                {
                  "name": "clicks_per_user",
                  "dtype": "float64",
                  "stats": {
                    "unique_count": 9,
                    "nan_count": 0,
                    "min": "-0.018364413101035176",
                    "max": "1.0",
                    "histogram": [
                      {
                        "bin_start": -0.018364413101035176,
                        "bin_end": 0.08347202820906835,
                        "count": 3
                      },
                      {
                        "bin_start": 0.08347202820906835,
                        "bin_end": 0.18530846951917188,
                        "count": 0
                      },
                      {
                        "bin_start": 0.18530846951917188,
                        "bin_end": 0.2871449108292754,
                        "count": 0
                      },
                      {
                        "bin_start": 0.2871449108292754,
                        "bin_end": 0.3889813521393789,
                        "count": 1
                      },
                      {
                        "bin_start": 0.3889813521393789,
                        "bin_end": 0.4908177934494824,
                        "count": 1
                      },
                      {
                        "bin_start": 0.4908177934494824,
                        "bin_end": 0.592654234759586,
                        "count": 0
                      },
                      {
                        "bin_start": 0.592654234759586,
                        "bin_end": 0.6944906760696895,
                        "count": 3
                      },
                      {
                        "bin_start": 0.6944906760696895,
                        "bin_end": 0.796327117379793,
                        "count": 0
                      },
                      {
                        "bin_start": 0.796327117379793,
                        "bin_end": 0.8981635586898965,
                        "count": 0
                      },
                      {
                        "bin_start": 0.8981635586898965,
                        "bin_end": 1,
                        "count": 1
                      }
                    ]
                  }
                },
                {
                  "name": "total_users",
                  "dtype": "float64",
                  "stats": {
                    "unique_count": 9,
                    "nan_count": 0,
                    "min": "-0.004622155595669835",
                    "max": "1.0",
                    "histogram": [
                      {
                        "bin_start": -0.004622155595669835,
                        "bin_end": 0.09584005996389715,
                        "count": 4
                      },
                      {
                        "bin_start": 0.09584005996389715,
                        "bin_end": 0.19630227552346413,
                        "count": 0
                      },
                      {
                        "bin_start": 0.19630227552346413,
                        "bin_end": 0.29676449108303116,
                        "count": 0
                      },
                      {
                        "bin_start": 0.29676449108303116,
                        "bin_end": 0.3972267066425981,
                        "count": 0
                      },
                      {
                        "bin_start": 0.3972267066425981,
                        "bin_end": 0.4976889222021651,
                        "count": 0
                      },
                      {
                        "bin_start": 0.4976889222021651,
                        "bin_end": 0.5981511377617321,
                        "count": 0
                      },
                      {
                        "bin_start": 0.5981511377617321,
                        "bin_end": 0.698613353321299,
                        "count": 1
                      },
                      {
                        "bin_start": 0.698613353321299,
                        "bin_end": 0.7990755688808661,
                        "count": 0
                      },
                      {
                        "bin_start": 0.7990755688808661,
                        "bin_end": 0.8995377844404331,
                        "count": 0
                      },
                      {
                        "bin_start": 0.8995377844404331,
                        "bin_end": 1,
                        "count": 4
                      }
                    ]
                  }
                },
                {
                  "name": "distinct_users",
                  "dtype": "float64",
                  "stats": {
                    "unique_count": 9,
                    "nan_count": 0,
                    "min": "-0.005088469746250785",
                    "max": "1.0",
                    "histogram": [
                      {
                        "bin_start": -0.005088469746250785,
                        "bin_end": 0.09542037722837429,
                        "count": 4
                      },
                      {
                        "bin_start": 0.09542037722837429,
                        "bin_end": 0.19592922420299935,
                        "count": 0
                      },
                      {
                        "bin_start": 0.19592922420299935,
                        "bin_end": 0.29643807117762444,
                        "count": 0
                      },
                      {
                        "bin_start": 0.29643807117762444,
                        "bin_end": 0.39694691815224953,
                        "count": 0
                      },
                      {
                        "bin_start": 0.39694691815224953,
                        "bin_end": 0.4974557651268746,
                        "count": 0
                      },
                      {
                        "bin_start": 0.4974557651268746,
                        "bin_end": 0.5979646121014996,
                        "count": 0
                      },
                      {
                        "bin_start": 0.5979646121014996,
                        "bin_end": 0.6984734590761248,
                        "count": 1
                      },
                      {
                        "bin_start": 0.6984734590761248,
                        "bin_end": 0.7989823060507498,
                        "count": 0
                      },
                      {
                        "bin_start": 0.7989823060507498,
                        "bin_end": 0.8994911530253749,
                        "count": 0
                      },
                      {
                        "bin_start": 0.8994911530253749,
                        "bin_end": 1,
                        "count": 4
                      }
                    ]
                  }
                },
                {
                  "name": "conversions",
                  "dtype": "float64",
                  "stats": {
                    "unique_count": 9,
                    "nan_count": 0,
                    "min": "-0.00755430814108237",
                    "max": "1.0",
                    "histogram": [
                      {
                        "bin_start": -0.00755430814108237,
                        "bin_end": 0.09320112267302587,
                        "count": 4
                      },
                      {
                        "bin_start": 0.09320112267302587,
                        "bin_end": 0.1939565534871341,
                        "count": 0
                      },
                      {
                        "bin_start": 0.1939565534871341,
                        "bin_end": 0.29471198430124235,
                        "count": 0
                      },
                      {
                        "bin_start": 0.29471198430124235,
                        "bin_end": 0.39546741511535055,
                        "count": 0
                      },
                      {
                        "bin_start": 0.39546741511535055,
                        "bin_end": 0.49622284592945876,
                        "count": 0
                      },
                      {
                        "bin_start": 0.49622284592945876,
                        "bin_end": 0.5969782767435671,
                        "count": 0
                      },
                      {
                        "bin_start": 0.5969782767435671,
                        "bin_end": 0.6977337075576753,
                        "count": 1
                      },
                      {
                        "bin_start": 0.6977337075576753,
                        "bin_end": 0.7984891383717835,
                        "count": 0
                      },
                      {
                        "bin_start": 0.7984891383717835,
                        "bin_end": 0.8992445691858917,
                        "count": 1
                      },
                      {
                        "bin_start": 0.8992445691858917,
                        "bin_end": 1,
                        "count": 3
                      }
                    ]
                  }
                },
                {
                  "name": "bounces",
                  "dtype": "float64",
                  "stats": {
                    "unique_count": 9,
                    "nan_count": 0,
                    "min": "-0.012765691014622677",
                    "max": "1.0",
                    "histogram": [
                      {
                        "bin_start": -0.012765691014622677,
                        "bin_end": 0.0885108780868396,
                        "count": 4
                      },
                      {
                        "bin_start": 0.0885108780868396,
                        "bin_end": 0.18978744718830187,
                        "count": 0
                      },
                      {
                        "bin_start": 0.18978744718830187,
                        "bin_end": 0.2910640162897642,
                        "count": 0
                      },
                      {
                        "bin_start": 0.2910640162897642,
                        "bin_end": 0.39234058539122646,
                        "count": 0
                      },
                      {
                        "bin_start": 0.39234058539122646,
                        "bin_end": 0.4936171544926887,
                        "count": 1
                      },
                      {
                        "bin_start": 0.4936171544926887,
                        "bin_end": 0.594893723594151,
                        "count": 0
                      },
                      {
                        "bin_start": 0.594893723594151,
                        "bin_end": 0.6961702926956133,
                        "count": 0
                      },
                      {
                        "bin_start": 0.6961702926956133,
                        "bin_end": 0.7974468617970756,
                        "count": 0
                      },
                      {
                        "bin_start": 0.7974468617970756,
                        "bin_end": 0.8987234308985379,
                        "count": 1
                      },
                      {
                        "bin_start": 0.8987234308985379,
                        "bin_end": 1,
                        "count": 3
                      }
                    ]
                  }
                },
                {
                  "name": "_deepnote_index_column",
                  "dtype": "object"
                }
              ],
              "rows": [
                {
                  "conversion_rate": 1,
                  "bounce_rate": -0.13816808498754968,
                  "time_on_site": 0.30120985301739156,
                  "impressions_per_user": 0.1131794713599401,
                  "clicks_per_user": 0.04760057003229095,
                  "total_users": 0.00912725967920139,
                  "distinct_users": 0.00992636132796179,
                  "conversions": 0.01817136051497077,
                  "bounces": 0.004261999320727299,
                  "_deepnote_index_column": "conversion_rate"
                },
                {
                  "conversion_rate": -0.13816808498754968,
                  "bounce_rate": 1,
                  "time_on_site": -0.22133792038324865,
                  "impressions_per_user": -0.010858700819231326,
                  "clicks_per_user": -0.018364413101035176,
                  "total_users": -0.004622155595669835,
                  "distinct_users": -0.005088469746250785,
                  "conversions": -0.00755430814108237,
                  "bounces": 0.009989568536516063,
                  "_deepnote_index_column": "bounce_rate"
                },
                {
                  "conversion_rate": 0.30120985301739156,
                  "bounce_rate": -0.22133792038324865,
                  "time_on_site": 1,
                  "impressions_per_user": -0.014130954283799442,
                  "clicks_per_user": 0.010094606144305445,
                  "total_users": -0.0025803300647587795,
                  "distinct_users": -0.0020371867313195577,
                  "conversions": -0.0005166765455622155,
                  "bounces": -0.012765691014622677,
                  "_deepnote_index_column": "time_on_site"
                },
                {
                  "conversion_rate": 0.1131794713599401,
                  "bounce_rate": -0.010858700819231326,
                  "time_on_site": -0.014130954283799442,
                  "impressions_per_user": 1,
                  "clicks_per_user": 0.3556528676013438,
                  "total_users": 0.035445703010948314,
                  "distinct_users": 0.04166301236314637,
                  "conversions": 0.08246326860159586,
                  "bounces": 0.02333104103114909,
                  "_deepnote_index_column": "impressions_per_user"
                },
                {
                  "conversion_rate": 0.04760057003229095,
                  "bounce_rate": -0.018364413101035176,
                  "time_on_site": 0.010094606144305445,
                  "impressions_per_user": 0.3556528676013438,
                  "clicks_per_user": 1,
                  "total_users": 0.6354529863415421,
                  "distinct_users": 0.6508151921314416,
                  "conversions": 0.6620398339479745,
                  "bounces": 0.46148524126460894,
                  "_deepnote_index_column": "clicks_per_user"
                },
                {
                  "conversion_rate": 0.00912725967920139,
                  "bounce_rate": -0.004622155595669835,
                  "time_on_site": -0.0025803300647587795,
                  "impressions_per_user": 0.035445703010948314,
                  "clicks_per_user": 0.6354529863415421,
                  "total_users": 1,
                  "distinct_users": 0.9989142696051889,
                  "conversions": 0.9942384049678198,
                  "bounces": 0.9179682085019923,
                  "_deepnote_index_column": "total_users"
                },
                {
                  "conversion_rate": 0.00992636132796179,
                  "bounce_rate": -0.005088469746250785,
                  "time_on_site": -0.0020371867313195577,
                  "impressions_per_user": 0.04166301236314637,
                  "clicks_per_user": 0.6508151921314416,
                  "total_users": 0.9989142696051889,
                  "distinct_users": 1,
                  "conversions": 0.9943047815572883,
                  "bounces": 0.9018486650693698,
                  "_deepnote_index_column": "distinct_users"
                },
                {
                  "conversion_rate": 0.01817136051497077,
                  "bounce_rate": -0.00755430814108237,
                  "time_on_site": -0.0005166765455622155,
                  "impressions_per_user": 0.08246326860159586,
                  "clicks_per_user": 0.6620398339479745,
                  "total_users": 0.9942384049678198,
                  "distinct_users": 0.9943047815572883,
                  "conversions": 1,
                  "bounces": 0.8872142418253721,
                  "_deepnote_index_column": "conversions"
                },
                {
                  "conversion_rate": 0.004261999320727299,
                  "bounce_rate": 0.009989568536516063,
                  "time_on_site": -0.012765691014622677,
                  "impressions_per_user": 0.02333104103114909,
                  "clicks_per_user": 0.46148524126460894,
                  "total_users": 0.9179682085019923,
                  "distinct_users": 0.9018486650693698,
                  "conversions": 0.8872142418253721,
                  "bounces": 1,
                  "_deepnote_index_column": "bounces"
                }
              ]
            },
            "text/plain": "                      conversion_rate  bounce_rate  time_on_site  \\\nconversion_rate              1.000000    -0.138168      0.301210   \nbounce_rate                 -0.138168     1.000000     -0.221338   \ntime_on_site                 0.301210    -0.221338      1.000000   \nimpressions_per_user         0.113179    -0.010859     -0.014131   \nclicks_per_user              0.047601    -0.018364      0.010095   \ntotal_users                  0.009127    -0.004622     -0.002580   \ndistinct_users               0.009926    -0.005088     -0.002037   \nconversions                  0.018171    -0.007554     -0.000517   \nbounces                      0.004262     0.009990     -0.012766   \n\n                      impressions_per_user  clicks_per_user  total_users  \\\nconversion_rate                   0.113179         0.047601     0.009127   \nbounce_rate                      -0.010859        -0.018364    -0.004622   \ntime_on_site                     -0.014131         0.010095    -0.002580   \nimpressions_per_user              1.000000         0.355653     0.035446   \nclicks_per_user                   0.355653         1.000000     0.635453   \ntotal_users                       0.035446         0.635453     1.000000   \ndistinct_users                    0.041663         0.650815     0.998914   \nconversions                       0.082463         0.662040     0.994238   \nbounces                           0.023331         0.461485     0.917968   \n\n                      distinct_users  conversions   bounces  \nconversion_rate             0.009926     0.018171  0.004262  \nbounce_rate                -0.005088    -0.007554  0.009990  \ntime_on_site               -0.002037    -0.000517 -0.012766  \nimpressions_per_user        0.041663     0.082463  0.023331  \nclicks_per_user             0.650815     0.662040  0.461485  \ntotal_users                 0.998914     0.994238  0.917968  \ndistinct_users              1.000000     0.994305  0.901849  \nconversions                 0.994305     1.000000  0.887214  \nbounces                     0.901849     0.887214  1.000000  ",
            "text/html": "<div>\n<style scoped>\n    .dataframe tbody tr th:only-of-type {\n        vertical-align: middle;\n    }\n\n    .dataframe tbody tr th {\n        vertical-align: top;\n    }\n\n    .dataframe thead th {\n        text-align: right;\n    }\n</style>\n<table border=\"1\" class=\"dataframe\">\n  <thead>\n    <tr style=\"text-align: right;\">\n      <th></th>\n      <th>conversion_rate</th>\n      <th>bounce_rate</th>\n      <th>time_on_site</th>\n      <th>impressions_per_user</th>\n      <th>clicks_per_user</th>\n      <th>total_users</th>\n      <th>distinct_users</th>\n      <th>conversions</th>\n      <th>bounces</th>\n    </tr>\n  </thead>\n  <tbody>\n    <tr>\n      <th>conversion_rate</th>\n      <td>1.000000</td>\n      <td>-0.138168</td>\n      <td>0.301210</td>\n      <td>0.113179</td>\n      <td>0.047601</td>\n      <td>0.009127</td>\n      <td>0.009926</td>\n      <td>0.018171</td>\n      <td>0.004262</td>\n    </tr>\n    <tr>\n      <th>bounce_rate</th>\n      <td>-0.138168</td>\n      <td>1.000000</td>\n      <td>-0.221338</td>\n      <td>-0.010859</td>\n      <td>-0.018364</td>\n      <td>-0.004622</td>\n      <td>-0.005088</td>\n      <td>-0.007554</td>\n      <td>0.009990</td>\n    </tr>\n    <tr>\n      <th>time_on_site</th>\n      <td>0.301210</td>\n      <td>-0.221338</td>\n      <td>1.000000</td>\n      <td>-0.014131</td>\n      <td>0.010095</td>\n      <td>-0.002580</td>\n      <td>-0.002037</td>\n      <td>-0.000517</td>\n      <td>-0.012766</td>\n    </tr>\n    <tr>\n      <th>impressions_per_user</th>\n      <td>0.113179</td>\n      <td>-0.010859</td>\n      <td>-0.014131</td>\n      <td>1.000000</td>\n      <td>0.355653</td>\n      <td>0.035446</td>\n      <td>0.041663</td>\n      <td>0.082463</td>\n      <td>0.023331</td>\n    </tr>\n    <tr>\n      <th>clicks_per_user</th>\n      <td>0.047601</td>\n      <td>-0.018364</td>\n      <td>0.010095</td>\n      <td>0.355653</td>\n      <td>1.000000</td>\n      <td>0.635453</td>\n      <td>0.650815</td>\n      <td>0.662040</td>\n      <td>0.461485</td>\n    </tr>\n    <tr>\n      <th>total_users</th>\n      <td>0.009127</td>\n      <td>-0.004622</td>\n      <td>-0.002580</td>\n      <td>0.035446</td>\n      <td>0.635453</td>\n      <td>1.000000</td>\n      <td>0.998914</td>\n      <td>0.994238</td>\n      <td>0.917968</td>\n    </tr>\n    <tr>\n      <th>distinct_users</th>\n      <td>0.009926</td>\n      <td>-0.005088</td>\n      <td>-0.002037</td>\n      <td>0.041663</td>\n      <td>0.650815</td>\n      <td>0.998914</td>\n      <td>1.000000</td>\n      <td>0.994305</td>\n      <td>0.901849</td>\n    </tr>\n    <tr>\n      <th>conversions</th>\n      <td>0.018171</td>\n      <td>-0.007554</td>\n      <td>-0.000517</td>\n      <td>0.082463</td>\n      <td>0.662040</td>\n      <td>0.994238</td>\n      <td>0.994305</td>\n      <td>1.000000</td>\n      <td>0.887214</td>\n    </tr>\n    <tr>\n      <th>bounces</th>\n      <td>0.004262</td>\n      <td>0.009990</td>\n      <td>-0.012766</td>\n      <td>0.023331</td>\n      <td>0.461485</td>\n      <td>0.917968</td>\n      <td>0.901849</td>\n      <td>0.887214</td>\n      <td>1.000000</td>\n    </tr>\n  </tbody>\n</table>\n</div>"
          },
          "metadata": {}
        }
      ],
      "execution_count": 82,
      "block_group": "9b998558a1a9491f9fc2e048ae8b5a3d"
    },
    {
      "cell_type": "code",
      "source": "import seaborn as sns\nimport matplotlib.pyplot as plt\n\n# Calculate correlations\ncorr = additional_metrics.corr()\ncorr.conversion_rate.sort_values(ascending=False)",
      "metadata": {
        "source_hash": "80389063",
        "execution_start": 1701634764722,
        "execution_millis": 28,
        "deepnote_table_state": {
          "sortBy": [
            {
              "id": "conversion_rate",
              "type": "desc"
            }
          ],
          "filters": [],
          "pageSize": 10,
          "pageIndex": 0
        },
        "deepnote_table_loading": false,
        "deepnote_to_be_reexecuted": false,
        "cell_id": "a88bd28bef224d28b838bacf8898ca0e",
        "deepnote_cell_type": "code"
      },
      "outputs": [
        {
          "output_type": "execute_result",
          "execution_count": 94,
          "data": {
            "text/plain": "conversion_rate         1.000000\ntime_on_site            0.301210\nimpressions_per_user    0.113179\nclicks_per_user         0.047601\nconversions             0.018171\ndistinct_users          0.009926\ntotal_users             0.009127\nbounces                 0.004262\nbounce_rate            -0.138168\nName: conversion_rate, dtype: float64"
          },
          "metadata": {}
        }
      ],
      "execution_count": 94,
      "block_group": "fc24d039b1194b9598edab7707a8df1c"
    },
    {
      "cell_type": "markdown",
      "source": "From the Correlation Matrix, we can derive the following insights:\n\n1. 'Conversion Rate' is strongly positively correlated with 'Time on Site'. This implies that users spending more time on the site are more likely to convert. This makes intuitive sense as users who spend more time on the site are likely more engaged and thus more likely to make a purchase or complete a desired action.\n\n2. 'Impressions Per User' has a moderate positive correlation with 'Conversion Rate'. This implies that as the user views more ads, they tend to click on ads more often.",
      "metadata": {
        "formattedRanges": [],
        "cell_id": "f800bbb36c664d72b6aed6ead58bf5a9",
        "deepnote_cell_type": "text-cell-p"
      },
      "block_group": "9250c313a6974c5da78d43e4ae78198e"
    },
    {
      "cell_type": "markdown",
      "source": "2. 'Bounce Rate' has a strong negative correlation with 'Time on Site'. This means that the longer users stay on the site, the less likely they are to bounce.\n\n\nThis correlation matrix provides insights into the relationships between different metrics, which can help in understanding user behavior and creating effective marketing strategies. For example, strategies can be made to increase user engagement and time spent on the site to increase conversions, or efforts can be made to reduce bounce rates, which can also potentially lead to higher conversions.",
      "metadata": {
        "formattedRanges": [],
        "cell_id": "ae19423048b145429eda4636715b8227",
        "deepnote_cell_type": "text-cell-p"
      },
      "block_group": "585bfe1b5be047769a78154925f4008b"
    },
    {
      "cell_type": "markdown",
      "source": "<a style='text-decoration:none;line-height:16px;display:flex;color:#5B5B62;padding:10px;justify-content:end;' href='https://deepnote.com?utm_source=created-in-deepnote-cell&projectId=e6cabd9c-7692-40d3-ab2f-2445a60671be' target=\"_blank\">\n<img alt='Created in deepnote.com' style='display:inline;max-height:16px;margin:0px;margin-right:7.5px;' src='data:image/svg+xml;base64,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' > </img>\nCreated in <span style='font-weight:600;margin-left:4px;'>Deepnote</span></a>",
      "metadata": {
        "created_in_deepnote_cell": true,
        "deepnote_cell_type": "markdown"
      }
    }
  ],
  "nbformat": 4,
  "nbformat_minor": 0,
  "metadata": {
    "deepnote": {},
    "orig_nbformat": 2,
    "deepnote_app_width": "full-width",
    "deepnote_app_layout": "powerful-article",
    "deepnote_notebook_id": "1367e718748949a2a4e0826e555726c0",
    "deepnote_app_clear_outputs": false,
    "deepnote_persisted_session": {
      "createdAt": "2023-12-03T15:00:19.844Z"
    },
    "deepnote_app_table_of_contents_enabled": false,
    "deepnote_app_hide_all_code_blocks_enabled": false,
    "deepnote_execution_queue": []
  }
}